{
 "cells": [
  {
   "cell_type": "markdown",
   "metadata": {
    "colab_type": "text",
    "id": "pSWbtkNui3qH"
   },
   "source": [
    "**What is Exception and what is exception handling ?**\n",
    "\n",
    "An exception is an event, which occurs during the execution of a program that disrupts the normal execution of the code.\n",
    "The block of code where the chance of generating exception must be handled by programmer before excution of the code, known as exception handling.\n"
   ]
  },
  {
   "cell_type": "code",
   "execution_count": 1,
   "metadata": {
    "colab": {
     "base_uri": "https://localhost:8080/",
     "height": 54
    },
    "colab_type": "code",
    "executionInfo": {
     "elapsed": 2677,
     "status": "ok",
     "timestamp": 1574339416994,
     "user": {
      "displayName": "bheem kumar",
      "photoUrl": "https://lh3.googleusercontent.com/a-/AAuE7mDCx24nBXj8t-exydQqWCz_3_2Fr8UREB6_UTXj=s64",
      "userId": "16514217920437432713"
     },
     "user_tz": -330
    },
    "id": "HqBqwDvFLDaO",
    "outputId": "461a0665-bd78-488c-d57b-069841478d40"
   },
   "outputs": [
    {
     "data": {
      "text/plain": [
       "'\\n\\nCommon Exceptions\\n\\nA list of common exceptions that can be thrown from a normal python program is given below.\\n\\nZeroDivisionError: Occurs when a number is divided by zero.\\n\\nNameError: It occurs when a name is not found. It may be local or global.\\n\\nIndentationError: If incorrect indentation is given.\\n\\nIOError: It occurs when Input Output operation fails.\\n\\nEOFError: It occurs when the end of the file is reached, and yet operations are being performed.\\n\\n'"
      ]
     },
     "execution_count": 1,
     "metadata": {
      "tags": []
     },
     "output_type": "execute_result"
    }
   ],
   "source": [
    "\"\"\"\n",
    "\n",
    "Common Exceptions\n",
    "\n",
    "A list of common exceptions that can be thrown from a normal python program is given below.\n",
    "\n",
    "ZeroDivisionError: Occurs when a number is divided by zero.\n",
    "\n",
    "NameError: It occurs when a name is not found. It may be local or global.\n",
    "\n",
    "IndentationError: If incorrect indentation is given.\n",
    "\n",
    "IOError: It occurs when Input Output operation fails.\n",
    "\n",
    "EOFError: It occurs when the end of the file is reached, and yet operations are being performed.\n",
    "\n",
    "\"\"\"\n"
   ]
  },
  {
   "cell_type": "markdown",
   "metadata": {
    "colab_type": "text",
    "id": "m7I8aJYgjpQB"
   },
   "source": [
    "**Common Exceptions**\n",
    "\n",
    "A list of common exceptions that can be thrown from a normal python program is given below.\n",
    "\n",
    "**ZeroDivisionError :*** Occurs when a number is divided by zero.\n",
    "\n",
    "**NameError :** It occurs when a name is not found. It may be local or global.\n",
    "\n",
    "**IndentationError :** If incorrect indentation is given.\n",
    "\n",
    "**IOError :** It occurs when Input Output operation fails.\n",
    "\n",
    "**EOFError :** It occurs when the end of the file is reached, and yet operations are being performed.\n"
   ]
  },
  {
   "cell_type": "markdown",
   "metadata": {
    "colab_type": "text",
    "id": "ddDwje2Um4e0"
   },
   "source": [
    "\n",
    "\n",
    "\n",
    "\n",
    "**Types of exception in python.**\n",
    "\n",
    "1. Exception\n",
    "\n",
    "Base class for all exceptions\n",
    "\n",
    "__2. StopIteration\n",
    "\n",
    "Raised when the next() method of an iterator does not point to any object.\n",
    "\n",
    "3. SystemExit\n",
    "\n",
    "Raised by the sys.exit() function.\n",
    "\n",
    "4. StandardError\n",
    "\n",
    "Base class for all built-in exceptions except StopIteration and SystemExit.\n",
    "\n",
    "5. ArithmeticError\n",
    "\n",
    "Base class for all errors that occur for numeric calculation.\n",
    "\n",
    "__6. OverflowError\n",
    "\n",
    "Raised when a calculation exceeds maximum limit for a numeric type.\n",
    "\n",
    "7. FloatingPointError\n",
    "\n",
    "Raised when a floating point calculation fails.\n",
    "\n",
    "__8. ZeroDivisionError\n",
    "\n",
    "Raised when division or modulo by zero takes place for all numeric types.\n",
    "\n",
    "__9. AssertionError\n",
    "\n",
    "Raised in case of failure of the Assert statement.\n",
    "\n",
    "___10. AttributeError\n",
    "\n",
    "Raised in case of failure of attribute reference or assignment.\n",
    "\n",
    "11. EOFError\n",
    "\n",
    "Raised when there is no input from either the raw_input() or input() function and the end of file is reached.\n",
    "\n",
    "__12. ImportError\n",
    "\n",
    "Raised when an import statement fails.\n",
    "\n",
    "13. KeyboardInterrupt\n",
    "\n",
    "Raised when the user interrupts program execution, usually by pressing Ctrl+c.\n",
    "\n",
    "14. LookupError\n",
    "\n",
    "Base class for all lookup errors.\n",
    "\n",
    "__15. IndexError\n",
    "\n",
    "Raised when an index is not found in a sequence.\n",
    "\n",
    "__16. KeyError\n",
    "\n",
    "Raised when the specified key is not found in the dictionary.\n",
    "\n",
    "__17. NameError\n",
    "\n",
    "Raised when an identifier is not found in the local or global namespace.\n",
    "\n",
    "__18. UnboundLocalError\n",
    "\n",
    "Raised when trying to access a local variable in a function or method but no value has been assigned to it.\n",
    "\n",
    "19. EnvironmentError\n",
    "\n",
    "Base class for all exceptions that occur outside the Python environment.\n",
    "\n",
    "20. IOError\n",
    "\n",
    "Raised when an input/ output operation fails, such as the print statement or the open() function when trying to open a file that does not exist.\n",
    "\n",
    "___21. IOError\n",
    "\n",
    "Raised for operating system-related errors.\n",
    "\n",
    "___22. SyntaxError\n",
    "\n",
    "Raised when there is an error in Python syntax.\n",
    "\n",
    "23. IndentationError\n",
    "\n",
    "Raised when indentation is not specified properly.\n",
    "\n",
    "24. SystemError\n",
    "\n",
    "Raised when the interpreter finds an internal problem, but when this error is encountered the Python interpreter does not exit.\n",
    "\n",
    "25. SystemExit\n",
    "\n",
    "Raised when Python interpreter is quit by using the sys.exit() function. If not handled in the code, causes the interpreter to exit.\n",
    "\n",
    "__26. TypeError\n",
    "\n",
    "Raised when an operation or function is attempted that is invalid for the specified data type.\n",
    "\n",
    "__27. ValueError\n",
    "\n",
    "Raised when the built-in function for a data type has the valid type of arguments, but the arguments have invalid values specified.\n",
    "\n",
    "28. RuntimeError\n",
    "\n",
    "Raised when a generated error does not fall into any category.\n",
    "\n",
    "29. NotImplementedError\n",
    "\n",
    "Raised when an abstract method that needs to be implemented in an inherited class is not actually implemented.\n"
   ]
  },
  {
   "cell_type": "markdown",
   "metadata": {
    "colab_type": "text",
    "id": "OnIA-7NoK55f"
   },
   "source": [
    "\n",
    "\n",
    "```\n",
    "BaseException ✅\n",
    " +-- SystemExit ✅\n",
    " +-- KeyboardInterrupt ✅\n",
    " +-- GeneratorExit ✅\n",
    " +-- Exception ✅\n",
    "      +-- StopIteration ✅\n",
    "      +-- StopAsyncIteration \n",
    "      +-- ArithmeticError ✅\n",
    "      |    +-- FloatingPointError \n",
    "      |    +-- OverflowError ✅\n",
    "      |    +-- ZeroDivisionError ✅\n",
    "      +-- AssertionError ✅\n",
    "      +-- AttributeError ✅\n",
    "      +-- BufferError \n",
    "      +-- EOFError \n",
    "      +-- ImportError ✅\n",
    "      |    +-- ModuleNotFoundError ✅ \n",
    "      +-- LookupError ✅\n",
    "      |    +-- IndexError ✅\n",
    "      |    +-- KeyError ✅ \n",
    "      +-- MemoryError \n",
    "      +-- NameError ✅\n",
    "      |    +-- UnboundLocalError ✅ \n",
    "      +-- OSError ✅\n",
    "      |    +-- BlockingIOError\n",
    "      |    +-- ChildProcessError\n",
    "      |    +-- ConnectionError\n",
    "      |    |    +-- BrokenPipeError\n",
    "      |    |    +-- ConnectionAbortedError\n",
    "      |    |    +-- ConnectionRefusedError\n",
    "      |    |    +-- ConnectionResetError\n",
    "      |    +-- FileExistsError\n",
    "      |    +-- FileNotFoundError ✅ \n",
    "      |    +-- InterruptedError\n",
    "      |    +-- IsADirectoryError\n",
    "      |    +-- NotADirectoryError\n",
    "      |    +-- PermissionError\n",
    "      |    +-- ProcessLookupError\n",
    "      |    +-- TimeoutError\n",
    "      +-- ReferenceError ✅\n",
    "      +-- RuntimeError ✅\n",
    "      |    +-- NotImplementedError\n",
    "      |    +-- RecursionError ✅\n",
    "      +-- SyntaxError\n",
    "      |    +-- IndentationError\n",
    "      |         +-- TabError\n",
    "      +-- SystemError\n",
    "      +-- TypeError ✅\n",
    "      +-- ValueError ✅\n",
    "      |    +-- UnicodeError\n",
    "      |         +-- UnicodeDecodeError\n",
    "      |         +-- UnicodeEncodeError\n",
    "      |         +-- UnicodeTranslateError\n",
    "      +-- Warning\n",
    "           +-- DeprecationWarning\n",
    "           +-- PendingDeprecationWarning\n",
    "           +-- RuntimeWarning\n",
    "           +-- SyntaxWarning\n",
    "           +-- UserWarning\n",
    "           +-- FutureWarning\n",
    "           +-- ImportWarning\n",
    "           +-- UnicodeWarning\n",
    "           +-- BytesWarning\n",
    "           +-- ResourceWarning\n",
    "\n",
    "For information go to this link:-\n",
    "https://docs.python.org/3.6/library/exceptions.html#FloatingPointError\n",
    "```"
   ]
  },
  {
   "cell_type": "code",
   "execution_count": 2,
   "metadata": {
    "colab": {
     "base_uri": "https://localhost:8080/",
     "height": 34
    },
    "colab_type": "code",
    "executionInfo": {
     "elapsed": 2662,
     "status": "ok",
     "timestamp": 1574339416997,
     "user": {
      "displayName": "bheem kumar",
      "photoUrl": "https://lh3.googleusercontent.com/a-/AAuE7mDCx24nBXj8t-exydQqWCz_3_2Fr8UREB6_UTXj=s64",
      "userId": "16514217920437432713"
     },
     "user_tz": -330
    },
    "id": "QBkL5zaQ-cbF",
    "outputId": "d561d34a-65ea-4f21-ea27-d491feecd6da"
   },
   "outputs": [
    {
     "name": "stdout",
     "output_type": "stream",
     "text": [
      "Output : 'ZeroDivisionError' occured. Attempted to divide by zero, Exception handled.\n"
     ]
    }
   ],
   "source": [
    "\"\"\"\n",
    "\n",
    "Write a script which handle 'ZeroDivisionError' exception.\n",
    "\n",
    "Input:--\n",
    "\n",
    "    a = 5\n",
    "    b = 0\n",
    "\n",
    "Output:--\n",
    "    \n",
    "    'ZeroDivisionError' occured. Attempted to divide by zero, Exception handled.\n",
    "\n",
    "\"\"\"\n",
    "\n",
    "a = 5\n",
    "b = 0\n",
    "\n",
    "try:\n",
    "  \n",
    "    c = a / b\n",
    "    \n",
    "except ZeroDivisionError:\n",
    "  \n",
    "    print(\"Output : 'ZeroDivisionError' occured. Attempted to divide by zero, Exception handled.\")\n",
    "    "
   ]
  },
  {
   "cell_type": "code",
   "execution_count": 3,
   "metadata": {
    "colab": {
     "base_uri": "https://localhost:8080/",
     "height": 34
    },
    "colab_type": "code",
    "executionInfo": {
     "elapsed": 2652,
     "status": "ok",
     "timestamp": 1574339416998,
     "user": {
      "displayName": "bheem kumar",
      "photoUrl": "https://lh3.googleusercontent.com/a-/AAuE7mDCx24nBXj8t-exydQqWCz_3_2Fr8UREB6_UTXj=s64",
      "userId": "16514217920437432713"
     },
     "user_tz": -330
    },
    "id": "gcAoP_RNz5Ax",
    "outputId": "df8caef0-5ae1-4dd5-ffe7-95f5229fbc45"
   },
   "outputs": [
    {
     "name": "stdout",
     "output_type": "stream",
     "text": [
      "Output : 'OverflowError' occured. Attempted to use power value out of limit, Exception handled.\n"
     ]
    }
   ],
   "source": [
    "\"\"\"\n",
    "\n",
    "Write a script to handle the 'OverflowError' exception.\n",
    "\n",
    "Output:--\n",
    "    \n",
    "    'OverflowError' occured. Attempted to use power value out of limit, Exception handled.\n",
    "\n",
    "\"\"\"\n",
    "\n",
    "import math\n",
    "\n",
    "try:\n",
    "  \n",
    "  math.exp(1000)\n",
    "  \n",
    "except OverflowError:\n",
    "\n",
    "  print(\"Output : 'OverflowError' occured. Attempted to use power value out of limit, Exception handled.\")\n"
   ]
  },
  {
   "cell_type": "code",
   "execution_count": 4,
   "metadata": {
    "colab": {
     "base_uri": "https://localhost:8080/",
     "height": 34
    },
    "colab_type": "code",
    "executionInfo": {
     "elapsed": 2646,
     "status": "ok",
     "timestamp": 1574339416999,
     "user": {
      "displayName": "bheem kumar",
      "photoUrl": "https://lh3.googleusercontent.com/a-/AAuE7mDCx24nBXj8t-exydQqWCz_3_2Fr8UREB6_UTXj=s64",
      "userId": "16514217920437432713"
     },
     "user_tz": -330
    },
    "id": "xs3c0wEGAV9-",
    "outputId": "25eb55d0-5927-4009-ed11-e297ff6177aa"
   },
   "outputs": [
    {
     "data": {
      "text/plain": [
       "'\\n\\nWrite a script to handle the \\'FloatingPointError\\' Excepton.\" \\n\\n'"
      ]
     },
     "execution_count": 4,
     "metadata": {
      "tags": []
     },
     "output_type": "execute_result"
    }
   ],
   "source": [
    "\"\"\"\n",
    "\n",
    "Write a script to handle the 'FloatingPointError' Excepton.\" \n",
    "\n",
    "\"\"\"\n",
    "\n",
    "# To handle 'FloatingPointError' Excepton we need 'fpectl' module. By default it's.\n",
    "# not installed in system you have to install explicitly.\n",
    "# For more info visit the folowing links.\n",
    "# https://docs.python.org/3.6/library/fpectl.html#module-fpectl\n",
    "# https://airbrake.io/blog/python-exception-handling/floatingpointerror"
   ]
  },
  {
   "cell_type": "code",
   "execution_count": 5,
   "metadata": {
    "colab": {
     "base_uri": "https://localhost:8080/",
     "height": 34
    },
    "colab_type": "code",
    "executionInfo": {
     "elapsed": 2637,
     "status": "ok",
     "timestamp": 1574339417000,
     "user": {
      "displayName": "bheem kumar",
      "photoUrl": "https://lh3.googleusercontent.com/a-/AAuE7mDCx24nBXj8t-exydQqWCz_3_2Fr8UREB6_UTXj=s64",
      "userId": "16514217920437432713"
     },
     "user_tz": -330
    },
    "id": "GwGuw7qb7auA",
    "outputId": "a676dde4-49f8-4895-ec24-c556cc1851f7"
   },
   "outputs": [
    {
     "name": "stdout",
     "output_type": "stream",
     "text": [
      "Output : 'ModuleNotFoundError' occured. Attempted to import non-exist library, Exception handled.\n"
     ]
    }
   ],
   "source": [
    "\"\"\"\n",
    "\n",
    "Write a script which handle the 'ModuleNotFoundError' exception when imported library is not found.\n",
    "\n",
    "Output:--\n",
    "    \n",
    "    'ModuleNotFoundError' occured. Attempted to import non-exist library, Exception handled.\n",
    "    \n",
    "\"\"\"\n",
    "\n",
    "try:\n",
    "  \n",
    "    import fpectal\n",
    "  \n",
    "except ModuleNotFoundError:\n",
    "  \n",
    "    print(\"Output : 'ModuleNotFoundError' occured. Attempted to import non-exist library, Exception handled.\")\n"
   ]
  },
  {
   "cell_type": "code",
   "execution_count": 6,
   "metadata": {
    "colab": {
     "base_uri": "https://localhost:8080/",
     "height": 34
    },
    "colab_type": "code",
    "executionInfo": {
     "elapsed": 2625,
     "status": "ok",
     "timestamp": 1574339417000,
     "user": {
      "displayName": "bheem kumar",
      "photoUrl": "https://lh3.googleusercontent.com/a-/AAuE7mDCx24nBXj8t-exydQqWCz_3_2Fr8UREB6_UTXj=s64",
      "userId": "16514217920437432713"
     },
     "user_tz": -330
    },
    "id": "DwsaiZYR9Dvn",
    "outputId": "1e0d7561-0923-4704-f435-0f336868cb33"
   },
   "outputs": [
    {
     "name": "stdout",
     "output_type": "stream",
     "text": [
      "Output : 'IndexError' occured. Attempted to use index out of scope, Exception handled.\n"
     ]
    }
   ],
   "source": [
    "\"\"\"\n",
    "\n",
    "Write a script which handle the 'IndexError' exception when we try to access out of index.\n",
    "\n",
    "Input:--\n",
    "    \n",
    "    list1 = [1, 2, 3, 4, 5]\n",
    "\n",
    "Output:--\n",
    "\n",
    "    'IndexError' occured. Attempted to use index out of scope, Exception handled.\n",
    "    \n",
    "\"\"\"\n",
    "\n",
    "list1 = [1, 2, 3, 4, 5]\n",
    "\n",
    "try:\n",
    "  \n",
    "  print(list1[8])\n",
    "  \n",
    "except IndexError:\n",
    "  \n",
    "  print(\"Output : 'IndexError' occured. Attempted to use index out of scope, Exception handled.\")\n"
   ]
  },
  {
   "cell_type": "code",
   "execution_count": 7,
   "metadata": {
    "colab": {
     "base_uri": "https://localhost:8080/",
     "height": 34
    },
    "colab_type": "code",
    "executionInfo": {
     "elapsed": 2615,
     "status": "ok",
     "timestamp": 1574339417001,
     "user": {
      "displayName": "bheem kumar",
      "photoUrl": "https://lh3.googleusercontent.com/a-/AAuE7mDCx24nBXj8t-exydQqWCz_3_2Fr8UREB6_UTXj=s64",
      "userId": "16514217920437432713"
     },
     "user_tz": -330
    },
    "id": "bkuSM3Ut4mQj",
    "outputId": "f324f197-abff-410e-ab1e-a2cf3f22e7d9"
   },
   "outputs": [
    {
     "name": "stdout",
     "output_type": "stream",
     "text": [
      "Output : 'KeyError' occured. Attempted to access non-exist key of dictionary, Exception handled.\n"
     ]
    }
   ],
   "source": [
    "\"\"\"\n",
    "\n",
    "Write a script that handle the 'KeyError' exception when key not found in dictionary.\n",
    "\n",
    "Input:--\n",
    "    \n",
    "    dict1 = {'amar':78, 'akbar':89, 'anthony':98}\n",
    "\n",
    "Output:--\n",
    "\n",
    "    'KeyError' occured. Attempted to access non-exist key of dictionary, Exception handled.\n",
    "\n",
    "\"\"\"\n",
    "\n",
    "dictionary = {'amar':78, 'akbar':89, 'anthony':98}\n",
    "\n",
    "try:\n",
    "  \n",
    "    print( dictionary['akbr'])\n",
    "  \n",
    "except KeyError:\n",
    "  \n",
    "    print(\"Output : 'KeyError' occured. Attempted to access non-exist key of dictionary, Exception handled.\")\n",
    "    "
   ]
  },
  {
   "cell_type": "code",
   "execution_count": 8,
   "metadata": {
    "colab": {
     "base_uri": "https://localhost:8080/",
     "height": 34
    },
    "colab_type": "code",
    "executionInfo": {
     "elapsed": 2604,
     "status": "ok",
     "timestamp": 1574339417002,
     "user": {
      "displayName": "bheem kumar",
      "photoUrl": "https://lh3.googleusercontent.com/a-/AAuE7mDCx24nBXj8t-exydQqWCz_3_2Fr8UREB6_UTXj=s64",
      "userId": "16514217920437432713"
     },
     "user_tz": -330
    },
    "id": "x7kkbYKuA6tS",
    "outputId": "194200e7-2e0d-41ae-84dd-dd919a5e1bd9"
   },
   "outputs": [
    {
     "name": "stdout",
     "output_type": "stream",
     "text": [
      "Output : 'UnboundLocalError' occured. Attempted to use Unbounded local variable.\n"
     ]
    }
   ],
   "source": [
    "\"\"\"\n",
    "\n",
    "Write a script which handle the 'UnboundLocalError' exception when we access undefined local variable.\n",
    "\n",
    "Input:--\n",
    "\n",
    "    x = 10\n",
    "\n",
    "Output:--\n",
    "    \n",
    "   'UnboundLocalError' occured. Attempted to use Unbounded local variable.\n",
    "\n",
    "\"\"\"\n",
    "\n",
    "x = 10\n",
    "\n",
    "try:\n",
    "\n",
    "    def foo():\n",
    "\n",
    "        x += 10\n",
    "        print(x)\n",
    "\n",
    "    foo()\n",
    "\n",
    "except UnboundLocalError:\n",
    "\n",
    "    print(\"Output : 'UnboundLocalError' occured. Attempted to use Unbounded local variable.\")\n"
   ]
  },
  {
   "cell_type": "code",
   "execution_count": 9,
   "metadata": {
    "colab": {
     "base_uri": "https://localhost:8080/",
     "height": 34
    },
    "colab_type": "code",
    "executionInfo": {
     "elapsed": 2598,
     "status": "ok",
     "timestamp": 1574339417007,
     "user": {
      "displayName": "bheem kumar",
      "photoUrl": "https://lh3.googleusercontent.com/a-/AAuE7mDCx24nBXj8t-exydQqWCz_3_2Fr8UREB6_UTXj=s64",
      "userId": "16514217920437432713"
     },
     "user_tz": -330
    },
    "id": "Wb9P8SKnFrHh",
    "outputId": "27ace02d-9950-4cf7-f59f-0e69adbda687"
   },
   "outputs": [
    {
     "name": "stdout",
     "output_type": "stream",
     "text": [
      "Output : 'FileNotFoundError' occured. Attempted to read non-exist file, Exception handled.\n"
     ]
    }
   ],
   "source": [
    "\"\"\"\n",
    "\n",
    "Write a script to handle the 'FileNotFoundError' exception when file not found.\n",
    "\n",
    "Inputs:--\n",
    "    \n",
    "    fileptr = open(\"file.txt\",\"r\")\n",
    "\n",
    "Output:--\n",
    "    \n",
    "    'FileNotFoundError' occured. Attempted to read non-exist file, Exception handled.\n",
    "    \n",
    "\"\"\"\n",
    "\n",
    "try:  \n",
    "  \n",
    "    # This will throw an exception if the file doesn't exist.   \n",
    "    fileptr = open(\"file.txt\",\"r\")  \n",
    "    \n",
    "except FileNotFoundError as e:\n",
    "\n",
    "    print(\"Output : 'FileNotFoundError' occured. Attempted to read non-exist file, Exception handled.\")  \n",
    "    "
   ]
  },
  {
   "cell_type": "code",
   "execution_count": 10,
   "metadata": {
    "colab": {
     "base_uri": "https://localhost:8080/",
     "height": 34
    },
    "colab_type": "code",
    "executionInfo": {
     "elapsed": 2588,
     "status": "ok",
     "timestamp": 1574339417008,
     "user": {
      "displayName": "bheem kumar",
      "photoUrl": "https://lh3.googleusercontent.com/a-/AAuE7mDCx24nBXj8t-exydQqWCz_3_2Fr8UREB6_UTXj=s64",
      "userId": "16514217920437432713"
     },
     "user_tz": -330
    },
    "id": "aD-GXIMiLupf",
    "outputId": "0c3aa663-9b47-41d8-a1ee-106410deb664"
   },
   "outputs": [
    {
     "name": "stdout",
     "output_type": "stream",
     "text": [
      "Output : 'RecursionError' Occuredd. Attempted too much recursion, Exception handled.\n"
     ]
    }
   ],
   "source": [
    "\"\"\"\n",
    "\n",
    "Write a script to handle the 'RecursionError' Exception.\n",
    "\n",
    "NOTE : Create a recursion function to find the factorial of given number.\n",
    "\n",
    "Input:--\n",
    "\n",
    "    number = 100000\n",
    "\n",
    "Output:--\n",
    "\n",
    "    'RecursionError' Occuredd. Attempted too much Recursion, Exception handled.\n",
    "\n",
    "\"\"\"\n",
    "\n",
    "def fact(a):\n",
    "\n",
    "    if a == 1:\n",
    "\n",
    "        return a\n",
    "    else:\n",
    "\n",
    "        return a * fact(a-1)\n",
    "\n",
    "num = 100000\n",
    "\n",
    "try:  \n",
    "\n",
    "    print(fact(num))\n",
    "\n",
    "except RecursionError: \n",
    "\n",
    "    print(\"Output : 'RecursionError' Occuredd. Attempted too much recursion, Exception handled.\")\n"
   ]
  },
  {
   "cell_type": "code",
   "execution_count": 11,
   "metadata": {
    "colab": {
     "base_uri": "https://localhost:8080/",
     "height": 136
    },
    "colab_type": "code",
    "executionInfo": {
     "elapsed": 2579,
     "status": "ok",
     "timestamp": 1574339417009,
     "user": {
      "displayName": "bheem kumar",
      "photoUrl": "https://lh3.googleusercontent.com/a-/AAuE7mDCx24nBXj8t-exydQqWCz_3_2Fr8UREB6_UTXj=s64",
      "userId": "16514217920437432713"
     },
     "user_tz": -330
    },
    "id": "Jw7Wk4bYe0c2",
    "outputId": "721ba986-51b0-4b44-db84-6bea5ed85024"
   },
   "outputs": [
    {
     "name": "stdout",
     "output_type": "stream",
     "text": [
      "Output:--\n",
      "\n",
      "This is printed first\n",
      "This is printed second\n",
      "This is printed at last\n",
      "\n",
      "'StopIteration' Error occured. Attempted to use too many times my_gen() generator, Exception handled.\n"
     ]
    }
   ],
   "source": [
    "\"\"\"\n",
    "\n",
    "Write a script to handle 'StopIteration' exception.\n",
    "\n",
    "Input:--\n",
    "\n",
    "    n = 1\n",
    "\n",
    "Output:--\n",
    "\n",
    "    This is printed first\n",
    "    This is printed second\n",
    "    This is printed at last\n",
    "\n",
    "    'StopIteration' Error occured. Attempted to use too many times my_gen() generator, Exception handled.\n",
    "\n",
    "\"\"\"\n",
    "\n",
    "# A simple generator function\n",
    "def my_gen():\n",
    "\n",
    "    n = 1\n",
    "    print('Output:--\\n\\nThis is printed first')\n",
    "\n",
    "    # Generator function contains yield statements\n",
    "    yield n\n",
    "\n",
    "    n += 1\n",
    "    print('This is printed second')\n",
    "    yield n\n",
    "\n",
    "    n += 1\n",
    "    print('This is printed at last')\n",
    "    yield n\n",
    "    \n",
    "try:\n",
    "\n",
    "    a = my_gen()\n",
    "    while(True):\n",
    "        \n",
    "        next(a)\n",
    "\n",
    "except StopIteration:\n",
    "\n",
    "  print(\"\\n'StopIteration' Error occured. Attempted to use too many times my_gen() generator, Exception handled.\")"
   ]
  },
  {
   "cell_type": "code",
   "execution_count": 12,
   "metadata": {
    "colab": {
     "base_uri": "https://localhost:8080/",
     "height": 34
    },
    "colab_type": "code",
    "executionInfo": {
     "elapsed": 2566,
     "status": "ok",
     "timestamp": 1574339417010,
     "user": {
      "displayName": "bheem kumar",
      "photoUrl": "https://lh3.googleusercontent.com/a-/AAuE7mDCx24nBXj8t-exydQqWCz_3_2Fr8UREB6_UTXj=s64",
      "userId": "16514217920437432713"
     },
     "user_tz": -330
    },
    "id": "vv9vM7SrHV5m",
    "outputId": "282bb745-534c-43ec-c845-d790fe913579"
   },
   "outputs": [
    {
     "name": "stdout",
     "output_type": "stream",
     "text": [
      "Output : 'ArithmeticError' occured. Exception handled.\n"
     ]
    }
   ],
   "source": [
    "\"\"\"\n",
    "\n",
    "Write a script to handle the 'ArithmeticError' exception.\n",
    "\n",
    "Inputs:--\n",
    "    \n",
    "    a = 10\n",
    "    b = 0\n",
    "\n",
    "Output:--\n",
    "    \n",
    "    'ArithmeticError' occured. Exception handled.\n",
    "    \n",
    "\"\"\"\n",
    "\n",
    "try:  \n",
    "  \n",
    "    raise FloatingPointError\n",
    "    \n",
    "except ArithmeticError:\n",
    "\n",
    "    print(\"Output : 'ArithmeticError' occured. Exception handled.\")  \n",
    "    "
   ]
  },
  {
   "cell_type": "code",
   "execution_count": 13,
   "metadata": {
    "colab": {
     "base_uri": "https://localhost:8080/",
     "height": 136
    },
    "colab_type": "code",
    "executionInfo": {
     "elapsed": 2556,
     "status": "ok",
     "timestamp": 1574339417011,
     "user": {
      "displayName": "bheem kumar",
      "photoUrl": "https://lh3.googleusercontent.com/a-/AAuE7mDCx24nBXj8t-exydQqWCz_3_2Fr8UREB6_UTXj=s64",
      "userId": "16514217920437432713"
     },
     "user_tz": -330
    },
    "id": "jp17ZovW4DkI",
    "outputId": "c47a2f66-8d5b-4286-b4aa-c52d006f645f"
   },
   "outputs": [
    {
     "name": "stdout",
     "output_type": "stream",
     "text": [
      "Outputs:--\n",
      "\n",
      "Roots of the quadratic equation are : 2.0  3.0\n",
      "\n",
      "'AssertionError' occured. Attempted to find the roots where, coefficient of x^2 = 0, Exception handled.\n",
      "\n",
      "'AssertionError' occured. Attempted to find the roots where, D < 0, Exception handled.\n"
     ]
    }
   ],
   "source": [
    "\"\"\"\"\n",
    "\n",
    "Write a script to handle 'AssertionError' when roots of quadratics equation does not exist.\n",
    "\n",
    "inputs:--\n",
    "    \n",
    "    a1, b1, c1 = -1, 5, -6\n",
    "    a2, b2, c2 = 0, 12, 18\n",
    "    a3, b3, c3 = 1, 1, 6\n",
    "\n",
    "Outputs:--\n",
    "    \n",
    "    Roots of the quadratic equation are : 2.0  3.0\n",
    "   'AssertionError' occured. Attempted to find the roots where, coefficient of x^2 = 0, Exception handled.\n",
    "   'AssertionError' occured. Attempted to find the roots where, D < 0, Exception handled.\n",
    "\n",
    "\"\"\"\n",
    "\n",
    "# Roots of a quadratic equation\n",
    "\n",
    "import math \n",
    "\n",
    "def ShridharAcharya(a, b, c):\n",
    "\n",
    "    try: \n",
    "\n",
    "        assert a != 0, \"\\n'AssertionError' occured. Attempted to find the roots where, coefficient of x^2 = 0, Exception handled.\"\n",
    "\n",
    "        D = (b * b - 4 * a * c) \n",
    "\n",
    "        assert D >= 0, \"\\n'AssertionError' occured. Attempted to find the roots where, D < 0, Exception handled.\"\n",
    "\n",
    "        r1 = (-b + math.sqrt(D))/(2 * a) \n",
    "        r2 = (-b - math.sqrt(D))/(2 * a) \n",
    "\n",
    "        print(\"Outputs:--\\n\\nRoots of the quadratic equation are :\", r1, \"\", r2) \n",
    "\n",
    "    except AssertionError as msg: \n",
    "\n",
    "        print(msg) \n",
    "\n",
    "a1, b1, c1 = -1,  5, -6\n",
    "a2, b2, c2 =  0, 12, 18\n",
    "a3, b3, c3 =  1,  1,  6\n",
    "\n",
    "ShridharAcharya(a1,b1,c1)\n",
    "ShridharAcharya(a2,b2,c2)\n",
    "ShridharAcharya(a3,b3,c3)"
   ]
  },
  {
   "cell_type": "code",
   "execution_count": 14,
   "metadata": {
    "colab": {
     "base_uri": "https://localhost:8080/",
     "height": 34
    },
    "colab_type": "code",
    "executionInfo": {
     "elapsed": 2546,
     "status": "ok",
     "timestamp": 1574339417011,
     "user": {
      "displayName": "bheem kumar",
      "photoUrl": "https://lh3.googleusercontent.com/a-/AAuE7mDCx24nBXj8t-exydQqWCz_3_2Fr8UREB6_UTXj=s64",
      "userId": "16514217920437432713"
     },
     "user_tz": -330
    },
    "id": "9ZlLtPg4z-4m",
    "outputId": "fb36aa3a-4527-49bd-932d-a99780576a3b"
   },
   "outputs": [
    {
     "name": "stdout",
     "output_type": "stream",
     "text": [
      "Output : 'AttributeError' occured. Attemped to access undefined attribute, Exception handled.\n"
     ]
    }
   ],
   "source": [
    "\"\"\"\n",
    "\n",
    "Write a script to handle the 'AttributeError' Exception by creating a class.\n",
    "\n",
    "Output:--\n",
    "\n",
    "    'AttributeError' occured. Attemped to access undefined attribute, Exception handled.\n",
    "\n",
    "\"\"\"\n",
    "\n",
    "class Attributes(): \n",
    "\n",
    "    pass\n",
    "\n",
    "try:\n",
    "\n",
    "    obj = Attributes()\n",
    "    print(obj.attribute)\n",
    "\n",
    "except AttributeError:\n",
    "\n",
    "    print(\"Output : 'AttributeError' occured. Attemped to access undefined attribute, Exception handled.\")\n"
   ]
  },
  {
   "cell_type": "code",
   "execution_count": 15,
   "metadata": {
    "colab": {
     "base_uri": "https://localhost:8080/",
     "height": 34
    },
    "colab_type": "code",
    "executionInfo": {
     "elapsed": 2536,
     "status": "ok",
     "timestamp": 1574339417012,
     "user": {
      "displayName": "bheem kumar",
      "photoUrl": "https://lh3.googleusercontent.com/a-/AAuE7mDCx24nBXj8t-exydQqWCz_3_2Fr8UREB6_UTXj=s64",
      "userId": "16514217920437432713"
     },
     "user_tz": -330
    },
    "id": "V5E2TdyuFLhn",
    "outputId": "c27cfd4a-3b2c-45bc-e6e7-d0a245dfbb2d"
   },
   "outputs": [
    {
     "name": "stdout",
     "output_type": "stream",
     "text": [
      "Output : 'ImportError' occured. Exception handled.\n"
     ]
    }
   ],
   "source": [
    "\"\"\"\n",
    "\n",
    "Write a script which handle the 'ImportError' exception when imported library is not found.\n",
    "\n",
    "NOTE : 'ImportError' is parent class of 'ModuleNotFoundError'.\n",
    "\n",
    "Output:--\n",
    "    \n",
    "    'ImportError' occured. Attempted to import non-exist library, Exception handled.\n",
    "    \n",
    "\"\"\"\n",
    "\n",
    "try:\n",
    "  \n",
    "    raise ModuleNotFoundError\n",
    "    \n",
    "except ImportError as e:\n",
    "  \n",
    "    print(\"Output : 'ImportError' occured. Exception handled.\")\n"
   ]
  },
  {
   "cell_type": "code",
   "execution_count": 16,
   "metadata": {
    "colab": {
     "base_uri": "https://localhost:8080/",
     "height": 34
    },
    "colab_type": "code",
    "executionInfo": {
     "elapsed": 2526,
     "status": "ok",
     "timestamp": 1574339417013,
     "user": {
      "displayName": "bheem kumar",
      "photoUrl": "https://lh3.googleusercontent.com/a-/AAuE7mDCx24nBXj8t-exydQqWCz_3_2Fr8UREB6_UTXj=s64",
      "userId": "16514217920437432713"
     },
     "user_tz": -330
    },
    "id": "VukVRbIHCfnb",
    "outputId": "bef6315c-f718-4146-d73e-e9c9225ef6ea"
   },
   "outputs": [
    {
     "name": "stdout",
     "output_type": "stream",
     "text": [
      "Output : 'LookupError' occuredd. Exception handled\n"
     ]
    }
   ],
   "source": [
    "\"\"\"\n",
    "\n",
    "Write a code to handle the 'LookupError' Exception.\n",
    "\n",
    "NOTE : Since 'LookupError' Exception is parent class of 'IndexError' and 'KeyError'\n",
    "Hence if any error occured related to key or index, the 'LookupError' Exception will be generated.\n",
    "\n",
    "data = [1, 2, 3, 4]\n",
    "\n",
    "Output:--\n",
    "\n",
    "\"\"\"\n",
    "data = [1, 2, 3, 4]\n",
    "\n",
    "try:\n",
    "\n",
    "    print(data[4])\n",
    "    \n",
    "except LookupError:\n",
    "\n",
    "    print(\"Output : 'LookupError' occuredd. Exception handled\")"
   ]
  },
  {
   "cell_type": "code",
   "execution_count": 17,
   "metadata": {
    "colab": {
     "base_uri": "https://localhost:8080/",
     "height": 34
    },
    "colab_type": "code",
    "executionInfo": {
     "elapsed": 2516,
     "status": "ok",
     "timestamp": 1574339417013,
     "user": {
      "displayName": "bheem kumar",
      "photoUrl": "https://lh3.googleusercontent.com/a-/AAuE7mDCx24nBXj8t-exydQqWCz_3_2Fr8UREB6_UTXj=s64",
      "userId": "16514217920437432713"
     },
     "user_tz": -330
    },
    "id": "Gs61Tp-1x1K7",
    "outputId": "9412483d-b319-4f87-92c9-f3bf0aa23b1e"
   },
   "outputs": [
    {
     "name": "stdout",
     "output_type": "stream",
     "text": [
      "Output : 'NameError' occured. Attempted to use undefined varaible, Exception handled.\n"
     ]
    }
   ],
   "source": [
    "\"\"\"\n",
    "\n",
    "Write a script to handle the 'NameError' exception when undefined variable is used.\n",
    "\n",
    "Output:\n",
    "\n",
    "    'NameError' occured. Attempted to use undefined varaible, Exception handled.\n",
    "\n",
    "\"\"\"\n",
    "\n",
    "try:\n",
    "  \n",
    "    value > 3\n",
    "\n",
    "except NameError:\n",
    "  \n",
    "    print(\"Output : 'NameError' occured. Attempted to use undefined varaible, Exception handled.\")\n"
   ]
  },
  {
   "cell_type": "code",
   "execution_count": 18,
   "metadata": {
    "colab": {
     "base_uri": "https://localhost:8080/",
     "height": 34
    },
    "colab_type": "code",
    "executionInfo": {
     "elapsed": 2503,
     "status": "ok",
     "timestamp": 1574339417014,
     "user": {
      "displayName": "bheem kumar",
      "photoUrl": "https://lh3.googleusercontent.com/a-/AAuE7mDCx24nBXj8t-exydQqWCz_3_2Fr8UREB6_UTXj=s64",
      "userId": "16514217920437432713"
     },
     "user_tz": -330
    },
    "id": "qrLxU9y0vx6p",
    "outputId": "36a497b9-0b64-4a9a-9227-79cb5bac72cd"
   },
   "outputs": [
    {
     "name": "stdout",
     "output_type": "stream",
     "text": [
      "Output : 'OSError' Occured, Exception handled.\n"
     ]
    }
   ],
   "source": [
    "\"\"\"\n",
    "\n",
    "Write a script to handle the 'OSError.\n",
    "\n",
    "NOTE : When generated error belongs to subclasses of 'OSError' class then OSError is responsible to handle it.\n",
    "\n",
    "Output:--\n",
    "\n",
    "\"\"\"\n",
    "\n",
    "try:\n",
    "\n",
    "    raise FileNotFoundError\n",
    "\n",
    "except OSError:\n",
    "\n",
    "    print(\"Output : 'OSError' Occured, Exception handled.\")\n"
   ]
  },
  {
   "cell_type": "code",
   "execution_count": 19,
   "metadata": {
    "colab": {
     "base_uri": "https://localhost:8080/",
     "height": 34
    },
    "colab_type": "code",
    "executionInfo": {
     "elapsed": 2494,
     "status": "ok",
     "timestamp": 1574339417015,
     "user": {
      "displayName": "bheem kumar",
      "photoUrl": "https://lh3.googleusercontent.com/a-/AAuE7mDCx24nBXj8t-exydQqWCz_3_2Fr8UREB6_UTXj=s64",
      "userId": "16514217920437432713"
     },
     "user_tz": -330
    },
    "id": "n3NNN7UB3w8g",
    "outputId": "1a3a5e7a-93ff-4289-e4af-bd79c751a8ce"
   },
   "outputs": [
    {
     "name": "stdout",
     "output_type": "stream",
     "text": [
      "Output : 'RuntimeError' occured, Exception handled.\n"
     ]
    }
   ],
   "source": [
    "\"\"\"\n",
    "\n",
    "Write a code to handle the the 'RuntimeError'.\n",
    "\n",
    "NOTE : 'RuntimeError' is parent class of 'NotImplementedError' and 'RecursionError'.\n",
    "\n",
    "Output:--\n",
    "\n",
    "\"\"\"\n",
    "\n",
    "try:\n",
    "\n",
    "    raise RecursionError\n",
    "\n",
    "except RuntimeError:\n",
    "\n",
    "    print(\"Output : 'RuntimeError' occured, Exception handled.\")"
   ]
  },
  {
   "cell_type": "code",
   "execution_count": 20,
   "metadata": {
    "colab": {
     "base_uri": "https://localhost:8080/",
     "height": 51
    },
    "colab_type": "code",
    "executionInfo": {
     "elapsed": 2485,
     "status": "ok",
     "timestamp": 1574339417016,
     "user": {
      "displayName": "bheem kumar",
      "photoUrl": "https://lh3.googleusercontent.com/a-/AAuE7mDCx24nBXj8t-exydQqWCz_3_2Fr8UREB6_UTXj=s64",
      "userId": "16514217920437432713"
     },
     "user_tz": -330
    },
    "id": "JiXQcsAMkt_I",
    "outputId": "5289bb9c-c502-4e05-b1d2-a22160f95d44"
   },
   "outputs": [
    {
     "name": "stdout",
     "output_type": "stream",
     "text": [
      "(Deleting <__main__.Foo object at 0x7fa49f18da20>)\n",
      "Output : 'ReferenceError' occured. Attempted to use non-exist weakly-referenced object, Exception handled.\n"
     ]
    }
   ],
   "source": [
    "\"\"\"\n",
    "\n",
    "Write a script to handle the 'ReferencceError' Exception.\n",
    "\n",
    "Input:--\n",
    "\n",
    "    name = 'Sam'\n",
    "\n",
    "Output:--\n",
    "\n",
    "    (Deleting <__main__.Foo object at 0x7f526e014b38>)\n",
    "    Output : 'ReferenceError' occured. Attempted to use non-exist weakly-referenced object, Exception handled.\n",
    "\n",
    "\"\"\"\n",
    "\n",
    "import weakref \n",
    "  \n",
    "class Foo(object): \n",
    "  \n",
    "    def __init__(self, name): \n",
    "        self.name = name\n",
    "      \n",
    "    def __del__(self): \n",
    "        print ('(Deleting %s)' % self)\n",
    "\n",
    "name = 'Sam'\n",
    "obj = Foo('sam')\n",
    "p = weakref.proxy(obj)\n",
    "\n",
    "obj = None\n",
    "\n",
    "try:\n",
    "\n",
    "    print ('AFTER:', p.name)\n",
    "\n",
    "except ReferenceError as e:\n",
    "\n",
    "    print(\"Output : 'ReferenceError' occured. Attempted to use non-exist weakly-referenced object, Exception handled.\")\n"
   ]
  },
  {
   "cell_type": "code",
   "execution_count": 21,
   "metadata": {
    "colab": {
     "base_uri": "https://localhost:8080/",
     "height": 34
    },
    "colab_type": "code",
    "executionInfo": {
     "elapsed": 2477,
     "status": "ok",
     "timestamp": 1574339417018,
     "user": {
      "displayName": "bheem kumar",
      "photoUrl": "https://lh3.googleusercontent.com/a-/AAuE7mDCx24nBXj8t-exydQqWCz_3_2Fr8UREB6_UTXj=s64",
      "userId": "16514217920437432713"
     },
     "user_tz": -330
    },
    "id": "yKTr1QvzCaxs",
    "outputId": "99711ceb-1234-4e56-a20e-eb25b3b92c39"
   },
   "outputs": [
    {
     "name": "stdout",
     "output_type": "stream",
     "text": [
      "Output : 'SyntaxError' occured. Attempting to use invalid syntax, Exception handled.\n"
     ]
    }
   ],
   "source": [
    "\"\"\"\n",
    "\n",
    "Write a script which handle the 'SyntaxError' exception when syntax is incorrect.\n",
    "\n",
    "NOTE : normally, the interpreter parses the entire file before executing any of it, \n",
    "so it detects the syntax error before the try statement is executed. \n",
    "If you use eval or its friends to cause more code to be parsed during the execution of the program, \n",
    "though, then you can catch it..\n",
    "\n",
    "Input:--\n",
    "\n",
    "    x = 1\n",
    "\n",
    "Output:--\n",
    "    \n",
    "    'SyntaxError' occured. Attempting to use invalid syntax, Exception handled.\n",
    "\n",
    "\"\"\"\n",
    "\n",
    "try:\n",
    "\n",
    "    a = 5\n",
    "    b = 5\n",
    "    eval(\"x === y\")\n",
    "\n",
    "except SyntaxError:\n",
    "\n",
    "   print(\"Output : 'SyntaxError' occured. Attempting to use invalid syntax, Exception handled.\")\n"
   ]
  },
  {
   "cell_type": "code",
   "execution_count": 22,
   "metadata": {
    "colab": {
     "base_uri": "https://localhost:8080/",
     "height": 34
    },
    "colab_type": "code",
    "executionInfo": {
     "elapsed": 2468,
     "status": "ok",
     "timestamp": 1574339417019,
     "user": {
      "displayName": "bheem kumar",
      "photoUrl": "https://lh3.googleusercontent.com/a-/AAuE7mDCx24nBXj8t-exydQqWCz_3_2Fr8UREB6_UTXj=s64",
      "userId": "16514217920437432713"
     },
     "user_tz": -330
    },
    "id": "Mi7l5JgtBfbV",
    "outputId": "dcb651a0-487d-40a2-fc8f-eda67b953814"
   },
   "outputs": [
    {
     "name": "stdout",
     "output_type": "stream",
     "text": [
      "Output : 'TypeError' occured. Attempted to use two different types of data for adding, Exception handled.\n"
     ]
    }
   ],
   "source": [
    "\"\"\"\n",
    "\n",
    "Write a script which handle the 'TypeError' exception when type error occured.\n",
    "\n",
    "Output:--\n",
    "\n",
    "    TypeError' occured. Attempted to use two different types of data for adding, Exception handled.\n",
    "\n",
    "\"\"\"  \n",
    "\n",
    "try:\n",
    "  \n",
    "    print('5' + 7)\n",
    "\n",
    "except TypeError:\n",
    "  \n",
    "    print(\"Output : 'TypeError' occured. Attempted to use two different types of data for adding, Exception handled.\")\n",
    "    "
   ]
  },
  {
   "cell_type": "code",
   "execution_count": 23,
   "metadata": {
    "colab": {
     "base_uri": "https://localhost:8080/",
     "height": 51
    },
    "colab_type": "code",
    "executionInfo": {
     "elapsed": 36184,
     "status": "ok",
     "timestamp": 1574339450746,
     "user": {
      "displayName": "bheem kumar",
      "photoUrl": "https://lh3.googleusercontent.com/a-/AAuE7mDCx24nBXj8t-exydQqWCz_3_2Fr8UREB6_UTXj=s64",
      "userId": "16514217920437432713"
     },
     "user_tz": -330
    },
    "id": "tiqcPpOuGvwi",
    "outputId": "80f1559c-aa67-41f2-aa08-b635ce2a4773"
   },
   "outputs": [
    {
     "name": "stdout",
     "output_type": "stream",
     "text": [
      "Enter your age: poijhg\n",
      "Output: 'ValueError' occured. Attempted to invalid typecast, Exception handled.\n"
     ]
    }
   ],
   "source": [
    "\"\"\"\n",
    "\n",
    "Write a script to handle 'ValueError' which check the age of a person and handle the exception if the age is invalid value.\n",
    "with using else statement.\n",
    "\n",
    "Inputs:--\n",
    "    \n",
    "    age = 23\n",
    "    age = 56\n",
    "    age = 'sam\n",
    "\n",
    "Outputs:-- \n",
    "\n",
    "    you are young.\n",
    "    Welcome, you are old enough.\n",
    "    Output: 'ValueError' occured. Attempted to invalid typecast, Exception handled.\n",
    "\n",
    "\"\"\"\n",
    "\n",
    "try:\n",
    "    \n",
    "    # Try to input some string value to handle the 'ValueError' exception.\n",
    "    age = int(input(\"Enter a number : \"))\n",
    "    \n",
    "except ValueError:\n",
    "  \n",
    "    print (\"Output: 'ValueError' occured. Attempted to invalid typecast, Exception handled.\")\n"
   ]
  },
  {
   "cell_type": "code",
   "execution_count": 24,
   "metadata": {
    "colab": {
     "base_uri": "https://localhost:8080/",
     "height": 34
    },
    "colab_type": "code",
    "executionInfo": {
     "elapsed": 36170,
     "status": "ok",
     "timestamp": 1574339450747,
     "user": {
      "displayName": "bheem kumar",
      "photoUrl": "https://lh3.googleusercontent.com/a-/AAuE7mDCx24nBXj8t-exydQqWCz_3_2Fr8UREB6_UTXj=s64",
      "userId": "16514217920437432713"
     },
     "user_tz": -330
    },
    "id": "_u_qda4CFOKZ",
    "outputId": "91dcc30f-07e9-455d-acee-be6e2b4f9fdd"
   },
   "outputs": [
    {
     "name": "stdout",
     "output_type": "stream",
     "text": [
      "Output : 'SystemExit' occred, Exception handled.\n"
     ]
    }
   ],
   "source": [
    "\"\"\"\n",
    "\n",
    "Write a script to handle the 'SystemExit' exception.\n",
    "\n",
    "Output:--   \n",
    "\n",
    "\"\"\"\n",
    "\n",
    "import sys\n",
    "\n",
    "try:\n",
    "\n",
    "    raise sys.exit()\n",
    "\n",
    "except SystemExit:\n",
    "\n",
    "    print(\"Output : 'SystemExit' occred, Exception handled.\")\n"
   ]
  },
  {
   "cell_type": "code",
   "execution_count": 0,
   "metadata": {
    "colab": {},
    "colab_type": "code",
    "id": "hx11RA9apFtY"
   },
   "outputs": [],
   "source": [
    "\"\"\"\n",
    "\n",
    "Write a script to handle 'KeyboardInterrupt' Exception.\n",
    "\n",
    "NOTE : Terminate the execution manually.\n",
    "Output:--\n",
    "\n",
    "    Infinite loop is running\n",
    "    Infinite loop is running\n",
    "    Infinite loop is running\n",
    "    Infinite loop is running\n",
    "    Infinite loop is running\n",
    "    Infinite loop is running\n",
    "    Infinite loop is running\n",
    "            .\n",
    "            .\n",
    "            .\n",
    "    Infinite loop is running\n",
    "    Infinite loop is running\n",
    "    Infinite loop is running\n",
    "\n",
    "    'KEyboardInterrup' occured, Exception handled.\n",
    "\n",
    "\"\"\"\n",
    "\n",
    "print(\"Output:--\")\n",
    "\n",
    "try:\n",
    "\n",
    "    while(True):\n",
    "\n",
    "        print(\"Infinite loop is running\")\n",
    "\n",
    "except KeyboardInterrupt:\n",
    "\n",
    "    print(\"\\n'KEyboardInterrup' occured, Exception handled.\")"
   ]
  },
  {
   "cell_type": "code",
   "execution_count": 26,
   "metadata": {
    "colab": {
     "base_uri": "https://localhost:8080/",
     "height": 34
    },
    "colab_type": "code",
    "executionInfo": {
     "elapsed": 52273,
     "status": "ok",
     "timestamp": 1574339466864,
     "user": {
      "displayName": "bheem kumar",
      "photoUrl": "https://lh3.googleusercontent.com/a-/AAuE7mDCx24nBXj8t-exydQqWCz_3_2Fr8UREB6_UTXj=s64",
      "userId": "16514217920437432713"
     },
     "user_tz": -330
    },
    "id": "vOP1cFEoIp-X",
    "outputId": "e60029a6-5dff-4557-bc69-b86fd0a2b476"
   },
   "outputs": [
    {
     "name": "stdout",
     "output_type": "stream",
     "text": [
      "Output : 'ExitGenerator' occured. Attempted to continue loop after yield, Exception handled.\n"
     ]
    }
   ],
   "source": [
    "\"\"\"\n",
    "\n",
    "Write a script to handle the 'GeneratorExit' Exception.\n",
    "\n",
    "Output:--\n",
    "\n",
    "    'ExitGenerator' occured, Attempted to continue loop after yield. Exception handled.\n",
    "\n",
    "\"\"\"\n",
    "    \n",
    "def my_generator():\n",
    "    \n",
    "    try: \n",
    "        for i in range(5): \n",
    "            yield i\n",
    "    except GeneratorExit:\n",
    "\n",
    "        print(\"Output : 'ExitGenerator' occured. Attempted to continue loop after yield, Exception handled.\" )\n",
    "\n",
    "g = my_generator() \n",
    "g.__next__()\n",
    "g.close()\n"
   ]
  },
  {
   "cell_type": "code",
   "execution_count": 27,
   "metadata": {
    "colab": {
     "base_uri": "https://localhost:8080/",
     "height": 34
    },
    "colab_type": "code",
    "executionInfo": {
     "elapsed": 52262,
     "status": "ok",
     "timestamp": 1574339466864,
     "user": {
      "displayName": "bheem kumar",
      "photoUrl": "https://lh3.googleusercontent.com/a-/AAuE7mDCx24nBXj8t-exydQqWCz_3_2Fr8UREB6_UTXj=s64",
      "userId": "16514217920437432713"
     },
     "user_tz": -330
    },
    "id": "LWY5XpXEqqSh",
    "outputId": "731f73a7-26d9-4449-eabf-468265f68693"
   },
   "outputs": [
    {
     "name": "stdout",
     "output_type": "stream",
     "text": [
      "Output : 'Excception' occrured, Exception handled.\n"
     ]
    }
   ],
   "source": [
    "\"\"\"\n",
    "\n",
    "Write a script to handle 'Exception' Exception.\n",
    "\n",
    "NOTE : If any Exception raised by child or super child class then 'Exception' is rsponsiple to handle the excepton.\n",
    "\n",
    "Output:--\n",
    "    \n",
    "    'Excception' occrured, Exception handled.\n",
    "\"\"\"\n",
    "\n",
    "try:\n",
    "\n",
    "    raise ZeroDivisionError\n",
    "\n",
    "except Exception:\n",
    "\n",
    "    print(\"Output : 'Excception' occrured, Exception handled.\")\n"
   ]
  },
  {
   "cell_type": "code",
   "execution_count": 28,
   "metadata": {
    "colab": {
     "base_uri": "https://localhost:8080/",
     "height": 34
    },
    "colab_type": "code",
    "executionInfo": {
     "elapsed": 52252,
     "status": "ok",
     "timestamp": 1574339466865,
     "user": {
      "displayName": "bheem kumar",
      "photoUrl": "https://lh3.googleusercontent.com/a-/AAuE7mDCx24nBXj8t-exydQqWCz_3_2Fr8UREB6_UTXj=s64",
      "userId": "16514217920437432713"
     },
     "user_tz": -330
    },
    "id": "oHmheNq9sFFa",
    "outputId": "c10f8831-2323-4790-9675-56b04235e77e"
   },
   "outputs": [
    {
     "name": "stdout",
     "output_type": "stream",
     "text": [
      "Output : 'BaseExcception' occrured, Exception handled.\n"
     ]
    }
   ],
   "source": [
    "\"\"\"\n",
    "\n",
    "Write a script to handle 'BaseException' Exception.\n",
    "\n",
    "NOTE : 'BaseException' is parent class of all exception class.\n",
    "\n",
    "Output:--\n",
    "    \n",
    "     'BaseExcception' occrured, Exception handled.\n",
    "     \n",
    "\"\"\"\n",
    "\n",
    "try:\n",
    "\n",
    "    raise SystemExit\n",
    "\n",
    "except BaseException:\n",
    "\n",
    "    print(\"Output : 'BaseExcception' occrured, Exception handled.\")\n"
   ]
  },
  {
   "cell_type": "code",
   "execution_count": 21,
   "metadata": {
    "colab": {
     "base_uri": "https://localhost:8080/",
     "height": 119
    },
    "colab_type": "code",
    "executionInfo": {
     "elapsed": 1409,
     "status": "ok",
     "timestamp": 1574348731206,
     "user": {
      "displayName": "bheem kumar",
      "photoUrl": "https://lh3.googleusercontent.com/a-/AAuE7mDCx24nBXj8t-exydQqWCz_3_2Fr8UREB6_UTXj=s64",
      "userId": "16514217920437432713"
     },
     "user_tz": -330
    },
    "id": "T6DYpJRScOzw",
    "outputId": "f58548ab-f0eb-4ed5-cb9c-7d802991b835"
   },
   "outputs": [
    {
     "name": "stdout",
     "output_type": "stream",
     "text": [
      "Outputs:--\n",
      "\n",
      "Exception type: <class 'ZeroDivisionError'>\n",
      "Exception type: <class 'ZeroDivisionError'>\n",
      "Exception class name: ZeroDivisionError\n",
      "Exception description: division by zero\n"
     ]
    }
   ],
   "source": [
    "\"\"\"\n",
    "\n",
    "Write a script to print the Exception Information.\n",
    "\n",
    "Inputs:--\n",
    "\n",
    "    a = 10\n",
    "    b = 0\n",
    "\n",
    "Outputs:--\n",
    "\n",
    "    Exception type: <class 'ZeroDivisionError'>\n",
    "    Exception type: <class 'ZeroDivisionError'>\n",
    "    Exception class name: ZeroDivisionError\n",
    "    Exception description: division by zero\n",
    "\n",
    "\"\"\"\n",
    "\n",
    "try:\n",
    "\n",
    "    a = 10\n",
    "    b = 0\n",
    "    print(10/0)\n",
    "\n",
    "except ZeroDivisionError as msg:\n",
    "    \n",
    "    print(\"Outputs:--\\n\")\n",
    "    print(\"Exception type:\", type(msg))\n",
    "    print(\"Exception type:\", msg.__class__)\n",
    "    print(\"Exception class name:\", msg.__class__.__name__)\n",
    "    print(\"Exception description:\", msg)\n"
   ]
  },
  {
   "cell_type": "code",
   "execution_count": 41,
   "metadata": {
    "colab": {
     "base_uri": "https://localhost:8080/",
     "height": 136
    },
    "colab_type": "code",
    "executionInfo": {
     "elapsed": 11002,
     "status": "ok",
     "timestamp": 1574350851321,
     "user": {
      "displayName": "bheem kumar",
      "photoUrl": "https://lh3.googleusercontent.com/a-/AAuE7mDCx24nBXj8t-exydQqWCz_3_2Fr8UREB6_UTXj=s64",
      "userId": "16514217920437432713"
     },
     "user_tz": -330
    },
    "id": "hnN5BQooggpm",
    "outputId": "182247a9-a22a-4246-f304-03b542e05ec7"
   },
   "outputs": [
    {
     "name": "stdout",
     "output_type": "stream",
     "text": [
      "Enter a number for X : 100\n",
      "Enter a number for Y : jk\n",
      "\n",
      "Outputs:--\n",
      "\n",
      "Exception class name : ValueError\n",
      "Description of exception : invalid literal for int() with base 10: 'jk'\n"
     ]
    }
   ],
   "source": [
    "\"\"\"\n",
    "\n",
    "Write a script to handle a exception by using multiple 'except' block.\n",
    "\n",
    "NOTE : take y = 0 or non_numeric number to handle exception.\n",
    "\n",
    "Inputs:--\n",
    "\n",
    "    Enter a number for X : 100\n",
    "    Enter a number for Y : jk\n",
    "\n",
    "Outputs:--\n",
    "\n",
    "    Exception class name : ValueError\n",
    "    Description of exception : invalid literal for int() with base 10: 'jk'\n",
    "\"\"\"\n",
    "\n",
    "try:\n",
    "\n",
    "    X = int(input(\"Enter a number for X : \"))\n",
    "    Y = int(input(\"Enter a number for Y : \"))\n",
    "\n",
    "    Z = X / Y\n",
    "\n",
    "    print(\"\\nOutput : Value of X/Y :\", Z)\n",
    "\n",
    "except ValueError as msg:\n",
    "\n",
    "    print(\"\\nOutputs:--\")\n",
    "    print(\"\\nException class name :\", msg.__class__.__name__)\n",
    "    print(\"Description of exception :\", msg)\n",
    "\n",
    "except ZeroDivisionError as msg:\n",
    "\n",
    "    print(\"\\nOutputs:--\")\n",
    "    print(\"\\nException class name :\", msg.__class__.__name__)\n",
    "    print(\"Exception Description :\", msg)\n",
    "  "
   ]
  },
  {
   "cell_type": "code",
   "execution_count": 44,
   "metadata": {
    "colab": {
     "base_uri": "https://localhost:8080/",
     "height": 136
    },
    "colab_type": "code",
    "executionInfo": {
     "elapsed": 9529,
     "status": "ok",
     "timestamp": 1574351436867,
     "user": {
      "displayName": "bheem kumar",
      "photoUrl": "https://lh3.googleusercontent.com/a-/AAuE7mDCx24nBXj8t-exydQqWCz_3_2Fr8UREB6_UTXj=s64",
      "userId": "16514217920437432713"
     },
     "user_tz": -330
    },
    "id": "nOIi4ek6oQkg",
    "outputId": "4909222c-bfde-4038-dafa-297b1ce498cf"
   },
   "outputs": [
    {
     "name": "stdout",
     "output_type": "stream",
     "text": [
      "Enter a number for X : 100\n",
      "Enter a number for Y : jk\n",
      "\n",
      "Outputs:--\n",
      "\n",
      "Exception class name : ValueError\n",
      "Description of exception : invalid literal for int() with base 10: 'jk'\n"
     ]
    }
   ],
   "source": [
    "\"\"\"\n",
    "\n",
    "Write a script which can handle multiple exception by using single 'except' block.\n",
    "\n",
    "NOTE : take y = 0 or non_numeric number to handle exception.\n",
    "\n",
    "Inputs:--\n",
    "\n",
    "    Enter a number for X : 100\n",
    "    Enter a number for Y : jk\n",
    "\n",
    "Outputs:--\n",
    "\n",
    "    Exception class name : ValueError\n",
    "    Description of exception : invalid literal for int() with base 10: 'jk'\n",
    "\n",
    "\"\"\"\n",
    "\n",
    "try:\n",
    "\n",
    "    X = int(input(\"Enter a number for X : \"))\n",
    "    Y = int(input(\"Enter a number for Y : \"))\n",
    "\n",
    "    Z = X / Y\n",
    "\n",
    "    print(\"\\nOutput : Value of X/Y :\", Z)\n",
    "\n",
    "except(ValueError, ZeroDivisionError) as msg:\n",
    "\n",
    "    print(\"\\nOutputs:--\")\n",
    "    print(\"\\nException class name :\", msg.__class__.__name__)\n",
    "    print(\"Description of exception :\", msg)\n"
   ]
  },
  {
   "cell_type": "code",
   "execution_count": 48,
   "metadata": {
    "colab": {
     "base_uri": "https://localhost:8080/",
     "height": 136
    },
    "colab_type": "code",
    "executionInfo": {
     "elapsed": 13778,
     "status": "ok",
     "timestamp": 1574352076010,
     "user": {
      "displayName": "bheem kumar",
      "photoUrl": "https://lh3.googleusercontent.com/a-/AAuE7mDCx24nBXj8t-exydQqWCz_3_2Fr8UREB6_UTXj=s64",
      "userId": "16514217920437432713"
     },
     "user_tz": -330
    },
    "id": "lHUjNgM4qVdL",
    "outputId": "8b5f1ef6-41ff-4eb0-a009-a705add0b27b"
   },
   "outputs": [
    {
     "name": "stdout",
     "output_type": "stream",
     "text": [
      "Enter a number for X : 123\n",
      "Enter a number for Y : ghjkl\n",
      "\n",
      "Outputs:--\n",
      "\n",
      "Exception class name : ValueError\n",
      "Description of exception : invalid literal for int() with base 10: 'ghjkl'\n"
     ]
    }
   ],
   "source": [
    "\"\"\"\n",
    "\n",
    "Write a script which can handle multiple exception by using their parent class.\n",
    "\n",
    "NOTE : take y = 0 or non_numeric number to handle exception.\n",
    "NOTE : The situation can occur when you don't know which type of excecption can be generate .\n",
    "\n",
    "Inputs:--\n",
    "\n",
    "    Enter a number for X : 123\n",
    "    Enter a number for Y : ghjkl\n",
    "\n",
    "Outputs:--\n",
    "\n",
    "    Exception class name : ValueError\n",
    "    Description of exception : invalid literal for int() with base 10: 'jk'\n",
    "    \n",
    "\"\"\"\n",
    "\n",
    "try:\n",
    "\n",
    "    X = int(input(\"Enter a number for X : \"))\n",
    "    Y = int(input(\"Enter a number for Y : \"))\n",
    "\n",
    "    Z = X / Y\n",
    "\n",
    "    print(\"\\nOutput : Value of X/Y :\", Z)\n",
    "\n",
    "except Exception as msg:\n",
    "\n",
    "    print(\"\\nOutputs:--\")\n",
    "    print(\"\\nException class name :\", msg.__class__.__name__)\n",
    "    print(\"Description of exception :\", msg)\n"
   ]
  },
  {
   "cell_type": "code",
   "execution_count": 55,
   "metadata": {
    "colab": {
     "base_uri": "https://localhost:8080/",
     "height": 85
    },
    "colab_type": "code",
    "executionInfo": {
     "elapsed": 14917,
     "status": "ok",
     "timestamp": 1574352981295,
     "user": {
      "displayName": "bheem kumar",
      "photoUrl": "https://lh3.googleusercontent.com/a-/AAuE7mDCx24nBXj8t-exydQqWCz_3_2Fr8UREB6_UTXj=s64",
      "userId": "16514217920437432713"
     },
     "user_tz": -330
    },
    "id": "IahvLlfjs0_r",
    "outputId": "74b6da0e-be24-4af9-a55a-e89495e84e03"
   },
   "outputs": [
    {
     "name": "stdout",
     "output_type": "stream",
     "text": [
      "Enter a number for X : 100\n",
      "Enter a number for Y : sdf\n",
      "\n",
      "Output : Default Exception handled.\n"
     ]
    }
   ],
   "source": [
    "\"\"\"\n",
    "\n",
    "Write a script to handle most exception by using default exception.\n",
    "\n",
    "Inputs:--\n",
    "\n",
    "    Enter a number for X : 100\n",
    "    Enter a number for Y : sdf\n",
    "\n",
    "Outputs:--\n",
    "\n",
    "    Default Exception handled.\n",
    "\n",
    "\"\"\"\n",
    "\n",
    "try:\n",
    "\n",
    "    X = int(input(\"Enter a number for X : \"))\n",
    "    Y = int(input(\"Enter a number for Y : \"))\n",
    "\n",
    "    Z = X / Y\n",
    "\n",
    "    print(\"\\nOutput : Value of X/Y :\", Z)\n",
    "\n",
    "except:\n",
    "\n",
    "    print(\"\\nOutput : Default Exception handled.\")"
   ]
  },
  {
   "cell_type": "code",
   "execution_count": 56,
   "metadata": {
    "colab": {
     "base_uri": "https://localhost:8080/",
     "height": 136
    },
    "colab_type": "code",
    "executionInfo": {
     "elapsed": 14621,
     "status": "ok",
     "timestamp": 1574353051791,
     "user": {
      "displayName": "bheem kumar",
      "photoUrl": "https://lh3.googleusercontent.com/a-/AAuE7mDCx24nBXj8t-exydQqWCz_3_2Fr8UREB6_UTXj=s64",
      "userId": "16514217920437432713"
     },
     "user_tz": -330
    },
    "id": "ttoc6BLqucyn",
    "outputId": "234775ec-a897-41b6-8fbf-18fc17d47acc"
   },
   "outputs": [
    {
     "name": "stdout",
     "output_type": "stream",
     "text": [
      "Enter a number for X : 123\n",
      "Enter a number for Y : 0\n",
      "\n",
      "Outputs:--\n",
      "\n",
      "Exception class name : ZeroDivisionError\n",
      "Exception Description : division by zero\n"
     ]
    }
   ],
   "source": [
    "\"\"\"\n",
    "\n",
    "Write a script to handle a specific exception and also use default exception handlar\n",
    "incase of specific exception not handled.\n",
    "\n",
    "NOTE : take y = 0 or non_numeric number to handle exception.\n",
    "\n",
    "Inputs:--\n",
    "\n",
    "    Enter a number for X : 123\n",
    "    Enter a number for Y : 0\n",
    "\n",
    "Outputs:--\n",
    "\n",
    "    Exception class name : ZeroDivisionError\n",
    "    Exception Description : division by zero\n",
    "    \n",
    "\"\"\"\n",
    "\n",
    "try:\n",
    "\n",
    "    X = int(input(\"Enter a number for X : \"))\n",
    "    Y = int(input(\"Enter a number for Y : \"))\n",
    "\n",
    "    Z = X / Y\n",
    "\n",
    "    print(\"\\nOutput : Value of X/Y :\", Z)\n",
    "\n",
    "except ZeroDivisionError as msg:\n",
    "\n",
    "    print(\"\\nOutputs:--\")\n",
    "    print(\"\\nException class name :\", msg.__class__.__name__)\n",
    "    print(\"Exception Description :\", msg)\n",
    "\n",
    "except:\n",
    "\n",
    "    print(\"\\nDefault Exception handled.\")\n",
    "    "
   ]
  },
  {
   "cell_type": "markdown",
   "metadata": {
    "colab_type": "text",
    "id": "YDvYYSGj5OeZ"
   },
   "source": [
    "**What is finally.**\n",
    "\n",
    "When we need to execute a block of code whether it doesn't matter exception is occured or not, then we write that code under the finally block.\n",
    "The main purpose of finally block is to maintaiin cleanup code.\n"
   ]
  },
  {
   "cell_type": "code",
   "execution_count": 2,
   "metadata": {
    "colab": {
     "base_uri": "https://localhost:8080/",
     "height": 85
    },
    "colab_type": "code",
    "executionInfo": {
     "elapsed": 1306,
     "status": "ok",
     "timestamp": 1574421000338,
     "user": {
      "displayName": "bheem kumar",
      "photoUrl": "https://lh3.googleusercontent.com/a-/AAuE7mDCx24nBXj8t-exydQqWCz_3_2Fr8UREB6_UTXj=s64",
      "userId": "16514217920437432713"
     },
     "user_tz": -330
    },
    "id": "6U1PLhGjeQfp",
    "outputId": "d134f3fc-d5e3-436a-cfd3-05f1bfc2deca"
   },
   "outputs": [
    {
     "name": "stdout",
     "output_type": "stream",
     "text": [
      "Outputs:--\n",
      "\n",
      "Exception handled.\n",
      "The finally block is executed.\n"
     ]
    }
   ],
   "source": [
    "\"\"\"\n",
    "\n",
    "Write a script which execute a block of code whether it doesn't matter exception is occred or not.\n",
    "\n",
    "NOTE : Use 'finally' keyword to create finally block, bellow the 'except' section.\n",
    "\n",
    "Outputs:--\n",
    "\n",
    "    Exception handled.\n",
    "    The finally block is executed.\n",
    "\n",
    "\"\"\"\n",
    "\n",
    "print('Outputs:--\\n')\n",
    "\n",
    "try:\n",
    "\n",
    "    xyx > 3\n",
    "\n",
    "except NameError:\n",
    "\n",
    "    print(\"Exception handled.\")\n",
    "\n",
    "finally:\n",
    "\n",
    "    print(\"The finally block is executed.\")\n",
    "    "
   ]
  },
  {
   "cell_type": "code",
   "execution_count": 13,
   "metadata": {
    "colab": {
     "base_uri": "https://localhost:8080/",
     "height": 85
    },
    "colab_type": "code",
    "executionInfo": {
     "elapsed": 10462,
     "status": "ok",
     "timestamp": 1574423297143,
     "user": {
      "displayName": "bheem kumar",
      "photoUrl": "https://lh3.googleusercontent.com/a-/AAuE7mDCx24nBXj8t-exydQqWCz_3_2Fr8UREB6_UTXj=s64",
      "userId": "16514217920437432713"
     },
     "user_tz": -330
    },
    "id": "mzRuo9p7-iBi",
    "outputId": "8b8dc20e-82d2-45dd-fad9-984585fc66a6"
   },
   "outputs": [
    {
     "name": "stdout",
     "output_type": "stream",
     "text": [
      "Enter a number for A :1234\n",
      "Enter a number for B :123\n",
      "\n",
      "Output : Division = 10.032520325203253\n"
     ]
    }
   ],
   "source": [
    "\"\"\"\n",
    "\n",
    "Write a script, where raise an exception within 'try' block and handle it within same block.\n",
    "\n",
    "NOTE : Implement the concept of nested exception.\n",
    "NOTE : take B = 0 or non_numeric number to handle exception.\n",
    "\n",
    "Inputs:--\n",
    "\n",
    "    Enter a number for A :123\n",
    "    Enter a number for B :dfg\n",
    "\n",
    "    Enter a number for A :123\n",
    "    Enter a number for B :0\n",
    "\n",
    "    Enter a number for A :123\n",
    "    Enter a number for B :12\n",
    "\n",
    "Outputs:--\n",
    "    \n",
    "    'ValueError' occured. Attempted to invalid typecast, Exception handled.\n",
    "\n",
    "    'ZeroDivisionError' occured. Attempted to divide by zero, Exception handled.\n",
    "\n",
    "    Division = 10.25\n",
    "\n",
    "\"\"\"\n",
    "\n",
    "try:\n",
    "\n",
    "    A = int(input(\"Enter a number for A :\"))\n",
    "    B = int(input(\"Enter a number for B :\"))\n",
    "\n",
    "    try:\n",
    "\n",
    "        C = A / B\n",
    "        print(\"\\nOutput : Division =\", C)\n",
    "\n",
    "    except ZeroDivisionError:\n",
    "    \n",
    "        print(\"\\nOutput : 'ZeroDivisionError' occured. Attempted to divide by zero, Exception handled.\")\n",
    "\n",
    "except ValueError:\n",
    "\n",
    "    print(\"\\nOutput : 'ValueError' occured. Attempted to invalid typecast, Exception handled.\")\n"
   ]
  }
 ],
 "metadata": {
  "colab": {
   "collapsed_sections": [],
   "name": "Python_exception_handling_1.ipynb",
   "provenance": []
  },
  "kernelspec": {
   "display_name": "Python 3",
   "language": "python",
   "name": "python3"
  },
  "language_info": {
   "codemirror_mode": {
    "name": "ipython",
    "version": 3
   },
   "file_extension": ".py",
   "mimetype": "text/x-python",
   "name": "python",
   "nbconvert_exporter": "python",
   "pygments_lexer": "ipython3",
   "version": "3.8.2"
  }
 },
 "nbformat": 4,
 "nbformat_minor": 1
}
