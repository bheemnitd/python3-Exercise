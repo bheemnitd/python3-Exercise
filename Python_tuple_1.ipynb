{
 "cells": [
  {
   "cell_type": "markdown",
   "metadata": {
    "colab_type": "text",
    "id": "YYZvu8ehcZZ2"
   },
   "source": [
    "**What is tuple ?**\n",
    "\n",
    "**Answer :** A tuple is a sequence of immutable Python objects. Tuples are sequences,\n",
    "just like lists. The differences between tuples and lists are, the tuples \n",
    "cannot be changed unlike lists and tuples use parentheses, \n",
    "whereas lists use square brackets. Creating a tuple is as simple as putting \n",
    "different comma-separated values.\n",
    "\n",
    "**What is reserve word for tuple in Python ?**\n",
    "\n",
    "**Answer :** tuple\n",
    "\n",
    "**Is tuple Mutable?**\n",
    "\n",
    "**Answer :** NO"
   ]
  },
  {
   "cell_type": "code",
   "execution_count": 1,
   "metadata": {
    "colab": {
     "base_uri": "https://localhost:8080/",
     "height": 34
    },
    "colab_type": "code",
    "executionInfo": {
     "elapsed": 1488,
     "status": "ok",
     "timestamp": 1573026209960,
     "user": {
      "displayName": "bheem kumar",
      "photoUrl": "https://lh3.googleusercontent.com/a-/AAuE7mDCx24nBXj8t-exydQqWCz_3_2Fr8UREB6_UTXj=s64",
      "userId": "16514217920437432713"
     },
     "user_tz": -330
    },
    "id": "fBQIkwn_Ef1d",
    "outputId": "86786aa2-0923-43a9-a9ca-2de008ae7393"
   },
   "outputs": [
    {
     "name": "stdout",
     "output_type": "stream",
     "text": [
      "Output : ()\n"
     ]
    }
   ],
   "source": [
    "\"\"\"\n",
    "\n",
    "Create a blank tuple and print it.\n",
    "\n",
    "Input:--\n",
    "\n",
    "    tpl = tuple()\n",
    "\n",
    "Output:--\n",
    "\n",
    "    ()\n",
    "\n",
    "\"\"\"\n",
    "\n",
    "tpl = tuple()\n",
    "\n",
    "# Alternative way.\n",
    "# tp1 = ()\n",
    "\n",
    "print(\"Output :\", tpl)"
   ]
  },
  {
   "cell_type": "code",
   "execution_count": 2,
   "metadata": {
    "colab": {
     "base_uri": "https://localhost:8080/",
     "height": 34
    },
    "colab_type": "code",
    "executionInfo": {
     "elapsed": 1925,
     "status": "ok",
     "timestamp": 1573026210408,
     "user": {
      "displayName": "bheem kumar",
      "photoUrl": "https://lh3.googleusercontent.com/a-/AAuE7mDCx24nBXj8t-exydQqWCz_3_2Fr8UREB6_UTXj=s64",
      "userId": "16514217920437432713"
     },
     "user_tz": -330
    },
    "id": "YjJp-uynEf1j",
    "outputId": "a2a30697-86c5-40d4-85ee-37fde41df7fc"
   },
   "outputs": [
    {
     "name": "stdout",
     "output_type": "stream",
     "text": [
      "Output : ('sam', 1, 3.2, '#@$$', 44423)\n"
     ]
    }
   ],
   "source": [
    "\"\"\"\n",
    "\n",
    "Create a tuple with any 5 elements\n",
    "\n",
    "Input:--\n",
    "    \n",
    "    tpl = ('sam', 1, 3.2, \"#@$$\", 44423)\n",
    "\n",
    "Output:--\n",
    "    \n",
    "    ('sam', 1, 3.2, '#@$$', 'str', 'int', 'str2', 32, 44423, 10)\"\"\"\n",
    "\n",
    "tpl = ('sam', 1, 3.2, \"#@$$\", 44423)\n",
    "\n",
    "print('Output :', tpl)"
   ]
  },
  {
   "cell_type": "code",
   "execution_count": 3,
   "metadata": {
    "colab": {
     "base_uri": "https://localhost:8080/",
     "height": 34
    },
    "colab_type": "code",
    "executionInfo": {
     "elapsed": 1917,
     "status": "ok",
     "timestamp": 1573026210409,
     "user": {
      "displayName": "bheem kumar",
      "photoUrl": "https://lh3.googleusercontent.com/a-/AAuE7mDCx24nBXj8t-exydQqWCz_3_2Fr8UREB6_UTXj=s64",
      "userId": "16514217920437432713"
     },
     "user_tz": -330
    },
    "id": "i5IdA31CEf1o",
    "outputId": "004655f5-08ed-4622-eee0-8ad80418fd75"
   },
   "outputs": [
    {
     "name": "stdout",
     "output_type": "stream",
     "text": [
      "Output : The 3rd element of given tuple is 2\n"
     ]
    }
   ],
   "source": [
    "\"\"\"\n",
    "\n",
    "Print 3rd element of given tuple.\n",
    "\n",
    "HINT:-tuple start from index 0 in forward order.\n",
    "\n",
    "Input:--\n",
    "    \n",
    "    tpl = (0, 1, 2, 3, 4, 5, 6, 7, 8, 9)\n",
    "\n",
    "Output:--\n",
    "    \n",
    "    The 3rd element of given tuple is 2\n",
    "\"\"\"\n",
    "\n",
    "tpl = (0, 1, 2, 3, 4, 5, 6, 7, 8, 9)\n",
    "\n",
    "print('Output : The 3rd element of given tuple is', tpl[2])"
   ]
  },
  {
   "cell_type": "code",
   "execution_count": 4,
   "metadata": {
    "colab": {
     "base_uri": "https://localhost:8080/",
     "height": 34
    },
    "colab_type": "code",
    "executionInfo": {
     "elapsed": 1908,
     "status": "ok",
     "timestamp": 1573026210409,
     "user": {
      "displayName": "bheem kumar",
      "photoUrl": "https://lh3.googleusercontent.com/a-/AAuE7mDCx24nBXj8t-exydQqWCz_3_2Fr8UREB6_UTXj=s64",
      "userId": "16514217920437432713"
     },
     "user_tz": -330
    },
    "id": "cPXM6tkREf1u",
    "outputId": "3ca2624b-56e8-40ca-f2e1-a090c5ad718b"
   },
   "outputs": [
    {
     "name": "stdout",
     "output_type": "stream",
     "text": [
      "Output : Index = 6\n"
     ]
    }
   ],
   "source": [
    "\"\"\"\n",
    "\n",
    "What is the index of last element of given tuple when reading in forward order ?\n",
    "\n",
    "Input:--\n",
    "    \n",
    "    tpl = (1, 2, 3, 4, 5, 6, 7)\n",
    "\n",
    "Output:--\n",
    "    \n",
    "    Index = 6\n",
    "\n",
    "\"\"\"\n",
    "\n",
    "tpl = (1, 2, 3, 4, 5, 6, 7)\n",
    "\n",
    "print('Output : Index =', tpl.index(tpl[-1]))"
   ]
  },
  {
   "cell_type": "code",
   "execution_count": 5,
   "metadata": {
    "colab": {
     "base_uri": "https://localhost:8080/",
     "height": 34
    },
    "colab_type": "code",
    "executionInfo": {
     "elapsed": 1898,
     "status": "ok",
     "timestamp": 1573026210410,
     "user": {
      "displayName": "bheem kumar",
      "photoUrl": "https://lh3.googleusercontent.com/a-/AAuE7mDCx24nBXj8t-exydQqWCz_3_2Fr8UREB6_UTXj=s64",
      "userId": "16514217920437432713"
     },
     "user_tz": -330
    },
    "id": "XzRpAMphfJcX",
    "outputId": "10ba66f2-8d12-457c-9b18-198f1ea30e21"
   },
   "outputs": [
    {
     "name": "stdout",
     "output_type": "stream",
     "text": [
      "Output : Index = -1\n"
     ]
    }
   ],
   "source": [
    "\"\"\"\n",
    "\n",
    "What is the index of first element of given tuple when we read elements in backward order ?\n",
    "\n",
    "Input:--\n",
    "    \n",
    "    tpl = (1, 2, 3, 4, 5, 6, 7)\n",
    "\n",
    "Output:--\n",
    "    \n",
    "    Index = -1\n",
    "\n",
    "\"\"\"\n",
    "\n",
    "tpl = (1, 2, 3, 4, 5, 6, 7)\n",
    "\n",
    "print('Output : Index =', tpl[::-1].index(tpl[0]) - len(tpl))"
   ]
  },
  {
   "cell_type": "code",
   "execution_count": 6,
   "metadata": {
    "colab": {
     "base_uri": "https://localhost:8080/",
     "height": 34
    },
    "colab_type": "code",
    "executionInfo": {
     "elapsed": 1890,
     "status": "ok",
     "timestamp": 1573026210411,
     "user": {
      "displayName": "bheem kumar",
      "photoUrl": "https://lh3.googleusercontent.com/a-/AAuE7mDCx24nBXj8t-exydQqWCz_3_2Fr8UREB6_UTXj=s64",
      "userId": "16514217920437432713"
     },
     "user_tz": -330
    },
    "id": "xmDXPFW0Ef12",
    "outputId": "4e504275-8f21-4252-c38f-460eea2c16b6"
   },
   "outputs": [
    {
     "name": "stdout",
     "output_type": "stream",
     "text": [
      "Output : First element of given tuple is 1\n"
     ]
    }
   ],
   "source": [
    "\"\"\"\n",
    "\n",
    "Print the fisrt element of given tuple.\n",
    "\n",
    "Input:--\n",
    "\n",
    "    tpl = (1, 2, 3, 4, 5, 6, 7)\n",
    "\n",
    "Output:--\n",
    "\n",
    "    First element of given tuple is 1\n",
    "\n",
    "\"\"\"\n",
    "\n",
    "tpl = (1, 2, 3, 4, 5, 6, 7)\n",
    "\n",
    "print('Output : First element of given tuple is', tpl[0])\n"
   ]
  },
  {
   "cell_type": "code",
   "execution_count": 7,
   "metadata": {
    "colab": {
     "base_uri": "https://localhost:8080/",
     "height": 34
    },
    "colab_type": "code",
    "executionInfo": {
     "elapsed": 1882,
     "status": "ok",
     "timestamp": 1573026210411,
     "user": {
      "displayName": "bheem kumar",
      "photoUrl": "https://lh3.googleusercontent.com/a-/AAuE7mDCx24nBXj8t-exydQqWCz_3_2Fr8UREB6_UTXj=s64",
      "userId": "16514217920437432713"
     },
     "user_tz": -330
    },
    "id": "SI8UZZQiEf16",
    "outputId": "bd8b4d9a-649a-465e-87d6-3808c61c32c3"
   },
   "outputs": [
    {
     "name": "stdout",
     "output_type": "stream",
     "text": [
      "Output : Last element of given tuple is 7\n"
     ]
    }
   ],
   "source": [
    "\"\"\"\n",
    "\n",
    "Print the last element of given tuple.\n",
    "\n",
    "Input:--\n",
    "    \n",
    "    tpl = (1, 2, 3, 4, 5, 6, 7)\n",
    "\n",
    "Output:--\n",
    "    \n",
    "    Last element of given tuple is = 7\n",
    "\n",
    "\"\"\"\n",
    "\n",
    "tpl = (1, 2, 3, 4, 5, 6, 7)\n",
    "\n",
    "print('Output : Last element of given tuple is', tpl[len(tpl)-1])\n"
   ]
  },
  {
   "cell_type": "code",
   "execution_count": 8,
   "metadata": {
    "colab": {
     "base_uri": "https://localhost:8080/",
     "height": 34
    },
    "colab_type": "code",
    "executionInfo": {
     "elapsed": 1874,
     "status": "ok",
     "timestamp": 1573026210412,
     "user": {
      "displayName": "bheem kumar",
      "photoUrl": "https://lh3.googleusercontent.com/a-/AAuE7mDCx24nBXj8t-exydQqWCz_3_2Fr8UREB6_UTXj=s64",
      "userId": "16514217920437432713"
     },
     "user_tz": -330
    },
    "id": "0GriVJuDEf1-",
    "outputId": "8178436c-50ce-4393-8e33-532161bab3bb"
   },
   "outputs": [
    {
     "name": "stdout",
     "output_type": "stream",
     "text": [
      "Output : First 3 elements of given tuple is (1, 2, 3)\n"
     ]
    }
   ],
   "source": [
    "\"\"\"\n",
    "\n",
    "Print the first 3 elements of given tuple.\n",
    "\n",
    "Input:--\n",
    "    \n",
    "    tpl = (1, 2, 3, 4, 5, 6, 7)\n",
    "\n",
    "Output:--\n",
    "    \n",
    "    First 3 elements of given tuple is (1, 2, 3)\n",
    "\n",
    "\"\"\"\n",
    "\n",
    "tpl = (1, 2, 3, 4, 5, 6, 7)\n",
    "\n",
    "print('Output : First 3 elements of given tuple is', tpl[:3])\n"
   ]
  },
  {
   "cell_type": "code",
   "execution_count": 9,
   "metadata": {
    "colab": {
     "base_uri": "https://localhost:8080/",
     "height": 34
    },
    "colab_type": "code",
    "executionInfo": {
     "elapsed": 1866,
     "status": "ok",
     "timestamp": 1573026210412,
     "user": {
      "displayName": "bheem kumar",
      "photoUrl": "https://lh3.googleusercontent.com/a-/AAuE7mDCx24nBXj8t-exydQqWCz_3_2Fr8UREB6_UTXj=s64",
      "userId": "16514217920437432713"
     },
     "user_tz": -330
    },
    "id": "jXgsJuLUEf2D",
    "outputId": "2d16f65a-f9e8-4fba-c55b-cddc49e9f1d5"
   },
   "outputs": [
    {
     "name": "stdout",
     "output_type": "stream",
     "text": [
      "Output : Last 3 elements of given tuple is (5, 6, 7)\n"
     ]
    }
   ],
   "source": [
    "\"\"\"\n",
    "\n",
    "Print the last 3 element of given tuple.\n",
    "\n",
    "Input:--\n",
    "    \n",
    "    tpl = (1, 2, 3, 4, 5, 6, 7)\n",
    "\n",
    "Output:--\n",
    "\n",
    "    First 3 elements of given tuple is (5, 6, 7)\n",
    "\n",
    "\"\"\"\n",
    "\n",
    "tpl = (1, 2, 3, 4, 5, 6, 7)\n",
    "\n",
    "print('Output : Last 3 elements of given tuple is', tpl[-3:])\n"
   ]
  },
  {
   "cell_type": "code",
   "execution_count": 10,
   "metadata": {
    "colab": {
     "base_uri": "https://localhost:8080/",
     "height": 34
    },
    "colab_type": "code",
    "executionInfo": {
     "elapsed": 1859,
     "status": "ok",
     "timestamp": 1573026210413,
     "user": {
      "displayName": "bheem kumar",
      "photoUrl": "https://lh3.googleusercontent.com/a-/AAuE7mDCx24nBXj8t-exydQqWCz_3_2Fr8UREB6_UTXj=s64",
      "userId": "16514217920437432713"
     },
     "user_tz": -330
    },
    "id": "bg_yPNGoEf2J",
    "outputId": "57144aab-1f46-4502-beb1-037e90417b78"
   },
   "outputs": [
    {
     "name": "stdout",
     "output_type": "stream",
     "text": [
      "Output : Length of given tuple is 7\n"
     ]
    }
   ],
   "source": [
    "\"\"\"\n",
    "\n",
    "Print the length of given tuple2.\n",
    "\n",
    "Input:--\n",
    "    \n",
    "    tpl = (1, 2, 3, 4, 5, 6, 7)\n",
    "\n",
    "Output:--\n",
    "\n",
    "    Length of given tuple is \n",
    "\n",
    "\"\"\"\n",
    "\n",
    "tpl = (1, 2, 3, 4, 5, 6, 7)\n",
    "\n",
    "print('Output : Length of given tuple is', len(tpl))\n"
   ]
  },
  {
   "cell_type": "code",
   "execution_count": 11,
   "metadata": {
    "colab": {
     "base_uri": "https://localhost:8080/",
     "height": 34
    },
    "colab_type": "code",
    "executionInfo": {
     "elapsed": 1849,
     "status": "ok",
     "timestamp": 1573026210413,
     "user": {
      "displayName": "bheem kumar",
      "photoUrl": "https://lh3.googleusercontent.com/a-/AAuE7mDCx24nBXj8t-exydQqWCz_3_2Fr8UREB6_UTXj=s64",
      "userId": "16514217920437432713"
     },
     "user_tz": -330
    },
    "id": "kWtnsGZIEf2O",
    "outputId": "4016418e-ae12-4aab-9914-27a93a6c0784"
   },
   "outputs": [
    {
     "name": "stdout",
     "output_type": "stream",
     "text": [
      "Output : Frequency of 2 in given list is 5\n"
     ]
    }
   ],
   "source": [
    "\"\"\"\n",
    "Count the frequency  of element 2 in given tuple.\n",
    "\n",
    "Input:--\n",
    "    \n",
    "    tpl = (1, 2, 3, 4, 3, 2, 6, 3, 2, 2, 2, 5, 6, 7)\n",
    "\n",
    "Output:--\n",
    "\n",
    "    Frequency of 2 in given list is 5\n",
    "\n",
    "\"\"\"\n",
    "\n",
    "tpl = (1, 2, 3, 4, 3, 2, 6, 3, 2, 2, 2, 5, 6, 7)\n",
    "\n",
    "print('Output : Frequency of 2 in given list is', tpl.count(2))\n"
   ]
  },
  {
   "cell_type": "code",
   "execution_count": 12,
   "metadata": {
    "colab": {
     "base_uri": "https://localhost:8080/",
     "height": 34
    },
    "colab_type": "code",
    "executionInfo": {
     "elapsed": 1842,
     "status": "ok",
     "timestamp": 1573026210414,
     "user": {
      "displayName": "bheem kumar",
      "photoUrl": "https://lh3.googleusercontent.com/a-/AAuE7mDCx24nBXj8t-exydQqWCz_3_2Fr8UREB6_UTXj=s64",
      "userId": "16514217920437432713"
     },
     "user_tz": -330
    },
    "id": "2CANZkcXEf2S",
    "outputId": "65e30b38-038c-426c-dbbe-2ef3c754aeb5"
   },
   "outputs": [
    {
     "name": "stdout",
     "output_type": "stream",
     "text": [
      "Output : Index of 9 in given tuple is 5\n"
     ]
    }
   ],
   "source": [
    "\"\"\"\n",
    "\n",
    "Find the index of 9 in given tuple.\n",
    "\n",
    "Input:--\n",
    "    \n",
    "    tpl = (1, 2, 3, 4, 3, 9, 6, 3, 2, 2, 2, 5, 6, 7)\n",
    "\n",
    "Output:--\n",
    "    \n",
    "    Index of 9 in given tuple is 5\n",
    "\n",
    "\"\"\"\n",
    "\n",
    "tpl = (1, 2, 3, 4, 3, 9, 6, 3, 2, 2, 2, 5, 6, 7)\n",
    "\n",
    "print(\"Output : Index of 9 in given tuple is\", tpl.index(9))"
   ]
  },
  {
   "cell_type": "code",
   "execution_count": 13,
   "metadata": {
    "colab": {
     "base_uri": "https://localhost:8080/",
     "height": 85
    },
    "colab_type": "code",
    "executionInfo": {
     "elapsed": 1834,
     "status": "ok",
     "timestamp": 1573026210414,
     "user": {
      "displayName": "bheem kumar",
      "photoUrl": "https://lh3.googleusercontent.com/a-/AAuE7mDCx24nBXj8t-exydQqWCz_3_2Fr8UREB6_UTXj=s64",
      "userId": "16514217920437432713"
     },
     "user_tz": -330
    },
    "id": "reSHXzCQEf2b",
    "outputId": "009f6480-1f80-46b9-f2bd-ed38d7ff0c41"
   },
   "outputs": [
    {
     "name": "stdout",
     "output_type": "stream",
     "text": [
      "Outputs:--\n",
      "\n",
      "Before deleting first element: (1, 2, 3, 4, 5, 6, 7)\n",
      "After  deleting first element: (2, 3, 4, 5, 6, 7)\n"
     ]
    }
   ],
   "source": [
    "\"\"\"\n",
    "\n",
    "Delete the first element of geven tuple.\n",
    "\n",
    "Input:--\n",
    "    \n",
    "    tpl = (1, 2, 3, 4, 5, 6, 7)\n",
    "\n",
    "Output:--\n",
    "    \n",
    "     (2, 3, 4, 5, 6, 7)\n",
    "\"\"\"\n",
    "\n",
    "tpl = (1, 2, 3, 4, 5, 6, 7)\n",
    "\n",
    "print(\"Outputs:--\\n\\nBefore deleting first element:\", tpl)\n",
    "\n",
    "tpl = tpl[1:]\n",
    "print(\"After  deleting first element:\", tpl)"
   ]
  },
  {
   "cell_type": "code",
   "execution_count": 14,
   "metadata": {
    "colab": {
     "base_uri": "https://localhost:8080/",
     "height": 34
    },
    "colab_type": "code",
    "executionInfo": {
     "elapsed": 1827,
     "status": "ok",
     "timestamp": 1573026210415,
     "user": {
      "displayName": "bheem kumar",
      "photoUrl": "https://lh3.googleusercontent.com/a-/AAuE7mDCx24nBXj8t-exydQqWCz_3_2Fr8UREB6_UTXj=s64",
      "userId": "16514217920437432713"
     },
     "user_tz": -330
    },
    "id": "XRmYDXDuEf2f",
    "outputId": "5aeee12a-4f4c-40f9-ddf9-a190c9aabef6"
   },
   "outputs": [
    {
     "name": "stdout",
     "output_type": "stream",
     "text": [
      "Output : (1, 2, 3, 4, 5, 6)\n"
     ]
    }
   ],
   "source": [
    "\"\"\"\n",
    "\n",
    "Merge two given tuples.\n",
    "\n",
    "Inputs:--\n",
    "    \n",
    "    tpl1 = (1, 2, 3)\n",
    "    tpl2 = (4, 5, 6)\n",
    "\n",
    "Output:--\n",
    "\n",
    "    (1, 2, 3, 4, 5, 6)\n",
    "\n",
    "\"\"\"\n",
    "\n",
    "tpl1 = (1, 2, 3)\n",
    "tpl2 = (4, 5, 6)\n",
    "\n",
    "print('Output :', tpl1 + tpl2)"
   ]
  },
  {
   "cell_type": "code",
   "execution_count": 15,
   "metadata": {
    "colab": {
     "base_uri": "https://localhost:8080/",
     "height": 34
    },
    "colab_type": "code",
    "executionInfo": {
     "elapsed": 1819,
     "status": "ok",
     "timestamp": 1573026210416,
     "user": {
      "displayName": "bheem kumar",
      "photoUrl": "https://lh3.googleusercontent.com/a-/AAuE7mDCx24nBXj8t-exydQqWCz_3_2Fr8UREB6_UTXj=s64",
      "userId": "16514217920437432713"
     },
     "user_tz": -330
    },
    "id": "udlav0PgEf2j",
    "outputId": "d65db465-2e67-4078-f0c6-1aa5557053bf"
   },
   "outputs": [
    {
     "name": "stdout",
     "output_type": "stream",
     "text": [
      "Output : (1, 2, 3, 1, 2, 3, 1, 2, 3)\n"
     ]
    }
   ],
   "source": [
    "\"\"\"\n",
    "\n",
    "Repeat all the elements of given tuple 3 times.\n",
    "\n",
    "Input:--\n",
    "    \n",
    "    tpl = (1, 2, 3)\n",
    "\n",
    "Output:--\n",
    "    \n",
    "    (1, 2, 3, 1, 2, 3, 1, 2, 3)\n",
    "\n",
    "\"\"\"\n",
    "\n",
    "tpl = (1, 2, 3)\n",
    "\n",
    "print('Output :', tpl*3)"
   ]
  },
  {
   "cell_type": "code",
   "execution_count": 16,
   "metadata": {
    "colab": {
     "base_uri": "https://localhost:8080/",
     "height": 34
    },
    "colab_type": "code",
    "executionInfo": {
     "elapsed": 1810,
     "status": "ok",
     "timestamp": 1573026210416,
     "user": {
      "displayName": "bheem kumar",
      "photoUrl": "https://lh3.googleusercontent.com/a-/AAuE7mDCx24nBXj8t-exydQqWCz_3_2Fr8UREB6_UTXj=s64",
      "userId": "16514217920437432713"
     },
     "user_tz": -330
    },
    "id": "FnlNMk2SEf2o",
    "outputId": "6e6c08c0-4c95-4f2b-9add-e6573c442998"
   },
   "outputs": [
    {
     "name": "stdout",
     "output_type": "stream",
     "text": [
      "Output : Nested tuple = ((1, 2, 3), (4, 5, 6), 7, 8, 9)\n"
     ]
    }
   ],
   "source": [
    "\"\"\"\n",
    "\n",
    "Create a nested tuple of given two tuples.\n",
    "\n",
    "Inputs:--\n",
    "    \n",
    "    tpl1 = (1, 2, 3)\n",
    "    tpl2 = (4, 5, 6)\n",
    "\n",
    "Output:--\n",
    "    \n",
    "    Nested tuple = ((1, 2, 3), (4, 5, 6), 7, 8, 9)\n",
    "\n",
    "\"\"\"\n",
    "\n",
    "tpl1 = (1, 2, 3)\n",
    "tpl2 = (4, 5, 6)\n",
    "\n",
    "tpl3 = (tpl1, tpl2, 7, 8, 9)\n",
    "\n",
    "print('Output : Nested tuple =', tpl3)"
   ]
  },
  {
   "cell_type": "code",
   "execution_count": 17,
   "metadata": {
    "colab": {
     "base_uri": "https://localhost:8080/",
     "height": 34
    },
    "colab_type": "code",
    "executionInfo": {
     "elapsed": 1802,
     "status": "ok",
     "timestamp": 1573026210417,
     "user": {
      "displayName": "bheem kumar",
      "photoUrl": "https://lh3.googleusercontent.com/a-/AAuE7mDCx24nBXj8t-exydQqWCz_3_2Fr8UREB6_UTXj=s64",
      "userId": "16514217920437432713"
     },
     "user_tz": -330
    },
    "id": "-3FhkVrFrGP6",
    "outputId": "17e331fa-8e17-4022-9b60-d15297f63abe"
   },
   "outputs": [
    {
     "name": "stdout",
     "output_type": "stream",
     "text": [
      "Output : New tuple = (1, 2, 3)\n"
     ]
    }
   ],
   "source": [
    "\"\"\"\n",
    "\n",
    "Remove nested tuple from given tuple.\n",
    "\n",
    "Inputs:--\n",
    "    \n",
    "    tpl1 = (1, 2, 3, (4, 5, 6))\n",
    "\n",
    "Output:--\n",
    "    \n",
    "    New tuple = (1, 2, 3)\n",
    "\n",
    "\"\"\"\n",
    "\n",
    "tpl = (1, 2, 3, (4, 5, 6))\n",
    "tpl = tpl[:-1]\n",
    "\n",
    "print(\"Output : New tuple =\", tpl)"
   ]
  }
 ],
 "metadata": {
  "colab": {
   "name": "Python_tuple_1.ipynb",
   "provenance": []
  },
  "kernelspec": {
   "display_name": "Python 3",
   "language": "python",
   "name": "python3"
  },
  "language_info": {
   "codemirror_mode": {
    "name": "ipython",
    "version": 3
   },
   "file_extension": ".py",
   "mimetype": "text/x-python",
   "name": "python",
   "nbconvert_exporter": "python",
   "pygments_lexer": "ipython3",
   "version": "3.8.2"
  }
 },
 "nbformat": 4,
 "nbformat_minor": 1
}
