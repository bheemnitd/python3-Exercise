{
 "cells": [
  {
   "cell_type": "markdown",
   "metadata": {
    "colab_type": "text",
    "id": "bRM3PlKkjJN1"
   },
   "source": [
    "**What is Operator ?**\n",
    "\n",
    "Ans -- An operator is a symbol that tells the computer to perform specific mathematical or logical manipulations."
   ]
  },
  {
   "cell_type": "markdown",
   "metadata": {
    "colab_type": "text",
    "id": "2f0YTScfj_lM"
   },
   "source": [
    "**How many categories of operators in Python ?**\n",
    "\n",
    "Ans -- Python language supports the following types of operators.\n",
    "\n",
    " - Arithmetic Operators\n",
    " - Comparison (Relational) Operators\n",
    " - Assignment Operators\n",
    " - Logical Operators\n",
    " - Bitwise Operators\n",
    " - Membership Operators\n",
    " - Identity Operators"
   ]
  },
  {
   "cell_type": "markdown",
   "metadata": {
    "colab_type": "text",
    "id": "e8bgOfA-rhmr"
   },
   "source": [
    "**What is Arithmetic Operators ?**\n",
    "\n",
    "Ans -- Arithmetic Operators are mainly used in numerical calculation.<br>\n",
    "for example 4 + 9, a + b (where a, b have numerical values).<br>\n",
    "Even we can perform more than numerical calculation for example string concatenation('python'+'3.0' = Python3.0). "
   ]
  },
  {
   "cell_type": "code",
   "execution_count": 1,
   "metadata": {
    "colab": {
     "base_uri": "https://localhost:8080/",
     "height": 34
    },
    "colab_type": "code",
    "executionInfo": {
     "elapsed": 603,
     "status": "ok",
     "timestamp": 1575210308652,
     "user": {
      "displayName": "Madan Lal Gupta",
      "photoUrl": "",
      "userId": "02702418645993111853"
     },
     "user_tz": 300
    },
    "id": "wubAlYXigjQP",
    "outputId": "b432cd20-3993-4c52-b903-b01ccc3b038b"
   },
   "outputs": [
    {
     "name": "stdout",
     "output_type": "stream",
     "text": [
      "Output : 13\n"
     ]
    }
   ],
   "source": [
    "\"\"\"\n",
    "Write a program to add two numbers using '+' operator and get it into 3rd variable and print it.\n",
    "\n",
    "Input1: 5\n",
    "Input2: 8\n",
    "\n",
    "Output: 13\n",
    "\n",
    "\"\"\"\n",
    "\n",
    "a = 5\n",
    "\n",
    "b = 8\n",
    "\n",
    "c = a + b\n",
    "print('Output :', c)"
   ]
  },
  {
   "cell_type": "code",
   "execution_count": 2,
   "metadata": {
    "colab": {
     "base_uri": "https://localhost:8080/",
     "height": 34
    },
    "colab_type": "code",
    "executionInfo": {
     "elapsed": 406,
     "status": "ok",
     "timestamp": 1575210314178,
     "user": {
      "displayName": "Madan Lal Gupta",
      "photoUrl": "",
      "userId": "02702418645993111853"
     },
     "user_tz": 300
    },
    "id": "1pOScRpAjHGr",
    "outputId": "782b055c-d3d1-4722-c0df-0791bb52f692"
   },
   "outputs": [
    {
     "name": "stdout",
     "output_type": "stream",
     "text": [
      "Output : -3\n"
     ]
    }
   ],
   "source": [
    "\"\"\"\n",
    "Write a program to subtract 8 from 5 using '-' operator and get it into 3rd variable and print it.\n",
    "\n",
    "Input1: 5\n",
    "Input2: 8\n",
    "\n",
    "Output: -3\n",
    "\n",
    "\"\"\"\n",
    "\n",
    "a = 5\n",
    "\n",
    "b = 8\n",
    "\n",
    "c = a - b\n",
    "print('Output :', c)"
   ]
  },
  {
   "cell_type": "code",
   "execution_count": 3,
   "metadata": {
    "colab": {
     "base_uri": "https://localhost:8080/",
     "height": 34
    },
    "colab_type": "code",
    "executionInfo": {
     "elapsed": 404,
     "status": "ok",
     "timestamp": 1575210318190,
     "user": {
      "displayName": "Madan Lal Gupta",
      "photoUrl": "",
      "userId": "02702418645993111853"
     },
     "user_tz": 300
    },
    "id": "xPdKIZ1WvmWY",
    "outputId": "44a49779-07ba-4836-8654-a2c10879b8c3"
   },
   "outputs": [
    {
     "name": "stdout",
     "output_type": "stream",
     "text": [
      "Output : 40\n"
     ]
    }
   ],
   "source": [
    "\"\"\"\n",
    "Write a program to multiply two numbers using '*' operator and get it into 3rd variable and print it.\n",
    "\n",
    "Input1: 5\n",
    "Input2: 8\n",
    "\n",
    "Output: 40\n",
    "\n",
    "\"\"\"\n",
    "\n",
    "a = 5\n",
    "\n",
    "b = 8\n",
    "\n",
    "c = a * b\n",
    "print('Output :', c)"
   ]
  },
  {
   "cell_type": "code",
   "execution_count": 4,
   "metadata": {
    "colab": {
     "base_uri": "https://localhost:8080/",
     "height": 34
    },
    "colab_type": "code",
    "executionInfo": {
     "elapsed": 371,
     "status": "ok",
     "timestamp": 1575210321917,
     "user": {
      "displayName": "Madan Lal Gupta",
      "photoUrl": "",
      "userId": "02702418645993111853"
     },
     "user_tz": 300
    },
    "id": "O3h38fGbwD6F",
    "outputId": "71bf4753-08d6-49fc-aaf3-faa646394fe0"
   },
   "outputs": [
    {
     "name": "stdout",
     "output_type": "stream",
     "text": [
      "Output : 2.6666666666666665\n"
     ]
    }
   ],
   "source": [
    "\"\"\"\n",
    "Write a program to divide 8 by 3 using '/' operator and get it into 3rd variable and print it.\n",
    "\n",
    "Input1: 8\n",
    "Input2: 3\n",
    "\n",
    "Output: 2.6666666666666665\n",
    "\n",
    "\"\"\"\n",
    "\n",
    "a = 8\n",
    "\n",
    "b = 3\n",
    "\n",
    "c = a / b\n",
    "print('Output :', c)"
   ]
  },
  {
   "cell_type": "code",
   "execution_count": 0,
   "metadata": {
    "colab": {
     "base_uri": "https://localhost:8080/",
     "height": 34
    },
    "colab_type": "code",
    "executionInfo": {
     "elapsed": 4027,
     "status": "ok",
     "timestamp": 1568114014126,
     "user": {
      "displayName": "BHEEM KUMAR",
      "photoUrl": "https://lh3.googleusercontent.com/a-/AAuE7mCt7lUnsC2GTAphPovu9Ia-s3UmOdWEPyr8wqQt=s64",
      "userId": "17710010183457348789"
     },
     "user_tz": -330
    },
    "id": "xNbYArf1xGHX",
    "outputId": "89368036-c980-447c-f777-d4d63a408558"
   },
   "outputs": [
    {
     "name": "stdout",
     "output_type": "stream",
     "text": [
      "Output : 2\n"
     ]
    }
   ],
   "source": [
    "\"\"\"\n",
    "Write a program to divide 8 by 3 using '//' operator to get the integer value and print it.\n",
    "\n",
    "Input1: 8\n",
    "Input2: 3\n",
    "\n",
    "Output: 2\n",
    "\n",
    "\"\"\"\n",
    "\n",
    "a = 8\n",
    "\n",
    "b = 3\n",
    "\n",
    "c = a // b\n",
    "print('Output :', c)"
   ]
  },
  {
   "cell_type": "code",
   "execution_count": 0,
   "metadata": {
    "colab": {
     "base_uri": "https://localhost:8080/",
     "height": 34
    },
    "colab_type": "code",
    "executionInfo": {
     "elapsed": 4022,
     "status": "ok",
     "timestamp": 1568114014127,
     "user": {
      "displayName": "BHEEM KUMAR",
      "photoUrl": "https://lh3.googleusercontent.com/a-/AAuE7mCt7lUnsC2GTAphPovu9Ia-s3UmOdWEPyr8wqQt=s64",
      "userId": "17710010183457348789"
     },
     "user_tz": -330
    },
    "id": "-ywaDlVByQlo",
    "outputId": "0709c815-1299-4c7d-faca-b961bde5671f"
   },
   "outputs": [
    {
     "name": "stdout",
     "output_type": "stream",
     "text": [
      "Output : 2\n"
     ]
    }
   ],
   "source": [
    "\"\"\"\n",
    "Write a program to get the modulus using '%' operator of given numbers and print it.\n",
    "\n",
    "Input1: 8\n",
    "Input2: 3\n",
    "\n",
    "Output: 2\n",
    "\n",
    "\"\"\"\n",
    "\n",
    "a = 8\n",
    "\n",
    "b = 3\n",
    "\n",
    "c = a % b\n",
    "print('Output :', c)"
   ]
  },
  {
   "cell_type": "code",
   "execution_count": 0,
   "metadata": {
    "colab": {
     "base_uri": "https://localhost:8080/",
     "height": 34
    },
    "colab_type": "code",
    "executionInfo": {
     "elapsed": 4016,
     "status": "ok",
     "timestamp": 1568114014127,
     "user": {
      "displayName": "BHEEM KUMAR",
      "photoUrl": "https://lh3.googleusercontent.com/a-/AAuE7mCt7lUnsC2GTAphPovu9Ia-s3UmOdWEPyr8wqQt=s64",
      "userId": "17710010183457348789"
     },
     "user_tz": -330
    },
    "id": "WU0SC67tzK1P",
    "outputId": "53e39cf3-5490-4575-d784-0111b1b5eda2"
   },
   "outputs": [
    {
     "name": "stdout",
     "output_type": "stream",
     "text": [
      "Output : 512\n"
     ]
    }
   ],
   "source": [
    "\"\"\"\n",
    "Write a program to get the value of 8 to the power 3 using '**' operator and print it.\n",
    "\n",
    "Input1: 8\n",
    "Input2: 3\n",
    "\n",
    "Output: 512\n",
    "\n",
    "\"\"\"\n",
    "\n",
    "a = 8\n",
    "\n",
    "b = 3\n",
    "\n",
    "c = a ** b\n",
    "print('Output :', c)"
   ]
  },
  {
   "cell_type": "code",
   "execution_count": 0,
   "metadata": {
    "colab": {
     "base_uri": "https://localhost:8080/",
     "height": 34
    },
    "colab_type": "code",
    "executionInfo": {
     "elapsed": 4011,
     "status": "ok",
     "timestamp": 1568114014128,
     "user": {
      "displayName": "BHEEM KUMAR",
      "photoUrl": "https://lh3.googleusercontent.com/a-/AAuE7mCt7lUnsC2GTAphPovu9Ia-s3UmOdWEPyr8wqQt=s64",
      "userId": "17710010183457348789"
     },
     "user_tz": -330
    },
    "id": "9FbYH4tbz2sN",
    "outputId": "2be07a18-3b7c-4c2c-f384-798440baad31"
   },
   "outputs": [
    {
     "name": "stdout",
     "output_type": "stream",
     "text": [
      "Output : 11.0\n"
     ]
    }
   ],
   "source": [
    "\"\"\"\n",
    "Write a program to add 8 and 3 without using '+' operator.\n",
    "\n",
    "Input1: 8\n",
    "Input2: 3\n",
    "\n",
    "Output: 11.0\n",
    "\n",
    "\"\"\"\n",
    "\n",
    "a = 8\n",
    "\n",
    "b = 3\n",
    "\n",
    "c = (a**2-b**2)/(a-b)\n",
    "\n",
    "print('Output :', c)"
   ]
  },
  {
   "cell_type": "markdown",
   "metadata": {
    "colab_type": "text",
    "id": "_vmGu_ea02Tq"
   },
   "source": [
    "**What is Comparison(Relational) Operators ?**\n",
    "\n",
    "Ans - These operators compare the values on either sides of them and decide the relation among them. They are also called Relational operators.\n",
    "\n",
    "for example 8 > 6."
   ]
  },
  {
   "cell_type": "code",
   "execution_count": 0,
   "metadata": {
    "colab": {
     "base_uri": "https://localhost:8080/",
     "height": 34
    },
    "colab_type": "code",
    "executionInfo": {
     "elapsed": 4005,
     "status": "ok",
     "timestamp": 1568114014128,
     "user": {
      "displayName": "BHEEM KUMAR",
      "photoUrl": "https://lh3.googleusercontent.com/a-/AAuE7mCt7lUnsC2GTAphPovu9Ia-s3UmOdWEPyr8wqQt=s64",
      "userId": "17710010183457348789"
     },
     "user_tz": -330
    },
    "id": "O3WTrRQXDXy7",
    "outputId": "4b3b777d-bb93-46fb-c7cb-7b92ff1026be"
   },
   "outputs": [
    {
     "name": "stdout",
     "output_type": "stream",
     "text": [
      "Output : 8\n"
     ]
    }
   ],
   "source": [
    "\"\"\"\n",
    "Write a program whcih compare two number and print the large one.\n",
    "\n",
    "Input1: 8\n",
    "Input2: 3\n",
    "\n",
    "Output: 8\n",
    "\n",
    "\"\"\"\n",
    "\n",
    "a = 8\n",
    "\n",
    "b = 3\n",
    "\n",
    "c = a if a > b else b\n",
    "\n",
    "print('Output :', c)"
   ]
  },
  {
   "cell_type": "code",
   "execution_count": 0,
   "metadata": {
    "colab": {
     "base_uri": "https://localhost:8080/",
     "height": 34
    },
    "colab_type": "code",
    "executionInfo": {
     "elapsed": 3999,
     "status": "ok",
     "timestamp": 1568114014128,
     "user": {
      "displayName": "BHEEM KUMAR",
      "photoUrl": "https://lh3.googleusercontent.com/a-/AAuE7mCt7lUnsC2GTAphPovu9Ia-s3UmOdWEPyr8wqQt=s64",
      "userId": "17710010183457348789"
     },
     "user_tz": -330
    },
    "id": "riE-4iwVFDWi",
    "outputId": "a333af93-390c-4539-d063-2353cee8a77f"
   },
   "outputs": [
    {
     "name": "stdout",
     "output_type": "stream",
     "text": [
      "Output : 3\n"
     ]
    }
   ],
   "source": [
    "\"\"\"\n",
    "Write a program whcih compare two number and print the small one.\n",
    "\n",
    "Input1: 8\n",
    "Input2: 3\n",
    "\n",
    "Output: 8\n",
    "\n",
    "\"\"\"\n",
    "\n",
    "a = 8\n",
    "\n",
    "b = 3\n",
    "\n",
    "c = a if a < b else b\n",
    "\n",
    "print('Output :', c)"
   ]
  },
  {
   "cell_type": "code",
   "execution_count": 0,
   "metadata": {
    "colab": {
     "base_uri": "https://localhost:8080/",
     "height": 34
    },
    "colab_type": "code",
    "executionInfo": {
     "elapsed": 3994,
     "status": "ok",
     "timestamp": 1568114014129,
     "user": {
      "displayName": "BHEEM KUMAR",
      "photoUrl": "https://lh3.googleusercontent.com/a-/AAuE7mCt7lUnsC2GTAphPovu9Ia-s3UmOdWEPyr8wqQt=s64",
      "userId": "17710010183457348789"
     },
     "user_tz": -330
    },
    "id": "1J3x1UlYFSBk",
    "outputId": "c5a721d6-56f1-42a9-e478-b91368a12284"
   },
   "outputs": [
    {
     "name": "stdout",
     "output_type": "stream",
     "text": [
      "Output : True\n"
     ]
    }
   ],
   "source": [
    "\"\"\"\n",
    "Write a program whcih compare two number and print True if both are same otherwise print False.\n",
    "\n",
    "Input1: 8\n",
    "Input2: 8\n",
    "\n",
    "Output: True\n",
    "\n",
    "\"\"\"\n",
    "\n",
    "a = 8\n",
    "\n",
    "b = 8\n",
    "\n",
    "c = a == b\n",
    "\n",
    "print('Output :', c)"
   ]
  },
  {
   "cell_type": "code",
   "execution_count": 0,
   "metadata": {
    "colab": {
     "base_uri": "https://localhost:8080/",
     "height": 34
    },
    "colab_type": "code",
    "executionInfo": {
     "elapsed": 3985,
     "status": "ok",
     "timestamp": 1568114014129,
     "user": {
      "displayName": "BHEEM KUMAR",
      "photoUrl": "https://lh3.googleusercontent.com/a-/AAuE7mCt7lUnsC2GTAphPovu9Ia-s3UmOdWEPyr8wqQt=s64",
      "userId": "17710010183457348789"
     },
     "user_tz": -330
    },
    "id": "BAo5IwAVFqb0",
    "outputId": "06301cd0-3c95-4429-b86b-dc5f3d21fa4b"
   },
   "outputs": [
    {
     "name": "stdout",
     "output_type": "stream",
     "text": [
      "Output : True\n"
     ]
    }
   ],
   "source": [
    "\"\"\"\n",
    "Write a program whcih compare two number and print True if both are not same otherwise print False.\n",
    "\n",
    "Input1: 8\n",
    "Input2: 3\n",
    "\n",
    "Output: True\n",
    "\n",
    "\"\"\"\n",
    "\n",
    "a = 8\n",
    "\n",
    "b = 3\n",
    "\n",
    "c = a != b\n",
    "\n",
    "print('Output :', c)"
   ]
  },
  {
   "cell_type": "code",
   "execution_count": 0,
   "metadata": {
    "colab": {
     "base_uri": "https://localhost:8080/",
     "height": 34
    },
    "colab_type": "code",
    "executionInfo": {
     "elapsed": 3980,
     "status": "ok",
     "timestamp": 1568114014130,
     "user": {
      "displayName": "BHEEM KUMAR",
      "photoUrl": "https://lh3.googleusercontent.com/a-/AAuE7mCt7lUnsC2GTAphPovu9Ia-s3UmOdWEPyr8wqQt=s64",
      "userId": "17710010183457348789"
     },
     "user_tz": -330
    },
    "id": "UH5g9csDGN3p",
    "outputId": "d34007b2-7c39-49ca-a4fb-b13bfc388c2e"
   },
   "outputs": [
    {
     "name": "stdout",
     "output_type": "stream",
     "text": [
      "Output : True\n"
     ]
    }
   ],
   "source": [
    "\"\"\"\n",
    "Write a program whcih compare two number and print True if input1 is greater_than or equal to input2 otherwise print False.\n",
    "\n",
    "Input1: 8\n",
    "Input2: 3\n",
    "\n",
    "Output: True\n",
    "\n",
    "\"\"\"\n",
    "\n",
    "a = 8\n",
    "\n",
    "b = 8\n",
    "\n",
    "c = a >= b\n",
    "\n",
    "print('Output :', c)"
   ]
  },
  {
   "cell_type": "code",
   "execution_count": 0,
   "metadata": {
    "colab": {
     "base_uri": "https://localhost:8080/",
     "height": 34
    },
    "colab_type": "code",
    "executionInfo": {
     "elapsed": 3974,
     "status": "ok",
     "timestamp": 1568114014130,
     "user": {
      "displayName": "BHEEM KUMAR",
      "photoUrl": "https://lh3.googleusercontent.com/a-/AAuE7mCt7lUnsC2GTAphPovu9Ia-s3UmOdWEPyr8wqQt=s64",
      "userId": "17710010183457348789"
     },
     "user_tz": -330
    },
    "id": "E2U8E7bdKY3P",
    "outputId": "687b8fb6-2e62-4886-85f5-021af8a847ac"
   },
   "outputs": [
    {
     "name": "stdout",
     "output_type": "stream",
     "text": [
      "Output : False\n"
     ]
    }
   ],
   "source": [
    "\"\"\"\n",
    "Write a program whcih compare two number and print True if input1 is less_than or equal to input2 otherwise print False.\n",
    "\n",
    "Input1: 8\n",
    "Input2: 3\n",
    "\n",
    "Output: True\n",
    "\n",
    "\"\"\"\n",
    "\n",
    "a = 8\n",
    "\n",
    "b = 9\n",
    "\n",
    "c = a >= b\n",
    "\n",
    "print('Output :', c)"
   ]
  },
  {
   "cell_type": "markdown",
   "metadata": {
    "colab_type": "text",
    "id": "eCviRRA7K-vn"
   },
   "source": [
    "**What is Assignment Operators ?**\n",
    "\n",
    "Ans -- Assignment operators are used in Python to assign values to variables.<br>\n",
    "a = 5 is a simple assignment operator that assigns the value 5 on the right to the variable a on the left. <br>\n",
    "There are various compound operators in Python like a += 5 that adds to the variable and later assigns the same(it is also known as shorthand in c language.)"
   ]
  },
  {
   "cell_type": "code",
   "execution_count": 0,
   "metadata": {
    "colab": {
     "base_uri": "https://localhost:8080/",
     "height": 34
    },
    "colab_type": "code",
    "executionInfo": {
     "elapsed": 3968,
     "status": "ok",
     "timestamp": 1568114014130,
     "user": {
      "displayName": "BHEEM KUMAR",
      "photoUrl": "https://lh3.googleusercontent.com/a-/AAuE7mCt7lUnsC2GTAphPovu9Ia-s3UmOdWEPyr8wqQt=s64",
      "userId": "17710010183457348789"
     },
     "user_tz": -330
    },
    "id": "6oXG-z9jK9IA",
    "outputId": "8682b948-ab20-4a6d-8e2b-dd8d3a63343c"
   },
   "outputs": [
    {
     "name": "stdout",
     "output_type": "stream",
     "text": [
      "Output : 7\n"
     ]
    }
   ],
   "source": [
    "\"\"\"\n",
    "Write a program to simply assign a value into a variable and print it.\n",
    "\n",
    "input : 7\n",
    "\n",
    "Output: 7\n",
    "\n",
    "\"\"\"\n",
    "\n",
    "var = 7\n",
    "\n",
    "print('Output :', var)"
   ]
  },
  {
   "cell_type": "code",
   "execution_count": 0,
   "metadata": {
    "colab": {
     "base_uri": "https://localhost:8080/",
     "height": 34
    },
    "colab_type": "code",
    "executionInfo": {
     "elapsed": 3963,
     "status": "ok",
     "timestamp": 1568114014131,
     "user": {
      "displayName": "BHEEM KUMAR",
      "photoUrl": "https://lh3.googleusercontent.com/a-/AAuE7mCt7lUnsC2GTAphPovu9Ia-s3UmOdWEPyr8wqQt=s64",
      "userId": "17710010183457348789"
     },
     "user_tz": -330
    },
    "id": "-6_YVi8dO8nX",
    "outputId": "f9e77a7c-602f-40af-ca07-205a5cd27f85"
   },
   "outputs": [
    {
     "name": "stdout",
     "output_type": "stream",
     "text": [
      "Output : 15\n"
     ]
    }
   ],
   "source": [
    "\"\"\"\n",
    "Write a program to add 8 to the given variabvle using shorthand.\n",
    "\n",
    "input : 7\n",
    "\n",
    "Output: 15\n",
    "\n",
    "\"\"\"\n",
    "\n",
    "var = 7\n",
    "\n",
    "var += 8\n",
    "\n",
    "print('Output :', var)"
   ]
  },
  {
   "cell_type": "code",
   "execution_count": 0,
   "metadata": {
    "colab": {
     "base_uri": "https://localhost:8080/",
     "height": 34
    },
    "colab_type": "code",
    "executionInfo": {
     "elapsed": 3957,
     "status": "ok",
     "timestamp": 1568114014131,
     "user": {
      "displayName": "BHEEM KUMAR",
      "photoUrl": "https://lh3.googleusercontent.com/a-/AAuE7mCt7lUnsC2GTAphPovu9Ia-s3UmOdWEPyr8wqQt=s64",
      "userId": "17710010183457348789"
     },
     "user_tz": -330
    },
    "id": "Z0YCzCV9RU-y",
    "outputId": "61f543ef-8c23-4eec-a632-7eb7dc15cf41"
   },
   "outputs": [
    {
     "name": "stdout",
     "output_type": "stream",
     "text": [
      "Output : -1\n"
     ]
    }
   ],
   "source": [
    "\"\"\"\n",
    "Write a program to subtract 8 from given variable using shorthand.\n",
    "\n",
    "input : 7\n",
    "\n",
    "Output: -1\n",
    "\n",
    "\"\"\"\n",
    "\n",
    "var = 7\n",
    "\n",
    "var -= 8\n",
    "\n",
    "print('Output :', var)"
   ]
  },
  {
   "cell_type": "code",
   "execution_count": 0,
   "metadata": {
    "colab": {
     "base_uri": "https://localhost:8080/",
     "height": 34
    },
    "colab_type": "code",
    "executionInfo": {
     "elapsed": 3953,
     "status": "ok",
     "timestamp": 1568114014132,
     "user": {
      "displayName": "BHEEM KUMAR",
      "photoUrl": "https://lh3.googleusercontent.com/a-/AAuE7mCt7lUnsC2GTAphPovu9Ia-s3UmOdWEPyr8wqQt=s64",
      "userId": "17710010183457348789"
     },
     "user_tz": -330
    },
    "id": "AYBrMAYvSCRg",
    "outputId": "3d1daeec-fe1b-479f-c0d1-079488970c8c"
   },
   "outputs": [
    {
     "name": "stdout",
     "output_type": "stream",
     "text": [
      "Output : 56\n"
     ]
    }
   ],
   "source": [
    "\"\"\"\n",
    "Write a program to multiply given variable with 8 using shorthand.\n",
    "\n",
    "input : 8\n",
    "\n",
    "Output: 56\n",
    "\n",
    "\"\"\"\n",
    "\n",
    "var = 7\n",
    "\n",
    "var *= 8\n",
    "\n",
    "print('Output :', var)"
   ]
  },
  {
   "cell_type": "code",
   "execution_count": 0,
   "metadata": {
    "colab": {
     "base_uri": "https://localhost:8080/",
     "height": 34
    },
    "colab_type": "code",
    "executionInfo": {
     "elapsed": 3946,
     "status": "ok",
     "timestamp": 1568114014132,
     "user": {
      "displayName": "BHEEM KUMAR",
      "photoUrl": "https://lh3.googleusercontent.com/a-/AAuE7mCt7lUnsC2GTAphPovu9Ia-s3UmOdWEPyr8wqQt=s64",
      "userId": "17710010183457348789"
     },
     "user_tz": -330
    },
    "id": "gCvrjLpcSU4e",
    "outputId": "e9115def-d278-4258-bc5b-e572739d5e8e"
   },
   "outputs": [
    {
     "name": "stdout",
     "output_type": "stream",
     "text": [
      "Output : 0.875\n"
     ]
    }
   ],
   "source": [
    "\"\"\"\n",
    "Write a program to divide the given variable by 8 using shorthand.\n",
    "\n",
    "input : 8\n",
    "\n",
    "Output: 0.875\n",
    "\n",
    "\"\"\"\n",
    "\n",
    "var = 7\n",
    "\n",
    "var /= 8\n",
    "\n",
    "print('Output :', var)"
   ]
  },
  {
   "cell_type": "code",
   "execution_count": 0,
   "metadata": {
    "colab": {
     "base_uri": "https://localhost:8080/",
     "height": 34
    },
    "colab_type": "code",
    "executionInfo": {
     "elapsed": 3940,
     "status": "ok",
     "timestamp": 1568114014132,
     "user": {
      "displayName": "BHEEM KUMAR",
      "photoUrl": "https://lh3.googleusercontent.com/a-/AAuE7mCt7lUnsC2GTAphPovu9Ia-s3UmOdWEPyr8wqQt=s64",
      "userId": "17710010183457348789"
     },
     "user_tz": -330
    },
    "id": "ox6olJsuSaQS",
    "outputId": "c6bde1b3-a7cb-405e-c176-9f9d0f687ef6"
   },
   "outputs": [
    {
     "name": "stdout",
     "output_type": "stream",
     "text": [
      "Output : 2\n"
     ]
    }
   ],
   "source": [
    "\"\"\"\n",
    "Write a program to get the integer value by dividing 3 to the given variable using shorthand.\n",
    "\n",
    "input : 3\n",
    "\n",
    "Output: 2\n",
    "\n",
    "\"\"\"\n",
    "\n",
    "var = 7\n",
    "\n",
    "var //= 3\n",
    "\n",
    "print('Output :', var)"
   ]
  },
  {
   "cell_type": "code",
   "execution_count": 0,
   "metadata": {
    "colab": {
     "base_uri": "https://localhost:8080/",
     "height": 34
    },
    "colab_type": "code",
    "executionInfo": {
     "elapsed": 3935,
     "status": "ok",
     "timestamp": 1568114014133,
     "user": {
      "displayName": "BHEEM KUMAR",
      "photoUrl": "https://lh3.googleusercontent.com/a-/AAuE7mCt7lUnsC2GTAphPovu9Ia-s3UmOdWEPyr8wqQt=s64",
      "userId": "17710010183457348789"
     },
     "user_tz": -330
    },
    "id": "1R9hozN0TCQo",
    "outputId": "d15968be-65b7-4fea-c091-c265f52ef1ae"
   },
   "outputs": [
    {
     "name": "stdout",
     "output_type": "stream",
     "text": [
      "Output : 1\n"
     ]
    }
   ],
   "source": [
    "\"\"\"\n",
    "Write a program to get the modulus of given variable by 7 using shorthand.\n",
    "\n",
    "input : 8\n",
    "\n",
    "Output: 1\n",
    "\n",
    "\"\"\"\n",
    "\n",
    "var = 8\n",
    "\n",
    "var %= 7\n",
    "\n",
    "print('Output :', var)"
   ]
  },
  {
   "cell_type": "code",
   "execution_count": 0,
   "metadata": {
    "colab": {
     "base_uri": "https://localhost:8080/",
     "height": 34
    },
    "colab_type": "code",
    "executionInfo": {
     "elapsed": 3929,
     "status": "ok",
     "timestamp": 1568114014133,
     "user": {
      "displayName": "BHEEM KUMAR",
      "photoUrl": "https://lh3.googleusercontent.com/a-/AAuE7mCt7lUnsC2GTAphPovu9Ia-s3UmOdWEPyr8wqQt=s64",
      "userId": "17710010183457348789"
     },
     "user_tz": -330
    },
    "id": "kFPY7ugbTjYI",
    "outputId": "329bdf8f-dcca-466f-8c38-fd1d36b760b0"
   },
   "outputs": [
    {
     "name": "stdout",
     "output_type": "stream",
     "text": [
      "Output : 343\n"
     ]
    }
   ],
   "source": [
    "\"\"\"\n",
    "Write a program to get the power of exponent using shorthand.\n",
    "\n",
    "Input : 3\n",
    "\n",
    "Output:\n",
    "\n",
    "\"\"\"\n",
    "\n",
    "var = 7\n",
    "var **= 3\n",
    "print('Output :', var)"
   ]
  },
  {
   "cell_type": "markdown",
   "metadata": {
    "colab_type": "text",
    "id": "4xXYAUhnQld3"
   },
   "source": [
    "**What is Bitwise Operators ?**\n",
    "\n",
    "Ans -- Bitwise operator works on bits and performs bit-by-bit operation. Assume if a = 60, and b = 13, Now in binary \n",
    "\n",
    "a & b will display will peform binary AND operation and return 12."
   ]
  },
  {
   "cell_type": "code",
   "execution_count": 0,
   "metadata": {
    "colab": {
     "base_uri": "https://localhost:8080/",
     "height": 34
    },
    "colab_type": "code",
    "executionInfo": {
     "elapsed": 3924,
     "status": "ok",
     "timestamp": 1568114014134,
     "user": {
      "displayName": "BHEEM KUMAR",
      "photoUrl": "https://lh3.googleusercontent.com/a-/AAuE7mCt7lUnsC2GTAphPovu9Ia-s3UmOdWEPyr8wqQt=s64",
      "userId": "17710010183457348789"
     },
     "user_tz": -330
    },
    "id": "PFCIESShN0U5",
    "outputId": "3de9d952-b9ab-4464-bfc9-82c8c17da859"
   },
   "outputs": [
    {
     "name": "stdout",
     "output_type": "stream",
     "text": [
      "Output : 2\n"
     ]
    }
   ],
   "source": [
    "\"\"\"\n",
    "Write a program to perform binary AND operation on given numbers using '&' operator.\n",
    "\n",
    "Input1: 50\n",
    "Input2: 14\n",
    "\n",
    "Output: 2\n",
    "\n",
    "\"\"\"\n",
    "\n",
    "a = 50\n",
    "b = 14\n",
    "\n",
    "print('Output :',(a & b) )"
   ]
  },
  {
   "cell_type": "code",
   "execution_count": 0,
   "metadata": {
    "colab": {
     "base_uri": "https://localhost:8080/",
     "height": 34
    },
    "colab_type": "code",
    "executionInfo": {
     "elapsed": 3918,
     "status": "ok",
     "timestamp": 1568114014134,
     "user": {
      "displayName": "BHEEM KUMAR",
      "photoUrl": "https://lh3.googleusercontent.com/a-/AAuE7mCt7lUnsC2GTAphPovu9Ia-s3UmOdWEPyr8wqQt=s64",
      "userId": "17710010183457348789"
     },
     "user_tz": -330
    },
    "id": "EahzJIjtTdru",
    "outputId": "0ffb3c56-d1a5-4a40-fa12-6af8d0f91378"
   },
   "outputs": [
    {
     "name": "stdout",
     "output_type": "stream",
     "text": [
      "Output : 62\n"
     ]
    }
   ],
   "source": [
    "\"\"\"\n",
    "Write a program to perform binary OR operation on given numbers using '|' operator.\n",
    "\n",
    "Input1: 50\n",
    "Input2: 14\n",
    "\n",
    "Output: 62\n",
    "\n",
    "\"\"\"\n",
    "\n",
    "a = 50\n",
    "b = 14\n",
    "\n",
    "print('Output :', (a | b) )"
   ]
  },
  {
   "cell_type": "code",
   "execution_count": 0,
   "metadata": {
    "colab": {
     "base_uri": "https://localhost:8080/",
     "height": 34
    },
    "colab_type": "code",
    "executionInfo": {
     "elapsed": 3913,
     "status": "ok",
     "timestamp": 1568114014134,
     "user": {
      "displayName": "BHEEM KUMAR",
      "photoUrl": "https://lh3.googleusercontent.com/a-/AAuE7mCt7lUnsC2GTAphPovu9Ia-s3UmOdWEPyr8wqQt=s64",
      "userId": "17710010183457348789"
     },
     "user_tz": -330
    },
    "id": "_IUiCJmAW_oe",
    "outputId": "18c95ab7-4b6e-4bd0-bf80-8b9d13b5e254"
   },
   "outputs": [
    {
     "name": "stdout",
     "output_type": "stream",
     "text": [
      "Output : 60\n"
     ]
    }
   ],
   "source": [
    "\"\"\"\n",
    "Write a program to perform binary XOR operation on given numbers using '^' operator.\n",
    "\n",
    "Input1: 50\n",
    "Input2: 14\n",
    "\n",
    "Output: 60\n",
    "\n",
    "\"\"\"\n",
    "\n",
    "a = 50\n",
    "b = 14\n",
    "\n",
    "print('Output :', (a ^ b) )"
   ]
  },
  {
   "cell_type": "code",
   "execution_count": 0,
   "metadata": {
    "colab": {
     "base_uri": "https://localhost:8080/",
     "height": 34
    },
    "colab_type": "code",
    "executionInfo": {
     "elapsed": 3906,
     "status": "ok",
     "timestamp": 1568114014135,
     "user": {
      "displayName": "BHEEM KUMAR",
      "photoUrl": "https://lh3.googleusercontent.com/a-/AAuE7mCt7lUnsC2GTAphPovu9Ia-s3UmOdWEPyr8wqQt=s64",
      "userId": "17710010183457348789"
     },
     "user_tz": -330
    },
    "id": "WXSK7by_bedZ",
    "outputId": "cb45187e-20d6-4512-819e-4732c69d228b"
   },
   "outputs": [
    {
     "name": "stdout",
     "output_type": "stream",
     "text": [
      "Output :  -51\n"
     ]
    }
   ],
   "source": [
    "\"\"\"\n",
    "Write the program to perforem binary one's complement of given number using '~' opeeragor.\n",
    "\n",
    "Input : 50\n",
    "\n",
    "\"\"\"\n",
    "\n",
    "var = 50\n",
    "\n",
    "print('Output : ', ~var)"
   ]
  },
  {
   "cell_type": "code",
   "execution_count": 0,
   "metadata": {
    "colab": {
     "base_uri": "https://localhost:8080/",
     "height": 34
    },
    "colab_type": "code",
    "executionInfo": {
     "elapsed": 3901,
     "status": "ok",
     "timestamp": 1568114014135,
     "user": {
      "displayName": "BHEEM KUMAR",
      "photoUrl": "https://lh3.googleusercontent.com/a-/AAuE7mCt7lUnsC2GTAphPovu9Ia-s3UmOdWEPyr8wqQt=s64",
      "userId": "17710010183457348789"
     },
     "user_tz": -330
    },
    "id": "Fi4pnTxCceKq",
    "outputId": "45598554-fcb8-440f-ba7d-50e90f188898"
   },
   "outputs": [
    {
     "name": "stdout",
     "output_type": "stream",
     "text": [
      "Output 200\n"
     ]
    }
   ],
   "source": [
    "\"\"\"\n",
    "Write a program to perform binary left shift operation by 2 bit on given number using '<<' operator.\n",
    "\n",
    "Input : 50\n",
    "\n",
    "Output: 200\n",
    "\n",
    "\"\"\"\n",
    "var = 50\n",
    "\n",
    "var = var << 2\n",
    "\n",
    "print('Output', var)"
   ]
  },
  {
   "cell_type": "code",
   "execution_count": 0,
   "metadata": {
    "colab": {
     "base_uri": "https://localhost:8080/",
     "height": 34
    },
    "colab_type": "code",
    "executionInfo": {
     "elapsed": 3896,
     "status": "ok",
     "timestamp": 1568114014135,
     "user": {
      "displayName": "BHEEM KUMAR",
      "photoUrl": "https://lh3.googleusercontent.com/a-/AAuE7mCt7lUnsC2GTAphPovu9Ia-s3UmOdWEPyr8wqQt=s64",
      "userId": "17710010183457348789"
     },
     "user_tz": -330
    },
    "id": "Nz3yAQagddTW",
    "outputId": "5e6aae43-052e-40ee-8829-a092e2bdab52"
   },
   "outputs": [
    {
     "name": "stdout",
     "output_type": "stream",
     "text": [
      "Output 12\n"
     ]
    }
   ],
   "source": [
    "\"\"\"\n",
    "Write a program to perform binary right shift operation by 2 bit on given number using '>>' operator.\n",
    "\n",
    "Input : 50\n",
    "\n",
    "Output: 12\n",
    "\n",
    "\"\"\"\n",
    "var = 50\n",
    "\n",
    "var = var >> 2\n",
    "\n",
    "print('Output', var)"
   ]
  },
  {
   "cell_type": "markdown",
   "metadata": {
    "colab_type": "text",
    "id": "eAKq_y9leEjB"
   },
   "source": [
    "**What is Logical Operators ?**\n",
    "\n",
    "Ans -- The following logical operators are supported by Python language. Assume variable a holds True and variable b holds False then."
   ]
  },
  {
   "cell_type": "code",
   "execution_count": 0,
   "metadata": {
    "colab": {
     "base_uri": "https://localhost:8080/",
     "height": 34
    },
    "colab_type": "code",
    "executionInfo": {
     "elapsed": 3890,
     "status": "ok",
     "timestamp": 1568114014136,
     "user": {
      "displayName": "BHEEM KUMAR",
      "photoUrl": "https://lh3.googleusercontent.com/a-/AAuE7mCt7lUnsC2GTAphPovu9Ia-s3UmOdWEPyr8wqQt=s64",
      "userId": "17710010183457348789"
     },
     "user_tz": -330
    },
    "id": "7lleTuVfd2L4",
    "outputId": "c627069c-208a-4f04-af82-417c31f83127"
   },
   "outputs": [
    {
     "name": "stdout",
     "output_type": "stream",
     "text": [
      "Output : divisible by 2 and 5\n"
     ]
    }
   ],
   "source": [
    "\"\"\"\n",
    "Write a program to check 10 is divisible by 2 and 5 or not using 'and' operator.\n",
    "\n",
    "Input1: 10\n",
    "Input2: 2\n",
    "Input3: 5\n",
    "\n",
    "Output : divisible by 2 and 5\n",
    "\n",
    "\"\"\"\n",
    "\n",
    "dividend = 10\n",
    "diviser1 = 2\n",
    "diviser2 = 5\n",
    "\n",
    "if( dividend % diviser1 == 0 and dividend % diviser2 == 0):\n",
    "  print('Output :','divisible by 2 and 5')\n",
    "else:\n",
    "  print('Output :','not divisible by 2 or 5 or both.')"
   ]
  },
  {
   "cell_type": "code",
   "execution_count": 0,
   "metadata": {
    "colab": {
     "base_uri": "https://localhost:8080/",
     "height": 34
    },
    "colab_type": "code",
    "executionInfo": {
     "elapsed": 3884,
     "status": "ok",
     "timestamp": 1568114014136,
     "user": {
      "displayName": "BHEEM KUMAR",
      "photoUrl": "https://lh3.googleusercontent.com/a-/AAuE7mCt7lUnsC2GTAphPovu9Ia-s3UmOdWEPyr8wqQt=s64",
      "userId": "17710010183457348789"
     },
     "user_tz": -330
    },
    "id": "OCvhhnNhg3eq",
    "outputId": "7c381c18-ac9c-4722-e220-e5abb8b6d031"
   },
   "outputs": [
    {
     "name": "stdout",
     "output_type": "stream",
     "text": [
      "Output : divisible by 2 or 5 or both\n"
     ]
    }
   ],
   "source": [
    "\"\"\"\n",
    "Write a program to check 10 is divisible by 2 or 5 or not using 'or' operator.\n",
    "\n",
    "Input1: 10\n",
    "Input2: 2\n",
    "Input3: 5\n",
    "\n",
    "Output : divisible by 2 and 5\n",
    "\n",
    "\"\"\"\n",
    "\n",
    "dividend = 10\n",
    "diviser1 = 2\n",
    "diviser2 = 5\n",
    "\n",
    "if( dividend % diviser1 == 0 or dividend % diviser2 == 0):\n",
    "  print('Output :','divisible by 2 or 5 or both')\n",
    "else:\n",
    "  print('Output :','not divisible by 2 and 5 both.')"
   ]
  },
  {
   "cell_type": "code",
   "execution_count": 0,
   "metadata": {
    "colab": {
     "base_uri": "https://localhost:8080/",
     "height": 34
    },
    "colab_type": "code",
    "executionInfo": {
     "elapsed": 3879,
     "status": "ok",
     "timestamp": 1568114014137,
     "user": {
      "displayName": "BHEEM KUMAR",
      "photoUrl": "https://lh3.googleusercontent.com/a-/AAuE7mCt7lUnsC2GTAphPovu9Ia-s3UmOdWEPyr8wqQt=s64",
      "userId": "17710010183457348789"
     },
     "user_tz": -330
    },
    "id": "Ba7MjDGfiB99",
    "outputId": "9b70722d-1c7d-4369-bb30-4311ff682afb"
   },
   "outputs": [
    {
     "name": "stdout",
     "output_type": "stream",
     "text": [
      "Output : varibale have 0 as value.\n"
     ]
    }
   ],
   "source": [
    "\n",
    "\"\"\"\n",
    "Write a program which check that varible has zero or non zero value using 'not operator'\n",
    "\n",
    "Input : 10\n",
    "\n",
    "Output: varibale have 0 as value.\n",
    "\n",
    "\"\"\"\n",
    "var = 0\n",
    "if not var:\n",
    "  print('Output :','varibale have 0 as value.')\n",
    "else:\n",
    "  print('Output :','variable have non zero value.')"
   ]
  },
  {
   "cell_type": "markdown",
   "metadata": {
    "colab_type": "text",
    "id": "LuDGgSHOzutW"
   },
   "source": [
    "**Python Membership Operators**\n",
    "\n",
    "Ans -- Python’s membership operators test for membership in a sequence, such as strings, lists, or tuples. There are two membership operators as explained below."
   ]
  },
  {
   "cell_type": "code",
   "execution_count": 0,
   "metadata": {
    "colab": {
     "base_uri": "https://localhost:8080/",
     "height": 34
    },
    "colab_type": "code",
    "executionInfo": {
     "elapsed": 3873,
     "status": "ok",
     "timestamp": 1568114014137,
     "user": {
      "displayName": "BHEEM KUMAR",
      "photoUrl": "https://lh3.googleusercontent.com/a-/AAuE7mCt7lUnsC2GTAphPovu9Ia-s3UmOdWEPyr8wqQt=s64",
      "userId": "17710010183457348789"
     },
     "user_tz": -330
    },
    "id": "P6fN9gDOvfRe",
    "outputId": "b4d2a1f0-99aa-411d-88a0-c6535985128c"
   },
   "outputs": [
    {
     "name": "stdout",
     "output_type": "stream",
     "text": [
      "Output : available\n"
     ]
    }
   ],
   "source": [
    "\"\"\"\n",
    "Write a program which is used to find a substring in given string using 'in' operator.\n",
    "\n",
    "Input1: sameer\n",
    "Input2: sam\n",
    "\n",
    "Output: available\n",
    "\"\"\"\n",
    "if 'sam' in 'sameer':\n",
    "  print('Output :','available')\n",
    "else:\n",
    "  print('Output :','not available.')"
   ]
  },
  {
   "cell_type": "code",
   "execution_count": 0,
   "metadata": {
    "colab": {
     "base_uri": "https://localhost:8080/",
     "height": 34
    },
    "colab_type": "code",
    "executionInfo": {
     "elapsed": 3868,
     "status": "ok",
     "timestamp": 1568114014137,
     "user": {
      "displayName": "BHEEM KUMAR",
      "photoUrl": "https://lh3.googleusercontent.com/a-/AAuE7mCt7lUnsC2GTAphPovu9Ia-s3UmOdWEPyr8wqQt=s64",
      "userId": "17710010183457348789"
     },
     "user_tz": -330
    },
    "id": "zr2imIsQ0puV",
    "outputId": "f23c916a-d80c-4a33-f7b6-d730af4167d4"
   },
   "outputs": [
    {
     "name": "stdout",
     "output_type": "stream",
     "text": [
      "Output : available.\n"
     ]
    }
   ],
   "source": [
    "\"\"\"\n",
    "Write a program which is used to find a substring in given string using 'not in' operator.\n",
    "\n",
    "Input1: sameer\n",
    "Input2: sam\n",
    "\n",
    "Output: available\n",
    "\"\"\"\n",
    "if 'sam' not in 'sameer':\n",
    "  print('Output :','not available')\n",
    "else:\n",
    "  print('Output :','available.')"
   ]
  },
  {
   "cell_type": "markdown",
   "metadata": {
    "colab_type": "text",
    "id": "kscZ5o6b2dsY"
   },
   "source": [
    "**What is Python Identity Operators ?**\n",
    "\n",
    "Ans -- Identity operators compare the memory locations of two objects. There are two Identity operators as explained below."
   ]
  },
  {
   "cell_type": "code",
   "execution_count": 0,
   "metadata": {
    "colab": {
     "base_uri": "https://localhost:8080/",
     "height": 34
    },
    "colab_type": "code",
    "executionInfo": {
     "elapsed": 3861,
     "status": "ok",
     "timestamp": 1568114014138,
     "user": {
      "displayName": "BHEEM KUMAR",
      "photoUrl": "https://lh3.googleusercontent.com/a-/AAuE7mCt7lUnsC2GTAphPovu9Ia-s3UmOdWEPyr8wqQt=s64",
      "userId": "17710010183457348789"
     },
     "user_tz": -330
    },
    "id": "ZQ5Fm3nx2cEl",
    "outputId": "a3a99619-48fd-44f3-8ff0-f8abf3713dcd"
   },
   "outputs": [
    {
     "name": "stdout",
     "output_type": "stream",
     "text": [
      "Output : both values are same.\n"
     ]
    }
   ],
   "source": [
    "\"\"\"\n",
    "Write a program which is used to check whether two values are same of not using 'is' operator.\n",
    "\n",
    "Input1: 5\n",
    "Input2: 5\n",
    "\n",
    "Output: both values are same.\n",
    "\"\"\"\n",
    "a = 5\n",
    "b = 5\n",
    "\n",
    "if a is b:\n",
    "  print('Output :','both values are same.')\n",
    "else:\n",
    "  print('Output :','both values are not same.')"
   ]
  },
  {
   "cell_type": "code",
   "execution_count": 0,
   "metadata": {
    "colab": {
     "base_uri": "https://localhost:8080/",
     "height": 34
    },
    "colab_type": "code",
    "executionInfo": {
     "elapsed": 3855,
     "status": "ok",
     "timestamp": 1568114014139,
     "user": {
      "displayName": "BHEEM KUMAR",
      "photoUrl": "https://lh3.googleusercontent.com/a-/AAuE7mCt7lUnsC2GTAphPovu9Ia-s3UmOdWEPyr8wqQt=s64",
      "userId": "17710010183457348789"
     },
     "user_tz": -330
    },
    "id": "hUq2SQ1g2Ra-",
    "outputId": "6557221d-85e6-4ee0-a733-c62a5f2bc95d"
   },
   "outputs": [
    {
     "name": "stdout",
     "output_type": "stream",
     "text": [
      "Output : both values are same.\n"
     ]
    }
   ],
   "source": [
    "\"\"\"\n",
    "Write a program which is used to check whether two values are same of not using 'is not' operator.\n",
    "\n",
    "Input1: 5\n",
    "Input2: 5\n",
    "\n",
    "Output: both values are same.\n",
    "\"\"\"\n",
    "a = 5\n",
    "b = 5\n",
    "\n",
    "if a is not b:\n",
    "  print('Output :','both values are not same.')\n",
    "else:\n",
    "  print('Output :','both values are same.')"
   ]
  },
  {
   "cell_type": "code",
   "execution_count": 0,
   "metadata": {
    "colab": {},
    "colab_type": "code",
    "id": "vCGIuPlaEc2U"
   },
   "outputs": [],
   "source": []
  }
 ],
 "metadata": {
  "colab": {
   "collapsed_sections": [],
   "name": "Python_operator.ipynb",
   "provenance": []
  },
  "kernelspec": {
   "display_name": "Python 3",
   "language": "python",
   "name": "python3"
  },
  "language_info": {
   "codemirror_mode": {
    "name": "ipython",
    "version": 3
   },
   "file_extension": ".py",
   "mimetype": "text/x-python",
   "name": "python",
   "nbconvert_exporter": "python",
   "pygments_lexer": "ipython3",
   "version": "3.8.2"
  }
 },
 "nbformat": 4,
 "nbformat_minor": 1
}
