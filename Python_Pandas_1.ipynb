{
 "cells": [
  {
   "cell_type": "markdown",
   "metadata": {
    "colab_type": "text",
    "id": "sAWhwanYACUR"
   },
   "source": [
    "**Pandas**\n",
    "\n",
    "Pandas is a open source Python library written for the Python programming language for data manipulation and analysis. In particular, it offers data structures and operations for manipulating numerical tables and time series, which is a Panel Data. Therefore, the library is named Pandas. Pandas library is built on NumPy package.\n"
   ]
  },
  {
   "cell_type": "code",
   "execution_count": 0,
   "metadata": {
    "colab": {
     "base_uri": "https://localhost:8080/",
     "height": 102
    },
    "colab_type": "code",
    "executionInfo": {
     "elapsed": 2248,
     "status": "ok",
     "timestamp": 1574149985710,
     "user": {
      "displayName": "bheem kumar",
      "photoUrl": "https://lh3.googleusercontent.com/a-/AAuE7mDCx24nBXj8t-exydQqWCz_3_2Fr8UREB6_UTXj=s64",
      "userId": "16514217920437432713"
     },
     "user_tz": -330
    },
    "id": "qf_WfH53_Gqa",
    "outputId": "35ba42fa-aa34-408b-c7b7-86fb198dedba"
   },
   "outputs": [
    {
     "name": "stdout",
     "output_type": "stream",
     "text": [
      "Output:--\n",
      "\n",
      "Empty DataFrame\n",
      "Columns: []\n",
      "Index: []\n"
     ]
    }
   ],
   "source": [
    "\"\"\"\n",
    "\n",
    "Write a script to create a empty DataFrame.\n",
    "\n",
    "Output:--\n",
    "\n",
    "    Empty DataFrame\n",
    "    Columns: []\n",
    "    Index: []\n",
    "\n",
    "\"\"\"\n",
    "\n",
    "import pandas as pd\n",
    "\n",
    "# Creating empty dataframe.\n",
    "data_frame = pd.DataFrame()\n",
    "\n",
    "print(\"Output:--\\n\")\n",
    "print(data_frame)\n"
   ]
  },
  {
   "cell_type": "code",
   "execution_count": 0,
   "metadata": {
    "colab": {
     "base_uri": "https://localhost:8080/",
     "height": 102
    },
    "colab_type": "code",
    "executionInfo": {
     "elapsed": 2742,
     "status": "ok",
     "timestamp": 1574149986219,
     "user": {
      "displayName": "bheem kumar",
      "photoUrl": "https://lh3.googleusercontent.com/a-/AAuE7mDCx24nBXj8t-exydQqWCz_3_2Fr8UREB6_UTXj=s64",
      "userId": "16514217920437432713"
     },
     "user_tz": -330
    },
    "id": "Ya2iHCtoD-BY",
    "outputId": "c588d086-491f-4fbc-dff1-d8730b3fc8e9"
   },
   "outputs": [
    {
     "name": "stdout",
     "output_type": "stream",
     "text": [
      "Output:--\n",
      "\n",
      "Empty DataFrame\n",
      "Columns: [column0, column1, column2, column3, column4]\n",
      "Index: []\n"
     ]
    }
   ],
   "source": [
    "\"\"\"\n",
    "\n",
    "Write a script to create a dataframe with 5 columns(header) with no data.\n",
    "\n",
    "Input:--\n",
    "\n",
    "    header = [\"column0\", \"column1\",\"column2\",\"column3\",\"column4\"]\n",
    "\n",
    "Output:-\n",
    "\n",
    "    Empty DataFrame\n",
    "    Columns: [column0, column1, column2, column3, column4]\n",
    "    Index: []\n",
    "\n",
    "\"\"\"\n",
    "\n",
    "import pandas as pd\n",
    "\n",
    "# Columns name of dataframe.\n",
    "header = [\"column0\", \"column1\",\"column2\",\"column3\",\"column4\"]\n",
    "\n",
    "# Creating empty dataframe with columns name.\n",
    "data_frame = pd.DataFrame(columns = header)\n",
    "\n",
    "print(\"Output:--\\n\")\n",
    "print(data_frame.head())\n"
   ]
  },
  {
   "cell_type": "code",
   "execution_count": 0,
   "metadata": {
    "colab": {
     "base_uri": "https://localhost:8080/",
     "height": 85
    },
    "colab_type": "code",
    "executionInfo": {
     "elapsed": 2734,
     "status": "ok",
     "timestamp": 1574149986221,
     "user": {
      "displayName": "bheem kumar",
      "photoUrl": "https://lh3.googleusercontent.com/a-/AAuE7mDCx24nBXj8t-exydQqWCz_3_2Fr8UREB6_UTXj=s64",
      "userId": "16514217920437432713"
     },
     "user_tz": -330
    },
    "id": "SHPWBTVOEI2m",
    "outputId": "e749a821-e781-4680-c793-e67f4c239c2e"
   },
   "outputs": [
    {
     "name": "stdout",
     "output_type": "stream",
     "text": [
      "Output:--\n",
      "\n",
      "   column0  column1  column2  column3  column4\n",
      "0  r0data0  r1data1  r1data2  r1data3  r1data4\n"
     ]
    }
   ],
   "source": [
    "\"\"\"\n",
    "\n",
    "Write a script to create a dataframe with 5 columns(header) with now data.\n",
    "with one row of data.\n",
    "\n",
    "Input:--\n",
    "\n",
    "    Columns: [column0, column1, column2, column3, column4]\n",
    "    data   = [\"r0data0\",\"r1data1\" \"r1data2\",\"r1data3\",\"r1data4\"]\n",
    "\n",
    "Output:--\n",
    "\n",
    "        column0  column1  column2  column3  column4\n",
    "    0   r0data0  r1data1  r1data2  r1data3  r1data4\n",
    "    \n",
    "\"\"\"\n",
    "\n",
    "import pandas as pd\n",
    "\n",
    "# Columns name of dataframe.\n",
    "header = [\"column0\",\"column1\", \"column2\",\"column3\",\"column4\"]\n",
    "\n",
    "# Data for inserting in dataframe.\n",
    "data   = [\"r0data0\",\"r1data1\", \"r1data2\",\"r1data3\",\"r1data4\"]\n",
    "\n",
    "# Creating empty dataframe with columns name.\n",
    "data_frame = pd.DataFrame(columns = header)\n",
    "\n",
    "# Inserting data in dataframe.\n",
    "data_frame.loc[0] = data\n",
    "\n",
    "print(\"Output:--\\n\")\n",
    "print(data_frame)\n"
   ]
  },
  {
   "cell_type": "code",
   "execution_count": 0,
   "metadata": {
    "colab": {
     "base_uri": "https://localhost:8080/",
     "height": 153
    },
    "colab_type": "code",
    "executionInfo": {
     "elapsed": 2726,
     "status": "ok",
     "timestamp": 1574149986222,
     "user": {
      "displayName": "bheem kumar",
      "photoUrl": "https://lh3.googleusercontent.com/a-/AAuE7mDCx24nBXj8t-exydQqWCz_3_2Fr8UREB6_UTXj=s64",
      "userId": "16514217920437432713"
     },
     "user_tz": -330
    },
    "id": "mPPRACieLqcO",
    "outputId": "645cbe97-7a4e-4e2b-b7eb-757c48cb876a"
   },
   "outputs": [
    {
     "name": "stdout",
     "output_type": "stream",
     "text": [
      "Output:--\n",
      "\n",
      "  column0 column1 column2 column3 column4\n",
      "0    R0C0    R0C1    R0C2    R0C3    R0C4\n",
      "1    R1C0    R1C1    R1C2    R1C3    R1C4\n",
      "2    R2C0    R2C1    R2C2    R2C3    R2C4\n",
      "3    R3C0    R3C1    R3C2    R3C3    R3C4\n",
      "4    R4C0    R4C1    R4C2    R4C3    R4C4\n"
     ]
    }
   ],
   "source": [
    "\"\"\"\n",
    "\n",
    "Write a script to create a dataframe with 5 columns(header) and \n",
    "insert five row of data in given dataframe using for loop.\n",
    "\n",
    "Input:--\n",
    "\n",
    "    header = [\"column0\", \"column1\", \"column2\", \"column3\", \"column4\"]\n",
    "\n",
    "    R0C0    R0C1    R0C2    R0C3    R0C4\n",
    "    R1C0    R1C1    R1C2    R1C3    R1C4\n",
    "    R2C0    R2C1    R2C2    R2C3    R2C4\n",
    "    R3C0    R3C1    R3C2    R3C3    R3C4\n",
    "    R4C0    R4C1    R4C2    R4C3    R4C4\n",
    "\n",
    "Output:--\n",
    "\n",
    "      column0 column1 column2 column3 column4\n",
    "    0    R0C0    R0C1    R0C2    R0C3    R0C4\n",
    "    1    R1C0    R1C1    R1C2    R1C3    R1C4\n",
    "    2    R2C0    R2C1    R2C2    R2C3    R2C4\n",
    "    3    R3C0    R3C1    R3C2    R3C3    R3C4\n",
    "    4    R4C0    R4C1    R4C2    R4C3    R4C4\n",
    "\n",
    "\"\"\"\n",
    "\n",
    "import pandas as pd\n",
    "\n",
    "# Columns name of dataframe.\n",
    "header = [\"column0\", \"column1\",\"column2\",\"column3\",\"column4\"]\n",
    "\n",
    "\n",
    "# Creating empty dataframe with columns name.\n",
    "data_frame = pd.DataFrame(columns = header)\n",
    "\n",
    "\n",
    "# Inserting 5 rows of data in dataframe.\n",
    "for i in range(5):\n",
    "    data_frame.loc[i] = ['R'+str(i)+'C0', 'R'+str(i)+'C1', 'R'+str(i)+'C2', 'R'+str(i)+'C3', 'R'+str(i)+'C4']\n",
    "\n",
    "\n",
    "print(\"Output:--\\n\")\n",
    "print(data_frame)\n"
   ]
  },
  {
   "cell_type": "code",
   "execution_count": 0,
   "metadata": {
    "colab": {
     "base_uri": "https://localhost:8080/",
     "height": 102
    },
    "colab_type": "code",
    "executionInfo": {
     "elapsed": 2718,
     "status": "ok",
     "timestamp": 1574149986225,
     "user": {
      "displayName": "bheem kumar",
      "photoUrl": "https://lh3.googleusercontent.com/a-/AAuE7mDCx24nBXj8t-exydQqWCz_3_2Fr8UREB6_UTXj=s64",
      "userId": "16514217920437432713"
     },
     "user_tz": -330
    },
    "id": "C_w9RVA5PFRz",
    "outputId": "df3fc40d-37f0-491c-f82d-10ae6b4c945a"
   },
   "outputs": [
    {
     "name": "stdout",
     "output_type": "stream",
     "text": [
      "Output :--\n",
      "\n",
      "['column0', 'column1', 'column2', 'column3', 'column4']\n",
      "\n",
      "Shape of dataframe : (1, 5)\n"
     ]
    }
   ],
   "source": [
    "\"\"\"\n",
    "\n",
    "Write a script to print the columns name and shape of given dataframe.\n",
    "\n",
    "Input:--\n",
    "\n",
    "    header = [\"column0\", \"column1\", \"column2\", \"column3\", \"column4\"]\n",
    "\n",
    "Output:--\n",
    "\n",
    "    ['column0', 'column1', 'column2', 'column3', 'column4']\n",
    "\n",
    "    Shape of dataframe : (1, 5)\n",
    "\n",
    "\"\"\"\n",
    "\n",
    "import pandas as pd\n",
    "\n",
    "# Columns name of dataframe.\n",
    "header = [\"column0\", \"column1\", \"column2\", \"column3\", \"column4\"]\n",
    "\n",
    "# Data for inserting in dataframe.\n",
    "data   = [\"r0data0\", \"r1data1\", \"r1data2\", \"r1data3\", \"r1data4\"]\n",
    "\n",
    "# Creating empty dataframe with columns name.\n",
    "data_frame = pd.DataFrame(columns = header)\n",
    "\n",
    "# Inserting data in dataframe.\n",
    "data_frame.loc[0] = data\n",
    "\n",
    "print(\"Output :--\\n\")\n",
    "print(list(data_frame.columns))\n",
    "print('\\nShape of dataframe :', data_frame.shape)"
   ]
  },
  {
   "cell_type": "code",
   "execution_count": 0,
   "metadata": {
    "colab": {
     "base_uri": "https://localhost:8080/",
     "height": 136
    },
    "colab_type": "code",
    "executionInfo": {
     "elapsed": 2710,
     "status": "ok",
     "timestamp": 1574149986226,
     "user": {
      "displayName": "bheem kumar",
      "photoUrl": "https://lh3.googleusercontent.com/a-/AAuE7mDCx24nBXj8t-exydQqWCz_3_2Fr8UREB6_UTXj=s64",
      "userId": "16514217920437432713"
     },
     "user_tz": -330
    },
    "id": "crIXkjEsxsvF",
    "outputId": "a5677db8-a334-4664-8c8e-e4fccdb7bd1d"
   },
   "outputs": [
    {
     "name": "stdout",
     "output_type": "stream",
     "text": [
      "Output:--\n",
      "\n",
      " R0C0  R0C1  R0C2  R0C3  R0C4\n",
      " R1C0  R1C1  R1C2  R1C3  R1C4\n",
      " R2C0  R2C1  R2C2  R2C3  R2C4\n",
      " R3C0  R3C1  R3C2  R3C3  R3C4\n",
      " R4C0  R4C1  R4C2  R4C3  R4C4\n"
     ]
    }
   ],
   "source": [
    "\"\"\"\n",
    "\n",
    "Write a script to insert 5 rows using loop in dataframe and\n",
    "print the dataframe without index(row number)  and columns.\n",
    "\n",
    "Inputs:--\n",
    "\n",
    "    header = [\"column0\", \"column1\",\"column2\",\"column3\",\"column4\"]\n",
    "\n",
    "    R0C0    R0C1    R0C2    R0C3    R0C4\n",
    "    R1C0    R1C1    R1C2    R1C3    R1C4\n",
    "    R2C0    R2C1    R2C2    R2C3    R2C4\n",
    "    R3C0    R3C1    R3C2    R3C3    R3C4\n",
    "    R4C0    R4C1    R4C2    R4C3    R4C4\n",
    "\n",
    "Output:--\n",
    "\n",
    "    R0C0  R0C1  R0C2  R0C3  R0C4\n",
    "    R1C0  R1C1  R1C2  R1C3  R1C4\n",
    "    R2C0  R2C1  R2C2  R2C3  R2C4\n",
    "    R3C0  R3C1  R3C2  R3C3  R3C4\n",
    "    R4C0  R4C1  R4C2  R4C3  R4C4\n",
    "\n",
    "\"\"\"\n",
    "\n",
    "import pandas as pd\n",
    "\n",
    "# Columns name of dataframe.\n",
    "header = [\"column0\", \"column1\",\"column2\",\"column3\",\"column4\"]\n",
    "\n",
    "\n",
    "# Creating empty dataframe with columns name.\n",
    "data_frame = pd.DataFrame(columns = header)\n",
    "\n",
    "\n",
    "# Inserting 5 rows of data in dataframe.\n",
    "for i in range(5):\n",
    "    data_frame.loc[i] = ['R'+str(i)+'C0', 'R'+str(i)+'C1', 'R'+str(i)+'C2', 'R'+str(i)+'C3', 'R'+str(i)+'C4']\n",
    "\n",
    "\n",
    "print(\"Output:--\\n\")\n",
    "print(data_frame.to_string(index = False, header = False))"
   ]
  },
  {
   "cell_type": "code",
   "execution_count": 0,
   "metadata": {
    "colab": {
     "base_uri": "https://localhost:8080/",
     "height": 187
    },
    "colab_type": "code",
    "executionInfo": {
     "elapsed": 2701,
     "status": "ok",
     "timestamp": 1574149986226,
     "user": {
      "displayName": "bheem kumar",
      "photoUrl": "https://lh3.googleusercontent.com/a-/AAuE7mDCx24nBXj8t-exydQqWCz_3_2Fr8UREB6_UTXj=s64",
      "userId": "16514217920437432713"
     },
     "user_tz": -330
    },
    "id": "J_s_EKVZHCH7",
    "outputId": "15c7af85-af78-4093-c8ab-a5b50f4315e8"
   },
   "outputs": [
    {
     "name": "stdout",
     "output_type": "stream",
     "text": [
      "Output:--\n",
      "\n",
      "  column0 column1 column2 column3 column4\n",
      "0    R0C0    R0C1    R0C2    R0C3    R0C4\n",
      "1    R1C0    R1C1    R1C2    R1C3    R1C4\n",
      "2    R2C0    R2C1    R2C2    R2C3    R2C4\n",
      "3    R3C0    R3C1    R3C2    R3C3    R3C4\n",
      "4    R4C0    R4C1    R4C2    R4C3    R4C4\n",
      "5    R5C0    R5C1    R5C2    R5C3    R5C4\n",
      "6    R6C0    R6C1    R6C2    R6C3    R6C4\n"
     ]
    }
   ],
   "source": [
    "\"\"\"\n",
    "\n",
    "Write a script to insert a row at top, botom and between rows in given dataframe of size(5X5).\n",
    "\n",
    "\n",
    "Inputs:--\n",
    "\n",
    "    header = [\"column0\", \"column0\",\"column0\",\"column0\",\"column0\"]\n",
    "\n",
    "    R1C0    R1C1    R1C2    R1C3    R1C4\n",
    "    R2C0    R2C1    R2C2    R2C3    R2C4\n",
    "    R3C0    R3C1    R3C2    R3C3    R3C4\n",
    "    R4C0    R4C1    R4C2    R4C3    R4C4\n",
    "    R5C0    R5C1    R5C2    R5C3    R5C4\n",
    "\n",
    "    new_row = ['nr0', 'nr1', 'nr2', 'nr3', 'nr4']\n",
    "\n",
    "Output:--\n",
    "\n",
    "      column0 column1 column2 column3 column4\n",
    "    0    R0C0    R0C1    R0C2    R0C3    R0C4\n",
    "    1    R1C0    R1C1    R1C2    R1C3    R1C4\n",
    "    2    R2C0    R2C1    R2C2    R2C3    R2C4\n",
    "    3    R3C0    R3C1    R3C2    R3C3    R3C4\n",
    "    4    R4C0    R4C1    R4C2    R4C3    R4C4\n",
    "    5    R5C0    R5C1    R5C2    R5C3    R5C4\n",
    "    6    R6C0    R6C1    R6C2    R6C3    R6C4\n",
    "\n",
    "\"\"\"\n",
    "\n",
    "import pandas as pd\n",
    "\n",
    "\n",
    "# Columns name of dataframe.\n",
    "header = [\"column0\", \"column1\",\"column2\",\"column3\",\"column4\"]\n",
    "new_row1 = pd.DataFrame({\"column0\":'R0C0', \"column1\":'R0C1', \"column2\":'R0C2', \"column3\":'R0C3', \"column4\":'R0C4'}, index = [0])\n",
    "new_row2 = pd.DataFrame({\"column0\":'R6C0', \"column1\":'R6C1', \"column2\":'R6C2', \"column3\":'R6C3', \"column4\":'R6C4'}, index = [0])\n",
    "new_row3 = pd.DataFrame({\"column0\":'R5C0', \"column1\":'R5C1', \"column2\":'R5C2', \"column3\":'R5C3', \"column4\":'R5C4'}, index = [0])\n",
    "\n",
    "\n",
    "# Creating empty dataframe with columns name.\n",
    "data_frame = pd.DataFrame(columns = header)\n",
    "\n",
    "\n",
    "# Inserting 5 rows of data in dataframe.\n",
    "for i in range(1,6):\n",
    "    data_frame.loc[i] = ['R'+str(i)+'C0', 'R'+str(i)+'C1', 'R'+str(i)+'C2', 'R'+str(i)+'C3', 'R'+str(i)+'C4']\n",
    "\n",
    "\n",
    "# Adding at top\n",
    "data_frame = pd.concat([new_row1, data_frame]).reset_index(drop = True)\n",
    "\n",
    "\n",
    "# Adding at bottom\n",
    "data_frame = pd.concat([data_frame[:-1],new_row2]).reset_index(drop = True)\n",
    "\n",
    "\n",
    "# Adding at specific location\n",
    "data_frame = pd.concat([data_frame[:5], new_row3, data_frame[5:]]).reset_index(drop = True)\n",
    "\n",
    "\n",
    "# Alternate way to add at bottom\n",
    "# new_row = [\"R7C0\",\"R7C1\",\"R7C2\",\"R7C3\",\"R7C4\"]\n",
    "# data_frame.loc[len(data_frame)] = new_row\n",
    "\n",
    "print(\"Output:--\\n\")\n",
    "print(data_frame)\n"
   ]
  },
  {
   "cell_type": "code",
   "execution_count": 0,
   "metadata": {
    "colab": {},
    "colab_type": "code",
    "id": "oC0j3wkynd_5"
   },
   "outputs": [],
   "source": [
    "\"\"\"\n",
    "\n",
    "Write a script to read and explore the  CSV file.\n",
    "\n",
    "Link for file : https://drive.google.com/open?id=1gUz1LxFUPd1GHOWmqsGcIkstFD_FjKR2\n",
    "\n",
    "NOTE : Read the CSV file in json format.\n",
    "\n",
    "    import csv\n",
    "    with open('iris.csv') as csvfile:\n",
    "        readCSV = csv.reader(csvfile, delimiter=',')\n",
    "        for row in readCSV:\n",
    "            print(row)\n",
    "\n",
    "Output:--\n",
    "\n",
    "        SepalLength  SepalWidth  PetalLength  PetalWidth         Name\n",
    "    0          5.1         3.5          1.4         0.2  Iris-setosa\n",
    "    1          4.9         3.0          1.4         0.2  Iris-setosa\n",
    "    2          4.7         3.2          1.3         0.2  Iris-setosa\n",
    "    3          4.6         3.1          1.5         0.2  Iris-setosa\n",
    "    4          5.0         3.6          1.4         0.2  Iris-setosa\n",
    "\n",
    "\"\"\"\n",
    "\n",
    "import pandas as pd\n",
    "\n",
    "# Remove these two lineS if you are not using google colaboratory.\n",
    "from google.colab import files\n",
    "uploaded_file = files.upload()\n",
    "\n",
    "data = pd.read_csv('iris.csv')\n",
    "print(\"Output:--\\n\\n\", data.head())\n"
   ]
  },
  {
   "cell_type": "code",
   "execution_count": 0,
   "metadata": {
    "colab": {},
    "colab_type": "code",
    "id": "XpPAjTpRFwXm"
   },
   "outputs": [],
   "source": [
    "\"\"\"\n",
    "\n",
    "Write a script to read and explore the Excel file.\n",
    "\n",
    "Link for file : https://drive.google.com/open?id=1vd8z3SpTndOuHcS9HJBa6lLRRKsq_6gn\n",
    "\n",
    "NOTE :  Read the XLS file in XLS format.\n",
    "\n",
    "    import xlrd \n",
    "\n",
    "    # Give the location of the file \n",
    "    loc = (\"airline.xls\") \n",
    "    \n",
    "    # To open Workbook \n",
    "    wb = xlrd.open_workbook(loc) \n",
    "    sheet = wb.sheet_by_index(0) \n",
    "\n",
    "    # Get the columns\n",
    "    for i in range(sheet.ncols):\n",
    "        print(sheet.cell_value(0, i))    \n",
    "\n",
    "Output:--\n",
    "\n",
    "\tYEAR\t    Y\t    W\t    R\t    L\t    K\n",
    "0\t1948\t1.214\t0.243\t0.1454\t1.415\t0.612\n",
    "1\t1949\t1.354\t0.260\t0.2181\t1.384\t0.559\n",
    "2\t1950\t1.569\t0.278\t0.3157\t1.388\t0.573\n",
    "3\t1951\t1.948\t0.297\t0.3940\t1.550\t0.564\n",
    "4\t1952\t2.265\t0.310\t0.3559\t1.802\t0.574\n",
    "\n",
    "\"\"\"\n",
    "\n",
    "import pandas as pd\n",
    "\n",
    "# Remove these two lineS if you are not using google colaboratory.\n",
    "from google.colab import files\n",
    "uploaded_file = files.upload()\n",
    "\n",
    "xls = pd.read_excel('airline.xls','Sheet1')\n",
    "xls.head()"
   ]
  },
  {
   "cell_type": "code",
   "execution_count": 0,
   "metadata": {
    "colab": {},
    "colab_type": "code",
    "id": "xquS1Ir0bG15"
   },
   "outputs": [],
   "source": [
    "\"\"\"\n",
    "\n",
    "Write a script to read and explore the JSON file.\n",
    "\n",
    "Link for file : https://drive.google.com/open?id=1BPV2aepeJedEM-2fEbiPVK09ZiWU8Hve\n",
    "\n",
    "NOTE : Read the JSON file in json format.\n",
    "\n",
    "    import json\n",
    "    with open('json_file.json') as jsonfile:\n",
    "        parsed = json.load(jsonfile)\n",
    "        print(json.dumps(parsed, indent=2, sort_keys=True))\n",
    "\n",
    "Output:--\n",
    "\n",
    "    Index(['quiz'], dtype='object') \n",
    "\n",
    "    maths    {'q1': {'question': '5 + 7 = ?', 'options': ['...\n",
    "    sport    {'q1': {'question': 'Which one is correct team...\n",
    "    Name: quiz, dtype: object \n",
    "\n",
    "    5 + 7 = ? \n",
    "\n",
    "    ['New York Bulls', 'Los Angeles Kings', 'Golden State Warriros', 'Huston Rocket']\n",
    "\n",
    "\"\"\"\n",
    "\n",
    "import pandas as pd\n",
    "\n",
    "# Remove these two lineS if you are not using google colaboratory.\n",
    "from google.colab import files\n",
    "uploaded_file = files.upload()\n",
    "\n",
    "json = pd.read_json('json_file.json')\n",
    "\n",
    "print('Outputs:--\\n')\n",
    "# Get the root of JSON file.\n",
    "print(json.columns, \"\\n\")\n",
    "# data.keys()\n",
    "\n",
    "# Get the subjects of 'quiz'.\n",
    "print(json['quiz'], \"\\n\")\n",
    "\n",
    "# Get the 'question' of 'maths'.\n",
    "print(json['quiz']['maths']['q1']['question'], \"\\n\")\n",
    "\n",
    "# Get the 'options' of 'sport'.\n",
    "print(json['quiz']['sport']['q1']['options'])\n"
   ]
  },
  {
   "cell_type": "code",
   "execution_count": 0,
   "metadata": {
    "colab": {},
    "colab_type": "code",
    "id": "lUcxcwSem1yD"
   },
   "outputs": [],
   "source": [
    "\"\"\"\n",
    "\n",
    "Write a script to print the categorical/unique data in series.\n",
    "\n",
    "Inputs:--\n",
    "\n",
    "    series1 = [\"a\", \"b\", \"d\", \"a\", \"d\"]\n",
    "    series2 = [1, 2, 3, 1, 2, 3]\n",
    "\n",
    "Outputs:--\n",
    "\n",
    "    Categorical without pandas.Categorical() :\n",
    "    0    a\n",
    "    1    b\n",
    "    2    d\n",
    "    3    a\n",
    "    4    d\n",
    "    dtype: object\n",
    "\n",
    "    Categorical with pandas.Categorical():\n",
    "\n",
    "    [a, b, d, a, d]\n",
    "    Categories (3, object): [a, b, d]\n",
    "\n",
    "\"\"\"\n",
    "\n",
    "import pandas as pd\n",
    "\n",
    "series = [\"b\", \"d\", \"a\", \"d\"]\n",
    "\n",
    "print(\"Outputs:--\\n\")\n",
    "\n",
    "series = pd.Series(series)\n",
    "print(\"\\nCategorical without pandas.Categorical() :\\n\", series)\n",
    "\n",
    "series = pd.Categorical(series, dtype = 'category', ordered = False)\n",
    "print(\"\\nCategorical with pandas.Categorical():\\n\\n\", series)"
   ]
  },
  {
   "cell_type": "code",
   "execution_count": 0,
   "metadata": {
    "colab": {},
    "colab_type": "code",
    "id": "OKcmiL0lA2JN"
   },
   "outputs": [],
   "source": [
    "\"\"\"\n",
    "\n",
    "Write a script to print only categoriecal/unique data of given series.\n",
    "\n",
    "Input:--\n",
    "\n",
    "    series = [1, 2, 3, 1, 2, 3]\n",
    "\n",
    "Output:--\n",
    "\n",
    "    [1, 2, 3]\n",
    "\n",
    "\"\"\"\n",
    "\n",
    "import pandas as pd\n",
    "\n",
    "series = [1, 2, 3, 1, 2, 3]\n",
    "\n",
    "series = list(pd.Categorical(series, dtype = 'category').categories)\n",
    "print(\"Output :\", series)"
   ]
  },
  {
   "cell_type": "code",
   "execution_count": 0,
   "metadata": {
    "colab": {},
    "colab_type": "code",
    "id": "ZiPj2RC2TjlW"
   },
   "outputs": [],
   "source": [
    "import pandas as pd\n",
    "\n",
    "series = [2, 1, 3, 1, 2, 3]\n",
    "\n",
    "series = pd.Categorical(series, dtype = 'category', ordered = True )\n",
    "print(\"Output :\", series)"
   ]
  },
  {
   "cell_type": "code",
   "execution_count": 0,
   "metadata": {
    "colab": {},
    "colab_type": "code",
    "id": "7WwUtLM2xzWr"
   },
   "outputs": [],
   "source": [
    "\"\"\"\n",
    "\n",
    "Write a script to print only categoriecal/unique data of given series.\n",
    "\n",
    "Input:--\n",
    "\n",
    "    series = [1, 2, 3, 1, 2, 3]\n",
    "\n",
    "Output:--\n",
    "\n",
    "    [1, 2, 3]\n",
    "\n",
    "\"\"\"\n",
    "\n",
    "import pandas as pd\n",
    "from pandas import CategoricalDtype\n",
    "series = [1, 2, 3, 1, 2, 3]\n",
    "\n",
    "a = pd.CategoricalDtype(['a', 'c', 'b'])\n",
    "print (\"a : \", a)\n",
    "\n",
    "b = CategoricalDtype(['a', 'b', 'c'], ordered = True) \n",
    "print (\"\\nb : \", b) \n",
    "\n",
    "c = CategoricalDtype(['a', 'b', 'c'], ordered = False) \n",
    "print (\"\\nb : \", c) \n",
    "\n",
    "print (\"\\nTrue / False : \", a == CategoricalDtype(['a', 'b', 'c'], ordered=False)) \n",
    "   \n",
    "c = pd.api.types.CategoricalDtype(categories=[\"a\",\"b\",\"d\",\"c\"], ordered=True) \n",
    "print (\"\\nType : \", c) \n"
   ]
  }
 ],
 "metadata": {
  "colab": {
   "collapsed_sections": [],
   "name": "Python_Pandas_1.ipynb",
   "provenance": [
    {
     "file_id": "1r0Pb4n9Enh7m_aFhO_sk17_eJWCieUPx",
     "timestamp": 1574152087736
    }
   ]
  },
  "kernelspec": {
   "display_name": "Python 3",
   "language": "python",
   "name": "python3"
  },
  "language_info": {
   "codemirror_mode": {
    "name": "ipython",
    "version": 3
   },
   "file_extension": ".py",
   "mimetype": "text/x-python",
   "name": "python",
   "nbconvert_exporter": "python",
   "pygments_lexer": "ipython3",
   "version": "3.8.2"
  }
 },
 "nbformat": 4,
 "nbformat_minor": 1
}
