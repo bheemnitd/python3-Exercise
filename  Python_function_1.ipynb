{
 "cells": [
  {
   "cell_type": "markdown",
   "metadata": {
    "colab_type": "text",
    "id": "_9vMN84DqlJm"
   },
   "source": [
    "# Python Function, Lambda Function and Recursive Function"
   ]
  },
  {
   "cell_type": "markdown",
   "metadata": {
    "colab": {
     "base_uri": "https://localhost:8080/",
     "height": 54
    },
    "colab_type": "code",
    "executionInfo": {
     "elapsed": 2122,
     "status": "ok",
     "timestamp": 1567501742355,
     "user": {
      "displayName": "BHEEM KUMAR",
      "photoUrl": "https://lh3.googleusercontent.com/a-/AAuE7mCt7lUnsC2GTAphPovu9Ia-s3UmOdWEPyr8wqQt=s64",
      "userId": "17710010183457348789"
     },
     "user_tz": -330
    },
    "id": "KCjyx4fPi27B",
    "outputId": "15507dce-7297-4f51-aa39-ac41c121912e"
   },
   "source": [
    "### What is function in python ?\n",
    "A function is a block of organized, reusable code that is used to perform a single, related action. \n",
    "Functions provide better modularity for your application and a high degree of code reusing. \n",
    "As you already know, Python gives you many built-in functions like print(), etc. but you can also create your own functions."
   ]
  },
  {
   "cell_type": "code",
   "execution_count": 2,
   "metadata": {
    "colab": {
     "base_uri": "https://localhost:8080/",
     "height": 34
    },
    "colab_type": "code",
    "executionInfo": {
     "elapsed": 2112,
     "status": "ok",
     "timestamp": 1567501742355,
     "user": {
      "displayName": "BHEEM KUMAR",
      "photoUrl": "https://lh3.googleusercontent.com/a-/AAuE7mCt7lUnsC2GTAphPovu9Ia-s3UmOdWEPyr8wqQt=s64",
      "userId": "17710010183457348789"
     },
     "user_tz": -330
    },
    "id": "evHSFREPjDC7",
    "outputId": "80edde37-d9b9-450d-861c-e8dc31f26071"
   },
   "outputs": [
    {
     "name": "stdout",
     "output_type": "stream",
     "text": [
      "Output : 15\n"
     ]
    }
   ],
   "source": [
    "\"\"\"\n",
    "Create a function which do not take any argument and print the sum of two number in the function.\n",
    "\n",
    "\"\"\"\n",
    "\n",
    "def add():\n",
    "  \n",
    "    var1 = 5\n",
    "    var2 = 10\n",
    "\n",
    "    var3 = var1 + var2\n",
    "\n",
    "    print('Output :',var3)\n",
    "\n",
    "# Function call\n",
    "\n",
    "add()"
   ]
  },
  {
   "cell_type": "code",
   "execution_count": 3,
   "metadata": {
    "colab": {
     "base_uri": "https://localhost:8080/",
     "height": 34
    },
    "colab_type": "code",
    "executionInfo": {
     "elapsed": 2103,
     "status": "ok",
     "timestamp": 1567501742356,
     "user": {
      "displayName": "BHEEM KUMAR",
      "photoUrl": "https://lh3.googleusercontent.com/a-/AAuE7mCt7lUnsC2GTAphPovu9Ia-s3UmOdWEPyr8wqQt=s64",
      "userId": "17710010183457348789"
     },
     "user_tz": -330
    },
    "id": "e0dzfE0jjO4B",
    "outputId": "fed7c56c-606f-44d2-cc16-50fc84f5f513"
   },
   "outputs": [
    {
     "name": "stdout",
     "output_type": "stream",
     "text": [
      "Output : 35\n"
     ]
    }
   ],
   "source": [
    "\"\"\"\n",
    "Create a function which takes two arguments as number, print the sum of them.\n",
    "\n",
    "\"\"\"\n",
    "\n",
    "def add(arg1, arg2):\n",
    "  \n",
    "  total = arg1 + arg2\n",
    "  \n",
    "  print('Output :', total)\n",
    "\n",
    "# Function call\n",
    "\n",
    "add(15,20)"
   ]
  },
  {
   "cell_type": "code",
   "execution_count": 4,
   "metadata": {
    "colab": {
     "base_uri": "https://localhost:8080/",
     "height": 34
    },
    "colab_type": "code",
    "executionInfo": {
     "elapsed": 2094,
     "status": "ok",
     "timestamp": 1567501742356,
     "user": {
      "displayName": "BHEEM KUMAR",
      "photoUrl": "https://lh3.googleusercontent.com/a-/AAuE7mCt7lUnsC2GTAphPovu9Ia-s3UmOdWEPyr8wqQt=s64",
      "userId": "17710010183457348789"
     },
     "user_tz": -330
    },
    "id": "CTJDo4IhjpOf",
    "outputId": "6a01c1ad-253f-42b5-bc71-0a4ab78872b0"
   },
   "outputs": [
    {
     "name": "stdout",
     "output_type": "stream",
     "text": [
      "Output : 25\n"
     ]
    }
   ],
   "source": [
    "\"\"\"\n",
    "Create a function which takes two arguments as number and return the sum of them.\n",
    "\n",
    "\"\"\"\n",
    "\n",
    "def add(arg1, arg2):\n",
    "  \n",
    "  total = arg1 + arg2\n",
    "  \n",
    "  return total\n",
    "\n",
    "# Function call\n",
    "\n",
    "print('Output :', add(15, 10))"
   ]
  },
  {
   "cell_type": "code",
   "execution_count": 5,
   "metadata": {
    "colab": {
     "base_uri": "https://localhost:8080/",
     "height": 34
    },
    "colab_type": "code",
    "executionInfo": {
     "elapsed": 2085,
     "status": "ok",
     "timestamp": 1567501742357,
     "user": {
      "displayName": "BHEEM KUMAR",
      "photoUrl": "https://lh3.googleusercontent.com/a-/AAuE7mCt7lUnsC2GTAphPovu9Ia-s3UmOdWEPyr8wqQt=s64",
      "userId": "17710010183457348789"
     },
     "user_tz": -330
    },
    "id": "S8EdjXZ-yR4d",
    "outputId": "0345607c-a5c6-4785-f4d3-fcc26a52482c"
   },
   "outputs": [
    {
     "name": "stdout",
     "output_type": "stream",
     "text": [
      "Output : 89\n"
     ]
    }
   ],
   "source": [
    "\"\"\"\n",
    "Create a function which takes a list of 10 numbers and return the 2nd largest number.\n",
    "\n",
    "Input : [89,22,35,90,11,80,22,35,88,60]\n",
    "Output: 89\n",
    "\"\"\"\n",
    "def second_largest_number(list1):\n",
    "  \n",
    "  return sorted(list1)[-2]\n",
    "\n",
    "list1 = [89,22,35,90,11,80,22,35,88,60]\n",
    "\n",
    "second_largest = second_largest_number(list1) # Function call\n",
    "print('Output :', second_largest)"
   ]
  },
  {
   "cell_type": "code",
   "execution_count": 6,
   "metadata": {
    "colab": {
     "base_uri": "https://localhost:8080/",
     "height": 68
    },
    "colab_type": "code",
    "executionInfo": {
     "elapsed": 2075,
     "status": "ok",
     "timestamp": 1567501742357,
     "user": {
      "displayName": "BHEEM KUMAR",
      "photoUrl": "https://lh3.googleusercontent.com/a-/AAuE7mCt7lUnsC2GTAphPovu9Ia-s3UmOdWEPyr8wqQt=s64",
      "userId": "17710010183457348789"
     },
     "user_tz": -330
    },
    "id": "68c12xmqzhSm",
    "outputId": "5deff36f-7391-4c29-8fef-ef2eebb0b4bd"
   },
   "outputs": [
    {
     "name": "stdout",
     "output_type": "stream",
     "text": [
      "Output :\n",
      "Bfore removing duplicate elements: [89, 22, 35, 60, 11, 80, 22, 35, 80, 60]\n",
      "After removing duplicate elements: [35, 11, 80, 22, 89, 60]\n"
     ]
    }
   ],
   "source": [
    "\"\"\"\n",
    "Create a function which takes a list of 10 numbers remove the duplicates number from list and retrun it.\n",
    "\n",
    "Input : [89, 22, 35, 60, 11, 80, 22, 35, 80, 60]\n",
    "Output: [35, 11, 80, 22, 89, 60]\n",
    "\"\"\"\n",
    "def remove_duplicate(list1):\n",
    "  \n",
    "  return list(set(list1))\n",
    "\n",
    "list1 = [89,22,35,60,11,80,22,35,80,60]\n",
    "\n",
    "print('Output :')\n",
    "print('Bfore removing duplicate elements:',list1)\n",
    "list1 = remove_duplicate(list1) # Function call\n",
    "print('After removing duplicate elements:',list1)\n"
   ]
  },
  {
   "cell_type": "code",
   "execution_count": 7,
   "metadata": {
    "colab": {
     "base_uri": "https://localhost:8080/",
     "height": 51
    },
    "colab_type": "code",
    "executionInfo": {
     "elapsed": 2067,
     "status": "ok",
     "timestamp": 1567501742358,
     "user": {
      "displayName": "BHEEM KUMAR",
      "photoUrl": "https://lh3.googleusercontent.com/a-/AAuE7mCt7lUnsC2GTAphPovu9Ia-s3UmOdWEPyr8wqQt=s64",
      "userId": "17710010183457348789"
     },
     "user_tz": -330
    },
    "id": "dEK-kwcV4Br6",
    "outputId": "4dcf54e7-9ea4-4292-febe-2502be366b60"
   },
   "outputs": [
    {
     "name": "stdout",
     "output_type": "stream",
     "text": [
      "Output1 : [11, 22, 22, 35, 35, 60, 60, 80, 80, 89]\n",
      "Output2 : [89, 22, 35, 60, 11, 80, 22, 35, 80, 60]\n"
     ]
    }
   ],
   "source": [
    "\"\"\"\n",
    "Create a function which takes one unsorted list and return both sorted and unsorted list.\n",
    "\n",
    "Input   : [89, 22, 35, 60, 11, 80, 22, 35, 80, 60]\n",
    "\n",
    "Output1 : [11, 22, 22, 35, 35, 60, 60, 80, 80, 89]\n",
    "Output2 : [89, 22, 35, 60, 11, 80, 22, 35, 80, 60]\n",
    "\n",
    "\"\"\"\n",
    "\n",
    "def sort_list(list1):\n",
    "  \n",
    "  return list1, sorted(list1)\n",
    "\n",
    "\n",
    "list1 = [89, 22, 35, 60, 11, 80, 22, 35, 80, 60]\n",
    "\n",
    "unsorted_list, sorted_list = sort_list(list1) # Function call\n",
    "\n",
    "print('Output1 :', sorted_list)\n",
    "print('Output2 :', unsorted_list)"
   ]
  },
  {
   "cell_type": "code",
   "execution_count": 8,
   "metadata": {
    "colab": {
     "base_uri": "https://localhost:8080/",
     "height": 34
    },
    "colab_type": "code",
    "executionInfo": {
     "elapsed": 2794,
     "status": "ok",
     "timestamp": 1574498145306,
     "user": {
      "displayName": "Neeraj Avutu",
      "photoUrl": "",
      "userId": "16705445206746567151"
     },
     "user_tz": -330
    },
    "id": "sdwMwS8U7607",
    "outputId": "523212a0-5856-4f81-a3e7-3fb5df8bd10c"
   },
   "outputs": [
    {
     "name": "stdout",
     "output_type": "stream",
     "text": [
      "Output : 15\n"
     ]
    }
   ],
   "source": [
    "\"\"\"\n",
    "Write a lambda function to add 10 to given number.\n",
    "\n",
    "Input : 5\n",
    "Output: 10\n",
    "\n",
    "\"\"\"\n",
    "\n",
    "x = lambda a : a + 10\n",
    "print('Output :', x(5))\n"
   ]
  },
  {
   "cell_type": "code",
   "execution_count": 9,
   "metadata": {
    "colab": {
     "base_uri": "https://localhost:8080/",
     "height": 34
    },
    "colab_type": "code",
    "executionInfo": {
     "elapsed": 2044,
     "status": "ok",
     "timestamp": 1567501742358,
     "user": {
      "displayName": "BHEEM KUMAR",
      "photoUrl": "https://lh3.googleusercontent.com/a-/AAuE7mCt7lUnsC2GTAphPovu9Ia-s3UmOdWEPyr8wqQt=s64",
      "userId": "17710010183457348789"
     },
     "user_tz": -330
    },
    "id": "oGpREe8Z-zpK",
    "outputId": "4145ef7e-52ca-40c1-e499-dec7510d03f8"
   },
   "outputs": [
    {
     "name": "stdout",
     "output_type": "stream",
     "text": [
      "Output : 100\n"
     ]
    }
   ],
   "source": [
    "\"\"\"\n",
    "Write a lambda function to get the product of two given number.\n",
    "\n",
    "Input1 : 5\n",
    "input2 : 20\n",
    "Output : 100\n",
    "\n",
    "\"\"\"\n",
    "\n",
    "x = lambda a, b : a * b\n",
    "print('Output :', x(5, 20))"
   ]
  },
  {
   "cell_type": "code",
   "execution_count": 10,
   "metadata": {
    "colab": {
     "base_uri": "https://localhost:8080/",
     "height": 34
    },
    "colab_type": "code",
    "executionInfo": {
     "elapsed": 2035,
     "status": "ok",
     "timestamp": 1567501742359,
     "user": {
      "displayName": "BHEEM KUMAR",
      "photoUrl": "https://lh3.googleusercontent.com/a-/AAuE7mCt7lUnsC2GTAphPovu9Ia-s3UmOdWEPyr8wqQt=s64",
      "userId": "17710010183457348789"
     },
     "user_tz": -330
    },
    "id": "4x27LX6v_gMV",
    "outputId": "e382d38e-0ed9-46e0-fd06-f5971e310bb8"
   },
   "outputs": [
    {
     "name": "stdout",
     "output_type": "stream",
     "text": [
      "Output : 55\n"
     ]
    }
   ],
   "source": [
    "\"\"\"\n",
    "Write a lambda function that sums argument a, b, and c and print the result:\n",
    "\n",
    "Input1 : 5\n",
    "Input2 : 20\n",
    "Input3 : 30\n",
    "Output : 55\n",
    "\n",
    "\"\"\"\n",
    "\n",
    "x = lambda a, b, c : a + b + c\n",
    "print('Output :',x(5, 20, 30))"
   ]
  },
  {
   "cell_type": "markdown",
   "metadata": {
    "colab": {
     "base_uri": "https://localhost:8080/",
     "height": 54
    },
    "colab_type": "code",
    "executionInfo": {
     "elapsed": 2026,
     "status": "ok",
     "timestamp": 1567501742359,
     "user": {
      "displayName": "BHEEM KUMAR",
      "photoUrl": "https://lh3.googleusercontent.com/a-/AAuE7mCt7lUnsC2GTAphPovu9Ia-s3UmOdWEPyr8wqQt=s64",
      "userId": "17710010183457348789"
     },
     "user_tz": -330
    },
    "id": "0r_KXX5UkBXm",
    "outputId": "9a6e6109-fb01-4eaf-9b9e-52ebdc637859"
   },
   "source": [
    "### What is map, filter and reduce in poython ?\n",
    "\n",
    "map   : Python map() function is used to apply a function on all the elements of specified iterable and return map object. \n",
    "        Python map object is an iterator, so we can iterate over its elements. \n",
    "        We can also convert map object to sequence objects such as list, tuple etc. using their factory functions.\n",
    "\n",
    "filter: The filter() method constructs an iterator from elements of an iterable for which a function returns true. \n",
    "        In simple words, the filter() method filters the given iterable with the help of a function that tests each element in the iterable to be true or not.\n",
    "        \n",
    "reduce: The reduce(fun,seq) function is used to apply a particular function passed in its argument to all of the list elements mentioned in the sequence passed along.\n",
    "        This function is defined in “functools” module. Working : ... This process continues till no more elements are left in the container.        \n",
    "\n"
   ]
  },
  {
   "cell_type": "code",
   "execution_count": 11,
   "metadata": {
    "colab": {
     "base_uri": "https://localhost:8080/",
     "height": 34
    },
    "colab_type": "code",
    "executionInfo": {
     "elapsed": 2018,
     "status": "ok",
     "timestamp": 1567501742360,
     "user": {
      "displayName": "BHEEM KUMAR",
      "photoUrl": "https://lh3.googleusercontent.com/a-/AAuE7mCt7lUnsC2GTAphPovu9Ia-s3UmOdWEPyr8wqQt=s64",
      "userId": "17710010183457348789"
     },
     "user_tz": -330
    },
    "id": "ByJWHAP9kw7w",
    "outputId": "4f2a3d41-e84b-4e86-c6f1-9271098659de"
   },
   "outputs": [
    {
     "name": "stdout",
     "output_type": "stream",
     "text": [
      "Output : [1, 2, 3, 4, 5, 6, 7, 8, 9, 0]\n"
     ]
    }
   ],
   "source": [
    "\"\"\"\n",
    "Write a function which convert a number_string into integer_list using 'map' function.\n",
    "\n",
    "Input : '1234567890'\n",
    "\n",
    "Output: [1, 2, 3, 4, 5, 6, 7, 8, 9, 0]\n",
    "\n",
    "\"\"\"\n",
    "def str_to_num(string):\n",
    "  \n",
    "  number_list = list(map(int,number_string))\n",
    "  \n",
    "  return number_list\n",
    "\n",
    "number_string  = '1234567890'\n",
    "print('Output :',str_to_num(number_string))"
   ]
  },
  {
   "cell_type": "code",
   "execution_count": 12,
   "metadata": {
    "colab": {
     "base_uri": "https://localhost:8080/",
     "height": 34
    },
    "colab_type": "code",
    "executionInfo": {
     "elapsed": 956,
     "status": "ok",
     "timestamp": 1572513128921,
     "user": {
      "displayName": "bheem kumar",
      "photoUrl": "https://lh3.googleusercontent.com/a-/AAuE7mDCx24nBXj8t-exydQqWCz_3_2Fr8UREB6_UTXj=s64",
      "userId": "16514217920437432713"
     },
     "user_tz": -330
    },
    "id": "VfHHz8wulrFC",
    "outputId": "57910200-211d-48fc-e552-13a0eb5567ff"
   },
   "outputs": [
    {
     "name": "stdout",
     "output_type": "stream",
     "text": [
      "Output : [20, 50, 34, 18, 60, -10]\n"
     ]
    }
   ],
   "source": [
    "\"\"\"\n",
    "Write a lambda Function which double the all values of list using map.\n",
    "\n",
    "Input : [10, 25, 17, 9, 30, -5]\n",
    "\n",
    "Output: [20, 50, 34, 18, 60, -10]\n",
    "\n",
    "\"\"\"\n",
    "myList = [10, 25, 17, 9, 30, -5]\n",
    "\n",
    "myList2 = list(map(lambda n : n*2, myList))\n",
    "\n",
    "print('Output :', myList2)"
   ]
  },
  {
   "cell_type": "code",
   "execution_count": 13,
   "metadata": {
    "colab": {
     "base_uri": "https://localhost:8080/",
     "height": 34
    },
    "colab_type": "code",
    "executionInfo": {
     "elapsed": 2000,
     "status": "ok",
     "timestamp": 1567501742360,
     "user": {
      "displayName": "BHEEM KUMAR",
      "photoUrl": "https://lh3.googleusercontent.com/a-/AAuE7mCt7lUnsC2GTAphPovu9Ia-s3UmOdWEPyr8wqQt=s64",
      "userId": "17710010183457348789"
     },
     "user_tz": -330
    },
    "id": "lcoBDnvqpAjW",
    "outputId": "2c417037-c9da-4f7e-c909-f4202876fdb5"
   },
   "outputs": [
    {
     "name": "stdout",
     "output_type": "stream",
     "text": [
      "Output : [0, 1, 2, 3, 4]\n"
     ]
    }
   ],
   "source": [
    "\"\"\"\n",
    "Write a lambda function which removes all negative number of list using 'filter' function.\n",
    "\n",
    "Input : range(-5,5)\n",
    "\n",
    "Output: [0, 1, 2, 3, 4]\n",
    "\n",
    "\"\"\"\n",
    "\n",
    "list1 = list(map(int,range(-5,5)))\n",
    "\n",
    "print('Output :', list(filter(lambda x: x>=0, list1)))"
   ]
  },
  {
   "cell_type": "code",
   "execution_count": 14,
   "metadata": {
    "colab": {
     "base_uri": "https://localhost:8080/",
     "height": 119
    },
    "colab_type": "code",
    "executionInfo": {
     "elapsed": 986,
     "status": "ok",
     "timestamp": 1572513259793,
     "user": {
      "displayName": "bheem kumar",
      "photoUrl": "https://lh3.googleusercontent.com/a-/AAuE7mDCx24nBXj8t-exydQqWCz_3_2Fr8UREB6_UTXj=s64",
      "userId": "16514217920437432713"
     },
     "user_tz": -330
    },
    "id": "wUrL-d5qqqU7",
    "outputId": "86eb2ae4-86f4-49e5-fbff-8d515326d63a"
   },
   "outputs": [
    {
     "name": "stdout",
     "output_type": "stream",
     "text": [
      "Output :\n",
      "[0, 0, 0]\n",
      "[1, 2, -1]\n",
      "[4, 4, 0]\n",
      "[9, 6, 3]\n",
      "[16, 8, 8]\n"
     ]
    }
   ],
   "source": [
    "\"\"\"\n",
    "Write a lambda function which executes multiple function using 'map' function.\n",
    "\n",
    "Output: \n",
    "[0, 0, 0]\n",
    "[1, 2, -1]\n",
    "[4, 4, 0]\n",
    "[9, 6, 3]\n",
    "[16, 8, 8]\n",
    "\n",
    "\"\"\"\n",
    "\n",
    "def mul(x):\n",
    "    return x*x\n",
    "\n",
    "def add(x):\n",
    "    return x+x\n",
    "\n",
    "def sub(x):\n",
    "    return(mul(x)-add(x))\n",
    "\n",
    "functions = [mul, add, sub]\n",
    "\n",
    "print('Output :')\n",
    "for i in range(5):\n",
    "              \n",
    "    value = list(map(lambda x: x(i), functions))\n",
    "    \n",
    "    print(value)"
   ]
  },
  {
   "cell_type": "code",
   "execution_count": 15,
   "metadata": {
    "colab": {
     "base_uri": "https://localhost:8080/",
     "height": 34
    },
    "colab_type": "code",
    "executionInfo": {
     "elapsed": 948,
     "status": "ok",
     "timestamp": 1572513580406,
     "user": {
      "displayName": "bheem kumar",
      "photoUrl": "https://lh3.googleusercontent.com/a-/AAuE7mDCx24nBXj8t-exydQqWCz_3_2Fr8UREB6_UTXj=s64",
      "userId": "16514217920437432713"
     },
     "user_tz": -330
    },
    "id": "cM-JrbmOvncI",
    "outputId": "27cab33c-3858-4884-b077-67aa9ddd0e88"
   },
   "outputs": [
    {
     "name": "stdout",
     "output_type": "stream",
     "text": [
      "Output : 24\n"
     ]
    }
   ],
   "source": [
    "\"\"\"\n",
    "Write a lmbda function which return product of all elements of list using 'reduce' function.\n",
    "\n",
    "input : [1, 2, 3, 4]\n",
    "\n",
    "Output: 24\n",
    "\n",
    "\"\"\"\n",
    "\n",
    "from functools import reduce\n",
    "\n",
    "product = reduce((lambda x, y: x * y), [1,2,3,4])\n",
    "\n",
    "print('Output :', product)"
   ]
  },
  {
   "cell_type": "code",
   "execution_count": 16,
   "metadata": {
    "colab": {
     "base_uri": "https://localhost:8080/",
     "height": 34
    },
    "colab_type": "code",
    "executionInfo": {
     "elapsed": 1964,
     "status": "ok",
     "timestamp": 1567501742362,
     "user": {
      "displayName": "BHEEM KUMAR",
      "photoUrl": "https://lh3.googleusercontent.com/a-/AAuE7mCt7lUnsC2GTAphPovu9Ia-s3UmOdWEPyr8wqQt=s64",
      "userId": "17710010183457348789"
     },
     "user_tz": -330
    },
    "id": "ei8M9ZeYC2Qu",
    "outputId": "81ef222f-dc5f-4145-ccab-36cddf12e6dc"
   },
   "outputs": [
    {
     "ename": "IndentationError",
     "evalue": "unexpected indent (<ipython-input-16-fc5f339d2102>, line 14)",
     "output_type": "error",
     "traceback": [
      "\u001b[0;36m  File \u001b[0;32m\"<ipython-input-16-fc5f339d2102>\"\u001b[0;36m, line \u001b[0;32m14\u001b[0m\n\u001b[0;31m    for i in range(length_of_string):\u001b[0m\n\u001b[0m    ^\u001b[0m\n\u001b[0;31mIndentationError\u001b[0m\u001b[0;31m:\u001b[0m unexpected indent\n"
     ]
    }
   ],
   "source": [
    "\"\"\"\n",
    "Write a function that check whether a given string is palindrome or not.\n",
    "\n",
    "Input : 'madama'\n",
    "\n",
    "Output: Palindrome\n",
    "\n",
    "\"\"\"\n",
    "def palindrome(string):\n",
    "  \n",
    "  flag = 'Palindrome'\n",
    "  length_of_string = len(string)\n",
    "  \n",
    "    for i in range(length_of_string):\n",
    "        if(string[i] != string[length_of_string - i - 1]):\n",
    "          flag = 'Not Palindrome'\n",
    "          break\n",
    "    return flag\n",
    "\n",
    "string = 'madam'\n",
    "print('Output :',palindrome(string))"
   ]
  },
  {
   "cell_type": "code",
   "execution_count": 17,
   "metadata": {
    "colab": {
     "base_uri": "https://localhost:8080/",
     "height": 51
    },
    "colab_type": "code",
    "executionInfo": {
     "elapsed": 2446,
     "status": "ok",
     "timestamp": 1567501742855,
     "user": {
      "displayName": "BHEEM KUMAR",
      "photoUrl": "https://lh3.googleusercontent.com/a-/AAuE7mCt7lUnsC2GTAphPovu9Ia-s3UmOdWEPyr8wqQt=s64",
      "userId": "17710010183457348789"
     },
     "user_tz": -330
    },
    "id": "Rc7SQxHlR1aq",
    "outputId": "fafddfc5-f94d-4ae8-f657-f12961071275"
   },
   "outputs": [
    {
     "name": "stdout",
     "output_type": "stream",
     "text": [
      "Output :\n",
      "armstrong between 1 to 50000 are: [0]\n"
     ]
    }
   ],
   "source": [
    "\"\"\"\n",
    "Write a python function that return armstrong number between 0 to 50000.\n",
    "\n",
    "Output :\n",
    "armstrong between 1 to 50000 are: [0, 1, 2, 3, 4, 5, 6, 7, 8, 9, 153, 370, 371, 407, 1634, 8208, 9474]\n",
    "\n",
    "\"\"\"\n",
    "def armstrong_list():\n",
    "  list1 = []\n",
    "  for i in range(50000):\n",
    "    x = 0\n",
    "    for j in str(i):\n",
    "      x += int(j)**len(str(i))\n",
    "    if(x == i):\n",
    "      list1.append(x)\n",
    "      \n",
    "    return list1\n",
    "print('Output :')\n",
    "print('armstrong between 1 to 50000 are:', armstrong_list())\n"
   ]
  },
  {
   "cell_type": "code",
   "execution_count": 18,
   "metadata": {
    "colab": {
     "base_uri": "https://localhost:8080/",
     "height": 51
    },
    "colab_type": "code",
    "executionInfo": {
     "elapsed": 2435,
     "status": "ok",
     "timestamp": 1567501742855,
     "user": {
      "displayName": "BHEEM KUMAR",
      "photoUrl": "https://lh3.googleusercontent.com/a-/AAuE7mCt7lUnsC2GTAphPovu9Ia-s3UmOdWEPyr8wqQt=s64",
      "userId": "17710010183457348789"
     },
     "user_tz": -330
    },
    "id": "CgkOB6bePriT",
    "outputId": "9f38dcda-c214-4543-91b9-bf8fac9cc48a"
   },
   "outputs": [
    {
     "name": "stdout",
     "output_type": "stream",
     "text": [
      "Output1: 255.24.1.1\n",
      "Output2: 127.0.0.1\n"
     ]
    }
   ],
   "source": [
    "\"\"\"\n",
    "Write a python function which remove the unnecessary zeros from Given Ip Address.\n",
    "\n",
    "Input1 : 255.024.01.01\n",
    "Input2 : 127.0.0.01\n",
    "\n",
    "Output1: 255.24.1.1\n",
    "Output2: 127.0.0.1\n",
    "\"\"\"\n",
    "\n",
    "def remove_zeros_from_ip(ip_add):\n",
    "  new_ip_add = \".\".join([str(int(i)) for i in ip_add.split('.')])  \n",
    "  return new_ip_add ;\n",
    "\n",
    "print('Output1:',remove_zeros_from_ip('255.024.01.01'))\n",
    "print('Output2:',remove_zeros_from_ip('127.0.0.01 '))"
   ]
  },
  {
   "cell_type": "code",
   "execution_count": 19,
   "metadata": {
    "colab": {
     "base_uri": "https://localhost:8080/",
     "height": 34
    },
    "colab_type": "code",
    "executionInfo": {
     "elapsed": 2425,
     "status": "ok",
     "timestamp": 1567501742856,
     "user": {
      "displayName": "BHEEM KUMAR",
      "photoUrl": "https://lh3.googleusercontent.com/a-/AAuE7mCt7lUnsC2GTAphPovu9Ia-s3UmOdWEPyr8wqQt=s64",
      "userId": "17710010183457348789"
     },
     "user_tz": -330
    },
    "id": "lhTP-zRArQA6",
    "outputId": "d8365e5f-8541-4a23-a68a-f85c6d6c41c8"
   },
   "outputs": [
    {
     "name": "stdout",
     "output_type": "stream",
     "text": [
      "Output : 3\n"
     ]
    }
   ],
   "source": [
    "\"\"\"\n",
    "Write a Python function to find maximum length of consecutive 0's in a given binary string.\n",
    "\n",
    "Input : '10110001010'\n",
    "\n",
    "Output: 3\n",
    "\n",
    "\"\"\"\n",
    "string = '10110001010'\n",
    "\n",
    "string = string.split(\"1\")\n",
    "string.sort()\n",
    "print('Output :',string[-1].count(\"0\"))\n",
    "\n",
    "#OR\n",
    "\n",
    "# def max_consecutive_0(input_str): \n",
    "#      return  max(map(len,input_str.split('1')))\n"
   ]
  },
  {
   "cell_type": "code",
   "execution_count": 20,
   "metadata": {
    "colab": {
     "base_uri": "https://localhost:8080/",
     "height": 34
    },
    "colab_type": "code",
    "executionInfo": {
     "elapsed": 2376,
     "status": "ok",
     "timestamp": 1567501742856,
     "user": {
      "displayName": "BHEEM KUMAR",
      "photoUrl": "https://lh3.googleusercontent.com/a-/AAuE7mCt7lUnsC2GTAphPovu9Ia-s3UmOdWEPyr8wqQt=s64",
      "userId": "17710010183457348789"
     },
     "user_tz": -330
    },
    "id": "tGRlrQIGrXUb",
    "outputId": "f17a2427-35b4-4a0d-9ac0-c9533c051f79"
   },
   "outputs": [
    {
     "name": "stdout",
     "output_type": "stream",
     "text": [
      "Output : 1\n"
     ]
    }
   ],
   "source": [
    "\"\"\"\n",
    "\n",
    "Write a Python program to make two given strings (lower case, may or may not be of the same length) anagrams removing \n",
    "any characters from any of the strings.\n",
    "\n",
    "\"\"\"\n",
    "def make_map(s):\n",
    "    temp_map = {}\n",
    "    for char in s:\n",
    "        if char not in temp_map:\n",
    "            temp_map[char] = 1\n",
    "        else:\n",
    "            temp_map[char] +=1 \n",
    "            \n",
    "    return temp_map        \n",
    "  \n",
    "def make_anagram(str1, str2):\n",
    "    str1_map1 = make_map(str1)\n",
    "    str2_map2 = make_map(str2)\n",
    " \n",
    "    ctr = 0\n",
    "    for key in str2_map2.keys():\n",
    "        if key not in str1_map1:\n",
    "            ctr += str2_map2[key]\n",
    "        else:\n",
    "            ctr += max(0, str2_map2[key]-str1_map1[key])\n",
    " \n",
    "    for key in str1_map1.keys():\n",
    "        if key not in str2_map2:\n",
    "            ctr += str1_map1[key]\n",
    "        else:\n",
    "            ctr += max(0, str1_map1[key]-str2_map2[key]) \n",
    "    return ctr \n",
    "  \n",
    "str1 = 'string1'\n",
    "str2 = 'string'\n",
    "print('Output :', make_anagram(str1, str2))\n",
    "\n",
    "#????????????????????????????????????????"
   ]
  },
  {
   "cell_type": "code",
   "execution_count": 21,
   "metadata": {
    "colab": {
     "base_uri": "https://localhost:8080/",
     "height": 34
    },
    "colab_type": "code",
    "executionInfo": {
     "elapsed": 2365,
     "status": "ok",
     "timestamp": 1567501742856,
     "user": {
      "displayName": "BHEEM KUMAR",
      "photoUrl": "https://lh3.googleusercontent.com/a-/AAuE7mCt7lUnsC2GTAphPovu9Ia-s3UmOdWEPyr8wqQt=s64",
      "userId": "17710010183457348789"
     },
     "user_tz": -330
    },
    "id": "0T8ltDthnhXx",
    "outputId": "32f40fd7-2233-4424-e608-5bfe437b4743"
   },
   "outputs": [
    {
     "name": "stdout",
     "output_type": "stream",
     "text": [
      "Output : Anagram\n"
     ]
    }
   ],
   "source": [
    "\"\"\"\n",
    "Create a function that check whether the given two strings are anagram are not.\n",
    "\n",
    "Input1: 'silent'\n",
    "Input2: 'listen'\n",
    "\n",
    "Output : 'Anagram'\n",
    "\n",
    "\"\"\"\n",
    "      \n",
    "def anagram(str1, str2):\n",
    "  anagram = 'Anagram'\n",
    "  if sorted(str1) != sorted(str2):\n",
    "    anagram = 'Not Anagram'\n",
    "  return anagram\n",
    "\n",
    "str1 = 'silent'\n",
    "str2 = 'listen'\n",
    "print('Output :',anagram(str1,str2))\n",
    "\n",
    "#????????????????????????????????????????\n"
   ]
  },
  {
   "cell_type": "code",
   "execution_count": 22,
   "metadata": {
    "colab": {
     "base_uri": "https://localhost:8080/",
     "height": 68
    },
    "colab_type": "code",
    "executionInfo": {
     "elapsed": 2356,
     "status": "ok",
     "timestamp": 1567501742857,
     "user": {
      "displayName": "BHEEM KUMAR",
      "photoUrl": "https://lh3.googleusercontent.com/a-/AAuE7mCt7lUnsC2GTAphPovu9Ia-s3UmOdWEPyr8wqQt=s64",
      "userId": "17710010183457348789"
     },
     "user_tz": -330
    },
    "id": "sUfjfjc0ra7q",
    "outputId": "3082dddc-ffbc-4336-9135-8da5739de6b8"
   },
   "outputs": [
    {
     "name": "stdout",
     "output_type": "stream",
     "text": [
      "Output:\n",
      "Original string: missisippy\n",
      "After removing consecutive duplicates: misisipy\n"
     ]
    }
   ],
   "source": [
    "\"\"\"\n",
    "Write a Python program to remove all consecutive duplicates of a given string.\n",
    "\n",
    "Input : 'missisippy'\n",
    "\n",
    "Output:\n",
    "Original string: missisippy\n",
    "After removing consecutive duplicates: misisipy\n",
    "\n",
    "\"\"\"\n",
    "\n",
    "def remove_all_consecutive(string):\n",
    "\n",
    "  str1 = []\n",
    "  for i in range(len(string)-1):\n",
    "\n",
    "    if(string[i]!=string[i+1]):\n",
    "\n",
    "      str1.append(string[i])\n",
    "\n",
    "      i+=1\n",
    "  return ''.join(str1)\n",
    "\n",
    "\n",
    "#OR \n",
    "\n",
    "from itertools import groupby \n",
    "\n",
    "def remove_all_consecutive(string):\n",
    "  \n",
    "  str1 = []\n",
    "  \n",
    "  for (key, group) in groupby(string):\n",
    "    \n",
    "    str1.append(key)\n",
    "\n",
    "  return ''.join(str1)\n",
    "\n",
    "string = 'missisippy'\n",
    "print('Output:')\n",
    "print('Original string:', string)\n",
    "print('After removing consecutive duplicates:', remove_all_consecutive(string))\n"
   ]
  },
  {
   "cell_type": "code",
   "execution_count": 23,
   "metadata": {
    "colab": {
     "base_uri": "https://localhost:8080/",
     "height": 102
    },
    "colab_type": "code",
    "executionInfo": {
     "elapsed": 22951,
     "status": "ok",
     "timestamp": 1567501763461,
     "user": {
      "displayName": "BHEEM KUMAR",
      "photoUrl": "https://lh3.googleusercontent.com/a-/AAuE7mCt7lUnsC2GTAphPovu9Ia-s3UmOdWEPyr8wqQt=s64",
      "userId": "17710010183457348789"
     },
     "user_tz": -330
    },
    "id": "J7JcCkjfrf0l",
    "outputId": "05f939e1-0583-4add-93b9-f8c62e2580d7"
   },
   "outputs": [
    {
     "name": "stdout",
     "output_type": "stream",
     "text": [
      "s:\n",
      "\n",
      "\n",
      "egh\n",
      "abcf\n"
     ]
    }
   ],
   "source": [
    "\"\"\"\n",
    "Write a Python program to create two strings from a given string. Create the first string using those character which \n",
    "occurs only once and create the second string which consists of multi-time occurring characters in the said string.\n",
    "\n",
    "\"\"\"\n",
    "s=input(\"s:\")\n",
    "r=''\n",
    "m=''\n",
    "for x in s:\n",
    "    if s.count(x)==1:\n",
    "        r+=x\n",
    "    else:\n",
    "        if x not in m:\n",
    "            m+=x\n",
    "print(m)\n",
    "print(r)\n",
    "\n",
    "#OR \n",
    "\n",
    "from collections import Counter  \n",
    "def generateStrings(input): \n",
    "  str_char_ctr = Counter(input) \n",
    "  part1 = [ key for (key,count) in str_char_ctr.items() if count==1] \n",
    "  part2 = [ key for (key,count) in str_char_ctr.items() if count>1] \n",
    "  part1.sort() \n",
    "  part2.sort()\n",
    "  return part1,part2\n",
    "input = \"aabbcceffgh\"\n",
    "s1, s2 = generateStrings(input)\n",
    "print(''.join(s1))   \n",
    "print(''.join(s2))"
   ]
  },
  {
   "cell_type": "code",
   "execution_count": 24,
   "metadata": {
    "colab": {
     "base_uri": "https://localhost:8080/",
     "height": 119
    },
    "colab_type": "code",
    "executionInfo": {
     "elapsed": 22941,
     "status": "ok",
     "timestamp": 1567501763462,
     "user": {
      "displayName": "BHEEM KUMAR",
      "photoUrl": "https://lh3.googleusercontent.com/a-/AAuE7mCt7lUnsC2GTAphPovu9Ia-s3UmOdWEPyr8wqQt=s64",
      "userId": "17710010183457348789"
     },
     "user_tz": -330
    },
    "id": "Mh2xtQ42rjMD",
    "outputId": "8afd6521-aa7a-4752-f0d9-b3eb162cf1cf"
   },
   "outputs": [
    {
     "name": "stdout",
     "output_type": "stream",
     "text": [
      "Original Substrings:\n",
      " abcdefgh\n",
      " xswerabcdwd\n",
      "\n",
      "Common longest sub_string:\n",
      "abcd\n"
     ]
    }
   ],
   "source": [
    "\"\"\"\n",
    "Q69 Write a Python program to find the longest common sub-string from two given strings.\n",
    "\n",
    "\"\"\"\n",
    "from difflib import SequenceMatcher \n",
    "  \n",
    "def longest_Substring(s1,s2): \n",
    "  \n",
    "     seq_match = SequenceMatcher(None,s1,s2) \n",
    "  \n",
    "     match = seq_match.find_longest_match(0, len(s1), 0, len(s2)) \n",
    "  \n",
    "     # return the longest substring \n",
    "     if (match.size!=0): \n",
    "          return (s1[match.a: match.a + match.size])  \n",
    "     else: \n",
    "          return ('Longest common sub-string not present')  \n",
    "\n",
    "s1 = 'abcdefgh'\n",
    "s2 = 'xswerabcdwd'\n",
    "print(\"Original Substrings:\\n\",s1+\"\\n\",s2)\n",
    "print(\"\\nCommon longest sub_string:\")\n",
    "print(longest_Substring(s1,s2))\n"
   ]
  },
  {
   "cell_type": "code",
   "execution_count": 25,
   "metadata": {
    "colab": {
     "base_uri": "https://localhost:8080/",
     "height": 51
    },
    "colab_type": "code",
    "executionInfo": {
     "elapsed": 22926,
     "status": "ok",
     "timestamp": 1567501763462,
     "user": {
      "displayName": "BHEEM KUMAR",
      "photoUrl": "https://lh3.googleusercontent.com/a-/AAuE7mCt7lUnsC2GTAphPovu9Ia-s3UmOdWEPyr8wqQt=s64",
      "userId": "17710010183457348789"
     },
     "user_tz": -330
    },
    "id": "Xuxudk8ernrT",
    "outputId": "c2afd321-f7c5-430f-d5bc-3883a950991d"
   },
   "outputs": [
    {
     "name": "stdout",
     "output_type": "stream",
     "text": [
      "Number of substrings:\n",
      "120\n"
     ]
    }
   ],
   "source": [
    "\"\"\"\n",
    "Q76 Write a Python program to count number of non-empty substrings of a given string.\n",
    "\"\"\"\n",
    "def number_of_substrings(str1): \n",
    "\tstr_len = len(str1); \n",
    "\treturn int(str_len * (str_len + 1) / 2); \n",
    "\n",
    "str1 = 'Input a string:'\n",
    "print(\"Number of substrings:\") \n",
    "print(number_of_substrings(str1))\n",
    "#???????????????????????????????"
   ]
  },
  {
   "cell_type": "code",
   "execution_count": 26,
   "metadata": {
    "colab": {
     "base_uri": "https://localhost:8080/",
     "height": 34
    },
    "colab_type": "code",
    "executionInfo": {
     "elapsed": 22917,
     "status": "ok",
     "timestamp": 1567501763463,
     "user": {
      "displayName": "BHEEM KUMAR",
      "photoUrl": "https://lh3.googleusercontent.com/a-/AAuE7mCt7lUnsC2GTAphPovu9Ia-s3UmOdWEPyr8wqQt=s64",
      "userId": "17710010183457348789"
     },
     "user_tz": -330
    },
    "id": "rZ75QzkGrwGH",
    "outputId": "88aa3f49-dad5-4daa-aebc-9e39bc175a92"
   },
   "outputs": [
    {
     "name": "stdout",
     "output_type": "stream",
     "text": [
      "onononon\n"
     ]
    }
   ],
   "source": [
    "\"\"\"\n",
    "Write a Python function to get a string made of 4 copies of the last two characters of a specified string (length must be at least 2). Go to the editor\n",
    "Sample function and result : \n",
    "\n",
    "insert_end('Python') -> onononon\n",
    "insert_end('Exercises') -> eseseses\n",
    "\n",
    "\"\"\"\n",
    "def insend(str):\n",
    "    return str[-2:]*4\n",
    "print(insend('Python'))"
   ]
  },
  {
   "cell_type": "code",
   "execution_count": 27,
   "metadata": {
    "colab": {
     "base_uri": "https://localhost:8080/",
     "height": 34
    },
    "colab_type": "code",
    "executionInfo": {
     "elapsed": 22907,
     "status": "ok",
     "timestamp": 1567501763463,
     "user": {
      "displayName": "BHEEM KUMAR",
      "photoUrl": "https://lh3.googleusercontent.com/a-/AAuE7mCt7lUnsC2GTAphPovu9Ia-s3UmOdWEPyr8wqQt=s64",
      "userId": "17710010183457348789"
     },
     "user_tz": -330
    },
    "id": "NGWlFiyorzfz",
    "outputId": "5228b45c-2267-4ede-fcfa-d56022cf94bd"
   },
   "outputs": [
    {
     "name": "stdout",
     "output_type": "stream",
     "text": [
      "pyt\n"
     ]
    }
   ],
   "source": [
    "\"\"\"\n",
    "Write a Python function to get a string made of its first three characters of a specified string.\n",
    "If the length of the string is less than 3 then return the original string\n",
    "\"\"\"\n",
    "def st(str):\n",
    "    if len(str)<3:\n",
    "        return str\n",
    "    else:\n",
    "        return str[0:3]\n",
    "print(st('python'))"
   ]
  },
  {
   "cell_type": "code",
   "execution_count": 28,
   "metadata": {
    "colab": {
     "base_uri": "https://localhost:8080/",
     "height": 34
    },
    "colab_type": "code",
    "executionInfo": {
     "elapsed": 22898,
     "status": "ok",
     "timestamp": 1567501763463,
     "user": {
      "displayName": "BHEEM KUMAR",
      "photoUrl": "https://lh3.googleusercontent.com/a-/AAuE7mCt7lUnsC2GTAphPovu9Ia-s3UmOdWEPyr8wqQt=s64",
      "userId": "17710010183457348789"
     },
     "user_tz": -330
    },
    "id": "uBF6q6jYr3gW",
    "outputId": "2f4a04b7-c3c7-434a-d190-ad6017e1cf38"
   },
   "outputs": [
    {
     "name": "stdout",
     "output_type": "stream",
     "text": [
      "hgfedcba\n"
     ]
    }
   ],
   "source": [
    "\"\"\"\n",
    "Q20 Write a Python function to reverses a string if it's length is a multiple of 4.\n",
    "\"\"\"\n",
    "def f(str):\n",
    "    if len(str)%4==0:\n",
    "        return str[::-1]\n",
    "    else:\n",
    "        return str\n",
    "    \n",
    "print(f(\"abcdefgh\"))\n",
    "       "
   ]
  },
  {
   "cell_type": "code",
   "execution_count": 29,
   "metadata": {
    "colab": {
     "base_uri": "https://localhost:8080/",
     "height": 68
    },
    "colab_type": "code",
    "executionInfo": {
     "elapsed": 22889,
     "status": "ok",
     "timestamp": 1567501763464,
     "user": {
      "displayName": "BHEEM KUMAR",
      "photoUrl": "https://lh3.googleusercontent.com/a-/AAuE7mCt7lUnsC2GTAphPovu9Ia-s3UmOdWEPyr8wqQt=s64",
      "userId": "17710010183457348789"
     },
     "user_tz": -330
    },
    "id": "ZQYN3vt4sPkR",
    "outputId": "e2af5575-c7dd-4fdd-ade2-1b04b5e4cb0a"
   },
   "outputs": [
    {
     "name": "stdout",
     "output_type": "stream",
     "text": [
      "Output: \n",
      "Area of Circle : 154.0\n",
      "Circumference of Circle : 44.0\n"
     ]
    }
   ],
   "source": [
    "\"\"\"\n",
    "Write a python function which takes radius of cirlce and return the Area and circumference of Circle.\n",
    "\n",
    "Input : 7\n",
    "\n",
    "Output: \n",
    "Area of Circle : 154.0\n",
    "Circumference of Circle : 44.0\n",
    "\n",
    "\"\"\"\n",
    "\n",
    "def circle(radius, pi) :\n",
    "  area = pi * radius ** 2\n",
    "  circumference = 2 * pi * radius\n",
    "  return area, circumference\n",
    "\n",
    "\n",
    "radius = 7\n",
    "pi = 22/7\n",
    "area, circumference = circle(radius, pi)\n",
    "\n",
    "print('Output: ')\n",
    "print('Area of Circle :', area)\n",
    "print('Circumference of Circle :', circumference)"
   ]
  },
  {
   "cell_type": "code",
   "execution_count": 30,
   "metadata": {
    "colab": {
     "base_uri": "https://localhost:8080/",
     "height": 68
    },
    "colab_type": "code",
    "executionInfo": {
     "elapsed": 22879,
     "status": "ok",
     "timestamp": 1567501763464,
     "user": {
      "displayName": "BHEEM KUMAR",
      "photoUrl": "https://lh3.googleusercontent.com/a-/AAuE7mCt7lUnsC2GTAphPovu9Ia-s3UmOdWEPyr8wqQt=s64",
      "userId": "17710010183457348789"
     },
     "user_tz": -330
    },
    "id": "JGPMvFTQthE3",
    "outputId": "7ff22400-e282-49c5-83d9-8916d27a3fc6"
   },
   "outputs": [
    {
     "name": "stdout",
     "output_type": "stream",
     "text": [
      "Output: \n",
      "Area of cube : 54\n",
      "volume of cube : 27\n"
     ]
    }
   ],
   "source": [
    "\"\"\"\n",
    "Write a python function whcich takes the side of cube and return the area and volume of cube.\n",
    "\n",
    "Input : 3\n",
    "\n",
    "Output: \n",
    "Area of cube : 54\n",
    "volume of cube : 27\n",
    "\"\"\"\n",
    "\n",
    "def cube(side):\n",
    "  area = 6 * side ** 2\n",
    "  volume = side ** 3 \n",
    "  return area, volume;\n",
    "\n",
    "side = 3\n",
    "area, volume = cube(side)\n",
    "\n",
    "print('Output: ')\n",
    "print('Area of cube :', area)\n",
    "print('volume of cube :', volume)"
   ]
  },
  {
   "cell_type": "code",
   "execution_count": 31,
   "metadata": {
    "colab": {
     "base_uri": "https://localhost:8080/",
     "height": 68
    },
    "colab_type": "code",
    "executionInfo": {
     "elapsed": 22870,
     "status": "ok",
     "timestamp": 1567501763465,
     "user": {
      "displayName": "BHEEM KUMAR",
      "photoUrl": "https://lh3.googleusercontent.com/a-/AAuE7mCt7lUnsC2GTAphPovu9Ia-s3UmOdWEPyr8wqQt=s64",
      "userId": "17710010183457348789"
     },
     "user_tz": -330
    },
    "id": "KPVFxEFUxun5",
    "outputId": "8d1ff4c5-0938-4659-e1f7-b5eaff71f3d0"
   },
   "outputs": [
    {
     "name": "stdout",
     "output_type": "stream",
     "text": [
      "Output: \n",
      "Area of cuboid : 94\n",
      "volume of cuboid : 60\n"
     ]
    }
   ],
   "source": [
    "\"\"\"\n",
    "Write a python function which takes the sides of cuboid and print the area and volume of cuboid.\n",
    "\n",
    "Input1: 3\n",
    "Input1: 4\n",
    "Input1: 5\n",
    "\n",
    "Output: \n",
    "Area of cuboid : 94\n",
    "volume of cuboid : 60d\n",
    "\"\"\"\n",
    "\n",
    "def cuboid(length,width,height):\n",
    "  area = 2 * (length * width + width * height + height * length)\n",
    "  volume = length * width * height\n",
    "  return area, volume\n",
    "\n",
    "length = 3\n",
    "width  = 4\n",
    "height = 5\n",
    "\n",
    "area, volume = cuboid(length, width, height)\n",
    "\n",
    "\n",
    "print('Output: ')\n",
    "print('Area of cuboid :', area)\n",
    "print('volume of cuboid :', volume)"
   ]
  },
  {
   "cell_type": "code",
   "execution_count": 32,
   "metadata": {
    "colab": {
     "base_uri": "https://localhost:8080/",
     "height": 68
    },
    "colab_type": "code",
    "executionInfo": {
     "elapsed": 22861,
     "status": "ok",
     "timestamp": 1567501763465,
     "user": {
      "displayName": "BHEEM KUMAR",
      "photoUrl": "https://lh3.googleusercontent.com/a-/AAuE7mCt7lUnsC2GTAphPovu9Ia-s3UmOdWEPyr8wqQt=s64",
      "userId": "17710010183457348789"
     },
     "user_tz": -330
    },
    "id": "0GfEA2ezzeQN",
    "outputId": "462b8a3e-154e-48be-822e-cf9a826fbac9"
   },
   "outputs": [
    {
     "name": "stdout",
     "output_type": "stream",
     "text": [
      "Output: \n",
      "Area of sphere : 616.0\n",
      "volume of sphere : 41.391642371234205\n"
     ]
    }
   ],
   "source": [
    "\"\"\"\n",
    "Write a Python function wich takes diameter as parameter and return the area and volume of sphere.\n",
    "\n",
    "Input : 14\n",
    "Output: \n",
    "\n",
    "Area of sphere : 616.0\n",
    "volume of sphere : 41.391642371234205\n",
    "\n",
    "\"\"\"\n",
    "\n",
    "def sphere(diameter, pi):\n",
    "  radius = diameter / 2\n",
    "  area = 4 * pi * radius ** 2\n",
    "  volume = 4/3 * pi ** 3\n",
    "  return area, volume\n",
    "\n",
    "diameter = 14\n",
    "pi = 22 / 7\n",
    "\n",
    "area, volume = sphere(diameter, pi)\n",
    "\n",
    "print('Output: ')\n",
    "print('Area of sphere :', area)\n",
    "print('volume of sphere :', volume)"
   ]
  },
  {
   "cell_type": "code",
   "execution_count": 33,
   "metadata": {
    "colab": {
     "base_uri": "https://localhost:8080/",
     "height": 68
    },
    "colab_type": "code",
    "executionInfo": {
     "elapsed": 22852,
     "status": "ok",
     "timestamp": 1567501763466,
     "user": {
      "displayName": "BHEEM KUMAR",
      "photoUrl": "https://lh3.googleusercontent.com/a-/AAuE7mCt7lUnsC2GTAphPovu9Ia-s3UmOdWEPyr8wqQt=s64",
      "userId": "17710010183457348789"
     },
     "user_tz": -330
    },
    "id": "Dd8ysETn1Ul-",
    "outputId": "cc2e6fde-a239-42ca-e72f-83175ec95ea4"
   },
   "outputs": [
    {
     "name": "stdout",
     "output_type": "stream",
     "text": [
      "Output: \n",
      "Area of Cylinder : 528.0\n",
      "volume of Cylinder : 770.0\n"
     ]
    }
   ],
   "source": [
    "\"\"\"\n",
    "Write a function which retrun the area and volume of cylinder.\n",
    "\n",
    "Input1 : \n",
    "input2 :r\n",
    "\n",
    "Output: \n",
    "Area of Cylinder : 528.0\n",
    "volume of Cylinder : 770.0\n",
    "\"\"\"\n",
    "\n",
    "def cylinder(radius, height, pi):\n",
    "  \n",
    "  area   = 2 * pi * radius * (radius + height)\n",
    "  volume = pi * radius ** 2 * height\n",
    "  return area, volume\n",
    "\n",
    "\n",
    "radius = 7\n",
    "height = 5\n",
    "pi = 22 / 7\n",
    "area ,volume = cylinder(radius, height, pi)\n",
    "\n",
    "print('Output: ')\n",
    "print('Area of Cylinder :', area)\n",
    "print('volume of Cylinder :', volume)"
   ]
  },
  {
   "cell_type": "code",
   "execution_count": 34,
   "metadata": {
    "colab": {
     "base_uri": "https://localhost:8080/",
     "height": 68
    },
    "colab_type": "code",
    "executionInfo": {
     "elapsed": 22842,
     "status": "ok",
     "timestamp": 1567501763466,
     "user": {
      "displayName": "BHEEM KUMAR",
      "photoUrl": "https://lh3.googleusercontent.com/a-/AAuE7mCt7lUnsC2GTAphPovu9Ia-s3UmOdWEPyr8wqQt=s64",
      "userId": "17710010183457348789"
     },
     "user_tz": -330
    },
    "id": "p--GnfqFEHUJ",
    "outputId": "dc861ce2-b00a-424f-b7e6-2da58e3b9723"
   },
   "outputs": [
    {
     "name": "stdout",
     "output_type": "stream",
     "text": [
      "Output :\n",
      "Area of Cone: 343.2511558749378\n",
      "Volume of Cone: 256.6666666666667\n"
     ]
    }
   ],
   "source": [
    "\"\"\"\n",
    "Write a function which returns the area and volume of cone.\n",
    "\n",
    "Input1 : 7\n",
    "Input2 : 5\n",
    "\n",
    "Output :\n",
    "Area of Cone: 343.2511558749378\n",
    "Volume of Cone: 256.6666666666667\n",
    "\n",
    "\"\"\"\n",
    "import math\n",
    "def cone(radius, height, pi):\n",
    "\n",
    "  area = pi * radius * ( radius + math.sqrt(radius ** 2 + height ** 2))\n",
    "  volume  = pi * (radius ** 2) * height / 3\n",
    "  \n",
    "  return area, volume\n",
    "\n",
    "pi = 22/7\n",
    "radius = 7\n",
    "height = 5 \n",
    "\n",
    "area, volume = cone(radius, height, pi)\n",
    "print('Output :')\n",
    "print('Area of Cone:',area)\n",
    "print('Volume of Cone:', volume)"
   ]
  },
  {
   "cell_type": "code",
   "execution_count": 35,
   "metadata": {
    "colab": {
     "base_uri": "https://localhost:8080/",
     "height": 54
    },
    "colab_type": "code",
    "executionInfo": {
     "elapsed": 22833,
     "status": "ok",
     "timestamp": 1567501763466,
     "user": {
      "displayName": "BHEEM KUMAR",
      "photoUrl": "https://lh3.googleusercontent.com/a-/AAuE7mCt7lUnsC2GTAphPovu9Ia-s3UmOdWEPyr8wqQt=s64",
      "userId": "17710010183457348789"
     },
     "user_tz": -330
    },
    "id": "52WqPqKVaKB0",
    "outputId": "5454cefb-25f5-47c4-d4f1-93491213335a"
   },
   "outputs": [
    {
     "data": {
      "text/plain": [
       "\"\\nWhat is Recursive Function ?'\\n\\nA recursive function is a function that calls itself during its execution. \\nThis enables the function to repeat itself several times, \\noutputting the result and the end of each iteration.\\n\\n\""
      ]
     },
     "execution_count": 35,
     "metadata": {},
     "output_type": "execute_result"
    }
   ],
   "source": [
    "\"\"\"\n",
    "What is Recursive Function ?'\n",
    "\n",
    "A recursive function is a function that calls itself during its execution. \n",
    "This enables the function to repeat itself several times, \n",
    "outputting the result and the end of each iteration.\n",
    "\n",
    "\"\"\"\n"
   ]
  },
  {
   "cell_type": "code",
   "execution_count": 36,
   "metadata": {
    "colab": {
     "base_uri": "https://localhost:8080/",
     "height": 34
    },
    "colab_type": "code",
    "executionInfo": {
     "elapsed": 22825,
     "status": "ok",
     "timestamp": 1567501763467,
     "user": {
      "displayName": "BHEEM KUMAR",
      "photoUrl": "https://lh3.googleusercontent.com/a-/AAuE7mCt7lUnsC2GTAphPovu9Ia-s3UmOdWEPyr8wqQt=s64",
      "userId": "17710010183457348789"
     },
     "user_tz": -330
    },
    "id": "wbLk65eFVQ6L",
    "outputId": "3164bcbc-f9ff-46c3-dc46-6d053fae53c6"
   },
   "outputs": [
    {
     "name": "stdout",
     "output_type": "stream",
     "text": [
      "Output : 15\n"
     ]
    }
   ],
   "source": [
    "\"\"\"\n",
    "Write a recursive Function which add first n natural number.\n",
    "\n",
    "Output : 15\n",
    "\n",
    "\"\"\"\n",
    "\n",
    "def sum_recursion(n):\n",
    "   \n",
    "  if n <= 1:\n",
    "     return n\n",
    "  else:\n",
    "     return n + sum_recursion(n-1)\n",
    "\n",
    "print('Output :',sum_recursion(5))"
   ]
  },
  {
   "cell_type": "code",
   "execution_count": 37,
   "metadata": {
    "colab": {
     "base_uri": "https://localhost:8080/",
     "height": 51
    },
    "colab_type": "code",
    "executionInfo": {
     "elapsed": 22816,
     "status": "ok",
     "timestamp": 1567501763467,
     "user": {
      "displayName": "BHEEM KUMAR",
      "photoUrl": "https://lh3.googleusercontent.com/a-/AAuE7mCt7lUnsC2GTAphPovu9Ia-s3UmOdWEPyr8wqQt=s64",
      "userId": "17710010183457348789"
     },
     "user_tz": -330
    },
    "id": "ERlEVVMkYLx2",
    "outputId": "168e9385-34c1-4894-bff0-916e3b5e9fec"
   },
   "outputs": [
    {
     "name": "stdout",
     "output_type": "stream",
     "text": [
      "Output :\n",
      "Factorial of 6 is 720\n"
     ]
    }
   ],
   "source": [
    "\"\"\"\n",
    "Find the Factorial of 5 using recursive Function.\n",
    "\n",
    "Note : factorial of 0 is 1.\n",
    "\n",
    "Input : 5\n",
    "\n",
    "Output :\n",
    "Factorial of 5 is 120\n",
    "\n",
    "\"\"\"\n",
    "\n",
    "def factorial_recursion(n):\n",
    "    if n == 0:\n",
    "        return 1\n",
    "    if n == 1:\n",
    "        return n\n",
    "    else:\n",
    "        return n * factorial_recursion(n-1)\n",
    "n = 6\n",
    "print('Output :')\n",
    "print('Factorial of', n , 'is', factorial_recursion(n))\n",
    "  "
   ]
  },
  {
   "cell_type": "code",
   "execution_count": 38,
   "metadata": {
    "colab": {
     "base_uri": "https://localhost:8080/",
     "height": 204
    },
    "colab_type": "code",
    "executionInfo": {
     "elapsed": 22808,
     "status": "ok",
     "timestamp": 1567501763468,
     "user": {
      "displayName": "BHEEM KUMAR",
      "photoUrl": "https://lh3.googleusercontent.com/a-/AAuE7mCt7lUnsC2GTAphPovu9Ia-s3UmOdWEPyr8wqQt=s64",
      "userId": "17710010183457348789"
     },
     "user_tz": -330
    },
    "id": "MNQGMNOq-g-r",
    "outputId": "034a9172-6d83-48db-d8ac-44f6fadd78b1"
   },
   "outputs": [
    {
     "name": "stdout",
     "output_type": "stream",
     "text": [
      "Output :\n",
      "0\n",
      "1\n",
      "1\n",
      "2\n",
      "3\n",
      "5\n",
      "8\n",
      "13\n",
      "21\n",
      "34\n"
     ]
    }
   ],
   "source": [
    "\"\"\"\n",
    "Write the recursion function to print the 10 terms of fabonacci sereis.\n",
    "\n",
    "Output :\n",
    "\n",
    "0\n",
    "1\n",
    "1\n",
    "2\n",
    "3\n",
    "5\n",
    "8\n",
    "13\n",
    "21\n",
    "34\n",
    "\n",
    "\"\"\"\n",
    "\n",
    "def fibonacci_series_recursion(length):\n",
    "  \n",
    "    if(length <= 1):\n",
    "        return length\n",
    "    else:\n",
    "        return (fibonacci_series_recursion(length-1) + fibonacci_series_recursion(length-2))\n",
    "\n",
    "length = 10\n",
    "\n",
    "print(\"Output :\")\n",
    "for iter in range(length):\n",
    "    print(fibonacci_series_recursion(iter))"
   ]
  },
  {
   "cell_type": "code",
   "execution_count": 39,
   "metadata": {
    "colab": {
     "base_uri": "https://localhost:8080/",
     "height": 34
    },
    "colab_type": "code",
    "executionInfo": {
     "elapsed": 22800,
     "status": "ok",
     "timestamp": 1567501763468,
     "user": {
      "displayName": "BHEEM KUMAR",
      "photoUrl": "https://lh3.googleusercontent.com/a-/AAuE7mCt7lUnsC2GTAphPovu9Ia-s3UmOdWEPyr8wqQt=s64",
      "userId": "17710010183457348789"
     },
     "user_tz": -330
    },
    "id": "2hilew6iOTpU",
    "outputId": "1a21acbc-b699-4283-b2dc-1cd36f261d1e"
   },
   "outputs": [
    {
     "name": "stdout",
     "output_type": "stream",
     "text": [
      "Output: 17 is Prime Number\n"
     ]
    }
   ],
   "source": [
    "\"\"\"\n",
    "Write a recursion function which return True or False according to prime or nonPrime.\n",
    "\n",
    "Input : 17\n",
    "\n",
    "Output: 17 is Prime Number\n",
    "\n",
    "\"\"\"\n",
    "\n",
    "def isPrime_recursion(n, i = 2): \n",
    "  \n",
    "    if (n <= 2): \n",
    "        return True if(n == 2) else False\n",
    "    if (n % i == 0): \n",
    "        return False\n",
    "    if (i * i > n): \n",
    "        return True \n",
    "  \n",
    "    return isPrime_recursion(n, i + 1) \n",
    "  \n",
    "  \n",
    "n = 17\n",
    "if (isPrime_recursion(n)):\n",
    "    print('Output:',n, 'is Prime Number')\n",
    "else:\n",
    "    print('Output:',n, 'is not Prime Number')"
   ]
  },
  {
   "cell_type": "code",
   "execution_count": 40,
   "metadata": {
    "colab": {
     "base_uri": "https://localhost:8080/",
     "height": 34
    },
    "colab_type": "code",
    "executionInfo": {
     "elapsed": 22792,
     "status": "ok",
     "timestamp": 1567501763469,
     "user": {
      "displayName": "BHEEM KUMAR",
      "photoUrl": "https://lh3.googleusercontent.com/a-/AAuE7mCt7lUnsC2GTAphPovu9Ia-s3UmOdWEPyr8wqQt=s64",
      "userId": "17710010183457348789"
     },
     "user_tz": -330
    },
    "id": "uj1w-4jWWX2e",
    "outputId": "18f500c1-f574-4211-ed9e-d5ade49aaa3c"
   },
   "outputs": [
    {
     "name": "stdout",
     "output_type": "stream",
     "text": [
      "Output : 385\n"
     ]
    }
   ],
   "source": [
    "\"\"\"\n",
    "print the sum of square of first n terms of given series using recursive function.\n",
    "\n",
    "1, 4, 9, 16, 25......\n",
    "\n",
    "Input : 10\n",
    "Output:385\n",
    "\n",
    "\"\"\"\n",
    "\n",
    "def sum_square_recursion(n):\n",
    "  \n",
    "  if(n<1):\n",
    "    return n\n",
    "  else:\n",
    "    return n**2 + sum_square_recursion(n-1)\n",
    "\n",
    "  \n",
    "n = 10\n",
    "print('Output :',sum_square_recursion(n))"
   ]
  },
  {
   "cell_type": "code",
   "execution_count": 41,
   "metadata": {
    "colab": {
     "base_uri": "https://localhost:8080/",
     "height": 34
    },
    "colab_type": "code",
    "executionInfo": {
     "elapsed": 22783,
     "status": "ok",
     "timestamp": 1567501763469,
     "user": {
      "displayName": "BHEEM KUMAR",
      "photoUrl": "https://lh3.googleusercontent.com/a-/AAuE7mCt7lUnsC2GTAphPovu9Ia-s3UmOdWEPyr8wqQt=s64",
      "userId": "17710010183457348789"
     },
     "user_tz": -330
    },
    "id": "D_EQ0uR-UuTZ",
    "outputId": "3b29d5d8-33af-48a5-a202-95f2a6375e86"
   },
   "outputs": [
    {
     "name": "stdout",
     "output_type": "stream",
     "text": [
      "Output : 1100100\n"
     ]
    }
   ],
   "source": [
    "\"\"\"\n",
    "Write a python recursion function which convert decimal_number to binary_number.\n",
    "\n",
    "Input : 100\n",
    "\n",
    "Output: 1100100\n",
    "\n",
    "\"\"\"\n",
    "\n",
    "def decimal_to_binary_recursive(decimal_number, binary_number):\n",
    "  \n",
    "    if decimal_number == 0:\n",
    "\n",
    "        return ['0']\n",
    "\n",
    "    else:\n",
    "\n",
    "    decimal_to_binary_recursive(decimal_number // 2, binary_number)\n",
    "\n",
    "    binary = decimal_number % 2\n",
    "\n",
    "    binary_number.append(str(binary))\n",
    "\n",
    "    return binary_number\n",
    "\n",
    "decimal_number = 100\n",
    "binary_number = decimal_to_binary_recursive(decimal_number,[])\n",
    "binary_number = int(''.join(binary_number))\n",
    "print('Output :', binary_number)"
   ]
  },
  {
   "cell_type": "code",
   "execution_count": 42,
   "metadata": {
    "colab": {
     "base_uri": "https://localhost:8080/",
     "height": 34
    },
    "colab_type": "code",
    "executionInfo": {
     "elapsed": 22775,
     "status": "ok",
     "timestamp": 1567501763469,
     "user": {
      "displayName": "BHEEM KUMAR",
      "photoUrl": "https://lh3.googleusercontent.com/a-/AAuE7mCt7lUnsC2GTAphPovu9Ia-s3UmOdWEPyr8wqQt=s64",
      "userId": "17710010183457348789"
     },
     "user_tz": -330
    },
    "id": "prPLWJjRJk5y",
    "outputId": "677bc898-f4ea-4ce6-a59e-87b624b52bdb"
   },
   "outputs": [
    {
     "name": "stdout",
     "output_type": "stream",
     "text": [
      "Output : 100\n"
     ]
    }
   ],
   "source": [
    "\"\"\"\n",
    "Write a python recursion function which convert binary_number to decimal_number.\n",
    "\n",
    "Input : 1100100\n",
    "\n",
    "Output: 100\n",
    "\n",
    "\"\"\"\n",
    "\n",
    "def binary_to_decimal_recursive(binary_number, decimal_number,i):\n",
    "  \n",
    "    if binary_number == 0:\n",
    "    \n",
    "        return [0]\n",
    "  \n",
    "    else:\n",
    "    \n",
    "    decimal = binary_number%10\n",
    "    \n",
    "    binary_number = binary_number//10\n",
    "    \n",
    "    decimal_number.append(decimal  * 2 ** i)\n",
    "    \n",
    "    i+=1\n",
    "    \n",
    "    binary_to_decimal_recursive(binary_number, decimal_number, i)\n",
    "    \n",
    "    return decimal_number\n",
    "\n",
    "binary_number = 1100100\n",
    "print('Output :', sum(binary_to_decimal_recursive(binary_number, [], 0)))"
   ]
  },
  {
   "cell_type": "code",
   "execution_count": 43,
   "metadata": {
    "colab": {
     "base_uri": "https://localhost:8080/",
     "height": 34
    },
    "colab_type": "code",
    "executionInfo": {
     "elapsed": 23309,
     "status": "ok",
     "timestamp": 1567501764014,
     "user": {
      "displayName": "BHEEM KUMAR",
      "photoUrl": "https://lh3.googleusercontent.com/a-/AAuE7mCt7lUnsC2GTAphPovu9Ia-s3UmOdWEPyr8wqQt=s64",
      "userId": "17710010183457348789"
     },
     "user_tz": -330
    },
    "id": "xW0MRRUvjGHW",
    "outputId": "8bde9255-2c42-4d31-d081-2bb1f7241577"
   },
   "outputs": [
    {
     "name": "stdout",
     "output_type": "stream",
     "text": [
      "Output : 4D2\n"
     ]
    }
   ],
   "source": [
    "\"\"\"\n",
    "Write a python recursive function which convert decimal_number to hexadecimal_number.\n",
    "\n",
    "Input : 1234\n",
    "\n",
    "Output: 4D2\n",
    "\n",
    "\"\"\"\n",
    "\n",
    "def convert_digit_to_hex(x):\n",
    "    \n",
    "    if (x == 10):\n",
    "        return 'A'\n",
    "    elif (x == 11):\n",
    "        return 'B'\n",
    "    elif (x == 12):\n",
    "        return 'C'\n",
    "    elif (x == 13):\n",
    "        return 'D'\n",
    "    elif (x == 14):\n",
    "        return 'E'\n",
    "    elif (x == 15):\n",
    "        return 'F'\n",
    "    else:\n",
    "        return str(x)\n",
    "\n",
    "def decimal_to_hexadecimal_recursive(decimal_number, hexadecimal_number):\n",
    "  \n",
    "    if(decimal_number == 0):\n",
    "    \n",
    "        return ['0']\n",
    "  \n",
    "    else:\n",
    "    \n",
    "    decimal_to_hexadecimal_recursive(decimal_number//16, hexadecimal_number)\n",
    "    \n",
    "    hexadecimal = decimal_number % 16\n",
    "    \n",
    "    hexadecimal_number.append(convert_digit_to_hex(hexadecimal))\n",
    "    \n",
    "    return hexadecimal_number\n",
    "    \n",
    "decimal_number = 1234\n",
    "\n",
    "hexadecimal_number = decimal_to_hexadecimal_recursive(decimal_number, [])\n",
    "\n",
    "print('Output :',''.join(hexadecimal_number))"
   ]
  },
  {
   "cell_type": "code",
   "execution_count": 44,
   "metadata": {
    "colab": {
     "base_uri": "https://localhost:8080/",
     "height": 34
    },
    "colab_type": "code",
    "executionInfo": {
     "elapsed": 23300,
     "status": "ok",
     "timestamp": 1567501764014,
     "user": {
      "displayName": "BHEEM KUMAR",
      "photoUrl": "https://lh3.googleusercontent.com/a-/AAuE7mCt7lUnsC2GTAphPovu9Ia-s3UmOdWEPyr8wqQt=s64",
      "userId": "17710010183457348789"
     },
     "user_tz": -330
    },
    "id": "1A2axx9n5ibb",
    "outputId": "725c39a5-f9af-41eb-cc53-afcbee9c0331"
   },
   "outputs": [
    {
     "name": "stdout",
     "output_type": "stream",
     "text": [
      "Output : 1234\n"
     ]
    }
   ],
   "source": [
    "\"\"\"\n",
    "Write a python recursive function which covert hexadecimal_number to decimal_number.\n",
    "\n",
    "Input :\n",
    "\n",
    "Output:\n",
    "\n",
    "\"\"\"\n",
    "def convert_hex_to_digit(x):\n",
    "    \n",
    "    if (x == 'A'):\n",
    "        return 10\n",
    "    elif (x == 'B'):\n",
    "        return 11\n",
    "    elif (x == 'C'):\n",
    "        return 12\n",
    "    elif (x == 'D'):\n",
    "        return 13\n",
    "    elif (x == 'E'):\n",
    "        return 14\n",
    "    elif (x == 'F'):\n",
    "        return 15\n",
    "    else:\n",
    "        return int(x)\n",
    "\n",
    "\n",
    "def hexadecimal_to_decimal_recursive(hexadecimal_number, decimal_number, i):\n",
    "  \n",
    "    if len(hexadecimal_number)>0:\n",
    "    \n",
    "    decimal_number.append(convert_hex_to_digit(hexadecimal_number[-1]) * (16 ** i ))\n",
    "    \n",
    "    i+=1\n",
    "    \n",
    "    hexadecimal_number = hexadecimal_number[:-1]\n",
    "\n",
    "    hexadecimal_to_decimal_recursive(hexadecimal_number, decimal_number, i)\n",
    "    \n",
    "    return sum(decimal_number)\n",
    "\n",
    "print('Output :', hexadecimal_to_decimal_recursive('4D2',[],0))\n",
    "  "
   ]
  },
  {
   "cell_type": "code",
   "execution_count": 45,
   "metadata": {
    "colab": {
     "base_uri": "https://localhost:8080/",
     "height": 34
    },
    "colab_type": "code",
    "executionInfo": {
     "elapsed": 23292,
     "status": "ok",
     "timestamp": 1567501764015,
     "user": {
      "displayName": "BHEEM KUMAR",
      "photoUrl": "https://lh3.googleusercontent.com/a-/AAuE7mCt7lUnsC2GTAphPovu9Ia-s3UmOdWEPyr8wqQt=s64",
      "userId": "17710010183457348789"
     },
     "user_tz": -330
    },
    "id": "IDziS6vmbz-Z",
    "outputId": "d2874e42-50fa-4ea1-ff63-e31627958cdc"
   },
   "outputs": [
    {
     "name": "stdout",
     "output_type": "stream",
     "text": [
      "Output : 4D2\n"
     ]
    }
   ],
   "source": [
    "\"\"\"\n",
    "Write a Python rcursive function which convert binary_number to hexadecimal_number.\n",
    "\n",
    "Input : 10011010010\n",
    "\n",
    "Output: 4D2\n",
    "\n",
    "\"\"\"\n",
    "\n",
    "def convert_digit_to_hex(x):\n",
    "    \n",
    "    if (x == 10):\n",
    "        return 'A'\n",
    "    elif (x == 11):\n",
    "        return 'B'\n",
    "    elif (x == 12):\n",
    "        return 'C'\n",
    "    elif (x == 13):\n",
    "        return 'D'\n",
    "    elif (x == 14):\n",
    "        return 'E'\n",
    "    elif (x == 15):\n",
    "        return 'F'\n",
    "    else:\n",
    "        return str(x)\n",
    "      \n",
    "\n",
    "def decimal_to_hexadecimal_recursive(decimal_number, hexadecimal_number):\n",
    "  \n",
    "    if(decimal_number == 0):\n",
    "    \n",
    "        return ['0']\n",
    "  \n",
    "    else:\n",
    "\n",
    "        decimal_to_hexadecimal_recursive(decimal_number//16, hexadecimal_number)\n",
    "\n",
    "        hexadecimal = decimal_number % 16\n",
    "\n",
    "        hexadecimal_number.append(convert_digit_to_hex(hexadecimal))\n",
    "\n",
    "    return hexadecimal_number    \n",
    "\n",
    "def binary_to_decimal_recursive(binary_number, decimal_number,i):\n",
    "  \n",
    "    if binary_number == 0:\n",
    "    \n",
    "        return [0]\n",
    "  \n",
    "    else:\n",
    "    \n",
    "        last_number = binary_number%10\n",
    "\n",
    "        binary_number = binary_number//10\n",
    "\n",
    "        decimal_number.append(last_number  * 2 ** i)\n",
    "\n",
    "        i+=1\n",
    "\n",
    "        binary_to_decimal_recursive(binary_number, decimal_number, i)\n",
    "    \n",
    "    return decimal_number\n",
    "  \n",
    "def binary_to_hexadecimal(binary_number):\n",
    "  \n",
    "\n",
    "  # First convert binary to decimal.\n",
    "    decimal_number = binary_to_decimal_recursive(binary_number,[],0)\n",
    "\n",
    "    decimal_number = sum(decimal_number)\n",
    "\n",
    "    # Now decimal to hexadecimal.\n",
    "    hexadecimal_number = decimal_to_hexadecimal_recursive(decimal_number, [])      \n",
    "\n",
    "    hexadecimal_number = ''.join(hexadecimal_number)\n",
    "    return hexadecimal_number\n",
    "\n",
    "\n",
    "binary_number = 10011010010\n",
    "print('Output :', binary_to_hexadecimal(binary_number))"
   ]
  },
  {
   "cell_type": "code",
   "execution_count": 46,
   "metadata": {
    "colab": {
     "base_uri": "https://localhost:8080/",
     "height": 34
    },
    "colab_type": "code",
    "executionInfo": {
     "elapsed": 23283,
     "status": "ok",
     "timestamp": 1567501764015,
     "user": {
      "displayName": "BHEEM KUMAR",
      "photoUrl": "https://lh3.googleusercontent.com/a-/AAuE7mCt7lUnsC2GTAphPovu9Ia-s3UmOdWEPyr8wqQt=s64",
      "userId": "17710010183457348789"
     },
     "user_tz": -330
    },
    "id": "Rj7wznppk-oj",
    "outputId": "7c81fb01-7b22-4101-875b-0c73927b6c2b"
   },
   "outputs": [
    {
     "name": "stdout",
     "output_type": "stream",
     "text": [
      "Output : 10011010010\n"
     ]
    }
   ],
   "source": [
    "\"\"\"\n",
    "Write a python recursive function which convert hexadecimal_number to binary_number.\n",
    "\n",
    "Input : 4D2\n",
    "\n",
    "Output: 10011010010\n",
    "\n",
    "\"\"\"\n",
    "\n",
    "def convert_hex_to_digit(x):\n",
    "    \n",
    "    if (x == 'A'):\n",
    "        return 10\n",
    "    elif (x == 'B'):\n",
    "        return 11\n",
    "    elif (x == 'C'):\n",
    "        return 12\n",
    "    elif (x == 'D'):\n",
    "        return 13\n",
    "    elif (x == 'E'):\n",
    "        return 14\n",
    "    elif (x == 'F'):\n",
    "        return 15\n",
    "    else:\n",
    "        return int(x)\n",
    "\n",
    "def hexadecimal_to_decimal_recursive(hexadecimal_number, decimal_number, i):\n",
    "  \n",
    "    if len(hexadecimal_number)>0:\n",
    "    \n",
    "    decimal_number.append(convert_hex_to_digit(hexadecimal_number[-1]) * (16 ** i ))\n",
    "    \n",
    "    i+=1\n",
    "    \n",
    "    hexadecimal_number = hexadecimal_number[:-1]\n",
    "\n",
    "    hexadecimal_to_decimal_recursive(hexadecimal_number, decimal_number, i)\n",
    "    \n",
    "    return sum(decimal_number)\n",
    "    \n",
    "def decimal_to_binary_recursive(decimal_number, binary_number):\n",
    "  \n",
    "    if decimal_number == 0:\n",
    "    \n",
    "        return ['0']\n",
    "  \n",
    "    else:\n",
    "\n",
    "        decimal_to_binary_recursive(decimal_number // 2, binary_number)\n",
    "\n",
    "        binary = decimal_number % 2\n",
    "\n",
    "        binary_number.append(str(binary))\n",
    "\n",
    "    return binary_number\n",
    "\n",
    "\n",
    "def hexadecimal_to_binary(hexadecimal_number):\n",
    "  \n",
    "  decimal_number = hexadecimal_to_decimal_recursive(hexadecimal_number, [], 0)\n",
    "  \n",
    "  binary_number  = decimal_to_binary_recursive(decimal_number, [])\n",
    "  \n",
    "  binary_number = ''.join(binary_number)\n",
    "  \n",
    "  return binary_number\n",
    "\n",
    "print('Output :', hexadecimal_to_binary('4D2'))"
   ]
  },
  {
   "cell_type": "code",
   "execution_count": 47,
   "metadata": {
    "colab": {
     "base_uri": "https://localhost:8080/",
     "height": 34
    },
    "colab_type": "code",
    "executionInfo": {
     "elapsed": 23275,
     "status": "ok",
     "timestamp": 1567501764016,
     "user": {
      "displayName": "BHEEM KUMAR",
      "photoUrl": "https://lh3.googleusercontent.com/a-/AAuE7mCt7lUnsC2GTAphPovu9Ia-s3UmOdWEPyr8wqQt=s64",
      "userId": "17710010183457348789"
     },
     "user_tz": -330
    },
    "id": "9xLc_8opy0fh",
    "outputId": "4535c8f9-e89e-41da-ef10-71a3a8475bcd"
   },
   "outputs": [
    {
     "name": "stdout",
     "output_type": "stream",
     "text": [
      "Output : 17\n"
     ]
    }
   ],
   "source": [
    "\"\"\"\n",
    "Write a recursive function which convert decimal_number to octal_number.\n",
    "\n",
    "Input : 15\n",
    "\n",
    "Output: 17\n",
    "\n",
    "\"\"\"\n",
    "\n",
    "def decimal_to_octal_recursive(decimal_number, octal_number):\n",
    "  \n",
    "    if decimal_number == 0:\n",
    "\n",
    "        return 0\n",
    "\n",
    "    else:\n",
    "\n",
    "        decimal_to_octal_recursive(decimal_number // 8, octal_number)\n",
    "\n",
    "        octal_number.append(str(decimal_number % 8))\n",
    "\n",
    "        octal_number = ''.join(octal_number)\n",
    "\n",
    "    return int(octal_number)\n",
    "\n",
    "print('Output :', decimal_to_octal_recursive(15, []))"
   ]
  },
  {
   "cell_type": "code",
   "execution_count": 48,
   "metadata": {
    "colab": {
     "base_uri": "https://localhost:8080/",
     "height": 34
    },
    "colab_type": "code",
    "executionInfo": {
     "elapsed": 23265,
     "status": "ok",
     "timestamp": 1567501764016,
     "user": {
      "displayName": "BHEEM KUMAR",
      "photoUrl": "https://lh3.googleusercontent.com/a-/AAuE7mCt7lUnsC2GTAphPovu9Ia-s3UmOdWEPyr8wqQt=s64",
      "userId": "17710010183457348789"
     },
     "user_tz": -330
    },
    "id": "lMR6yzFN-4Ei",
    "outputId": "166fe636-7508-4915-cb34-47f9a4540cb8"
   },
   "outputs": [
    {
     "name": "stdout",
     "output_type": "stream",
     "text": [
      "Output : 15\n"
     ]
    }
   ],
   "source": [
    "\"\"\"\n",
    "Write a recursive function which convert octal_number to decimal_number.\n",
    "\n",
    "Input : 17\n",
    "\n",
    "Output: 15\n",
    "\n",
    "\"\"\"\n",
    "def octal_to_decimal_recursive(octal_number, decimal_number, i):\n",
    "\n",
    "    if octal_number == 0:\n",
    "\n",
    "        return 0\n",
    "\n",
    "    else:\n",
    "\n",
    "        decimal = octal_number % 10\n",
    "\n",
    "        decimal_number.append(decimal* (8 ** i))\n",
    "\n",
    "        i+=1\n",
    "\n",
    "        octal_to_decimal_recursive(octal_number // 10, decimal_number, i)    \n",
    "\n",
    "        decimal_number = sum(decimal_number)\n",
    "\n",
    "    return decimal_number\n",
    "\n",
    "print('Output :', octal_to_decimal_recursive(17, [], 0))"
   ]
  },
  {
   "cell_type": "code",
   "execution_count": 49,
   "metadata": {
    "colab": {
     "base_uri": "https://localhost:8080/",
     "height": 34
    },
    "colab_type": "code",
    "executionInfo": {
     "elapsed": 23255,
     "status": "ok",
     "timestamp": 1567501764016,
     "user": {
      "displayName": "BHEEM KUMAR",
      "photoUrl": "https://lh3.googleusercontent.com/a-/AAuE7mCt7lUnsC2GTAphPovu9Ia-s3UmOdWEPyr8wqQt=s64",
      "userId": "17710010183457348789"
     },
     "user_tz": -330
    },
    "id": "g8IOLvwkxy55",
    "outputId": "e7137b83-9b0c-400c-8496-85c4d28189ba"
   },
   "outputs": [
    {
     "name": "stdout",
     "output_type": "stream",
     "text": [
      "Output : 212\n"
     ]
    }
   ],
   "source": [
    "\"\"\"\n",
    "Write a recursive function to convert binary_number to octal_number.\n",
    "\n",
    "Input : 10001010\n",
    "\n",
    "Output: 212\n",
    "\n",
    "\"\"\"\n",
    "\n",
    "def binary_to_octal_recursive(binary_number, octal_number):\n",
    "  \n",
    "    if binary_number == 0:\n",
    "\n",
    "        return 0\n",
    "\n",
    "    else:\n",
    "\n",
    "        binary_to_octal_recursive(binary_number//1000, octal_number)\n",
    "\n",
    "        octal = str(binary_number%1000)\n",
    "\n",
    "        if(len(octal) == 1):\n",
    "            octal = '00'+ octal\n",
    "\n",
    "        elif(len(octal) == 2):\n",
    "            octal = '0' + octal\n",
    "\n",
    "    octal_number.append(str(int(octal[0]) * 2 ** 2 + int(octal[1]) * 2 ** 1 + int(octal[2]) * 2 ** 0))\n",
    "\n",
    "    octal_number = ''.join(octal_number)\n",
    "    return int(octal_number)\n",
    "\n",
    "binary_number = 10001010\n",
    "print('Output :', binary_to_octal_recursive(binary_number, []))"
   ]
  },
  {
   "cell_type": "code",
   "execution_count": 50,
   "metadata": {
    "colab": {
     "base_uri": "https://localhost:8080/",
     "height": 34
    },
    "colab_type": "code",
    "executionInfo": {
     "elapsed": 23247,
     "status": "ok",
     "timestamp": 1567501764017,
     "user": {
      "displayName": "BHEEM KUMAR",
      "photoUrl": "https://lh3.googleusercontent.com/a-/AAuE7mCt7lUnsC2GTAphPovu9Ia-s3UmOdWEPyr8wqQt=s64",
      "userId": "17710010183457348789"
     },
     "user_tz": -330
    },
    "id": "2PvYTKjdxgIM",
    "outputId": "e0091910-a5ff-4a62-c8e8-d5d64ceb4bf7"
   },
   "outputs": [
    {
     "name": "stdout",
     "output_type": "stream",
     "text": [
      "Output : 10001010\n"
     ]
    }
   ],
   "source": [
    "\"\"\"\n",
    "Write a recursive function to convert octal_number to binary_number.\n",
    "\n",
    "Input : 212\n",
    "\n",
    "Output: 10001010\n",
    "\n",
    "\"\"\"\n",
    "\n",
    "def octal_to_binary_recursive(octal_number, binary_number):\n",
    "  \n",
    "    if(octal_number == 0):\n",
    "\n",
    "    return 0\n",
    "\n",
    "    else:\n",
    "\n",
    "    octal_to_binary_recursive(octal_number // 10, binary_number)\n",
    "\n",
    "    octal = octal_number % 10\n",
    "\n",
    "    binary_number.append(str(((octal // 2) // 2) % 2) + str((octal // 2)%2) + str(octal % 2 ))\n",
    "\n",
    "    binary_number = int(''.join(binary_number))\n",
    "    return binary_number\n",
    "\n",
    "octal_number = 212\n",
    "print('Output :',octal_to_binary_recursive(octal_number, []))"
   ]
  },
  {
   "cell_type": "code",
   "execution_count": 51,
   "metadata": {
    "colab": {
     "base_uri": "https://localhost:8080/",
     "height": 34
    },
    "colab_type": "code",
    "executionInfo": {
     "elapsed": 23238,
     "status": "ok",
     "timestamp": 1567501764017,
     "user": {
      "displayName": "BHEEM KUMAR",
      "photoUrl": "https://lh3.googleusercontent.com/a-/AAuE7mCt7lUnsC2GTAphPovu9Ia-s3UmOdWEPyr8wqQt=s64",
      "userId": "17710010183457348789"
     },
     "user_tz": -330
    },
    "id": "UAq31b41stod",
    "outputId": "a1e8fdf8-cf38-42cd-dfb6-0d7ee2015375"
   },
   "outputs": [
    {
     "name": "stdout",
     "output_type": "stream",
     "text": [
      "Output : 4D2\n"
     ]
    }
   ],
   "source": [
    "\"\"\"\n",
    "Write a python recursive method which convert octal_number to hexadecimal_number.\n",
    "\n",
    "Note  : In octal number number 8 and 9 does not does exist.\n",
    "\n",
    "Input : 2322\n",
    "\n",
    "Output: 4D2\n",
    "\n",
    "\"\"\"\n",
    "\n",
    "def convert_digit_to_hex(x):\n",
    "    \n",
    "    if (x == 10):\n",
    "        return 'A'\n",
    "    elif (x == 11):\n",
    "        return 'B'\n",
    "    elif (x == 12):\n",
    "        return 'C'\n",
    "    elif (x == 13):\n",
    "        return 'D'\n",
    "    elif (x == 14):\n",
    "        return 'E'\n",
    "    elif (x == 15):\n",
    "        return 'F'\n",
    "    else:\n",
    "        return str(x)\n",
    "      \n",
    "def octal_to_binary_recursive(octal_number, binary_number):\n",
    "  \n",
    "  if(octal_number == 0):\n",
    "    \n",
    "    return 0\n",
    "  \n",
    "    else:\n",
    "\n",
    "        octal_to_binary_recursive(octal_number // 10, binary_number)\n",
    "\n",
    "        octal = octal_number % 10\n",
    "\n",
    "        binary_number.append(str(((octal // 2) // 2) % 2) + str((octal // 2)%2) + str(octal % 2 ))\n",
    "\n",
    "    binary_number = int(''.join(binary_number))\n",
    "\n",
    "    return binary_number\n",
    "\n",
    "\n",
    "def binary_to_hexadecimal_recursive(binary_number, hexadecimal_number):\n",
    "  \n",
    "  if binary_number == 0:\n",
    "    \n",
    "    return 0\n",
    "  \n",
    "    else:\n",
    "\n",
    "        binary_to_hexadecimal_recursive(binary_number//10000, hexadecimal_number)\n",
    "\n",
    "        hexadecimal = str(binary_number%10000)\n",
    "\n",
    "        if(len(hexadecimal) == 1):\n",
    "            hexadecimal = '000'+ hexadecimal\n",
    "\n",
    "        elif(len(hexadecimal) == 2):\n",
    "            hexadecimal = '00' + hexadecimal\n",
    "        elif(len(hexadecimal) == 3):\n",
    "            hexadecimal = '0' + hexadecimal\n",
    "\n",
    "        hexadecimal = int(str(int(hexadecimal[0]) * 2 ** 3 + int(hexadecimal[1]) * 2 ** 2 + int(hexadecimal[2]) * 2 ** 1 + int(hexadecimal[3]) * 2 ** 0))\n",
    "        hexadecimal_number.append(convert_digit_to_hex(hexadecimal))\n",
    "\n",
    "    hexadecimal_number = ''.join(hexadecimal_number)\n",
    "    return hexadecimal_number\n",
    "\n",
    "\n",
    "def octal_to_hexadecimal(octal_number, hexadecimal_number):\n",
    "  \n",
    "  binary_number = octal_to_binary_recursive(octal_number, [])\n",
    "  \n",
    "  hexadecimal_number = binary_to_hexadecimal_recursive(binary_number, hexadecimal_number)\n",
    "  \n",
    "  return hexadecimal_number\n",
    "\n",
    "octal_number = 2322\n",
    "print('Output :', octal_to_hexadecimal(octal_number, []))"
   ]
  },
  {
   "cell_type": "code",
   "execution_count": 52,
   "metadata": {
    "colab": {
     "base_uri": "https://localhost:8080/",
     "height": 34
    },
    "colab_type": "code",
    "executionInfo": {
     "elapsed": 23232,
     "status": "ok",
     "timestamp": 1567501764018,
     "user": {
      "displayName": "BHEEM KUMAR",
      "photoUrl": "https://lh3.googleusercontent.com/a-/AAuE7mCt7lUnsC2GTAphPovu9Ia-s3UmOdWEPyr8wqQt=s64",
      "userId": "17710010183457348789"
     },
     "user_tz": -330
    },
    "id": "JxoK4cVgBwJK",
    "outputId": "7797cd98-eab8-4a95-d620-dcb1a685d2c2"
   },
   "outputs": [
    {
     "name": "stdout",
     "output_type": "stream",
     "text": [
      "Output : 17\n"
     ]
    }
   ],
   "source": [
    "\"\"\"\n",
    "Write a python recursive method which convert hexadecimal_number to octal_number.\n",
    "\n",
    "Note  : In octal number number 8 and 9 does not does exist.\n",
    "\n",
    "Input :\n",
    "\n",
    "Output:\n",
    "\n",
    "\"\"\"\n",
    "def convert_hex_to_digit(x):\n",
    "    \n",
    "    if (x == 'A'):\n",
    "        return 10\n",
    "    elif (x == 'B'):\n",
    "        return 11\n",
    "    elif (x == 'C'):\n",
    "        return 12\n",
    "    elif (x == 'D'):\n",
    "        return 13\n",
    "    elif (x == 'E'):\n",
    "        return 14\n",
    "    elif (x == 'F'):\n",
    "        return 15\n",
    "    else:\n",
    "        return int(x)\n",
    "\n",
    "def hexadecimal_to_binary_recursive(hexadecimal_number, binary_number):\n",
    "\n",
    "    if(len(hexadecimal_number) == 0):\n",
    "\n",
    "        return 0\n",
    "\n",
    "    else:\n",
    "\n",
    "        hexadecimal_to_binary_recursive(hexadecimal_number[:-1], binary_number)\n",
    "\n",
    "        hexadecimal = convert_hex_to_digit(hexadecimal_number[-1])\n",
    "\n",
    "        binary_number.append(str((((hexadecimal // 2) // 2) // 2) % 2) + str(((hexadecimal // 2) // 2) % 2) + str((hexadecimal // 2) % 2) + str(hexadecimal % 2 ))\n",
    "\n",
    "    binary_number = int(''.join(binary_number))\n",
    "\n",
    "    return binary_number\n",
    "\n",
    "def binary_to_octal_recursive(binary_number, octal_number):\n",
    "  \n",
    "    if binary_number == 0:\n",
    "    \n",
    "        return 0\n",
    "  \n",
    "    else:\n",
    "    \n",
    "    binary_to_octal_recursive(binary_number//1000, octal_number)\n",
    "    \n",
    "    octal = str(binary_number%1000)\n",
    "        \n",
    "        if(len(octal) == 1):\n",
    "            octal = '00'+ octal\n",
    "\n",
    "        elif(len(octal) == 2):\n",
    "            octal = '0' + octal\n",
    "       \n",
    "    octal_number.append(str(int(octal[0]) * 2 ** 2 + int(octal[1]) * 2 ** 1 + int(octal[2]) * 2 ** 0))\n",
    "    \n",
    "    octal_number = ''.join(octal_number)\n",
    "    return int(octal_number)\n",
    "\n",
    "def hexadecimal_to_octal(hexadecimal_number):\n",
    "  \n",
    "  binary_number = hexadecimal_to_binary_recursive(hexadecimal_number, [])\n",
    "  \n",
    "  octal_number  = binary_to_octal_recursive(binary_number, [])\n",
    "\n",
    "    return octal_number\n",
    "\n",
    "hexadecimal_number = 'F'\n",
    "print('Output :', hexadecimal_to_octal(hexadecimal_number))"
   ]
  }
 ],
 "metadata": {
  "colab": {
   "collapsed_sections": [],
   "name": " Python_function_1.ipynb",
   "provenance": []
  },
  "kernelspec": {
   "display_name": "Python 3",
   "language": "python",
   "name": "python3"
  },
  "language_info": {
   "codemirror_mode": {
    "name": "ipython",
    "version": 3
   },
   "file_extension": ".py",
   "mimetype": "text/x-python",
   "name": "python",
   "nbconvert_exporter": "python",
   "pygments_lexer": "ipython3",
   "version": "3.8.2"
  }
 },
 "nbformat": 4,
 "nbformat_minor": 1
}
