{
 "cells": [
  {
   "cell_type": "markdown",
   "metadata": {
    "colab": {
     "base_uri": "https://localhost:8080/",
     "height": 54
    },
    "colab_type": "code",
    "executionInfo": {
     "elapsed": 1492,
     "status": "ok",
     "timestamp": 1565685078867,
     "user": {
      "displayName": "BHEEM KUMAR",
      "photoUrl": "https://lh4.googleusercontent.com/-FbEp2oHW2Io/AAAAAAAAAAI/AAAAAAAAAB8/8MD_60DGnZc/s64/photo.jpg",
      "userId": "17710010183457348789"
     },
     "user_tz": -330
    },
    "id": "GtT9dbWE1GT6",
    "outputId": "17cf0a81-c007-4e8c-aa46-a9f4ff6cbe32"
   },
   "source": [
    "\n",
    "## What is set in python ?\n",
    "\n",
    "### Answer.\n",
    "\n",
    "A Set is an unordered collection data type that is iterable, mutable, and has no duplicate elements. \n",
    "Python’s set class represents the mathematical notion of a set. \n",
    "The major advantage of using a set, as opposed to a list, \n",
    "is that it has a highly optimized method for checking whether a specific element is contained in the set. \n",
    "This is based on a data structure known as a hash table.\n",
    "\n"
   ]
  },
  {
   "cell_type": "code",
   "execution_count": 0,
   "metadata": {
    "colab": {
     "base_uri": "https://localhost:8080/",
     "height": 34
    },
    "colab_type": "code",
    "executionInfo": {
     "elapsed": 1487,
     "status": "ok",
     "timestamp": 1565685078867,
     "user": {
      "displayName": "BHEEM KUMAR",
      "photoUrl": "https://lh4.googleusercontent.com/-FbEp2oHW2Io/AAAAAAAAAAI/AAAAAAAAAB8/8MD_60DGnZc/s64/photo.jpg",
      "userId": "17710010183457348789"
     },
     "user_tz": -330
    },
    "id": "P5oJ7yZq_0OP",
    "outputId": "0dc69f77-a633-4472-b04f-19ffc4102521"
   },
   "outputs": [
    {
     "name": "stdout",
     "output_type": "stream",
     "text": [
      "Output : set()\n"
     ]
    }
   ],
   "source": [
    "\"\"\"\n",
    "Create a blank set named set1 and print it.\n",
    "\n",
    "Input : set() or {()}\n",
    "Output: set()\n",
    "\"\"\"\n",
    "\n",
    "set1 = set()\n",
    "print('Output :', set1)"
   ]
  },
  {
   "cell_type": "code",
   "execution_count": 0,
   "metadata": {
    "colab": {
     "base_uri": "https://localhost:8080/",
     "height": 34
    },
    "colab_type": "code",
    "executionInfo": {
     "elapsed": 1483,
     "status": "ok",
     "timestamp": 1565685078868,
     "user": {
      "displayName": "BHEEM KUMAR",
      "photoUrl": "https://lh4.googleusercontent.com/-FbEp2oHW2Io/AAAAAAAAAAI/AAAAAAAAAB8/8MD_60DGnZc/s64/photo.jpg",
      "userId": "17710010183457348789"
     },
     "user_tz": -330
    },
    "id": "EvpLS3SzBNJI",
    "outputId": "0389e8b5-7543-4af6-c1bc-0f1d96fcc932"
   },
   "outputs": [
    {
     "name": "stdout",
     "output_type": "stream",
     "text": [
      "{0, 1, 2, 3, 4, 5, 6, 7, 8, 9}\n"
     ]
    }
   ],
   "source": [
    "\"\"\"\n",
    "Create a set with 10 numerical elements as given and print it.\n",
    "\n",
    "Input : {0, 1, 2, 3, 4, 5, 6, 7, 8, 9}\n",
    "Output: {0, 1, 2, 3, 4, 5, 6, 7, 8, 9}\n",
    "\n",
    "\"\"\"\n",
    "set1 = {0, 1, 2, 3, 4, 5, 6, 7, 8, 9}\n",
    "print(set1)"
   ]
  },
  {
   "cell_type": "code",
   "execution_count": 0,
   "metadata": {
    "colab": {
     "base_uri": "https://localhost:8080/",
     "height": 34
    },
    "colab_type": "code",
    "executionInfo": {
     "elapsed": 1477,
     "status": "ok",
     "timestamp": 1565685078868,
     "user": {
      "displayName": "BHEEM KUMAR",
      "photoUrl": "https://lh4.googleusercontent.com/-FbEp2oHW2Io/AAAAAAAAAAI/AAAAAAAAAB8/8MD_60DGnZc/s64/photo.jpg",
      "userId": "17710010183457348789"
     },
     "user_tz": -330
    },
    "id": "L7VK_ALGCE65",
    "outputId": "e3632542-8238-4261-c463-ba0cd25cf8d8"
   },
   "outputs": [
    {
     "name": "stdout",
     "output_type": "stream",
     "text": [
      "Output : {'Jack', 'Reyan', 'David', 'Python', 'Jupyter'}\n"
     ]
    }
   ],
   "source": [
    "\"\"\"\n",
    "Create a set with any 5 string elements and print it.\n",
    "\n",
    "Input : {'Jack', 'Python', 'David', 'Reyan', 'Jupyter'}\n",
    "Output : {'Reyan', 'Python', 'Jupyter', 'David', 'Jack'}\n",
    "\n",
    "\"\"\"\n",
    "set1 = {'Jack', 'Python', 'David', 'Reyan', 'Jupyter'}\n",
    "print('Output :', set1) "
   ]
  },
  {
   "cell_type": "code",
   "execution_count": 0,
   "metadata": {
    "colab": {
     "base_uri": "https://localhost:8080/",
     "height": 34
    },
    "colab_type": "code",
    "executionInfo": {
     "elapsed": 1473,
     "status": "ok",
     "timestamp": 1565685078869,
     "user": {
      "displayName": "BHEEM KUMAR",
      "photoUrl": "https://lh4.googleusercontent.com/-FbEp2oHW2Io/AAAAAAAAAAI/AAAAAAAAAB8/8MD_60DGnZc/s64/photo.jpg",
      "userId": "17710010183457348789"
     },
     "user_tz": -330
    },
    "id": "FcUJ3PDSDVla",
    "outputId": "bc300e6b-421d-4b0b-9723-47a3a554ecaf"
   },
   "outputs": [
    {
     "name": "stdout",
     "output_type": "stream",
     "text": [
      "Output : {3.5, 5, 'Jack', 'str', 'David'}\n"
     ]
    }
   ],
   "source": [
    "\"\"\"\n",
    "Create a set named set1 with 5 mixed elements and print it.\n",
    "\n",
    "Input : {'Jack', 5, 'David', 3.5, 'str'}\n",
    "Output: {3.5, 5, 'str', 'David', 'Jack'}\n",
    "\n",
    "\"\"\"\n",
    "set1 = {'Jack', 5, 'David', 3.5, 'str'}\n",
    "print(\"Output :\", set1) "
   ]
  },
  {
   "cell_type": "code",
   "execution_count": 0,
   "metadata": {
    "colab": {
     "base_uri": "https://localhost:8080/",
     "height": 34
    },
    "colab_type": "code",
    "executionInfo": {
     "elapsed": 1468,
     "status": "ok",
     "timestamp": 1565685078869,
     "user": {
      "displayName": "BHEEM KUMAR",
      "photoUrl": "https://lh4.googleusercontent.com/-FbEp2oHW2Io/AAAAAAAAAAI/AAAAAAAAAB8/8MD_60DGnZc/s64/photo.jpg",
      "userId": "17710010183457348789"
     },
     "user_tz": -330
    },
    "id": "GV2y7G_cBNWI",
    "outputId": "7ff50fe4-11bd-45cd-d1e1-40fabedf90fc"
   },
   "outputs": [
    {
     "name": "stdout",
     "output_type": "stream",
     "text": [
      "output  {1, 2, 3, 4, 5, 'Notebook'}\n"
     ]
    }
   ],
   "source": [
    "\"\"\"\n",
    "Add a new element 'Notebook' to given set.\n",
    "\n",
    "Input : {1, 2, 3, 4, 5}\n",
    "output: {1, 2, 3, 4, 5, 'Notebook'}\n",
    "\n",
    "\"\"\"\n",
    "set1 = set({1, 2, 3, 4, 5})\n",
    "set1.add('Notebook')\n",
    "print(\"output \", set1)"
   ]
  },
  {
   "cell_type": "code",
   "execution_count": 0,
   "metadata": {
    "colab": {
     "base_uri": "https://localhost:8080/",
     "height": 34
    },
    "colab_type": "code",
    "executionInfo": {
     "elapsed": 1964,
     "status": "ok",
     "timestamp": 1565685079370,
     "user": {
      "displayName": "BHEEM KUMAR",
      "photoUrl": "https://lh4.googleusercontent.com/-FbEp2oHW2Io/AAAAAAAAAAI/AAAAAAAAAB8/8MD_60DGnZc/s64/photo.jpg",
      "userId": "17710010183457348789"
     },
     "user_tz": -330
    },
    "id": "q7KU0eiyBNfE",
    "outputId": "2f95711e-b497-4706-c8e5-d74642342c74"
   },
   "outputs": [
    {
     "name": "stdout",
     "output_type": "stream",
     "text": [
      "Output : {1, 2, 3, 4, 5}\n"
     ]
    }
   ],
   "source": [
    "\"\"\"\n",
    "Copy the element of set1 using copy function into set2 and print set2.\n",
    "\n",
    "HINT:-Copy function have no refrence between set1 and set2 where as if\n",
    "you use only assign operator to copy the set1 element to set2 and if\n",
    "any update occured in either of the set both set will be affected.\n",
    "\n",
    "Input : {1, 2, 3, 4, 5}\n",
    "Output: {1, 2, 3, 4, 5}\n",
    "\n",
    "\"\"\"\n",
    "set1 = set({1, 2, 3, 4, 5})\n",
    "set2 = set1.copy()\n",
    "print(\"Output :\",set2)"
   ]
  },
  {
   "cell_type": "code",
   "execution_count": 0,
   "metadata": {
    "colab": {
     "base_uri": "https://localhost:8080/",
     "height": 51
    },
    "colab_type": "code",
    "executionInfo": {
     "elapsed": 1960,
     "status": "ok",
     "timestamp": 1565685079371,
     "user": {
      "displayName": "BHEEM KUMAR",
      "photoUrl": "https://lh4.googleusercontent.com/-FbEp2oHW2Io/AAAAAAAAAAI/AAAAAAAAAB8/8MD_60DGnZc/s64/photo.jpg",
      "userId": "17710010183457348789"
     },
     "user_tz": -330
    },
    "id": "jdlGsD-WBNwY",
    "outputId": "43d47a2a-04d1-4c94-cd3c-641210baefbb"
   },
   "outputs": [
    {
     "name": "stdout",
     "output_type": "stream",
     "text": [
      "Output1 : before romoving = {1, 2, 3, 4, 5}\n",
      "Output2 : after removing  = {1, 2, 4, 5}\n"
     ]
    }
   ],
   "source": [
    "\"\"\"\n",
    "Remove the element 3 from given set using built-in method 'remove()' and print it.\n",
    "Input : set1 = {1, 2, 3, 4, 5}\n",
    "Output: set1 = {1, 2, 4, 5}\n",
    "\n",
    "\"\"\"\n",
    "set1 = {1, 2, 3, 4, 5}\n",
    "print(\"Output1 : before romoving =\", set1)\n",
    "set1.remove(3)\n",
    "print(\"Output2 : after removing  =\", set1)"
   ]
  },
  {
   "cell_type": "code",
   "execution_count": 0,
   "metadata": {
    "colab": {
     "base_uri": "https://localhost:8080/",
     "height": 34
    },
    "colab_type": "code",
    "executionInfo": {
     "elapsed": 1955,
     "status": "ok",
     "timestamp": 1565685079371,
     "user": {
      "displayName": "BHEEM KUMAR",
      "photoUrl": "https://lh4.googleusercontent.com/-FbEp2oHW2Io/AAAAAAAAAAI/AAAAAAAAAB8/8MD_60DGnZc/s64/photo.jpg",
      "userId": "17710010183457348789"
     },
     "user_tz": -330
    },
    "id": "4__i6v1cL7dG",
    "outputId": "1524e7b8-bcef-4655-9d29-c7c527745301"
   },
   "outputs": [
    {
     "name": "stdout",
     "output_type": "stream",
     "text": [
      "Output : {1, 2, 4, 5}\n"
     ]
    }
   ],
   "source": [
    "\"\"\"\n",
    "Remove the element 3 from given set using built-in method 'discard().'\n",
    "\n",
    "The built-in method, discard() in Python, removes the element from\n",
    "the set only if the element is present in the set. If the element is not \n",
    "present in the set, then no error or exception is raised\n",
    "and the original set is printed. but in case of method 'remove()' error\n",
    "printed.\n",
    "\n",
    "Input : {1, 2, 3, 4, 5}\n",
    "Ouput :\n",
    "\"\"\"\n",
    "set1 = {1, 2, 3, 4, 5}\n",
    "set1.discard(3)\n",
    "print('Output :',set1)"
   ]
  },
  {
   "cell_type": "code",
   "execution_count": 0,
   "metadata": {
    "colab": {
     "base_uri": "https://localhost:8080/",
     "height": 51
    },
    "colab_type": "code",
    "executionInfo": {
     "elapsed": 1951,
     "status": "ok",
     "timestamp": 1565685079372,
     "user": {
      "displayName": "BHEEM KUMAR",
      "photoUrl": "https://lh4.googleusercontent.com/-FbEp2oHW2Io/AAAAAAAAAAI/AAAAAAAAAB8/8MD_60DGnZc/s64/photo.jpg",
      "userId": "17710010183457348789"
     },
     "user_tz": -330
    },
    "id": "rkoyrMzwBN9S",
    "outputId": "cefe0d81-f7b1-451a-bd97-adbf55cc0269"
   },
   "outputs": [
    {
     "name": "stdout",
     "output_type": "stream",
     "text": [
      "Output1 : before romoving = {1, 2, 3, 4, 5}\n",
      "Output2 : after removing  = {2, 3, 4, 5}\n"
     ]
    }
   ],
   "source": [
    "\"\"\"\n",
    "Remove first element of given set.\n",
    "\n",
    "Input : {1, 2, 3, 4, 5}\n",
    "Output: {2, 3, 4, 5}\n",
    "\n",
    "\"\"\"\n",
    "set1 = set({1, 2, 3, 4, 5})\n",
    "print(\"Output1 : before romoving =\", set1)\n",
    "set1.pop()\n",
    "print(\"Output2 : after removing  =\", set1)"
   ]
  },
  {
   "cell_type": "code",
   "execution_count": 0,
   "metadata": {
    "colab": {
     "base_uri": "https://localhost:8080/",
     "height": 51
    },
    "colab_type": "code",
    "executionInfo": {
     "elapsed": 1946,
     "status": "ok",
     "timestamp": 1565685079372,
     "user": {
      "displayName": "BHEEM KUMAR",
      "photoUrl": "https://lh4.googleusercontent.com/-FbEp2oHW2Io/AAAAAAAAAAI/AAAAAAAAAB8/8MD_60DGnZc/s64/photo.jpg",
      "userId": "17710010183457348789"
     },
     "user_tz": -330
    },
    "id": "ZSBwTtPbT8tr",
    "outputId": "755c4071-224e-460f-8785-e133d3f49c5e"
   },
   "outputs": [
    {
     "name": "stdout",
     "output_type": "stream",
     "text": [
      "Output1 : before romoving = {1, 2, 3, 4, 5}\n",
      "Output2 : after removing  = set()\n"
     ]
    }
   ],
   "source": [
    "\"\"\"\n",
    "Remove all elements of given set.\n",
    "Input : {1, 2, 3, 4, 5}\n",
    "Ouput : set()\n",
    "\n",
    "\"\"\"\n",
    "set1 = {1, 2, 3, 4, 5}\n",
    "print(\"Output1 : before romoving =\", set1)\n",
    "set1.clear()\n",
    "print(\"Output2 : after removing  =\", set1)"
   ]
  },
  {
   "cell_type": "code",
   "execution_count": 0,
   "metadata": {
    "colab": {
     "base_uri": "https://localhost:8080/",
     "height": 34
    },
    "colab_type": "code",
    "executionInfo": {
     "elapsed": 1940,
     "status": "ok",
     "timestamp": 1565685079373,
     "user": {
      "displayName": "BHEEM KUMAR",
      "photoUrl": "https://lh4.googleusercontent.com/-FbEp2oHW2Io/AAAAAAAAAAI/AAAAAAAAAB8/8MD_60DGnZc/s64/photo.jpg",
      "userId": "17710010183457348789"
     },
     "user_tz": -330
    },
    "id": "ZFq_y0alBOBG",
    "outputId": "4f420531-4613-4bc5-c690-cc5bb6b1693f"
   },
   "outputs": [
    {
     "name": "stdout",
     "output_type": "stream",
     "text": [
      "Output : {1, 2, 3, 4, 5, 6}\n"
     ]
    }
   ],
   "source": [
    "\"\"\"\n",
    "Remove duplicate elements of given set.\n",
    "\n",
    "HINT:- Set do not keep any duplicate element bydefault.\n",
    "Input : {1, 2, 2, 2, 3, 3, 3, 3, 4, 5, 6}\n",
    "Output: {1, 2, 3, 4, 5, 6}\n",
    "\n",
    "\"\"\"\n",
    "set1 = set({1, 2, 2, 2, 3, 3, 3, 3, 4, 5, 6})\n",
    "print('Output :',set1)"
   ]
  },
  {
   "cell_type": "code",
   "execution_count": 0,
   "metadata": {
    "colab": {
     "base_uri": "https://localhost:8080/",
     "height": 34
    },
    "colab_type": "code",
    "executionInfo": {
     "elapsed": 1934,
     "status": "ok",
     "timestamp": 1565685079373,
     "user": {
      "displayName": "BHEEM KUMAR",
      "photoUrl": "https://lh4.googleusercontent.com/-FbEp2oHW2Io/AAAAAAAAAAI/AAAAAAAAAB8/8MD_60DGnZc/s64/photo.jpg",
      "userId": "17710010183457348789"
     },
     "user_tz": -330
    },
    "id": "zgcaipRRAtet",
    "outputId": "e05335dc-bd66-42bf-d4dc-27d79e25be91"
   },
   "outputs": [
    {
     "name": "stdout",
     "output_type": "stream",
     "text": [
      "Output : {3, 4, 5, 6, 7, 8}\n"
     ]
    }
   ],
   "source": [
    "\"\"\"\n",
    "Find the difference between given two sets using built-in method 'difference()'.\n",
    "\n",
    "Input1: {1, 2, 3, 4, 5, 6, 7, 8}\n",
    "Input2: {9, 10, 11}\n",
    "Output: {3, 4, 5, 6, 7, 8}\n",
    "\n",
    "\"\"\"\n",
    "set1 = {1, 2, 3, 4, 5, 6, 7, 8}\n",
    "set2 = {1, 2, 9}\n",
    "\n",
    "\n",
    "print('Output :',set1.difference(set2))"
   ]
  },
  {
   "cell_type": "code",
   "execution_count": 0,
   "metadata": {
    "colab": {
     "base_uri": "https://localhost:8080/",
     "height": 34
    },
    "colab_type": "code",
    "executionInfo": {
     "elapsed": 1928,
     "status": "ok",
     "timestamp": 1565685079373,
     "user": {
      "displayName": "BHEEM KUMAR",
      "photoUrl": "https://lh4.googleusercontent.com/-FbEp2oHW2Io/AAAAAAAAAAI/AAAAAAAAAB8/8MD_60DGnZc/s64/photo.jpg",
      "userId": "17710010183457348789"
     },
     "user_tz": -330
    },
    "id": "3vusA3bUAtZk",
    "outputId": "35ec42cb-3dfc-4acf-d447-87332149ca3d"
   },
   "outputs": [
    {
     "name": "stdout",
     "output_type": "stream",
     "text": [
      "Output : {9}\n"
     ]
    }
   ],
   "source": [
    "\"\"\"\n",
    "Find the difference between given two sets without using built-in method 'difference()'.\n",
    "\n",
    "Input1: {1, 2, 3, 4, 5, 6, 7, 8}\n",
    "Input2: {9, 10, 11}\n",
    "Output: {9}\n",
    "\n",
    "\"\"\"\n",
    "set1 = {1, 2, 3, 4, 5, 6, 7, 8}\n",
    "set2 = {1, 2, 9}\n",
    "\n",
    "\n",
    "print('Output :',set2 - set1)"
   ]
  },
  {
   "cell_type": "code",
   "execution_count": 0,
   "metadata": {
    "colab": {
     "base_uri": "https://localhost:8080/",
     "height": 34
    },
    "colab_type": "code",
    "executionInfo": {
     "elapsed": 1923,
     "status": "ok",
     "timestamp": 1565685079374,
     "user": {
      "displayName": "BHEEM KUMAR",
      "photoUrl": "https://lh4.googleusercontent.com/-FbEp2oHW2Io/AAAAAAAAAAI/AAAAAAAAAB8/8MD_60DGnZc/s64/photo.jpg",
      "userId": "17710010183457348789"
     },
     "user_tz": -330
    },
    "id": "QGrjm7fQAtT_",
    "outputId": "9c7303ab-5410-4cac-a444-0f80aa6ae141"
   },
   "outputs": [
    {
     "name": "stdout",
     "output_type": "stream",
     "text": [
      "Output : {3, 4, 5, 6, 7, 8}\n"
     ]
    }
   ],
   "source": [
    "\"\"\"\n",
    "Find the difference between given two sets using built-in method 'difference_update()'.\n",
    "\n",
    "NOTE: - Here method 'difference()' return new set as result, where as \n",
    "method 'difference_update() does not create new set, it updates itself.\n",
    "\n",
    "Input1: {1, 2, 3, 4, 5, 6, 7, 8}\n",
    "Input2: {9, 10, 11}\n",
    "Output: {3, 4, 5, 6, 7, 8}\n",
    "\n",
    "\"\"\"\n",
    "set1 = {1, 2, 3, 4, 5, 6, 7, 8}\n",
    "set2 = {1, 2, 9}\n",
    "\n",
    "set1.difference_update(set2)\n",
    "print('Output :',set1)"
   ]
  },
  {
   "cell_type": "code",
   "execution_count": 0,
   "metadata": {
    "colab": {
     "base_uri": "https://localhost:8080/",
     "height": 34
    },
    "colab_type": "code",
    "executionInfo": {
     "elapsed": 1918,
     "status": "ok",
     "timestamp": 1565685079374,
     "user": {
      "displayName": "BHEEM KUMAR",
      "photoUrl": "https://lh4.googleusercontent.com/-FbEp2oHW2Io/AAAAAAAAAAI/AAAAAAAAAB8/8MD_60DGnZc/s64/photo.jpg",
      "userId": "17710010183457348789"
     },
     "user_tz": -330
    },
    "id": "pj_zRMEbBOE8",
    "outputId": "17c56867-7981-4d5d-f49c-58c1d997a054"
   },
   "outputs": [
    {
     "name": "stdout",
     "output_type": "stream",
     "text": [
      "Output : 5\n"
     ]
    }
   ],
   "source": [
    "\"\"\"\n",
    "Find the number of elements in given set.\n",
    "\n",
    "Input : {12, 3, 6, 2, 90}\n",
    "Output: 5\n",
    "\n",
    "\"\"\"\n",
    "set1 = {12, 3, 6, 2, 90}\n",
    "print('Output :',len(set1))"
   ]
  },
  {
   "cell_type": "code",
   "execution_count": 0,
   "metadata": {
    "colab": {
     "base_uri": "https://localhost:8080/",
     "height": 68
    },
    "colab_type": "code",
    "executionInfo": {
     "elapsed": 1914,
     "status": "ok",
     "timestamp": 1565685079375,
     "user": {
      "displayName": "BHEEM KUMAR",
      "photoUrl": "https://lh4.googleusercontent.com/-FbEp2oHW2Io/AAAAAAAAAAI/AAAAAAAAAB8/8MD_60DGnZc/s64/photo.jpg",
      "userId": "17710010183457348789"
     },
     "user_tz": -330
    },
    "id": "0oNLFkK7BNkb",
    "outputId": "c2460cda-8622-427d-f6ca-f78c72675f83"
   },
   "outputs": [
    {
     "name": "stdout",
     "output_type": "stream",
     "text": [
      "Ouput1 : set1 = {1, 2, 3, 4, 5}\n",
      "Ouput2 : set2 = {'Florid', 'Jack', 'Sam', 'Justin', 'Rihana'}\n",
      "Ouput3 : set3 = {1, 2, 3, 4, 5, 'Florid', 'Jack', 'Sam', 'Justin', 'Rihana'}\n"
     ]
    }
   ],
   "source": [
    "\"\"\"\n",
    "Find the Union between two given set, get it into set3 and print set1.\n",
    "\n",
    "Input1: {1, 2, 3, 4, 5}\n",
    "Input2: {'Jack', 'Sam',' Rihana', 'Florid', 'Justin'}\n",
    "Output: {1, 2, 3, 4, 5, 'Sam', 'Rihana', 'Florid', 'Justin', 'Jack'}\n",
    "\n",
    "\"\"\"\n",
    "set1 = {1, 2, 3, 4, 5}\n",
    "set2 = {'Jack', 'Sam', 'Rihana', 'Florid', 'Justin'}\n",
    "set3 = set1.union(set2)\n",
    "\n",
    "print(\"Ouput1 : set1 =\", set1)\n",
    "print(\"Ouput2 : set2 =\", set2)\n",
    "print(\"Ouput3 : set3 =\", set3)"
   ]
  },
  {
   "cell_type": "code",
   "execution_count": 0,
   "metadata": {
    "colab": {
     "base_uri": "https://localhost:8080/",
     "height": 68
    },
    "colab_type": "code",
    "executionInfo": {
     "elapsed": 1907,
     "status": "ok",
     "timestamp": 1565685079375,
     "user": {
      "displayName": "BHEEM KUMAR",
      "photoUrl": "https://lh4.googleusercontent.com/-FbEp2oHW2Io/AAAAAAAAAAI/AAAAAAAAAB8/8MD_60DGnZc/s64/photo.jpg",
      "userId": "17710010183457348789"
     },
     "user_tz": -330
    },
    "id": "a-4BNKcnBNqI",
    "outputId": "8618665e-f46b-4c83-bde1-7fe787724a4d"
   },
   "outputs": [
    {
     "name": "stdout",
     "output_type": "stream",
     "text": [
      "Ouput1 : set1 = {1, 2, 3, 4, 5}\n",
      "Ouput2 : set2 = {2, 3, 6, 12, 90}\n",
      "Ouput3 : set3 = {2, 3}\n"
     ]
    }
   ],
   "source": [
    "\"\"\"\n",
    "Find the Intersection between given two set and print it.\n",
    "\n",
    "Input1: {1, 2, 3, 4, 5}\n",
    "Input2: {12, 3, 6, 2, 90}\n",
    "Output: {2, 3}\n",
    "\n",
    "\"\"\"\n",
    "set1 = {1, 2, 3, 4, 5}\n",
    "set2 = {12, 3, 6, 2, 90}\n",
    "set3 = set1.intersection(set2)\n",
    "\n",
    "print(\"Ouput1 : set1 =\", set1)\n",
    "print(\"Ouput2 : set2 =\", set2)\n",
    "print(\"Ouput3 : set3 =\", set3)"
   ]
  },
  {
   "cell_type": "code",
   "execution_count": 0,
   "metadata": {
    "colab": {
     "base_uri": "https://localhost:8080/",
     "height": 51
    },
    "colab_type": "code",
    "executionInfo": {
     "elapsed": 1902,
     "status": "ok",
     "timestamp": 1565685079375,
     "user": {
      "displayName": "BHEEM KUMAR",
      "photoUrl": "https://lh4.googleusercontent.com/-FbEp2oHW2Io/AAAAAAAAAAI/AAAAAAAAAB8/8MD_60DGnZc/s64/photo.jpg",
      "userId": "17710010183457348789"
     },
     "user_tz": -330
    },
    "id": "C8oVXeDDAtCo",
    "outputId": "5fb77d81-dc1d-4be2-b6da-b87d400c95d0"
   },
   "outputs": [
    {
     "name": "stdout",
     "output_type": "stream",
     "text": [
      "Ouput1 : set1 bfore intersection_update = {1, 2, 3, 4, 5}\n",
      "Ouput2 : set1 after intersection_update = {2, 3}\n"
     ]
    }
   ],
   "source": [
    "\"\"\"\n",
    "Find the Intersection between given two set and print it.\n",
    "\n",
    "NOTE: - Here method 'intersection()' return new set as result, where as \n",
    "method 'intersection_update() does not create new set, it updates itself.\n",
    "\n",
    "\n",
    "Input1: {1, 2, 3, 4, 5}\n",
    "Input2: {12, 3, 6, 2, 90}\n",
    "Output: {2, 3}\n",
    "\n",
    "\"\"\"\n",
    "set1 = {1, 2, 3, 4, 5}\n",
    "set2 = {12, 3, 6, 2, 90}\n",
    "print(\"Ouput1 : set1 bfore intersection_update =\", set1)\n",
    "set1.intersection_update(set2)\n",
    "\n",
    "print(\"Ouput2 : set1 after intersection_update =\", set1)"
   ]
  },
  {
   "cell_type": "code",
   "execution_count": 0,
   "metadata": {
    "colab": {
     "base_uri": "https://localhost:8080/",
     "height": 34
    },
    "colab_type": "code",
    "executionInfo": {
     "elapsed": 1898,
     "status": "ok",
     "timestamp": 1565685079376,
     "user": {
      "displayName": "BHEEM KUMAR",
      "photoUrl": "https://lh4.googleusercontent.com/-FbEp2oHW2Io/AAAAAAAAAAI/AAAAAAAAAB8/8MD_60DGnZc/s64/photo.jpg",
      "userId": "17710010183457348789"
     },
     "user_tz": -330
    },
    "id": "RSOPbK40As8Y",
    "outputId": "026234e8-ef3c-45bf-ca34-8dde37c310e7"
   },
   "outputs": [
    {
     "name": "stdout",
     "output_type": "stream",
     "text": [
      "Output : True\n"
     ]
    }
   ],
   "source": [
    "\"\"\"\n",
    "Check whether the given set is disjoint or not.\n",
    "\n",
    "Input1: {1, 4, 5}\n",
    "Input : {12, 3, 6, 2, 90}\n",
    "Output: True\n",
    "\n",
    "\"\"\"\n",
    "\n",
    "set1 = {1, 4, 5}\n",
    "set2 = {12, 3, 6, 2, 90}\n",
    "\n",
    "print(\"Output :\", set1.isdisjoint(set2))"
   ]
  },
  {
   "cell_type": "code",
   "execution_count": 0,
   "metadata": {
    "colab": {
     "base_uri": "https://localhost:8080/",
     "height": 34
    },
    "colab_type": "code",
    "executionInfo": {
     "elapsed": 1893,
     "status": "ok",
     "timestamp": 1565685079376,
     "user": {
      "displayName": "BHEEM KUMAR",
      "photoUrl": "https://lh4.googleusercontent.com/-FbEp2oHW2Io/AAAAAAAAAAI/AAAAAAAAAB8/8MD_60DGnZc/s64/photo.jpg",
      "userId": "17710010183457348789"
     },
     "user_tz": -330
    },
    "id": "TEedJJpjBN6X",
    "outputId": "02fa69ea-3fc6-4813-b5ab-25a76f64f275"
   },
   "outputs": [
    {
     "name": "stdout",
     "output_type": "stream",
     "text": [
      "Output : False\n"
     ]
    }
   ],
   "source": [
    "\"\"\"\n",
    "Check whether the given set is disjoint or not.\n",
    "\n",
    "Input1: {1, 2, 3}\n",
    "Input : {1, 3, 6, 90}\n",
    "Output : False\n",
    "\n",
    "\"\"\"\n",
    "\n",
    "set1 = {1, 2, 3}\n",
    "set2 = {1, 3, 6, 90}\n",
    "\n",
    "print(\"Output :\", set1.isdisjoint(set2))"
   ]
  },
  {
   "cell_type": "code",
   "execution_count": 0,
   "metadata": {
    "colab": {
     "base_uri": "https://localhost:8080/",
     "height": 34
    },
    "colab_type": "code",
    "executionInfo": {
     "elapsed": 1889,
     "status": "ok",
     "timestamp": 1565685079377,
     "user": {
      "displayName": "BHEEM KUMAR",
      "photoUrl": "https://lh4.googleusercontent.com/-FbEp2oHW2Io/AAAAAAAAAAI/AAAAAAAAAB8/8MD_60DGnZc/s64/photo.jpg",
      "userId": "17710010183457348789"
     },
     "user_tz": -330
    },
    "id": "U1A77oi9BN3q",
    "outputId": "68459ca3-5a4a-481a-f7a3-292a5ec7d2f7"
   },
   "outputs": [
    {
     "name": "stdout",
     "output_type": "stream",
     "text": [
      "Output : True\n"
     ]
    }
   ],
   "source": [
    "\"\"\"\n",
    "Check whether the given set is subset or not.\n",
    "\n",
    "Input1: {1, 2, 3}\n",
    "Input : {1, 3, 6, 2, 90}\n",
    "Output: True\n",
    "\n",
    "\"\"\"\n",
    "\n",
    "set1 = {1, 2, 3}\n",
    "set2 = {1, 3, 6, 2, 90}\n",
    "\n",
    "print(\"Output :\", set1.issubset(set2))"
   ]
  },
  {
   "cell_type": "code",
   "execution_count": 0,
   "metadata": {
    "colab": {
     "base_uri": "https://localhost:8080/",
     "height": 34
    },
    "colab_type": "code",
    "executionInfo": {
     "elapsed": 1884,
     "status": "ok",
     "timestamp": 1565685079377,
     "user": {
      "displayName": "BHEEM KUMAR",
      "photoUrl": "https://lh4.googleusercontent.com/-FbEp2oHW2Io/AAAAAAAAAAI/AAAAAAAAAB8/8MD_60DGnZc/s64/photo.jpg",
      "userId": "17710010183457348789"
     },
     "user_tz": -330
    },
    "id": "g7zxBIjqBN1A",
    "outputId": "3b5d8c60-a55f-4f8c-8cd8-970e74ea584c"
   },
   "outputs": [
    {
     "name": "stdout",
     "output_type": "stream",
     "text": [
      "Output : False\n"
     ]
    }
   ],
   "source": [
    "\"\"\"\n",
    "Check whether the given set is subset or not.\n",
    "\n",
    "Input1: {1, 2, 3}\n",
    "Input : {1, 3, 6, 90}\n",
    "Output: False\n",
    "\n",
    "\"\"\"\n",
    "\n",
    "set1 = {1, 2, 3}\n",
    "set2 = {1, 3, 6, 90}\n",
    "\n",
    "print(\"Output :\", set1.issubset(set2))"
   ]
  },
  {
   "cell_type": "code",
   "execution_count": 0,
   "metadata": {
    "colab": {
     "base_uri": "https://localhost:8080/",
     "height": 34
    },
    "colab_type": "code",
    "executionInfo": {
     "elapsed": 1881,
     "status": "ok",
     "timestamp": 1565685079379,
     "user": {
      "displayName": "BHEEM KUMAR",
      "photoUrl": "https://lh4.googleusercontent.com/-FbEp2oHW2Io/AAAAAAAAAAI/AAAAAAAAAB8/8MD_60DGnZc/s64/photo.jpg",
      "userId": "17710010183457348789"
     },
     "user_tz": -330
    },
    "id": "Y01i29WJBNuV",
    "outputId": "2b4dd42c-70d8-4f2b-d54f-96e938abcb76"
   },
   "outputs": [
    {
     "name": "stdout",
     "output_type": "stream",
     "text": [
      "Output : True\n"
     ]
    }
   ],
   "source": [
    "\"\"\"\n",
    "Check whether the given set is superset or not.\n",
    "\n",
    "Input1: {1, 3, 6, 2, 90}\n",
    "Input2: {1, 2, 3}\n",
    "Output: True\n",
    "\n",
    "\"\"\"\n",
    "\n",
    "set1 = {1, 3, 6, 2, 90}\n",
    "set2 = {1, 2, 3}\n",
    "\n",
    "print(\"Output :\", set1.issuperset(set2))"
   ]
  },
  {
   "cell_type": "code",
   "execution_count": 0,
   "metadata": {
    "colab": {
     "base_uri": "https://localhost:8080/",
     "height": 34
    },
    "colab_type": "code",
    "executionInfo": {
     "elapsed": 1876,
     "status": "ok",
     "timestamp": 1565685079379,
     "user": {
      "displayName": "BHEEM KUMAR",
      "photoUrl": "https://lh4.googleusercontent.com/-FbEp2oHW2Io/AAAAAAAAAAI/AAAAAAAAAB8/8MD_60DGnZc/s64/photo.jpg",
      "userId": "17710010183457348789"
     },
     "user_tz": -330
    },
    "id": "p8PEYtM_BNof",
    "outputId": "245d2682-f526-4fcd-b12f-6e8dc85741e1"
   },
   "outputs": [
    {
     "name": "stdout",
     "output_type": "stream",
     "text": [
      "Output : False\n"
     ]
    }
   ],
   "source": [
    "\"\"\"\n",
    "Check whether the given set is superset or not.\n",
    "\n",
    "Input1: {1, 3, 6, 90}\n",
    "Input2: {1, 2, 3}\n",
    "Output: False\n",
    "\"\"\"\n",
    "\n",
    "set1 = {1, 3, 6, 90}\n",
    "set2 = {1, 2, 3}\n",
    "\n",
    "print(\"Output :\", set1.issuperset(set2))"
   ]
  },
  {
   "cell_type": "code",
   "execution_count": 0,
   "metadata": {
    "colab": {
     "base_uri": "https://localhost:8080/",
     "height": 34
    },
    "colab_type": "code",
    "executionInfo": {
     "elapsed": 1870,
     "status": "ok",
     "timestamp": 1565685079379,
     "user": {
      "displayName": "BHEEM KUMAR",
      "photoUrl": "https://lh4.googleusercontent.com/-FbEp2oHW2Io/AAAAAAAAAAI/AAAAAAAAAB8/8MD_60DGnZc/s64/photo.jpg",
      "userId": "17710010183457348789"
     },
     "user_tz": -330
    },
    "id": "hZ9be4DHBNia",
    "outputId": "e461bbb1-258b-4be1-8715-1ff86543c2b4"
   },
   "outputs": [
    {
     "name": "stdout",
     "output_type": "stream",
     "text": [
      "Output : {2, 6, 90}\n"
     ]
    }
   ],
   "source": [
    "\"\"\"\n",
    "Finds the symmetric difference between given sets.\n",
    "\n",
    "Input1: {1, 3, 6, 90}\n",
    "Input2: {1, 2, 3}\n",
    "Output: {2, 6, 90}\n",
    "\"\"\"\n",
    "\n",
    "set1 = {1, 3, 6, 90}\n",
    "set2 = {1, 2, 3}\n",
    "\n",
    "print(\"Output :\", set1.symmetric_difference(set2))"
   ]
  },
  {
   "cell_type": "code",
   "execution_count": 0,
   "metadata": {
    "colab": {
     "base_uri": "https://localhost:8080/",
     "height": 34
    },
    "colab_type": "code",
    "executionInfo": {
     "elapsed": 1865,
     "status": "ok",
     "timestamp": 1565685079380,
     "user": {
      "displayName": "BHEEM KUMAR",
      "photoUrl": "https://lh4.googleusercontent.com/-FbEp2oHW2Io/AAAAAAAAAAI/AAAAAAAAAB8/8MD_60DGnZc/s64/photo.jpg",
      "userId": "17710010183457348789"
     },
     "user_tz": -330
    },
    "id": "W4bmCjaeBNdS",
    "outputId": "0d285b6b-a5aa-4093-b8c5-3ee456a825a3"
   },
   "outputs": [
    {
     "name": "stdout",
     "output_type": "stream",
     "text": [
      "Output : {2, 6, 90}\n"
     ]
    }
   ],
   "source": [
    "\"\"\"\n",
    "Finds the symmetric difference between given sets using built-in method 'symmetirc_difference_update()'.\n",
    "\n",
    "NOTE: - Here method 'symmetric_difference()' return new set as result, where as \n",
    "method 'symmetric_difference_update()'' does not create new set, it updates itself.\n",
    "\n",
    "\n",
    "Input1: {1, 3, 6, 90}\n",
    "Input2: {1, 2, 3}\n",
    "Output: {2, 6, 90}\n",
    "\n",
    "\"\"\"\n",
    "\n",
    "set1 = {1, 3, 6, 90}\n",
    "set2 = {1, 2, 3}\n",
    "set1.symmetric_difference_update(set2)\n",
    "print(\"Output :\" ,set1)"
   ]
  },
  {
   "cell_type": "code",
   "execution_count": 0,
   "metadata": {
    "colab": {
     "base_uri": "https://localhost:8080/",
     "height": 34
    },
    "colab_type": "code",
    "executionInfo": {
     "elapsed": 1860,
     "status": "ok",
     "timestamp": 1565685079380,
     "user": {
      "displayName": "BHEEM KUMAR",
      "photoUrl": "https://lh4.googleusercontent.com/-FbEp2oHW2Io/AAAAAAAAAAI/AAAAAAAAAB8/8MD_60DGnZc/s64/photo.jpg",
      "userId": "17710010183457348789"
     },
     "user_tz": -330
    },
    "id": "MbX_v6-qE1X_",
    "outputId": "1a136257-b00f-40d5-ec21-fb01f5750303"
   },
   "outputs": [
    {
     "name": "stdout",
     "output_type": "stream",
     "text": [
      "Output : {1, 2, 3, 4}\n"
     ]
    }
   ],
   "source": [
    "\"\"\"\n",
    "Update the existing set by using another existing set as given.\n",
    "\n",
    "Input1: {1, 2, 3}\n",
    "Input2: {2, 3, 4}\n",
    "Output: {}\n",
    "\n",
    "\"\"\"\n",
    "set1 = {1, 2, 3}\n",
    "set2 = {2, 3, 4}\n",
    "\n",
    "set1.update(set2)\n",
    "print('Output :',set1)"
   ]
  },
  {
   "cell_type": "code",
   "execution_count": 20,
   "metadata": {
    "colab": {
     "base_uri": "https://localhost:8080/",
     "height": 34
    },
    "colab_type": "code",
    "executionInfo": {
     "elapsed": 934,
     "status": "ok",
     "timestamp": 1571119692630,
     "user": {
      "displayName": "bheem kumar",
      "photoUrl": "",
      "userId": "16514217920437432713"
     },
     "user_tz": -330
    },
    "id": "yZqNmdjA_iNc",
    "outputId": "22340704-7179-4139-e6d5-d8523bfa5e12"
   },
   "outputs": [
    {
     "name": "stdout",
     "output_type": "stream",
     "text": [
      "['a', 'also', 'and', 'is', 'language', 'programming', 'python', 'scripting']\n"
     ]
    }
   ],
   "source": [
    "\"\"\"\n",
    "Write a code that accepts a comma separated sequence of words as input and prints the unique words in sorted \n",
    "form (alphanumerically).\n",
    "\n",
    "inpust:--\n",
    "\n",
    "    string = 'python, is, programming, language, and, also, scripting, language'\n",
    "\n",
    "Outputs:--\n",
    "\n",
    "    ['a', 'also', 'and', 'is', 'language', 'programming', 'python', 'scripting']\n",
    "\n",
    "\"\"\"\n",
    "\n",
    "string = 'python,is,a,programming,language,and,is,also,a,scripting,language'\n",
    "\n",
    "string = set(string.split(','))\n",
    "\n",
    "string = sorted(list(string))\n",
    "\n",
    "print(string)"
   ]
  },
  {
   "cell_type": "markdown",
   "metadata": {
    "colab_type": "text",
    "id": "6AaOs5BmFoTR"
   },
   "source": [
    "[For more info about difference between add, union and update.](https://stackoverflow.com/questions/28845284/add-vs-update-in-set-operations-in-python/34170428)"
   ]
  }
 ],
 "metadata": {
  "colab": {
   "name": "Python_set_1.ipynb",
   "provenance": []
  },
  "kernelspec": {
   "display_name": "Python 3",
   "language": "python",
   "name": "python3"
  },
  "language_info": {
   "codemirror_mode": {
    "name": "ipython",
    "version": 3
   },
   "file_extension": ".py",
   "mimetype": "text/x-python",
   "name": "python",
   "nbconvert_exporter": "python",
   "pygments_lexer": "ipython3",
   "version": "3.8.2"
  }
 },
 "nbformat": 4,
 "nbformat_minor": 1
}
