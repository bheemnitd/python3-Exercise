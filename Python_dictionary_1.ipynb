{
 "cells": [
  {
   "cell_type": "markdown",
   "metadata": {
    "colab_type": "text",
    "id": "Yij-I2dgReVU"
   },
   "source": [
    "**What is dictionary in python ?**\n",
    "\n",
    "**Answer :**\n",
    "\n",
    "Python dictionary is an unordered collection of items. \n",
    "While other compound data types have only value as an element,\n",
    "a dictionary has a key: value pair. \n",
    "Dictionaries are optimized to retrieve values when the key is known.\n",
    "\n",
    "**What is items in Dictionary?**\n",
    "\n",
    "**Answer:**\n",
    "\n",
    "In dictionary every key have a value both key and value combined known as\n",
    "item, and all the item available in dictionary is known as items."
   ]
  },
  {
   "cell_type": "code",
   "execution_count": 1,
   "metadata": {
    "cellView": "both",
    "colab": {
     "base_uri": "https://localhost:8080/",
     "height": 34
    },
    "colab_type": "code",
    "executionInfo": {
     "elapsed": 1265,
     "status": "ok",
     "timestamp": 1573020923654,
     "user": {
      "displayName": "bheem kumar",
      "photoUrl": "https://lh3.googleusercontent.com/a-/AAuE7mDCx24nBXj8t-exydQqWCz_3_2Fr8UREB6_UTXj=s64",
      "userId": "16514217920437432713"
     },
     "user_tz": -330
    },
    "id": "DeKtXczJ1q6l",
    "outputId": "e6a3451a-5bce-42de-d0a4-626101b86115"
   },
   "outputs": [
    {
     "name": "stdout",
     "output_type": "stream",
     "text": [
      "Output : {}\n"
     ]
    }
   ],
   "source": [
    "\"\"\"\n",
    "\n",
    "Create a blank dictionary and print it.\n",
    "\n",
    "Input:--\n",
    "    \n",
    "    dict1 = dict()\n",
    "\n",
    "Output:--\n",
    "    \n",
    "    {}\n",
    "\n",
    "\"\"\"\n",
    "\n",
    "dict1 = dict()\n",
    "\n",
    "# Alternative way.\n",
    "# dict1 = {}\n",
    "\n",
    "print('Output :', dict1)"
   ]
  },
  {
   "cell_type": "code",
   "execution_count": 0,
   "metadata": {
    "cellView": "both",
    "colab": {
     "base_uri": "https://localhost:8080/",
     "height": 34
    },
    "colab_type": "code",
    "executionInfo": {
     "elapsed": 3562,
     "status": "ok",
     "timestamp": 1573020925975,
     "user": {
      "displayName": "bheem kumar",
      "photoUrl": "https://lh3.googleusercontent.com/a-/AAuE7mDCx24nBXj8t-exydQqWCz_3_2Fr8UREB6_UTXj=s64",
      "userId": "16514217920437432713"
     },
     "user_tz": -330
    },
    "id": "8Z8trObV1q6o",
    "outputId": "fe9a6020-6884-476d-d17c-e887cd9a8da4"
   },
   "outputs": [
    {
     "name": "stdout",
     "output_type": "stream",
     "text": [
      "Output : {'Tony': 64, 'Eliza': 33, 'Peter': 87, 'Sam': 89, 'Rihana': 39}\n"
     ]
    }
   ],
   "source": [
    "\"\"\"\n",
    "\n",
    "Create a dictionary with five items as given input and print it.\n",
    "\n",
    "Input:--\n",
    "\n",
    "    dict1 = {'Tony':64, 'Eliza':33, 'Peter':87, 'Sam':89, 'Rihana':39}\n",
    "\n",
    "Output:--\n",
    "    \n",
    "    {'Tony': 64, 'Eliza': 33, 'Peter': 87, 'Sam': 89, 'Rihana': 39}\n",
    "\n",
    "\"\"\"\n",
    "\n",
    "dict1 = {'Tony':64, 'Eliza':33, 'Peter':87, 'Sam':89, 'Rihana':39}\n",
    "print('Output :',dict1)"
   ]
  },
  {
   "cell_type": "code",
   "execution_count": 0,
   "metadata": {
    "cellView": "both",
    "colab": {
     "base_uri": "https://localhost:8080/",
     "height": 34
    },
    "colab_type": "code",
    "executionInfo": {
     "elapsed": 3548,
     "status": "ok",
     "timestamp": 1573020925975,
     "user": {
      "displayName": "bheem kumar",
      "photoUrl": "https://lh3.googleusercontent.com/a-/AAuE7mDCx24nBXj8t-exydQqWCz_3_2Fr8UREB6_UTXj=s64",
      "userId": "16514217920437432713"
     },
     "user_tz": -330
    },
    "id": "G8AvEpiM1q6t",
    "outputId": "2167d037-7254-4552-9423-b0b5ff103fd2"
   },
   "outputs": [
    {
     "name": "stdout",
     "output_type": "stream",
     "text": [
      "Output : dict_items([('Tony', 64), ('Eliza', 33), ('Peter', 87), ('Sam', 89), ('Rihana', 39)])\n"
     ]
    }
   ],
   "source": [
    "\"\"\"\n",
    "\n",
    "Print the items of dictionary using built-in 'items()' method .\n",
    "\n",
    "Input:--\n",
    "    \n",
    "    dict1 = {'Tony':64, 'Eliza':33, 'Peter':87, 'Sam':89, 'Rihana':39}\n",
    "\n",
    "Output:--\n",
    "    \n",
    "    dict_items([('Tony', 64), ('Eliza', 33), ('Peter', 87), ('Sam', 89), ('Rihana', 39)])\n",
    "\n",
    "\"\"\"\n",
    "\n",
    "dict1 = {'Tony':64, 'Eliza':33, 'Peter':87, 'Sam':89, 'Rihana':39}\n",
    "print('Output :', dict1.items())"
   ]
  },
  {
   "cell_type": "code",
   "execution_count": 0,
   "metadata": {
    "colab": {
     "base_uri": "https://localhost:8080/",
     "height": 34
    },
    "colab_type": "code",
    "executionInfo": {
     "elapsed": 3533,
     "status": "ok",
     "timestamp": 1573020925976,
     "user": {
      "displayName": "bheem kumar",
      "photoUrl": "https://lh3.googleusercontent.com/a-/AAuE7mDCx24nBXj8t-exydQqWCz_3_2Fr8UREB6_UTXj=s64",
      "userId": "16514217920437432713"
     },
     "user_tz": -330
    },
    "id": "-i_8B25C1q6v",
    "outputId": "ad35e22d-5505-45b1-f6ff-931a6a8b6601"
   },
   "outputs": [
    {
     "name": "stdout",
     "output_type": "stream",
     "text": [
      "Output : dict_items([(1, 'Ryan'), (4.23, 46), ('Robert', 53)])\n"
     ]
    }
   ],
   "source": [
    "\"\"\"\n",
    "\n",
    "Create a dictionary with different types of keys and values as given and print it.\n",
    "\n",
    "Input:--\n",
    "\n",
    "    dict1 = {1:'Ryan', 4.23:46, 'Robert':53}\n",
    "\n",
    "Output:--\n",
    "    \n",
    "    dict_items([(1, 'Daini'), (4.23, 46), ('Robert', 53)])\n",
    "\n",
    "\"\"\"\n",
    "\n",
    "dict1 = {1:'Ryan', 4.23:46, 'Robert':53}\n",
    "print('Output :', dict1.items())"
   ]
  },
  {
   "cell_type": "code",
   "execution_count": 0,
   "metadata": {
    "colab": {
     "base_uri": "https://localhost:8080/",
     "height": 34
    },
    "colab_type": "code",
    "executionInfo": {
     "elapsed": 3519,
     "status": "ok",
     "timestamp": 1573020925976,
     "user": {
      "displayName": "bheem kumar",
      "photoUrl": "https://lh3.googleusercontent.com/a-/AAuE7mDCx24nBXj8t-exydQqWCz_3_2Fr8UREB6_UTXj=s64",
      "userId": "16514217920437432713"
     },
     "user_tz": -330
    },
    "id": "3upPPZ2T1q6x",
    "outputId": "d8bce710-7b63-4943-d6f8-ead5c35ca4db"
   },
   "outputs": [
    {
     "name": "stdout",
     "output_type": "stream",
     "text": [
      "Output : Number of items in given dictionary is  5\n"
     ]
    }
   ],
   "source": [
    "\"\"\"\n",
    "\n",
    "Count the number of items in given dictionary.\n",
    "\n",
    "Input:--\n",
    "    \n",
    "    dict1 = {'Tony':64, 'Eliza':33, 'Peter':87, 'Sam':89, 'Rihana':39}\n",
    "\n",
    "Output:--\n",
    "    \n",
    "    Number of items in given dictionary is 5\n",
    "\n",
    "\"\"\"\n",
    "\n",
    "dict1 = {'Tony':64, 'Eliza':33, 'Peter':87, 'Sam':89, 'Rihana':39}\n",
    "print('Output : Number of items in given dictionary is ', len(dict1))"
   ]
  },
  {
   "cell_type": "code",
   "execution_count": 0,
   "metadata": {
    "colab": {
     "base_uri": "https://localhost:8080/",
     "height": 34
    },
    "colab_type": "code",
    "executionInfo": {
     "elapsed": 3503,
     "status": "ok",
     "timestamp": 1573020925977,
     "user": {
      "displayName": "bheem kumar",
      "photoUrl": "https://lh3.googleusercontent.com/a-/AAuE7mDCx24nBXj8t-exydQqWCz_3_2Fr8UREB6_UTXj=s64",
      "userId": "16514217920437432713"
     },
     "user_tz": -330
    },
    "id": "-HSLDWah1q6z",
    "outputId": "41fb3f8b-0e8c-4317-863e-9cb52fec3403"
   },
   "outputs": [
    {
     "name": "stdout",
     "output_type": "stream",
     "text": [
      "Output : dict_keys(['Tony', 'Eliza', 'Peter', 'Sam', 'Rihana'])\n"
     ]
    }
   ],
   "source": [
    "\"\"\"\n",
    "\n",
    "Print the keys of given dictionary.\n",
    "\n",
    "Input:--\n",
    "    \n",
    "    dict1 = {'Tony':64, 'Eliza':33, 'Peter':87, 'Sam':89, 'Rihana':39}\n",
    "\n",
    "Output:--\n",
    "    \n",
    "    dict_keys(['Tony', 'Eliza', 'Peter', 'Sam', 'Rihana'])\n",
    "\n",
    "\"\"\"\n",
    "\n",
    "dict1 = {'Tony':64, 'Eliza':33, 'Peter':87, 'Sam':89, 'Rihana':39}\n",
    "print('Output :', dict1.keys())"
   ]
  },
  {
   "cell_type": "code",
   "execution_count": 0,
   "metadata": {
    "colab": {
     "base_uri": "https://localhost:8080/",
     "height": 34
    },
    "colab_type": "code",
    "executionInfo": {
     "elapsed": 3488,
     "status": "ok",
     "timestamp": 1573020925977,
     "user": {
      "displayName": "bheem kumar",
      "photoUrl": "https://lh3.googleusercontent.com/a-/AAuE7mDCx24nBXj8t-exydQqWCz_3_2Fr8UREB6_UTXj=s64",
      "userId": "16514217920437432713"
     },
     "user_tz": -330
    },
    "id": "TF0oiODA1q61",
    "outputId": "1e7dbd3a-b8ab-4e0a-d729-e1b2032f17a2"
   },
   "outputs": [
    {
     "name": "stdout",
     "output_type": "stream",
     "text": [
      "Output : dict_values([64, 33, 87, 89, 39])\n"
     ]
    }
   ],
   "source": [
    "\"\"\"\n",
    "\n",
    "Print the values of given dictionary.\n",
    "\n",
    "Input:--\n",
    "    \n",
    "    dict1 = {'Tony':64, 'Eliza':33, 'Peter':87, 'Sam':89, 'Rihana':39}\n",
    "\n",
    "Output:--\n",
    "    \n",
    "    dict_values([64, 33, 87, 89, 39])\n",
    "\n",
    "\"\"\"\n",
    "\n",
    "dict1 = {'Tony':64, 'Eliza':33, 'Peter':87, 'Sam':89, 'Rihana':39}\n",
    "print('Output :', dict1.values())"
   ]
  },
  {
   "cell_type": "code",
   "execution_count": 0,
   "metadata": {
    "colab": {
     "base_uri": "https://localhost:8080/",
     "height": 34
    },
    "colab_type": "code",
    "executionInfo": {
     "elapsed": 3475,
     "status": "ok",
     "timestamp": 1573020925978,
     "user": {
      "displayName": "bheem kumar",
      "photoUrl": "https://lh3.googleusercontent.com/a-/AAuE7mDCx24nBXj8t-exydQqWCz_3_2Fr8UREB6_UTXj=s64",
      "userId": "16514217920437432713"
     },
     "user_tz": -330
    },
    "id": "TcVsbGG-1q63",
    "outputId": "de81403b-00ef-4131-a3c0-2ebb603bcdfa"
   },
   "outputs": [
    {
     "name": "stdout",
     "output_type": "stream",
     "text": [
      "Output : Marks of Peter is 87\n"
     ]
    }
   ],
   "source": [
    "\"\"\"\n",
    "\n",
    "Print the marks of 'Peter' of given dictionary using built-in method 'get()'.\n",
    "\n",
    "Input:--\n",
    "\n",
    "    dict1 = {'Tony':64, 'Eliza':33, 'Peter':87, 'Sam':89, 'Rihana':39}\n",
    "\n",
    "Output:--\n",
    "    \n",
    "    Marks of Peter is 87\n",
    "\n",
    "\"\"\"\n",
    "\n",
    "dict1 = {'Tony':64, 'Eliza':33, 'Peter':87, 'Sam':89, 'Rihana':39}\n",
    "print('Output : Marks of Peter is', dict1.get('Peter'))"
   ]
  },
  {
   "cell_type": "code",
   "execution_count": 0,
   "metadata": {
    "colab": {
     "base_uri": "https://localhost:8080/",
     "height": 34
    },
    "colab_type": "code",
    "executionInfo": {
     "elapsed": 3461,
     "status": "ok",
     "timestamp": 1573020925978,
     "user": {
      "displayName": "bheem kumar",
      "photoUrl": "https://lh3.googleusercontent.com/a-/AAuE7mDCx24nBXj8t-exydQqWCz_3_2Fr8UREB6_UTXj=s64",
      "userId": "16514217920437432713"
     },
     "user_tz": -330
    },
    "id": "Q2ktRMnM1q65",
    "outputId": "48856d16-ffeb-49bd-de8a-123fcab2a291"
   },
   "outputs": [
    {
     "name": "stdout",
     "output_type": "stream",
     "text": [
      "Output : Marks of Peter is 87\n"
     ]
    }
   ],
   "source": [
    "\"\"\"\n",
    "\n",
    "Print the marks of Peter of given dictionary without using built-in method 'get()'.\n",
    "\n",
    "Input:--\n",
    "    \n",
    "    dict1 = {'Tony':64, 'Eliza':33, 'Peter':87, 'Sam':89, 'Rihana':39}\n",
    "\n",
    "Output:--\n",
    "    \n",
    "    87\n",
    "\n",
    "\"\"\"\n",
    "\n",
    "dict1 = {'Tony':64, 'Eliza':33, 'Peter':87, 'Sam':89, 'Rihana':39}\n",
    "print('Output : Marks of Peter is',dict1['Peter'])\n",
    "                      "
   ]
  },
  {
   "cell_type": "code",
   "execution_count": 0,
   "metadata": {
    "colab": {
     "base_uri": "https://localhost:8080/",
     "height": 34
    },
    "colab_type": "code",
    "executionInfo": {
     "elapsed": 3447,
     "status": "ok",
     "timestamp": 1573020925979,
     "user": {
      "displayName": "bheem kumar",
      "photoUrl": "https://lh3.googleusercontent.com/a-/AAuE7mDCx24nBXj8t-exydQqWCz_3_2Fr8UREB6_UTXj=s64",
      "userId": "16514217920437432713"
     },
     "user_tz": -330
    },
    "id": "C5-pBMWI1q68",
    "outputId": "66bc300c-5375-4942-fb42-82ed54af7af3"
   },
   "outputs": [
    {
     "name": "stdout",
     "output_type": "stream",
     "text": [
      "Output : {'Tony': 64, 'Eliza': 33, 'Peter': 87, 'Sam': 89, 'Rihana': 39, 'Michel': 88}\n"
     ]
    }
   ],
   "source": [
    "\"\"\"\n",
    "\n",
    "Insert an item {'Michel':88} into given dictionary using built-in method 'update()'.\n",
    "\n",
    "Input:--\n",
    "     \n",
    "    dict1 = {'Tony':64, 'Eliza':33, 'Peter':87, 'Sam':89, 'Rihana':39}\n",
    "\n",
    "Output:--\n",
    "    \n",
    "    {'Tony': 64, 'Eliza': 33, 'Peter': 87, 'Sam': 89, 'Rihana': 39, 'Michel': 88}\n",
    "\n",
    "\"\"\"\n",
    "\n",
    "dict1 = {'Tony':64, 'Eliza':33, 'Peter':87, 'Sam':89, 'Rihana':39}\n",
    "dict1.update({'Michel':88})\n",
    "print('Output :', dict1)\n",
    "                      "
   ]
  },
  {
   "cell_type": "code",
   "execution_count": 0,
   "metadata": {
    "colab": {
     "base_uri": "https://localhost:8080/",
     "height": 34
    },
    "colab_type": "code",
    "executionInfo": {
     "elapsed": 3432,
     "status": "ok",
     "timestamp": 1573020925979,
     "user": {
      "displayName": "bheem kumar",
      "photoUrl": "https://lh3.googleusercontent.com/a-/AAuE7mDCx24nBXj8t-exydQqWCz_3_2Fr8UREB6_UTXj=s64",
      "userId": "16514217920437432713"
     },
     "user_tz": -330
    },
    "id": "sLt13sQK1q6-",
    "outputId": "e7027ae7-3a1f-4a56-f568-dc6062fb7c9a"
   },
   "outputs": [
    {
     "name": "stdout",
     "output_type": "stream",
     "text": [
      "Output : {'Tony': 64, 'Eliza': 33, 'Peter': 87, 'Sam': 89, 'Rihana': 39, 'Michel': 88}\n"
     ]
    }
   ],
   "source": [
    "\"\"\"\n",
    "\n",
    "Insert an item {'Michel':88} into given dictionary without using built-in method 'update()'.\n",
    "\n",
    "Input:--\n",
    "    \n",
    "    dict1 = {'Tony':64, 'Eliza':33, 'Peter':87, 'Sam':89, 'Rihana':39}\n",
    "\n",
    "Output:--\n",
    "    \n",
    "    {'Tony': 64, 'Eliza': 33, 'Peter': 87, 'Sam': 89, 'Rihana': 39, 'Michel': 88}\n",
    "\n",
    "\"\"\"\n",
    "\n",
    "dict1 = {'Tony':64, 'Eliza':33, 'Peter':87, 'Sam':89, 'Rihana':39}\n",
    "dict1['Michel'] = 88\n",
    "print('Output :', dict1)\n",
    "                      "
   ]
  },
  {
   "cell_type": "code",
   "execution_count": 0,
   "metadata": {
    "colab": {
     "base_uri": "https://localhost:8080/",
     "height": 85
    },
    "colab_type": "code",
    "executionInfo": {
     "elapsed": 3419,
     "status": "ok",
     "timestamp": 1573020925980,
     "user": {
      "displayName": "bheem kumar",
      "photoUrl": "https://lh3.googleusercontent.com/a-/AAuE7mDCx24nBXj8t-exydQqWCz_3_2Fr8UREB6_UTXj=s64",
      "userId": "16514217920437432713"
     },
     "user_tz": -330
    },
    "id": "rvZXSmXG1q7C",
    "outputId": "c02fa018-1073-4584-992a-6aedebf820cc"
   },
   "outputs": [
    {
     "name": "stdout",
     "output_type": "stream",
     "text": [
      "Output :--\n",
      "\n",
      " Befor update dict1 =  {'Tony': 64, 'Eliza': 33, 'Peter': 87, 'Sam': 89, 'Rihana': 39}\n",
      " After update dict1 =  {'Tony': 64, 'Eliza': 33, 'Peter': 87, 'Sam': 90, 'Rihana': 39}\n"
     ]
    }
   ],
   "source": [
    "\"\"\"\n",
    "\n",
    "Replace the marks of Sam with 90 in given dictionary using built-in method 'update()'.\n",
    "\n",
    "Input:--\n",
    "    \n",
    "    dict1 = {'Tony':64, 'Eliza':33, 'Peter':87, 'Sam':89, 'Rihana':39}\n",
    "\n",
    "Outputs:--\n",
    "    \n",
    "    Befor update dict1 =  {'Tony': 64, 'Eliza': 33, 'Peter': 87, 'Sam': 89, 'Rihana': 39}\n",
    "    After update dict1 =  {'Tony': 64, 'Eliza': 33, 'Peter': 87, 'Sam': 90, 'Rihana': 39}\n",
    "    \n",
    "\"\"\"\n",
    "\n",
    "dict1 = {'Tony':64, 'Eliza':33, 'Peter':87, 'Sam':89, 'Rihana':39}\n",
    "print(\"Output :--\\n\\n Befor update dict1 = \", dict1)\n",
    "dict1.update({'Sam':90})\n",
    "print(\" After update dict1 = \", dict1)"
   ]
  },
  {
   "cell_type": "code",
   "execution_count": 0,
   "metadata": {
    "colab": {
     "base_uri": "https://localhost:8080/",
     "height": 85
    },
    "colab_type": "code",
    "executionInfo": {
     "elapsed": 3402,
     "status": "ok",
     "timestamp": 1573020925980,
     "user": {
      "displayName": "bheem kumar",
      "photoUrl": "https://lh3.googleusercontent.com/a-/AAuE7mDCx24nBXj8t-exydQqWCz_3_2Fr8UREB6_UTXj=s64",
      "userId": "16514217920437432713"
     },
     "user_tz": -330
    },
    "id": "sTJIP2e61q7A",
    "outputId": "ac664e54-2a4c-44f2-c222-f196a2c9c49d"
   },
   "outputs": [
    {
     "name": "stdout",
     "output_type": "stream",
     "text": [
      "Output :--\n",
      "\n",
      " Befor update dict1 =  {'Tony': 64, 'Eliza': 33, 'Peter': 87, 'Sam': 89, 'Rihana': 39}\n",
      " After update dict1 =  {'Tony': 30, 'Eliza': 33, 'Peter': 87, 'Sam': 89, 'Rihana': 39}\n"
     ]
    }
   ],
   "source": [
    "\"\"\"\n",
    "\n",
    "Replace the marks of Tony with 30 in given dictionary without using built-in method 'update()'.\n",
    "\n",
    "Input:--\n",
    "    \n",
    "    dict1 = {'Tony':64, 'Eliza':33, 'Peter':87, 'Sam':89, 'Rihana':39}\n",
    "\n",
    "Output:--\n",
    "    \n",
    "    {'Tony': 30, 'Eliza': 33, 'Peter': 87, 'Sam': 89, 'Rihana': 39}\n",
    "\n",
    "\"\"\"\n",
    "\n",
    "dict1 = {'Tony':64, 'Eliza':33, 'Peter':87, 'Sam':89, 'Rihana':39}\n",
    "print(\"Output :--\\n\\n Befor update dict1 = \", dict1)\n",
    "dict1['Tony'] = 30\n",
    "print(\" After update dict1 = \", dict1)"
   ]
  },
  {
   "cell_type": "code",
   "execution_count": 0,
   "metadata": {
    "colab": {
     "base_uri": "https://localhost:8080/",
     "height": 34
    },
    "colab_type": "code",
    "executionInfo": {
     "elapsed": 3389,
     "status": "ok",
     "timestamp": 1573020925981,
     "user": {
      "displayName": "bheem kumar",
      "photoUrl": "https://lh3.googleusercontent.com/a-/AAuE7mDCx24nBXj8t-exydQqWCz_3_2Fr8UREB6_UTXj=s64",
      "userId": "16514217920437432713"
     },
     "user_tz": -330
    },
    "id": "ZNZvh_R91q7E",
    "outputId": "bcdfb610-d86f-4102-d65b-0e6ac6ca79db"
   },
   "outputs": [
    {
     "name": "stdout",
     "output_type": "stream",
     "text": [
      "Output : {'Tony': 64, 'Eliza': 33, 'Peter': 87, 'Sam': 89, 'Rihana': 39}\n"
     ]
    }
   ],
   "source": [
    "\"\"\"\n",
    "\n",
    "Copy the given dictionary into other variable using built-in method 'copy()'.\n",
    "\n",
    "NOTE:- When we use 'copy()' method, it doesn't affect dict2 if we do any updation in dict1.\n",
    "where as when we use only '=' operator affects both dict1 and dict2 if we do any updation in dict1 or dict2.\n",
    "\n",
    "Input:--\n",
    "    \n",
    "    dict1 = {'Tony':64, 'Eliza':33, 'Peter':87, 'Sam':89, 'Rihana':39}\n",
    "\n",
    "Output:--\n",
    "    \n",
    "    {'Tony':64, 'Eliza':33, 'Peter':87, 'Sam':89, 'Rihana':39}\n",
    "\n",
    "\"\"\"\n",
    "\n",
    "dict1 = {'Tony':64, 'Eliza':33, 'Peter':87, 'Sam':89, 'Rihana':39}\n",
    "dict2 = dict1.copy()\n",
    "print('Output :', dict2)"
   ]
  },
  {
   "cell_type": "code",
   "execution_count": 0,
   "metadata": {
    "colab": {
     "base_uri": "https://localhost:8080/",
     "height": 85
    },
    "colab_type": "code",
    "executionInfo": {
     "elapsed": 3374,
     "status": "ok",
     "timestamp": 1573020925981,
     "user": {
      "displayName": "bheem kumar",
      "photoUrl": "https://lh3.googleusercontent.com/a-/AAuE7mDCx24nBXj8t-exydQqWCz_3_2Fr8UREB6_UTXj=s64",
      "userId": "16514217920437432713"
     },
     "user_tz": -330
    },
    "id": "dCSxZQ-X1q7H",
    "outputId": "449e9ada-dd47-40fc-ed54-36a7f91a4d72"
   },
   "outputs": [
    {
     "name": "stdout",
     "output_type": "stream",
     "text": [
      "Outputs:--\n",
      "\n",
      "Before pop dict1 : {'Tony': 64, 'Eliza': 33, 'Peter': 87, 'Sam': 89, 'Rihana': 39}\n",
      "After  pop dict1 : {'Tony': 64, 'Eliza': 33, 'Peter': 87, 'Sam': 89}\n"
     ]
    }
   ],
   "source": [
    "\"\"\"\n",
    "Remove the last item from bottom of dict1.\n",
    "\n",
    "NOTE:-The popitem() method removes the item that was last inserted into the dictionary. \n",
    "In versions before 3.7, the popitem() method removes a random item. \n",
    "The removed item is the return value by popitem().\n",
    "\n",
    "Input:--\n",
    "    \n",
    "    dict1 = {'Tony':64, 'Eliza':33, 'Peter':87, 'Sam':89, 'Rihana':39}\n",
    "\n",
    "Output:--\n",
    "    \n",
    "    Before pop dict1 : {'Tony': 64, 'Eliza': 33, 'Peter': 87, 'Sam': 89, 'Rihana': 39}\n",
    "    After  pop dict1  : {'Tony': 64, 'Eliza': 33, 'Peter': 87, 'Sam': 89}\n",
    "    \n",
    "\"\"\"\n",
    "\n",
    "dict1 = {'Tony':64, 'Eliza':33, 'Peter':87, 'Sam':89, 'Rihana':39}\n",
    "print('Outputs:--\\n\\nBefore pop dict1 :', dict1)\n",
    "\n",
    "dict1.popitem()\n",
    "print('After  pop dict1 :', dict1)"
   ]
  },
  {
   "cell_type": "code",
   "execution_count": 0,
   "metadata": {
    "colab": {
     "base_uri": "https://localhost:8080/",
     "height": 85
    },
    "colab_type": "code",
    "executionInfo": {
     "elapsed": 3362,
     "status": "ok",
     "timestamp": 1573020925982,
     "user": {
      "displayName": "bheem kumar",
      "photoUrl": "https://lh3.googleusercontent.com/a-/AAuE7mDCx24nBXj8t-exydQqWCz_3_2Fr8UREB6_UTXj=s64",
      "userId": "16514217920437432713"
     },
     "user_tz": -330
    },
    "id": "cexcRgq-1q7J",
    "outputId": "deb2f424-6a06-432e-aacc-f76c060f5676"
   },
   "outputs": [
    {
     "name": "stdout",
     "output_type": "stream",
     "text": [
      "Outputs:--\n",
      "\n",
      "Before pop dict1 : {'Tony': 64, 'Eliza': 33, 'Peter': 87, 'Sam': 89, 'Rihana': 39}\n",
      "After  pop dict1 : {'Tony': 64, 'Peter': 87, 'Sam': 89, 'Rihana': 39}\n"
     ]
    }
   ],
   "source": [
    "\"\"\"\n",
    "\n",
    "Remove the item 'Eliza' from dictionary.\n",
    "\n",
    "Input:--\n",
    "     \n",
    "    dict1 = {'Tony':64, 'Eliza':33, 'Peter':87, 'Sam':89, 'Rihana':39}\n",
    "\n",
    "Output:--\n",
    "    \n",
    "    Before pop dict1 : {'Tony': 64, 'Eliza': 33, 'Peter': 87, 'Sam': 89, 'Rihana': 39}\n",
    "    After  pop dict1 : {'Tony': 64, 'Peter': 87, 'Sam': 89, 'Rihana': 39}\n",
    "\n",
    "\"\"\"\n",
    "\n",
    "dict1 = {'Tony':64, 'Eliza':33, 'Peter':87, 'Sam':89, 'Rihana':39}\n",
    "print('Outputs:--\\n\\nBefore pop dict1 :', dict1)\n",
    "\n",
    "dict1.pop('Eliza')\n",
    "print('After  pop dict1 :', dict1)"
   ]
  },
  {
   "cell_type": "code",
   "execution_count": 0,
   "metadata": {
    "colab": {
     "base_uri": "https://localhost:8080/",
     "height": 85
    },
    "colab_type": "code",
    "executionInfo": {
     "elapsed": 3347,
     "status": "ok",
     "timestamp": 1573020925982,
     "user": {
      "displayName": "bheem kumar",
      "photoUrl": "https://lh3.googleusercontent.com/a-/AAuE7mDCx24nBXj8t-exydQqWCz_3_2Fr8UREB6_UTXj=s64",
      "userId": "16514217920437432713"
     },
     "user_tz": -330
    },
    "id": "0gIZm3S41q7L",
    "outputId": "3ab879e9-6db1-4bc9-acf9-3fdf1f3e46c9"
   },
   "outputs": [
    {
     "name": "stdout",
     "output_type": "stream",
     "text": [
      "Outputs:--\n",
      "\n",
      "Before pop dict1 : {'Tony': 64, 'Eliza': 33, 'Peter': 87, 'Sam': 89, 'Rihana': 39}\n",
      "After  pop dict1 : {'Eliza': 33, 'Peter': 87, 'Sam': 89, 'Rihana': 39}\n"
     ]
    }
   ],
   "source": [
    "\"\"\"\n",
    "\n",
    "Remove the item 'Tony' using del function of given dictionary.\n",
    "\n",
    "Input:--\n",
    "    \n",
    "    {'Tony':64, 'Eliza':33, 'Peter':87, 'Sam':89, 'Rihana':39}\n",
    "\n",
    "Output:--\n",
    "    \n",
    "    Before pop dict1 : {'Tony': 64, 'Eliza': 33, 'Peter': 87, 'Sam': 89, 'Rihana': 39}\n",
    "    After  pop dict1 : {'Eliza': 33, 'Peter': 87, 'Sam': 89, 'Rihana': 39}\n",
    "\n",
    "\"\"\"\n",
    "\n",
    "dict1 = {'Tony':64, 'Eliza':33, 'Peter':87, 'Sam':89, 'Rihana':39}\n",
    "\n",
    "print('Outputs:--\\n\\nBefore pop dict1 :', dict1)\n",
    "del dict1['Tony']\n",
    "print('After  pop dict1 :', dict1)"
   ]
  },
  {
   "cell_type": "code",
   "execution_count": 0,
   "metadata": {
    "colab": {
     "base_uri": "https://localhost:8080/",
     "height": 85
    },
    "colab_type": "code",
    "executionInfo": {
     "elapsed": 3333,
     "status": "ok",
     "timestamp": 1573020925982,
     "user": {
      "displayName": "bheem kumar",
      "photoUrl": "https://lh3.googleusercontent.com/a-/AAuE7mDCx24nBXj8t-exydQqWCz_3_2Fr8UREB6_UTXj=s64",
      "userId": "16514217920437432713"
     },
     "user_tz": -330
    },
    "id": "sJCNu-WZ1q7P",
    "outputId": "5006816a-8fcb-4325-9cc3-f792c608e693"
   },
   "outputs": [
    {
     "name": "stdout",
     "output_type": "stream",
     "text": [
      "Outputs:--\n",
      "\n",
      "Before pop dict1 : {'Tony': 64, 'Eliza': 33, 'Peter': 87, 'Sam': 89, 'Rihana': 39}\n",
      "After  pop dict1 : {}\n"
     ]
    }
   ],
   "source": [
    "\"\"\"\n",
    "\n",
    "Remove all the items from geven dictionary.\n",
    "\n",
    "Input:--\n",
    "    \n",
    "    {'Tony':64, 'Eliza':33, 'Peter':87, 'Sam':89, 'Rihana':39}\n",
    "\n",
    "Output:--  \n",
    "    \n",
    "    {}\n",
    "    \n",
    "\"\"\"\n",
    "\n",
    "dict1 = {'Tony':64, 'Eliza':33, 'Peter':87, 'Sam':89, 'Rihana':39}\n",
    "\n",
    "print('Outputs:--\\n\\nBefore pop dict1 :', dict1)\n",
    "dict1.clear()\n",
    "print('After  pop dict1 :', dict1)"
   ]
  },
  {
   "cell_type": "code",
   "execution_count": 0,
   "metadata": {
    "colab": {
     "base_uri": "https://localhost:8080/",
     "height": 34
    },
    "colab_type": "code",
    "executionInfo": {
     "elapsed": 3318,
     "status": "ok",
     "timestamp": 1573020925983,
     "user": {
      "displayName": "bheem kumar",
      "photoUrl": "https://lh3.googleusercontent.com/a-/AAuE7mDCx24nBXj8t-exydQqWCz_3_2Fr8UREB6_UTXj=s64",
      "userId": "16514217920437432713"
     },
     "user_tz": -330
    },
    "id": "FYlzmMdX1q7R",
    "outputId": "33b47590-1050-4dc3-8757-c21295038fc6"
   },
   "outputs": [
    {
     "name": "stdout",
     "output_type": "stream",
     "text": [
      "Output1: {'k': None, 'e': None, 'y': None, 's': None}\n"
     ]
    }
   ],
   "source": [
    "\"\"\"\n",
    "\n",
    "Create a dictionary using 'fromkeys' function where sequence of 1st \n",
    "parameter is used as keys and 2nd parameter will be values for every keys.\n",
    "\n",
    "NOTE:- The second parameter is optional, if you not use 2nd parameter\n",
    "the values of keys will be 'None'\n",
    "\n",
    "Input:--\n",
    "    \n",
    "    dict1 =  'keys'\n",
    "\n",
    "Output:--\n",
    "    \n",
    "    {'k': None, 'e': None, 'y': None, 's': None}\n",
    "\n",
    "\"\"\"\n",
    "\n",
    "dict1 = 'keys'\n",
    "\n",
    "print('Output1:', dict.fromkeys(dict1))"
   ]
  },
  {
   "cell_type": "code",
   "execution_count": 0,
   "metadata": {
    "colab": {
     "base_uri": "https://localhost:8080/",
     "height": 34
    },
    "colab_type": "code",
    "executionInfo": {
     "elapsed": 3304,
     "status": "ok",
     "timestamp": 1573020925983,
     "user": {
      "displayName": "bheem kumar",
      "photoUrl": "https://lh3.googleusercontent.com/a-/AAuE7mDCx24nBXj8t-exydQqWCz_3_2Fr8UREB6_UTXj=s64",
      "userId": "16514217920437432713"
     },
     "user_tz": -330
    },
    "id": "B61PHh-7HjvZ",
    "outputId": "9ff08d3b-f6b8-422f-b76a-fe11a0811f00"
   },
   "outputs": [
    {
     "name": "stdout",
     "output_type": "stream",
     "text": [
      "Output1: {'k': 'Values', 'e': 'Values', 'y': 'Values', 's': 'Values'}\n"
     ]
    }
   ],
   "source": [
    "\"\"\"\n",
    "\n",
    "Create a dictionary using fromkeys function where sequence of 1st \n",
    "parameter is used as keys and 2nd parameter will be values for every keys.\n",
    "\n",
    "NOTE:- The second parameter is optional, if you not use 2nd parameter\n",
    "the values of keys will be 'None'\n",
    "\n",
    "Input:--\n",
    "    \n",
    "    dict1 = 'keys'\n",
    "\n",
    "Output1:--\n",
    "\n",
    "    {'k': 'Values', 'e': 'Values', 'y': 'Values', 's': 'Values'}\n",
    "\n",
    "\"\"\"\n",
    "\n",
    "dict1 = 'keys'\n",
    "\n",
    "print('Output1:',dict.fromkeys(dict1, 'Values'))\n"
   ]
  },
  {
   "cell_type": "code",
   "execution_count": 0,
   "metadata": {
    "colab": {
     "base_uri": "https://localhost:8080/",
     "height": 85
    },
    "colab_type": "code",
    "executionInfo": {
     "elapsed": 3291,
     "status": "ok",
     "timestamp": 1573020925984,
     "user": {
      "displayName": "bheem kumar",
      "photoUrl": "https://lh3.googleusercontent.com/a-/AAuE7mDCx24nBXj8t-exydQqWCz_3_2Fr8UREB6_UTXj=s64",
      "userId": "16514217920437432713"
     },
     "user_tz": -330
    },
    "id": "3MKz8Bx11q7V",
    "outputId": "04e34ca0-1719-4c00-90d1-cf7cafc1c384"
   },
   "outputs": [
    {
     "name": "stdout",
     "output_type": "stream",
     "text": [
      "Outputs:--\n",
      "\n",
      "Before setdefault dict1 : {'Tony': 64, 'Eliza': 33, 'Peter': 87, 'Sam': 89, 'Rihana': 39}\n",
      "After  setdefault dict1 : {'Tony': 64, 'Eliza': 33, 'Peter': 87, 'Sam': 89, 'Rihana': 39, 'Michel': None}\n"
     ]
    }
   ],
   "source": [
    "\"\"\"\n",
    "\n",
    "Print the given dictionary by using 'built-in' setdefault method where default key is 'Michel'.\n",
    "\n",
    "NOTE:- If 'Michel' alrady exist it will not be iserted in dictionary.\n",
    "\n",
    "Input:--\n",
    "    \n",
    "    dict1 = {'Tony':64, 'Eliza':33, 'Peter':87, 'Sam':89, 'Rihana':39}\n",
    "    \n",
    "Output:--\n",
    "    \n",
    "    {'Tony': 64, 'Eliza': 33, 'Peter': 87, 'Sam': 89, 'Rihana': 39, 'Michel': None}\n",
    "\n",
    "\"\"\"\n",
    "\n",
    "dict1 = {'Tony':64, 'Eliza':33, 'Peter':87, 'Sam':89, 'Rihana':39}\n",
    "print('Outputs:--\\n\\nBefore setdefault dict1 :', dict1)\n",
    "\n",
    "dict1.setdefault('Michel')\n",
    "print('After  setdefault dict1 :', dict1)"
   ]
  },
  {
   "cell_type": "code",
   "execution_count": 0,
   "metadata": {
    "colab": {
     "base_uri": "https://localhost:8080/",
     "height": 85
    },
    "colab_type": "code",
    "executionInfo": {
     "elapsed": 3276,
     "status": "ok",
     "timestamp": 1573020925984,
     "user": {
      "displayName": "bheem kumar",
      "photoUrl": "https://lh3.googleusercontent.com/a-/AAuE7mDCx24nBXj8t-exydQqWCz_3_2Fr8UREB6_UTXj=s64",
      "userId": "16514217920437432713"
     },
     "user_tz": -330
    },
    "id": "XK8n6E6aKCGS",
    "outputId": "0b99b75e-0c39-4c0c-9c53-3764d8981240"
   },
   "outputs": [
    {
     "name": "stdout",
     "output_type": "stream",
     "text": [
      "Outputs:--\n",
      "\n",
      "Before setdefault dict1 : {'Tony': 64, 'Eliza': 33, 'Peter': 87, 'Sam': 89, 'Rihana': 39, 'Michel': 89}\n",
      "After  setdefault dict1 : {'Tony': 64, 'Eliza': 33, 'Peter': 87, 'Sam': 89, 'Rihana': 39, 'Michel': 89}\n"
     ]
    }
   ],
   "source": [
    "\"\"\"\n",
    "\n",
    "Print the given dictionary by using 'built-in' setdefault method where default key is 'Michel'.\n",
    "\n",
    "NOTE:- If 'Michel' alrady exist it will not be iserted in dictionary.\n",
    "\n",
    "Input:--\n",
    "    \n",
    "    dict1 = {'Tony': 64, 'Eliza': 33, 'Peter': 87, 'Sam': 89, 'Rihana': 39, 'Michel': 89}\n",
    "\n",
    "Output:--\n",
    "    \n",
    "    {'Tony': 64, 'Eliza': 33, 'Peter': 87, 'Sam': 89, 'Rihana': 39, 'Michel': 89}\n",
    "\n",
    "\"\"\"\n",
    "\n",
    "dict1 = {'Tony': 64, 'Eliza': 33, 'Peter': 87, 'Sam': 89, 'Rihana': 39, 'Michel': 89}\n",
    "print('Outputs:--\\n\\nBefore setdefault dict1 :', dict1)\n",
    "\n",
    "dict1.setdefault('Michel', 56)\n",
    "print('After  setdefault dict1 :', dict1)"
   ]
  },
  {
   "cell_type": "code",
   "execution_count": 0,
   "metadata": {
    "colab": {
     "base_uri": "https://localhost:8080/",
     "height": 34
    },
    "colab_type": "code",
    "executionInfo": {
     "elapsed": 3263,
     "status": "ok",
     "timestamp": 1573020925985,
     "user": {
      "displayName": "bheem kumar",
      "photoUrl": "https://lh3.googleusercontent.com/a-/AAuE7mDCx24nBXj8t-exydQqWCz_3_2Fr8UREB6_UTXj=s64",
      "userId": "16514217920437432713"
     },
     "user_tz": -330
    },
    "id": "KtNri0xj1q7X",
    "outputId": "39bef013-f9b6-4e0c-fa8b-d406eca0b987"
   },
   "outputs": [
    {
     "name": "stdout",
     "output_type": "stream",
     "text": [
      "Output : {'Tony': 64, 'Eliza': 33, 'Peter': 87, 'Sam': 89, 'Rihana': 39}\n"
     ]
    }
   ],
   "source": [
    "\"\"\"\n",
    "\n",
    "Merge the two given dictionaries.\n",
    "\n",
    "Inputs:--\n",
    "    \n",
    "    dict1 = {'Tony':64, 'Eliza':33}\n",
    "    dict2 = {'Peter':87, 'Sam':89, 'Rihana': 39}\n",
    "\n",
    "Output:--\n",
    "    \n",
    "    {'Tony': 30, 'Eliza': 33, 'Peter': 87, 'Sam': 89, 'Rihana': 39}\n",
    "\n",
    "\"\"\"\n",
    "\n",
    "dict1 = {'Tony':64, 'Eliza':33}\n",
    "dcit2 = {'Peter':87, 'Sam':89, 'Rihana': 39}\n",
    "\n",
    "dict1.update(dict2)\n",
    "print('Output :' ,dict1)"
   ]
  },
  {
   "cell_type": "code",
   "execution_count": 0,
   "metadata": {
    "colab": {
     "base_uri": "https://localhost:8080/",
     "height": 34
    },
    "colab_type": "code",
    "executionInfo": {
     "elapsed": 3247,
     "status": "ok",
     "timestamp": 1573020925985,
     "user": {
      "displayName": "bheem kumar",
      "photoUrl": "https://lh3.googleusercontent.com/a-/AAuE7mDCx24nBXj8t-exydQqWCz_3_2Fr8UREB6_UTXj=s64",
      "userId": "16514217920437432713"
     },
     "user_tz": -330
    },
    "id": "m5kKt5-81q7Z",
    "outputId": "65807011-7f38-405b-d017-0c9c6a3745cd"
   },
   "outputs": [
    {
     "name": "stdout",
     "output_type": "stream",
     "text": [
      "Output : {'Tony': 64, 'Eliza': 33, 'dict2': {'Tony': 64, 'Eliza': 33, 'Peter': 87, 'Sam': 89, 'Rihana': 39}}\n"
     ]
    }
   ],
   "source": [
    "\"\"\"\n",
    "\n",
    "Create a dictionary under a dictionary for given dictionaries.\n",
    "\n",
    "Input1:--\n",
    "    \n",
    "    dict1 = {'Tony':64, 'Eliza':33}\n",
    "    dict2 = {'Peter':87, 'Sam':89, 'Rihana': 39}\n",
    "\n",
    "Output:--\n",
    "    \n",
    "    {'Tony': 64, 'Eliza': 33, 'dict2': {'Tony': 30, 'Eliza': 33, 'Peter': 87, 'Sam': 89, 'Rihana': 39}}\n",
    "\n",
    "\"\"\"\n",
    "\n",
    "dict1 = {'Tony':64, 'Eliza':33}\n",
    "dcit2 = {'Peter':87, 'Sam':89, 'Rihana': 39}\n",
    "\n",
    "dict1['dict2'] = dict2\n",
    "print('Output :' ,dict1)"
   ]
  },
  {
   "cell_type": "code",
   "execution_count": 0,
   "metadata": {
    "colab": {
     "base_uri": "https://localhost:8080/",
     "height": 34
    },
    "colab_type": "code",
    "executionInfo": {
     "elapsed": 3233,
     "status": "ok",
     "timestamp": 1573020925986,
     "user": {
      "displayName": "bheem kumar",
      "photoUrl": "https://lh3.googleusercontent.com/a-/AAuE7mDCx24nBXj8t-exydQqWCz_3_2Fr8UREB6_UTXj=s64",
      "userId": "16514217920437432713"
     },
     "user_tz": -330
    },
    "id": "RgAXkXLqQvK8",
    "outputId": "74c1d9a0-13d4-4724-c34a-20f3d5662238"
   },
   "outputs": [
    {
     "name": "stdout",
     "output_type": "stream",
     "text": [
      "Output : {'Tony': 64, 'Eliza': 33}\n"
     ]
    }
   ],
   "source": [
    "\"\"\"\n",
    "\n",
    "Remove the nested(dict2) dictionary from dict1.\n",
    "\n",
    "Inputs:--\n",
    "    \n",
    "    dict1 = {'Tony': 64, 'Eliza': 33, 'dict2': {'Tony': 30, 'Eliza': 33, 'Peter': 87, 'Sam': 89, 'Rihana': 39}}}\n",
    "\n",
    "Output:--\n",
    "     \n",
    "    {'Tony': 64, 'Eliza': 33}\n",
    "\n",
    "\"\"\"\n",
    "\n",
    "dict1 = {'Tony': 64, 'Eliza': 33, 'dict2': {'Tony': 30, 'Eliza': 33, 'Peter': 87, 'Sam': 89, 'Rihana': 39}}\n",
    "\n",
    "dict1.pop('dict2')\n",
    "\n",
    "# Alternate way\n",
    "# del dict1['dict2']\n",
    "\n",
    "print('Output :', dict1)\n"
   ]
  },
  {
   "cell_type": "code",
   "execution_count": 0,
   "metadata": {
    "colab": {
     "base_uri": "https://localhost:8080/",
     "height": 34
    },
    "colab_type": "code",
    "executionInfo": {
     "elapsed": 3219,
     "status": "ok",
     "timestamp": 1573020925986,
     "user": {
      "displayName": "bheem kumar",
      "photoUrl": "https://lh3.googleusercontent.com/a-/AAuE7mDCx24nBXj8t-exydQqWCz_3_2Fr8UREB6_UTXj=s64",
      "userId": "16514217920437432713"
     },
     "user_tz": -330
    },
    "id": "Ky-k1omrW12x",
    "outputId": "8690be7d-ef5e-481b-f68b-156470d2c981"
   },
   "outputs": [
    {
     "name": "stdout",
     "output_type": "stream",
     "text": [
      "Output : ['Robert', 'Peter', 'Sam', 'Rihana']\n"
     ]
    }
   ],
   "source": [
    "\"\"\"\n",
    "\n",
    "Get the keys of nested(dict2) dictionary in list of given dictionary.\n",
    "\n",
    "Input1:--\n",
    "    \n",
    "    dict1 = {'Tony': 64, 'Eliza': 33, 'dict2': {'Robert': 30, 'Peter': 87, 'Sam': 89, 'Rihana': 39}}\n",
    "  \n",
    "Output:--\n",
    "    \n",
    "    dict_keys(['Robert', 'Peter', 'Sam', 'Rihana'])\n",
    "\n",
    "\"\"\"\n",
    "\n",
    "dict1 = {'Tony': 64, 'Eliza': 33, 'dict2': {'Robert': 30, 'Peter': 87, 'Sam': 89, 'Rihana': 39}}\n",
    "\n",
    "print('Output :', list(dict1['dict2'].keys()))"
   ]
  },
  {
   "cell_type": "code",
   "execution_count": 0,
   "metadata": {
    "colab": {
     "base_uri": "https://localhost:8080/",
     "height": 34
    },
    "colab_type": "code",
    "executionInfo": {
     "elapsed": 3204,
     "status": "ok",
     "timestamp": 1573020925986,
     "user": {
      "displayName": "bheem kumar",
      "photoUrl": "https://lh3.googleusercontent.com/a-/AAuE7mDCx24nBXj8t-exydQqWCz_3_2Fr8UREB6_UTXj=s64",
      "userId": "16514217920437432713"
     },
     "user_tz": -330
    },
    "id": "H6KKlTFjXAY4",
    "outputId": "9546a439-2409-4a55-e76e-e52bada9e29f"
   },
   "outputs": [
    {
     "name": "stdout",
     "output_type": "stream",
     "text": [
      "Output : RobertPeterSamRihana\n"
     ]
    }
   ],
   "source": [
    "\"\"\"\n",
    "\n",
    "Get the keys of nested(dict2) dictionary, concatenate them and make a single string of given dictionary.\n",
    "\n",
    "Input1:--\n",
    "    \n",
    "    dict1 = {'Tony': 64, 'Eliza': 33, 'dict2': {'Robert': 30, 'Peter': 87, 'Sam': 89, 'Rihana': 39}}\n",
    "  \n",
    "Output:--\n",
    "    \n",
    "    RobertPeterSamRihana\n",
    "\n",
    "\"\"\"\n",
    "\n",
    "dict1 = {'Tony': 64, 'Eliza': 33, 'dict2': {'Robert': 30, 'Peter': 87, 'Sam': 89, 'Rihana': 39}}\n",
    "\n",
    "print('Output :', ''.join(dict1['dict2'].keys()))"
   ]
  },
  {
   "cell_type": "code",
   "execution_count": 0,
   "metadata": {
    "colab": {
     "base_uri": "https://localhost:8080/",
     "height": 34
    },
    "colab_type": "code",
    "executionInfo": {
     "elapsed": 3190,
     "status": "ok",
     "timestamp": 1573020925987,
     "user": {
      "displayName": "bheem kumar",
      "photoUrl": "https://lh3.googleusercontent.com/a-/AAuE7mDCx24nBXj8t-exydQqWCz_3_2Fr8UREB6_UTXj=s64",
      "userId": "16514217920437432713"
     },
     "user_tz": -330
    },
    "id": "EtGFfjfJTiMf",
    "outputId": "2706be5e-9ccf-41e5-f546-668bbaab90ed"
   },
   "outputs": [
    {
     "name": "stdout",
     "output_type": "stream",
     "text": [
      "Output : [30, 87, 89, 39]\n"
     ]
    }
   ],
   "source": [
    "\"\"\"\n",
    "\n",
    "Get the values of nested(dict2) dictionary in list of given dictionary.\n",
    "\n",
    "Input1:--\n",
    "    \n",
    "    {'Tony': 64, 'Eliza': 33, 'dict2': {'Robert': 30, 'Peter': 87, 'Sam': 89, 'Rihana': 39}}\n",
    "  \n",
    "Output:--\n",
    "    \n",
    "    [30, 87, 89, 39]\n",
    "\n",
    "\"\"\"\n",
    "\n",
    "dict1 = {'Tony': 64, 'Eliza': 33, 'dict2': {'Robert': 30, 'Peter': 87, 'Sam': 89, 'Rihana': 39}}\n",
    "\n",
    "print('Output :', list(dict1['dict2'].values()))"
   ]
  },
  {
   "cell_type": "code",
   "execution_count": 0,
   "metadata": {
    "colab": {
     "base_uri": "https://localhost:8080/",
     "height": 34
    },
    "colab_type": "code",
    "executionInfo": {
     "elapsed": 3175,
     "status": "ok",
     "timestamp": 1573020925987,
     "user": {
      "displayName": "bheem kumar",
      "photoUrl": "https://lh3.googleusercontent.com/a-/AAuE7mDCx24nBXj8t-exydQqWCz_3_2Fr8UREB6_UTXj=s64",
      "userId": "16514217920437432713"
     },
     "user_tz": -330
    },
    "id": "saTu4BBugSrz",
    "outputId": "e58f535f-c712-4e20-8ace-539f57acbef6"
   },
   "outputs": [
    {
     "name": "stdout",
     "output_type": "stream",
     "text": [
      "Output : {0: 0, 1: 2, 2: 1, 3: 4, 4: 3}\n"
     ]
    }
   ],
   "source": [
    "\"\"\"\n",
    "\n",
    "Write a script to sort a dictionary by key.\n",
    "\n",
    "Input:--\n",
    "\n",
    "    dict1 = {1: 2, 3: 4, 4: 3, 2: 1, 0: 0}\n",
    "\n",
    "Output:--\n",
    "\n",
    "    [(0, 0), (1, 2), (2, 1), (3, 4), (4, 3)]\n",
    "    \n",
    "\"\"\"\n",
    "\n",
    "import operator\n",
    "dict1 = {1: 2, 3: 4, 4: 3, 2: 1, 0: 0}\n",
    "# dict1 = dict(sorted(dict1.items(),key = operator.itemgetter(0)))\n",
    "\n",
    "print('Output :', dict1)"
   ]
  },
  {
   "cell_type": "code",
   "execution_count": 0,
   "metadata": {
    "colab": {
     "base_uri": "https://localhost:8080/",
     "height": 102
    },
    "colab_type": "code",
    "executionInfo": {
     "elapsed": 3162,
     "status": "ok",
     "timestamp": 1573020925988,
     "user": {
      "displayName": "bheem kumar",
      "photoUrl": "https://lh3.googleusercontent.com/a-/AAuE7mDCx24nBXj8t-exydQqWCz_3_2Fr8UREB6_UTXj=s64",
      "userId": "16514217920437432713"
     },
     "user_tz": -330
    },
    "id": "TdrtZKlsgSrY",
    "outputId": "d594c328-961b-406d-e41d-81b307760ad1"
   },
   "outputs": [
    {
     "name": "stdout",
     "output_type": "stream",
     "text": [
      "Outputs:--\n",
      "\n",
      "Original dictionary :  {1: 2, 3: 4, 4: 3, 2: 1, 0: 0}\n",
      "Dictionary in Asecending order by value : {0: 0, 2: 1, 1: 2, 4: 3, 3: 4}\n",
      "Dictionary in Descending order by value : {3: 4, 4: 3, 1: 2, 2: 1, 0: 0}\n"
     ]
    }
   ],
   "source": [
    "\"\"\"\n",
    "\n",
    "Write a script to sort(ascending and descending order) a dictionary by value.\n",
    "\n",
    "Input:--\n",
    "\n",
    "    dict1 = {1: 2, 3: 4, 4: 3, 2: 1, 0: 0}\n",
    "\n",
    "Output:--\n",
    "\n",
    "    Original dictionary :  {1: 2, 3: 4, 4: 3, 2: 1, 0: 0}\n",
    "    Dictionary in Asecending order by value : {0: 0, 2: 1, 1: 2, 4: 3, 3: 4}\n",
    "    Dictionary in Descending order by value : {3: 4, 4: 3, 1: 2, 2: 1, 0: 0}\n",
    "\n",
    "\"\"\"\n",
    "\n",
    "import operator\n",
    "dict1 = {1: 2, 3: 4, 4: 3, 2: 1, 0: 0}\n",
    "\n",
    "print('Outputs:--\\n')\n",
    "print('Original dictionary : ', dict1)\n",
    "\n",
    "sorted_d = dict(sorted(dict1.items(), key = operator.itemgetter(1)))\n",
    "print('Dictionary in Asecending order by value :', sorted_d)\n",
    "\n",
    "sorted_d = dict(sorted(dict1.items(), key = operator.itemgetter(1), reverse = True))\n",
    "print('Dictionary in Descending order by value :', sorted_d)"
   ]
  },
  {
   "cell_type": "code",
   "execution_count": 0,
   "metadata": {
    "colab": {
     "base_uri": "https://localhost:8080/",
     "height": 51
    },
    "colab_type": "code",
    "executionInfo": {
     "elapsed": 2577,
     "status": "ok",
     "timestamp": 1574435214188,
     "user": {
      "displayName": "Neeraj Avutu",
      "photoUrl": "",
      "userId": "16705445206746567151"
     },
     "user_tz": -330
    },
    "id": "noGc0ELPgSrf",
    "outputId": "c54f034d-beee-4584-a7ac-5f73fc21d06e"
   },
   "outputs": [
    {
     "name": "stdout",
     "output_type": "stream",
     "text": [
      "Output {1: 10, 2: 20, 3: 30, 4: 40, 5: 50, 6: 60}\n",
      "Output : {1: 10, 2: 20, 3: 30, 4: 40, 5: 50, 6: 60}\n"
     ]
    }
   ],
   "source": [
    "\"\"\"\n",
    "\n",
    "Write a Python script to concatenate following dictionaries to create a new one.\n",
    "\n",
    "Inputs:--\n",
    "    \n",
    "\n",
    "    dic1 = {1:10, 2:20} \n",
    "    dic2 = {3:30, 4:40} \n",
    "    dic3 = {5:50, 6:60}\n",
    "\n",
    "Output:--\n",
    "    \n",
    "    {1: 10, 2: 20, 3: 30, 4: 40, 5: 50, 6: 60}\n",
    "\n",
    "\"\"\"\n",
    "\n",
    "dic1 = {1:10, 2:20} \n",
    "dic2 = {3:30, 4:40} \n",
    "dic3 = {5:50, 6:60}\n",
    "new_dict={**dic1,**dic2,**dic3}\n",
    "print('Output :',new_dict)\n",
    "\n",
    "dic1.update(dic2)\n",
    "dic1.update(dic3)\n",
    "print('Output :', dic1)"
   ]
  },
  {
   "cell_type": "code",
   "execution_count": 0,
   "metadata": {
    "colab": {
     "base_uri": "https://localhost:8080/",
     "height": 34
    },
    "colab_type": "code",
    "executionInfo": {
     "elapsed": 3136,
     "status": "ok",
     "timestamp": 1573020925989,
     "user": {
      "displayName": "bheem kumar",
      "photoUrl": "https://lh3.googleusercontent.com/a-/AAuE7mDCx24nBXj8t-exydQqWCz_3_2Fr8UREB6_UTXj=s64",
      "userId": "16514217920437432713"
     },
     "user_tz": -330
    },
    "id": "GCT1erYdgSrh",
    "outputId": "3edc456e-1905-4772-d7c7-304f886a22d3"
   },
   "outputs": [
    {
     "name": "stdout",
     "output_type": "stream",
     "text": [
      "Output : True\n"
     ]
    }
   ],
   "source": [
    "\"\"\"\n",
    "\n",
    "Write a script to check whether given key is already exists in a dictionary.\n",
    "\n",
    "Inputs:--\n",
    "\n",
    "    key = 5\n",
    "    dic1 = {1: 10, 2: 20, 3: 30, 4: 40, 5: 50, 6: 60}\n",
    "\n",
    "Output:--\n",
    "\n",
    "\"\"\"\n",
    "\n",
    "key = 5\n",
    "dict1 = {1: 10, 2: 20, 3: 30, 4: 40, 5: 50, 6: 60}\n",
    "\n",
    "print('Output :', key in dict1.keys())"
   ]
  },
  {
   "cell_type": "code",
   "execution_count": 0,
   "metadata": {
    "colab": {
     "base_uri": "https://localhost:8080/",
     "height": 153
    },
    "colab_type": "code",
    "executionInfo": {
     "elapsed": 3123,
     "status": "ok",
     "timestamp": 1573020925990,
     "user": {
      "displayName": "bheem kumar",
      "photoUrl": "https://lh3.googleusercontent.com/a-/AAuE7mDCx24nBXj8t-exydQqWCz_3_2Fr8UREB6_UTXj=s64",
      "userId": "16514217920437432713"
     },
     "user_tz": -330
    },
    "id": "DO-HvWzIgSrj",
    "outputId": "6e076c70-2151-4b76-c738-c28b09fecf5c"
   },
   "outputs": [
    {
     "name": "stdout",
     "output_type": "stream",
     "text": [
      "Output :--\n",
      "\n",
      "1 -> 10\n",
      "2 -> 20\n",
      "3 -> 30\n",
      "4 -> 40\n",
      "5 -> 50\n",
      "6 -> 60\n"
     ]
    }
   ],
   "source": [
    "\"\"\"\n",
    "\n",
    "Write a script to iterate over dictionaries using for loops.\n",
    "\n",
    "Input:--\n",
    "\n",
    "    dic1 = {1: 10, 2: 20, 3: 30, 4: 40, 5: 50, 6: 60}\n",
    "\n",
    "Output:--\n",
    "\n",
    "    1 -> 10\n",
    "    2 -> 20\n",
    "    3 -> 30\n",
    "    4 -> 40\n",
    "    5 -> 50\n",
    "    6 -> 60\n",
    "\n",
    "\"\"\"\n",
    "\n",
    "dic1 = {1: 10, 2: 20, 3: 30, 4: 40, 5: 50, 6: 60}\n",
    "\n",
    "print('Output :--\\n')\n",
    "for x,y in dic1.items():\n",
    "    \n",
    "    print(x,\"->\",y)"
   ]
  },
  {
   "cell_type": "code",
   "execution_count": 0,
   "metadata": {
    "colab": {
     "base_uri": "https://localhost:8080/",
     "height": 34
    },
    "colab_type": "code",
    "executionInfo": {
     "elapsed": 3105,
     "status": "ok",
     "timestamp": 1573020925990,
     "user": {
      "displayName": "bheem kumar",
      "photoUrl": "https://lh3.googleusercontent.com/a-/AAuE7mDCx24nBXj8t-exydQqWCz_3_2Fr8UREB6_UTXj=s64",
      "userId": "16514217920437432713"
     },
     "user_tz": -330
    },
    "id": "xV0VScYLgSrn",
    "outputId": "91b72a2e-265e-441f-a520-f1ec2e3ed125"
   },
   "outputs": [
    {
     "name": "stdout",
     "output_type": "stream",
     "text": [
      "Output : {1: 1, 2: 4, 3: 9, 4: 16, 5: 25, 6: 36, 7: 49, 8: 64, 9: 81, 10: 100, 11: 121, 12: 144, 13: 169, 14: 196, 15: 225}\n"
     ]
    }
   ],
   "source": [
    "\"\"\"\n",
    "\n",
    "Write a script to create a dictionary where the keys are numbers between 1 and 15 (both included) and the values \n",
    "are square of keys.\n",
    "\n",
    "Input:--\n",
    "\n",
    "    dict1 = {}\n",
    "    n = 15\n",
    "\n",
    "Output:--\n",
    "    \n",
    "    {1: 1, 2: 4, 3: 9, 4: 16, 5: 25, 6: 36, 7: 49, 8: 64, 9: 81, 10: 100, 11: 121, 12: 144, 13: 169, 14: 196, 15: 225}\n",
    "\n",
    "\"\"\"\n",
    "\n",
    "dict1 = {}\n",
    "n = 15\n",
    "\n",
    "for x in range (1,n+1):\n",
    "\n",
    "    dict1.update({x:x*x})\n",
    "\n",
    "print('Output :', dict1)"
   ]
  },
  {
   "cell_type": "code",
   "execution_count": 0,
   "metadata": {
    "colab": {
     "base_uri": "https://localhost:8080/",
     "height": 34
    },
    "colab_type": "code",
    "executionInfo": {
     "elapsed": 3092,
     "status": "ok",
     "timestamp": 1573020925991,
     "user": {
      "displayName": "bheem kumar",
      "photoUrl": "https://lh3.googleusercontent.com/a-/AAuE7mDCx24nBXj8t-exydQqWCz_3_2Fr8UREB6_UTXj=s64",
      "userId": "16514217920437432713"
     },
     "user_tz": -330
    },
    "id": "yr7QPdSFgSrq",
    "outputId": "7d7186e0-7f60-4aa2-c06e-1ed99a443b58"
   },
   "outputs": [
    {
     "name": "stdout",
     "output_type": "stream",
     "text": [
      "Output : Sum = 1240\n"
     ]
    }
   ],
   "source": [
    "\"\"\"\n",
    "\n",
    "Write a script to print the sum of all values in given dictionary.\n",
    "\n",
    "Input:--\n",
    "\n",
    "    dict1 = {1: 1, 2: 4, 3: 9, 4: 16, 5: 25, 6: 36, 7: 49, 8: 64, 9: 81, 10: 100, 11: 121, 12: 144, 13: 169, 14: 196, 15: 225}\n",
    "\n",
    "Output:--\n",
    "\n",
    "    Sum = 1240\n",
    "    \n",
    "\"\"\"\n",
    "\n",
    "dict1 = {1: 1, 2: 4, 3: 9, 4: 16, 5: 25, 6: 36, 7: 49, 8: 64, 9: 81, 10: 100, 11: 121, 12: 144, 13: 169, 14: 196, 15: 225}\n",
    "print('Output : Sum =', sum(dict1.values()))"
   ]
  },
  {
   "cell_type": "code",
   "execution_count": 0,
   "metadata": {
    "colab": {
     "base_uri": "https://localhost:8080/",
     "height": 34
    },
    "colab_type": "code",
    "executionInfo": {
     "elapsed": 3079,
     "status": "ok",
     "timestamp": 1573020925991,
     "user": {
      "displayName": "bheem kumar",
      "photoUrl": "https://lh3.googleusercontent.com/a-/AAuE7mDCx24nBXj8t-exydQqWCz_3_2Fr8UREB6_UTXj=s64",
      "userId": "16514217920437432713"
     },
     "user_tz": -330
    },
    "id": "Q8GNUGgHgSrs",
    "outputId": "69171441-850b-4fa9-c9e5-48bcfecbb95e"
   },
   "outputs": [
    {
     "name": "stdout",
     "output_type": "stream",
     "text": [
      "Output : Product = 14400\n"
     ]
    }
   ],
   "source": [
    "\"\"\"\n",
    "\n",
    "Write a script to print the product of all the values of given dictionary.\n",
    "\n",
    "Input:--\n",
    "\n",
    "     dict1 = {1: 1, 2: 4, 3: 9, 4: 16, 5: 25}\n",
    "\n",
    "Output:--\n",
    "\n",
    "    Product = 14400\n",
    "    \n",
    "\"\"\"\n",
    "dict1 = {1: 1, 2: 4, 3: 9, 4: 16, 5: 25}\n",
    "product = 1\n",
    "for i in dict1:\n",
    "\n",
    "    product *= dict1[i]\n",
    "\n",
    "print('Output : Product =', product)"
   ]
  },
  {
   "cell_type": "code",
   "execution_count": 0,
   "metadata": {
    "colab": {
     "base_uri": "https://localhost:8080/",
     "height": 34
    },
    "colab_type": "code",
    "executionInfo": {
     "elapsed": 3067,
     "status": "ok",
     "timestamp": 1573020925992,
     "user": {
      "displayName": "bheem kumar",
      "photoUrl": "https://lh3.googleusercontent.com/a-/AAuE7mDCx24nBXj8t-exydQqWCz_3_2Fr8UREB6_UTXj=s64",
      "userId": "16514217920437432713"
     },
     "user_tz": -330
    },
    "id": "xJOqcYtqgSrx",
    "outputId": "d801bc42-be31-4410-ecf3-67de35ce0b59"
   },
   "outputs": [
    {
     "name": "stdout",
     "output_type": "stream",
     "text": [
      "Output : {'a': 1, 'b': 2, 'c': 3, 'd': 6, 'r': 4, 'q': 5, 'e': 6}\n"
     ]
    }
   ],
   "source": [
    "\"\"\"\n",
    "\n",
    "Write a script to map two lists into a dictionary. \n",
    "\n",
    "Inputs:--\n",
    "\n",
    "    list1 = [\"a\",\"b\",\"c\",\"d\",\"r\",\"q\",\"e\"]\n",
    "    list2 = [1,2,3,6,4,5,6]\n",
    "\n",
    "Output:--\n",
    "\n",
    "    {'a': 1, 'b': 2, 'c': 3, 'd': 6, 'r': 4, 'q': 5, 'e': 6}\n",
    "\n",
    "\"\"\"\n",
    "\n",
    "list1 = [\"a\", \"b\", \"c\", \"d\", \"r\", \"q\", \"e\"]\n",
    "list2 = [1, 2, 3, 6, 4, 5, 6]\n",
    "\n",
    "dict1 = {}\n",
    "for itr in range(len(list1)):\n",
    "\n",
    "    dict1.update({list1[itr]:list2[itr]})\n",
    "\n",
    "print('Output :', dict1)"
   ]
  },
  {
   "cell_type": "code",
   "execution_count": 0,
   "metadata": {
    "colab": {
     "base_uri": "https://localhost:8080/",
     "height": 85
    },
    "colab_type": "code",
    "executionInfo": {
     "elapsed": 3054,
     "status": "ok",
     "timestamp": 1573020925992,
     "user": {
      "displayName": "bheem kumar",
      "photoUrl": "https://lh3.googleusercontent.com/a-/AAuE7mDCx24nBXj8t-exydQqWCz_3_2Fr8UREB6_UTXj=s64",
      "userId": "16514217920437432713"
     },
     "user_tz": -330
    },
    "id": "76EuCUW7gSr0",
    "outputId": "9cacd17d-be2a-4076-fe04-eef5f606442f"
   },
   "outputs": [
    {
     "name": "stdout",
     "output_type": "stream",
     "text": [
      "Outputs:--\n",
      "\n",
      "Min value : 1\n",
      "Max value : 225\n"
     ]
    }
   ],
   "source": [
    "\"\"\"\n",
    "\n",
    "Write a script to get the maximum and minimum value of a dictionary. \n",
    "\n",
    "Input:--\n",
    "\n",
    "    dict1 = {1: 1, 2: 4, 3: 9, 4: 16, 5: 25, 6: 36, 7: 49, 8: 64, 9: 81, 10: 100, 11: 121, 12: 144, 13: 169, 14: 196, 15: 225}\n",
    "\n",
    "Output:--\n",
    "\n",
    "    Min value : 1\n",
    "    Max value : 225\n",
    "\n",
    "\"\"\"\n",
    "\n",
    "dict1 = {1: 1, 2: 4, 3: 9, 4: 16, 5: 25, 6: 36, 7: 49, 8: 64, 9: 81, 10: 100, 11: 121, 12: 144, 13: 169, 14: 196, 15: 225}\n",
    "\n",
    "print(\"Outputs:--\\n\")\n",
    "print(\"Min value :\", min(dict1.values()))\n",
    "print(\"Max value :\", max(dict1.values()))"
   ]
  },
  {
   "cell_type": "code",
   "execution_count": 0,
   "metadata": {
    "colab": {
     "base_uri": "https://localhost:8080/",
     "height": 34
    },
    "colab_type": "code",
    "executionInfo": {
     "elapsed": 3041,
     "status": "ok",
     "timestamp": 1573020925993,
     "user": {
      "displayName": "bheem kumar",
      "photoUrl": "https://lh3.googleusercontent.com/a-/AAuE7mDCx24nBXj8t-exydQqWCz_3_2Fr8UREB6_UTXj=s64",
      "userId": "16514217920437432713"
     },
     "user_tz": -330
    },
    "id": "Awll6K06gSr4",
    "outputId": "11d7df9a-6243-4641-971b-98685bc1c0e5"
   },
   "outputs": [
    {
     "name": "stdout",
     "output_type": "stream",
     "text": [
      "Output : {1: 2, 3: 4, 4: 3, 2: 1, 0: 0}\n"
     ]
    }
   ],
   "source": [
    "\"\"\"\n",
    "\n",
    "Write a script to remove duplicate items from Dictionary.\n",
    "\n",
    "NOTE:- Dictionary does not contain duplicate key.\n",
    "\n",
    "Input:--\n",
    "\n",
    "    dict1 = {1: 2, 3: 4, 4: 3, 2: 1, 0: 0, 0: 0}\n",
    "\n",
    "Output:--\n",
    "\n",
    "    {1: 2, 3: 4, 4: 3, 2: 1, 0: 0}\n",
    "\n",
    "\"\"\"\n",
    "\n",
    "dict1 = {1: 2, 3: 4, 4: 3, 2: 1, 0: 0, 0: 0}\n",
    "        \n",
    "print('Output :', dict1)"
   ]
  },
  {
   "cell_type": "code",
   "execution_count": 0,
   "metadata": {
    "colab": {
     "base_uri": "https://localhost:8080/",
     "height": 85
    },
    "colab_type": "code",
    "executionInfo": {
     "elapsed": 3027,
     "status": "ok",
     "timestamp": 1573020925993,
     "user": {
      "displayName": "bheem kumar",
      "photoUrl": "https://lh3.googleusercontent.com/a-/AAuE7mDCx24nBXj8t-exydQqWCz_3_2Fr8UREB6_UTXj=s64",
      "userId": "16514217920437432713"
     },
     "user_tz": -330
    },
    "id": "6Z77ykkMgSr6",
    "outputId": "98d56969-1b8b-4933-bcb6-21879508bf52"
   },
   "outputs": [
    {
     "name": "stdout",
     "output_type": "stream",
     "text": [
      "Output:--\n",
      "\n",
      "{} is Empty\n",
      "{42, 23} is Not Empty\n"
     ]
    }
   ],
   "source": [
    "\"\"\"\n",
    "\n",
    "Write a script to check a whether the given dictionary is empty or not. \n",
    "\n",
    "Inputs:--\n",
    "\n",
    "    dict1 = {}\n",
    "    dict2 = {23,42}\n",
    "\n",
    "Outputs:--\n",
    "\n",
    "    {} is Empty\n",
    "    {42, 23} is Not Empty\n",
    "\n",
    "\"\"\"\n",
    "\n",
    "dict1 = {}\n",
    "dict2 = {23, 42}\n",
    "\n",
    "print('Output:--\\n')\n",
    "print(dict1,\"is\",\"Empty\" if dict1 == {} else \"Not Empty\")\n",
    "print(dict2,\"is\",\"Empty\" if dict2 == {} else \"Not Empty\")"
   ]
  },
  {
   "cell_type": "code",
   "execution_count": 0,
   "metadata": {
    "colab": {
     "base_uri": "https://localhost:8080/",
     "height": 34
    },
    "colab_type": "code",
    "executionInfo": {
     "elapsed": 3012,
     "status": "ok",
     "timestamp": 1573020925994,
     "user": {
      "displayName": "bheem kumar",
      "photoUrl": "https://lh3.googleusercontent.com/a-/AAuE7mDCx24nBXj8t-exydQqWCz_3_2Fr8UREB6_UTXj=s64",
      "userId": "16514217920437432713"
     },
     "user_tz": -330
    },
    "id": "uj-266VXgSr7",
    "outputId": "ded0c818-fc52-4bf1-9acb-b13c67da8d09"
   },
   "outputs": [
    {
     "name": "stdout",
     "output_type": "stream",
     "text": [
      "Output : {'a': 400, 'b': 400, 'c': 300}\n"
     ]
    }
   ],
   "source": [
    "\"\"\"\n",
    "\n",
    "Write a script to add the values of keys whcich or common in both given dictionaries and store in dictionary1.\n",
    "\n",
    "Inputs:--\n",
    "\n",
    "    dict1 = {'a': 100, 'b': 200, 'c':300}\n",
    "    dict2 = {'a': 300, 'b': 200, 'd':400}\n",
    "\n",
    "Output:--\n",
    "    \n",
    "    {'a': 400, 'b': 400, 'c': 300}\n",
    "\n",
    "\"\"\"\n",
    "\n",
    "dict1 = {'a': 100, 'b': 200, 'c':300}\n",
    "dict2 = {'a': 300, 'b': 200, 'd':400}\n",
    "\n",
    "for key in dict1:\n",
    "    \n",
    "    if(key in dict2):\n",
    "\n",
    "        dict1[key] = dict1[key] + dict2[key]\n",
    "\n",
    "print('Output :', dict1)"
   ]
  },
  {
   "cell_type": "code",
   "execution_count": 0,
   "metadata": {
    "colab": {
     "base_uri": "https://localhost:8080/",
     "height": 34
    },
    "colab_type": "code",
    "executionInfo": {
     "elapsed": 2998,
     "status": "ok",
     "timestamp": 1573020925994,
     "user": {
      "displayName": "bheem kumar",
      "photoUrl": "https://lh3.googleusercontent.com/a-/AAuE7mDCx24nBXj8t-exydQqWCz_3_2Fr8UREB6_UTXj=s64",
      "userId": "16514217920437432713"
     },
     "user_tz": -330
    },
    "id": "4KyUdkeRgSr9",
    "outputId": "ac9b2a26-31ff-40a2-87d2-1aa7542bc489"
   },
   "outputs": [
    {
     "name": "stdout",
     "output_type": "stream",
     "text": [
      "Output : {'S002', 'S001', 'S007', 'S005', 'S009'}\n"
     ]
    }
   ],
   "source": [
    "\"\"\"\n",
    "\n",
    "Write a script to print all unique values in a dictionary.\n",
    "\n",
    "Input:--\n",
    "    \n",
    "     dict1 = {\"V\":\"S001\", \"V\": \"S002\", \"VI\": \"S001\", \"VI\": \"S005\", \"VII\":\"S005\", \"V\":\"S009\", \"VIII\":\"S007\"}\n",
    "     \n",
    "Output:--\n",
    "\n",
    "    {'S007', 'S005', 'S001', 'S002', 'S009'}\n",
    "    \n",
    "\"\"\"\n",
    "\n",
    "dict1 = {\"I\":\"S001\", \"II\": \"S002\", \"III\":\"S002\", \"IV\":\"S001\", \"V\":\"S009\", \"VI\": \"S005\", \"VII\":\"S005\", \"V\":\"S009\", \"VIII\":\"S007\"}\n",
    "\n",
    "print('Output :',set(dict1.values()))    "
   ]
  },
  {
   "cell_type": "code",
   "execution_count": 0,
   "metadata": {
    "colab": {
     "base_uri": "https://localhost:8080/",
     "height": 119
    },
    "colab_type": "code",
    "executionInfo": {
     "elapsed": 2985,
     "status": "ok",
     "timestamp": 1573020925994,
     "user": {
      "displayName": "bheem kumar",
      "photoUrl": "https://lh3.googleusercontent.com/a-/AAuE7mDCx24nBXj8t-exydQqWCz_3_2Fr8UREB6_UTXj=s64",
      "userId": "16514217920437432713"
     },
     "user_tz": -330
    },
    "id": "jCLRs0nqgSr_",
    "outputId": "97bc9fcd-c7b0-405e-8239-dd1027b936a0"
   },
   "outputs": [
    {
     "name": "stdout",
     "output_type": "stream",
     "text": [
      "Output:--\n",
      "\n",
      "ac\n",
      "ad\n",
      "bc\n",
      "bd\n"
     ]
    }
   ],
   "source": [
    "\"\"\"\n",
    "\n",
    "Write a script to create and display all combinations of letters, selecting each letter from a different key \n",
    "in a dictionary. \n",
    "\n",
    "Inputs:--\n",
    "    \n",
    "    dict1 = {'1':['a','b'], '2':['c','d']}\n",
    "\n",
    "Output:--\n",
    "\n",
    "    ac\n",
    "    ad\n",
    "    bc\n",
    "    bd\n",
    "\n",
    "\"\"\"\n",
    "\n",
    "import itertools\n",
    "dict1 = {'1':['a','b'], '2':['c','d']}\n",
    "\n",
    "print(\"Output:--\\n\")\n",
    "\n",
    "for x in itertools.product(*[dict1[k] for k in sorted(dict1.keys())]):\n",
    "    print(\"\".join(x))"
   ]
  },
  {
   "cell_type": "code",
   "execution_count": 0,
   "metadata": {
    "colab": {
     "base_uri": "https://localhost:8080/",
     "height": 51
    },
    "colab_type": "code",
    "executionInfo": {
     "elapsed": 2973,
     "status": "ok",
     "timestamp": 1573020925995,
     "user": {
      "displayName": "bheem kumar",
      "photoUrl": "https://lh3.googleusercontent.com/a-/AAuE7mDCx24nBXj8t-exydQqWCz_3_2Fr8UREB6_UTXj=s64",
      "userId": "16514217920437432713"
     },
     "user_tz": -330
    },
    "id": "ZeOa59XegSsB",
    "outputId": "61c1367c-6e4b-430c-887b-9a952792b0e5"
   },
   "outputs": [
    {
     "name": "stdout",
     "output_type": "stream",
     "text": [
      "[3, 4, 9]\n",
      "{1: 2, 4: 3, 3: 4, 2: 9}\n"
     ]
    }
   ],
   "source": [
    "\"\"\"\n",
    "\n",
    "Write a script to find the highest 3 values in a dictionary. \n",
    "\n",
    "Input:--\n",
    "\n",
    "    dict1 = {1: 2, 3: 4, 4: 3, 2: 9,2:9}\n",
    "\n",
    "Output:--\n",
    "\n",
    "    [3, 4, 9]\n",
    "    {1: 2, 4: 3, 3: 4, 2: 9}\n",
    "\n",
    "\"\"\"\n",
    "\n",
    "import operator\n",
    "\n",
    "dict1 = {1: 2, 3: 4, 4: 3, 2: 9,2:9}\n",
    "s = []\n",
    "dict1 = dict(sorted(dict1.items(), key = operator.itemgetter(1)))\n",
    "\n",
    "for x in dict1:\n",
    "\n",
    "    s.append(dict1[x])\n",
    "\n",
    "print(s[-3:])\n",
    "print(dict1)"
   ]
  },
  {
   "cell_type": "code",
   "execution_count": 0,
   "metadata": {
    "colab": {
     "base_uri": "https://localhost:8080/",
     "height": 34
    },
    "colab_type": "code",
    "executionInfo": {
     "elapsed": 2960,
     "status": "ok",
     "timestamp": 1573020925995,
     "user": {
      "displayName": "bheem kumar",
      "photoUrl": "https://lh3.googleusercontent.com/a-/AAuE7mDCx24nBXj8t-exydQqWCz_3_2Fr8UREB6_UTXj=s64",
      "userId": "16514217920437432713"
     },
     "user_tz": -330
    },
    "id": "KQ8UJojGgSsE",
    "outputId": "280cf86c-9b70-4477-a158-5b115b4c7b62"
   },
   "outputs": [
    {
     "name": "stdout",
     "output_type": "stream",
     "text": [
      "Output : Counter({'item1': 1150, 'item2': 300})\n"
     ]
    }
   ],
   "source": [
    "\"\"\"\n",
    "\n",
    "Write a script to combine values in list of dictionaries. \n",
    "\n",
    "Input:--\n",
    "    \n",
    "    list_of_dictionary =  [{'item': 'item1', 'amount': 400}, {'item': 'item2', 'amount': 300}, {'item': 'item1', 'amount': 750}]\n",
    "\n",
    "Output:--\n",
    "    \n",
    "    Counter({'item1': 1150, 'item2': 300})\n",
    "\n",
    "\"\"\"\n",
    "\n",
    "from collections import Counter\n",
    "\n",
    "list_of_dictionary =  [{'item': 'item1', 'amount': 400}, {'item': 'item2', 'amount': 300}, {'item': 'item1', 'amount': 750}]\n",
    "\n",
    "counter = Counter()\n",
    "\n",
    "for x in list_of_dictionary:\n",
    "\n",
    "    counter[x['item']] += x['amount']\n",
    "\n",
    "print(\"Output :\", counter)"
   ]
  },
  {
   "cell_type": "code",
   "execution_count": 0,
   "metadata": {
    "colab": {
     "base_uri": "https://localhost:8080/",
     "height": 34
    },
    "colab_type": "code",
    "executionInfo": {
     "elapsed": 2944,
     "status": "ok",
     "timestamp": 1573020925996,
     "user": {
      "displayName": "bheem kumar",
      "photoUrl": "https://lh3.googleusercontent.com/a-/AAuE7mDCx24nBXj8t-exydQqWCz_3_2Fr8UREB6_UTXj=s64",
      "userId": "16514217920437432713"
     },
     "user_tz": -330
    },
    "id": "8DYYXtDKgSsJ",
    "outputId": "774da165-b1b8-4528-f8f9-468a0bb2b273"
   },
   "outputs": [
    {
     "name": "stdout",
     "output_type": "stream",
     "text": [
      "Output : Counter({'d': 2, 'a': 2, 'h': 1, 'u': 1, 's': 1, 'o': 1, 'n': 1, 't': 1})\n"
     ]
    }
   ],
   "source": [
    "\"\"\"\n",
    "\n",
    "Write a script to create a dictionary from a string.\n",
    "Note: Track the count of the letters from the string.\n",
    "\n",
    "Input:-- \n",
    "\n",
    "    string = 'hudsondata'\n",
    "\n",
    "Output:--\n",
    "    \n",
    "    Counter({'d': 2, 'a': 2, 'h': 1, 'u': 1, 's': 1, 'o': 1, 'n': 1, 't': 1})\n",
    "\n",
    "\"\"\"\n",
    "from collections import Counter\n",
    "\n",
    "string = 'hudsondata'\n",
    "string = list(string)\n",
    "string = Counter(string)\n",
    "print(\"Output :\", string)"
   ]
  },
  {
   "cell_type": "code",
   "execution_count": 0,
   "metadata": {
    "colab": {
     "base_uri": "https://localhost:8080/",
     "height": 119
    },
    "colab_type": "code",
    "executionInfo": {
     "elapsed": 2931,
     "status": "ok",
     "timestamp": 1573020925996,
     "user": {
      "displayName": "bheem kumar",
      "photoUrl": "https://lh3.googleusercontent.com/a-/AAuE7mDCx24nBXj8t-exydQqWCz_3_2Fr8UREB6_UTXj=s64",
      "userId": "16514217920437432713"
     },
     "user_tz": -330
    },
    "id": "SOIm2OpQgSsK",
    "outputId": "dcf5f517-242e-4912-c2ae-b132a6bef2ae"
   },
   "outputs": [
    {
     "name": "stdout",
     "output_type": "stream",
     "text": [
      "Output:--\n",
      "\n",
      "C1 C2 C3\n",
      "1 5 9\n",
      "2 6 10\n",
      "3 7 11\n"
     ]
    }
   ],
   "source": [
    "\"\"\"\n",
    "\n",
    "Write a script to print a dictionary in table format.\n",
    "\n",
    "Input:--\n",
    "\n",
    "    dict1 = {'C1':[1,2,3],'C2':[5,6,7],'C3':[9,10,11]}\n",
    "\n",
    "Output:--\n",
    "\n",
    "    C1 C2 C3\n",
    "    1 5 9\n",
    "    2 6 10\n",
    "    3 7 11\n",
    "\n",
    "\"\"\"\n",
    "\n",
    "dict1 = {'C1':[1,2,3],'C2':[5,6,7],'C3':[9,10,11]}\n",
    "\n",
    "print('Output:--\\n')\n",
    "\n",
    "for row in zip(*([key] + (value) for key, value in sorted(dict1.items()))):\n",
    "    print(*row)"
   ]
  },
  {
   "cell_type": "code",
   "execution_count": 0,
   "metadata": {
    "colab": {
     "base_uri": "https://localhost:8080/",
     "height": 34
    },
    "colab_type": "code",
    "executionInfo": {
     "elapsed": 2918,
     "status": "ok",
     "timestamp": 1573020925997,
     "user": {
      "displayName": "bheem kumar",
      "photoUrl": "https://lh3.googleusercontent.com/a-/AAuE7mDCx24nBXj8t-exydQqWCz_3_2Fr8UREB6_UTXj=s64",
      "userId": "16514217920437432713"
     },
     "user_tz": -330
    },
    "id": "VAOM1nDvgSsM",
    "outputId": "428a7d81-8300-417a-8a4e-ffe8503ffab8"
   },
   "outputs": [
    {
     "name": "stdout",
     "output_type": "stream",
     "text": [
      "Output : The number of items associated with scucess = True is 2\n"
     ]
    }
   ],
   "source": [
    "\"\"\"\n",
    "\n",
    "Write a script to count the items associated with 'success = True' in a dictionary.\n",
    "\n",
    "Input:--\n",
    "    \n",
    "    list_of_dict = [{'id': 1, 'success': True, 'name': 'Lary'}, \n",
    "                    {'id': 2, 'success': False,'name': 'Rabi'},\n",
    "                    {'id': 3, 'success': True, 'name': 'Alex'}]\n",
    "\n",
    "Output:--\n",
    "    \n",
    "    The number of items associated with scucess = True is 2\n",
    "\n",
    "\"\"\"\n",
    "\n",
    "list_of_dict = [{'id': 1, 'success': True, 'name': 'Lary'}, \n",
    "                {'id': 2, 'success': False,'name': 'Rabi'}, \n",
    "                {'id': 3, 'success': True, 'name': 'Alex'}]\n",
    "\n",
    "counter = 0\n",
    "\n",
    "for d in list_of_dict:\n",
    "\n",
    "    if (d['success'] == True):\n",
    "\n",
    "        counter += 1\n",
    "        \n",
    "print(\"Output : The number of items associated with scucess = True is\", counter)"
   ]
  },
  {
   "cell_type": "code",
   "execution_count": 0,
   "metadata": {
    "colab": {
     "base_uri": "https://localhost:8080/",
     "height": 476
    },
    "colab_type": "code",
    "executionInfo": {
     "elapsed": 2905,
     "status": "ok",
     "timestamp": 1573020925997,
     "user": {
      "displayName": "bheem kumar",
      "photoUrl": "https://lh3.googleusercontent.com/a-/AAuE7mDCx24nBXj8t-exydQqWCz_3_2Fr8UREB6_UTXj=s64",
      "userId": "16514217920437432713"
     },
     "user_tz": -330
    },
    "id": "FoBhjPdwgSsP",
    "outputId": "40ecef1e-543c-4154-d9a1-e0eee7731520"
   },
   "outputs": [
    {
     "name": "stdout",
     "output_type": "stream",
     "text": [
      "Output:--\n",
      "\n",
      "{1: {}}\n",
      "{1: {}}\n",
      "******\n",
      "{}\n",
      "{1: {}}\n",
      "-----------------\n",
      "{2: {}}\n",
      "{1: {2: {}}}\n",
      "******\n",
      "{}\n",
      "{1: {2: {}}}\n",
      "-----------------\n",
      "{3: {}}\n",
      "{1: {2: {3: {}}}}\n",
      "******\n",
      "{}\n",
      "{1: {2: {3: {}}}}\n",
      "-----------------\n",
      "{4: {}}\n",
      "{1: {2: {3: {4: {}}}}}\n",
      "******\n",
      "{}\n",
      "{1: {2: {3: {4: {}}}}}\n",
      "-----------------\n",
      "{1: {2: {3: {4: {}}}}}\n"
     ]
    }
   ],
   "source": [
    "\"\"\"\n",
    "\n",
    "Write a script to convert a list into a nested dictionary of keys. \n",
    "\n",
    "Inputs:--\n",
    "\n",
    "    list1 = [1,2,3,4]\n",
    "\n",
    "Output:--\n",
    "\n",
    "    {1: {}}\n",
    "    {1: {}}\n",
    "    ******\n",
    "    {}\n",
    "    {1: {}}\n",
    "    -----------------\n",
    "    {2: {}}\n",
    "    {1: {2: {}}}\n",
    "    ******\n",
    "    {}\n",
    "    {1: {2: {}}}\n",
    "    -----------------\n",
    "    {3: {}}\n",
    "    {1: {2: {3: {}}}}\n",
    "    ******\n",
    "    {}\n",
    "    {1: {2: {3: {}}}}\n",
    "    -----------------\n",
    "    {4: {}}\n",
    "    {1: {2: {3: {4: {}}}}}\n",
    "    ******\n",
    "    {}\n",
    "    {1: {2: {3: {4: {}}}}}\n",
    "    -----------------\n",
    "    {1: {2: {3: {4: {}}}}}\n",
    "\n",
    "\"\"\"\n",
    "\n",
    "list1 = [1,2,3,4]\n",
    "d = c = {}\n",
    "i = 0\n",
    "\n",
    "print('Output:--\\n')\n",
    "for x in list1:\n",
    "    c[x]={}\n",
    "    print(c)\n",
    "    print(d)\n",
    "    print(\"******\")\n",
    "    c=c[x]\n",
    "    print(c)\n",
    "    print(d)\n",
    "    print(\"-----------------\")\n",
    "\n",
    "print(d)"
   ]
  },
  {
   "cell_type": "code",
   "execution_count": 0,
   "metadata": {
    "colab": {
     "base_uri": "https://localhost:8080/",
     "height": 34
    },
    "colab_type": "code",
    "executionInfo": {
     "elapsed": 2892,
     "status": "ok",
     "timestamp": 1573020925997,
     "user": {
      "displayName": "bheem kumar",
      "photoUrl": "https://lh3.googleusercontent.com/a-/AAuE7mDCx24nBXj8t-exydQqWCz_3_2Fr8UREB6_UTXj=s64",
      "userId": "16514217920437432713"
     },
     "user_tz": -330
    },
    "id": "4DoSQ_xGgSsQ",
    "outputId": "1975d508-16d4-499e-d166-ce05e41af91e"
   },
   "outputs": [
    {
     "name": "stdout",
     "output_type": "stream",
     "text": [
      "Output : {'n1': [1, 2, 3], 'n2': [1, 2, 5], 'n3': [2, 3, 4]}\n"
     ]
    }
   ],
   "source": [
    "\"\"\"\n",
    "\n",
    "Write a script to sort the elements of list of given dictionary. \n",
    "\n",
    "Input:--\n",
    "\n",
    "    dict1 = {'n1': [2, 3, 1], 'n2': [5, 1, 2], 'n3': [3, 2, 4]}\n",
    "\n",
    "Output:--\n",
    "\n",
    "    {'n1': [1, 2, 3], 'n2': [1, 2, 5], 'n3': [2, 3, 4]}\n",
    "    \n",
    "\"\"\"\n",
    "\n",
    "import operator\n",
    "\n",
    "dict1 = {'n1': [2, 3, 1], 'n2': [5, 1, 2], 'n3': [3, 2, 4]}\n",
    "\n",
    "for key, value in dict1.items():\n",
    "\n",
    "    dict1[key] = sorted(value)  \n",
    "\n",
    "print('Output :', dict1)"
   ]
  },
  {
   "cell_type": "code",
   "execution_count": 0,
   "metadata": {
    "colab": {
     "base_uri": "https://localhost:8080/",
     "height": 34
    },
    "colab_type": "code",
    "executionInfo": {
     "elapsed": 2881,
     "status": "ok",
     "timestamp": 1573020925998,
     "user": {
      "displayName": "bheem kumar",
      "photoUrl": "https://lh3.googleusercontent.com/a-/AAuE7mDCx24nBXj8t-exydQqWCz_3_2Fr8UREB6_UTXj=s64",
      "userId": "16514217920437432713"
     },
     "user_tz": -330
    },
    "id": "xBn_k_scgSsT",
    "outputId": "4ca2a2df-e823-4df6-b576-5d4f9623668d"
   },
   "outputs": [
    {
     "name": "stdout",
     "output_type": "stream",
     "text": [
      "Output: {'S001': ['Math', 'Science'], 'S002': ['Math', 'English']}\n"
     ]
    }
   ],
   "source": [
    "\"\"\"\n",
    "\n",
    "Write a script to remove the imbeded space from dictionary keys. \n",
    "\n",
    "Input:--\n",
    "\n",
    "    dict1 = {'S  001': ['Math', 'Science'], 'S    002': ['Math', 'English']}\n",
    "\n",
    "Output:--\n",
    "    \n",
    "    {'S001': ['Math', 'Science'], 'S002': ['Math', 'English']}\n",
    "    \n",
    "\"\"\"\n",
    "\n",
    "dict1 = {'S  001': ['Math', 'Science'], 'S    002': ['Math', 'English']}\n",
    "\n",
    "dict2 = {}\n",
    "\n",
    "for key, value in dict1.items():\n",
    "\n",
    "    dict2.update({key.replace(\" \",\"\"):value})\n",
    "\n",
    "print('Output:', dict2)"
   ]
  },
  {
   "cell_type": "code",
   "execution_count": 0,
   "metadata": {
    "colab": {
     "base_uri": "https://localhost:8080/",
     "height": 34
    },
    "colab_type": "code",
    "executionInfo": {
     "elapsed": 2875,
     "status": "ok",
     "timestamp": 1573020925998,
     "user": {
      "displayName": "bheem kumar",
      "photoUrl": "https://lh3.googleusercontent.com/a-/AAuE7mDCx24nBXj8t-exydQqWCz_3_2Fr8UREB6_UTXj=s64",
      "userId": "16514217920437432713"
     },
     "user_tz": -330
    },
    "id": "ptldqgcAgSsW",
    "outputId": "51145d85-75d3-439d-cdc4-f2977a03676f"
   },
   "outputs": [
    {
     "name": "stdout",
     "output_type": "stream",
     "text": [
      "Output : [('item4', 55), ('item1', 45.5), ('item3', 41.3)]\n"
     ]
    }
   ],
   "source": [
    "\"\"\"\n",
    "\n",
    "Write a script to get the top three items according to values.\n",
    "\n",
    "Input:--\n",
    "    \n",
    "    dict1 = {'item1': 45.50, 'item2':35, 'item3': 41.30, 'item4':55, 'item5': 24}\n",
    "\n",
    "Output:--\n",
    "\n",
    "    [('item4', 55), ('item1', 45.5), ('item3', 41.3)]\n",
    "\n",
    "\"\"\"\n",
    "\n",
    "import operator\n",
    "\n",
    "dict1 = {'item1': 45.50, 'item2':35, 'item3': 41.30, 'item4':55, 'item5': 24}\n",
    "\n",
    "q = sorted(dict1.items(), key = operator.itemgetter(1), reverse=True)\n",
    "\n",
    "print('Output :', q[0:3])\n",
    "\n",
    "# Or\n",
    "\n",
    "# import operator\n",
    "# from heapq import nlargest\n",
    "# d={'item1': 45.50, 'item2':35, 'item3': 41.30, 'item4':55, 'item5': 24}\n",
    "\n",
    "# for x,y in nlargest(3,d.items(),key=operator.itemgetter(1)):\n",
    "#     print(x,y)\n"
   ]
  },
  {
   "cell_type": "code",
   "execution_count": 2,
   "metadata": {
    "colab": {
     "base_uri": "https://localhost:8080/",
     "height": 102
    },
    "colab_type": "code",
    "executionInfo": {
     "elapsed": 2871,
     "status": "ok",
     "timestamp": 1573020925999,
     "user": {
      "displayName": "bheem kumar",
      "photoUrl": "https://lh3.googleusercontent.com/a-/AAuE7mDCx24nBXj8t-exydQqWCz_3_2Fr8UREB6_UTXj=s64",
      "userId": "16514217920437432713"
     },
     "user_tz": -330
    },
    "id": "PcJwWtzygSsa",
    "outputId": "562593a2-965e-4e96-da66-c35d173efb34"
   },
   "outputs": [
    {
     "name": "stdout",
     "output_type": "stream",
     "text": [
      "Output:--\n",
      "\n",
      "Keys   : dict_keys(['item1', 'item2', 'item3', 'item4', 'item5'])\n",
      "Values : dict_values([45.5, 35, 41.3, 55, 24])\n",
      "Items  : dict_items([('item1', 45.5), ('item2', 35), ('item3', 41.3), ('item4', 55), ('item5', 24)])\n"
     ]
    }
   ],
   "source": [
    "\"\"\"\n",
    "\n",
    "Write a script to get the keys, values and items of a dictionary.\n",
    "\n",
    "Input:--\n",
    "\n",
    "    dict1 = {'item1': 45.50, 'item2':35, 'item3': 41.30, 'item4':55, 'item5': 24}\n",
    "\n",
    "Output:--\n",
    "\n",
    "    Keys   : dict_keys(['item1', 'item2', 'item3', 'item4', 'item5'])\n",
    "    Values : dict_values([45.5, 35, 41.3, 55, 24])\n",
    "    Items  : dict_items([('item1', 45.5), ('item2', 35), ('item3', 41.3), ('item4', 55), ('item5', 24)])\n",
    "\n",
    "\"\"\"\n",
    "\n",
    "dict1 = {'item1': 45.50, 'item2':35, 'item3': 41.30, 'item4':55, 'item5': 24}\n",
    "\n",
    "print('Output:--\\n')\n",
    "print('Keys   :', dict1.keys())\n",
    "print('Values :', dict1.values())\n",
    "print('Items  :', dict1.items())"
   ]
  },
  {
   "cell_type": "code",
   "execution_count": 3,
   "metadata": {
    "colab": {
     "base_uri": "https://localhost:8080/",
     "height": 85
    },
    "colab_type": "code",
    "executionInfo": {
     "elapsed": 2864,
     "status": "ok",
     "timestamp": 1573020925999,
     "user": {
      "displayName": "bheem kumar",
      "photoUrl": "https://lh3.googleusercontent.com/a-/AAuE7mDCx24nBXj8t-exydQqWCz_3_2Fr8UREB6_UTXj=s64",
      "userId": "16514217920437432713"
     },
     "user_tz": -330
    },
    "id": "l1Rx_ZjOgSsc",
    "outputId": "27910ea9-cff2-49c2-a577-7af8898454b7"
   },
   "outputs": [
    {
     "name": "stdout",
     "output_type": "stream",
     "text": [
      "Output:--\n",
      "\n",
      "('class', 'V')\n",
      "('rolld_id', 2)\n"
     ]
    }
   ],
   "source": [
    "\"\"\"\n",
    "\n",
    "Write a script to print items of dictionary one by one. \n",
    "\n",
    "Input:--\n",
    "\n",
    "    dict1 = {'class':'V','rolld_id':2}\n",
    "    \n",
    "Output:--    \n",
    "\n",
    "    ('class', 'V')\n",
    "    ('rolld_id', 2)\n",
    "\n",
    "\"\"\"\n",
    "\n",
    "dict1 = {'class':'V','rolld_id':2}\n",
    "\n",
    "print('Output:--\\n')\n",
    "for x in dict1.items():\n",
    "\n",
    "    print(x)"
   ]
  },
  {
   "cell_type": "code",
   "execution_count": 4,
   "metadata": {
    "colab": {
     "base_uri": "https://localhost:8080/",
     "height": 34
    },
    "colab_type": "code",
    "executionInfo": {
     "elapsed": 2858,
     "status": "ok",
     "timestamp": 1573020925999,
     "user": {
      "displayName": "bheem kumar",
      "photoUrl": "https://lh3.googleusercontent.com/a-/AAuE7mDCx24nBXj8t-exydQqWCz_3_2Fr8UREB6_UTXj=s64",
      "userId": "16514217920437432713"
     },
     "user_tz": -330
    },
    "id": "ZSMbNDGpgSse",
    "outputId": "d275fbe0-29ad-40ac-be24-d01c1d550290"
   },
   "outputs": [
    {
     "name": "stdout",
     "output_type": "stream",
     "text": [
      "Output : True\n"
     ]
    }
   ],
   "source": [
    "\"\"\"\n",
    "\n",
    "Write a script to check whether dictionary contain more than one item or not.\n",
    "\n",
    "Input:--\n",
    "\n",
    "    dict1 = {0:0, 23:23, 'name':'sam'}\n",
    "\n",
    "Output:--\n",
    "\n",
    "    True\n",
    "    \n",
    "\"\"\"\n",
    "\n",
    "dict1 = {0:0, 23:23, 'name':'sam'}\n",
    "\n",
    "print('Output :',True if len(dict1)>1 else False)"
   ]
  },
  {
   "cell_type": "code",
   "execution_count": 5,
   "metadata": {
    "colab": {
     "base_uri": "https://localhost:8080/",
     "height": 34
    },
    "colab_type": "code",
    "executionInfo": {
     "elapsed": 2849,
     "status": "ok",
     "timestamp": 1573020926000,
     "user": {
      "displayName": "bheem kumar",
      "photoUrl": "https://lh3.googleusercontent.com/a-/AAuE7mDCx24nBXj8t-exydQqWCz_3_2Fr8UREB6_UTXj=s64",
      "userId": "16514217920437432713"
     },
     "user_tz": -330
    },
    "id": "uGtzW4BNgSsg",
    "outputId": "c94f7e93-1acb-41fe-bd1f-11845909acaf"
   },
   "outputs": [
    {
     "name": "stdout",
     "output_type": "stream",
     "text": [
      "Output : Total number of value of list is 5\n"
     ]
    }
   ],
   "source": [
    "\"\"\"\n",
    "\n",
    "Write a script to count the number of items in dictionary value that is a list.\n",
    "\n",
    "Input:--\n",
    "\n",
    "    dict1 =  {'Alex': ['subj1', 'subj2', 'subj3'], 'David': ['subj1', 'subj2']}\n",
    "\n",
    "Output:--\n",
    "\n",
    "    Total number of value of list is 5\n",
    "\n",
    "\"\"\"\n",
    "\n",
    "dict1 =  {'Alex': ['subj1', 'subj2', 'subj3'], 'David': ['subj1', 'subj2']}\n",
    "count = sum(map(len,dict1.values()))\n",
    "\n",
    "print('Output : Total number of value of list is', count)"
   ]
  },
  {
   "cell_type": "code",
   "execution_count": null,
   "metadata": {
    "colab": {
     "base_uri": "https://localhost:8080/",
     "height": 54
    },
    "colab_type": "code",
    "collapsed": true,
    "executionInfo": {
     "elapsed": 630,
     "status": "ok",
     "timestamp": 1575929461206,
     "user": {
      "displayName": "Madan Lal Gupta",
      "photoUrl": "",
      "userId": "02702418645993111853"
     },
     "user_tz": 300
    },
    "id": "uWc3xJV67A2o",
    "outputId": "e84c0d6e-2fdf-40d3-d80b-ae2474a184d2"
   },
   "outputs": [],
   "source": [
    "\"\"\"\n",
    "\n",
    "1. WAP to read following input as a csv file after creating in an excel sheet ( 5 columns and 15 rows) \n",
    "and saving it as csv file.\n",
    "\n",
    "Student\tSubject1\tSubject2 Subject3 Subject4 \n",
    "Student1\t\t\n",
    "Student2\t\n",
    "    .\n",
    "    .\n",
    "    .\t\n",
    "Student15\n",
    "\n",
    "2. Create a dictionay to store the column names as keys and row as values against each key.\n",
    "\n",
    "3. Find top 5 students in each subject using python Dict.\n",
    "\n",
    "4. Find the total score in all subjects.\n",
    "\n",
    "5. Find first and last student in the Dict.\n",
    "\n",
    "\n",
    "DATA:--\n",
    "ology\":79, \"Math\":70, \"English\":89 }\n",
    "    {'Ammy':   {\"Physics\":90, \"Chemistry\":70, \"Biology\":84, \"Math\":80, \"English\":78 },\n",
    "    'John':    {\"Physics\":92, \"Chemistry\":90, \"Biology\":85, \"Math\":61, \"English\":79 },\n",
    "    'Jacky':   {\"Physics\":88, \"Chemistry\":91, \"Biology\":86, \"Math\":92, \"English\":97 },\n",
    "    'Jack':    {\"Physics\":99, \"Chemistry\":92, \"Biology\":87, \"Math\":94, \"English\":42 },\n",
    "    'Enrique': {\"Physics\":56, \"Chemistry\":93, \"Biology\":88, \"Math\":65, \"English\":52 },\n",
    "    'Antony':  {\"Physics\":65, \"Chemistry\":94, \"Biology\":89, \"Math\":46, \"English\":83 },\n",
    "    'Rocky':   {\"Physics\":98, \"Chemistry\":95, \"Biology\":71, \"Math\":57, \"English\":90 },\n",
    "    'Netown':  {\"Physics\":79, \"Chemistry\":96, \"Biology\":72, \"Math\":98, \"English\":85 },\n",
    "    'Peter':   {\"Physics\":59, \"Chemistry\":97, \"Biology\":73, \"Math\":90, \"English\":47 },\n",
    "    'Chris':   {\"Physics\":60, \"Chemistry\":98, \"Biology\":74, \"Math\":93, \"English\":80 },\n",
    "    'Stive':   {\"Physics\":97, \"Chemistry\":99, \"Biology\":75, \"Math\":77, \"English\":24 },\n",
    "    'Tony':    {\"Physics\":94, \"Chemistry\":80, \"Biology\":76, \"Math\":97, \"English\":67 },\n",
    "    'Stephan': {\"Physics\":67, \"Chemistry\":81, \"Biology\":77, \"Math\":87, \"English\":87 },\n",
    "    'Reyan':   {\"Physics\":86, \"Chemistry\":82, \"Biology\":78, \"Math\":79, \"English\":82 },\n",
    "    'Shareen': {\"Physics\":89, \"Chemistry\":83, \"Bi}\n",
    "\n",
    "\n",
    "\"\"\"\t\t"
   ]
  },
  {
   "cell_type": "code",
   "execution_count": 6,
   "metadata": {
    "colab": {
     "base_uri": "https://localhost:8080/",
     "height": 514
    },
    "colab_type": "code",
    "executionInfo": {
     "elapsed": 976,
     "status": "ok",
     "timestamp": 1575442435421,
     "user": {
      "displayName": "bheem kumar",
      "photoUrl": "https://lh3.googleusercontent.com/a-/AAuE7mDCx24nBXj8t-exydQqWCz_3_2Fr8UREB6_UTXj=s64",
      "userId": "16514217920437432713"
     },
     "user_tz": -330
    },
    "id": "-zS4t-G7xYSn",
    "outputId": "d6aa0254-eb5e-43e7-b8a0-8d5d5c99daf4"
   },
   "outputs": [
    {
     "data": {
      "text/html": [
       "<div>\n",
       "<style>\n",
       "    .dataframe thead tr:only-child th {\n",
       "        text-align: right;\n",
       "    }\n",
       "\n",
       "    .dataframe thead th {\n",
       "        text-align: left;\n",
       "    }\n",
       "\n",
       "    .dataframe tbody tr th {\n",
       "        vertical-align: top;\n",
       "    }\n",
       "</style>\n",
       "<table border=\"1\" class=\"dataframe\">\n",
       "  <thead>\n",
       "    <tr style=\"text-align: right;\">\n",
       "      <th></th>\n",
       "      <th>Students</th>\n",
       "      <th>Physics</th>\n",
       "      <th>Chemistry</th>\n",
       "      <th>Biology</th>\n",
       "      <th>Math</th>\n",
       "      <th>English</th>\n",
       "    </tr>\n",
       "  </thead>\n",
       "  <tbody>\n",
       "    <tr>\n",
       "      <th>0</th>\n",
       "      <td>Ammy</td>\n",
       "      <td>90</td>\n",
       "      <td>94</td>\n",
       "      <td>84</td>\n",
       "      <td>80</td>\n",
       "      <td>78</td>\n",
       "    </tr>\n",
       "    <tr>\n",
       "      <th>1</th>\n",
       "      <td>John</td>\n",
       "      <td>92</td>\n",
       "      <td>90</td>\n",
       "      <td>85</td>\n",
       "      <td>61</td>\n",
       "      <td>79</td>\n",
       "    </tr>\n",
       "    <tr>\n",
       "      <th>2</th>\n",
       "      <td>Jacky</td>\n",
       "      <td>88</td>\n",
       "      <td>91</td>\n",
       "      <td>86</td>\n",
       "      <td>92</td>\n",
       "      <td>97</td>\n",
       "    </tr>\n",
       "    <tr>\n",
       "      <th>3</th>\n",
       "      <td>Jack</td>\n",
       "      <td>99</td>\n",
       "      <td>92</td>\n",
       "      <td>87</td>\n",
       "      <td>94</td>\n",
       "      <td>42</td>\n",
       "    </tr>\n",
       "    <tr>\n",
       "      <th>4</th>\n",
       "      <td>Enrique</td>\n",
       "      <td>56</td>\n",
       "      <td>93</td>\n",
       "      <td>88</td>\n",
       "      <td>65</td>\n",
       "      <td>52</td>\n",
       "    </tr>\n",
       "    <tr>\n",
       "      <th>5</th>\n",
       "      <td>Antony</td>\n",
       "      <td>65</td>\n",
       "      <td>94</td>\n",
       "      <td>89</td>\n",
       "      <td>46</td>\n",
       "      <td>83</td>\n",
       "    </tr>\n",
       "    <tr>\n",
       "      <th>6</th>\n",
       "      <td>Rocky</td>\n",
       "      <td>98</td>\n",
       "      <td>95</td>\n",
       "      <td>71</td>\n",
       "      <td>57</td>\n",
       "      <td>90</td>\n",
       "    </tr>\n",
       "    <tr>\n",
       "      <th>7</th>\n",
       "      <td>Netown</td>\n",
       "      <td>79</td>\n",
       "      <td>96</td>\n",
       "      <td>72</td>\n",
       "      <td>98</td>\n",
       "      <td>85</td>\n",
       "    </tr>\n",
       "    <tr>\n",
       "      <th>8</th>\n",
       "      <td>Peter</td>\n",
       "      <td>59</td>\n",
       "      <td>97</td>\n",
       "      <td>73</td>\n",
       "      <td>90</td>\n",
       "      <td>47</td>\n",
       "    </tr>\n",
       "    <tr>\n",
       "      <th>9</th>\n",
       "      <td>Chris</td>\n",
       "      <td>60</td>\n",
       "      <td>98</td>\n",
       "      <td>74</td>\n",
       "      <td>93</td>\n",
       "      <td>80</td>\n",
       "    </tr>\n",
       "    <tr>\n",
       "      <th>10</th>\n",
       "      <td>Stive</td>\n",
       "      <td>97</td>\n",
       "      <td>99</td>\n",
       "      <td>75</td>\n",
       "      <td>77</td>\n",
       "      <td>24</td>\n",
       "    </tr>\n",
       "    <tr>\n",
       "      <th>11</th>\n",
       "      <td>Tony</td>\n",
       "      <td>94</td>\n",
       "      <td>80</td>\n",
       "      <td>76</td>\n",
       "      <td>97</td>\n",
       "      <td>67</td>\n",
       "    </tr>\n",
       "    <tr>\n",
       "      <th>12</th>\n",
       "      <td>Stephan</td>\n",
       "      <td>67</td>\n",
       "      <td>81</td>\n",
       "      <td>77</td>\n",
       "      <td>87</td>\n",
       "      <td>87</td>\n",
       "    </tr>\n",
       "    <tr>\n",
       "      <th>13</th>\n",
       "      <td>Reyan</td>\n",
       "      <td>86</td>\n",
       "      <td>82</td>\n",
       "      <td>78</td>\n",
       "      <td>79</td>\n",
       "      <td>82</td>\n",
       "    </tr>\n",
       "    <tr>\n",
       "      <th>14</th>\n",
       "      <td>Shareen</td>\n",
       "      <td>89</td>\n",
       "      <td>83</td>\n",
       "      <td>79</td>\n",
       "      <td>70</td>\n",
       "      <td>89</td>\n",
       "    </tr>\n",
       "  </tbody>\n",
       "</table>\n",
       "</div>"
      ],
      "text/plain": [
       "   Students Physics Chemistry Biology Math English\n",
       "0      Ammy      90        94      84   80      78\n",
       "1      John      92        90      85   61      79\n",
       "2     Jacky      88        91      86   92      97\n",
       "3      Jack      99        92      87   94      42\n",
       "4   Enrique      56        93      88   65      52\n",
       "5    Antony      65        94      89   46      83\n",
       "6     Rocky      98        95      71   57      90\n",
       "7    Netown      79        96      72   98      85\n",
       "8     Peter      59        97      73   90      47\n",
       "9     Chris      60        98      74   93      80\n",
       "10    Stive      97        99      75   77      24\n",
       "11     Tony      94        80      76   97      67\n",
       "12  Stephan      67        81      77   87      87\n",
       "13    Reyan      86        82      78   79      82\n",
       "14  Shareen      89        83      79   70      89"
      ]
     },
     "execution_count": 6,
     "metadata": {},
     "output_type": "execute_result"
    }
   ],
   "source": [
    "\"\"\"\n",
    "\n",
    "1. WAP to read following input as a csv file after creating in an excel sheet ( 5 columns and 15 rows) \n",
    "and saving it as csv file\n",
    "\n",
    "Input Demo:--\n",
    "\n",
    "    Student\tSubject1\tSubject2 Subject3 Subject4 \n",
    "    Student1\t\t\n",
    "    Student2\t\n",
    "        .\n",
    "        .\n",
    "        .\t\n",
    "    Student15\n",
    "\n",
    "\"\"\"\n",
    "import csv\n",
    "import pandas as pd\n",
    "\n",
    "data = [['Ammy',    90, 94, 84, 80, 78],\n",
    "        ['John',    92, 90, 85, 61, 79],\n",
    "        ['Jacky',   88, 91, 86, 92, 97],\n",
    "        ['Jack',    99, 92, 87, 94, 42],\n",
    "        ['Enrique', 56, 93, 88, 65, 52],\n",
    "        ['Antony',  65, 94, 89, 46, 83],\n",
    "        ['Rocky',   98, 95, 71, 57, 90],\n",
    "        ['Netown',  79, 96, 72, 98, 85],\n",
    "        ['Peter',   59, 97, 73, 90, 47],\n",
    "        ['Chris',   60, 98, 74, 93, 80],\n",
    "        ['Stive',   97, 99, 75, 77, 24],\n",
    "        ['Tony',    94, 80, 76, 97, 67],\n",
    "        ['Stephan', 67, 81, 77, 87, 87],\n",
    "        ['Reyan',   86, 82, 78, 79, 82],\n",
    "        ['Shareen', 89, 83, 79, 70, 89]]\n",
    "\n",
    "\n",
    "\n",
    "# Creating data frame.\n",
    "data_frame = pd.DataFrame(columns = [\"Students\", \"Physics\", \"Chemistry\", \"Biology\", \"Math\", \"English\"])\n",
    "\n",
    "# Inserting records of student in data frame.\n",
    "for i in range(len(data)):\n",
    "    data_frame.loc[i] = data[i]\n",
    "\n",
    "# Saving data_frame as csv.    \n",
    "data_frame.to_csv('students_marks.csv', index = False, )\n",
    "\n",
    "data_frame"
   ]
  },
  {
   "cell_type": "code",
   "execution_count": 18,
   "metadata": {
    "colab": {},
    "colab_type": "code",
    "id": "uib_GCt_mYrV"
   },
   "outputs": [
    {
     "name": "stdout",
     "output_type": "stream",
     "text": [
      "['Students', 'Physics', 'Chemistry', 'Biology', 'Math', 'English']\n",
      "Ammy {'Physics': 90, 'Chemistry': 94, 'Biology': 84, 'Math': 80, 'English': 78}\n",
      "John {'Physics': 92, 'Chemistry': 90, 'Biology': 85, 'Math': 61, 'English': 79}\n",
      "Jacky {'Physics': 88, 'Chemistry': 91, 'Biology': 86, 'Math': 92, 'English': 97}\n",
      "Jack {'Physics': 99, 'Chemistry': 92, 'Biology': 87, 'Math': 94, 'English': 42}\n",
      "Enrique {'Physics': 56, 'Chemistry': 93, 'Biology': 88, 'Math': 65, 'English': 52}\n",
      "Antony {'Physics': 65, 'Chemistry': 94, 'Biology': 89, 'Math': 46, 'English': 83}\n",
      "Rocky {'Physics': 98, 'Chemistry': 95, 'Biology': 71, 'Math': 57, 'English': 90}\n",
      "Netown {'Physics': 79, 'Chemistry': 96, 'Biology': 72, 'Math': 98, 'English': 85}\n",
      "Peter {'Physics': 59, 'Chemistry': 97, 'Biology': 73, 'Math': 90, 'English': 47}\n",
      "Chris {'Physics': 60, 'Chemistry': 98, 'Biology': 74, 'Math': 93, 'English': 80}\n",
      "Stive {'Physics': 97, 'Chemistry': 99, 'Biology': 75, 'Math': 77, 'English': 24}\n",
      "Tony {'Physics': 94, 'Chemistry': 80, 'Biology': 76, 'Math': 97, 'English': 67}\n",
      "Stephan {'Physics': 67, 'Chemistry': 81, 'Biology': 77, 'Math': 87, 'English': 87}\n",
      "Reyan {'Physics': 86, 'Chemistry': 82, 'Biology': 78, 'Math': 79, 'English': 82}\n",
      "Shareen {'Physics': 89, 'Chemistry': 83, 'Biology': 79, 'Math': 70, 'English': 89}\n"
     ]
    }
   ],
   "source": [
    "\"\"\"\n",
    "\n",
    "2. Create a dictionay to store the column names as keys and row as values against each key.\n",
    "\n",
    "\"\"\"\n",
    "\n",
    "import csv\n",
    "with open('students_marks.csv') as csvfile:\n",
    "    readCSV = csv.reader(csvfile, delimiter=',')\n",
    "    header = next(readCSV)\n",
    "    print(header)\n",
    "    dict1 = {}\n",
    "    for row in readCSV:\n",
    "        d = {}\n",
    "        for i in range(1,len(row)):\n",
    "            d[header[i]] = int(row[i])\n",
    "        dict1[row[0]] = d\n",
    "for key , values  in dict1.items():\n",
    "    print(key, values)"
   ]
  },
  {
   "cell_type": "code",
   "execution_count": 19,
   "metadata": {
    "colab": {
     "base_uri": "https://localhost:8080/",
     "height": 612
    },
    "colab_type": "code",
    "executionInfo": {
     "elapsed": 1183,
     "status": "ok",
     "timestamp": 1575442527180,
     "user": {
      "displayName": "bheem kumar",
      "photoUrl": "https://lh3.googleusercontent.com/a-/AAuE7mDCx24nBXj8t-exydQqWCz_3_2Fr8UREB6_UTXj=s64",
      "userId": "16514217920437432713"
     },
     "user_tz": -330
    },
    "id": "eJvi5xoR75oj",
    "outputId": "8f2b5022-478d-43bf-b999-35fd84d97ad1"
   },
   "outputs": [
    {
     "name": "stdout",
     "output_type": "stream",
     "text": [
      "[{'Physics': 90, 'Chemistry': 94, 'Biology': 84, 'Math': 80, 'English': 78}, {'Physics': 92, 'Chemistry': 90, 'Biology': 85, 'Math': 61, 'English': 79}, {'Physics': 88, 'Chemistry': 91, 'Biology': 86, 'Math': 92, 'English': 97}, {'Physics': 99, 'Chemistry': 92, 'Biology': 87, 'Math': 94, 'English': 42}, {'Physics': 56, 'Chemistry': 93, 'Biology': 88, 'Math': 65, 'English': 52}, {'Physics': 65, 'Chemistry': 94, 'Biology': 89, 'Math': 46, 'English': 83}, {'Physics': 98, 'Chemistry': 95, 'Biology': 71, 'Math': 57, 'English': 90}, {'Physics': 79, 'Chemistry': 96, 'Biology': 72, 'Math': 98, 'English': 85}, {'Physics': 59, 'Chemistry': 97, 'Biology': 73, 'Math': 90, 'English': 47}, {'Physics': 60, 'Chemistry': 98, 'Biology': 74, 'Math': 93, 'English': 80}, {'Physics': 97, 'Chemistry': 99, 'Biology': 75, 'Math': 77, 'English': 24}, {'Physics': 94, 'Chemistry': 80, 'Biology': 76, 'Math': 97, 'English': 67}, {'Physics': 67, 'Chemistry': 81, 'Biology': 77, 'Math': 87, 'English': 87}, {'Physics': 86, 'Chemistry': 82, 'Biology': 78, 'Math': 79, 'English': 82}, {'Physics': 89, 'Chemistry': 83, 'Biology': 79, 'Math': 70, 'English': 89}]\n",
      "\n",
      "For subject : Physics\n",
      "99 Jack\n",
      "98 Rocky\n",
      "97 Stive\n",
      "94 Tony\n",
      "92 John\n",
      "\n",
      "For subject : Chemistry\n",
      "99 Stive\n",
      "98 Chris\n",
      "97 Peter\n",
      "96 Netown\n",
      "95 Rocky\n",
      "\n",
      "For subject : Biology\n",
      "89 Antony\n",
      "88 Enrique\n",
      "87 Jack\n",
      "86 Jacky\n",
      "85 John\n",
      "\n",
      "For subject : Math\n",
      "98 Netown\n",
      "97 Tony\n",
      "94 Jack\n",
      "93 Chris\n",
      "92 Jacky\n",
      "\n",
      "For subject : English\n",
      "97 Jacky\n",
      "90 Rocky\n",
      "89 Shareen\n",
      "87 Stephan\n",
      "85 Netown\n"
     ]
    }
   ],
   "source": [
    "\"\"\"\n",
    "\n",
    "3. Find top 5 students in each subject using python Dict.\n",
    "\n",
    "Output:--\n",
    "\n",
    "    For subject : Physics\n",
    "    99 Jack\n",
    "    99 Jack\n",
    "    99 Jack\n",
    "    98 John\n",
    "    98 John\n",
    "\n",
    "    For subject : Chemistry\n",
    "    99 Stive\n",
    "    98 Ammy\n",
    "    98 Ammy\n",
    "    97 Peter\n",
    "    96 Netown\n",
    "\n",
    "    For subject : Biology\n",
    "    89 Antony\n",
    "    88 Enrique\n",
    "    87 Jack\n",
    "    86 Jacky\n",
    "    85 John\n",
    "\n",
    "    For subject : Math\n",
    "    98 Antony\n",
    "    98 Antony\n",
    "    98 Antony\n",
    "    97 Enrique\n",
    "    97 Enrique\n",
    "\n",
    "    For subject : English\n",
    "    97 Jacky\n",
    "    90 Rocky\n",
    "    89 Ammy\n",
    "    89 Ammy\n",
    "    88 Jack\n",
    "\n",
    "\"\"\"\n",
    "\n",
    "# Getting the subjects name.\n",
    "subjects = list(dict1.values())[0].keys()\n",
    "ss= list(dict1.values())\n",
    "print(ss)\n",
    "# Finding the name of student according to 5 highest marks for each subjects.\n",
    "for subject in subjects:\n",
    "\n",
    "    # Getting all the marks of particular subjects.\n",
    "    marks_by_subject = [list(dict1.values()) [i][subject] for i in range(15)]\n",
    "\n",
    "    # Getting all name of sutdents.\n",
    "    students_name = list(dict1.keys())\n",
    "\n",
    "    # Counting to prit 5 names.\n",
    "    count = 0\n",
    "\n",
    "    print(\"\\nFor subject :\", subject)\n",
    "\n",
    "    # Getting top five marks and students name from sorted list.\n",
    "    for marks in sorted(marks_by_subject,reverse = True):\n",
    "\n",
    "        print(marks, students_name[marks_by_subject.index(marks)])\n",
    "        count+=1\n",
    "        if count==5:\n",
    "            break\n"
   ]
  },
  {
   "cell_type": "code",
   "execution_count": 0,
   "metadata": {
    "colab": {
     "base_uri": "https://localhost:8080/",
     "height": 136
    },
    "colab_type": "code",
    "executionInfo": {
     "elapsed": 1385,
     "status": "ok",
     "timestamp": 1575442550132,
     "user": {
      "displayName": "bheem kumar",
      "photoUrl": "https://lh3.googleusercontent.com/a-/AAuE7mDCx24nBXj8t-exydQqWCz_3_2Fr8UREB6_UTXj=s64",
      "userId": "16514217920437432713"
     },
     "user_tz": -330
    },
    "id": "24d9QbAS8Fcy",
    "outputId": "ba0c0c83-dd68-45a5-e909-029506385f2b"
   },
   "outputs": [
    {
     "name": "stdout",
     "output_type": "stream",
     "text": [
      "Output:--\n",
      "\n",
      "Total score for subject Physics: 1219\n",
      "Total score for subject Chemistry: 1365\n",
      "Total score for subject Biology: 1194\n",
      "Total score for subject Math: 1186\n",
      "Total score for subject English: 1082\n"
     ]
    }
   ],
   "source": [
    "\"\"\"\n",
    "\n",
    "4. Find the total score in all subjects.\n",
    "\n",
    "Output:--\n",
    "\n",
    "    Total score for subject Physics: 1249\n",
    "    Total score for subject Chemistry: 1369\n",
    "    Total score for subject Biology: 1194\n",
    "    Total score for subject Math: 1304\n",
    "    Total score for subject English: 1303\n",
    "\n",
    "\"\"\"\n",
    "\n",
    "print(\"Output:--\\n\")\n",
    "for subject in subjects:\n",
    "\n",
    "    print(\"Total score for subject \" + subject+\":\", sum([list(dict1.values())[i][subject] for i in range(15)]))"
   ]
  },
  {
   "cell_type": "code",
   "execution_count": 0,
   "metadata": {
    "colab": {
     "base_uri": "https://localhost:8080/",
     "height": 85
    },
    "colab_type": "code",
    "executionInfo": {
     "elapsed": 1174,
     "status": "ok",
     "timestamp": 1575442571752,
     "user": {
      "displayName": "bheem kumar",
      "photoUrl": "https://lh3.googleusercontent.com/a-/AAuE7mDCx24nBXj8t-exydQqWCz_3_2Fr8UREB6_UTXj=s64",
      "userId": "16514217920437432713"
     },
     "user_tz": -330
    },
    "id": "4tcL-p5Vo4XK",
    "outputId": "b02abcc2-b37b-4f51-97ab-70251d053e71"
   },
   "outputs": [
    {
     "name": "stdout",
     "output_type": "stream",
     "text": [
      "Output:--\n",
      "\n",
      "First student in Dictionary\t: Ammy\n",
      "Last student in Dictionary\t: Shareen\n"
     ]
    }
   ],
   "source": [
    "\"\"\"\n",
    "\n",
    "5. Find first and last student in the Dict.\n",
    "\n",
    "Output:--\n",
    "\n",
    "    First student in Dictionary\t: Ammy\n",
    "    Last student in Dictionary\t: Shareen\n",
    "    \n",
    "\"\"\"\n",
    "print(\"Output:--\\n\")\n",
    "print(\"First student in Dictionary\\t:\",list(dict1.keys())[0])\n",
    "print(\"Last student in Dictionary\\t:\",list(dict1.keys())[-1])\n"
   ]
  }
 ],
 "metadata": {
  "colab": {
   "collapsed_sections": [],
   "name": "Python_dictionary_1.ipynb",
   "provenance": []
  },
  "kernelspec": {
   "display_name": "Python 3",
   "language": "python",
   "name": "python3"
  },
  "language_info": {
   "codemirror_mode": {
    "name": "ipython",
    "version": 3
   },
   "file_extension": ".py",
   "mimetype": "text/x-python",
   "name": "python",
   "nbconvert_exporter": "python",
   "pygments_lexer": "ipython3",
   "version": "3.8.2"
  }
 },
 "nbformat": 4,
 "nbformat_minor": 1
}
