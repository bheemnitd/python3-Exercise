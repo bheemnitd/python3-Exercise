{
 "cells": [
  {
   "cell_type": "code",
   "execution_count": 1,
   "metadata": {
    "colab": {
     "base_uri": "https://localhost:8080/",
     "height": 54
    },
    "colab_type": "code",
    "executionInfo": {
     "elapsed": 1263,
     "status": "ok",
     "timestamp": 1571033103280,
     "user": {
      "displayName": "bheem kumar",
      "photoUrl": "",
      "userId": "16514217920437432713"
     },
     "user_tz": -330
    },
    "id": "VTdgRqp0ITH4",
    "outputId": "d89424b9-ea4f-4151-fedb-daea2ef6a603"
   },
   "outputs": [
    {
     "data": {
      "text/plain": [
       "'\\nWhat is loop ?\\n\\nAnswer\\n\\nIn computer programming, a loop is a sequence of instructions that is\\ncontinually repeated until a certain condition is reached. \\nTypically, a certain process is done, such as getting an item of data and\\nchanging it, and then some condition is checked such as whether a counter has \\nreached a prescribed number.\\n\\n'"
      ]
     },
     "execution_count": 1,
     "metadata": {
      "tags": []
     },
     "output_type": "execute_result"
    }
   ],
   "source": [
    "\"\"\"\n",
    "What is loop ?\n",
    "\n",
    "Answer\n",
    "\n",
    "In computer programming, a loop is a sequence of instructions that is\n",
    "continually repeated until a certain condition is reached. \n",
    "Typically, a certain process is done, such as getting an item of data and\n",
    "changing it, and then some condition is checked such as whether a counter has \n",
    "reached a prescribed number.\n",
    "\n",
    "\"\"\""
   ]
  },
  {
   "cell_type": "code",
   "execution_count": 0,
   "metadata": {
    "colab": {
     "base_uri": "https://localhost:8080/",
     "height": 54
    },
    "colab_type": "code",
    "executionInfo": {
     "elapsed": 1489,
     "status": "ok",
     "timestamp": 1566280814136,
     "user": {
      "displayName": "BHEEM KUMAR",
      "photoUrl": "https://lh4.googleusercontent.com/-FbEp2oHW2Io/AAAAAAAAAAI/AAAAAAAAAB8/8MD_60DGnZc/s64/photo.jpg",
      "userId": "17710010183457348789"
     },
     "user_tz": -330
    },
    "id": "GhGVidPBJFL7",
    "outputId": "1096535f-1181-4d11-a62c-bd8aac48c634"
   },
   "outputs": [
    {
     "data": {
      "text/plain": [
       "'\\nTypes of loop in Python.\\n\\nwhile loop :- Repeats a statement or group of statements while a given condition\\nis TRUE.  It tests the condition before executing the loop body.\\n\\nfor loop :- Executes a sequence of statements multiple times and abbreviates the\\ncode that manages the loop variable.\\n\\nnested loops :- You can use one or more loop inside any another while, \\nfor or do..while loop.\\n\\n'"
      ]
     },
     "execution_count": 2,
     "metadata": {
      "tags": []
     },
     "output_type": "execute_result"
    }
   ],
   "source": [
    "\"\"\"\n",
    "Types of loop in Python.\n",
    "\n",
    "while loop :- Repeats a statement or group of statements while a given condition\n",
    "is TRUE.  It tests the condition before executing the loop body.\n",
    "\n",
    "for loop :- Executes a sequence of statements multiple times and abbreviates the\n",
    "code that manages the loop variable.\n",
    "\n",
    "nested loops :- You can use one or more loop inside any another while, \n",
    "for or do..while loop.\n",
    "\n",
    "\"\"\""
   ]
  },
  {
   "cell_type": "code",
   "execution_count": 2,
   "metadata": {
    "colab": {
     "base_uri": "https://localhost:8080/",
     "height": 204
    },
    "colab_type": "code",
    "executionInfo": {
     "elapsed": 1301,
     "status": "ok",
     "timestamp": 1571033104573,
     "user": {
      "displayName": "bheem kumar",
      "photoUrl": "",
      "userId": "16514217920437432713"
     },
     "user_tz": -330
    },
    "id": "_sWKA_LGKA1G",
    "outputId": "a87f48b0-80a9-4f59-9718-dee8f656e89e"
   },
   "outputs": [
    {
     "name": "stdout",
     "output_type": "stream",
     "text": [
      "Output :\n",
      "1\n",
      "2\n",
      "3\n",
      "4\n",
      "5\n",
      "6\n",
      "7\n",
      "8\n",
      "9\n",
      "10\n"
     ]
    }
   ],
   "source": [
    "\"\"\"\n",
    "Print 1 to 10 using while loop.\n",
    "Input : 1\n",
    "Output:\n",
    "1\n",
    "2\n",
    "3\n",
    "4\n",
    "5\n",
    "6\n",
    "7\n",
    "8\n",
    "9\n",
    "10\n",
    "\n",
    "\"\"\"\n",
    "i = 1\n",
    "print('Output :')\n",
    "while i<=10:\n",
    "  print(i)\n",
    "  i+=1"
   ]
  },
  {
   "cell_type": "code",
   "execution_count": 0,
   "metadata": {
    "colab": {
     "base_uri": "https://localhost:8080/",
     "height": 204
    },
    "colab_type": "code",
    "executionInfo": {
     "elapsed": 1472,
     "status": "ok",
     "timestamp": 1566280814137,
     "user": {
      "displayName": "BHEEM KUMAR",
      "photoUrl": "https://lh4.googleusercontent.com/-FbEp2oHW2Io/AAAAAAAAAAI/AAAAAAAAAB8/8MD_60DGnZc/s64/photo.jpg",
      "userId": "17710010183457348789"
     },
     "user_tz": -330
    },
    "id": "t4qyxh21KZjV",
    "outputId": "1a502748-5e37-4724-c9c8-c6c2951bea90"
   },
   "outputs": [
    {
     "name": "stdout",
     "output_type": "stream",
     "text": [
      "Output :\n",
      "1\n",
      "2\n",
      "3\n",
      "4\n",
      "5\n",
      "6\n",
      "7\n",
      "8\n",
      "9\n",
      "10\n"
     ]
    }
   ],
   "source": [
    "\"\"\"\n",
    "Print 1 to 10 using for loop.\n",
    "Output:\n",
    "1\n",
    "2\n",
    "3\n",
    "4\n",
    "5\n",
    "6\n",
    "7\n",
    "8\n",
    "9\n",
    "10\n",
    "\n",
    "\"\"\"\n",
    "print('Output :')\n",
    "for i in range(1, 11):\n",
    "  print(i)"
   ]
  },
  {
   "cell_type": "code",
   "execution_count": 0,
   "metadata": {
    "colab": {
     "base_uri": "https://localhost:8080/",
     "height": 34
    },
    "colab_type": "code",
    "executionInfo": {
     "elapsed": 1464,
     "status": "ok",
     "timestamp": 1566280814137,
     "user": {
      "displayName": "BHEEM KUMAR",
      "photoUrl": "https://lh4.googleusercontent.com/-FbEp2oHW2Io/AAAAAAAAAAI/AAAAAAAAAB8/8MD_60DGnZc/s64/photo.jpg",
      "userId": "17710010183457348789"
     },
     "user_tz": -330
    },
    "id": "sDERAhurLj-L",
    "outputId": "d459c6d4-31dc-49c7-fbd8-c40bab524b57"
   },
   "outputs": [
    {
     "name": "stdout",
     "output_type": "stream",
     "text": [
      "Output : [1, 2, 3, 4, 5, 6, 7, 8, 9, 10]\n"
     ]
    }
   ],
   "source": [
    "\"\"\"\n",
    "Write one line code to print 1 to 10 using for loop.\n",
    "Output: [1, 2, 3, 4, 5, 6, 7, 8, 9, 10]\n",
    "\n",
    "\"\"\"\n",
    "print('Output :', [i for i in range(1,11)])"
   ]
  },
  {
   "cell_type": "code",
   "execution_count": 0,
   "metadata": {
    "colab": {
     "base_uri": "https://localhost:8080/",
     "height": 187
    },
    "colab_type": "code",
    "executionInfo": {
     "elapsed": 1457,
     "status": "ok",
     "timestamp": 1566280814138,
     "user": {
      "displayName": "BHEEM KUMAR",
      "photoUrl": "https://lh4.googleusercontent.com/-FbEp2oHW2Io/AAAAAAAAAAI/AAAAAAAAAB8/8MD_60DGnZc/s64/photo.jpg",
      "userId": "17710010183457348789"
     },
     "user_tz": -330
    },
    "id": "t3NkFzICPtLN",
    "outputId": "cf13f7c1-2f6a-4b15-c2e8-d619281a3cb6"
   },
   "outputs": [
    {
     "name": "stdout",
     "output_type": "stream",
     "text": [
      "Output :\n",
      "1\n",
      "2\n",
      "3\n",
      "4\n",
      "5\n",
      "6\n",
      "7\n",
      "8\n",
      "9\n"
     ]
    }
   ],
   "source": [
    "\"\"\"\n",
    "Print 1 to 9 using nested for loop\n",
    "Output :\n",
    "1\n",
    "2\n",
    "3\n",
    "4\n",
    "5\n",
    "6\n",
    "7\n",
    "8\n",
    "9\n",
    "\"\"\"\n",
    "print('Output :')\n",
    "k = 1\n",
    "for i in range(3):\n",
    "  for j in range(3):\n",
    "    print(k)\n",
    "    k+=1"
   ]
  },
  {
   "cell_type": "code",
   "execution_count": 0,
   "metadata": {
    "colab": {
     "base_uri": "https://localhost:8080/",
     "height": 187
    },
    "colab_type": "code",
    "executionInfo": {
     "elapsed": 2021,
     "status": "ok",
     "timestamp": 1566280814710,
     "user": {
      "displayName": "BHEEM KUMAR",
      "photoUrl": "https://lh4.googleusercontent.com/-FbEp2oHW2Io/AAAAAAAAAAI/AAAAAAAAAB8/8MD_60DGnZc/s64/photo.jpg",
      "userId": "17710010183457348789"
     },
     "user_tz": -330
    },
    "id": "i1sQXl_XURpW",
    "outputId": "d5185e7a-0d0e-485f-c020-2dd4bb2791cd"
   },
   "outputs": [
    {
     "name": "stdout",
     "output_type": "stream",
     "text": [
      "Output :\n",
      "1\n",
      "2\n",
      "3\n",
      "4\n",
      "5\n",
      "6\n",
      "7\n",
      "8\n",
      "9\n"
     ]
    }
   ],
   "source": [
    "# Is it Good ????\n",
    "\n",
    "\"\"\"\n",
    "Print 1 to 9 using nested while loop\n",
    "Output :\n",
    "1\n",
    "2\n",
    "3\n",
    "4\n",
    "5\n",
    "6\n",
    "7\n",
    "8\n",
    "9\n",
    "\"\"\"\n",
    "k=1\n",
    "\n",
    "print('Output :')\n",
    "i = 0\n",
    "while i<3:\n",
    "  j=0\n",
    "  i+=1\n",
    "  while j<3:\n",
    "    j+=1\n",
    "    print(k)\n",
    "    k+=1"
   ]
  },
  {
   "cell_type": "code",
   "execution_count": 0,
   "metadata": {
    "colab": {
     "base_uri": "https://localhost:8080/",
     "height": 187
    },
    "colab_type": "code",
    "executionInfo": {
     "elapsed": 2014,
     "status": "ok",
     "timestamp": 1566280814711,
     "user": {
      "displayName": "BHEEM KUMAR",
      "photoUrl": "https://lh4.googleusercontent.com/-FbEp2oHW2Io/AAAAAAAAAAI/AAAAAAAAAB8/8MD_60DGnZc/s64/photo.jpg",
      "userId": "17710010183457348789"
     },
     "user_tz": -330
    },
    "id": "5Lx1fjyKV4cg",
    "outputId": "fbfe90d5-680c-415b-903d-0d4d0c52dba0"
   },
   "outputs": [
    {
     "name": "stdout",
     "output_type": "stream",
     "text": [
      "Output :\n",
      "1\n",
      "2\n",
      "3\n",
      "4\n",
      "5\n",
      "6\n",
      "7\n",
      "8\n",
      "9\n"
     ]
    }
   ],
   "source": [
    "\"\"\"\n",
    "Print 1 to 9 using for loop under while loop\n",
    "Output :\n",
    "1\n",
    "2\n",
    "3\n",
    "4\n",
    "5\n",
    "6\n",
    "7\n",
    "8\n",
    "9\n",
    "\"\"\"\n",
    "k=1\n",
    "i=0\n",
    "print('Output :')\n",
    "\n",
    "while i<3:\n",
    "  i+=1\n",
    "  for j in range(3):  ## ???\n",
    "    print(k)\n",
    "    k+=1\n"
   ]
  },
  {
   "cell_type": "code",
   "execution_count": 0,
   "metadata": {
    "colab": {
     "base_uri": "https://localhost:8080/",
     "height": 187
    },
    "colab_type": "code",
    "executionInfo": {
     "elapsed": 2007,
     "status": "ok",
     "timestamp": 1566280814711,
     "user": {
      "displayName": "BHEEM KUMAR",
      "photoUrl": "https://lh4.googleusercontent.com/-FbEp2oHW2Io/AAAAAAAAAAI/AAAAAAAAAB8/8MD_60DGnZc/s64/photo.jpg",
      "userId": "17710010183457348789"
     },
     "user_tz": -330
    },
    "id": "IdOHcGumWsJf",
    "outputId": "4a591be7-7dd6-4cf8-ba06-9240bb3c254a"
   },
   "outputs": [
    {
     "name": "stdout",
     "output_type": "stream",
     "text": [
      "Output :\n",
      "1\n",
      "2\n",
      "3\n",
      "4\n",
      "5\n",
      "6\n",
      "7\n",
      "8\n",
      "9\n"
     ]
    }
   ],
   "source": [
    "\"\"\"\n",
    "Print 1 to 9 using while loop under for loop\n",
    "Output :\n",
    "1\n",
    "2\n",
    "3\n",
    "4\n",
    "5\n",
    "6\n",
    "7\n",
    "8\n",
    "9\n",
    "\"\"\"\n",
    "k=1\n",
    "j=0\n",
    "print('Output :')\n",
    "\n",
    "for i in range(3):  ## ??\n",
    "  j=0\n",
    "  while j<3:\n",
    "    j+=1\n",
    "    print(k)\n",
    "    k+=1\n"
   ]
  },
  {
   "cell_type": "markdown",
   "metadata": {
    "colab_type": "text",
    "id": "SCyNTZpn4Z9E"
   },
   "source": [
    "### Cnditional Statements.\n",
    "\n",
    "When we need to perform any operation based on condition then we use the following types of statements according to the requirment.\n",
    "\n",
    "1. **if  :** If we need to check just one condition then we use **if** statement(even we can check multiple conditon in single **if** statement using relational operators but usually we use single condition).\n",
    "\n",
    "2. **if else :** If we want to execute a block of code based on condition and if the condition is not satisfied then we want execute other block of code then the concept of **else** utilsed, means a block of code written inside the **else** part will be executed.\n",
    "\n",
    "3. **if elif... else :** If we need to check multiple condition on a single or multiple variable/expression then **if elif... else :** becomes used.\n"
   ]
  },
  {
   "cell_type": "code",
   "execution_count": 0,
   "metadata": {
    "colab": {},
    "colab_type": "code",
    "id": "GuL1N-HI4THw"
   },
   "outputs": [],
   "source": [
    "\"\"\"\n",
    "Write a code to get a string made of the first 2 and the last 2 chars from a given string. \n",
    "If the Input string's length is less than 4 print 'Input string is less than 4 character'.\n",
    "\n",
    "Inputs:--\n",
    "\n",
    "    string1 = 'HudsonData'\n",
    "    string2 = 'Data'\n",
    "    string3 = 'Ant'\n",
    "\n",
    "Outputs:--\n",
    "\n",
    "    Huta\n",
    "    Data\n",
    "    Input string is less than 4 characters\n",
    "\n",
    "\"\"\"\n",
    "\n",
    "string1 = 'HudsonData'\n",
    "string2 = 'Data'\n",
    "string3 = 'Ant'\n",
    "\n",
    "\n",
    "if len(string1)>3:\n",
    "\n",
    "    new_string = string1[0:2] + string1[-2:]\n",
    "\n",
    "else:\n",
    "\n",
    "    new_string = 'Input string is less than 4 characters'\n",
    "    \n",
    "print('Output :', new_string)"
   ]
  },
  {
   "cell_type": "code",
   "execution_count": 4,
   "metadata": {
    "colab": {
     "base_uri": "https://localhost:8080/",
     "height": 136
    },
    "colab_type": "code",
    "executionInfo": {
     "elapsed": 1296,
     "status": "ok",
     "timestamp": 1571036732028,
     "user": {
      "displayName": "bheem kumar",
      "photoUrl": "",
      "userId": "16514217920437432713"
     },
     "user_tz": -330
    },
    "id": "VmnO-QyahkMO",
    "outputId": "718697df-abb5-45f4-fd18-60e7841b1b58"
   },
   "outputs": [
    {
     "name": "stdout",
     "output_type": "stream",
     "text": [
      "Output :--\n",
      "\n",
      "0\n",
      "2\n",
      "4\n",
      "6\n",
      "8\n"
     ]
    }
   ],
   "source": [
    "\"\"\"\n",
    "\n",
    "print the even numbers between the range of 0 to 10 using any loop and 'if' statement.\n",
    "\n",
    "Output:--\n",
    "\n",
    "    0\n",
    "    2\n",
    "    4\n",
    "    6\n",
    "    8\n",
    "\n",
    "\"\"\"\n",
    "\n",
    "print('Output :--\\n')\n",
    "\n",
    "for i in range(10):\n",
    "    \n",
    "    if(i%2 == 0):\n",
    "    \n",
    "        print(i)"
   ]
  },
  {
   "cell_type": "code",
   "execution_count": 0,
   "metadata": {
    "colab": {
     "base_uri": "https://localhost:8080/",
     "height": 119
    },
    "colab_type": "code",
    "executionInfo": {
     "elapsed": 1987,
     "status": "ok",
     "timestamp": 1566280814713,
     "user": {
      "displayName": "BHEEM KUMAR",
      "photoUrl": "https://lh4.googleusercontent.com/-FbEp2oHW2Io/AAAAAAAAAAI/AAAAAAAAAB8/8MD_60DGnZc/s64/photo.jpg",
      "userId": "17710010183457348789"
     },
     "user_tz": -330
    },
    "id": "5ql-bMCejUyf",
    "outputId": "c3167d7f-75e9-43c0-f982-e27ccb7bd763"
   },
   "outputs": [
    {
     "name": "stdout",
     "output_type": "stream",
     "text": [
      "Output :\n",
      "0\n",
      "2\n",
      "4\n",
      "6\n",
      "8\n"
     ]
    }
   ],
   "source": [
    "\"\"\"\n",
    "\n",
    "print the even numbers between the range of 0 to 10 without using 'if' statement.\n",
    "\n",
    "Output:--\n",
    "\n",
    "    0\n",
    "    2\n",
    "    4\n",
    "    6\n",
    "    8\n",
    "\n",
    "\"\"\"\n",
    "\n",
    "print('Output :--')\n",
    "\n",
    "for i in range(0,10,2):\n",
    "    \n",
    "    print(i)\n",
    "  "
   ]
  },
  {
   "cell_type": "code",
   "execution_count": 0,
   "metadata": {
    "colab": {
     "base_uri": "https://localhost:8080/",
     "height": 187
    },
    "colab_type": "code",
    "executionInfo": {
     "elapsed": 1981,
     "status": "ok",
     "timestamp": 1566280814713,
     "user": {
      "displayName": "BHEEM KUMAR",
      "photoUrl": "https://lh4.googleusercontent.com/-FbEp2oHW2Io/AAAAAAAAAAI/AAAAAAAAAB8/8MD_60DGnZc/s64/photo.jpg",
      "userId": "17710010183457348789"
     },
     "user_tz": -330
    },
    "id": "hWugr-OmjqF2",
    "outputId": "ebfac3cc-d72f-48a5-e808-798b2a48a393"
   },
   "outputs": [
    {
     "name": "stdout",
     "output_type": "stream",
     "text": [
      "Output :\n",
      "Cube   of 1 is 1\n",
      "square of 2 is  4\n",
      "Cube   of 3 is 27\n",
      "square of 4 is  16\n",
      "Cube   of 5 is 125\n",
      "square of 6 is  36\n",
      "Cube   of 7 is 343\n",
      "square of 8 is  64\n",
      "Cube   of 9 is 729\n"
     ]
    }
   ],
   "source": [
    "\"\"\"\n",
    "Print the square of even number and cube of odd number using 'if else'\n",
    "statement between number 0 to 10.\n",
    "\n",
    "Output :\n",
    "\n",
    "Cube   of 1 is 1\n",
    "square of 2 is  4\n",
    "Cube   of 3 is 27\n",
    "square of 4 is  16\n",
    "Cube   of 5 is 125\n",
    "square of 6 is  36\n",
    "Cube   of 7 is 343\n",
    "square of 8 is  64\n",
    "Cube   of 9 is 729\n",
    "\n",
    "\"\"\"\n",
    "print('Output :')\n",
    "for i in range(1, 10):\n",
    "  if(i%2 == 0):\n",
    "    print('square of',i,'is ',i**2)\n",
    "  else:\n",
    "    print('Cube   of', i,'is',i**3)"
   ]
  },
  {
   "cell_type": "code",
   "execution_count": 0,
   "metadata": {
    "colab": {
     "base_uri": "https://localhost:8080/",
     "height": 289
    },
    "colab_type": "code",
    "executionInfo": {
     "elapsed": 1973,
     "status": "ok",
     "timestamp": 1566280814713,
     "user": {
      "displayName": "BHEEM KUMAR",
      "photoUrl": "https://lh4.googleusercontent.com/-FbEp2oHW2Io/AAAAAAAAAAI/AAAAAAAAAB8/8MD_60DGnZc/s64/photo.jpg",
      "userId": "17710010183457348789"
     },
     "user_tz": -330
    },
    "id": "Y3zH0haOzVer",
    "outputId": "39ffb924-d063-49ef-ab3b-ec296f8b80de"
   },
   "outputs": [
    {
     "name": "stdout",
     "output_type": "stream",
     "text": [
      "Output :\n",
      "5 is divisible by 5\n",
      "7 is divisible by 7\n",
      "10 is divisible by 5\n",
      "14 is divisible by 7\n",
      "15 is divisible by 5\n",
      "20 is divisible by 5\n",
      "21 is divisible by 7\n",
      "25 is divisible by 5\n",
      "28 is divisible by 7\n",
      "30 is divisible by 5\n",
      "35 is divisible by 5\n",
      "40 is divisible by 5\n",
      "42 is divisible by 7\n",
      "45 is divisible by 5\n",
      "49 is divisible by 7\n"
     ]
    }
   ],
   "source": [
    "\"\"\"\n",
    "Print the number which are divisible by 5 or 7 using 'if elif' statement.\n",
    "between number 0 to 50.\n",
    "\n",
    "Output :\n",
    "\n",
    "5 is divisible by 5\n",
    "7 is divisible by 7\n",
    "10 is divisible by 5\n",
    "14 is divisible by 7\n",
    "15 is divisible by 5\n",
    "20 is divisible by 5\n",
    "21 is divisible by 7\n",
    "25 is divisible by 5\n",
    "28 is divisible by 7\n",
    "30 is divisible by 5\n",
    "35 is divisible by 5\n",
    "40 is divisible by 5\n",
    "42 is divisible by 7\n",
    "45 is divisible by 5\n",
    "49 is divisible by 7\n",
    "\n",
    "\"\"\"\n",
    "print('Output :')\n",
    "for i in range(1, 50):\n",
    "  if(i%5 == 0):\n",
    "    print(i,'is divisible by 5')\n",
    "  elif(i%7 == 0): \n",
    "    print(i,'is divisible by 7')"
   ]
  },
  {
   "cell_type": "code",
   "execution_count": 0,
   "metadata": {
    "colab": {
     "base_uri": "https://localhost:8080/",
     "height": 119
    },
    "colab_type": "code",
    "executionInfo": {
     "elapsed": 1967,
     "status": "ok",
     "timestamp": 1566280814714,
     "user": {
      "displayName": "BHEEM KUMAR",
      "photoUrl": "https://lh4.googleusercontent.com/-FbEp2oHW2Io/AAAAAAAAAAI/AAAAAAAAAB8/8MD_60DGnZc/s64/photo.jpg",
      "userId": "17710010183457348789"
     },
     "user_tz": -330
    },
    "id": "atfEkCCkqkAs",
    "outputId": "2c2ee507-3586-436f-fd5d-f08a49d981ba"
   },
   "outputs": [
    {
     "name": "stdout",
     "output_type": "stream",
     "text": [
      "Output :\n",
      "*\n",
      "**\n",
      "***\n",
      "****\n",
      "*****\n"
     ]
    }
   ],
   "source": [
    "\"\"\"\n",
    "print the given pattern using loop.\n",
    "\n",
    "Output :\n",
    "\n",
    "*\n",
    "**\n",
    "***\n",
    "****\n",
    "*****\n",
    "\n",
    "\"\"\"\n",
    "print('Output :')\n",
    "for i in range(5):\n",
    "  print(''.join(['*' for j in range(i+1)]))"
   ]
  },
  {
   "cell_type": "code",
   "execution_count": 0,
   "metadata": {
    "colab": {
     "base_uri": "https://localhost:8080/",
     "height": 119
    },
    "colab_type": "code",
    "executionInfo": {
     "elapsed": 1960,
     "status": "ok",
     "timestamp": 1566280814714,
     "user": {
      "displayName": "BHEEM KUMAR",
      "photoUrl": "https://lh4.googleusercontent.com/-FbEp2oHW2Io/AAAAAAAAAAI/AAAAAAAAAB8/8MD_60DGnZc/s64/photo.jpg",
      "userId": "17710010183457348789"
     },
     "user_tz": -330
    },
    "id": "f0yGbtMXo9f7",
    "outputId": "475c05a8-df14-44aa-fd94-89ec198d6756"
   },
   "outputs": [
    {
     "name": "stdout",
     "output_type": "stream",
     "text": [
      "Output :\n",
      "    *\n",
      "   **\n",
      "  ***\n",
      " ****\n",
      "*****\n"
     ]
    }
   ],
   "source": [
    "\"\"\"\n",
    "print the given pattern using loop.\n",
    "\n",
    "Output :\n",
    "\n",
    "    *\n",
    "   **\n",
    "  ***\n",
    " ****\n",
    "*****\n",
    "\n",
    "\"\"\"\n",
    "print('Output :')\n",
    "for i in range(1,6):\n",
    "  \n",
    "  space = ''.join([' ' for j in range(5,i,-1)])\n",
    "  star  = ''.join(['*' for j in range(1,i+1)])\n",
    "  print(space+star)"
   ]
  },
  {
   "cell_type": "code",
   "execution_count": 0,
   "metadata": {
    "colab": {
     "base_uri": "https://localhost:8080/",
     "height": 119
    },
    "colab_type": "code",
    "executionInfo": {
     "elapsed": 1952,
     "status": "ok",
     "timestamp": 1566280814715,
     "user": {
      "displayName": "BHEEM KUMAR",
      "photoUrl": "https://lh4.googleusercontent.com/-FbEp2oHW2Io/AAAAAAAAAAI/AAAAAAAAAB8/8MD_60DGnZc/s64/photo.jpg",
      "userId": "17710010183457348789"
     },
     "user_tz": -330
    },
    "id": "uAruloamsMjq",
    "outputId": "0e6f7472-f186-4bf5-e6f6-316ef032cfd7"
   },
   "outputs": [
    {
     "name": "stdout",
     "output_type": "stream",
     "text": [
      "Output :\n",
      "     *\n",
      "    ***\n",
      "   *****\n",
      "  *******\n",
      " *********\n"
     ]
    }
   ],
   "source": [
    "\"\"\"\n",
    "print the given pattern using loop.\n",
    "\n",
    "Output :\n",
    "\n",
    "    *\n",
    "   *** \n",
    "  *****\n",
    " *******\n",
    "*********\n",
    "\n",
    "\"\"\"\n",
    "print('Output :')\n",
    "for i in range(5):\n",
    "    \n",
    "    space = ''.join([' ' for j in range(5,i,-1)])\n",
    "    star  = ''.join(['*' for j in range(2*i+1)])\n",
    "    print(space+star)\n",
    "  \n",
    "  "
   ]
  },
  {
   "cell_type": "code",
   "execution_count": 0,
   "metadata": {
    "colab": {
     "base_uri": "https://localhost:8080/",
     "height": 204
    },
    "colab_type": "code",
    "executionInfo": {
     "elapsed": 1945,
     "status": "ok",
     "timestamp": 1566280814715,
     "user": {
      "displayName": "BHEEM KUMAR",
      "photoUrl": "https://lh4.googleusercontent.com/-FbEp2oHW2Io/AAAAAAAAAAI/AAAAAAAAAB8/8MD_60DGnZc/s64/photo.jpg",
      "userId": "17710010183457348789"
     },
     "user_tz": -330
    },
    "id": "BCrghrDatczM",
    "outputId": "25d39aa3-732e-47e8-b761-68481bffb997"
   },
   "outputs": [
    {
     "name": "stdout",
     "output_type": "stream",
     "text": [
      "Output :\n",
      "    *\n",
      "   ***\n",
      "  *****\n",
      " *******\n",
      "*********\n",
      " *******\n",
      "  *****\n",
      "   ***\n",
      "    *\n",
      "     \n"
     ]
    }
   ],
   "source": [
    "\"\"\"\n",
    "print the given pattern using loop.\n",
    "\n",
    "Output :\n",
    "\n",
    "    *\n",
    "   *** \n",
    "  *****\n",
    " *******\n",
    "*********\n",
    " *******\n",
    "  *****\n",
    "   ***\n",
    "    *\n",
    "\n",
    "\"\"\"\n",
    "print('Output :')\n",
    "for i in range(10):\n",
    "  if(i<5):\n",
    "    space = ''.join([' ' for j in range(5,i+1,-1)])\n",
    "    star  = ''.join(['*' for j in range(2*i+1)])\n",
    "  else:\n",
    "    space = ''.join([' ' for j in range(i-4)])\n",
    "    star  = ''.join(['*' for j in range(10-2*(i-4)-1)])\n",
    "  print(space+star)\n"
   ]
  },
  {
   "cell_type": "code",
   "execution_count": 0,
   "metadata": {
    "colab": {
     "base_uri": "https://localhost:8080/",
     "height": 187
    },
    "colab_type": "code",
    "executionInfo": {
     "elapsed": 1940,
     "status": "ok",
     "timestamp": 1566280814716,
     "user": {
      "displayName": "BHEEM KUMAR",
      "photoUrl": "https://lh4.googleusercontent.com/-FbEp2oHW2Io/AAAAAAAAAAI/AAAAAAAAAB8/8MD_60DGnZc/s64/photo.jpg",
      "userId": "17710010183457348789"
     },
     "user_tz": -330
    },
    "id": "7crJvRnck-MA",
    "outputId": "abcf4dc5-fc64-4910-d3af-82c4f51cd2a7"
   },
   "outputs": [
    {
     "name": "stdout",
     "output_type": "stream",
     "text": [
      "Output :\n",
      "*********\n",
      "**** ****\n",
      "***   ***\n",
      "**     **\n",
      "*       *\n",
      "**     **\n",
      "***   ***\n",
      "**** ****\n",
      "*********\n"
     ]
    }
   ],
   "source": [
    "\"\"\"\n",
    "print the given pattern using loop.\n",
    "\n",
    "Output :\n",
    "\n",
    "\n",
    "*********\n",
    "**** ****\n",
    "***   ***\n",
    "**     **\n",
    "*       *\n",
    "**     **\n",
    "***   ***\n",
    "**** ****\n",
    "*********\n",
    "\n",
    "\n",
    "\"\"\"\n",
    "print('Output :')\n",
    "for i in range(9):\n",
    "  if(i<5):\n",
    "    star  = ''.join(['*' for j in range(5-i)] )\n",
    "    space = ''.join([' ' for j in range(2*i-1)])\n",
    "    if(i == 0):\n",
    "      star1 = ''.join(['*' for j in range(5-i-1)])\n",
    "    else :\n",
    "      star1 = ''.join(['*' for j in range(5-i)])\n",
    "  else:\n",
    "    star  = ''.join(['*' for j in range(i-3)])\n",
    "    space = ''.join([' ' for j in range(9-2*(i-3))])\n",
    "    if(i == 8):\n",
    "      star1 = ''.join(['*' for j in range(i-4)])\n",
    "    else :\n",
    "      star1 = ''.join(['*' for j in range(i-3)])\n",
    "    \n",
    "  print(star+space+star1)\n",
    "\n",
    "      "
   ]
  },
  {
   "cell_type": "code",
   "execution_count": 0,
   "metadata": {
    "colab": {
     "base_uri": "https://localhost:8080/",
     "height": 119
    },
    "colab_type": "code",
    "executionInfo": {
     "elapsed": 1932,
     "status": "ok",
     "timestamp": 1566280814716,
     "user": {
      "displayName": "BHEEM KUMAR",
      "photoUrl": "https://lh4.googleusercontent.com/-FbEp2oHW2Io/AAAAAAAAAAI/AAAAAAAAAB8/8MD_60DGnZc/s64/photo.jpg",
      "userId": "17710010183457348789"
     },
     "user_tz": -330
    },
    "id": "hD5CT9actoWv",
    "outputId": "25e2d908-9c8a-4f18-b469-09e36233409b"
   },
   "outputs": [
    {
     "name": "stdout",
     "output_type": "stream",
     "text": [
      "Output :\n",
      "*       *\n",
      "**     **\n",
      "***   ***\n",
      "**** ****\n",
      "*********\n"
     ]
    }
   ],
   "source": [
    "\"\"\"\n",
    "print the given pattern using loop.\n",
    "\n",
    "Output :\n",
    "\n",
    "*        *\n",
    "**      **\n",
    "***    ***\n",
    "****  ****\n",
    "**********\n",
    "\n",
    "\"\"\"\n",
    "print('Output :')\n",
    "for i in range(5):\n",
    "  \n",
    "  if(i<5 ):\n",
    "    star  = ''.join(['*' for j in range(i+1)])\n",
    "    space = ''.join([' ' for j in range(10-2*(i+1)-1)])\n",
    "    if(i==4):\n",
    "      star1 = ''.join(['*' for j in range(i)])\n",
    "    else:\n",
    "      star1 = ''.join(['*' for j in range(i+1)])\n",
    "    print(star+space+star1)"
   ]
  },
  {
   "cell_type": "code",
   "execution_count": 0,
   "metadata": {
    "colab": {
     "base_uri": "https://localhost:8080/",
     "height": 102
    },
    "colab_type": "code",
    "executionInfo": {
     "elapsed": 1012,
     "status": "ok",
     "timestamp": 1567158126163,
     "user": {
      "displayName": "BHEEM KUMAR",
      "photoUrl": "https://lh3.googleusercontent.com/a-/AAuE7mCt7lUnsC2GTAphPovu9Ia-s3UmOdWEPyr8wqQt=s64",
      "userId": "17710010183457348789"
     },
     "user_tz": -330
    },
    "id": "Vv4IxjLat6qA",
    "outputId": "77de3b1a-e9b2-4cb6-fe15-2619b28fa9f3"
   },
   "outputs": [
    {
     "name": "stdout",
     "output_type": "stream",
     "text": [
      "Output :\n",
      "**** ****\n",
      "***   ***\n",
      "**     **\n",
      "*       *\n"
     ]
    }
   ],
   "source": [
    "\"\"\"\n",
    "print the given pattern using loop.\n",
    "\n",
    "Output :\n",
    "\n",
    "*        *\n",
    "**      **\n",
    "***    ***\n",
    "****  ****\n",
    "**********\n",
    "****  ****\n",
    "***    ***\n",
    "**      **\n",
    "*        *\n",
    "\"\"\"\n",
    "print('Output :')\n",
    "for i in range(9):\n",
    "  \n",
    "  if(i<5 ):\n",
    "    star  = ''.join(['*' for j in range(i+1)])\n",
    "    space = ''.join([' ' for j in range(10-2*(i+1)-1)])\n",
    "    if(i==4):\n",
    "      star1 = ''.join(['*' for j in range(i)])\n",
    "    else:\n",
    "      star1 = ''.join(['*' for j in range(i+1)])\n",
    "  else:\n",
    "    star  = ''.join(['*' for j in range(9-i)])\n",
    "    space = ''.join([' ' for j in range(2*(i-5)+1)])\n",
    "    star1 = ''.join(['*' for j in range(10-i-1)])\n",
    "    print(star+space+star1)"
   ]
  },
  {
   "cell_type": "code",
   "execution_count": 0,
   "metadata": {
    "colab": {
     "base_uri": "https://localhost:8080/",
     "height": 187
    },
    "colab_type": "code",
    "executionInfo": {
     "elapsed": 1919,
     "status": "ok",
     "timestamp": 1566280814717,
     "user": {
      "displayName": "BHEEM KUMAR",
      "photoUrl": "https://lh4.googleusercontent.com/-FbEp2oHW2Io/AAAAAAAAAAI/AAAAAAAAAB8/8MD_60DGnZc/s64/photo.jpg",
      "userId": "17710010183457348789"
     },
     "user_tz": -330
    },
    "id": "kus-GsVduOo8",
    "outputId": "39acbd16-1ef0-4624-f0ae-02121b58dd53"
   },
   "outputs": [
    {
     "name": "stdout",
     "output_type": "stream",
     "text": [
      "Output :\n",
      "*********\n",
      " *******\n",
      "  *****\n",
      "   ***\n",
      "    *\n",
      "   ***\n",
      "  *****\n",
      " *******\n",
      "*********\n"
     ]
    }
   ],
   "source": [
    "\"\"\"\n",
    "print the given pattern using loop.\n",
    "\n",
    "Output :\n",
    "\n",
    "*********\n",
    " *******\n",
    "  *****\n",
    "   ***\n",
    "    *\n",
    "   ***\n",
    "  ***** \n",
    " *******   \n",
    "********* \n",
    "\n",
    "\"\"\"\n",
    "print('Output :')\n",
    "for i in range(9):\n",
    "  \n",
    "  if(i<5):\n",
    "    space = ''.join([' ' for j in range(i)])\n",
    "    star = ''.join(['*' for j in range(9-(2*i))])\n",
    "  else:\n",
    "    space = ''.join([' ' for j in range(9-i-1)])\n",
    "    star  = ''.join(['*' for j in range(i*2-7)])\n",
    "  print(space+star)"
   ]
  },
  {
   "cell_type": "code",
   "execution_count": 0,
   "metadata": {
    "colab": {
     "base_uri": "https://localhost:8080/",
     "height": 119
    },
    "colab_type": "code",
    "executionInfo": {
     "elapsed": 1914,
     "status": "ok",
     "timestamp": 1566280814718,
     "user": {
      "displayName": "BHEEM KUMAR",
      "photoUrl": "https://lh4.googleusercontent.com/-FbEp2oHW2Io/AAAAAAAAAAI/AAAAAAAAAB8/8MD_60DGnZc/s64/photo.jpg",
      "userId": "17710010183457348789"
     },
     "user_tz": -330
    },
    "id": "uA-O4nEek_B7",
    "outputId": "5a8e0ef6-1730-4bb8-bc2c-78288392ab71"
   },
   "outputs": [
    {
     "name": "stdout",
     "output_type": "stream",
     "text": [
      "Output :\n",
      "1\n",
      "12\n",
      "123\n",
      "1234\n",
      "12345\n"
     ]
    }
   ],
   "source": [
    "\"\"\"\n",
    "print the given pattern using loop.\n",
    "\n",
    "Output :\n",
    "\n",
    "1\n",
    "12\n",
    "123\n",
    "1234\n",
    "12345\n",
    "\n",
    "\"\"\"\n",
    "print('Output :')\n",
    "for i in range(1,6):\n",
    "  print(''.join([str(j) for j in range(1,i+1)]))"
   ]
  },
  {
   "cell_type": "code",
   "execution_count": 0,
   "metadata": {
    "colab": {
     "base_uri": "https://localhost:8080/",
     "height": 119
    },
    "colab_type": "code",
    "executionInfo": {
     "elapsed": 1907,
     "status": "ok",
     "timestamp": 1566280814718,
     "user": {
      "displayName": "BHEEM KUMAR",
      "photoUrl": "https://lh4.googleusercontent.com/-FbEp2oHW2Io/AAAAAAAAAAI/AAAAAAAAAB8/8MD_60DGnZc/s64/photo.jpg",
      "userId": "17710010183457348789"
     },
     "user_tz": -330
    },
    "id": "JB-uNlfOvIT1",
    "outputId": "6df25065-d7f9-4b19-e203-8584b6e6e64c"
   },
   "outputs": [
    {
     "name": "stdout",
     "output_type": "stream",
     "text": [
      "Output :\n",
      "    1\n",
      "   12\n",
      "  123\n",
      " 1234\n",
      "12345\n"
     ]
    }
   ],
   "source": [
    "\"\"\"\n",
    "print the given pattern using loop.\n",
    "\n",
    "Output :\n",
    "\n",
    "    1\n",
    "   12\n",
    "  123\n",
    " 1234\n",
    "12345\n",
    "\n",
    "\"\"\"\n",
    "print('Output :')\n",
    "for i in range(1,6):\n",
    "  space = ''.join([' ' for j in range(5,i,-1)])\n",
    "  digit  = ''.join([str(j) for j in range(1,i+1)])\n",
    "  print(space+digit)"
   ]
  },
  {
   "cell_type": "code",
   "execution_count": 0,
   "metadata": {
    "colab": {
     "base_uri": "https://localhost:8080/",
     "height": 102
    },
    "colab_type": "code",
    "executionInfo": {
     "elapsed": 1901,
     "status": "ok",
     "timestamp": 1566280814718,
     "user": {
      "displayName": "BHEEM KUMAR",
      "photoUrl": "https://lh4.googleusercontent.com/-FbEp2oHW2Io/AAAAAAAAAAI/AAAAAAAAAB8/8MD_60DGnZc/s64/photo.jpg",
      "userId": "17710010183457348789"
     },
     "user_tz": -330
    },
    "id": "sFuZfHy-v0te",
    "outputId": "ecbc6503-e385-445a-8ab8-04088bdf343f"
   },
   "outputs": [
    {
     "name": "stdout",
     "output_type": "stream",
     "text": [
      "Output :\n",
      "0\n",
      "12\n",
      "345\n",
      "6789\n"
     ]
    }
   ],
   "source": [
    "\"\"\"\n",
    "print the given pattern using loop.\n",
    "\n",
    "Output :\n",
    "0\n",
    "12\n",
    "345\n",
    "6789\n",
    "\n",
    "\"\"\"\n",
    "print('Output :')\n",
    "\n",
    "k = 0\n",
    "for i in range(4):\n",
    "  list1 = []\n",
    "  for j in range(i+1):\n",
    "    list1.append(str(k))\n",
    "    k+=1\n",
    "  print(''.join(list1))"
   ]
  },
  {
   "cell_type": "code",
   "execution_count": 0,
   "metadata": {
    "colab": {
     "base_uri": "https://localhost:8080/",
     "height": 54
    },
    "colab_type": "code",
    "executionInfo": {
     "elapsed": 1896,
     "status": "ok",
     "timestamp": 1566280814719,
     "user": {
      "displayName": "BHEEM KUMAR",
      "photoUrl": "https://lh4.googleusercontent.com/-FbEp2oHW2Io/AAAAAAAAAAI/AAAAAAAAAB8/8MD_60DGnZc/s64/photo.jpg",
      "userId": "17710010183457348789"
     },
     "user_tz": -330
    },
    "id": "s5Q4-fE_61Q6",
    "outputId": "7d14c9a2-27fc-4d80-d43c-f8b167ebdeae"
   },
   "outputs": [
    {
     "data": {
      "text/plain": [
       "\"\\nwhat is 'break' and 'continue' statement.\\n\\nAnsawer\\n\\nWhen a break statement is encountered, it terminates the block and gets \\nthe control out of the switch or loop. When a continue statement is \\nencountered, it gets the control to the next iteration of the loop.\\nA break causes the innermost enclosing loop or switch to be exited immediately.\\n\\n\""
      ]
     },
     "execution_count": 26,
     "metadata": {
      "tags": []
     },
     "output_type": "execute_result"
    }
   ],
   "source": [
    "\"\"\"\n",
    "what is 'break' and 'continue' statement.\n",
    "\n",
    "Ansawer\n",
    "\n",
    "When a break statement is encountered, it terminates the block and gets \n",
    "the control out of the switch or loop. When a continue statement is \n",
    "encountered, it gets the control to the next iteration of the loop.\n",
    "A break causes the innermost enclosing loop or switch to be exited immediately.\n",
    "\n",
    "\"\"\""
   ]
  },
  {
   "cell_type": "code",
   "execution_count": 0,
   "metadata": {
    "colab": {
     "base_uri": "https://localhost:8080/",
     "height": 34
    },
    "colab_type": "code",
    "executionInfo": {
     "elapsed": 1889,
     "status": "ok",
     "timestamp": 1566280814719,
     "user": {
      "displayName": "BHEEM KUMAR",
      "photoUrl": "https://lh4.googleusercontent.com/-FbEp2oHW2Io/AAAAAAAAAAI/AAAAAAAAAB8/8MD_60DGnZc/s64/photo.jpg",
      "userId": "17710010183457348789"
     },
     "user_tz": -330
    },
    "id": "WDyXz-3i7t8E",
    "outputId": "6618f654-4a1a-4b96-bc0a-50f1ba27629b"
   },
   "outputs": [
    {
     "name": "stdout",
     "output_type": "stream",
     "text": [
      "Output : Exist\n"
     ]
    }
   ],
   "source": [
    "\"\"\"\n",
    "Break the loop on first encounter of, product of two number is 400.\n",
    " \n",
    "Input : [20,30,40,10,50]\n",
    "Output : Exist\n",
    "\n",
    "\"\"\"\n",
    "flag = 'Not Exist'\n",
    "list1 = [20,30,40,10,50,20]\n",
    "for i in range(len(list1)-1):\n",
    "  for j in range(i+1,len(list1)):\n",
    "    if(list1[i]*list1[j] == 400):\n",
    "      flag = 'Exist'\n",
    "      break\n",
    "  \n",
    "  if(flag == 'Exist'):\n",
    "    break\n",
    "print('Output :',flag)    "
   ]
  },
  {
   "cell_type": "code",
   "execution_count": 0,
   "metadata": {
    "colab": {
     "base_uri": "https://localhost:8080/",
     "height": 170
    },
    "colab_type": "code",
    "executionInfo": {
     "elapsed": 1886,
     "status": "ok",
     "timestamp": 1566280814720,
     "user": {
      "displayName": "BHEEM KUMAR",
      "photoUrl": "https://lh4.googleusercontent.com/-FbEp2oHW2Io/AAAAAAAAAAI/AAAAAAAAAB8/8MD_60DGnZc/s64/photo.jpg",
      "userId": "17710010183457348789"
     },
     "user_tz": -330
    },
    "id": "VlQt56S4GmQK",
    "outputId": "39b86c93-7f16-4d60-b846-a70e40c2d598"
   },
   "outputs": [
    {
     "name": "stdout",
     "output_type": "stream",
     "text": [
      "Output :\n",
      "0\n",
      "7\n",
      "14\n",
      "21\n",
      "28\n",
      "35\n",
      "42\n",
      "49\n"
     ]
    }
   ],
   "source": [
    "\"\"\"\n",
    "Print the number which is divisible by 7 using 'continue' statement from 0 to 50.\n",
    "\n",
    "Output :\n",
    "\n",
    "0\n",
    "7\n",
    "14\n",
    "21\n",
    "28\n",
    "35\n",
    "42\n",
    "49\n",
    "\n",
    "\"\"\"\n",
    "\n",
    "print('Output :')\n",
    "for i in range(50):\n",
    "  if(i%7!= 0):\n",
    "    continue\n",
    "  print(i)"
   ]
  },
  {
   "cell_type": "code",
   "execution_count": 0,
   "metadata": {
    "colab": {
     "base_uri": "https://localhost:8080/",
     "height": 34
    },
    "colab_type": "code",
    "executionInfo": {
     "elapsed": 1882,
     "status": "ok",
     "timestamp": 1566280814720,
     "user": {
      "displayName": "BHEEM KUMAR",
      "photoUrl": "https://lh4.googleusercontent.com/-FbEp2oHW2Io/AAAAAAAAAAI/AAAAAAAAAB8/8MD_60DGnZc/s64/photo.jpg",
      "userId": "17710010183457348789"
     },
     "user_tz": -330
    },
    "id": "VQowxIR5Z5tN",
    "outputId": "72ddd457-d292-467c-e75d-ce53789ac66c"
   },
   "outputs": [
    {
     "name": "stdout",
     "output_type": "stream",
     "text": [
      "Output : Palindrome\n"
     ]
    }
   ],
   "source": [
    "\"\"\"\n",
    "Check whether given string is palindrome or not\n",
    "\n",
    "Input : madam\n",
    "output: Palindrome\n",
    "\n",
    "\"\"\"\n",
    "string = 'madam'\n",
    "length_of_string = len(string)\n",
    "flag = 'Palindrome'\n",
    "for i in range(length_of_string//2):\n",
    "  if(string[i]!=string[length_of_string-i-1]):\n",
    "    flag ='Not Palindrome'\n",
    "    break\n",
    "print('Output :',flag)    "
   ]
  },
  {
   "cell_type": "code",
   "execution_count": 0,
   "metadata": {
    "colab": {
     "base_uri": "https://localhost:8080/",
     "height": 34
    },
    "colab_type": "code",
    "executionInfo": {
     "elapsed": 1878,
     "status": "ok",
     "timestamp": 1566280814720,
     "user": {
      "displayName": "BHEEM KUMAR",
      "photoUrl": "https://lh4.googleusercontent.com/-FbEp2oHW2Io/AAAAAAAAAAI/AAAAAAAAAB8/8MD_60DGnZc/s64/photo.jpg",
      "userId": "17710010183457348789"
     },
     "user_tz": -330
    },
    "id": "iT6h8w8Bf9Qb",
    "outputId": "16569849-74c7-4b3d-f7b7-550838e0608a"
   },
   "outputs": [
    {
     "name": "stdout",
     "output_type": "stream",
     "text": [
      "Output : Armstrong number\n"
     ]
    }
   ],
   "source": [
    "\"\"\"\n",
    "What is Armstrong Number????????//\n",
    "check whether given 3 digits number is armstrong or not.\n",
    "Input : 153\n",
    "Output: Armstrong number\n",
    "\"\"\"\n",
    "\n",
    "number = 153\n",
    "flag = 'Not armstrong number'\n",
    "if number == sum([int(i)** len(str(number)) for i in str(number)]):\n",
    "  flag = 'Armstrong number'\n",
    "print('Output :',flag)  "
   ]
  },
  {
   "cell_type": "code",
   "execution_count": 0,
   "metadata": {
    "colab": {
     "base_uri": "https://localhost:8080/",
     "height": 85
    },
    "colab_type": "code",
    "executionInfo": {
     "elapsed": 1876,
     "status": "ok",
     "timestamp": 1566280814721,
     "user": {
      "displayName": "BHEEM KUMAR",
      "photoUrl": "https://lh4.googleusercontent.com/-FbEp2oHW2Io/AAAAAAAAAAI/AAAAAAAAAB8/8MD_60DGnZc/s64/photo.jpg",
      "userId": "17710010183457348789"
     },
     "user_tz": -330
    },
    "id": "g0P6RMb0rjiW",
    "outputId": "4c410db9-3f91-4407-8969-41f73d42978b"
   },
   "outputs": [
    {
     "name": "stdout",
     "output_type": "stream",
     "text": [
      "Output :\n",
      "9 is Armstrong number\n",
      "35 is Armstrong number\n",
      "153 is Armstrong number\n"
     ]
    }
   ],
   "source": [
    "\"\"\"\n",
    "print the Armstrong number between 1 to 1000.\n",
    "\n",
    "Input : 1 to 1000\n",
    "Output: \n",
    "\n",
    "9 is Armstrong number\n",
    "35 is Armstrong number\n",
    "153 is Armstrong number\n",
    "\n",
    "\"\"\"\n",
    "print('Output :')\n",
    "for i in range(1000):\n",
    " \n",
    "  if i == sum([int(j)** len(str(i)) for j in str(number)]):\n",
    "    print(i ,'is Armstrong number')  "
   ]
  }
 ],
 "metadata": {
  "colab": {
   "collapsed_sections": [],
   "name": "Python_loop_1.ipynb",
   "provenance": []
  },
  "kernelspec": {
   "display_name": "Python 3",
   "language": "python",
   "name": "python3"
  },
  "language_info": {
   "codemirror_mode": {
    "name": "ipython",
    "version": 3
   },
   "file_extension": ".py",
   "mimetype": "text/x-python",
   "name": "python",
   "nbconvert_exporter": "python",
   "pygments_lexer": "ipython3",
   "version": "3.8.2"
  }
 },
 "nbformat": 4,
 "nbformat_minor": 1
}
