{
 "cells": [
  {
   "cell_type": "markdown",
   "metadata": {
    "colab_type": "text",
    "id": "1RmfFCSGE_h_"
   },
   "source": [
    "# Oops\n",
    "\n",
    "**What is oops in python programming language ?**\n",
    "\n",
    "Ans -- Python is a multi-paradigm programming language. Meaning, it supports different programming approach. One of the popular approach to solve a programming problem is by creating objects. This is known as Object-Oriented Programming (OOP)."
   ]
  },
  {
   "cell_type": "markdown",
   "metadata": {
    "colab_type": "text",
    "id": "vRHyj0Gw_uS0"
   },
   "source": [
    "**Major principles of object-oriented programming system are below.**\n",
    "\n",
    "- **Class** − A user-defined prototype for an object that defines a set of attributes that characterize any object of the class. The attributes are data members (class variables and instance variables) and methods, accessed via dot notation.\n",
    "\n",
    "- **Class variable** − A variable that is shared by all instances of a class. Class variables are defined within a class but outside any of the class's methods. Class variables are not used as frequently as instance variables are.\n",
    "\n",
    "- **Data member** − A class variable or instance variable that holds data associated with a class and its objects.\n",
    "\n",
    "- **Function overloading** − The assignment of more than one behavior to a particular function. The operation performed varies by the types of objects or arguments involved.\n",
    "\n",
    "- **Instance variable** − A variable that is defined inside a method and belongs only to the current instance of a class.\n",
    "\n",
    "- **Inheritance** − The transfer of the characteristics of a class to other classes that are derived from it.\n",
    "\n",
    "- **Instance** − An individual object of a certain class. An object obj that belongs to a class Circle, for example, is an instance of the class Circle.\n",
    "\n",
    "- **Instantiation** − The creation of an instance of a class.\n",
    "\n",
    "- **Method** − A special kind of function that is defined in a class definition.\n",
    "\n",
    "- **Object** − A unique instance of a data structure that is defined by its class. An object comprises both data members (class variables and instance variables) and methods.\n",
    "\n",
    "- **Operator overloading** − The assignment of more than one function to a particular operator."
   ]
  },
  {
   "cell_type": "markdown",
   "metadata": {
    "colab_type": "text",
    "id": "5XZXNWrchNcZ"
   },
   "source": [
    "## Class and Object\n",
    "\n",
    "Classes and Objects are basic concepts of Object Oriented Programming which revolve around the real life entities. A class is a user defined blueprint or prototype from which objects are created. It represents the set of properties or methods that are common to all objects of one type.\n"
   ]
  },
  {
   "cell_type": "code",
   "execution_count": 0,
   "metadata": {
    "colab": {},
    "colab_type": "code",
    "id": "shHAdjSlBtpX"
   },
   "outputs": [],
   "source": [
    "\"\"\"\n",
    "Create a class named 'python' without any stuff.\n",
    "\n",
    "\"\"\"\n",
    "\n",
    "class python:\n",
    "    pass"
   ]
  },
  {
   "cell_type": "code",
   "execution_count": 0,
   "metadata": {
    "colab": {
     "base_uri": "https://localhost:8080/",
     "height": 34
    },
    "colab_type": "code",
    "executionInfo": {
     "elapsed": 2658,
     "status": "ok",
     "timestamp": 1570437089811,
     "user": {
      "displayName": "bheem kumar",
      "photoUrl": "",
      "userId": "16514217920437432713"
     },
     "user_tz": -330
    },
    "id": "Yogl-tEtIp7n",
    "outputId": "72b2c1c8-57e6-4458-c97b-561be596ffac"
   },
   "outputs": [
    {
     "name": "stdout",
     "output_type": "stream",
     "text": [
      "Output : 10\n"
     ]
    }
   ],
   "source": [
    "\"\"\"\n",
    "Create a class named 'Python' and initialize a variable in that class and print it.\n",
    "\n",
    "input : 10\n",
    "\n",
    "Output: 10\n",
    "\n",
    "\"\"\"\n",
    "\n",
    "class Python:\n",
    "  \n",
    "  x = 10\n",
    "\n",
    "print('Output :',Python().x)\n"
   ]
  },
  {
   "cell_type": "code",
   "execution_count": 0,
   "metadata": {
    "colab": {},
    "colab_type": "code",
    "id": "pRueDutlCgYF"
   },
   "outputs": [],
   "source": [
    "\"\"\"\n",
    "Create a class named 'Python' without any stuff and create the object of that class.\n",
    "\n",
    "\"\"\"\n",
    "\n",
    "class Python:\n",
    "\n",
    "    pass\n",
    "\n",
    "obj = python()"
   ]
  },
  {
   "cell_type": "code",
   "execution_count": 0,
   "metadata": {
    "colab": {
     "base_uri": "https://localhost:8080/",
     "height": 34
    },
    "colab_type": "code",
    "executionInfo": {
     "elapsed": 2640,
     "status": "ok",
     "timestamp": 1570437089812,
     "user": {
      "displayName": "bheem kumar",
      "photoUrl": "",
      "userId": "16514217920437432713"
     },
     "user_tz": -330
    },
    "id": "MkWOqxoKWe0B",
    "outputId": "969538e1-e3b9-4bb3-e6d2-242893f60f79"
   },
   "outputs": [
    {
     "name": "stdout",
     "output_type": "stream",
     "text": [
      "Output : 15\n"
     ]
    }
   ],
   "source": [
    "\"\"\"\n",
    "Create a class named 'Python' and initialize a variable in that class and print it by the object of the class.\n",
    "\n",
    "input : 15\n",
    "\n",
    "Output: 15\n",
    "\"\"\"\n",
    "\n",
    "class Python:\n",
    "  \n",
    "  x = 15\n",
    "\n",
    "obj = Python()\n",
    "print('Output :',obj.x)"
   ]
  },
  {
   "cell_type": "markdown",
   "metadata": {
    "colab_type": "text",
    "id": "O3NsFB8xDpD2"
   },
   "source": [
    "#### Built_In Class funtion.\n",
    "\n",
    "* The **getattr(obj, name[, default])** − to access the attribute of object.\n",
    "\n",
    "* The **hasattr(obj,name)** − to check if an attribute exists or not.\n",
    "\n",
    "* The **setattr(obj,name,value)** − to set an attribute. If attribute does not exist, then it would be created.\n",
    "\n",
    "* The **delattr(obj, name)** − to delete an attribute.\n",
    "\n",
    "\n",
    "\n"
   ]
  },
  {
   "cell_type": "code",
   "execution_count": 0,
   "metadata": {
    "colab": {
     "base_uri": "https://localhost:8080/"
    },
    "colab_type": "code",
    "executionInfo": {
     "elapsed": 2632,
     "status": "ok",
     "timestamp": 1570437089813,
     "user": {
      "displayName": "bheem kumar",
      "photoUrl": "",
      "userId": "16514217920437432713"
     },
     "user_tz": -330
    },
    "id": "mDC3O6a_gB1d",
    "outputId": "26f3636c-7dd1-4069-ad30-0316506cac8e"
   },
   "outputs": [
    {
     "name": "stdout",
     "output_type": "stream",
     "text": [
      "Outputs:--\n",
      "\n",
      "John\n",
      "36\n"
     ]
    }
   ],
   "source": [
    "\"\"\"\n",
    "Create a python class in which print the attributes of methods by using 'getattr' built in class function.\n",
    "\n",
    "Inputs:--\n",
    "\n",
    "name : john\n",
    "age  : 36\n",
    "\n",
    "Outputs:--\n",
    "\n",
    "John\n",
    "36\n",
    "\n",
    "\"\"\"\n",
    "\n",
    "class Employee:\n",
    "  \n",
    "    def __init__(myobject, name, age):\n",
    "\n",
    "        myobject.name = name\n",
    "        myobject.age  = age\n",
    "\n",
    "E1 = Employee(\"John\", 36)\n",
    "\n",
    "print('Outputs:--\\n')\n",
    "print(getattr(E1,'name'))\n",
    "print(getattr(E1,'age'))"
   ]
  },
  {
   "cell_type": "code",
   "execution_count": 0,
   "metadata": {
    "colab": {
     "base_uri": "https://localhost:8080/"
    },
    "colab_type": "code",
    "executionInfo": {
     "elapsed": 2625,
     "status": "ok",
     "timestamp": 1570437089813,
     "user": {
      "displayName": "bheem kumar",
      "photoUrl": "",
      "userId": "16514217920437432713"
     },
     "user_tz": -330
    },
    "id": "VIR6oGhtiPnc",
    "outputId": "d58b51f5-5fb7-4774-9c71-e2e2acb2984e"
   },
   "outputs": [
    {
     "name": "stdout",
     "output_type": "stream",
     "text": [
      "Outputs:--\n",
      "\n",
      "Before modification.\n",
      "John 36\n",
      "After modification.\n",
      "Jenifer 36\n"
     ]
    }
   ],
   "source": [
    "\"\"\"\n",
    "Create a python class in which modify the attribute 'name' by using 'setattr' built in class function.\n",
    "\n",
    "Inputs:--\n",
    "\n",
    "name     : John\n",
    "age      : 123\n",
    "\n",
    "new_name : Jenifer\n",
    "\n",
    "Output:--\n",
    "\n",
    "Before modification.\n",
    "John 36\n",
    "After modification.\n",
    "Jenifer 36\n",
    "\n",
    "\"\"\"\n",
    "\n",
    "class Employee:\n",
    "  \n",
    "    def __init__(myobject, name, age):\n",
    "        myobject.name = name\n",
    "        myobject.age  = age\n",
    "\n",
    "E1 = Employee(\"John\", 36)\n",
    "print('Outputs:--\\n\\nBefore modification.')\n",
    "print(E1.name, E1.age)\n",
    "print('After modification.')\n",
    "setattr(E1,'name','Jenifer')\n",
    "print(E1.name, E1.age)"
   ]
  },
  {
   "cell_type": "code",
   "execution_count": 0,
   "metadata": {
    "colab": {
     "base_uri": "https://localhost:8080/"
    },
    "colab_type": "code",
    "executionInfo": {
     "elapsed": 2620,
     "status": "ok",
     "timestamp": 1570437089814,
     "user": {
      "displayName": "bheem kumar",
      "photoUrl": "",
      "userId": "16514217920437432713"
     },
     "user_tz": -330
    },
    "id": "pHtjGd1tKtQ2",
    "outputId": "8d3853dc-809c-400d-b6b9-d22218ef923b"
   },
   "outputs": [
    {
     "name": "stdout",
     "output_type": "stream",
     "text": [
      "Output : True\n"
     ]
    }
   ],
   "source": [
    "\"\"\"\n",
    "Create a python class in which check wheter a particular attribute of method is exist(True) or not(False) by using 'hasattr' built_in class function.\n",
    "\n",
    "Inputs :--\n",
    "\n",
    "name : John\n",
    "age  : 36\n",
    "\n",
    "Output:--\n",
    "\n",
    "True\n",
    "\n",
    "\"\"\"\n",
    "\n",
    "class Employee:\n",
    "  \n",
    "    def __init__(myobject, name, age):\n",
    "\n",
    "        myobject.name = name\n",
    "        myobject.age  = age\n",
    "\n",
    "E1 = Employee(\"John\", 36)\n",
    "print(\"Output :\", hasattr(E1,'name'))"
   ]
  },
  {
   "cell_type": "code",
   "execution_count": 0,
   "metadata": {
    "colab": {
     "base_uri": "https://localhost:8080/"
    },
    "colab_type": "code",
    "executionInfo": {
     "elapsed": 2613,
     "status": "ok",
     "timestamp": 1570437089814,
     "user": {
      "displayName": "bheem kumar",
      "photoUrl": "",
      "userId": "16514217920437432713"
     },
     "user_tz": -330
    },
    "id": "VBIYZU4-MFoC",
    "outputId": "a18475ed-6ba9-44f7-93b6-e1989908d0d8"
   },
   "outputs": [
    {
     "name": "stdout",
     "output_type": "stream",
     "text": [
      "Output : False\n"
     ]
    }
   ],
   "source": [
    "\"\"\"\n",
    "Create a python class in which delete a particular attribute of method by using 'delattr' built_in class function.\n",
    "\n",
    "Note: It will generate Error when you will try to access the attribute of that object.\n",
    "\n",
    "Inputs:--\n",
    "\n",
    "name : John \n",
    "age  : 36\n",
    "\n",
    "Output:-\n",
    "\n",
    "False\n",
    "\n",
    "\"\"\"\n",
    "\n",
    "class Employee:\n",
    "  \n",
    "    def __init__(myobject, name, age):\n",
    "\n",
    "        myobject.name = name\n",
    "        myobject.age  = age\n",
    "\n",
    "E1 = Employee(\"John\", 36)\n",
    "delattr(E1,'name')\n",
    "print(\"Output :\", hasattr(E1,'name'))"
   ]
  },
  {
   "cell_type": "markdown",
   "metadata": {
    "colab_type": "text",
    "id": "GpNygQiWQKMY"
   },
   "source": [
    "#### Built-in class attributes\n",
    "\n",
    "Along with the other attributes, a python class also contains some built-in class attributes which provide information about the class.\n",
    "\n",
    "The built-in class attributes are given in the below.\n",
    "> \n",
    "1.\t\\__dict__\tIt provides the dictionary containing the information about the class namespace.\n",
    "\n",
    "2.\t\\__doc__\tIt contains a string which has the class documentation\n",
    "\n",
    "3.\t\\__name__\tIt is used to access the class name.\n",
    "\n",
    "4.\t\\__module__\tIt is used to access the module in which, this class is defined.\n",
    "\n",
    "5.\t\\__bases__\tIt contains a tuple including all base classes.\n",
    "\n",
    "> \n"
   ]
  },
  {
   "cell_type": "code",
   "execution_count": 0,
   "metadata": {
    "colab": {
     "base_uri": "https://localhost:8080/"
    },
    "colab_type": "code",
    "executionInfo": {
     "elapsed": 2607,
     "status": "ok",
     "timestamp": 1570437089815,
     "user": {
      "displayName": "bheem kumar",
      "photoUrl": "",
      "userId": "16514217920437432713"
     },
     "user_tz": -330
    },
    "id": "KQFESccBSoTx",
    "outputId": "e47f372f-5710-4a3e-d641-076748e62b89"
   },
   "outputs": [
    {
     "name": "stdout",
     "output_type": "stream",
     "text": [
      "Output : {'name': 'Jenifer', 'age': 27}\n"
     ]
    }
   ],
   "source": [
    "\"\"\"\n",
    "Create a class and print the attributes and their values in dictionary format using built_in class attribute '__dict__.\n",
    "\n",
    "Inputs :--\n",
    "name : Jenifer\n",
    "age  : 27\n",
    "\n",
    "Output:--\n",
    "\n",
    "{'name': 'Jenifer', 'age': 27}\n",
    "\n",
    "\"\"\"\n",
    "\n",
    "class Employee:\n",
    "\n",
    "    def __init__(self, name, age):\n",
    "        self.name = name\n",
    "        self.age = age\n",
    "\n",
    "    E1 = Employee(\"Jenifer\", 27)\n",
    "\n",
    "    print('Output :',E1.__dict__)"
   ]
  },
  {
   "cell_type": "code",
   "execution_count": 0,
   "metadata": {
    "colab": {
     "base_uri": "https://localhost:8080/"
    },
    "colab_type": "code",
    "executionInfo": {
     "elapsed": 2600,
     "status": "ok",
     "timestamp": 1570437089815,
     "user": {
      "displayName": "bheem kumar",
      "photoUrl": "",
      "userId": "16514217920437432713"
     },
     "user_tz": -330
    },
    "id": "XQxme7mXUS7l",
    "outputId": "a0797c56-7406-4c97-aa82-0dbbe15650f0"
   },
   "outputs": [
    {
     "name": "stdout",
     "output_type": "stream",
     "text": [
      "Output : \n",
      "    This is Employee class.\n",
      "\n",
      "    \n"
     ]
    }
   ],
   "source": [
    "\"\"\"\n",
    "Create a class and print the documentation of class if exist using built_in class attribute '__doc__.\n",
    "\n",
    "NOTE:- pass is keyword which is used when you don't want write any stuff of class of method or function.\n",
    "\n",
    "Output:--\n",
    "\n",
    "This is Employee class.\n",
    "\n",
    "\"\"\"\n",
    "\n",
    "class Employee:\n",
    "    \"\"\"\n",
    "    This is Employee class.\n",
    "\n",
    "    \"\"\"\n",
    "    pass\n",
    "\n",
    "E1 = Employee\n",
    "print('Output :',E1.__doc__)"
   ]
  },
  {
   "cell_type": "code",
   "execution_count": 0,
   "metadata": {
    "colab": {
     "base_uri": "https://localhost:8080/"
    },
    "colab_type": "code",
    "executionInfo": {
     "elapsed": 2594,
     "status": "ok",
     "timestamp": 1570437089816,
     "user": {
      "displayName": "bheem kumar",
      "photoUrl": "",
      "userId": "16514217920437432713"
     },
     "user_tz": -330
    },
    "id": "qNPSQw4mU9wK",
    "outputId": "4e357da6-21e3-47f1-b4e7-936d29916ea1"
   },
   "outputs": [
    {
     "name": "stdout",
     "output_type": "stream",
     "text": [
      "Output : Employee\n"
     ]
    }
   ],
   "source": [
    "\"\"\"\n",
    "Create a class and get the name of the class by their object using built_in class attribute __name__.\n",
    "\n",
    "Output : Employee\n",
    "\n",
    "\"\"\"\n",
    "class Employee:\n",
    "  \"\"\"\n",
    "  This is Employee class.\n",
    "\n",
    "  \"\"\"\n",
    "E1 = Employee\n",
    "\n",
    "print('Output :',E1.__name__)"
   ]
  },
  {
   "cell_type": "code",
   "execution_count": 0,
   "metadata": {
    "colab": {
     "base_uri": "https://localhost:8080/"
    },
    "colab_type": "code",
    "executionInfo": {
     "elapsed": 2588,
     "status": "ok",
     "timestamp": 1570437089816,
     "user": {
      "displayName": "bheem kumar",
      "photoUrl": "",
      "userId": "16514217920437432713"
     },
     "user_tz": -330
    },
    "id": "3_WOloKOh-XQ",
    "outputId": "8c79efa5-f43b-4cf0-ac84-50479178fcf7"
   },
   "outputs": [
    {
     "name": "stdout",
     "output_type": "stream",
     "text": [
      "Output : __main__\n"
     ]
    }
   ],
   "source": [
    "\"\"\"\n",
    "Create a class and get the name of module by their object of the class using built_in class attribute __module__.\n",
    "\n",
    "Output : __main__\n",
    "\n",
    "\"\"\"\n",
    "class Employee:\n",
    "  \"\"\"\n",
    "  This is Employee class.\n",
    "\n",
    "  \"\"\"\n",
    "  def __init__(self):\n",
    "\n",
    "      pass\n",
    "\n",
    "E1 = Employee()\n",
    "\n",
    "print('Output :',E1.__module__)"
   ]
  },
  {
   "cell_type": "code",
   "execution_count": 0,
   "metadata": {
    "colab": {
     "base_uri": "https://localhost:8080/"
    },
    "colab_type": "code",
    "executionInfo": {
     "elapsed": 2582,
     "status": "ok",
     "timestamp": 1570437089817,
     "user": {
      "displayName": "bheem kumar",
      "photoUrl": "",
      "userId": "16514217920437432713"
     },
     "user_tz": -330
    },
    "id": "x6eQCFcjp6M3",
    "outputId": "51694013-56f2-4156-dc94-069b86368099"
   },
   "outputs": [
    {
     "name": "stdout",
     "output_type": "stream",
     "text": [
      "Output : (<class 'object'>,)\n"
     ]
    }
   ],
   "source": [
    "\"\"\"\n",
    "Create a class and get the name of base class by object of the derived class using built_in class attribute __bases__.\n",
    "\n",
    "Output:--\n",
    "\n",
    "(<class 'Person'>,)\n",
    "\n",
    "NOTE :- Here base class of 'Person' is object.\n",
    "\n",
    "\"\"\"\n",
    "\n",
    "class Person:\n",
    "    pass\n",
    "    \n",
    "print('Output :', Person.__bases__)"
   ]
  },
  {
   "cell_type": "markdown",
   "metadata": {
    "colab_type": "text",
    "id": "QaIlZvsyEH6z"
   },
   "source": [
    "### Initializer/Constructor (What is The \\__init__\\() function in python3 ?)\n",
    "\n",
    "A constructor is a special type of method (function) which is used to initialize the instance members of the class.\n",
    "\n",
    "There are two types of constructor that are\n",
    "\n",
    "1. Default Constructor (Non-Parameterised constructor).\n",
    "\n",
    "2. Parameterised constructor.\n",
    "\n"
   ]
  },
  {
   "cell_type": "code",
   "execution_count": 0,
   "metadata": {
    "colab": {
     "base_uri": "https://localhost:8080/"
    },
    "colab_type": "code",
    "executionInfo": {
     "elapsed": 2575,
     "status": "ok",
     "timestamp": 1570437089817,
     "user": {
      "displayName": "bheem kumar",
      "photoUrl": "",
      "userId": "16514217920437432713"
     },
     "user_tz": -330
    },
    "id": "hDp8DYGMb7mI",
    "outputId": "9feae2cf-f928-4ae1-9edd-72b6e7935cf5"
   },
   "outputs": [
    {
     "name": "stdout",
     "output_type": "stream",
     "text": [
      "Outputs : 100\n"
     ]
    }
   ],
   "source": [
    "\"\"\"\n",
    "Create a class named 'default_constructor' change the value of class variable 'number' by declaring default constructor.\n",
    "\n",
    "Input:--\n",
    "\n",
    "number     : 99\n",
    "new_number : 100\n",
    "\n",
    "Output:--\n",
    "\n",
    "Before change the value : 99\n",
    "After change the value  : 100\n",
    "\n",
    "\"\"\"\n",
    "\n",
    "class default_constructor:\n",
    "\n",
    "    number = 99\n",
    "\n",
    "    def __init__(self):\n",
    "\n",
    "        self.number = 100\n",
    "\n",
    "obj = default_constructor()\n",
    "print('Outputs :',obj.number)"
   ]
  },
  {
   "cell_type": "code",
   "execution_count": 0,
   "metadata": {
    "colab": {
     "base_uri": "https://localhost:8080/"
    },
    "colab_type": "code",
    "executionInfo": {
     "elapsed": 2571,
     "status": "ok",
     "timestamp": 1570437089819,
     "user": {
      "displayName": "bheem kumar",
      "photoUrl": "",
      "userId": "16514217920437432713"
     },
     "user_tz": -330
    },
    "id": "V7LiCjhRYyT-",
    "outputId": "a308ba28-82ed-4efb-c912-5ece6494aec3"
   },
   "outputs": [
    {
     "name": "stdout",
     "output_type": "stream",
     "text": [
      "Outputs:--\n",
      "\n",
      "Before change the value : 99\n",
      "After change the value  : 100\n"
     ]
    }
   ],
   "source": [
    "\"\"\"\n",
    "Create a class named 'python' change the value of class variable declaring the default constructor.\n",
    "NOTE : Use a method to change the value of variable.\n",
    "\n",
    "Input:--\n",
    "\n",
    "number     : 99\n",
    "new_number : 100\n",
    "\n",
    "Output:--\n",
    "\n",
    "Before change the value : 99\n",
    "After change the value  : 100\n",
    "\n",
    "\"\"\"\n",
    "\n",
    "class default_constructor:\n",
    "\n",
    "    number = 99\n",
    "\n",
    "    def reinit(self):\n",
    "\n",
    "        self.number = 100\n",
    "       \n",
    "obj = default_constructor()\n",
    "print('Outputs:--\\n')\n",
    "print('Before change the value :',obj.number)\n",
    "obj.reinit()\n",
    "print('After change the value  :',obj.number)"
   ]
  },
  {
   "cell_type": "code",
   "execution_count": 0,
   "metadata": {
    "colab": {
     "base_uri": "https://localhost:8080/"
    },
    "colab_type": "code",
    "executionInfo": {
     "elapsed": 2565,
     "status": "ok",
     "timestamp": 1570437089819,
     "user": {
      "displayName": "bheem kumar",
      "photoUrl": "",
      "userId": "16514217920437432713"
     },
     "user_tz": -330
    },
    "id": "G9TrzWhFsRP_",
    "outputId": "c9bb4f55-868f-4ae6-a225-9e80b5dacaa3"
   },
   "outputs": [
    {
     "name": "stdout",
     "output_type": "stream",
     "text": [
      "Output :--\n",
      "\n",
      "name   : Rihana\n",
      "marks  : 415\n"
     ]
    }
   ],
   "source": [
    "\"\"\"\n",
    "Create a class  named 'paramterised_constructor' initialise the name and marks of student and display it.\n",
    "\n",
    "Inputs:--\n",
    "\n",
    "name  : Rihana\n",
    "marks : 415\n",
    "\n",
    "Output :--\n",
    "\n",
    "name   : Rihana\n",
    "marks  : 415\n",
    "\n",
    "\"\"\"\n",
    "\n",
    "class parameterised_constructor:\n",
    "\n",
    "    def __init__(self, name, marks):\n",
    "\n",
    "        self.name = name\n",
    "        self.marks = marks\n",
    "\n",
    "\n",
    "name = 'Rihana'\n",
    "marks = 415\n",
    "obj = parameterised_constructor(name, marks)\n",
    "print('Output :--\\n\\nname   :', obj.name)\n",
    "print('marks  :',obj.marks)"
   ]
  },
  {
   "cell_type": "code",
   "execution_count": 0,
   "metadata": {
    "colab": {
     "base_uri": "https://localhost:8080/"
    },
    "colab_type": "code",
    "executionInfo": {
     "elapsed": 2558,
     "status": "ok",
     "timestamp": 1570437089820,
     "user": {
      "displayName": "bheem kumar",
      "photoUrl": "",
      "userId": "16514217920437432713"
     },
     "user_tz": -330
    },
    "id": "L_8Qpr7ZVfrR",
    "outputId": "abef89da-c5d9-4db4-9c27-8bc8463afa6a"
   },
   "outputs": [
    {
     "name": "stdout",
     "output_type": "stream",
     "text": [
      "Output:--\n",
      "\n",
      "The number of object is : 3\n"
     ]
    }
   ],
   "source": [
    "\"\"\"\n",
    "Create a python class named 'count_object', count the number of created object of class this class.\n",
    "\n",
    "Input:--\n",
    "\n",
    "count = 0\n",
    "\n",
    "Output:--\n",
    "\n",
    "The number of object is : 3\n",
    "\n",
    "\"\"\"\n",
    "class count_object:  \n",
    "\n",
    "    count = 0  \n",
    "\n",
    "    def __init__(self):  \n",
    "\n",
    "       count_object.count += 1\n",
    "\n",
    "s1 = count_object()  \n",
    "s2 = count_object()  \n",
    "s3 = count_object()  \n",
    "\n",
    "print(\"Output:--\\n\\nThe number of object is :\", count_object.count)  "
   ]
  },
  {
   "cell_type": "code",
   "execution_count": 0,
   "metadata": {
    "colab": {
     "base_uri": "https://localhost:8080/"
    },
    "colab_type": "code",
    "executionInfo": {
     "elapsed": 2552,
     "status": "ok",
     "timestamp": 1570437089821,
     "user": {
      "displayName": "bheem kumar",
      "photoUrl": "",
      "userId": "16514217920437432713"
     },
     "user_tz": -330
    },
    "id": "yJlIL94VPqPp",
    "outputId": "81500e52-b120-47de-9928-65ffc3b38d62"
   },
   "outputs": [
    {
     "name": "stdout",
     "output_type": "stream",
     "text": [
      "Output:--\n",
      "\n",
      "Hello, my name is John.\n",
      "I am 36 year old.\n"
     ]
    }
   ],
   "source": [
    "\"\"\"\n",
    "Create a class which uses the user definded identifier inplace of 'self'.\n",
    "\n",
    "Inputs:--\n",
    "\n",
    "name : john\n",
    "age  : 36\n",
    "\n",
    "Output :--\n",
    "\n",
    "Hello my name is John\n",
    "\n",
    "\"\"\"\n",
    "\n",
    "class Employee:\n",
    "\n",
    "  def __init__(this, name, age):\n",
    "    this.name = name\n",
    "    this.age  = age\n",
    "\n",
    "E1 = Employee('John', 36)\n",
    "print('Output:--\\n\\nHello, my name is',E1.name+'.')\n",
    "print('I am',E1.age,'year old.')"
   ]
  },
  {
   "cell_type": "code",
   "execution_count": 0,
   "metadata": {
    "colab": {
     "base_uri": "https://localhost:8080/"
    },
    "colab_type": "code",
    "executionInfo": {
     "elapsed": 2543,
     "status": "ok",
     "timestamp": 1570437089821,
     "user": {
      "displayName": "bheem kumar",
      "photoUrl": "",
      "userId": "16514217920437432713"
     },
     "user_tz": -330
    },
    "id": "I0U1-3RbO2fo",
    "outputId": "255fe226-ad0d-44ea-cabf-e19483f04395"
   },
   "outputs": [
    {
     "name": "stdout",
     "output_type": "stream",
     "text": [
      "Outputs:--\n",
      "\n",
      "Before renaming:\n",
      "Jack\n",
      "After renaming:\n",
      "Enrique\n"
     ]
    }
   ],
   "source": [
    "\"\"\"\n",
    "Create a class named 'python', create a method 'rename' within it.\n",
    "print the class variable in 'display' method by using classmethod decorator.\n",
    "\n",
    "Inputs:--\n",
    "\n",
    "name : Jack\n",
    "new_name : Enrique\n",
    "\n",
    "Outputs:--\n",
    "\n",
    "Before renaming:\n",
    "Jack\n",
    "After renaming\n",
    "Enrique\n",
    "\n",
    "\"\"\"\n",
    "\n",
    "class student:\n",
    "\n",
    "    name = 'Jack'\n",
    "\n",
    "    @classmethod\n",
    "    def rename(cls):\n",
    "        cls.name = 'Enrique'\n",
    "\n",
    "    @classmethod\n",
    "    def display(cls):\n",
    "        print(cls.name)\n",
    "        \n",
    "print('Outputs:--\\n\\nBefore renaming:')\n",
    "student.display()\n",
    "student.rename()\n",
    "print('After renaming:')\n",
    "student.display()"
   ]
  },
  {
   "cell_type": "markdown",
   "metadata": {
    "colab_type": "text",
    "id": "riyrz-6icUVF"
   },
   "source": [
    "####**INTERFACE**\n",
    "####**ABSTRACT CLASS,METHOD, VARIABLE**\n",
    "####**AUTO STATIC EXTERN, "
   ]
  },
  {
   "cell_type": "markdown",
   "metadata": {
    "colab_type": "text",
    "id": "jSu1PNZol83s"
   },
   "source": [
    "### Methods\n",
    "\n",
    "**Methods** are simply another kind of function that reside in classes. You create and work with methods in Python in precisely the same way that you do functions,except that methods are always associated with a class. There are three types of methods in python.\n",
    "\n",
    "1. **Instance method** are methods which require an object of its class to be created before it can be called. To invoke a instance method, we have to create an Object of the class in within which it defined.\n",
    "\n",
    "1.  **Class method** is a method which is bound to the class and not the object of the class.\n",
    "They have the access to the state of the class as it takes a class parameter that points to the class and not the object instance.\n",
    "It can modify a class state that would apply across all the instances of the class.\n",
    "\n",
    "3. **Static  methods** in Python are extremely similar to python class level methods, the difference being that a static method is bound to a class rather than the objects for that class. This means that a static method can be called without an object for that class.\n",
    " \n",
    "\n",
    "\n",
    "\n",
    "\n"
   ]
  },
  {
   "cell_type": "code",
   "execution_count": 0,
   "metadata": {
    "colab": {
     "base_uri": "https://localhost:8080/"
    },
    "colab_type": "code",
    "executionInfo": {
     "elapsed": 2536,
     "status": "ok",
     "timestamp": 1570437089821,
     "user": {
      "displayName": "bheem kumar",
      "photoUrl": "",
      "userId": "16514217920437432713"
     },
     "user_tz": -330
    },
    "id": "X11ol4cGhsOI",
    "outputId": "874113c2-5e49-48cd-d301-00c372e84c42"
   },
   "outputs": [
    {
     "name": "stdout",
     "output_type": "stream",
     "text": [
      "Output : 10\n"
     ]
    }
   ],
   "source": [
    "\"\"\"\n",
    "Create a class named 'Python', create a method 'display' which is used to display the attributes of the class.\n",
    "\n",
    "Input : 10\n",
    "\n",
    "Output: 10\n",
    "\n",
    "\"\"\"\n",
    "\n",
    "class Student:\n",
    "    \n",
    "    def __init__(self, data):\n",
    "        self.data = data\n",
    "\n",
    "    def display(self):\n",
    "        print(\"Output :\",self.data)\n",
    "\n",
    "data = 10\n",
    "stud = Student(data)\n",
    "stud.display()"
   ]
  },
  {
   "cell_type": "code",
   "execution_count": 0,
   "metadata": {
    "colab": {
     "base_uri": "https://localhost:8080/"
    },
    "colab_type": "code",
    "executionInfo": {
     "elapsed": 2531,
     "status": "ok",
     "timestamp": 1570437089822,
     "user": {
      "displayName": "bheem kumar",
      "photoUrl": "",
      "userId": "16514217920437432713"
     },
     "user_tz": -330
    },
    "id": "-zjQhcB8iMme",
    "outputId": "ebc65918-b9d2-4df4-af1a-d022ae87f894"
   },
   "outputs": [
    {
     "name": "stdout",
     "output_type": "stream",
     "text": [
      "Output : 4.0\n"
     ]
    }
   ],
   "source": [
    "\"\"\"\n",
    "Create a class in which call a method from by other method of same class.\n",
    "for example first method should be 'add' and second method should be 'mean'.\n",
    "\n",
    "Inputs:--\n",
    "\n",
    "num1 : 3\n",
    "num2 : 9\n",
    "\n",
    "Output:--\n",
    "\n",
    "4.0\n",
    "\n",
    "\"\"\"\n",
    "\n",
    "class check:\n",
    "\n",
    "    def __init__(self, num1, num2):\n",
    "\n",
    "        self.num1 = num1\n",
    "        self.num2 = num2\n",
    "\n",
    "    def add(self):\n",
    "\n",
    "        return self.num1 + self.num2\n",
    "\n",
    "    def mean(self):\n",
    "\n",
    "        self.num3 = self.add()/3\n",
    "\n",
    "    def display(self):\n",
    "\n",
    "        print('Output :',self.num3)\n",
    "\n",
    "ch = check(3,9)\n",
    "ch.mean()\n",
    "ch.display()"
   ]
  },
  {
   "cell_type": "code",
   "execution_count": 0,
   "metadata": {
    "colab": {
     "base_uri": "https://localhost:8080/"
    },
    "colab_type": "code",
    "executionInfo": {
     "elapsed": 2524,
     "status": "ok",
     "timestamp": 1570437089822,
     "user": {
      "displayName": "bheem kumar",
      "photoUrl": "",
      "userId": "16514217920437432713"
     },
     "user_tz": -330
    },
    "id": "UnDpv92jGkAm",
    "outputId": "202c9211-fbec-4f3c-8260-27473bdf686b"
   },
   "outputs": [
    {
     "name": "stdout",
     "output_type": "stream",
     "text": [
      "Output : 12054\n"
     ]
    }
   ],
   "source": [
    "\"\"\"\n",
    "Write a class in which create a method to multiply two number and another method to display the result.\n",
    "\n",
    "Inputs:--\n",
    "\n",
    "number1 : 123\n",
    "number2 : 98\n",
    "\n",
    "Output:--\n",
    "\n",
    "12054\n",
    "\n",
    "\"\"\"\n",
    "\n",
    "class multiplication:\n",
    "\n",
    "    def __init__(self, num1, num2):\n",
    "\n",
    "        self.num1 = num1\n",
    "        self.num2 = num2\n",
    "\n",
    "    def mul(self):\n",
    "        \n",
    "        self.result = self.num1 * self.num2\n",
    "    \n",
    "    def display(self):\n",
    "\n",
    "        print('Output :', self.result)\n",
    "\n",
    "M = multiplication(123, 98)\n",
    "M.mul()\n",
    "M.display()"
   ]
  },
  {
   "cell_type": "code",
   "execution_count": 0,
   "metadata": {
    "colab": {
     "base_uri": "https://localhost:8080/"
    },
    "colab_type": "code",
    "executionInfo": {
     "elapsed": 2519,
     "status": "ok",
     "timestamp": 1570437089823,
     "user": {
      "displayName": "bheem kumar",
      "photoUrl": "",
      "userId": "16514217920437432713"
     },
     "user_tz": -330
    },
    "id": "XrOe1-D3rfbE",
    "outputId": "48c47192-f4ca-4e5e-b0df-e499961f002e"
   },
   "outputs": [
    {
     "name": "stdout",
     "output_type": "stream",
     "text": [
      "Outputs:--\n",
      "\n",
      " 5+10i\n",
      "-3-6i\n"
     ]
    }
   ],
   "source": [
    "\"\"\"\n",
    "Create a class named 'complex_number' which contain three methods that are 'add_complex_number', \n",
    "'subtract_complex_number' and 'display'. perform the operation according to the name of methods.\n",
    "\n",
    "Inputs:--\n",
    "\n",
    "complex_number1 : 1+2i\n",
    "complex_number2 : 4+8i\n",
    "\n",
    "Outputs:--\n",
    "\n",
    "5+10i\n",
    "-3-6i\n",
    "\n",
    "\"\"\"\n",
    "\n",
    "class complex_number:\n",
    "  \n",
    "  def __init__(self, complex_number1, complex_number2):\n",
    "\n",
    "    self.complex_number1 = complex_number1\n",
    "    self.complex_number2 = complex_number2\n",
    "    \n",
    "  def add_complex_number(self):\n",
    "    \n",
    "    cn1_value1 = int(self.complex_number1.split('+')[0])\n",
    "    cn1_value2 = int((self.complex_number1.split('+')[1])[:-1])\n",
    "    \n",
    "    cn2_value1 = int(self.complex_number2.split('+')[0])\n",
    "    cn2_value2 = int((self.complex_number2.split('+')[1])[:-1])\n",
    "    \n",
    "    print('Outputs:--\\n\\n', str(cn1_value1 + cn2_value1) +'+'+ str(cn1_value2 + cn2_value2) + 'i')\n",
    "    \n",
    "  def subtract_complex_number(self):\n",
    "    \n",
    "    cn1_value1 = int(self.complex_number1.split('+')[0])\n",
    "    cn1_value2 = int((self.complex_number1.split('+')[1])[:-1])\n",
    "    \n",
    "    cn2_value1 = int(self.complex_number2.split('+')[0])\n",
    "    cn2_value2 = int((self.complex_number2.split('+')[1])[:-1])\n",
    "    \n",
    "    print(str(cn1_value1 - cn2_value1) + str(cn1_value2 - cn2_value2) + 'i')\n",
    "\n",
    "cn = complex_number('1+2i','4+8i')\n",
    "cn.add_complex_number()\n",
    "cn.subtract_complex_number()"
   ]
  },
  {
   "cell_type": "code",
   "execution_count": 0,
   "metadata": {
    "colab": {
     "base_uri": "https://localhost:8080/"
    },
    "colab_type": "code",
    "executionInfo": {
     "elapsed": 2514,
     "status": "ok",
     "timestamp": 1570437089824,
     "user": {
      "displayName": "bheem kumar",
      "photoUrl": "",
      "userId": "16514217920437432713"
     },
     "user_tz": -330
    },
    "id": "Rer7-0my93cp",
    "outputId": "60dc38cc-378f-4f8f-c64c-79adb34fd618"
   },
   "outputs": [
    {
     "name": "stdout",
     "output_type": "stream",
     "text": [
      "Output:--\n",
      "\n",
      " Jack\n"
     ]
    }
   ],
   "source": [
    "\"\"\"\n",
    "Create a class named 'python', create a method 'display' within it.\n",
    "print the class variable in 'display' method by using classmethod decorator.\n",
    "\n",
    "Input:-- \n",
    "\n",
    "name =  Jack\n",
    "\n",
    "Output:--\n",
    "\n",
    "Jack\n",
    "\n",
    "\"\"\"\n",
    "\n",
    "class student:\n",
    "\n",
    "    name = 'Jack'\n",
    "\n",
    "    @classmethod\n",
    "    def display(cls):\n",
    "        print('Output:--\\n\\n',cls.name)\n",
    "\n",
    "student.display()"
   ]
  },
  {
   "cell_type": "code",
   "execution_count": 0,
   "metadata": {
    "colab": {
     "base_uri": "https://localhost:8080/"
    },
    "colab_type": "code",
    "executionInfo": {
     "elapsed": 2507,
     "status": "ok",
     "timestamp": 1570437089824,
     "user": {
      "displayName": "bheem kumar",
      "photoUrl": "",
      "userId": "16514217920437432713"
     },
     "user_tz": -330
    },
    "id": "qw0ZXWuGk3Uw",
    "outputId": "2d1360b5-3fc1-40ee-bfa7-008918b89aba"
   },
   "outputs": [
    {
     "name": "stdout",
     "output_type": "stream",
     "text": [
      "Output : 5040\n"
     ]
    }
   ],
   "source": [
    "\"\"\"\n",
    "Create a class named 'fact', find the factorial of given input using staticmethod.\n",
    "\n",
    "Input : 7\n",
    "\n",
    "Output: 5040\n",
    "\n",
    "\"\"\"\n",
    "\n",
    "class fact:\n",
    "    \n",
    "  @staticmethod\n",
    "  def factorial(number):\n",
    "\n",
    "        if number == 0:\n",
    "\n",
    "            return 1\n",
    "\n",
    "        else:\n",
    "\n",
    "            return number * fact.factorial(number - 1)\n",
    "       \n",
    "print('Output :',fact.factorial(7))"
   ]
  },
  {
   "cell_type": "code",
   "execution_count": 0,
   "metadata": {
    "colab": {
     "base_uri": "https://localhost:8080/"
    },
    "colab_type": "code",
    "executionInfo": {
     "elapsed": 2501,
     "status": "ok",
     "timestamp": 1570437089824,
     "user": {
      "displayName": "bheem kumar",
      "photoUrl": "",
      "userId": "16514217920437432713"
     },
     "user_tz": -330
    },
    "id": "ZB1MM4ClaYTx",
    "outputId": "0c88afb2-ed2b-475b-af5b-2a4667c1f4e7"
   },
   "outputs": [
    {
     "name": "stdout",
     "output_type": "stream",
     "text": [
      "Output:--\n",
      "\n",
      "Rihana 340\n",
      "Jack 410\n",
      "Jonathan 332\n",
      "Enrique 450\n",
      "Stev 467\n"
     ]
    }
   ],
   "source": [
    "\"\"\"\n",
    "Create a class named 'list_of_object', store the name and marks of 5 student in a list as object.\n",
    "and print it.\n",
    "Inputs:--\n",
    "\n",
    "name = ['Rihana', 'Jack', 'Jonathan','Enrique','Stev']\n",
    "marks = [340,410,332,450,467]\n",
    "\n",
    "Outputs:--\n",
    "\n",
    "Rihana 340\n",
    "Jack 410\n",
    "Jonathan 332\n",
    "Enrique 450\n",
    "Stev 467\n",
    "\n",
    "\"\"\"\n",
    "class Student: \n",
    "\n",
    "    def __init__(self, name, marks):\n",
    "\n",
    "        self.name = name\n",
    "        self.marks = marks\n",
    "\n",
    "\n",
    "obj = []\n",
    "name = ['Rihana', 'Jack', 'Jonathan','Enrique','Stev']\n",
    "marks = [340,410,332,450,467]\n",
    "\n",
    "for i in range(5):\n",
    "\n",
    "  obj.append(Student(name[i], marks[i]))\n",
    "\n",
    "print('Output:--\\n')\n",
    "for i in range(5):\n",
    "\n",
    "  print(obj[i].name,obj[i].marks)"
   ]
  },
  {
   "cell_type": "markdown",
   "metadata": {
    "colab_type": "text",
    "id": "VbfViyOtMabC"
   },
   "source": [
    "## Inheritance\n",
    "\n",
    "Inheritance is a powerful feature in object oriented programming. It refers to defining a new class with little or no modification to an existing class. The new class is called derived (or child) class and the one from which it inherits is called the base (or parent) class.\n",
    "\n",
    "Basic Syntax of Inheritance\n",
    "\n",
    "class class_name1:\n",
    "\n",
    "    stuff\n",
    "    \n",
    "class class_name2(class_name1):\n",
    "\n",
    "    stuff\n",
    "\n",
    "\n"
   ]
  },
  {
   "cell_type": "markdown",
   "metadata": {
    "colab_type": "text",
    "id": "D-aQ56UG3APq"
   },
   "source": [
    "### Single Level Inheritance.\n",
    "\n",
    "When a single class is derived from a single parent class, it is called Single inheritance. It is the simplest of all inheritance. For example, Animal is derived from living things."
   ]
  },
  {
   "cell_type": "code",
   "execution_count": 0,
   "metadata": {
    "colab": {
     "base_uri": "https://localhost:8080/"
    },
    "colab_type": "code",
    "executionInfo": {
     "elapsed": 2997,
     "status": "ok",
     "timestamp": 1570437090327,
     "user": {
      "displayName": "bheem kumar",
      "photoUrl": "",
      "userId": "16514217920437432713"
     },
     "user_tz": -330
    },
    "id": "0mYFpyekYygF",
    "outputId": "4ab11c09-3011-4fd9-cc97-ae701ea678be"
   },
   "outputs": [
    {
     "name": "stdout",
     "output_type": "stream",
     "text": [
      "Output1 : base class method is invoked by derived class\n",
      "Output2 : derived class method is invoked by derived class\n"
     ]
    }
   ],
   "source": [
    "\"\"\"\n",
    "Create a class named 'base_class' and inherit it by creating another class named 'derived_class'.\n",
    "\n",
    "Outputs:--\n",
    "\n",
    "    base class method is invoked by derived class\n",
    "    derived class method is invoked by derived class\n",
    "\n",
    "\"\"\"\n",
    "\n",
    "class base_class:\n",
    "\n",
    "    def base_class_display(self):\n",
    "\n",
    "        print('Output1 :','base class method is invoked by derived class')\n",
    "\n",
    "class derived_class(base_class):\n",
    "    \n",
    "    def derived_class_disoply(self):\n",
    "\n",
    "        print('Output2 : derived class method is invoked by derived class')\n",
    "\n",
    "# Creating object of derived class.\n",
    "dc = derived_class()\n",
    "\n",
    "# Calling base class method by derived class object.\n",
    "dc.base_class_display()\n",
    "\n",
    "# Calling derived class method by derived class object.\n",
    "dc.derived_class_disoply()"
   ]
  },
  {
   "cell_type": "code",
   "execution_count": 0,
   "metadata": {
    "colab": {
     "base_uri": "https://localhost:8080/"
    },
    "colab_type": "code",
    "executionInfo": {
     "elapsed": 2992,
     "status": "ok",
     "timestamp": 1570437090328,
     "user": {
      "displayName": "bheem kumar",
      "photoUrl": "",
      "userId": "16514217920437432713"
     },
     "user_tz": -330
    },
    "id": "BHeaCj0rjH-C",
    "outputId": "bfa781a6-4447-4605-cfb7-90cc4652ab7b"
   },
   "outputs": [
    {
     "name": "stdout",
     "output_type": "stream",
     "text": [
      "Output : 81\n"
     ]
    }
   ],
   "source": [
    "\"\"\"\n",
    "Create a class named 'base_class', inherit it from other class named 'derived_class' calculate the power\n",
    "of exponent in base_class and display it in derived class.\n",
    "\n",
    "Inputs:--\n",
    "\n",
    "exponent : 9\n",
    "power    : 2\n",
    "\n",
    "Output:--\n",
    "\n",
    "81\n",
    "\n",
    "\"\"\"\n",
    "\n",
    "class base_class:\n",
    "\n",
    "    def __init__(self, exp, pow):\n",
    "\n",
    "        self.exp = exp\n",
    "        self.pow = pow\n",
    "\n",
    "    def power(self):\n",
    "\n",
    "        self.power_of_exponent = self.exp ** self.pow\n",
    "\n",
    "class derived_class(base_class):\n",
    "    \n",
    "    def display(self):\n",
    "\n",
    "        print('Output :',  self.power_of_exponent)\n",
    "\n",
    "# creating object of base class.\n",
    "dc = derived_class(9,2)\n",
    "\n",
    "# calculating the power of exponent.\n",
    "dc.power()\n",
    "\n",
    "# print the calculated value.\n",
    "dc.display()"
   ]
  },
  {
   "cell_type": "code",
   "execution_count": 0,
   "metadata": {
    "colab": {
     "base_uri": "https://localhost:8080/"
    },
    "colab_type": "code",
    "executionInfo": {
     "elapsed": 2986,
     "status": "ok",
     "timestamp": 1570437090329,
     "user": {
      "displayName": "bheem kumar",
      "photoUrl": "",
      "userId": "16514217920437432713"
     },
     "user_tz": -330
    },
    "id": "hIBloeZMO4C2",
    "outputId": "49845227-8644-40b9-bef9-1ed8ea299a8a"
   },
   "outputs": [
    {
     "name": "stdout",
     "output_type": "stream",
     "text": [
      "Output:--\n",
      "\n",
      " 81\n"
     ]
    }
   ],
   "source": [
    "\"\"\"\n",
    "Create a class in which access exponent from base class to derived class and find the value of power of exponent in base class.\n",
    "\n",
    "Inputs:--\n",
    "\n",
    "exponent : 9\n",
    "power    : 2\n",
    "\n",
    "Output:--\n",
    "\n",
    "81\n",
    "\n",
    "\"\"\"\n",
    "\n",
    "class base_class:\n",
    "\n",
    "    def __init__(self, exp):\n",
    "\n",
    "        self.exp = exp\n",
    "\n",
    "class derived_class(base_class):\n",
    "    \n",
    "    def __init__(self, exp, pow):\n",
    "\n",
    "        base_class.__init__(self, exp)\n",
    "        self.pow = pow\n",
    "\n",
    "    def power(self):\n",
    "\n",
    "        print('Output:--\\n\\n',self.exp ** self.pow)\n",
    "\n",
    "dc = derived_class(9,2)\n",
    "dc.power()"
   ]
  },
  {
   "cell_type": "code",
   "execution_count": 0,
   "metadata": {
    "colab": {
     "base_uri": "https://localhost:8080/"
    },
    "colab_type": "code",
    "executionInfo": {
     "elapsed": 2979,
     "status": "ok",
     "timestamp": 1570437090329,
     "user": {
      "displayName": "bheem kumar",
      "photoUrl": "",
      "userId": "16514217920437432713"
     },
     "user_tz": -330
    },
    "id": "oh9KRLTPeVy6",
    "outputId": "5f0a63c6-6a12-48a7-91db-f55e57a73229"
   },
   "outputs": [
    {
     "name": "stdout",
     "output_type": "stream",
     "text": [
      "Outputs :--\n",
      "\n",
      "Area of Circcle : 154.0\n",
      "Circumference of Circcle : 44.0\n",
      "Area of Sphere : 616.0\n",
      "Volume of sphere : 1437.333333333333\n"
     ]
    }
   ],
   "source": [
    "\"\"\"\n",
    "Find the area & circumference of circle and area & volume of sphere, where the radius of circle and sphere are same. \n",
    "using single level inheritance.\n",
    "\n",
    "Inputs :--\n",
    "\n",
    "radius  : 7\n",
    "pi      : 22/7\n",
    "\n",
    "Outputs:--\n",
    "\n",
    "Area of Circcle : 154.0\n",
    "Circumference of Circcle : 44.0\n",
    "Area of Sphere : 616.0\n",
    "Volume of sphere : 1437.333333333333\n",
    "\n",
    "\"\"\"\n",
    "class circle:\n",
    "\n",
    "    def __init__(self, radius, pi):\n",
    "\n",
    "        self.radius = radius\n",
    "        self.pi     = pi\n",
    "    \n",
    "    def c_area(self):\n",
    "\n",
    "        print('Area of Circcle :', self.pi * self.radius ** 2)\n",
    "    \n",
    "    def circumference(self):\n",
    "\n",
    "        print('Circumference of Circcle :', 2 * self.pi * self.radius)\n",
    "\n",
    "\n",
    "class sphere(circle):\n",
    "\n",
    "    def s_area(self):\n",
    "    \n",
    "        print('Area of Sphere :', 4 * self.pi * self.radius ** 2)\n",
    "\n",
    "    def volume(self):\n",
    "\n",
    "        print('Volume of sphere :', 4/3 * self.pi * self.radius ** 3)\n",
    "\n",
    "radius = 7\n",
    "pi = 22/7\n",
    "print('Outputs :--\\n')\n",
    "# Creating the Object of child class\n",
    "obj = sphere(radius , pi)\n",
    "\n",
    "# Area of Circle.\n",
    "obj.c_area()\n",
    "\n",
    "# Circumference of Circle.\n",
    "obj.circumference()\n",
    "\n",
    "\n",
    "# Area of Sphere.\n",
    "obj.s_area()\n",
    "\n",
    "# Volume of Sphere.\n",
    "obj.volume()"
   ]
  },
  {
   "cell_type": "markdown",
   "metadata": {
    "colab_type": "text",
    "id": "g7tx0-PzokjT"
   },
   "source": [
    "#### 'super()' function\n",
    "\n",
    "\n",
    "The super function in Python can be used to gain access to inherited methods which is either from a parent or sibling class. The super() builtin function returns a proxy object, a substitute object a substitute object that can call the method of the base class via delegation."
   ]
  },
  {
   "cell_type": "code",
   "execution_count": 0,
   "metadata": {
    "colab": {
     "base_uri": "https://localhost:8080/"
    },
    "colab_type": "code",
    "executionInfo": {
     "elapsed": 2973,
     "status": "ok",
     "timestamp": 1570437090330,
     "user": {
      "displayName": "bheem kumar",
      "photoUrl": "",
      "userId": "16514217920437432713"
     },
     "user_tz": -330
    },
    "id": "z7tPCFrnZoCA",
    "outputId": "1bd073c5-5d1d-41bb-c19c-d15f8c23679d"
   },
   "outputs": [
    {
     "name": "stdout",
     "output_type": "stream",
     "text": [
      "Output : 81\n"
     ]
    }
   ],
   "source": [
    "\"\"\"\n",
    "Create a class in which access exponent from base class into derived class and find the value of power of exponent also use the super 'super()' funtion to access base class.\n",
    "\n",
    "NOTE : Both class should have '__init__()' function.\n",
    "\n",
    "Inputs:--\n",
    "\n",
    "exponent : 9\n",
    "power    : 2\n",
    "\n",
    "Output:--\n",
    "\n",
    "81\n",
    "\n",
    "\"\"\"\n",
    "\n",
    "class base_class:\n",
    "\n",
    "    def __init__(self, exp):\n",
    "\n",
    "        self.exp = exp\n",
    "\n",
    "class derived_class(base_class):\n",
    "    \n",
    "    def __init__(self, exp, pow):\n",
    "\n",
    "        super().__init__(exp)\n",
    "\n",
    "        self.pow = pow\n",
    "\n",
    "    def power(self):\n",
    "        self.power_of_exponent = self.exp ** self.pow\n",
    "\n",
    "    def display(self):\n",
    "        print('Output :', self.power_of_exponent )\n",
    "\n",
    "dc = derived_class(9,2)\n",
    "dc.power()\n",
    "dc.display()"
   ]
  },
  {
   "cell_type": "code",
   "execution_count": 0,
   "metadata": {
    "colab": {
     "base_uri": "https://localhost:8080/"
    },
    "colab_type": "code",
    "executionInfo": {
     "elapsed": 2967,
     "status": "ok",
     "timestamp": 1570437090330,
     "user": {
      "displayName": "bheem kumar",
      "photoUrl": "",
      "userId": "16514217920437432713"
     },
     "user_tz": -330
    },
    "id": "xauXGQKown1P",
    "outputId": "44ae0c04-c70f-4551-9255-0b6d25d24e0e"
   },
   "outputs": [
    {
     "name": "stdout",
     "output_type": "stream",
     "text": [
      "Outputs:--\n",
      "\n",
      "Area of Cylinder : 616.0\n",
      "Volume of Cylinder : 1078.0\n",
      "Area of Cone : 498.3544685349676\n",
      "Volume of Cone : 718.6666666666667\n"
     ]
    }
   ],
   "source": [
    "\"\"\"\n",
    "Find the area & volume of Cone and Cylinder where the radius are same but the height of Cone and Cylinder are different.\n",
    "Also use the 'super()' function to access the attributes of super class.\n",
    "\n",
    "Inputs  : --\n",
    "\n",
    "π                  = 22/7\n",
    "radius             : 14\n",
    "height_of_Cone     : 7\n",
    "height_of_Cylinder : 14\n",
    "\n",
    "Outputs:--\n",
    "\n",
    "Area of Cylinder : 616.0\n",
    "Volume of Cylinder : 1078.0\n",
    "Area of Cone : 498.3544685349676\n",
    "Volume of Cone : 718.6666666666667\n",
    "\n",
    "\"\"\"\n",
    "import math\n",
    "\n",
    "class cone:\n",
    "    \n",
    "    def __init__(self, radius, height_of_cone, π):\n",
    "\n",
    "        self.radius = radius\n",
    "        self.height_of_cone = height_of_cone\n",
    "        self.π = π\n",
    "\n",
    "    def area_of_cone(self):\n",
    "\n",
    "        self.result = π * self.radius * (self.radius + math.sqrt(self.height_of_cone ** 2 + self.radius ** 2))\n",
    "        print('Area of Cone :',self.result)\n",
    "\n",
    "    def volume_of_cone(self):\n",
    "\n",
    "        self.result = π * self.radius ** 2 * (self.height_of_cone/3)\n",
    "        print('Volume of Cone :',self.result)\n",
    "\n",
    "class cylinder(cone):\n",
    "\n",
    "    def __init__(self, radius, height_of_cylinder, height_of_cone, π):\n",
    "\n",
    "        super().__init__(radius, height_of_cone, π)\n",
    "        self.height_of_cylinder = height_of_cylinder\n",
    "    \n",
    "    def area_of_cylinder(self):\n",
    "\n",
    "        self.result = 2 * π * self.radius * (self.radius + self.height_of_cylinder)\n",
    "        print('Area of Cylinder :', self.result)\n",
    "\n",
    "    def volume_of_cylinder(self):\n",
    "\n",
    "        self.result = π * self.radius ** 2 * self.height_of_cylinder\n",
    "        print('Volume of Cylinder :', self.result)\n",
    "\n",
    "print('Outputs:--\\n')\n",
    "\n",
    "π                  = 22/7\n",
    "radius             = 7\n",
    "height_of_cone     = 14\n",
    "height_of_cylinder = 7\n",
    "\n",
    "C = cylinder(radius, height_of_cylinder, height_of_cone, π)\n",
    "C.area_of_cylinder()\n",
    "C.volume_of_cylinder()\n",
    "C.area_of_cone()\n",
    "C.volume_of_cone()"
   ]
  },
  {
   "cell_type": "code",
   "execution_count": 0,
   "metadata": {
    "colab": {},
    "colab_type": "code",
    "id": "KywBkQqDgZlS"
   },
   "outputs": [],
   "source": [
    "class cone:\n",
    "    \n",
    "    def __init__(self, radius, height_of_cone, pi):\n",
    "\n",
    "        self.radius = radius\n",
    "        self._pi = pi\n",
    "        self.__height_of_cone = height_of_cone\n",
    "\n",
    "    def display_super(self):\n",
    "        print(self.__height_of_cone)\n",
    "\n",
    "class cylinder(cone):\n",
    "    pass\n",
    "    \n",
    "    def display_sub(self):\n",
    "        print(self.radius)\n",
    "        print(self._pi )\n",
    "        print(self.__height_of_cone)\n",
    "\n",
    "\n",
    "pi                 = 22/7\n",
    "radius             = 7\n",
    "height_of_cone     = 14"
   ]
  },
  {
   "cell_type": "code",
   "execution_count": 0,
   "metadata": {
    "colab": {
     "base_uri": "https://localhost:8080/"
    },
    "colab_type": "code",
    "executionInfo": {
     "elapsed": 2958,
     "status": "ok",
     "timestamp": 1570437090331,
     "user": {
      "displayName": "bheem kumar",
      "photoUrl": "",
      "userId": "16514217920437432713"
     },
     "user_tz": -330
    },
    "id": "xpf3rJ9GgbA-",
    "outputId": "e144ce4c-1156-4bbe-95ad-b9c616a1047d"
   },
   "outputs": [
    {
     "data": {
      "text/plain": [
       "'\\n\\n1. Friend function.\\n\\n2. Python mangles \\n'"
      ]
     },
     "execution_count": 34,
     "metadata": {
      "tags": []
     },
     "output_type": "execute_result"
    }
   ],
   "source": [
    "\"\"\"\n",
    "\n",
    "1. Friend function.\n",
    "\n",
    "2. Python mangles\n",
    "\"\"\""
   ]
  },
  {
   "cell_type": "code",
   "execution_count": 0,
   "metadata": {
    "colab": {
     "base_uri": "https://localhost:8080/"
    },
    "colab_type": "code",
    "executionInfo": {
     "elapsed": 2951,
     "status": "ok",
     "timestamp": 1570437090331,
     "user": {
      "displayName": "bheem kumar",
      "photoUrl": "",
      "userId": "16514217920437432713"
     },
     "user_tz": -330
    },
    "id": "srjRjy3Yo_Sd",
    "outputId": "b9ca7443-414f-4787-a3ed-46591a8375b6"
   },
   "outputs": [
    {
     "name": "stdout",
     "output_type": "stream",
     "text": [
      "Output : 81\n"
     ]
    }
   ],
   "source": [
    "\"\"\"\n",
    "Create a class in which access exponent from base class into derived class and find the value of power of exponent.\n",
    "\n",
    "NOTE : Both class should have '__init__()' function.\n",
    "\n",
    "Inputs:--\n",
    "\n",
    "exponent : 9\n",
    "power    : 2\n",
    "\n",
    "Output:--\n",
    "\n",
    "81\n",
    "\n",
    "\"\"\"\n",
    " \n",
    "class base_class:\n",
    "\n",
    "    def __init__(self, exp):\n",
    "\n",
    "        self.exp = exp\n",
    "\n",
    "class derived_class(base_class):\n",
    "    \n",
    "    def __init__(self, exp, pow):\n",
    "\n",
    "        base_class.__init__(self, exp)\n",
    "\n",
    "        self.pow = pow\n",
    "\n",
    "    def power(self):\n",
    "        self.power_of_exponent = self.exp ** self.pow\n",
    "\n",
    "    def display(self):\n",
    "        print('Output :', self.power_of_exponent )\n",
    "\n",
    "dc = derived_class(9,2)\n",
    "\n",
    "dc.power()\n",
    "\n",
    "dc.display()"
   ]
  },
  {
   "cell_type": "code",
   "execution_count": 0,
   "metadata": {
    "colab": {
     "base_uri": "https://localhost:8080/"
    },
    "colab_type": "code",
    "executionInfo": {
     "elapsed": 2946,
     "status": "ok",
     "timestamp": 1570437090332,
     "user": {
      "displayName": "bheem kumar",
      "photoUrl": "",
      "userId": "16514217920437432713"
     },
     "user_tz": -330
    },
    "id": "S91Cl5h4-qri",
    "outputId": "9cc3bf62-dd0f-48f8-c188-b0b14c78d6e1"
   },
   "outputs": [
    {
     "name": "stdout",
     "output_type": "stream",
     "text": [
      "Output : 81\n"
     ]
    }
   ],
   "source": [
    "\"\"\"\n",
    "\n",
    "Create a class in which access exponent from base class into derived class and find the value of power of exponent using 'super()' function.\n",
    "\n",
    "NOTE : Both class should have '__init__()' function.\n",
    "\n",
    "Inputs:--\n",
    "\n",
    "exponent : 9\n",
    "power    : 2\n",
    "\n",
    "Output:--\n",
    "\n",
    "81\n",
    "\n",
    "\"\"\"\n",
    "\n",
    "class base_class:\n",
    "\n",
    "    def __init__(self, exp):\n",
    "\n",
    "        self.exp = exp\n",
    "\n",
    "class derived_class(base_class):\n",
    "    \n",
    "    def __init__(self, exp, pow):\n",
    "\n",
    "       super().__init__(exp)\n",
    "\n",
    "       self.pow = pow\n",
    "\n",
    "    def power(self):\n",
    "        self.power_of_exponent = self.exp ** self.pow\n",
    "\n",
    "    def display(self):\n",
    "        print('Output :', self.power_of_exponent )\n",
    "\n",
    "dc = derived_class(9,2)\n",
    "dc.power()\n",
    "dc.display()"
   ]
  },
  {
   "cell_type": "markdown",
   "metadata": {
    "colab_type": "text",
    "id": "63vgM2w2_sIF"
   },
   "source": [
    "#### Encapsulation /Access Modifiers / (public, private, protected)\n",
    "\n",
    "Encapsulation is defined as the wrapping up of data under a single unit. It is the mechanism that binds together code and the data it manipulates.Other way to think about encapsulation is, it is a protective shield that prevents the data from being accessed by the code outside this shield. Encapsulation is implemented using public, private and protected. The default members or methods of a class are public. There is no any keyword used to make the members or methods to public, priavte or protected. the single underscore is used to make protected and double underscore is used for private. _protected is example of of protected and __private is example of private member.\n",
    "\n",
    "Variables with the public access modifiers can be accessed anywhere inside or outside the class, the private variables can only be accessed inside the class, while protected variables can be accessed within the same package."
   ]
  },
  {
   "cell_type": "code",
   "execution_count": 0,
   "metadata": {
    "colab": {
     "base_uri": "https://localhost:8080/"
    },
    "colab_type": "code",
    "executionInfo": {
     "elapsed": 2939,
     "status": "ok",
     "timestamp": 1570437090332,
     "user": {
      "displayName": "bheem kumar",
      "photoUrl": "",
      "userId": "16514217920437432713"
     },
     "user_tz": -330
    },
    "id": "OBy4IXNfzphp",
    "outputId": "65f99bcd-a27c-4f4d-bbc2-ca2ef37214d4"
   },
   "outputs": [
    {
     "name": "stdout",
     "output_type": "stream",
     "text": [
      "Output:--\n",
      "\n",
      "sam\n",
      "20000\n"
     ]
    }
   ],
   "source": [
    "\"\"\"\n",
    "Create a class 'manager' Use 'name' and 'salary' as class attributes.\n",
    "Inherit the 'manager' by a new class named 'employee' and display the attributes of 'manager' outside both class using object of employee class.\n",
    "NOTE: Use public access moidifier.\n",
    "\n",
    "Inputs :--\n",
    "\n",
    "name   :  sam\n",
    "salary : 20000\n",
    "\n",
    "Outputs:--\n",
    "\n",
    "sam\n",
    "20000\n",
    "\n",
    "\"\"\"\n",
    "\n",
    "class manager:\n",
    "\n",
    "    def __init__(self, name, salary):\n",
    "\n",
    "        # nothing to do for public access modifier.\n",
    "        self.name = name     # public  attribute \n",
    "        self.salary = salary # public attribute\n",
    "  \n",
    "class employee(manager):\n",
    "    pass\n",
    "\n",
    "obj = employee('sam',20000)\n",
    "print('Output:--\\n')\n",
    "print(obj.name)\n",
    "print(obj.salary)"
   ]
  },
  {
   "cell_type": "code",
   "execution_count": 0,
   "metadata": {
    "colab": {
     "base_uri": "https://localhost:8080/"
    },
    "colab_type": "code",
    "executionInfo": {
     "elapsed": 2933,
     "status": "ok",
     "timestamp": 1570437090333,
     "user": {
      "displayName": "bheem kumar",
      "photoUrl": "",
      "userId": "16514217920437432713"
     },
     "user_tz": -330
    },
    "id": "jSCgKqDc6-VZ",
    "outputId": "d93e5e91-5a81-4e2d-dbaf-7995ae08c137"
   },
   "outputs": [
    {
     "name": "stdout",
     "output_type": "stream",
     "text": [
      "Outputs:--\n",
      "\n",
      "Before modification\n",
      "sam\n",
      "20000\n",
      "\n",
      "After modification.\n",
      "sam\n",
      "30000\n"
     ]
    }
   ],
   "source": [
    "\"\"\"\n",
    "Create a class 'manager' Use 'name' and 'salary' as class attributes.\n",
    "Inherit the 'manager' by a new class named 'employee' and modify the salary of 'manager' in class 'employee'.\n",
    "NOTE: Use protected access moidifier.\n",
    "\n",
    "Inputs :--\n",
    "\n",
    "name   :  sam\n",
    "salary : 20000\n",
    "\n",
    "Outputs:--\n",
    "\n",
    "Before modification\n",
    "sam\n",
    "20000\n",
    "\n",
    "After modification.\n",
    "sam\n",
    "30000\n",
    "\n",
    "\"\"\"\n",
    "\n",
    "class manager:\n",
    "\n",
    "    def __init__(self, name, salary):\n",
    "\n",
    "        # use prefix one '_' to create protected access modifier.\n",
    "        self._name = name     # protected attribute \n",
    "        self._salary = salary # protected attribute\n",
    "  \n",
    "class employee(manager):\n",
    "   \n",
    "    def modify(self):\n",
    "        self._salary = 30000\n",
    "\n",
    "    def display(self):\n",
    "        print(self._name)\n",
    "        print(self._salary)\n",
    "\n",
    "obj = employee('sam', 20000)\n",
    "\n",
    "print('Outputs:--\\n\\nBefore modification')\n",
    "obj.display()\n",
    "obj.modify()\n",
    "print('\\nAfter modification.')\n",
    "obj.display()"
   ]
  },
  {
   "cell_type": "code",
   "execution_count": 0,
   "metadata": {
    "colab": {
     "base_uri": "https://localhost:8080/"
    },
    "colab_type": "code",
    "executionInfo": {
     "elapsed": 2927,
     "status": "ok",
     "timestamp": 1570437090333,
     "user": {
      "displayName": "bheem kumar",
      "photoUrl": "",
      "userId": "16514217920437432713"
     },
     "user_tz": -330
    },
    "id": "vgm15-gIKUSk",
    "outputId": "18a48543-4a66-4cb3-8420-94d24f32ef73"
   },
   "outputs": [
    {
     "name": "stdout",
     "output_type": "stream",
     "text": [
      "Output:--\n",
      "\n",
      "Before modification.\n",
      "sam\n",
      "20000\n",
      "\n",
      "After Modification.\n",
      "Bheem\n",
      "30000\n"
     ]
    }
   ],
   "source": [
    "\"\"\"\n",
    "Create a class 'manager' Use 'name' and 'salary' as class attributes.\n",
    "Inherit the 'manager' by a new class named 'employee' and modify the value of both attributes in manager class.\n",
    "NOTE: Use private access moidifier.\n",
    "\n",
    "Inputs :--\n",
    "\n",
    "name   :  sam\n",
    "salary : 20000\n",
    "\n",
    "Outputs:--\n",
    "\n",
    "Before modification.\n",
    "sam\n",
    "20000\n",
    "\n",
    "After Modification.\n",
    "Bheem\n",
    "30000\n",
    "\n",
    "\"\"\"\n",
    "\n",
    "class manager:\n",
    "\n",
    "    def __init__(self, name, salary):\n",
    "\n",
    "        # prefix two '_' to create private access modifier.\n",
    "\n",
    "        self.__name = name     # private attribute \n",
    "        self.__salary = salary # private attribute\n",
    "    \n",
    "    def modify(self):\n",
    "\n",
    "        self.__name = 'Bheem'\n",
    "        self.__salary = 30000\n",
    "    def display(self):\n",
    "        print(self.__name)\n",
    "        print(self.__salary)\n",
    "\n",
    "class employee(manager):\n",
    "    pass\n",
    "\n",
    "obj = employee('sam',20000)\n",
    "print('Output:--\\n\\nBefore modification.')\n",
    "obj.display()\n",
    "obj.modify()\n",
    "print('\\nAfter Modification.')\n",
    "obj.display()"
   ]
  },
  {
   "cell_type": "markdown",
   "metadata": {
    "colab_type": "text",
    "id": "4HwNpZ5M_qtj"
   },
   "source": [
    "\n",
    "### Multi Level Inheritance\n",
    "Multi Level Inheritance is a concept of inheritance in which derived class is also usded as parent/base class, means the concept of parents of parents.\n"
   ]
  },
  {
   "cell_type": "code",
   "execution_count": 0,
   "metadata": {
    "colab": {
     "base_uri": "https://localhost:8080/"
    },
    "colab_type": "code",
    "executionInfo": {
     "elapsed": 2921,
     "status": "ok",
     "timestamp": 1570437090334,
     "user": {
      "displayName": "bheem kumar",
      "photoUrl": "",
      "userId": "16514217920437432713"
     },
     "user_tz": -330
    },
    "id": "p2INBo5dsCdL",
    "outputId": "e6ac6ada-702a-480b-d376-d2304ea59333"
   },
   "outputs": [
    {
     "name": "stdout",
     "output_type": "stream",
     "text": [
      "Output :--\n",
      "\n",
      " a + b + c =  60\n"
     ]
    }
   ],
   "source": [
    "\"\"\"\n",
    "Create 3 class A, B, and C access A's data in B, B's data in C and add them in C and print it by using default constructor.\n",
    "\n",
    "Outputs:--\n",
    "\n",
    "a : 10\n",
    "b : 20\n",
    "c : 30\n",
    "\n",
    "Output:--\n",
    "\n",
    "a + b + c =  60\n",
    "\n",
    "\"\"\"\n",
    "\n",
    "class A:\n",
    "\n",
    "    a = 10\n",
    "\n",
    "class B(A):\n",
    "\n",
    "    b = 20\n",
    "\n",
    "class C(B):\n",
    "\n",
    "    c = 30\n",
    "    def display(self):\n",
    "\n",
    "        print('Output :--\\n\\n a + b + c = ',self.a + self.b + self.c)\n",
    "\n",
    "obj = C()\n",
    "obj.display()"
   ]
  },
  {
   "cell_type": "code",
   "execution_count": 0,
   "metadata": {
    "colab": {
     "base_uri": "https://localhost:8080/"
    },
    "colab_type": "code",
    "executionInfo": {
     "elapsed": 2913,
     "status": "ok",
     "timestamp": 1570437090334,
     "user": {
      "displayName": "bheem kumar",
      "photoUrl": "",
      "userId": "16514217920437432713"
     },
     "user_tz": -330
    },
    "id": "SWMuoGLWAy6f",
    "outputId": "23e322ed-8da3-459e-a188-1b08c9570123"
   },
   "outputs": [
    {
     "name": "stdout",
     "output_type": "stream",
     "text": [
      "Output :--\n",
      "\n",
      " a + b + c =  60\n"
     ]
    }
   ],
   "source": [
    "\"\"\"\n",
    "Create 3 class A, B, and C access A's data in B, B's data in C and add them in C and print it.\n",
    "Initialise all variables by its own constructor by using super().\n",
    "\n",
    "Input:--\n",
    "\n",
    "a : 10\n",
    "b : 20\n",
    "c : 30\n",
    "\n",
    "Output:--\n",
    "\n",
    "a + b + c =  60\n",
    "\n",
    "\"\"\"\n",
    "\n",
    "class A:\n",
    "\n",
    "    def __init__(self, a):\n",
    "        self.a = a\n",
    "\n",
    "class B(A):\n",
    "\n",
    "    def __init__(self, a, b):\n",
    "        super().__init__(a)\n",
    "        self.b = b\n",
    "\n",
    "class C(B):\n",
    "\n",
    "    def __init__(self, a, b, c):\n",
    "        super().__init__(a,b)\n",
    "        self.c = c\n",
    "\n",
    "    def display(self):\n",
    "\n",
    "        print('Output :--\\n\\n a + b + c = ',self.a + self.b + self.c)\n",
    "\n",
    "a = 10\n",
    "b = 20\n",
    "c = 30\n",
    "\n",
    "obj = C(a, b, c)\n",
    "obj.display()"
   ]
  },
  {
   "cell_type": "code",
   "execution_count": 0,
   "metadata": {
    "colab": {
     "base_uri": "https://localhost:8080/"
    },
    "colab_type": "code",
    "executionInfo": {
     "elapsed": 2907,
     "status": "ok",
     "timestamp": 1570437090335,
     "user": {
      "displayName": "bheem kumar",
      "photoUrl": "",
      "userId": "16514217920437432713"
     },
     "user_tz": -330
    },
    "id": "e_7y4iXHE5E8",
    "outputId": "451b41d2-9a5b-4345-f3f5-23327841bde8"
   },
   "outputs": [
    {
     "name": "stdout",
     "output_type": "stream",
     "text": [
      "Outputs :--\n",
      "\n",
      "Sum = 27\n",
      "Product = 720\n",
      "Mean = 20.333333333333332\n"
     ]
    }
   ],
   "source": [
    "\"\"\"\n",
    "\n",
    "Create three classes 'class1', 'class2' and class3.\n",
    "use three variable one in each class, perform addtion in class1\n",
    "multiplication in class2 and find mean in 3rd class.\n",
    "\n",
    "Inputs: --\n",
    "\n",
    "num1 : 8\n",
    "num2 : 9\n",
    "num3 : 10\n",
    "\n",
    "Output:--\n",
    "\n",
    "Sum = 27\n",
    "Product = 720\n",
    "Mean = 20.333333333333332\n",
    "\n",
    "\"\"\"\n",
    "\n",
    "class class1:\n",
    "\n",
    "    def __init__(self, num1, num2, num3):\n",
    "\n",
    "        self.num1 = num1\n",
    "        self.num2 = num2\n",
    "        self.num3 = num3\n",
    "\n",
    "    def add(self):\n",
    "\n",
    "        print('Sum =', self.num1 + self.num2 + self.num3)\n",
    "\n",
    "class class2(class1):\n",
    "\n",
    "   def mul(self):\n",
    "\n",
    "       print('Product =', self.num1 * self.num2 * self.num3)\n",
    "\n",
    "class class3(class2):\n",
    "\n",
    "    def mean(self):\n",
    "\n",
    "        print('Mean =', self.num1 + self.num2 + self.num3/3)\n",
    "\n",
    "# Creating the object of class 'class3' and accessing all the classes by using multilevel inheritance.\n",
    "c3 = class3(8, 9, 10)\n",
    "\n",
    "print('Outputs :--\\n')\n",
    "# Accessing the class1 by object of class3.\n",
    "c3.add()\n",
    "\n",
    "# Accessing the class2 by object of class3\n",
    "c3.mul()\n",
    "# Accessing the class3 by the object of same class.\n",
    "c3.mean()"
   ]
  },
  {
   "cell_type": "code",
   "execution_count": 0,
   "metadata": {
    "colab": {
     "base_uri": "https://localhost:8080/"
    },
    "colab_type": "code",
    "executionInfo": {
     "elapsed": 2900,
     "status": "ok",
     "timestamp": 1570437090335,
     "user": {
      "displayName": "bheem kumar",
      "photoUrl": "",
      "userId": "16514217920437432713"
     },
     "user_tz": -330
    },
    "id": "Y6QrGkFXK18L",
    "outputId": "2792b782-6f91-4b9a-b7ce-cc70a59450c5"
   },
   "outputs": [
    {
     "name": "stdout",
     "output_type": "stream",
     "text": [
      "outputs:--\n",
      "\n",
      "Grandfather height: 5.6\n",
      "Father height     : 5.6\n",
      "\n",
      "Grandfather skin color  : 5.6\n",
      "Grandson(son) skin color: 5.6\n",
      "\n",
      "Father height : Fair\n",
      "son height    : Fair\n"
     ]
    }
   ],
   "source": [
    "\"\"\"\n",
    "\n",
    "Create a class named 'grand_father' attributes 'grand_father_name', 'grand_father_height', 'grand_father_skin_color'.\n",
    "Create class named 'father' with attributes 'father_name', 'father_height', 'father_skin_color'.\n",
    "Create class named 'son' with attributes 'son_name', 'son_height', 'son_skin_color'.\n",
    "\n",
    "Inherit grand_father with father and father with son access the attributes of grand father into father and father into son.\n",
    " \n",
    "Do the following task\n",
    "\n",
    "1. Get the grandfather heigt to father height.\n",
    "2. Get the grandfather skin color to grandson skin color.\n",
    "3. get father height to son height.\n",
    "\n",
    "Inputs:--\n",
    "\n",
    "grand_father_name       : Stallon\n",
    "grand_father_height     : 5.6\n",
    "grand_father_skin_color : Fairy-Balck\n",
    "\n",
    "father_name             : Stev\n",
    "father_height           : None\n",
    "father_skin_color       : Fair\n",
    "\n",
    "son_name                : Stephen\n",
    "son_height              : None\n",
    "son_skin_color          : None\n",
    "\n",
    "Output:--\n",
    "\n",
    "Grandfather height: 5.6\n",
    "Father height     : 5.6\n",
    "\n",
    "Grandfather skin color  : 5.6\n",
    "Grandson(son) skin color: 5.6\n",
    "\n",
    "Father height : Fair\n",
    "son height    : Fair\n",
    "\n",
    "\"\"\"\n",
    "\n",
    "class grand_father:\n",
    "\n",
    "    def __init__(self, grand_father_name, grand_father_height, grand_father_skin_color):\n",
    "\n",
    "        self.__grand_father_name     = grand_father_name\n",
    "        self.grand_father_height     = grand_father_height\n",
    "        self.grand_father_skin_color = grand_father_skin_color\n",
    "\n",
    "class father(grand_father):\n",
    "\n",
    "    def __init__(self, father_name, father_height, father_skin_color):\n",
    "\n",
    "        self.__father_name     = father_name\n",
    "        self.father_height     = grand_father_height\n",
    "        self.father_skin_color = father_skin_color\n",
    "\n",
    "class son(father):\n",
    "\n",
    "    def __init__(self, son_name, son_height, son_skin_color):\n",
    "\n",
    "        self.__son_name     = son_name\n",
    "        self.son_height     = grand_father_height\n",
    "        self.son_skin_color = father_skin_color\n",
    "\n",
    "grand_father_name       = 'Stallon'\n",
    "grand_father_height     = 5.6\n",
    "grand_father_skin_color = 'Fairy-Balck'\n",
    "\n",
    "father_name       = 'Stev'\n",
    "father_height     = None\n",
    "father_skin_color = 'Fair'\n",
    "\n",
    "son_name       = 'Stephen'\n",
    "son_height     = None\n",
    "son_skin_color = None\n",
    "\n",
    "g = grand_father(grand_father_name, grand_father_height, grand_father_skin_color)\n",
    "f = father (father_name, father_height, father_skin_color)\n",
    "s = son(son_name, son_height, son_skin_color)\n",
    "\n",
    "print('outputs:--\\n')\n",
    "print('Grandfather height:',g.grand_father_height)\n",
    "print('Father height     :', f.father_height)\n",
    "\n",
    "print('\\nGrandfather skin color  :', g.grand_father_height )\n",
    "print('Grandson(son) skin color:',s.son_height)\n",
    "\n",
    "print('\\nFather height :', f.father_skin_color)\n",
    "print('son height    :', s.son_skin_color)"
   ]
  },
  {
   "cell_type": "markdown",
   "metadata": {
    "colab_type": "text",
    "id": "2OvFArzdckSD"
   },
   "source": [
    "### Hierarchical Inheritance\n",
    "\n",
    "When more than one classes are derived from a single base class, such inheritance is known as Hierarchical Inheritance, where features that are common in lower level are included in parent class."
   ]
  },
  {
   "cell_type": "code",
   "execution_count": 0,
   "metadata": {
    "colab": {
     "base_uri": "https://localhost:8080/"
    },
    "colab_type": "code",
    "executionInfo": {
     "elapsed": 2892,
     "status": "ok",
     "timestamp": 1570437090335,
     "user": {
      "displayName": "bheem kumar",
      "photoUrl": "",
      "userId": "16514217920437432713"
     },
     "user_tz": -330
    },
    "id": "sJHQF3qJcqll",
    "outputId": "d6407cf1-b4be-46a1-968d-cdcca2a29975"
   },
   "outputs": [
    {
     "name": "stdout",
     "output_type": "stream",
     "text": [
      "Outputs:--\n",
      "\n",
      "Acessing the attribute of class A from Class B: 100\n",
      "Acessing the attribute of class A from Class C: 100\n"
     ]
    }
   ],
   "source": [
    "\"\"\"\n",
    "\n",
    "Write a code which implementing Hierarchical Inheritance.\n",
    "Create class 'A' inherit it with class 'B' and class 'C'.\n",
    "and access the attributes of class 'A' in class 'B' and class 'C'.\n",
    "\n",
    "Inputs : - \n",
    "\n",
    "a = 100\n",
    "\n",
    "Output:--\n",
    "\n",
    "Acessing the attribute of class A from Class B: 100\n",
    "Acessing the attribute of class A from Class C: 100\n",
    "\n",
    "\"\"\"\n",
    "\n",
    "class A:\n",
    "\n",
    "    def __init__(self):\n",
    "        self.a = 100\n",
    "    \n",
    "class B(A):\n",
    "\n",
    "    def display(self):\n",
    "        print('Acessing the attribute of class A from Class B:', self.a)\n",
    "\n",
    "class C(A):\n",
    "    \n",
    "    def display(self):\n",
    "\n",
    "        print('Acessing the attribute of class A from Class C:', self.a)\n",
    "\n",
    "print('Outputs:--\\n')\n",
    "# Accessing the attribute of class 'A' by object of class 'B'.\n",
    "\n",
    "b = B()\n",
    "b.display()\n",
    "\n",
    "# Accessing the attribute of class 'A' by object of class 'C'.\n",
    "\n",
    "c = C()\n",
    "c.display()"
   ]
  },
  {
   "cell_type": "code",
   "execution_count": 0,
   "metadata": {
    "colab": {
     "base_uri": "https://localhost:8080/"
    },
    "colab_type": "code",
    "executionInfo": {
     "elapsed": 2886,
     "status": "ok",
     "timestamp": 1570437090336,
     "user": {
      "displayName": "bheem kumar",
      "photoUrl": "",
      "userId": "16514217920437432713"
     },
     "user_tz": -330
    },
    "id": "Ofd3lopAnXnV",
    "outputId": "d34531b0-2226-4c73-f733-6415c1bb1b16"
   },
   "outputs": [
    {
     "name": "stdout",
     "output_type": "stream",
     "text": [
      "Outputs:--\n",
      "\n",
      "Area of Circle   : 154.0\n",
      "Area of Cube     : 1176.0\n",
      "Area of Cuboid   : 14896.0\n",
      "Area of Triangle : 196.0\n"
     ]
    }
   ],
   "source": [
    "\"\"\"\n",
    "\n",
    "Create a parrent class named 'shape' with attribute 'length'.\n",
    "create  4 child class named 'cube', 'cuboid' 'triagle' and 'circle'.\n",
    "\n",
    "where:--\n",
    "\n",
    "1. Radius of Circle = length / 4\n",
    "\n",
    "2. Side of Cube = length / 2\n",
    "\n",
    "3. Cuboid:--\n",
    "\n",
    "    Height of Cuboid = length / 4\n",
    "    Base of Cuboid = 4 * length\n",
    "    Length of Cuboid = 2 * length\n",
    "\n",
    "4. Triangle:--\n",
    "\n",
    "    Height of Triangle = length\n",
    "    Base of Triangle = length / 2\n",
    "\n",
    "print the area of all the shapes.\n",
    "\n",
    "Input:--\n",
    "\n",
    "length : 28\n",
    "\n",
    "Outputs:--\n",
    "\n",
    "Area of Circle   : 154.0\n",
    "Area of Cube     : 1176.0\n",
    "Area of Coboid   : 14896.0\n",
    "Area of Triangle : 196.0\n",
    "\n",
    "\"\"\"\n",
    "\n",
    "class shape:\n",
    "\n",
    "    def __init__(self, length):\n",
    "\n",
    "        self.length = length\n",
    "\n",
    "class circle(shape):\n",
    "    \n",
    "    def circle_area(self):\n",
    "        \n",
    "        radius = self.length / 4 \n",
    "\n",
    "        return 22/7 * radius ** 2\n",
    "\n",
    "class cube(shape):\n",
    "\n",
    "    def cube_area(self):\n",
    "\n",
    "        return 6 * (self.length/2) ** 2\n",
    "\n",
    "class cuboid(shape):\n",
    "\n",
    "    def cuboid_area(self):\n",
    "\n",
    "        height = self.length / 4\n",
    "        base   = self.length * 4\n",
    "        length = self.length * 2\n",
    "\n",
    "        return 2 * (length * base + base * height + height * length)\n",
    "\n",
    "class triangle(shape):\n",
    "\n",
    "   def triangle_area(self):\n",
    "\n",
    "       base = self.length/2\n",
    "       height= self.length\n",
    "       return (height * base) / 2\n",
    "\n",
    "\n",
    "\n",
    "length = 28\n",
    "\n",
    "print('Outputs:--\\n')\n",
    "\n",
    "obj = circle(length)\n",
    "print('Area of Circle   :', obj.circle_area())\n",
    "\n",
    "obj = cube(length)\n",
    "print('Area of Cube     :', obj.cube_area())\n",
    "\n",
    "obj = cuboid(length)\n",
    "print('Area of Cuboid   :', obj.cuboid_area())\n",
    "\n",
    "obj = triangle(length)\n",
    "print('Area of Triangle :', obj.triangle_area())\n"
   ]
  },
  {
   "cell_type": "code",
   "execution_count": 0,
   "metadata": {
    "colab": {
     "base_uri": "https://localhost:8080/"
    },
    "colab_type": "code",
    "executionInfo": {
     "elapsed": 2880,
     "status": "ok",
     "timestamp": 1570437090336,
     "user": {
      "displayName": "bheem kumar",
      "photoUrl": "",
      "userId": "16514217920437432713"
     },
     "user_tz": -330
    },
    "id": "RLKxNrX0tuHL",
    "outputId": "c7b5e2b6-bd2e-441d-8fe2-708695d5c1cd"
   },
   "outputs": [
    {
     "name": "stdout",
     "output_type": "stream",
     "text": [
      "Outputs:--\n",
      "\n",
      "Height of mother is 5.4\n",
      "Skin color of mother is Fairy\n",
      "\n",
      "\n",
      "Height of son is 5.9\n",
      "Skin color of son is Fairy\n",
      "\n",
      "\n",
      "Height of daughter is 5.4\n",
      "Skin color of daughter is Fairy-Brown\n"
     ]
    }
   ],
   "source": [
    "\"\"\"\n",
    "\n",
    "Write a code in which implement Hierarchical Inheritance.\n",
    "Create a class named 'mother' inherit it and access the attributes and methods into it's child class named 'son' and 'daughter'.\n",
    "\n",
    "Inputs:--\n",
    "\n",
    "mother_height      : 5.4\n",
    "mother_skin_color  : Fairy\n",
    "\n",
    "son_height         : 5.9\n",
    "son_skin_color     : None\n",
    "\n",
    "daughter_height    : None\n",
    "daughter_skin_color: Fairy-Brown\n",
    "\n",
    "Outputs:--\n",
    "\n",
    "Height of mother is 5.4\n",
    "Skin color of mother is Fairy\n",
    "\n",
    "\n",
    "Height of son is 5.9\n",
    "Skin color of son is Fairy\n",
    "\n",
    "\n",
    "Height of daughter is 5.4\n",
    "Skin color of daughter is Fairy-Brown\n",
    "\n",
    "\"\"\"\n",
    "class mother:\n",
    "    \n",
    "    def __init__(self, mother_height, mother_skin_color):\n",
    "\n",
    "        self.mother_height = mother_height\n",
    "        self.mother_skin_color = mother_skin_color\n",
    "    \n",
    "    def m_display(self):\n",
    "\n",
    "        print('Outputs:--\\n')\n",
    "        print('Height of mother is', self.mother_height)\n",
    "        print('Skin color of mother is', self.mother_skin_color)\n",
    "\n",
    "class son(mother):\n",
    "\n",
    "    def __init__(self, son_height, son_skin_color):\n",
    "\n",
    "        self.son_height = son_height\n",
    "        self.son_skin_color = son_skin_color\n",
    "\n",
    "    def son(self):\n",
    "        self.son_skin_color = mother_skin_color\n",
    "\n",
    "    def s_display(self):\n",
    "        print('\\n')\n",
    "        print('Height of son is', self.son_height)\n",
    "        print('Skin color of son is', self.son_skin_color)\n",
    "\n",
    "class daughter(mother):\n",
    "\n",
    "    def __init__(self, daughter_height, daughter_skin_color):\n",
    "\n",
    "        self.daughter_height = daughter_height\n",
    "        self.daughter_skin_color = daughter_skin_color\n",
    "\n",
    "    def daughter(self):\n",
    "        self.daughter_height = mother_height\n",
    "\n",
    "    def d_display(self):\n",
    "        print('\\n')\n",
    "        print('Height of daughter is', self.daughter_height)\n",
    "        print('Skin color of daughter is',self.daughter_skin_color)\n",
    "\n",
    "# Varible Description\n",
    "mother_height     = 5.4\n",
    "mother_skin_color = 'Fairy'\n",
    "\n",
    "son_height        = 5.9\n",
    "son_skin_color    = None\n",
    "\n",
    "daughter_height   = None\n",
    "daughter_skin_color    = 'Fairy-Brown'\n",
    "\n",
    "# Displaying mother's attributes.\n",
    "m = mother(mother_height, mother_skin_color)\n",
    "m.m_display()\n",
    "\n",
    "# Dsiplaying son's attributes\n",
    "s = son(son_height, son_skin_color)\n",
    "\n",
    "# Acceing mother's attribute into son's class.\n",
    "s.son()\n",
    "s.s_display()\n",
    "\n",
    "# Displaying daughter's attribures.\n",
    "d = daughter(daughter_height, daughter_skin_color)\n",
    "\n",
    "# Accessing mother's attributes into daughter's class.\n",
    "d.daughter()\n",
    "d.d_display()"
   ]
  },
  {
   "cell_type": "markdown",
   "metadata": {
    "colab_type": "text",
    "id": "lfdjtN6Q0TOc"
   },
   "source": [
    "### Multiple Inheritance.\n",
    "\n",
    "Like C++, a class can be derived from more than one base classes in Python. This is called multiple inheritance. In multiple inheritance, the features of all the base classes are inherited into the derived class. The syntax for multiple inheritance is similar to single inheritance."
   ]
  },
  {
   "cell_type": "code",
   "execution_count": 0,
   "metadata": {
    "colab": {
     "base_uri": "https://localhost:8080/"
    },
    "colab_type": "code",
    "executionInfo": {
     "elapsed": 2873,
     "status": "ok",
     "timestamp": 1570437090337,
     "user": {
      "displayName": "bheem kumar",
      "photoUrl": "",
      "userId": "16514217920437432713"
     },
     "user_tz": -330
    },
    "id": "esLbOngztYe3",
    "outputId": "e8434a00-a466-48b4-ff81-3e488035fb46"
   },
   "outputs": [
    {
     "name": "stdout",
     "output_type": "stream",
     "text": [
      "Outputs:--\n",
      "\n",
      "30\n"
     ]
    }
   ],
   "source": [
    "\"\"\"\n",
    "Create 3 classes named A,B and C inherit calss A and class B by class C and access the class A's attributes in class B and class C.\n",
    "\n",
    "Outputs:--\n",
    "\n",
    "A derived by C\n",
    "B inherited by C\n",
    "C Itself class.\n",
    "\n",
    "\"\"\"\n",
    "\n",
    "class A(object):\n",
    "\n",
    "   a = 10\n",
    "\n",
    "class B(object):\n",
    "    \n",
    "    b = 20\n",
    "\n",
    "class C(A, B):\n",
    "\n",
    "    def display(self):\n",
    "        print(self.a+self.b)\n",
    "\n",
    "print('Outputs:--\\n')\n",
    "# Object of class C is created.\n",
    "obj = C()\n",
    "\n",
    "# Class A is inherited by object of class C\n",
    "obj.display()"
   ]
  },
  {
   "cell_type": "code",
   "execution_count": 0,
   "metadata": {
    "colab": {
     "base_uri": "https://localhost:8080/"
    },
    "colab_type": "code",
    "executionInfo": {
     "elapsed": 2867,
     "status": "ok",
     "timestamp": 1570437090337,
     "user": {
      "displayName": "bheem kumar",
      "photoUrl": "",
      "userId": "16514217920437432713"
     },
     "user_tz": -330
    },
    "id": "d9U7xv5SS4cv",
    "outputId": "7e1098fe-374d-43a8-8cae-c274ce8e92ce"
   },
   "outputs": [
    {
     "name": "stdout",
     "output_type": "stream",
     "text": [
      "Output:--\n",
      "\n",
      "Before modification:\n",
      "\n",
      "Student marks  : 453\n",
      "Employee salary: 20000\n",
      "\n",
      "After modification:\n",
      "\n",
      "Student marks  : 489\n",
      "Employee salary: 30000\n"
     ]
    }
   ],
   "source": [
    "\"\"\"\n",
    "Create a class named 'student' with attributes 'student_marks'.\n",
    "Create a class named 'employee' with attribute 'employee_salary'.\n",
    "Create a class named 'modify' with no attributes and modify the marks of student and slary of employee.\n",
    "\n",
    "Inputs:--\n",
    "\n",
    "marks      : 453\n",
    "salary     : 20000\n",
    "\n",
    "new_marks  : 489\n",
    "new_salary : 30000\n",
    "\n",
    "Outputs:--\n",
    "\n",
    "Before modification:\n",
    "\n",
    "Student marks  : 453\n",
    "Employee salary: 20000\n",
    "\n",
    "After modification:\n",
    "\n",
    "Student marks  : 489\n",
    "Employee salary: 30000\n",
    "\n",
    "\"\"\"\n",
    "\n",
    "# Defining another class  \n",
    "\n",
    "class student:\n",
    "\n",
    "    def __init__(self, student_marks):  \n",
    "\n",
    "        self.student_marks = student_marks\n",
    "\n",
    "class employee:\n",
    "\n",
    "    def __init__(self, employee_salary):  \n",
    "\n",
    "        self.employee_salary = employee_salary\n",
    "\n",
    "class modify(student, employee):\n",
    "\n",
    "    def __init__(self, student_marks, employee_salary):  \n",
    "\n",
    "        student.__init__(self, student_marks)  \n",
    "        employee.__init__(self, employee_salary)  \n",
    "  \n",
    "    def display(self):\n",
    "\n",
    "        print('Student marks  :',self.student_marks)\n",
    "        print('Employee salary:',self.employee_salary)\n",
    "\n",
    "\n",
    "marks = 453\n",
    "salary = 20000\n",
    "\n",
    "new_marks = 489\n",
    "new_salary = 30000\n",
    "\n",
    "# Create an object of the subclass  \n",
    "obj = modify(marks,salary)  \n",
    "print('Output:--\\n\\nBefore modification:\\n')\n",
    "obj.display()\n",
    "\n",
    "obj.student_marks = new_marks\n",
    "\n",
    "obj.employee_salary = new_salary\n",
    "print('\\nAfter modification:\\n')\n",
    "obj.display()"
   ]
  },
  {
   "cell_type": "code",
   "execution_count": 0,
   "metadata": {
    "colab": {
     "base_uri": "https://localhost:8080/"
    },
    "colab_type": "code",
    "executionInfo": {
     "elapsed": 3324,
     "status": "ok",
     "timestamp": 1570437090801,
     "user": {
      "displayName": "bheem kumar",
      "photoUrl": "",
      "userId": "16514217920437432713"
     },
     "user_tz": -330
    },
    "id": "Bx1TmPkv0alS",
    "outputId": "8dc72751-17ba-4831-da20-074998ffb8ac"
   },
   "outputs": [
    {
     "name": "stdout",
     "output_type": "stream",
     "text": [
      "Outputs:--\n",
      "\n",
      "Height of Father is 5.8\n",
      "Skin color of Father is Brown\n",
      "\n",
      "\n",
      "Height of Mother is 5.2\n",
      "Skin color of Mother is Fairy\n",
      "\n",
      "\n",
      "Height of Daughter is 5.8\n",
      "Skin color of Daughter is Fairy\n"
     ]
    }
   ],
   "source": [
    "\"\"\"\n",
    "Write a code which follow the Multiple Inheritance.\n",
    "There should be two parent class named 'mother' and 'father' and one child class named 'daughter'.\n",
    "access the attributes of parents class in child class by Multiple Inheritance and display it.\n",
    "\n",
    "Inputs:--\n",
    "\n",
    "father_height       : 5.8\n",
    "father_skin_color   : Brown\n",
    "\n",
    "mother_height       : 5.2\n",
    "mother_skin_color   : Fairy\n",
    "\n",
    "daughter_height     : None\n",
    "daughter_skin_color : None\n",
    "\n",
    "Outputs:--\n",
    "\n",
    "Height of Father is 5.8\n",
    "Skin_color_of Father is Brown\n",
    "\n",
    "\n",
    "Height of Mother is 5.2\n",
    "Skin color of Mother is fairy\n",
    "\n",
    "\n",
    "Height of Daughter is 5.8\n",
    "Skin color of Daughter is fairy\n",
    "\"\"\"\n",
    "class father:\n",
    "\n",
    "    def __init__(self, father_height, father_skin_color):\n",
    "        self.father_height = father_height\n",
    "        self.father_skin_color = father_skin_color\n",
    "\n",
    "    def f_display(self):\n",
    "        print('Outputs:--\\n')\n",
    "        print('Height of Father is', self.father_height)\n",
    "        print('Skin color of Father is', self.father_skin_color)\n",
    "\n",
    "class mother:\n",
    "\n",
    "    def __init__(self, mother_height, mother_skin_color,):\n",
    "        self.mother_height = mother_height\n",
    "        self.mother_skin_color = mother_skin_color\n",
    "\n",
    "    def m_display(self):\n",
    "        print('\\n')\n",
    "        print('Height of Mother is', self.mother_height)\n",
    "        print('Skin color of Mother is', self.mother_skin_color)\n",
    "\n",
    "\n",
    "class daughter(mother, father):\n",
    "\n",
    "    def __init__(self, \n",
    "                 father_height, father_skin_color,\n",
    "                 mother_height, mother_skin_color, \n",
    "                 daughter_height, daughter_skin_color):\n",
    "        \n",
    "        mother.__init__(self, mother_height, mother_skin_color)\n",
    "        father.__init__(self, father_height, father_skin_color)\n",
    "\n",
    "        self.daughter_height = daughter_height\n",
    "        self.daughter_skin_color = daughter_skin_color\n",
    "\n",
    "    def daughter(self):\n",
    "\n",
    "        self.daughter_height = self.father_height\n",
    "        self.daughter_skin_color = self.mother_skin_color\n",
    "        \n",
    "    def d_display(self):\n",
    "        \n",
    "        print('\\n')\n",
    "        print('Height of Daughter is', self.daughter_height)\n",
    "        print('Skin color of Daughter is', self.daughter_skin_color)\n",
    "\n",
    "# Varible Descriptiion.\n",
    "mother_height = 5.2\n",
    "mother_skin_color = 'Fairy'\n",
    "\n",
    "father_height = 5.8\n",
    "father_skin_color = 'Brown'\n",
    "\n",
    "daughter_height = None\n",
    "daughter_skin_color = None\n",
    "\n",
    "# Creating the object of Daughter class.\n",
    "D = daughter(father_height, father_skin_color, mother_height, mother_skin_color, daughter_height, daughter_skin_color)\n",
    "\n",
    "# Accessing the attributes of parents class into child class.\n",
    "D.daughter()\n",
    "\n",
    "D.f_display()\n",
    "D.m_display()\n",
    "D.d_display()"
   ]
  },
  {
   "cell_type": "markdown",
   "metadata": {
    "colab_type": "text",
    "id": "9ol9mRhHIDmn"
   },
   "source": [
    "### Hybride  Inheritance\n",
    "\n",
    "This form combines more than one form of inheritance. Basically, it is a blend of more than one type of inheritance"
   ]
  },
  {
   "cell_type": "code",
   "execution_count": 0,
   "metadata": {
    "colab": {
     "base_uri": "https://localhost:8080/",
     "height": 119
    },
    "colab_type": "code",
    "executionInfo": {
     "elapsed": 3317,
     "status": "ok",
     "timestamp": 1570437090802,
     "user": {
      "displayName": "bheem kumar",
      "photoUrl": "",
      "userId": "16514217920437432713"
     },
     "user_tz": -330
    },
    "id": "uCQJ8UdRaAZG",
    "outputId": "30fb7a17-8c1d-42a0-bb2b-80468c83bd5c"
   },
   "outputs": [
    {
     "name": "stdout",
     "output_type": "stream",
     "text": [
      "Outputs:--\n",
      "\n",
      "Marks of student_b in Phy is       : 70\n",
      "Marks of student_c in Math is      : 90\n",
      "Marks of student_d in Physics      : 70\n",
      "Marks of student_d in Chemestery is: 85\n"
     ]
    }
   ],
   "source": [
    "\"\"\"\n",
    "\n",
    "Implement a Hybrid Inheritance as given instruction by using Hierarchical Inheritance and Multilevel Inheritance.\n",
    "\n",
    "1. Create 4 classes named:-\n",
    "\n",
    "    student_a\n",
    "    student_b\n",
    "    student_c\n",
    "    student_d\n",
    "\n",
    "2. Every classes should have 3 attributes named:--\n",
    "\n",
    "    phy\n",
    "    chem\n",
    "    math\n",
    "\n",
    "3. Inherit class 'student_a' by classes 'student_b' and 'student_c'.\n",
    "\n",
    "4. Inherit class 'student_b' by class 'student_d'.\n",
    "\n",
    "5. Class 'student_a' should be parent of classes 'student_b' and 'student_c'.\n",
    "\n",
    "6. Class 'student_b' should be parent of class 'student_d'.\n",
    "\n",
    "7. Access 'a_phy' from class 'student_a' into class 'student_b'.\n",
    "\n",
    "8. Access 'a_phy' and 'b_chem' from class 'student_b' into class 'student_d'.\n",
    "\n",
    "9. Access 'a_math' from class 'student_a' into class 'student_c'.\n",
    "\n",
    "10. The attributes name should be like below according the class name.\n",
    "\n",
    "    5.1. For example class 'student_a' attributes name should be like':-\n",
    "\n",
    "        a_phy\n",
    "        a_chem\n",
    "        a_math\n",
    "\n",
    "    5.2. For example class 'student_b' attributes name should be like':-\n",
    "\n",
    "        b_phy\n",
    "        b_chem\n",
    "        b_math\n",
    "\n",
    "    etc...\n",
    "\n",
    "11. Inputs:--\n",
    " \n",
    "    a_phy  : 70\n",
    "    a_chem : 80\n",
    "    a_math : 90\n",
    "\n",
    "    b_phy  : None\n",
    "    b_chem : 85\n",
    "    b_math : 87\n",
    "\n",
    "    c_phy  : 99\n",
    "    c_chem : 97\n",
    "    c_math : None\n",
    "\n",
    "    d_phy  : None\n",
    "    d_chem : None\n",
    "    d_math : 95\n",
    "\n",
    "12. Outputs:--\n",
    "\n",
    "    Marks of student_b in Phy is       : 70\n",
    "    Marks of student_c in Math is      : 90\n",
    "    Marks of student_d in Physics      : 70\n",
    "    Marks of student_d in Chemestery is: 85\n",
    "\n",
    "\"\"\"\n",
    "\n",
    "class student_a:\n",
    "\n",
    "    def __init__(self, phy_a, chem_a, math_a):\n",
    "\n",
    "        self.a_phy  = a_phy\n",
    "        self.a_chem = a_chem\n",
    "        self.a_math = a_math\n",
    "\n",
    "class student_b(student_a):\n",
    "\n",
    "    def __init__(self, a_phy, a_chem, a_math, b_phy, b_chem, b_math):\n",
    "\n",
    "        super().__init__(a_phy, a_chem, a_math)\n",
    "\n",
    "        self.b_phy  = b_phy\n",
    "        self.b_chem = b_chem\n",
    "        self.b_math = b_math\n",
    "\n",
    "        self.b_phy  = self.a_phy\n",
    "\n",
    "\n",
    "class student_c(student_a):\n",
    "\n",
    "    def __init__(self, a_phy, a_chem, a_math, c_phy, c_chem, c_math):\n",
    "\n",
    "        super().__init__(a_phy, a_chem, a_math)\n",
    "\n",
    "        self.c_phy  = c_phy\n",
    "        self.c_chem = c_chem\n",
    "        self.c_math = c_math\n",
    "\n",
    "        self.c_math = self.a_math\n",
    "\n",
    "class student_d(student_b):\n",
    "\n",
    "    def __init__(self, a_phy, a_chem, a_math, b_phy, b_chem, b_math, d_phy, d_chem, d_math):\n",
    "        \n",
    "        student_b.__init__(self, a_phy, a_chem, a_math, b_phy, b_chem, b_math )\n",
    "        \n",
    "        self.d_phy  = d_phy\n",
    "        self.d_chem = d_chem\n",
    "        self.d_math = d_math\n",
    "\n",
    "        self.d_phy  = self.a_phy\n",
    "        self.d_chem = self.b_chem\n",
    "\n",
    "a_phy  = 70\n",
    "a_chem = 80\n",
    "a_math = 90\n",
    "\n",
    "b_phy = None\n",
    "b_chem = 85\n",
    "b_math = 87\n",
    "\n",
    "c_phy  = 99\n",
    "c_chem = 97\n",
    "c_math = None\n",
    "\n",
    "d_phy  = None\n",
    "d_chem = None\n",
    "d_math = 95\n",
    "\n",
    "\n",
    "student_d = student_d(a_phy, a_chem, a_math, b_phy, b_chem, b_math, d_phy, d_chem, d_math)\n",
    "student_c = student_c(a_phy, a_chem, a_math, c_phy, c_chem, c_math)\n",
    "\n",
    "print('Outputs:--\\n')\n",
    "print('Marks of student_b in Phy is       :',  student_d.b_phy)\n",
    "print('Marks of student_c in Math is      :',  student_c.c_math)\n",
    "print('Marks of student_d in Physics      :',  student_d.d_phy)\n",
    "print('Marks of student_d in Chemestery is:',  student_d.d_chem)"
   ]
  },
  {
   "cell_type": "code",
   "execution_count": 0,
   "metadata": {
    "colab": {
     "base_uri": "https://localhost:8080/",
     "height": 85
    },
    "colab_type": "code",
    "executionInfo": {
     "elapsed": 3311,
     "status": "ok",
     "timestamp": 1570437090803,
     "user": {
      "displayName": "bheem kumar",
      "photoUrl": "",
      "userId": "16514217920437432713"
     },
     "user_tz": -330
    },
    "id": "9CrVwjxEvNxD",
    "outputId": "15cc9cec-04cc-443c-8ab6-4bcb8e79e1c2"
   },
   "outputs": [
    {
     "name": "stdout",
     "output_type": "stream",
     "text": [
      "Outputs:--\n",
      "\n",
      "Marks of student_d in Physics   : 70\n",
      "Marks of student_d in Chemestery: 80\n"
     ]
    }
   ],
   "source": [
    "\"\"\"\n",
    "\n",
    "Implement a Hybrid Inheritance as given instruction by using Hierarchical inheritance, Multi Level Inheritance and Multiple Inheritance.\n",
    "\n",
    "\n",
    "1. Create 4 classes named:-\n",
    "\n",
    "    student_a\n",
    "    student_b\n",
    "    student_c\n",
    "    student_d\n",
    "\n",
    "2. Every classes should have 3 attributes named:--\n",
    "\n",
    "    phy\n",
    "    chem\n",
    "    \n",
    "\n",
    "3. Inherit class 'student_a' by classes 'student_b' and 'student_c'.\n",
    "\n",
    "4. Inherit class 'student_b' and class 'student_c' by 'student_d'.\n",
    "\n",
    "5. Class 'student_a' should be parent of classes 'student_b' and 'student_c'.\n",
    "\n",
    "6. Class 'student_a' should be super parent of class 'student_d'.\n",
    "\n",
    "7. classes 'student_b' and class 'student_c' should be parent of class 'student_d'.\n",
    "\n",
    "8. Access 'a_phy' from class 'student_a' into class 'student_b'.\n",
    "\n",
    "9. Access 'a_chem' from class 'student_a' into class 'student_c'.\n",
    "\n",
    "10. Access 'a_phy' from class 'student_b' into class 'student_d'.\n",
    "\n",
    "11. Access 'a_chem' from class 'student_c' into class 'student_d'.\n",
    "\n",
    "12. The attributes name should be like below according the class name.\n",
    "\n",
    "    12.1. For example class 'student_a' attributes name should be like':-\n",
    "\n",
    "        a_phy\n",
    "        a_chem\n",
    "\n",
    "    12.2. For example class 'student_b' attributes name should be like':-\n",
    "\n",
    "        b_phy\n",
    "        b_chem\n",
    "\n",
    "    etc...\n",
    "\n",
    "13. Inputs:--\n",
    "\n",
    "    a_phy  = 70\n",
    "    a_chem = 80\n",
    "\n",
    "    b_phy = None\n",
    "    b_chem = 75\n",
    "\n",
    "    c_chem = 85\n",
    "    c_chem = None\n",
    "\n",
    "    d_phy  = None\n",
    "    d_chem = None\n",
    "\n",
    "14. Outputs:--\n",
    "\n",
    "    Marks of student_d in Physics   : 70\n",
    "    Marks of student_d in Chemestery: 80\n",
    "\n",
    "\n",
    "\"\"\"\n",
    "\n",
    "class student_a:\n",
    "    \n",
    "    def __init__(self, phy_a, chem_a):\n",
    "\n",
    "        self.a_phy  = a_phy\n",
    "        self.a_chem = a_chem\n",
    "\n",
    "class student_b(student_a):\n",
    "\n",
    "    def __init__(self, a_phy, a_chem, b_phy, b_chem):\n",
    "\n",
    "        student_a.__init__(self, a_phy, a_chem)\n",
    "\n",
    "        self.b_phy  = b_phy\n",
    "        self.b_chem = b_chem\n",
    "\n",
    "        self.b_phy  = self.a_phy\n",
    "\n",
    "\n",
    "\n",
    "class student_c(student_a):\n",
    "\n",
    "    def __init__(self, a_phy, a_chem, c_phy, c_chem):\n",
    "\n",
    "        super().__init__(a_phy, a_chem)\n",
    "\n",
    "        self.c_phy  = c_phy\n",
    "        self.c_chem = c_chem\n",
    "\n",
    "        self.c_chem = self.a_chem\n",
    "\n",
    "class student_d(student_b, student_c):\n",
    "\n",
    "    def __init__(self, a_phy, a_chem, b_phy, b_chem, c_phy, c_chem, d_phy, d_chem):\n",
    "        \n",
    "        student_b.__init__(self, a_phy, a_chem, b_phy, b_chem)\n",
    "        student_c.__init__(self, a_phy, a_chem, c_phy, c_chem)\n",
    "\n",
    "        self.d_phy  = d_phy\n",
    "        self.d_chem = d_chem\n",
    "\n",
    "        self.d_phy  = self.b_phy\n",
    "        self.d_chem = self.c_chem\n",
    "\n",
    "a_phy  = 70\n",
    "a_chem = 80\n",
    "\n",
    "b_phy = None\n",
    "b_chem = 75\n",
    "\n",
    "c_chem = 85\n",
    "c_chem = None\n",
    "\n",
    "d_phy  = None\n",
    "d_chem = None\n",
    "\n",
    "student_d = student_d(a_phy, a_chem, b_phy, b_chem, c_phy, c_chem, d_phy, d_chem)\n",
    "\n",
    "print('Outputs:--\\n')\n",
    "print('Marks of student_d in Physics   :', student_d.d_phy)\n",
    "print('Marks of student_d in Chemestery:', student_d.d_chem)\n"
   ]
  },
  {
   "cell_type": "code",
   "execution_count": 0,
   "metadata": {
    "colab": {
     "base_uri": "https://localhost:8080/",
     "height": 204
    },
    "colab_type": "code",
    "executionInfo": {
     "elapsed": 3305,
     "status": "ok",
     "timestamp": 1570437090803,
     "user": {
      "displayName": "bheem kumar",
      "photoUrl": "",
      "userId": "16514217920437432713"
     },
     "user_tz": -330
    },
    "id": "Tg8tMKIZbp2F",
    "outputId": "f124dd8a-4cb4-4867-b76e-6d531447ac90"
   },
   "outputs": [
    {
     "name": "stdout",
     "output_type": "stream",
     "text": [
      "Outputs:--\n",
      "\n",
      "Area of Triangle : 36.0\n",
      "\n",
      "Area of Cone : 387.8632078801623\n",
      "Volume of Cone : 410.6666666666667\n",
      "\n",
      "Area of Cylinder : 660.0\n",
      "Volume of Cylinder:  1232.0\n",
      "\n",
      "Area of Rectangle: 81\n"
     ]
    }
   ],
   "source": [
    "\"\"\"\n",
    "\n",
    "Implement a Hybrid Inheritance as given instruction by using multilevel and multiple inheritance.\n",
    "\n",
    "1. Create four classes named:--\n",
    "\n",
    "    rectangle\n",
    "    cylinder\n",
    "    cone\n",
    "    triangle\n",
    "\n",
    "1. 'cylinder' have three attributes named 'radius' and 'height' and 'π'.\n",
    "\n",
    "2. Inherit 'cylinder' by 'cone' and access the attributes 'radius', 'height' and 'pi', of 'cylinder'.\n",
    "\n",
    "3. 'rectangle' have two attributes 'height' and 'base'.\n",
    "\n",
    "4. Inherit 'cone' and 'rectangle' by 'triangle', and access the attributes 'height' from 'cone' and 'base' from 'rectangle'.\n",
    "\n",
    "5. Classes 'cylinder', 'cone' and 'triangle' should be like multilevel inheritance.\n",
    "   where 'cylinder' will be base class, 'cone' will be intermediate class and 'triangle' will be child class.\n",
    "\n",
    "6. Classes 'cone', 'rectangle' and 'triangle' should behave like multiple inheritance.\n",
    "   where 'cone' and 'rectangle' will be parents class and 'triangle' will be child class\n",
    "\n",
    "7. Find the following:--\n",
    "\n",
    "    Area of Tringle.\n",
    "    Area and Volume of Cone\n",
    "    Area and Volume Cylinder.\n",
    "\n",
    "8. Inputs:--\n",
    "\n",
    "    pi     : 22/7\n",
    "    radius : 7 \n",
    "    height : 8\n",
    "    base   : 9\n",
    "\n",
    "9. Output:--\n",
    "\n",
    "    Area of Triangle : 36.0\n",
    "\n",
    "    Area of Cone : 387.8632078801623\n",
    "    Volume of Cone : 410.6666666666667\n",
    "\n",
    "    Area of Cylinder : 660.0\n",
    "    Volume of Cylinder:  1232.0\n",
    "\n",
    "    Area of Rectangle: 81\n",
    "\n",
    "\"\"\"\n",
    "\n",
    "class rectangle:\n",
    "\n",
    "    def __init__(self, base, height):\n",
    "\n",
    "        self.base = base\n",
    "        self.height = height\n",
    "    \n",
    "    def rectangle_area(self):\n",
    "        \n",
    "        return self.base * self.base\n",
    "\n",
    "class cylinder:\n",
    "\n",
    "    def __init__(self, π, radius, height):\n",
    "\n",
    "        self.height = height\n",
    "        self.radius = radius\n",
    "        self.π      = π\n",
    "\n",
    "    def cylinder_area(self):\n",
    "\n",
    "        return 2 * self.π * self.radius * ( self.height + self.radius )\n",
    "\n",
    "    def cylinder_volume(self):\n",
    "\n",
    "        return self.π * self.radius ** 2 * self.height\n",
    "\n",
    "class cone(cylinder):\n",
    "\n",
    "    def cone_area(self):\n",
    "\n",
    "       import math \n",
    "       return  self.π * self.radius * ( self.radius + math.sqrt(self.height ** 2 + self.radius **2))\n",
    "\n",
    "    def cone_volume(self):\n",
    "\n",
    "        return self.π * self.radius ** 2 * self.height / 3\n",
    "\n",
    "class triangle(cone, rectangle):\n",
    "\n",
    "    def __init__(self, π, radius, height, base):\n",
    "\n",
    "        cylinder.__init__(self, π, radius, height)\n",
    "        rectangle.__init__(self, base, height)\n",
    "    \n",
    "    def triangle_area(self):\n",
    "    \n",
    "        return (self.base * self.height) / 2\n",
    "\n",
    "\n",
    "π      = 22/7\n",
    "radius = 7\n",
    "height = 8\n",
    "base   = 9\n",
    "\n",
    "triangle = triangle(π, radius, height, base)\n",
    "\n",
    "print('Outputs:--\\n')\n",
    "print('Area of Triangle :', triangle.triangle_area())\n",
    "\n",
    "print('\\nArea of Cone :', triangle.cone_area())\n",
    "print('Volume of Cone :', triangle.cone_volume())\n",
    "print('\\nArea of Cylinder :', triangle.cylinder_area())\n",
    "print('Volume of Cylinder: ',triangle.cylinder_volume())\n",
    "print('\\nArea of Rectangle:', triangle.rectangle_area())"
   ]
  },
  {
   "cell_type": "code",
   "execution_count": 0,
   "metadata": {
    "colab": {
     "base_uri": "https://localhost:8080/",
     "height": 221
    },
    "colab_type": "code",
    "executionInfo": {
     "elapsed": 3299,
     "status": "ok",
     "timestamp": 1570437090804,
     "user": {
      "displayName": "bheem kumar",
      "photoUrl": "",
      "userId": "16514217920437432713"
     },
     "user_tz": -330
    },
    "id": "K40AUs6vMHsC",
    "outputId": "c3b77e6e-d326-4722-81e8-4ed9aac6d456"
   },
   "outputs": [
    {
     "name": "stdout",
     "output_type": "stream",
     "text": [
      "Outputs:--\n",
      "\n",
      "Height of Father     : 6.2\n",
      "Skin color of Father : Fairy-White\n",
      "\n",
      "\n",
      "Height of Son : 6.2\n",
      "Skin color of Son : Fairy-Black\n",
      "\n",
      "\n",
      "Height of Daughter : 5.5\n",
      "Skin color of Daughter : Fairy-White\n"
     ]
    }
   ],
   "source": [
    "\"\"\"\n",
    "\n",
    "Implement a Hybrid Inheritance as given instruction by using Multi Level Inheritance, Multiple Inheritance and Hierarchical Inheritance.\n",
    "\n",
    "1. Create five classes named:--\n",
    "\n",
    "    grand_father\n",
    "    grand_mother\n",
    "    father\n",
    "    son\n",
    "    doughter\n",
    "\n",
    "2. Every class should have two attributes that are height and skin-color according the class name.\n",
    "for example:-- \n",
    "\n",
    "    1. for class 'grand_father' \n",
    "\n",
    "        The height attribute should be 'grand_father_height' and\n",
    "        skin-color attribute should be 'grand_father_skin_color'.\n",
    "\n",
    "    2. for class 'son'\n",
    "\n",
    "        The height attribute should be 'son_height' and \n",
    "        skin-color attribute should be 'son_skin_color'.\n",
    "\n",
    "3. Instruction to implements\n",
    "\n",
    "    3.1 The parents classes should be 'grand_father' and 'grand_mother'.\n",
    "    3.2 The Intermediate class should be 'father'.\n",
    "    3.3 The childs classes should be 'son' and 'daughter'.\n",
    "\n",
    "4. Inherit the parrents class by 'father' and access height from 'grand_father' and skin-color from class 'grand_mother'.\n",
    "\n",
    "5. Inherit 'father' by 'son' and access height.\n",
    "\n",
    "6. Inherit 'father' by 'daughter' and access skin-color.\n",
    "\n",
    "7. Classes 'grand_mother', 'grand_father' and 'fahter' should work as Multiple Inheritance.\n",
    "\n",
    "8. Classes 'father' 'son' and 'daughter' should work as Hiererchical Inheritance.\n",
    "\n",
    "Inputs:--\n",
    "\n",
    "grand_father_height     : 6.2\n",
    "grand_father_skin_color : Fairy-Brown\n",
    "\n",
    "grand_mother_height     : 5.8\n",
    "grand_mother_skin_color : Fairy-White\n",
    "\n",
    "father_height           : None\n",
    "father_skin_color       : None\n",
    "\n",
    "son_height              : None\n",
    "son_skin_color          : Fairy-Black\n",
    "\n",
    "daughter_height         : 5.5\n",
    "daughter_skin_color     : None\n",
    "\n",
    "Outputs:--\n",
    "\n",
    "Height of Father     : 6.2\n",
    "Skin color of Father : Fairy-White\n",
    "\n",
    "\n",
    "Height of Son : 6.2\n",
    "Skin color of Son : Fairy-Black\n",
    "\n",
    "\n",
    "Height of Daughter : 5.5\n",
    "Skin color of Daughter : Fairy-White\n",
    "\n",
    "\n",
    "\"\"\"\n",
    "\n",
    "class grand_father:\n",
    "    \n",
    "    def __init__(self, grand_father_height, grand_father_skin_color):\n",
    "\n",
    "        self.grand_father_height = grand_father_height\n",
    "        self.grand_father_skin_color = grand_father_skin_color\n",
    "\n",
    "    def grand_father_display(self):\n",
    "        \n",
    "        print('Height_of_Grand_Father    :', self.grand_father_height)\n",
    "        print('Skin color of Grand_Father:', self.grand_father_skin_color)\n",
    "\n",
    "class grand_mother:\n",
    "\n",
    "    def __init__(self, grand_mother_height, grand_mother_skin_color):\n",
    "\n",
    "        self.grand_mother_height = grand_mother_height\n",
    "        self.grand_mother_skin_color = grand_mother_skin_color\n",
    "\n",
    "    def grand_mother_display(self):\n",
    "        \n",
    "        print('Height of Grand Mother    :', self.grand_mother_height)\n",
    "        print('Skin color of Grand Mother:', self.grand_mother_skin_color)\n",
    "    \n",
    "class father(grand_father, grand_mother):\n",
    "\n",
    "    def __init__(self,\n",
    "                 father_height, father_skin_color, \n",
    "                 grand_father_height, grand_father_skin_color, \n",
    "                 grand_mother_height, grand_mother_skin_color):\n",
    "\n",
    "        grand_father.__init__(self, grand_father_height, grand_father_skin_color)\n",
    "        grand_mother.__init__(self, grand_mother_height, grand_mother_skin_color)\n",
    "\n",
    "        self.father_height = self.grand_father_height\n",
    "        self.father_skin_color = self.grand_mother_skin_color\n",
    "\n",
    "    def father_display(self):\n",
    "        \n",
    "        print('Height of Father     :', self.father_height)\n",
    "        print('Skin color of Father :', self.father_skin_color)\n",
    "    \n",
    "class son(father):\n",
    "\n",
    "    def __init__(self, \n",
    "                 son_height, son_skin_color, \n",
    "                 father_height, father_skin_color, \n",
    "                 grand_father_height, grand_father_skin_color, \n",
    "                 grand_mother_height, grand_mother_skin_color):\n",
    "\n",
    "        super().__init__(father_height, father_skin_color, \n",
    "                         grand_father_height, grand_father_skin_color, \n",
    "                         grand_mother_height, grand_mother_skin_color)\n",
    "        \n",
    "        self.son_height = self.father_height\n",
    "        self.son_skin_color = son_skin_color\n",
    "\n",
    "    def son_display(self):\n",
    "\n",
    "        print('Height of Son :', self.son_height)\n",
    "        print('Skin color of Son :', self.son_skin_color)\n",
    "\n",
    "class daughter(father):\n",
    "\n",
    "    def __init__(self, \n",
    "                daughter_height, daughter_skin_color, \n",
    "                father_height, father_skin_color,\n",
    "                grand_father_height, grand_father_skin_color, \n",
    "                grand_mother_height, grand_mother_skin_color ):\n",
    "\n",
    "        super().__init__(father_height, father_skin_color, \n",
    "                         grand_father_height, grand_father_skin_color, \n",
    "                         grand_mother_height, grand_mother_skin_color)\n",
    "\n",
    "        self.daughter_height = daughter_height\n",
    "        self.daughter_skin_color = self.father_skin_color\n",
    "\n",
    "\n",
    "\n",
    "    def daughter_display(self):\n",
    "\n",
    "        print('Height of Daughter :',self.daughter_height)\n",
    "        print('Skin color of Daughter :',self.daughter_skin_color)\n",
    "\n",
    "\n",
    "grand_father_height = 6.2\n",
    "grand_father_skin_color = 'Fairy-Brown'\n",
    "\n",
    "grand_mother_height = 5.8\n",
    "grand_mother_skin_color = 'Fairy-White'\n",
    "\n",
    "father_height = None\n",
    "father_skin_color = None\n",
    "\n",
    "son_height = None\n",
    "son_skin_color = 'Fairy-Black'\n",
    "\n",
    "daughter_height  = 5.5\n",
    "daughter_skin_color = None\n",
    "\n",
    "print('Outputs:--\\n')\n",
    "father = father(father_height, father_skin_color, \n",
    "                grand_father_height, grand_father_skin_color, \n",
    "                grand_mother_height, grand_mother_skin_color)\n",
    "\n",
    "father.father_display()\n",
    "\n",
    "print('\\n')\n",
    "son = son(son_height, son_skin_color, \n",
    "          father_height, father_skin_color, \n",
    "          grand_father_height, grand_father_skin_color, \n",
    "          grand_mother_height, grand_mother_skin_color)\n",
    "\n",
    "son.son_display()\n",
    "\n",
    "print('\\n')\n",
    "son = daughter(daughter_height, daughter_skin_color, \n",
    "               father_height, father_skin_color, \n",
    "               grand_father_height, grand_father_skin_color, \n",
    "               grand_mother_height, grand_mother_skin_color)\n",
    "\n",
    "son.daughter_display()"
   ]
  },
  {
   "cell_type": "markdown",
   "metadata": {
    "colab_type": "text",
    "id": "8RZPvecSCD6T"
   },
   "source": [
    "## Polymorphism\n",
    "\n",
    "Types of Polymorphism. \n",
    "\n",
    "1. Duck Typing\n",
    "\n",
    "2. Operator Overloading.\n",
    "\n",
    "3. Method Overloading.\n",
    "\n",
    "4. Method Overriding"
   ]
  },
  {
   "cell_type": "markdown",
   "metadata": {
    "colab_type": "text",
    "id": "NDBtA6TtfMW6"
   },
   "source": [
    "### Duck Typing\n",
    "\n",
    "Duck typing in computer programming is an application of the duck test—\"If it walks like a duck and it quacks like a duck, then it must be a duck\"—to determine if an object can be used for a particular purpose. With normal typing, suitability is determined by an object's type"
   ]
  },
  {
   "cell_type": "code",
   "execution_count": 0,
   "metadata": {
    "colab": {},
    "colab_type": "code",
    "id": "UM0ummvCCNEp"
   },
   "outputs": [],
   "source": [
    "\"\"\"\n",
    "\n",
    "Write a code to perform Duck Typing using following instruction.\n",
    "\n",
    "1. Create two classes named:--\n",
    "\n",
    "    pyCharm\n",
    "    myIDE\n",
    "\n",
    "\n",
    "\n",
    "2. Create 'execute' method in class 'PyCharm' and flag messege.\n",
    "\n",
    "    Compiling\n",
    "    Running\n",
    "\n",
    "3. Create 'execute' method in class 'myIDE' and flag messege.\n",
    "\n",
    "    Compiling and Running.\n",
    "\n",
    "4. Create a function(not method) 'run' pass the instance of all class and call their's 'execute' method.\n",
    "\n",
    "\n",
    "5. Output:--\n",
    "\n",
    "    Compiling\n",
    "    Running\n",
    "\n",
    "    compiling and Running.\n",
    "\n",
    "\"\"\"\n",
    "\n",
    "class pyCharm:\n",
    "\n",
    "    def execute(self):\n",
    "\n",
    "        print('Compiling')\n",
    "        print('Running')\n",
    "\n",
    "class myEditor:\n",
    "\n",
    "    def execute(self):\n",
    "\n",
    "        print('compiling and Running.')\n",
    "\n",
    "def run(entity):\n",
    "\n",
    "    entity.execute()\n",
    " \n",
    "IDE1 = pyCharm()\n",
    "IDE2 = myEditor()\n",
    "\n",
    "print('Output:--\\n')\n",
    "run(IDE1)\n",
    "print('\\n')\n",
    "run(IDE2)"
   ]
  },
  {
   "cell_type": "code",
   "execution_count": 0,
   "metadata": {
    "colab": {},
    "colab_type": "code",
    "id": "zwZFj6ZskteW"
   },
   "outputs": [],
   "source": [
    "\"\"\"\n",
    "\n",
    "Write a code to implement Duck Typing by using follwoing Instruction.\n",
    "\n",
    "1. Create 3 classes named:--\n",
    "\n",
    "    Sparrow\n",
    "    Airplane\n",
    "    Whale\n",
    "\n",
    "2. Create 'fly' method in 'Sparrow' and flag a messege 'Sparrow flying'.\n",
    "\n",
    "3. Create 'fly' method in 'Airplane' and flag a messege 'Airplane flying'.\n",
    "\n",
    "4. Create 'swim' method in 'Whale' and flag a messege 'whale swimming'.\n",
    "\n",
    "5. 4. Create a function(not method) 'lif_off' pass the instance of all class and call their's 'fly' method.\n",
    "\n",
    "Outputs:--\n",
    "\n",
    "    Sparrow flying\n",
    "    Airplane flying\n",
    "\n",
    "    AttributeError: 'Whale' object has no attribute 'fly'\n",
    "\n",
    "\"\"\"\n",
    "\n",
    "class Sparrow:\n",
    "\n",
    "    def fly(self):\n",
    "\n",
    "        print(\"Sparrow flying\")\n",
    " \n",
    "class Airplane:\n",
    "\n",
    "    def fly(self):\n",
    "\n",
    "        print(\"Airplane flying\")\n",
    " \n",
    "class Whale:\n",
    "\n",
    "    def swim(self):\n",
    "\n",
    "        print(\"Whale swimming\")\n",
    " \n",
    "# The type of entity is not specified\n",
    "\n",
    "# We expect entity to have a callable named fly at run time\n",
    "\n",
    "def lift_off(entity):\n",
    "\n",
    "    entity.fly()\n",
    " \n",
    "sparrow = Sparrow()\n",
    "airplane = Airplane()\n",
    "whale = Whale()\n",
    " \n",
    "lift_off(sparrow)  # prints `Sparrow flying`\n",
    "lift_off(airplane) # prints `Airplane flying`\n",
    "lift_off(whale)    # Throws the error `'Whale' object has no attribute 'fly'."
   ]
  },
  {
   "cell_type": "markdown",
   "metadata": {
    "colab_type": "text",
    "id": "uB6BYNJ5f6ER"
   },
   "source": [
    "### Method Overloading\n",
    "\n",
    "Method overloading. In Python you can define a method in such a way that there are multiple ways to call it. Given a single method or function, we can specify the number of parameters ourself. Depending on the function definition, it can be called with zero, one, two or more parameters.\n",
    "\n",
    "Like other languages (for example method overloading in C++) do, python does not supports method overloading. We may overload the methods but can only use the latest defined method."
   ]
  },
  {
   "cell_type": "code",
   "execution_count": 0,
   "metadata": {
    "colab": {},
    "colab_type": "code",
    "id": "cQNHvDvAgIiN"
   },
   "outputs": [],
   "source": [
    "# First product method. \n",
    "# Takes two argument and print their \n",
    "# product \n",
    "def product(a, b): \n",
    "    p = a * b \n",
    "    print(p) \n",
    "      \n",
    "# Second product method \n",
    "# Takes three argument and print their \n",
    "# product \n",
    "def product(a, b, c): \n",
    "    p = a * b*c \n",
    "    print(p) \n",
    "  \n",
    "# Uncommenting the below line shows an error     \n",
    "# product(4, 5) \n",
    "  \n",
    "# This line will call the second product method \n",
    "product(4, 5, 5) "
   ]
  },
  {
   "cell_type": "code",
   "execution_count": 0,
   "metadata": {
    "colab": {},
    "colab_type": "code",
    "id": "f00Zzp39mfN2"
   },
   "outputs": [],
   "source": [
    "\"\"\"\n",
    "Same case will hppen in class.\n",
    "\n",
    "\"\"\"\n",
    "class product:\n",
    "\n",
    "    def mul(self, a, b): \n",
    "        p = a * b \n",
    "        print(p) \n",
    "        \n",
    "    # Second product method \n",
    "    # Takes three argument and print their \n",
    "    # product \n",
    "    def mul(sef, a, b, c): \n",
    "        p = a * b * c \n",
    "        print(p) \n",
    "  \n",
    "P = product()\n",
    "\n",
    "P.mul(2,3,5)\n",
    "\n",
    "# If we try call 2 argumented method, the following error will be occured.\n",
    "# P.mul(2,3)\n",
    "# TypeError: mul() missing 1 required positional argument: 'c'\n"
   ]
  },
  {
   "cell_type": "code",
   "execution_count": 0,
   "metadata": {
    "colab": {},
    "colab_type": "code",
    "id": "olKstsUwmITb"
   },
   "outputs": [],
   "source": [
    "\"\"\"\n",
    "However we may use other implementation in python to make the same function work differently i.e. as per the arguments.\n",
    "\n",
    "\"\"\"\n",
    "\n",
    "# Function to take multiple arguments \n",
    "def add(datatype, *args): \n",
    "  \n",
    "    # if datatype is int \n",
    "    # initialize answer as 0 \n",
    "    if datatype =='int': \n",
    "        answer = 0\n",
    "          \n",
    "    # if datatype is str \n",
    "    # initialize answer as '' \n",
    "    if datatype =='str': \n",
    "        answer ='' \n",
    "  \n",
    "    # Traverse through the arguments \n",
    "    for x in args: \n",
    "  \n",
    "        # This will do addition if the  \n",
    "        # arguments are int. Or concatenation  \n",
    "        # if the arguments are str \n",
    "        answer = answer + x \n",
    "  \n",
    "    print(answer) \n",
    "  \n",
    "print(\"outputs:--\\n\")\n",
    "# Integer \n",
    "add('int', 5, 6)\n",
    "  \n",
    "# String\n",
    "add('str', 'Hi ', 'Geeks')"
   ]
  },
  {
   "cell_type": "markdown",
   "metadata": {
    "colab_type": "text",
    "id": "Bbae2JTngLxm"
   },
   "source": [
    "### Method Overriding\n",
    "\n",
    "Method Overriding means method of base class is re-defined in the derived class having same signature. Behavior. Method Overloading is to “add” or “extend” more to method's behavior."
   ]
  },
  {
   "cell_type": "code",
   "execution_count": 0,
   "metadata": {
    "colab": {},
    "colab_type": "code",
    "id": "A5zoqrjOhY0v"
   },
   "outputs": [],
   "source": [
    "\"\"\"\n",
    "\n",
    "Write a code to perform Method Overriding using following Instruction.\n",
    "\n",
    "1. Create two classes named 'base' and 'derived'.\n",
    "\n",
    "2. Inherit 'base' class by 'derived' class.\n",
    "\n",
    "3. Create 'flag' method in 'base' class and flag a messege 'this is base class' within it.\n",
    "\n",
    "4. Create 'flag' method in 'derived' class and flag a messege 'this is dervied class' within it.\n",
    "\n",
    "5. Override the method 'flag'.\n",
    "\n",
    "6. Output :--\n",
    "\n",
    "    This is derived class method.\n",
    "\n",
    "\"\"\"\n",
    "\n",
    "class Base:\n",
    "\n",
    "    def flag(self):\n",
    "\n",
    "        print('This is base class method.')\n",
    "\n",
    "class Derived(Base):\n",
    "    \n",
    "    def flag(self):\n",
    "\n",
    "        print('This is derived class method.')\n",
    "\n",
    "\n",
    "d = Derived()\n",
    "print('Output:--\\n')\n",
    "d.flag()\n",
    "\n",
    "# \"\"\"\n",
    "\n",
    "# If flag method not available in derived class the 'flag' method of base class executed.\n",
    "# Comment above code, uncomment the bellow code and run to see the the result.\n",
    "\n",
    "# \"\"\"\n",
    "\n",
    "# class Base:\n",
    "\n",
    "#     def flag(self):\n",
    "\n",
    "#         print('This is base class method.')\n",
    "\n",
    "# class Derived(Base):\n",
    "    \n",
    "#    pass\n",
    "\n",
    "\n",
    "# d = Derived()\n",
    "\n",
    "# print('Output:--\\n')\n",
    "# d.flag()\n",
    "\n"
   ]
  },
  {
   "cell_type": "code",
   "execution_count": 0,
   "metadata": {
    "colab": {},
    "colab_type": "code",
    "id": "tqWGhVe5XB2j"
   },
   "outputs": [],
   "source": [
    "\"\"\"\n",
    "\n",
    "Write a code to perform Method Overriding in Multi Level Inheritance by following Instruction.\n",
    "\n",
    "1. Create 3 classes named:--\n",
    "    \n",
    "    A, B, C\n",
    "\n",
    "2. Inherit 'A' by 'B' and 'B' by 'C'\n",
    "\n",
    "3. Create a mehtod 'display' in class 'A' and flag a messege 'This is Class A method'.\n",
    "\n",
    "4. Create a mehtod 'display' in class 'B' and flag a messege 'This is Class B method'.\n",
    "\n",
    "5. Create a mehtod 'display' in class 'C' and flag a messege 'This is Class C method'.\n",
    "\n",
    "\n",
    "\"\"\"\n",
    "\n",
    "class A:\n",
    "\n",
    "    def display(self):\n",
    "\n",
    "        print('This is class A method.')\n",
    "\n",
    "class B(A):\n",
    "    \n",
    "    # pass\n",
    "    def display(self):\n",
    "        print('This is class B method.')\n",
    "\n",
    "class C(B):\n",
    "    \n",
    "    # pass\n",
    "    def display(self):\n",
    "        print('This is class C method.')\n",
    "\n",
    "obj = C()\n",
    "\n",
    "print('Output:--\\n')\n",
    "\n",
    "obj.display()\n",
    "\n",
    "# If display method not available in class 'C' then the 'display'  method of class B' will be executed.\n",
    "# Again if display method not available in class 'B' then 'display' method of class 'A' will be executed.\n",
    "# Comment above code, uncomment the bellow code and run to see the the result.\n",
    "\n",
    "# class A:\n",
    "\n",
    "#     def display(self):\n",
    "\n",
    "#         print('This is class A method.')\n",
    "\n",
    "# class B(A):\n",
    "    \n",
    "#     #pass\n",
    "#     def display(self):\n",
    "#         print('This is class B method.')\n",
    "\n",
    "# class C(B):\n",
    "    \n",
    "#     pass\n",
    "#     # def display(self):\n",
    "#     #     print('This is class C method.')\n",
    "\n",
    "# obj = C()\n",
    "\n",
    "# print('Output:--\\n')\n",
    "\n",
    "# obj.display()\n",
    "\n",
    "#  OR---------------------------------------\n",
    "\n",
    "# class A:\n",
    "\n",
    "#     def display(self):\n",
    "\n",
    "#         print('This is class A method.')\n",
    "\n",
    "# class B(A):\n",
    "    \n",
    "#     pass\n",
    "#     # def display(self):\n",
    "#     #     print('This is class B method.')\n",
    "\n",
    "# class C(B):\n",
    "    \n",
    "#     pass\n",
    "#     # def display(self):\n",
    "#     #     print('This is class C method.')\n",
    "\n",
    "# obj = C()\n",
    "\n",
    "# print('Output:--\\n')\n",
    "\n",
    "# obj.display()"
   ]
  },
  {
   "cell_type": "code",
   "execution_count": 1,
   "metadata": {
    "colab": {
     "base_uri": "https://localhost:8080/",
     "height": 34
    },
    "colab_type": "code",
    "executionInfo": {
     "elapsed": 1245,
     "status": "ok",
     "timestamp": 1573792658211,
     "user": {
      "displayName": "bheem kumar",
      "photoUrl": "https://lh3.googleusercontent.com/a-/AAuE7mDCx24nBXj8t-exydQqWCz_3_2Fr8UREB6_UTXj=s64",
      "userId": "16514217920437432713"
     },
     "user_tz": -330
    },
    "id": "FXHfb-GpxlAw",
    "outputId": "b597e32f-2490-41d0-858f-8037c33aebba"
   },
   "outputs": [
    {
     "name": "stdout",
     "output_type": "stream",
     "text": [
      "class C method is called : 23\n"
     ]
    }
   ],
   "source": [
    "\"\"\"\n",
    "\n",
    "Write a code to perform Method Overrideing in Hibride Inheritance.\n",
    "\n",
    "\"\"\"\n",
    "\n",
    "class A:\n",
    "    \n",
    "    def __init__(self, a, b):\n",
    "\n",
    "        self.a = a\n",
    "        self.b = b\n",
    "\n",
    "    def add(self):\n",
    "\n",
    "        self.result = self.a + self.b\n",
    "        print('Class A method is called :',self.result)\n",
    "\n",
    "class B(A):\n",
    "\n",
    "    def __init__(self, a, b, c, d):\n",
    "\n",
    "        super().__init__(b, c)\n",
    "\n",
    "        self.c = c\n",
    "        self.d = d\n",
    "\n",
    "    def add(self):\n",
    "\n",
    "        self.result = self.c * self.d + self.c + self.d\n",
    "        print('Class B mehtod is called :',self.result)\n",
    "\n",
    "class D:\n",
    "\n",
    "    def __init__(self, g, h):\n",
    "\n",
    "        self.g = g\n",
    "        self.h = h\n",
    "\n",
    "    def add(self):\n",
    "\n",
    "        self.result = self.g + self.h\n",
    "        print('Class D method is called :',self.result)\n",
    "\n",
    "\n",
    "class C(B,D):\n",
    "\n",
    "    def __init__(self, a, b, c, d, e, f, g, h):\n",
    "\n",
    "        super().__init__(a, b, c, d)\n",
    "        D.__init__(self, g, h)\n",
    "\n",
    "        self.e = e\n",
    "        self.f = f\n",
    "\n",
    "    def add(self):\n",
    "\n",
    "        self.result = self.a + self.b + self.c + self.d + self.e + self.f\n",
    "        print('class C method is called :',self.result)\n",
    "\n",
    "a = 1\n",
    "b = 2\n",
    "c = 3\n",
    "d = 4\n",
    "e = 5\n",
    "f = 6\n",
    "g = 7\n",
    "h = 8\n",
    "\n",
    "obj_C = C(a, b, c, d, e, f, g, h)\n",
    "\n",
    "obj_C.add()"
   ]
  },
  {
   "cell_type": "markdown",
   "metadata": {
    "colab_type": "text",
    "id": "_yktc3VIfdg_"
   },
   "source": [
    "### Operator Overloading\n",
    "\n",
    "Operator Overloading means giving extended meaning beyond their predefined operational meaning. For example operator + is used to add two integers as well as join two strings and merge two lists. It is achievable because ‘+’ operator is overloaded by int class and str class. You might have noticed that the same built-in operator or function shows different behavior for objects of different classes, this is called Operator Overloading."
   ]
  },
  {
   "cell_type": "code",
   "execution_count": 0,
   "metadata": {
    "colab": {},
    "colab_type": "code",
    "id": "dVgVNScxhA2Y"
   },
   "outputs": [],
   "source": [
    "\"\"\"\n",
    "Write a code to show the inbuilt overloading of  '+' and '*' operators.\n",
    "\n",
    "Inputs--\n",
    "\n",
    "    1\n",
    "    2\n",
    "    hudson\n",
    "    data\n",
    "\n",
    "Outputs:--\n",
    "\n",
    "    3\n",
    "    hudsondata\n",
    "    12\n",
    "    hudsondata_hudsondata_hudsondata_hudsondata_\n",
    "\n",
    "\"\"\"\n",
    "print('Output:--\\n')\n",
    "\n",
    "# Addition of two numbers.\n",
    "print(1+2)\n",
    "  \n",
    "# concatenate two strings. \n",
    "print('hudson' + 'data' )\n",
    "  \n",
    "# Product two numbers. \n",
    "print(3 * 4)\n",
    "  \n",
    "# Repeat the String.\n",
    "print(\"hudsondata_\" * 4)"
   ]
  },
  {
   "cell_type": "code",
   "execution_count": 0,
   "metadata": {
    "colab": {
     "base_uri": "https://localhost:8080/",
     "height": 85
    },
    "colab_type": "code",
    "executionInfo": {
     "elapsed": 1025,
     "status": "ok",
     "timestamp": 1570437738413,
     "user": {
      "displayName": "bheem kumar",
      "photoUrl": "",
      "userId": "16514217920437432713"
     },
     "user_tz": -330
    },
    "id": "mr5KhBdzCMyb",
    "outputId": "3f665154-780f-4324-dac9-b5d120fe1756"
   },
   "outputs": [
    {
     "name": "stdout",
     "output_type": "stream",
     "text": [
      "Output:--\n",
      "\n",
      "Overloading of '+' operator on numbers : 3\n",
      "Overloading of '+' operator on strings : hudsondata\n"
     ]
    }
   ],
   "source": [
    "\"\"\"\n",
    "\n",
    "Write a code to overload the binary '+' operator using numbers and strings.\n",
    "\n",
    "Inputs:-\n",
    "\n",
    "    num1    : 1\n",
    "    num2    : 2\n",
    "\n",
    "    string1 : hudson\n",
    "    string2 : data\n",
    "\n",
    "Output:--\n",
    "\n",
    "Overloading of '+' operator on numbers : 3\n",
    "Overloading of '+' operator on strings : hudsonda\n",
    "\n",
    "\"\"\"\n",
    "\n",
    "class A: \n",
    "\n",
    "    def __init__(self, a): \n",
    "        self.a = a \n",
    "  \n",
    "    # adding two objects \n",
    "    def __add__(self, obj):\n",
    "        return self.a + obj.a \n",
    "\n",
    "num1 = 1 \n",
    "num2 = 2\n",
    "\n",
    "string1 = 'hudson'\n",
    "string2 = 'data'\n",
    "\n",
    "obj1 = A(num1)\n",
    "obj2 = A(num2)\n",
    "\n",
    "obj3 = A(string1)\n",
    "obj4 = A(string2)\n",
    "\n",
    "print('Output:--\\n')\n",
    "print(\"Overloading of '+' operator on numbers :\", obj1 + obj2) \n",
    "print(\"Overloading of '+' operator on strings :\", obj3 + obj4)"
   ]
  },
  {
   "cell_type": "code",
   "execution_count": 0,
   "metadata": {
    "colab": {
     "base_uri": "https://localhost:8080/",
     "height": 68
    },
    "colab_type": "code",
    "executionInfo": {
     "elapsed": 1020,
     "status": "ok",
     "timestamp": 1570441927705,
     "user": {
      "displayName": "bheem kumar",
      "photoUrl": "",
      "userId": "16514217920437432713"
     },
     "user_tz": -330
    },
    "id": "qVCxQTqekmdT",
    "outputId": "3f72c511-2d07-4781-a861-a3397b9b860a"
   },
   "outputs": [
    {
     "name": "stdout",
     "output_type": "stream",
     "text": [
      "Output:--\n",
      "\n",
      "17\n"
     ]
    }
   ],
   "source": [
    "\"\"\"\n",
    "Write a code to add two number by overloading '>' operator.\n",
    "\n",
    "Inputs :--\n",
    "\n",
    "    num1 : 8\n",
    "    num2 : 9\n",
    "\n",
    "Output:--\n",
    "\n",
    "    17\n",
    "\n",
    "\"\"\"\n",
    "\n",
    "class A:\n",
    "\n",
    "    def __init__(self, a): \n",
    "        self.a = a \n",
    "\n",
    "    def __gt__(self, other): \n",
    "\n",
    "        return self.a + other.a\n",
    "\n",
    "obj1 = A(8)\n",
    "obj2 = A(9)\n",
    "\n",
    "print('Output:--\\n')\n",
    "\n",
    "print(obj1>obj2)"
   ]
  },
  {
   "cell_type": "code",
   "execution_count": 0,
   "metadata": {
    "colab": {
     "base_uri": "https://localhost:8080/",
     "height": 34
    },
    "colab_type": "code",
    "executionInfo": {
     "elapsed": 1009,
     "status": "ok",
     "timestamp": 1570443054265,
     "user": {
      "displayName": "bheem kumar",
      "photoUrl": "",
      "userId": "16514217920437432713"
     },
     "user_tz": -330
    },
    "id": "fgamYP5Ukqom",
    "outputId": "98e8312d-385b-48dd-a06f-da785a502674"
   },
   "outputs": [
    {
     "name": "stdout",
     "output_type": "stream",
     "text": [
      "Output : Objectl is greater\n"
     ]
    }
   ],
   "source": [
    "\"\"\"\n",
    "\n",
    "Write a code to compare and return larger number by overloading '==' operator\n",
    "  \n",
    "Inputs:--\n",
    "\n",
    "    num1 : 4\n",
    "    num2 : 5\n",
    "\n",
    "Output : Object2 is greater\n",
    "    \n",
    "\"\"\"\n",
    "\n",
    "class A:\n",
    "\n",
    "    def __init__(self, a): \n",
    "        self.a = a \n",
    "    \n",
    "    def __eq__(self, other): \n",
    "\n",
    "        if(self.a > other.a): \n",
    "\n",
    "            return \"Objectl is greater\"\n",
    "\n",
    "        elif(self.a < other.a): \n",
    "\n",
    "            return \"Object2 is greater\"\n",
    "        \n",
    "        else:\n",
    "            \n",
    "            return 'Both Obejects are same.'\n",
    "\n",
    "obj1 = A(4) \n",
    "obj2 = A(3) \n",
    "print('Output :', obj1 == obj2)"
   ]
  },
  {
   "cell_type": "code",
   "execution_count": 0,
   "metadata": {
    "colab": {},
    "colab_type": "code",
    "id": "7ZTgwlaBlvrm"
   },
   "outputs": [],
   "source": []
  }
 ],
 "metadata": {
  "colab": {
   "collapsed_sections": [
    "1RmfFCSGE_h_",
    "O3NsFB8xDpD2",
    "GpNygQiWQKMY",
    "QaIlZvsyEH6z",
    "jSu1PNZol83s",
    "D-aQ56UG3APq",
    "g7tx0-PzokjT",
    "63vgM2w2_sIF",
    "4HwNpZ5M_qtj",
    "2OvFArzdckSD",
    "lfdjtN6Q0TOc",
    "NDBtA6TtfMW6",
    "uB6BYNJ5f6ER",
    "Bbae2JTngLxm"
   ],
   "name": "Python_oops_1.ipynb",
   "provenance": []
  },
  "kernelspec": {
   "display_name": "Python 3",
   "language": "python",
   "name": "python3"
  },
  "language_info": {
   "codemirror_mode": {
    "name": "ipython",
    "version": 3
   },
   "file_extension": ".py",
   "mimetype": "text/x-python",
   "name": "python",
   "nbconvert_exporter": "python",
   "pygments_lexer": "ipython3",
   "version": "3.8.2"
  }
 },
 "nbformat": 4,
 "nbformat_minor": 1
}
