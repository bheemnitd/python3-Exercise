{
 "cells": [
  {
   "cell_type": "markdown",
   "metadata": {
    "colab_type": "text",
    "id": "umu1NH4mtoF7"
   },
   "source": [
    "# String\n",
    "\n",
    "String is a sequence of characters quoted in single or double or \n",
    "triple quotation mark and assigned to a variable.\n",
    "\n",
    "for example:\n",
    "\n",
    "Example 1 : 'Python'\n",
    "\n",
    "Example 2 : \"Henry is learning Python Language.\""
   ]
  },
  {
   "cell_type": "code",
   "execution_count": 1,
   "metadata": {
    "colab": {
     "base_uri": "https://localhost:8080/",
     "height": 34
    },
    "colab_type": "code",
    "executionInfo": {
     "elapsed": 4209,
     "status": "ok",
     "timestamp": 1572924929885,
     "user": {
      "displayName": "bheem kumar",
      "photoUrl": "https://lh3.googleusercontent.com/a-/AAuE7mDCx24nBXj8t-exydQqWCz_3_2Fr8UREB6_UTXj=s64",
      "userId": "16514217920437432713"
     },
     "user_tz": -330
    },
    "id": "1yMSa_lQhuKq",
    "outputId": "8167c45d-467d-4ad0-8cb1-54a3145f4ddd"
   },
   "outputs": [
    {
     "name": "stdout",
     "output_type": "stream",
     "text": [
      "Output : Aaaaaa Bbbbbb Cccccc\n"
     ]
    }
   ],
   "source": [
    "\"\"\"\n",
    "\n",
    "Create variable and assign your full name that should be of 3 words and print it.\n",
    "\n",
    "Input:--\n",
    "\n",
    "    name = 'Aaaaaa Bbbbbb Cccccc'\n",
    "\n",
    "Output:-- \n",
    "    \n",
    "    Aaaaaa Bbbbbb Cccccc\n",
    "\n",
    "\"\"\"\n",
    "\n",
    "name = 'Aaaaaa Bbbbbb Cccccc'\n",
    "\n",
    "print('Output :', name)"
   ]
  },
  {
   "cell_type": "code",
   "execution_count": 2,
   "metadata": {
    "colab": {
     "base_uri": "https://localhost:8080/",
     "height": 34
    },
    "colab_type": "code",
    "executionInfo": {
     "elapsed": 4171,
     "status": "ok",
     "timestamp": 1572924929886,
     "user": {
      "displayName": "bheem kumar",
      "photoUrl": "https://lh3.googleusercontent.com/a-/AAuE7mDCx24nBXj8t-exydQqWCz_3_2Fr8UREB6_UTXj=s64",
      "userId": "16514217920437432713"
     },
     "user_tz": -330
    },
    "id": "iZ0K_2Y4hIvT",
    "outputId": "542abd90-bb8b-4461-b2e2-20405165b502"
   },
   "outputs": [
    {
     "name": "stdout",
     "output_type": "stream",
     "text": [
      "Output : 3\n"
     ]
    }
   ],
   "source": [
    "\"\"\"\n",
    "\n",
    "Write a Python program to calculate the length of a string.\n",
    "\n",
    "Input:--\n",
    "\n",
    "    string = 'abc\n",
    "\n",
    "Output:--\n",
    "\n",
    "    3\n",
    "    \n",
    "\"\"\"\n",
    "\n",
    "string = \"abc\"\n",
    "\n",
    "print('Output :',len(string))"
   ]
  },
  {
   "cell_type": "code",
   "execution_count": 3,
   "metadata": {
    "colab": {
     "base_uri": "https://localhost:8080/",
     "height": 34
    },
    "colab_type": "code",
    "executionInfo": {
     "elapsed": 4148,
     "status": "ok",
     "timestamp": 1572924929887,
     "user": {
      "displayName": "bheem kumar",
      "photoUrl": "https://lh3.googleusercontent.com/a-/AAuE7mDCx24nBXj8t-exydQqWCz_3_2Fr8UREB6_UTXj=s64",
      "userId": "16514217920437432713"
     },
     "user_tz": -330
    },
    "id": "MRl3dApJhuLC",
    "outputId": "9915f23e-d35c-48e4-d9ca-58bbbe498144"
   },
   "outputs": [
    {
     "name": "stdout",
     "output_type": "stream",
     "text": [
      "Output : P\n"
     ]
    }
   ],
   "source": [
    "\"\"\"\n",
    "\n",
    "Print the first character of given string.\n",
    "\n",
    "Input:--\n",
    "\n",
    "    sttring = 'Python3.0'\n",
    "\n",
    "Output:--\n",
    "\n",
    "    P\n",
    "\n",
    "\"\"\"\n",
    "\n",
    "string = 'Python3.0'\n",
    "print('Output :', string[0])"
   ]
  },
  {
   "cell_type": "code",
   "execution_count": 4,
   "metadata": {
    "colab": {
     "base_uri": "https://localhost:8080/",
     "height": 34
    },
    "colab_type": "code",
    "executionInfo": {
     "elapsed": 4125,
     "status": "ok",
     "timestamp": 1572924929887,
     "user": {
      "displayName": "bheem kumar",
      "photoUrl": "https://lh3.googleusercontent.com/a-/AAuE7mDCx24nBXj8t-exydQqWCz_3_2Fr8UREB6_UTXj=s64",
      "userId": "16514217920437432713"
     },
     "user_tz": -330
    },
    "id": "YWGiHyXn0Mcj",
    "outputId": "e25a41b5-d838-4c3e-919d-f8798c29101f"
   },
   "outputs": [
    {
     "name": "stdout",
     "output_type": "stream",
     "text": [
      "Output : 0\n"
     ]
    }
   ],
   "source": [
    "\"\"\"\n",
    "\n",
    "Print the last character of given string.\n",
    "\n",
    "Input:--\n",
    "    \n",
    "    string = 'Python3.0'\n",
    "\n",
    "Output:--\n",
    "\n",
    "    0\n",
    "\n",
    "\"\"\"\n",
    "\n",
    "string = 'Python3.0'\n",
    "print('Output :', string[-1])"
   ]
  },
  {
   "cell_type": "code",
   "execution_count": 5,
   "metadata": {
    "colab": {
     "base_uri": "https://localhost:8080/",
     "height": 34
    },
    "colab_type": "code",
    "executionInfo": {
     "elapsed": 4107,
     "status": "ok",
     "timestamp": 1572924929888,
     "user": {
      "displayName": "bheem kumar",
      "photoUrl": "https://lh3.googleusercontent.com/a-/AAuE7mDCx24nBXj8t-exydQqWCz_3_2Fr8UREB6_UTXj=s64",
      "userId": "16514217920437432713"
     },
     "user_tz": -330
    },
    "id": "G9Eft5d8huLM",
    "outputId": "5d45ce04-0c77-48ce-93be-e5eca491e1a8"
   },
   "outputs": [
    {
     "name": "stdout",
     "output_type": "stream",
     "text": [
      "Output : h\n"
     ]
    }
   ],
   "source": [
    "\"\"\"\n",
    "\n",
    "Print the 4th character of string \"Python3.0\".\n",
    "\n",
    "Input:--\n",
    "\n",
    "    string = 'Python3.0'\n",
    "\n",
    "Output:--\n",
    "    \n",
    "    h\n",
    "\n",
    "\"\"\"\n",
    "\n",
    "string = 'Python3.0'\n",
    "print('Output :', string[3])"
   ]
  },
  {
   "cell_type": "code",
   "execution_count": 6,
   "metadata": {
    "colab": {
     "base_uri": "https://localhost:8080/",
     "height": 34
    },
    "colab_type": "code",
    "executionInfo": {
     "elapsed": 4089,
     "status": "ok",
     "timestamp": 1572924929888,
     "user": {
      "displayName": "bheem kumar",
      "photoUrl": "https://lh3.googleusercontent.com/a-/AAuE7mDCx24nBXj8t-exydQqWCz_3_2Fr8UREB6_UTXj=s64",
      "userId": "16514217920437432713"
     },
     "user_tz": -330
    },
    "id": "4qx8CcpohuLQ",
    "outputId": "aa75c731-3210-446a-a531-7c0590391398"
   },
   "outputs": [
    {
     "name": "stdout",
     "output_type": "stream",
     "text": [
      "Output : 0.3nohtyP\n"
     ]
    }
   ],
   "source": [
    "\"\"\"\n",
    "\n",
    "Reverse the given  string.\n",
    "\n",
    "Input:--\n",
    "    \n",
    "    'Python3.0'\n",
    "\n",
    "Output:--\n",
    "\n",
    "    0.3nohtyP\n",
    "\n",
    "\"\"\"\n",
    "\n",
    "string = 'Python3.0'\n",
    "print('Output :', string[::-1])\n"
   ]
  },
  {
   "cell_type": "code",
   "execution_count": 7,
   "metadata": {
    "colab": {
     "base_uri": "https://localhost:8080/",
     "height": 34
    },
    "colab_type": "code",
    "executionInfo": {
     "elapsed": 4069,
     "status": "ok",
     "timestamp": 1572924929889,
     "user": {
      "displayName": "bheem kumar",
      "photoUrl": "https://lh3.googleusercontent.com/a-/AAuE7mDCx24nBXj8t-exydQqWCz_3_2Fr8UREB6_UTXj=s64",
      "userId": "16514217920437432713"
     },
     "user_tz": -330
    },
    "id": "Xb7-v9LYhuLU",
    "outputId": "e85351ba-31f6-4c90-9942-0a76a46ec51f"
   },
   "outputs": [
    {
     "name": "stdout",
     "output_type": "stream",
     "text": [
      "Output : 2\n"
     ]
    }
   ],
   "source": [
    "\"\"\" \n",
    "\n",
    "Find the index of first embeded space in given string.\n",
    "\n",
    "Input:--\n",
    "    \n",
    "    string = 'AB CD   EFGH'\n",
    "\n",
    "Output:--\n",
    "    \n",
    "    2\n",
    "\n",
    "\"\"\"\n",
    "\n",
    "string = 'AB CD   EFGH'\n",
    "print(\"Output :\", string.find(' '))"
   ]
  },
  {
   "cell_type": "code",
   "execution_count": 8,
   "metadata": {
    "colab": {
     "base_uri": "https://localhost:8080/",
     "height": 34
    },
    "colab_type": "code",
    "executionInfo": {
     "elapsed": 4050,
     "status": "ok",
     "timestamp": 1572924929889,
     "user": {
      "displayName": "bheem kumar",
      "photoUrl": "https://lh3.googleusercontent.com/a-/AAuE7mDCx24nBXj8t-exydQqWCz_3_2Fr8UREB6_UTXj=s64",
      "userId": "16514217920437432713"
     },
     "user_tz": -330
    },
    "id": "wAT-DCB8WajA",
    "outputId": "e670bd0e-4318-4563-ebd6-0b20a6d1878f"
   },
   "outputs": [
    {
     "name": "stdout",
     "output_type": "stream",
     "text": [
      "Output : 4\n"
     ]
    }
   ],
   "source": [
    "\"\"\" \n",
    "\n",
    "Count the number of space in a given string.\n",
    "\n",
    "Input:--\n",
    "\n",
    "    string = 'AB CD   EFGH'\n",
    "\n",
    "Output:--\n",
    "\n",
    "    4\n",
    "\n",
    "\"\"\"\n",
    "\n",
    "string = 'AB CD   EFGH'\n",
    "print(\"Output :\", string.count(' '))"
   ]
  },
  {
   "cell_type": "code",
   "execution_count": 9,
   "metadata": {
    "colab": {
     "base_uri": "https://localhost:8080/",
     "height": 85
    },
    "colab_type": "code",
    "executionInfo": {
     "elapsed": 4033,
     "status": "ok",
     "timestamp": 1572924929890,
     "user": {
      "displayName": "bheem kumar",
      "photoUrl": "https://lh3.googleusercontent.com/a-/AAuE7mDCx24nBXj8t-exydQqWCz_3_2Fr8UREB6_UTXj=s64",
      "userId": "16514217920437432713"
     },
     "user_tz": -330
    },
    "id": "XaL1NmQGhuLh",
    "outputId": "3db56b13-baab-4067-857c-91e2d5c9c121"
   },
   "outputs": [
    {
     "name": "stdout",
     "output_type": "stream",
     "text": [
      "Output:--\n",
      "\n",
      "Before replace =  Python is a programming language.\n",
      "After replace  =  Python_is_a_programming_language.\n"
     ]
    }
   ],
   "source": [
    "\"\"\"\n",
    "\n",
    "Replace all space(' ') with under_score('_') of given string.\n",
    "\n",
    "Input:--\n",
    "\n",
    "    string = 'Python is a programming language.'\n",
    "\n",
    "Output:--\n",
    "\n",
    "    Before replace =  Python is a programming language.\n",
    "    After replace  =  Python_is_a_programming_language.\n",
    "\n",
    "\"\"\"\n",
    "\n",
    "print('Output:--\\n')\n",
    "string = 'Python is a programming language.'\n",
    "print(\"Before replace = \",string)\n",
    "\n",
    "string = string.replace(' ','_')\n",
    "print(\"After replace  = \", string)"
   ]
  },
  {
   "cell_type": "code",
   "execution_count": 10,
   "metadata": {
    "colab": {
     "base_uri": "https://localhost:8080/",
     "height": 102
    },
    "colab_type": "code",
    "executionInfo": {
     "elapsed": 4015,
     "status": "ok",
     "timestamp": 1572924929891,
     "user": {
      "displayName": "bheem kumar",
      "photoUrl": "https://lh3.googleusercontent.com/a-/AAuE7mDCx24nBXj8t-exydQqWCz_3_2Fr8UREB6_UTXj=s64",
      "userId": "16514217920437432713"
     },
     "user_tz": -330
    },
    "id": "QbYrfzvyhuLo",
    "outputId": "f4792f29-3642-4319-885b-c663c226a6ef"
   },
   "outputs": [
    {
     "name": "stdout",
     "output_type": "stream",
     "text": [
      "Outputs:--\n",
      "\n",
      "FirstName\n",
      "MiddleName\n",
      "LastName\n"
     ]
    }
   ],
   "source": [
    "\"\"\"\n",
    "\n",
    "Split the given string into first name, middle name and last name and\n",
    "save them in three variables Name_First, Name_Mid and Name_Last.\n",
    "\n",
    "Input:--\n",
    "    \n",
    "    name = 'FirstName MiddleName LastName'\n",
    "\n",
    "Outputs:--\n",
    "\n",
    "    FirstName\n",
    "    MiddleName\n",
    "    LastName\n",
    "\n",
    "\"\"\"\n",
    "\n",
    "name = \"FirstName MiddleName LastName\"\n",
    "name_first, name_mid, name_last = name.split()\n",
    "\n",
    "print('Outputs:--\\n')\n",
    "print(name_first)\n",
    "print(name_mid)\n",
    "print(name_last)"
   ]
  },
  {
   "cell_type": "code",
   "execution_count": 11,
   "metadata": {
    "colab": {
     "base_uri": "https://localhost:8080/",
     "height": 34
    },
    "colab_type": "code",
    "executionInfo": {
     "elapsed": 3996,
     "status": "ok",
     "timestamp": 1572924929891,
     "user": {
      "displayName": "bheem kumar",
      "photoUrl": "https://lh3.googleusercontent.com/a-/AAuE7mDCx24nBXj8t-exydQqWCz_3_2Fr8UREB6_UTXj=s64",
      "userId": "16514217920437432713"
     },
     "user_tz": -330
    },
    "id": "r6inbwEQ1azu",
    "outputId": "c0b8b892-2fe6-46da-9225-ea243c0aa3d1"
   },
   "outputs": [
    {
     "name": "stdout",
     "output_type": "stream",
     "text": [
      "Output : ['Pytho', 'ProgrammingLanguage']\n"
     ]
    }
   ],
   "source": [
    "\"\"\"\n",
    "\n",
    "Split the given string at first occurrence of character 'n'.\n",
    "\n",
    "Input:--\n",
    "\n",
    "    string = 'PythonProgrammingLanguage'\n",
    "\n",
    "Output:--\n",
    "\n",
    "    ['Pytho', 'programminglanguage']\n",
    "\n",
    "\"\"\"\n",
    "\n",
    "string = 'PythonProgrammingLanguage'\n",
    "\n",
    "string = string.split('n',1)\n",
    "print('Output :', string)"
   ]
  },
  {
   "cell_type": "code",
   "execution_count": 12,
   "metadata": {
    "colab": {
     "base_uri": "https://localhost:8080/",
     "height": 34
    },
    "colab_type": "code",
    "executionInfo": {
     "elapsed": 3979,
     "status": "ok",
     "timestamp": 1572924929892,
     "user": {
      "displayName": "bheem kumar",
      "photoUrl": "https://lh3.googleusercontent.com/a-/AAuE7mDCx24nBXj8t-exydQqWCz_3_2Fr8UREB6_UTXj=s64",
      "userId": "16514217920437432713"
     },
     "user_tz": -330
    },
    "id": "2uSnSjz7xKCN",
    "outputId": "ade05bef-d585-4bc5-f6fa-5b12509adb89"
   },
   "outputs": [
    {
     "name": "stdout",
     "output_type": "stream",
     "text": [
      "Output : ['PythonProgrammingLa', 'guage']\n"
     ]
    }
   ],
   "source": [
    "\"\"\"\n",
    "\n",
    "Split the given string at last occurrence of character 'n'.\n",
    "\n",
    "Input:--\n",
    "\n",
    "    string = 'PythonProgrammingLanguage'\n",
    "\n",
    "Output:--\n",
    "\n",
    "    ['PythonProgrammingLa', 'guage']\n",
    "\n",
    "\"\"\"\n",
    "\n",
    "string = 'PythonProgrammingLanguage'\n",
    "\n",
    "string = string.rsplit('n',1)\n",
    "print('Output :', string)"
   ]
  },
  {
   "cell_type": "code",
   "execution_count": 13,
   "metadata": {
    "colab": {
     "base_uri": "https://localhost:8080/",
     "height": 34
    },
    "colab_type": "code",
    "executionInfo": {
     "elapsed": 3961,
     "status": "ok",
     "timestamp": 1572924929892,
     "user": {
      "displayName": "bheem kumar",
      "photoUrl": "https://lh3.googleusercontent.com/a-/AAuE7mDCx24nBXj8t-exydQqWCz_3_2Fr8UREB6_UTXj=s64",
      "userId": "16514217920437432713"
     },
     "user_tz": -330
    },
    "id": "DBauvsNdWajI",
    "outputId": "263917d6-5043-4b33-ffea-dcc8daad47fd"
   },
   "outputs": [
    {
     "name": "stdout",
     "output_type": "stream",
     "text": [
      "Output : ['Pytho', 'Programmi', 'gLa', 'guage']\n"
     ]
    }
   ],
   "source": [
    "\"\"\"\n",
    "\n",
    "Split the string 'PythonProgrammingLanguage' at each occurance of character 'n'.\n",
    "\n",
    "NOTE : In this case the result of split and rsplit will be same.\n",
    "\n",
    "Input:--\n",
    "\n",
    "    string = 'PythonProgrammingLanguage'\n",
    "\n",
    "Output:--\n",
    "\n",
    "    ['Pytho', 'Programmi', 'gLa', 'guage']\n",
    "\n",
    "\"\"\"\n",
    "\n",
    "string = 'PythonProgrammingLanguage'\n",
    "\n",
    "string = string.split('n')\n",
    "print('Output :', string)"
   ]
  },
  {
   "cell_type": "code",
   "execution_count": 14,
   "metadata": {
    "colab": {
     "base_uri": "https://localhost:8080/",
     "height": 34
    },
    "colab_type": "code",
    "executionInfo": {
     "elapsed": 3944,
     "status": "ok",
     "timestamp": 1572924929893,
     "user": {
      "displayName": "bheem kumar",
      "photoUrl": "https://lh3.googleusercontent.com/a-/AAuE7mDCx24nBXj8t-exydQqWCz_3_2Fr8UREB6_UTXj=s64",
      "userId": "16514217920437432713"
     },
     "user_tz": -330
    },
    "id": "P17PrgeShuLw",
    "outputId": "60772c57-0882-4042-b42b-51da7431f975"
   },
   "outputs": [
    {
     "name": "stdout",
     "output_type": "stream",
     "text": [
      "Output : Python3.0Python3.0Python3.0\n"
     ]
    }
   ],
   "source": [
    "\"\"\"\n",
    "\n",
    "Print the given string 3 times as single string using '*' operator.\n",
    "\n",
    "Input:--\n",
    "\n",
    "    string = 'Python3.0'\n",
    "\n",
    "Output:--\n",
    "    \n",
    "    Python3.0Python3.0Python3.0\n",
    "\n",
    "\"\"\"\n",
    "\n",
    "string = 'Python3.0'\n",
    "\n",
    "print('Output :', string*3)"
   ]
  },
  {
   "cell_type": "code",
   "execution_count": 15,
   "metadata": {
    "colab": {
     "base_uri": "https://localhost:8080/",
     "height": 34
    },
    "colab_type": "code",
    "executionInfo": {
     "elapsed": 3927,
     "status": "ok",
     "timestamp": 1572924929893,
     "user": {
      "displayName": "bheem kumar",
      "photoUrl": "https://lh3.googleusercontent.com/a-/AAuE7mDCx24nBXj8t-exydQqWCz_3_2Fr8UREB6_UTXj=s64",
      "userId": "16514217920437432713"
     },
     "user_tz": -330
    },
    "id": "zAa2LGWjhuL0",
    "outputId": "c93f7699-d318-41bb-d34b-7c4ceec009ef"
   },
   "outputs": [
    {
     "name": "stdout",
     "output_type": "stream",
     "text": [
      "Output : Pytho\n"
     ]
    }
   ],
   "source": [
    "\"\"\"\n",
    "\n",
    "Print first five characters of given string.\n",
    "\n",
    "Input:--\n",
    "\n",
    "    'Python3.0'.\n",
    "\n",
    "Output:--\n",
    "    \n",
    "    Pytho\n",
    "\n",
    "\"\"\"\n",
    "\n",
    "string = 'Python3.0'\n",
    "\n",
    "print(\"Output :\", string[:5])"
   ]
  },
  {
   "cell_type": "code",
   "execution_count": 16,
   "metadata": {
    "colab": {
     "base_uri": "https://localhost:8080/",
     "height": 34
    },
    "colab_type": "code",
    "executionInfo": {
     "elapsed": 3910,
     "status": "ok",
     "timestamp": 1572924929894,
     "user": {
      "displayName": "bheem kumar",
      "photoUrl": "https://lh3.googleusercontent.com/a-/AAuE7mDCx24nBXj8t-exydQqWCz_3_2Fr8UREB6_UTXj=s64",
      "userId": "16514217920437432713"
     },
     "user_tz": -330
    },
    "id": "vjoWzY-845Jt",
    "outputId": "d98f32ce-e324-4225-989d-a71bafaa973f"
   },
   "outputs": [
    {
     "name": "stdout",
     "output_type": "stream",
     "text": [
      "Output : on3.0\n"
     ]
    }
   ],
   "source": [
    "\"\"\"\n",
    "\n",
    "Print last five characters of given string.\n",
    "\n",
    "Input:--\n",
    "\n",
    "    'Python3.0'.\n",
    "\n",
    "Output:--\n",
    "    \n",
    "    on3.0\n",
    "\n",
    "\"\"\"\n",
    "\n",
    "string = 'Python3.0'\n",
    "\n",
    "print(\"Output :\", string[-5:])"
   ]
  },
  {
   "cell_type": "code",
   "execution_count": 17,
   "metadata": {
    "colab": {
     "base_uri": "https://localhost:8080/",
     "height": 34
    },
    "colab_type": "code",
    "executionInfo": {
     "elapsed": 3893,
     "status": "ok",
     "timestamp": 1572924929895,
     "user": {
      "displayName": "bheem kumar",
      "photoUrl": "https://lh3.googleusercontent.com/a-/AAuE7mDCx24nBXj8t-exydQqWCz_3_2Fr8UREB6_UTXj=s64",
      "userId": "16514217920437432713"
     },
     "user_tz": -330
    },
    "id": "YwVPaN8fJNL3",
    "outputId": "8cae1e14-420d-4214-d1e0-e9574d2a993d"
   },
   "outputs": [
    {
     "name": "stdout",
     "output_type": "stream",
     "text": [
      "Output : ython\n"
     ]
    }
   ],
   "source": [
    "\"\"\"\n",
    "\n",
    "Print first five characters from 2nd position of given string.\n",
    "\n",
    "Input:--\n",
    "\n",
    "    'Python3.0'.\n",
    "\n",
    "Output:--\n",
    "    \n",
    "    ython\n",
    "\n",
    "\"\"\"\n",
    "\n",
    "string = 'Python3.0'\n",
    "\n",
    "print(\"Output :\", string[1:6])"
   ]
  },
  {
   "cell_type": "code",
   "execution_count": 18,
   "metadata": {
    "colab": {
     "base_uri": "https://localhost:8080/",
     "height": 34
    },
    "colab_type": "code",
    "executionInfo": {
     "elapsed": 3875,
     "status": "ok",
     "timestamp": 1572924929895,
     "user": {
      "displayName": "bheem kumar",
      "photoUrl": "https://lh3.googleusercontent.com/a-/AAuE7mDCx24nBXj8t-exydQqWCz_3_2Fr8UREB6_UTXj=s64",
      "userId": "16514217920437432713"
     },
     "user_tz": -330
    },
    "id": "8oKq3KmUhuL4",
    "outputId": "77cf1a18-e6cc-4ffe-88aa-590921b6ee4f"
   },
   "outputs": [
    {
     "name": "stdout",
     "output_type": "stream",
     "text": [
      "Output:  5\n"
     ]
    }
   ],
   "source": [
    "\"\"\"\n",
    "\n",
    "Print the index of 'n' in given string.\n",
    "\n",
    "Input : \n",
    "    \n",
    "    string = 'Python3.0'\n",
    "\n",
    "Output: \n",
    "    \n",
    "    5\n",
    "\n",
    "\"\"\"\n",
    "\n",
    "string = 'Python3.0'\n",
    "\n",
    "print(\"Output: \", string.index('n'))"
   ]
  },
  {
   "cell_type": "code",
   "execution_count": 19,
   "metadata": {
    "colab": {
     "base_uri": "https://localhost:8080/",
     "height": 34
    },
    "colab_type": "code",
    "executionInfo": {
     "elapsed": 4365,
     "status": "ok",
     "timestamp": 1572924930405,
     "user": {
      "displayName": "bheem kumar",
      "photoUrl": "https://lh3.googleusercontent.com/a-/AAuE7mDCx24nBXj8t-exydQqWCz_3_2Fr8UREB6_UTXj=s64",
      "userId": "16514217920437432713"
     },
     "user_tz": -330
    },
    "id": "1sYUGOWShuL_",
    "outputId": "c9078fca-b381-413a-8688-8dec860a63c6"
   },
   "outputs": [
    {
     "name": "stdout",
     "output_type": "stream",
     "text": [
      "Output : ython3.0\n"
     ]
    }
   ],
   "source": [
    "\"\"\"\n",
    "\n",
    "Delete the first character of given string.\n",
    "\n",
    "Input:--\n",
    "    \n",
    "    name = 'Python3.0'\n",
    "\n",
    "Output:--\n",
    "\n",
    "    'ython3.0'\n",
    "\n",
    "\"\"\"\n",
    "\n",
    "string = 'Python3.0'\n",
    "\n",
    "string = string[1:]\n",
    "print(\"Output :\", string)"
   ]
  },
  {
   "cell_type": "code",
   "execution_count": 20,
   "metadata": {
    "colab": {
     "base_uri": "https://localhost:8080/",
     "height": 34
    },
    "colab_type": "code",
    "executionInfo": {
     "elapsed": 4346,
     "status": "ok",
     "timestamp": 1572924930405,
     "user": {
      "displayName": "bheem kumar",
      "photoUrl": "https://lh3.googleusercontent.com/a-/AAuE7mDCx24nBXj8t-exydQqWCz_3_2Fr8UREB6_UTXj=s64",
      "userId": "16514217920437432713"
     },
     "user_tz": -330
    },
    "id": "QtnhmMSAhuMD",
    "outputId": "09e07968-3118-4050-8ea6-2dc85f2a9dc3"
   },
   "outputs": [
    {
     "name": "stdout",
     "output_type": "stream",
     "text": [
      "Output : Python3.\n"
     ]
    }
   ],
   "source": [
    "\"\"\"\n",
    "\n",
    "Delete the last character of given string.\n",
    "\n",
    "Input:--\n",
    "    \n",
    "    name = 'Python3.0'\n",
    "\n",
    "Output:--\n",
    "\n",
    "    Python3.\n",
    "\n",
    "\"\"\"\n",
    "\n",
    "string = 'Python3.0'\n",
    "\n",
    "string = string[:-1]\n",
    "print(\"Output :\", string)"
   ]
  },
  {
   "cell_type": "code",
   "execution_count": 21,
   "metadata": {
    "colab": {
     "base_uri": "https://localhost:8080/",
     "height": 34
    },
    "colab_type": "code",
    "executionInfo": {
     "elapsed": 4326,
     "status": "ok",
     "timestamp": 1572924930406,
     "user": {
      "displayName": "bheem kumar",
      "photoUrl": "https://lh3.googleusercontent.com/a-/AAuE7mDCx24nBXj8t-exydQqWCz_3_2Fr8UREB6_UTXj=s64",
      "userId": "16514217920437432713"
     },
     "user_tz": -330
    },
    "id": "hq4mWelfhuMI",
    "outputId": "af434ac5-931e-4c38-f3ca-414471d51be4"
   },
   "outputs": [
    {
     "name": "stdout",
     "output_type": "stream",
     "text": [
      "Output : Pythn3.0\n"
     ]
    }
   ],
   "source": [
    "\"\"\"\n",
    "\n",
    "Delete the 5th charater of given string.\n",
    "\n",
    "Input:--\n",
    "    \n",
    "    name = 'Python3.0'\n",
    "\n",
    "Output:--\n",
    "\n",
    "    Pythn3.0\n",
    "\n",
    "\"\"\"\n",
    "\n",
    "string = 'Python3.0'\n",
    "\n",
    "string = string[:4]+string[5:]\n",
    "print(\"Output :\", string)"
   ]
  },
  {
   "cell_type": "code",
   "execution_count": 22,
   "metadata": {
    "colab": {
     "base_uri": "https://localhost:8080/",
     "height": 34
    },
    "colab_type": "code",
    "executionInfo": {
     "elapsed": 4302,
     "status": "ok",
     "timestamp": 1572924930407,
     "user": {
      "displayName": "bheem kumar",
      "photoUrl": "https://lh3.googleusercontent.com/a-/AAuE7mDCx24nBXj8t-exydQqWCz_3_2Fr8UREB6_UTXj=s64",
      "userId": "16514217920437432713"
     },
     "user_tz": -330
    },
    "id": "fHPeRHGKhuML",
    "outputId": "34ca37b6-1aa4-41d7-869e-79f8e3931a14"
   },
   "outputs": [
    {
     "name": "stdout",
     "output_type": "stream",
     "text": [
      "Output : CPython\n"
     ]
    }
   ],
   "source": [
    "\"\"\"\n",
    "\n",
    "Add a new character 'C' at start of the given string.\n",
    "\n",
    "Input :--\n",
    "\n",
    "    string = 'Python'\n",
    "\n",
    "Output:--\n",
    "\n",
    "    CPython\n",
    "\n",
    "\"\"\"\n",
    "\n",
    "string = 'Python'\n",
    "\n",
    "string = 'C' + string\n",
    "print(\"Output :\", string)"
   ]
  },
  {
   "cell_type": "code",
   "execution_count": 23,
   "metadata": {
    "colab": {
     "base_uri": "https://localhost:8080/",
     "height": 34
    },
    "colab_type": "code",
    "executionInfo": {
     "elapsed": 4281,
     "status": "ok",
     "timestamp": 1572924930407,
     "user": {
      "displayName": "bheem kumar",
      "photoUrl": "https://lh3.googleusercontent.com/a-/AAuE7mDCx24nBXj8t-exydQqWCz_3_2Fr8UREB6_UTXj=s64",
      "userId": "16514217920437432713"
     },
     "user_tz": -330
    },
    "id": "y6Uip5hxhuMP",
    "outputId": "fdb3a05c-fb96-4f35-ca0c-a0e42a78e374"
   },
   "outputs": [
    {
     "name": "stdout",
     "output_type": "stream",
     "text": [
      "Output : Python3.07\n"
     ]
    }
   ],
   "source": [
    "\"\"\"\n",
    "\n",
    "Add a new character '7' at the end of the given string.\n",
    "\n",
    "Input:--\n",
    "\n",
    "    string = 'Python3.0'\n",
    "\n",
    "Output:--\n",
    "\n",
    "    Python3.07\n",
    "\n",
    "\"\"\"\n",
    "\n",
    "string = 'Python3.0'\n",
    "\n",
    "string = string + '7'\n",
    "print(\"Output :\", string)"
   ]
  },
  {
   "cell_type": "code",
   "execution_count": 24,
   "metadata": {
    "colab": {
     "base_uri": "https://localhost:8080/",
     "height": 34
    },
    "colab_type": "code",
    "executionInfo": {
     "elapsed": 4263,
     "status": "ok",
     "timestamp": 1572924930408,
     "user": {
      "displayName": "bheem kumar",
      "photoUrl": "https://lh3.googleusercontent.com/a-/AAuE7mDCx24nBXj8t-exydQqWCz_3_2Fr8UREB6_UTXj=s64",
      "userId": "16514217920437432713"
     },
     "user_tz": -330
    },
    "id": "PFMmpmighuMV",
    "outputId": "453fcb50-6dad-4bb8-903c-f7943eeeafc0"
   },
   "outputs": [
    {
     "name": "stdout",
     "output_type": "stream",
     "text": [
      "Output : Paython3.0\n"
     ]
    }
   ],
   "source": [
    "\"\"\"\n",
    "\n",
    "Insert a new character 'a' at 2nd position of given string.\n",
    "\n",
    "Input:--\n",
    "    \n",
    "    string = 'Python3.0'\n",
    "\n",
    "Output:--\n",
    "    \n",
    "    Paython3.0\n",
    "\n",
    "\"\"\"\n",
    "\n",
    "string = 'Python3.0'\n",
    "\n",
    "string = string[0] + 'a' + string[1:]\n",
    "print(\"Output :\", string)"
   ]
  },
  {
   "cell_type": "code",
   "execution_count": 25,
   "metadata": {
    "colab": {
     "base_uri": "https://localhost:8080/",
     "height": 34
    },
    "colab_type": "code",
    "executionInfo": {
     "elapsed": 4243,
     "status": "ok",
     "timestamp": 1572924930408,
     "user": {
      "displayName": "bheem kumar",
      "photoUrl": "https://lh3.googleusercontent.com/a-/AAuE7mDCx24nBXj8t-exydQqWCz_3_2Fr8UREB6_UTXj=s64",
      "userId": "16514217920437432713"
     },
     "user_tz": -330
    },
    "id": "0oQeJ7chhuMo",
    "outputId": "fb2aadf6-fb2d-47de-f9fb-eb00f3929132"
   },
   "outputs": [
    {
     "name": "stdout",
     "output_type": "stream",
     "text": [
      "Output : doodle\n"
     ]
    }
   ],
   "source": [
    "\"\"\"\n",
    "\n",
    "Replace all 'g' with 'd' in given string.\n",
    "\n",
    "Input:--\n",
    "\n",
    "    string = 'google'\n",
    "\n",
    "Output:--\n",
    "\n",
    "    doodle\n",
    "\n",
    "\"\"\"\n",
    "\n",
    "string = 'google'\n",
    "\n",
    "string = string.replace('g','d')\n",
    "print(\"Output :\", string)"
   ]
  },
  {
   "cell_type": "code",
   "execution_count": 26,
   "metadata": {
    "colab": {
     "base_uri": "https://localhost:8080/",
     "height": 34
    },
    "colab_type": "code",
    "executionInfo": {
     "elapsed": 4223,
     "status": "ok",
     "timestamp": 1572924930409,
     "user": {
      "displayName": "bheem kumar",
      "photoUrl": "https://lh3.googleusercontent.com/a-/AAuE7mDCx24nBXj8t-exydQqWCz_3_2Fr8UREB6_UTXj=s64",
      "userId": "16514217920437432713"
     },
     "user_tz": -330
    },
    "id": "jvNnMjlhCbct",
    "outputId": "00664317-a9cf-4d6d-f5b7-2303fe9d8af7"
   },
   "outputs": [
    {
     "name": "stdout",
     "output_type": "stream",
     "text": [
      "Output : True\n"
     ]
    }
   ],
   "source": [
    "\"\"\"\n",
    "\n",
    "Check whether the given string is alphanumeric(True) or not(False).\n",
    "\n",
    "Input:--\n",
    "\n",
    "    string = 'Python3'\n",
    "\n",
    "Output:--\n",
    "    \n",
    "    True\n",
    "\n",
    "\"\"\"\n",
    "\n",
    "string = 'Python3'\n",
    "\n",
    "print('Output :', string.isalnum())\n"
   ]
  },
  {
   "cell_type": "code",
   "execution_count": 27,
   "metadata": {
    "colab": {
     "base_uri": "https://localhost:8080/",
     "height": 34
    },
    "colab_type": "code",
    "executionInfo": {
     "elapsed": 4205,
     "status": "ok",
     "timestamp": 1572924930410,
     "user": {
      "displayName": "bheem kumar",
      "photoUrl": "https://lh3.googleusercontent.com/a-/AAuE7mDCx24nBXj8t-exydQqWCz_3_2Fr8UREB6_UTXj=s64",
      "userId": "16514217920437432713"
     },
     "user_tz": -330
    },
    "id": "lUaXohTihuM_",
    "outputId": "772c6897-ae27-4c6d-8061-ba99d7e9413d"
   },
   "outputs": [
    {
     "name": "stdout",
     "output_type": "stream",
     "text": [
      "Output : False\n"
     ]
    }
   ],
   "source": [
    "\"\"\"\n",
    "\n",
    "Check whether the given string is alphanumeric(True) or not(False).\n",
    "\n",
    "Input:--\n",
    "\n",
    "    string = 'Python3.0'\n",
    "\n",
    "Output:--\n",
    "    \n",
    "    False\n",
    "\n",
    "\"\"\"\n",
    "\n",
    "string = 'Python3.0'\n",
    "\n",
    "print('Output :', string.isalnum())\n",
    "\n"
   ]
  },
  {
   "cell_type": "code",
   "execution_count": 28,
   "metadata": {
    "colab": {
     "base_uri": "https://localhost:8080/",
     "height": 34
    },
    "colab_type": "code",
    "executionInfo": {
     "elapsed": 4186,
     "status": "ok",
     "timestamp": 1572924930410,
     "user": {
      "displayName": "bheem kumar",
      "photoUrl": "https://lh3.googleusercontent.com/a-/AAuE7mDCx24nBXj8t-exydQqWCz_3_2Fr8UREB6_UTXj=s64",
      "userId": "16514217920437432713"
     },
     "user_tz": -330
    },
    "id": "vOGxFLk3DoU5",
    "outputId": "67bff66a-0013-469f-d571-1e497064827f"
   },
   "outputs": [
    {
     "name": "stdout",
     "output_type": "stream",
     "text": [
      "Output : True\n"
     ]
    }
   ],
   "source": [
    "\"\"\"\n",
    "\n",
    "Check whether the given string is alphabet or not.\n",
    "\n",
    "Input:--\n",
    "    \n",
    "    string = 'Python'\n",
    "\n",
    "Output:--\n",
    "\n",
    "    True\n",
    "\n",
    "\"\"\"\n",
    "\n",
    "string = 'Python'\n",
    "\n",
    "print('Output :', string.isalpha())"
   ]
  },
  {
   "cell_type": "code",
   "execution_count": 29,
   "metadata": {
    "colab": {
     "base_uri": "https://localhost:8080/",
     "height": 34
    },
    "colab_type": "code",
    "executionInfo": {
     "elapsed": 4171,
     "status": "ok",
     "timestamp": 1572924930411,
     "user": {
      "displayName": "bheem kumar",
      "photoUrl": "https://lh3.googleusercontent.com/a-/AAuE7mDCx24nBXj8t-exydQqWCz_3_2Fr8UREB6_UTXj=s64",
      "userId": "16514217920437432713"
     },
     "user_tz": -330
    },
    "id": "MKqrI7LUhuM1",
    "outputId": "8f0f8b6d-bc06-4cdc-d98e-72b8db5c27a1"
   },
   "outputs": [
    {
     "name": "stdout",
     "output_type": "stream",
     "text": [
      "Output : False\n"
     ]
    }
   ],
   "source": [
    "\"\"\"\n",
    "\n",
    "Check whether the given string is alphabet or not.\n",
    "\n",
    "Input:--\n",
    "    \n",
    "    string = 'Python3'\n",
    "\n",
    "Output:--\n",
    "\n",
    "    False\n",
    "\n",
    "\"\"\"\n",
    "\n",
    "string = 'Python3'\n",
    "\n",
    "print('Output :', string.isalpha())"
   ]
  },
  {
   "cell_type": "code",
   "execution_count": 30,
   "metadata": {
    "colab": {
     "base_uri": "https://localhost:8080/",
     "height": 34
    },
    "colab_type": "code",
    "executionInfo": {
     "elapsed": 4152,
     "status": "ok",
     "timestamp": 1572924930411,
     "user": {
      "displayName": "bheem kumar",
      "photoUrl": "https://lh3.googleusercontent.com/a-/AAuE7mDCx24nBXj8t-exydQqWCz_3_2Fr8UREB6_UTXj=s64",
      "userId": "16514217920437432713"
     },
     "user_tz": -330
    },
    "id": "02bSmEQgETra",
    "outputId": "54465312-debc-4ff1-d524-16225b2a376c"
   },
   "outputs": [
    {
     "name": "stdout",
     "output_type": "stream",
     "text": [
      "Output : True\n"
     ]
    }
   ],
   "source": [
    "\"\"\"\n",
    "\n",
    "Check whether the given string is identifier or not.\n",
    "\n",
    "Input:--\n",
    "    \n",
    "    string = 'Python'\n",
    "\n",
    "Output:--\n",
    "\n",
    "    True\n",
    "\n",
    "\"\"\"\n",
    "\n",
    "string = 'Python'\n",
    "\n",
    "print('Output :', string.isidentifier())"
   ]
  },
  {
   "cell_type": "code",
   "execution_count": 31,
   "metadata": {
    "colab": {
     "base_uri": "https://localhost:8080/",
     "height": 34
    },
    "colab_type": "code",
    "executionInfo": {
     "elapsed": 4137,
     "status": "ok",
     "timestamp": 1572924930412,
     "user": {
      "displayName": "bheem kumar",
      "photoUrl": "https://lh3.googleusercontent.com/a-/AAuE7mDCx24nBXj8t-exydQqWCz_3_2Fr8UREB6_UTXj=s64",
      "userId": "16514217920437432713"
     },
     "user_tz": -330
    },
    "id": "SWRms0TVIgjQ",
    "outputId": "35ae9d59-e22e-41fb-9ecc-5e64f86b89c6"
   },
   "outputs": [
    {
     "name": "stdout",
     "output_type": "stream",
     "text": [
      "Output : False\n"
     ]
    }
   ],
   "source": [
    "\"\"\"\n",
    "\n",
    "Check whether the given string is identifier or not.\n",
    "\n",
    "Input:--\n",
    "    \n",
    "    string = '#Python'\n",
    "\n",
    "Output:--\n",
    "\n",
    "    False\n",
    "\n",
    "\"\"\"\n",
    "\n",
    "string = '#Python'\n",
    "\n",
    "print('Output :', string.isidentifier())"
   ]
  },
  {
   "cell_type": "code",
   "execution_count": 109,
   "metadata": {
    "colab": {
     "base_uri": "https://localhost:8080/",
     "height": 289
    },
    "colab_type": "code",
    "executionInfo": {
     "elapsed": 1206,
     "status": "ok",
     "timestamp": 1572926934707,
     "user": {
      "displayName": "bheem kumar",
      "photoUrl": "https://lh3.googleusercontent.com/a-/AAuE7mDCx24nBXj8t-exydQqWCz_3_2Fr8UREB6_UTXj=s64",
      "userId": "16514217920437432713"
     },
     "user_tz": -330
    },
    "id": "qK0oWIQqEODn",
    "outputId": "9e770da2-5104-4929-b583-024f7ef4e95c"
   },
   "outputs": [
    {
     "name": "stdout",
     "output_type": "stream",
     "text": [
      "Outputs:--\n",
      "\n",
      "str1 : 362436\n",
      "str1.isdecimal() :  True\n",
      "str1.isnumeric() :  True\n",
      "str1.isdigit() :  True\n",
      "\n",
      "str2 : 3⁷\n",
      "str2.isdecimal() :  False\n",
      "str2.isnumeric() :  True\n",
      "str2.isdigit() :  True\n",
      "\n",
      "str3 : ½¼\n",
      "str3.isdecimal() :  False\n",
      "str3.isnumeric() :  True\n",
      "str3.isdigit() :  False\n"
     ]
    }
   ],
   "source": [
    "\"\"\"\n",
    "\n",
    "Check whether the given string is digit, numeric and decimal or not.\n",
    "\n",
    "NOTE:--\n",
    "\n",
    "    Return true if all characters in the string are digits and there is at least \n",
    "    one character, false otherwise. \n",
    "\n",
    "    Digits include decimal characters and digits \n",
    "    that need special handling, such as the compatibility superscript digits. \n",
    "\n",
    "    This covers digits which cannot be used to form numbers in base 10, \n",
    "    like the Kharosthi numbers. \n",
    "\n",
    "    Formally, a digit is a character that has \n",
    "    the property value Numeric_Type = Digit or Numeric_Type = Decimal.\n",
    "\n",
    "Inputs:--\n",
    "\n",
    "    str1 = \"362436\"    decimal characters\n",
    "    str2 = \"3⁷\"        superscript digit\n",
    "    str3 = \"½¼\"        fractional value\n",
    "\n",
    "\n",
    "Outputs:--\n",
    "\n",
    "    str1 : 362436\n",
    "    str1.isdecimal () :  True\n",
    "    str1.isnumeric () :  True\n",
    "    str1.isdigit   () :  True\n",
    "\n",
    "    str2 : 3⁷\n",
    "    str2.isdecimal () :  False\n",
    "    str2.isnumeric () :  True\n",
    "    str2.isdigit   () :  True\n",
    "\n",
    "    str3 : ½¼\n",
    "    str3.isdecimal () :  False\n",
    "    str3.isnumeric () :  True\n",
    "    str3.isdigit   () :  False\n",
    "\n",
    "\"\"\"\n",
    "\n",
    "str1 = \"362436\"     # decimal characters\n",
    "str2 = \"3⁷\"         # unicode digit\n",
    "str3 = \"½¼\"         # fractional value\n",
    "\n",
    "print('Outputs:--\\n')\n",
    "print (\"str1 :\", str1)\n",
    "print (\"str1.isdecimal() : \", str1.isdecimal ())\n",
    "print (\"str1.isnumeric() : \", str1.isnumeric ())\n",
    "print (\"str1.isdigit() : \", str1.isdigit ())\n",
    "\n",
    "print (\"\\nstr2 :\", str2)\n",
    "print (\"str2.isdecimal() : \", str2.isdecimal ())\n",
    "print (\"str2.isnumeric() : \", str2.isnumeric ())\n",
    "print (\"str2.isdigit() : \", str2.isdigit ())\n",
    "\n",
    "print (\"\\nstr3 :\", str3)\n",
    "print (\"str3.isdecimal() : \", str3.isdecimal ())\n",
    "print (\"str3.isnumeric() : \", str3.isnumeric ())\n",
    "print (\"str3.isdigit() : \", str3.isdigit ())"
   ]
  },
  {
   "cell_type": "code",
   "execution_count": 33,
   "metadata": {
    "colab": {
     "base_uri": "https://localhost:8080/",
     "height": 34
    },
    "colab_type": "code",
    "executionInfo": {
     "elapsed": 4101,
     "status": "ok",
     "timestamp": 1572924930413,
     "user": {
      "displayName": "bheem kumar",
      "photoUrl": "https://lh3.googleusercontent.com/a-/AAuE7mDCx24nBXj8t-exydQqWCz_3_2Fr8UREB6_UTXj=s64",
      "userId": "16514217920437432713"
     },
     "user_tz": -330
    },
    "id": "xJG4M8cTJjMR",
    "outputId": "66df6b22-486d-4727-d157-dd5a9523cb5f"
   },
   "outputs": [
    {
     "name": "stdout",
     "output_type": "stream",
     "text": [
      "Output : True\n"
     ]
    }
   ],
   "source": [
    "\"\"\"\n",
    "\n",
    "Check whether the given string is in upper case or not.\n",
    "\n",
    "Input:--\n",
    "\n",
    "    string = 'PYTHON'\n",
    "\n",
    "Output:--\n",
    "\n",
    "    True\n",
    " \n",
    "\"\"\"\n",
    "\n",
    "string = 'PYTHON'\n",
    "\n",
    "print('Output :', string.isupper())"
   ]
  },
  {
   "cell_type": "code",
   "execution_count": 34,
   "metadata": {
    "colab": {
     "base_uri": "https://localhost:8080/",
     "height": 34
    },
    "colab_type": "code",
    "executionInfo": {
     "elapsed": 4085,
     "status": "ok",
     "timestamp": 1572924930413,
     "user": {
      "displayName": "bheem kumar",
      "photoUrl": "https://lh3.googleusercontent.com/a-/AAuE7mDCx24nBXj8t-exydQqWCz_3_2Fr8UREB6_UTXj=s64",
      "userId": "16514217920437432713"
     },
     "user_tz": -330
    },
    "id": "8Z1S6KwDEUTO",
    "outputId": "7372b7d1-c314-4549-add4-b97a3dda3b90"
   },
   "outputs": [
    {
     "name": "stdout",
     "output_type": "stream",
     "text": [
      "Output : False\n"
     ]
    }
   ],
   "source": [
    "\"\"\"\n",
    "\n",
    "Check whether the given string is in upper case or not.\n",
    "\n",
    "Input:--\n",
    "\n",
    "    string = 'Python'\n",
    "\n",
    "Output:--\n",
    "\n",
    "    False\n",
    "\n",
    "\"\"\"\n",
    "\n",
    "string = 'Python'\n",
    "\n",
    "print('Output :', string.isupper())"
   ]
  },
  {
   "cell_type": "code",
   "execution_count": 35,
   "metadata": {
    "colab": {
     "base_uri": "https://localhost:8080/",
     "height": 34
    },
    "colab_type": "code",
    "executionInfo": {
     "elapsed": 4069,
     "status": "ok",
     "timestamp": 1572924930414,
     "user": {
      "displayName": "bheem kumar",
      "photoUrl": "https://lh3.googleusercontent.com/a-/AAuE7mDCx24nBXj8t-exydQqWCz_3_2Fr8UREB6_UTXj=s64",
      "userId": "16514217920437432713"
     },
     "user_tz": -330
    },
    "id": "skYCNAzhLVzn",
    "outputId": "60fca8ce-815d-4ff4-b25e-605d3c720dc7"
   },
   "outputs": [
    {
     "name": "stdout",
     "output_type": "stream",
     "text": [
      "Output : True\n"
     ]
    }
   ],
   "source": [
    "\"\"\"\n",
    "\n",
    "Check whether the given string is printable or not.\n",
    "\n",
    "Input:--\n",
    "\n",
    "    string = '  Python'\n",
    "\n",
    "Output:--\n",
    "\n",
    "    True\n",
    "\n",
    "\"\"\"\n",
    "\n",
    "string = '  Python'\n",
    "\n",
    "print('Output :',string.isprintable())"
   ]
  },
  {
   "cell_type": "code",
   "execution_count": 36,
   "metadata": {
    "colab": {
     "base_uri": "https://localhost:8080/",
     "height": 34
    },
    "colab_type": "code",
    "executionInfo": {
     "elapsed": 4052,
     "status": "ok",
     "timestamp": 1572924930414,
     "user": {
      "displayName": "bheem kumar",
      "photoUrl": "https://lh3.googleusercontent.com/a-/AAuE7mDCx24nBXj8t-exydQqWCz_3_2Fr8UREB6_UTXj=s64",
      "userId": "16514217920437432713"
     },
     "user_tz": -330
    },
    "id": "yYl39ZnyEUNA",
    "outputId": "d2ee10a1-8011-4acc-f527-74b728b85783"
   },
   "outputs": [
    {
     "name": "stdout",
     "output_type": "stream",
     "text": [
      "Output : False\n"
     ]
    }
   ],
   "source": [
    "\"\"\"\n",
    "\n",
    "Check whether the given string is printable or not.\n",
    "\n",
    "Input:--\n",
    "    \n",
    "    '\\nPython'\n",
    "\n",
    "Output:--\n",
    "    \n",
    "    False\n",
    "\n",
    "\"\"\"\n",
    "string = '\\nPython'\n",
    "\n",
    "print('Output :', string.isprintable())"
   ]
  },
  {
   "cell_type": "code",
   "execution_count": 37,
   "metadata": {
    "colab": {
     "base_uri": "https://localhost:8080/",
     "height": 34
    },
    "colab_type": "code",
    "executionInfo": {
     "elapsed": 4036,
     "status": "ok",
     "timestamp": 1572924930415,
     "user": {
      "displayName": "bheem kumar",
      "photoUrl": "https://lh3.googleusercontent.com/a-/AAuE7mDCx24nBXj8t-exydQqWCz_3_2Fr8UREB6_UTXj=s64",
      "userId": "16514217920437432713"
     },
     "user_tz": -330
    },
    "id": "O3f7BlNIMUaA",
    "outputId": "ce234036-ff4f-4fe0-c7b2-64e8e668cb6d"
   },
   "outputs": [
    {
     "name": "stdout",
     "output_type": "stream",
     "text": [
      "Output : True\n"
     ]
    }
   ],
   "source": [
    "\"\"\"\n",
    "\n",
    "Check whether the given string is start with 'P' or not.\n",
    "\n",
    "Input:--\n",
    "    \n",
    "    'Python'\n",
    "\n",
    "Output:--\n",
    "\n",
    "    True\n",
    "\n",
    "\"\"\"\n",
    "\n",
    "string = 'Python'\n",
    "\n",
    "print('Output :', string.startswith('P'))"
   ]
  },
  {
   "cell_type": "code",
   "execution_count": 38,
   "metadata": {
    "colab": {
     "base_uri": "https://localhost:8080/",
     "height": 34
    },
    "colab_type": "code",
    "executionInfo": {
     "elapsed": 4584,
     "status": "ok",
     "timestamp": 1572924930982,
     "user": {
      "displayName": "bheem kumar",
      "photoUrl": "https://lh3.googleusercontent.com/a-/AAuE7mDCx24nBXj8t-exydQqWCz_3_2Fr8UREB6_UTXj=s64",
      "userId": "16514217920437432713"
     },
     "user_tz": -330
    },
    "id": "jq6Z8dECL4Fl",
    "outputId": "43d4a04f-d5ac-458c-db1d-9fc7f0bd87fa"
   },
   "outputs": [
    {
     "name": "stdout",
     "output_type": "stream",
     "text": [
      "Output : False\n"
     ]
    }
   ],
   "source": [
    "\"\"\"\n",
    "\n",
    "Check whether the given string is start with 'P' or not.\n",
    "\n",
    "Input:--\n",
    "    \n",
    "    ' Python'\n",
    "\n",
    "Output:--\n",
    "\n",
    "    False\n",
    "\n",
    "\"\"\"\n",
    "\n",
    "string = ' Python'\n",
    "\n",
    "print('Output :', string.startswith('P'))"
   ]
  },
  {
   "cell_type": "code",
   "execution_count": 39,
   "metadata": {
    "colab": {
     "base_uri": "https://localhost:8080/",
     "height": 34
    },
    "colab_type": "code",
    "executionInfo": {
     "elapsed": 4568,
     "status": "ok",
     "timestamp": 1572924930983,
     "user": {
      "displayName": "bheem kumar",
      "photoUrl": "https://lh3.googleusercontent.com/a-/AAuE7mDCx24nBXj8t-exydQqWCz_3_2Fr8UREB6_UTXj=s64",
      "userId": "16514217920437432713"
     },
     "user_tz": -330
    },
    "id": "rfTuwYKcNPZu",
    "outputId": "84357563-937e-4fcd-9a05-29a391b20146"
   },
   "outputs": [
    {
     "name": "stdout",
     "output_type": "stream",
     "text": [
      "Output : True\n"
     ]
    }
   ],
   "source": [
    "\"\"\"\n",
    "\n",
    "Check whether the given string is end with 'n' or not.\n",
    "\n",
    "Input:--\n",
    "\n",
    "    'Python'\n",
    "\n",
    "Output:--\n",
    "    \n",
    "    True\n",
    "\n",
    "\"\"\"\n",
    "\n",
    "string = 'Python'\n",
    "\n",
    "print('Output :', string.startswith('P'))"
   ]
  },
  {
   "cell_type": "code",
   "execution_count": 40,
   "metadata": {
    "colab": {
     "base_uri": "https://localhost:8080/",
     "height": 34
    },
    "colab_type": "code",
    "executionInfo": {
     "elapsed": 4551,
     "status": "ok",
     "timestamp": 1572924930983,
     "user": {
      "displayName": "bheem kumar",
      "photoUrl": "https://lh3.googleusercontent.com/a-/AAuE7mDCx24nBXj8t-exydQqWCz_3_2Fr8UREB6_UTXj=s64",
      "userId": "16514217920437432713"
     },
     "user_tz": -330
    },
    "id": "KyzU7qwQNPSX",
    "outputId": "31f8c3a8-920c-4fdf-a85b-a8e96b76746c"
   },
   "outputs": [
    {
     "name": "stdout",
     "output_type": "stream",
     "text": [
      "Output : False\n"
     ]
    }
   ],
   "source": [
    "\"\"\"\n",
    "\n",
    "Check whether the given string is end with 'P' or not.\n",
    "\n",
    "Input:--\n",
    "    \n",
    "    '  PythoN'\n",
    "\n",
    "Output:\n",
    "\n",
    "    False\n",
    "\n",
    "\"\"\"\n",
    "\n",
    "string = '  PythoN'\n",
    "\n",
    "print('Output :', string.startswith('P'))"
   ]
  },
  {
   "cell_type": "code",
   "execution_count": 41,
   "metadata": {
    "colab": {
     "base_uri": "https://localhost:8080/",
     "height": 34
    },
    "colab_type": "code",
    "executionInfo": {
     "elapsed": 4533,
     "status": "ok",
     "timestamp": 1572924930984,
     "user": {
      "displayName": "bheem kumar",
      "photoUrl": "https://lh3.googleusercontent.com/a-/AAuE7mDCx24nBXj8t-exydQqWCz_3_2Fr8UREB6_UTXj=s64",
      "userId": "16514217920437432713"
     },
     "user_tz": -330
    },
    "id": "lm0sDKAwhuNZ",
    "outputId": "c81690c6-4c8e-46a5-9480-1959471a2c1d"
   },
   "outputs": [
    {
     "name": "stdout",
     "output_type": "stream",
     "text": [
      "Output : True\n"
     ]
    }
   ],
   "source": [
    "\"\"\"\n",
    "\n",
    "Check whether all characters of geven string is space or not.\n",
    "\n",
    "Input:--\n",
    "    \n",
    "    '      '\n",
    "\n",
    "Output:-- \n",
    "    \n",
    "    True\n",
    "\n",
    "\"\"\"\n",
    "\n",
    "string = '      '\n",
    "\n",
    "print('Output :', string.isspace())"
   ]
  },
  {
   "cell_type": "code",
   "execution_count": 42,
   "metadata": {
    "colab": {
     "base_uri": "https://localhost:8080/",
     "height": 34
    },
    "colab_type": "code",
    "executionInfo": {
     "elapsed": 4516,
     "status": "ok",
     "timestamp": 1572924930985,
     "user": {
      "displayName": "bheem kumar",
      "photoUrl": "https://lh3.googleusercontent.com/a-/AAuE7mDCx24nBXj8t-exydQqWCz_3_2Fr8UREB6_UTXj=s64",
      "userId": "16514217920437432713"
     },
     "user_tz": -330
    },
    "id": "2rQgDIXkP62d",
    "outputId": "f06e3124-2eba-4686-956d-bb4b9a726639"
   },
   "outputs": [
    {
     "name": "stdout",
     "output_type": "stream",
     "text": [
      "Output : False\n"
     ]
    }
   ],
   "source": [
    "\"\"\"\n",
    "\n",
    "Check whether all characters of geven string is space or not.\n",
    "\n",
    "Input:--\n",
    "    \n",
    "    '      s'\n",
    "\n",
    "Output:-- \n",
    "    \n",
    "    True\n",
    "\n",
    "\"\"\"\n",
    "\n",
    "string = '      s'\n",
    "\n",
    "print('Output :', string.isspace())"
   ]
  },
  {
   "cell_type": "code",
   "execution_count": 43,
   "metadata": {
    "colab": {
     "base_uri": "https://localhost:8080/",
     "height": 34
    },
    "colab_type": "code",
    "executionInfo": {
     "elapsed": 4500,
     "status": "ok",
     "timestamp": 1572924930985,
     "user": {
      "displayName": "bheem kumar",
      "photoUrl": "https://lh3.googleusercontent.com/a-/AAuE7mDCx24nBXj8t-exydQqWCz_3_2Fr8UREB6_UTXj=s64",
      "userId": "16514217920437432713"
     },
     "user_tz": -330
    },
    "id": "CtS7C_mqQlWc",
    "outputId": "87970a2a-b3de-4c05-f260-333aaa4cf263"
   },
   "outputs": [
    {
     "name": "stdout",
     "output_type": "stream",
     "text": [
      "Output : True\n"
     ]
    }
   ],
   "source": [
    "\"\"\"\n",
    "\n",
    "Check whether the given string is titled or not.\n",
    "\n",
    "Input:-- \n",
    "    \n",
    "    'Python Is A Programming Language'\n",
    "\n",
    "Output:--\n",
    "    \n",
    "    True\n",
    "\n",
    "\"\"\"\n",
    "\n",
    "string = 'Python Is A Programming Language'\n",
    "\n",
    "print('Output :', string.istitle())"
   ]
  },
  {
   "cell_type": "code",
   "execution_count": 44,
   "metadata": {
    "colab": {
     "base_uri": "https://localhost:8080/",
     "height": 34
    },
    "colab_type": "code",
    "executionInfo": {
     "elapsed": 4485,
     "status": "ok",
     "timestamp": 1572924930986,
     "user": {
      "displayName": "bheem kumar",
      "photoUrl": "https://lh3.googleusercontent.com/a-/AAuE7mDCx24nBXj8t-exydQqWCz_3_2Fr8UREB6_UTXj=s64",
      "userId": "16514217920437432713"
     },
     "user_tz": -330
    },
    "id": "x_Et2c4qhuNJ",
    "outputId": "af67871e-af09-4e30-aa98-c1988f4169ec"
   },
   "outputs": [
    {
     "name": "stdout",
     "output_type": "stream",
     "text": [
      "Output : False\n"
     ]
    }
   ],
   "source": [
    "\"\"\"\n",
    "\n",
    "Check whether the given string is titled or not.\n",
    "\n",
    "Input:-- \n",
    "    \n",
    "    'Python Is A Programming language'\n",
    "\n",
    "Output:--\n",
    "    \n",
    "    False\n",
    "\n",
    "\"\"\"\n",
    "\n",
    "string = 'Python Is A Programming language'\n",
    "\n",
    "print('Output :', string.istitle())"
   ]
  },
  {
   "cell_type": "code",
   "execution_count": 45,
   "metadata": {
    "colab": {
     "base_uri": "https://localhost:8080/",
     "height": 34
    },
    "colab_type": "code",
    "executionInfo": {
     "elapsed": 4467,
     "status": "ok",
     "timestamp": 1572924930987,
     "user": {
      "displayName": "bheem kumar",
      "photoUrl": "https://lh3.googleusercontent.com/a-/AAuE7mDCx24nBXj8t-exydQqWCz_3_2Fr8UREB6_UTXj=s64",
      "userId": "16514217920437432713"
     },
     "user_tz": -330
    },
    "id": "ZyJfN4GmhuNN",
    "outputId": "df341b24-1467-4acc-c592-edcfa21e9927"
   },
   "outputs": [
    {
     "name": "stdout",
     "output_type": "stream",
     "text": [
      "Output : a123b123c\n"
     ]
    }
   ],
   "source": [
    "\"\"\"\n",
    "\n",
    "Join the two given strings so that output be like given output using inbuilt 'join' string function.\n",
    "\n",
    "Inputs:--\n",
    "    \n",
    "    string1 = '123'\n",
    "    string2 = 'abc'\n",
    "\n",
    "Output:--\n",
    "    \n",
    "    a123b123c\n",
    "\n",
    "\"\"\"\n",
    "\n",
    "string1 = '123'\n",
    "string2 = 'abc'\n",
    "\n",
    "print('Output :', string1.join(string2))"
   ]
  },
  {
   "cell_type": "code",
   "execution_count": 46,
   "metadata": {
    "colab": {
     "base_uri": "https://localhost:8080/",
     "height": 34
    },
    "colab_type": "code",
    "executionInfo": {
     "elapsed": 4450,
     "status": "ok",
     "timestamp": 1572924930987,
     "user": {
      "displayName": "bheem kumar",
      "photoUrl": "https://lh3.googleusercontent.com/a-/AAuE7mDCx24nBXj8t-exydQqWCz_3_2Fr8UREB6_UTXj=s64",
      "userId": "16514217920437432713"
     },
     "user_tz": -330
    },
    "id": "vuh7tR2GhuNS",
    "outputId": "2059ed3b-b7e0-49e1-8747-c8a378cd5f67"
   },
   "outputs": [
    {
     "name": "stdout",
     "output_type": "stream",
     "text": [
      "Output : PYTHON\n"
     ]
    }
   ],
   "source": [
    "\"\"\"\n",
    "\n",
    "Convert the given string into upper case.\n",
    "\n",
    "Input:--\n",
    "\n",
    "    'Python'\n",
    "\n",
    "Output:--\n",
    "    \n",
    "    PYTHON\n",
    "\n",
    "\"\"\"\n",
    "\n",
    "string = 'Python'\n",
    "\n",
    "print('Output :', string.upper())"
   ]
  },
  {
   "cell_type": "code",
   "execution_count": 47,
   "metadata": {
    "colab": {
     "base_uri": "https://localhost:8080/",
     "height": 34
    },
    "colab_type": "code",
    "executionInfo": {
     "elapsed": 4434,
     "status": "ok",
     "timestamp": 1572924930988,
     "user": {
      "displayName": "bheem kumar",
      "photoUrl": "https://lh3.googleusercontent.com/a-/AAuE7mDCx24nBXj8t-exydQqWCz_3_2Fr8UREB6_UTXj=s64",
      "userId": "16514217920437432713"
     },
     "user_tz": -330
    },
    "id": "BBlHciqsIoib",
    "outputId": "9a8fb421-1227-404d-f492-0eaaca47a95c"
   },
   "outputs": [
    {
     "name": "stdout",
     "output_type": "stream",
     "text": [
      "Output : python\n"
     ]
    }
   ],
   "source": [
    "\"\"\"\n",
    "\n",
    "Convert the given string into lower case.\n",
    "\n",
    "Input:--\n",
    "\n",
    "    'Python'\n",
    "\n",
    "Output:--\n",
    "    \n",
    "    python\n",
    "\n",
    "\"\"\"\n",
    "\n",
    "string = 'Python'\n",
    "\n",
    "print('Output :', string.lower())"
   ]
  },
  {
   "cell_type": "code",
   "execution_count": 48,
   "metadata": {
    "colab": {
     "base_uri": "https://localhost:8080/",
     "height": 34
    },
    "colab_type": "code",
    "executionInfo": {
     "elapsed": 4415,
     "status": "ok",
     "timestamp": 1572924930988,
     "user": {
      "displayName": "bheem kumar",
      "photoUrl": "https://lh3.googleusercontent.com/a-/AAuE7mDCx24nBXj8t-exydQqWCz_3_2Fr8UREB6_UTXj=s64",
      "userId": "16514217920437432713"
     },
     "user_tz": -330
    },
    "id": "poBikaq9UR1p",
    "outputId": "a37ff2f2-8507-4bbf-c3f8-bd58c7aec2fe"
   },
   "outputs": [
    {
     "name": "stdout",
     "output_type": "stream",
     "text": [
      "Output : Python___\n"
     ]
    }
   ],
   "source": [
    "\"\"\"\n",
    "\n",
    "Left justify the given string by under_score using built-in method 'ljust()'.\n",
    "The total length of output string should be 9.\n",
    "\n",
    "Input:--\n",
    "    \n",
    "    string = 'Python'\n",
    "\n",
    "Output:--\n",
    " \n",
    "    Python___\n",
    "\n",
    "\"\"\"\n",
    "\n",
    "string = 'Python'\n",
    "\n",
    "print('Output :', string.ljust(9, '_'))"
   ]
  },
  {
   "cell_type": "code",
   "execution_count": 49,
   "metadata": {
    "colab": {
     "base_uri": "https://localhost:8080/",
     "height": 34
    },
    "colab_type": "code",
    "executionInfo": {
     "elapsed": 4398,
     "status": "ok",
     "timestamp": 1572924930989,
     "user": {
      "displayName": "bheem kumar",
      "photoUrl": "https://lh3.googleusercontent.com/a-/AAuE7mDCx24nBXj8t-exydQqWCz_3_2Fr8UREB6_UTXj=s64",
      "userId": "16514217920437432713"
     },
     "user_tz": -330
    },
    "id": "j2apDwHsU-8c",
    "outputId": "3b89be2b-c843-4df2-fa62-85b27df3735c"
   },
   "outputs": [
    {
     "name": "stdout",
     "output_type": "stream",
     "text": [
      "Output : ___Python\n"
     ]
    }
   ],
   "source": [
    "\"\"\"\n",
    "\n",
    "Right justify the given string by under_score using built-in method 'rjust()'.\n",
    "The total length of output string should be 9.\n",
    "\n",
    "Input:--\n",
    "    \n",
    "    string = 'Python'\n",
    "\n",
    "Output:--\n",
    " \n",
    "    ___Python\n",
    "\n",
    "\"\"\"\n",
    "\n",
    "string = 'Python'\n",
    "\n",
    "print('Output :', string.rjust(9, '_'))"
   ]
  },
  {
   "cell_type": "code",
   "execution_count": 50,
   "metadata": {
    "colab": {
     "base_uri": "https://localhost:8080/",
     "height": 34
    },
    "colab_type": "code",
    "executionInfo": {
     "elapsed": 4381,
     "status": "ok",
     "timestamp": 1572924930989,
     "user": {
      "displayName": "bheem kumar",
      "photoUrl": "https://lh3.googleusercontent.com/a-/AAuE7mDCx24nBXj8t-exydQqWCz_3_2Fr8UREB6_UTXj=s64",
      "userId": "16514217920437432713"
     },
     "user_tz": -330
    },
    "id": "7uUaNqowIpx8",
    "outputId": "1b598659-2026-4308-b84e-1dfc09aa073e"
   },
   "outputs": [
    {
     "name": "stdout",
     "output_type": "stream",
     "text": [
      "Output : __Python_\n"
     ]
    }
   ],
   "source": [
    "\"\"\"\n",
    "\n",
    "Center justify the given string by under_score using built-in method 'center()'.\n",
    "The total length of output string should be 9.\n",
    "\n",
    "Input:--\n",
    "    \n",
    "    string = 'Python'\n",
    "\n",
    "Output:--\n",
    " \n",
    "    '__Python_'\n",
    "\n",
    "\"\"\"\n",
    "\n",
    "string = 'Python'\n",
    "\n",
    "print('Output :', string.center(9, '_'))"
   ]
  },
  {
   "cell_type": "code",
   "execution_count": 51,
   "metadata": {
    "colab": {
     "base_uri": "https://localhost:8080/",
     "height": 34
    },
    "colab_type": "code",
    "executionInfo": {
     "elapsed": 4365,
     "status": "ok",
     "timestamp": 1572924930990,
     "user": {
      "displayName": "bheem kumar",
      "photoUrl": "https://lh3.googleusercontent.com/a-/AAuE7mDCx24nBXj8t-exydQqWCz_3_2Fr8UREB6_UTXj=s64",
      "userId": "16514217920437432713"
     },
     "user_tz": -330
    },
    "id": "EpiurfWrIp2t",
    "outputId": "a384817a-07de-4f88-a8c8-0588e1f36b77"
   },
   "outputs": [
    {
     "name": "stdout",
     "output_type": "stream",
     "text": [
      "Output : b'Python'\n"
     ]
    }
   ],
   "source": [
    "\"\"\"\n",
    "\n",
    "Print the given string after endcoding by built-in methond 'encode()' .\n",
    "\n",
    "Input:--\n",
    "    \n",
    "    string = 'Python'\n",
    "\n",
    "Output:--\n",
    "    \n",
    "    b'Python'\n",
    "\n",
    "\"\"\"\n",
    "\n",
    "string = 'Python'\n",
    "\n",
    "print('Output :', string.encode())"
   ]
  },
  {
   "cell_type": "code",
   "execution_count": 52,
   "metadata": {
    "colab": {
     "base_uri": "https://localhost:8080/",
     "height": 34
    },
    "colab_type": "code",
    "executionInfo": {
     "elapsed": 4349,
     "status": "ok",
     "timestamp": 1572924930991,
     "user": {
      "displayName": "bheem kumar",
      "photoUrl": "https://lh3.googleusercontent.com/a-/AAuE7mDCx24nBXj8t-exydQqWCz_3_2Fr8UREB6_UTXj=s64",
      "userId": "16514217920437432713"
     },
     "user_tz": -330
    },
    "id": "Bh3x6U49IpvM",
    "outputId": "99d9602c-5494-4543-c5a5-6e680d9de11e"
   },
   "outputs": [
    {
     "name": "stdout",
     "output_type": "stream",
     "text": [
      "Output : python  is      a       language.\n"
     ]
    }
   ],
   "source": [
    "\"\"\"\n",
    "\n",
    "Expand the given input string as given output string using built-in string function 'expandtabs()'.\n",
    "\n",
    "Input:--\n",
    "\n",
    "    string = 'python\\tis\\ta\\tlanguage.'\n",
    "\n",
    "Output:--\n",
    "    \n",
    "    python  is      a       language.\n",
    "\n",
    "\"\"\"\n",
    "\n",
    "string = 'python\\tis\\ta\\tlanguage.'\n",
    "\n",
    "print('Output :', string.expandtabs())"
   ]
  },
  {
   "cell_type": "code",
   "execution_count": 53,
   "metadata": {
    "colab": {
     "base_uri": "https://localhost:8080/",
     "height": 34
    },
    "colab_type": "code",
    "executionInfo": {
     "elapsed": 4333,
     "status": "ok",
     "timestamp": 1572924930991,
     "user": {
      "displayName": "bheem kumar",
      "photoUrl": "https://lh3.googleusercontent.com/a-/AAuE7mDCx24nBXj8t-exydQqWCz_3_2Fr8UREB6_UTXj=s64",
      "userId": "16514217920437432713"
     },
     "user_tz": -330
    },
    "id": "0TL5xxCRIoZI",
    "outputId": "fc4a8ffd-be4d-4169-9448-1b4b934b3bb7"
   },
   "outputs": [
    {
     "name": "stdout",
     "output_type": "stream",
     "text": [
      "Output : Python3.0  \n"
     ]
    }
   ],
   "source": [
    "\"\"\"\n",
    "\n",
    "Remove the white spaces from left of given string using built-in method 'lstrip()'.\n",
    "\n",
    "NOTE : White space is any character that prints but is not visible.\n",
    "\n",
    "Input:--\n",
    "\n",
    "    string = '\\nPython3.0\\t'\n",
    "\n",
    "Output:--\n",
    "    \n",
    "    'Python3.0  '\n",
    "\n",
    "\"\"\"\n",
    "\n",
    "string = '   \\tPython3.0  '\n",
    "\n",
    "print('Output :', string.lstrip())"
   ]
  },
  {
   "cell_type": "code",
   "execution_count": 54,
   "metadata": {
    "colab": {
     "base_uri": "https://localhost:8080/",
     "height": 34
    },
    "colab_type": "code",
    "executionInfo": {
     "elapsed": 4316,
     "status": "ok",
     "timestamp": 1572924930992,
     "user": {
      "displayName": "bheem kumar",
      "photoUrl": "https://lh3.googleusercontent.com/a-/AAuE7mDCx24nBXj8t-exydQqWCz_3_2Fr8UREB6_UTXj=s64",
      "userId": "16514217920437432713"
     },
     "user_tz": -330
    },
    "id": "nmpxKrmghuNW",
    "outputId": "0b1ec6df-7c06-477e-aff1-e8dab7722f79"
   },
   "outputs": [
    {
     "name": "stdout",
     "output_type": "stream",
     "text": [
      "Output : \tPython3.0\n"
     ]
    }
   ],
   "source": [
    "\"\"\"\n",
    "\n",
    "Remove the white spaces from right of given string using built-in method 'rstrip()'.\n",
    "\n",
    "NOTE : White space is any character that prints but is not visible.\n",
    "\n",
    "Input:--\n",
    "    \n",
    "    string = '\\tPython3.0\\t'\n",
    "\n",
    "Output:--\n",
    "    \n",
    "    '\tPython3.0'\n",
    "\n",
    "\"\"\"\n",
    "\n",
    "string = '\\tPython3.0\\t'\n",
    "\n",
    "print('Output :', string.rstrip())"
   ]
  },
  {
   "cell_type": "code",
   "execution_count": 55,
   "metadata": {
    "colab": {
     "base_uri": "https://localhost:8080/",
     "height": 34
    },
    "colab_type": "code",
    "executionInfo": {
     "elapsed": 4297,
     "status": "ok",
     "timestamp": 1572924930992,
     "user": {
      "displayName": "bheem kumar",
      "photoUrl": "https://lh3.googleusercontent.com/a-/AAuE7mDCx24nBXj8t-exydQqWCz_3_2Fr8UREB6_UTXj=s64",
      "userId": "16514217920437432713"
     },
     "user_tz": -330
    },
    "id": "9yh5gzGvhuNk",
    "outputId": "eb13f983-474f-433a-f9bd-036cf51baf04"
   },
   "outputs": [
    {
     "name": "stdout",
     "output_type": "stream",
     "text": [
      "Output : Python3.0\n"
     ]
    }
   ],
   "source": [
    "\"\"\"\n",
    "\n",
    "Remove the white spaces from both side of given string using 'strip()' method.\n",
    "\n",
    "NOTE : White space is any character that prints but is not visible.\n",
    "\n",
    "Input:--\n",
    "    \n",
    "    string = '\\tPython3.0\\t'\n",
    "\n",
    "Output:--\n",
    "    \n",
    "    'Python3.0'\n",
    "\n",
    "\"\"\"\n",
    "\n",
    "string = '\\tPython3.0\\t'\n",
    "\n",
    "print('Output :', string.strip())"
   ]
  },
  {
   "cell_type": "code",
   "execution_count": 56,
   "metadata": {
    "colab": {
     "base_uri": "https://localhost:8080/",
     "height": 34
    },
    "colab_type": "code",
    "executionInfo": {
     "elapsed": 4280,
     "status": "ok",
     "timestamp": 1572924930993,
     "user": {
      "displayName": "bheem kumar",
      "photoUrl": "https://lh3.googleusercontent.com/a-/AAuE7mDCx24nBXj8t-exydQqWCz_3_2Fr8UREB6_UTXj=s64",
      "userId": "16514217920437432713"
     },
     "user_tz": -330
    },
    "id": "pPQX3NmDhuNr",
    "outputId": "2e682aa2-9793-458b-e8ca-e21438bba5f3"
   },
   "outputs": [
    {
     "name": "stdout",
     "output_type": "stream",
     "text": [
      "Output : Python Is A Programming Language.\n"
     ]
    }
   ],
   "source": [
    "\"\"\"\n",
    "\n",
    "Convert the given string into Title case and print it.\n",
    "\n",
    "Input:--\n",
    "\n",
    "    string = 'python is a programming language.'\n",
    "\n",
    "Output:--\n",
    "\n",
    "    Python Is A Programming Language.\n",
    "\n",
    "\"\"\"\n",
    "\n",
    "string = 'python is a programming language.'\n",
    "\n",
    "print('Output :', string.title())"
   ]
  },
  {
   "cell_type": "code",
   "execution_count": 57,
   "metadata": {
    "colab": {
     "base_uri": "https://localhost:8080/",
     "height": 34
    },
    "colab_type": "code",
    "executionInfo": {
     "elapsed": 4263,
     "status": "ok",
     "timestamp": 1572924930993,
     "user": {
      "displayName": "bheem kumar",
      "photoUrl": "https://lh3.googleusercontent.com/a-/AAuE7mDCx24nBXj8t-exydQqWCz_3_2Fr8UREB6_UTXj=s64",
      "userId": "16514217920437432713"
     },
     "user_tz": -330
    },
    "id": "XeMajhlvhuNx",
    "outputId": "00f3c356-8f84-4aa5-9448-274b047ccbe9"
   },
   "outputs": [
    {
     "name": "stdout",
     "output_type": "stream",
     "text": [
      "Output : pYTHON iS a pROGRAMMING lANGUAGE.\n"
     ]
    }
   ],
   "source": [
    "\"\"\"\n",
    "Convert the lower case characters to upper and upper case characters to lower case of given string using built-in method 'swapcase()'. \n",
    "\n",
    "Input:--\n",
    "    \n",
    "    'Python Is A Programming Language.'\n",
    "\n",
    "Output:--\n",
    "    \n",
    "    pYTHON iS a pROGRAMMING lANGUAGE.\n",
    "\n",
    "\"\"\"\n",
    "\n",
    "string = 'Python Is A Programming Language.'\n",
    "\n",
    "print('Output :', string.swapcase())"
   ]
  },
  {
   "cell_type": "code",
   "execution_count": 58,
   "metadata": {
    "colab": {
     "base_uri": "https://localhost:8080/",
     "height": 34
    },
    "colab_type": "code",
    "executionInfo": {
     "elapsed": 4247,
     "status": "ok",
     "timestamp": 1572924930994,
     "user": {
      "displayName": "bheem kumar",
      "photoUrl": "https://lh3.googleusercontent.com/a-/AAuE7mDCx24nBXj8t-exydQqWCz_3_2Fr8UREB6_UTXj=s64",
      "userId": "16514217920437432713"
     },
     "user_tz": -330
    },
    "id": "hfl6DvdChuOB",
    "outputId": "f84b0352-3564-4cdd-f78c-a12cd22c6b07"
   },
   "outputs": [
    {
     "name": "stdout",
     "output_type": "stream",
     "text": [
      "Output : ('Pytho', 'n', '3.0')\n"
     ]
    }
   ],
   "source": [
    "\"\"\"\n",
    "Make partition of given string from character 'n' as given output using 'partition()' function.\n",
    "\n",
    "Input:--\n",
    "    \n",
    "    'Python3.0'\n",
    "\n",
    "Output:--\n",
    "\n",
    "    ('Pytho','n','3.0')\n",
    "\n",
    "\"\"\"\n",
    "\n",
    "string = 'Python3.0'\n",
    "\n",
    "print('Output :', string.partition('n'))"
   ]
  },
  {
   "cell_type": "code",
   "execution_count": 59,
   "metadata": {
    "colab": {
     "base_uri": "https://localhost:8080/",
     "height": 34
    },
    "colab_type": "code",
    "executionInfo": {
     "elapsed": 4229,
     "status": "ok",
     "timestamp": 1572924930994,
     "user": {
      "displayName": "bheem kumar",
      "photoUrl": "https://lh3.googleusercontent.com/a-/AAuE7mDCx24nBXj8t-exydQqWCz_3_2Fr8UREB6_UTXj=s64",
      "userId": "16514217920437432713"
     },
     "user_tz": -330
    },
    "id": "Yoozic4W0HnD",
    "outputId": "91abe922-30ca-48f9-a495-e5b083c64d15"
   },
   "outputs": [
    {
     "name": "stdout",
     "output_type": "stream",
     "text": [
      "Output : ('noonek', 'n', 'ow')\n"
     ]
    }
   ],
   "source": [
    "\"\"\"\n",
    "Make partition of given string from right most character 'n' using built-in method 'rpartition()'.\n",
    "\n",
    "Input:--\n",
    "    \n",
    "    'noonekonw'\n",
    "\n",
    "Output:--\n",
    "    \n",
    "    ('noonek','n','ow')\n",
    "\n",
    "\"\"\"\n",
    "\n",
    "string = 'nooneknow'\n",
    "\n",
    "print('Output :', string.rpartition('n'))"
   ]
  },
  {
   "cell_type": "code",
   "execution_count": 60,
   "metadata": {
    "colab": {
     "base_uri": "https://localhost:8080/",
     "height": 34
    },
    "colab_type": "code",
    "executionInfo": {
     "elapsed": 4213,
     "status": "ok",
     "timestamp": 1572924930995,
     "user": {
      "displayName": "bheem kumar",
      "photoUrl": "https://lh3.googleusercontent.com/a-/AAuE7mDCx24nBXj8t-exydQqWCz_3_2Fr8UREB6_UTXj=s64",
      "userId": "16514217920437432713"
     },
     "user_tz": -330
    },
    "id": "hgV4e9WFhuOE",
    "outputId": "243a7928-3cf9-4ec8-98d2-38caab48037f"
   },
   "outputs": [
    {
     "name": "stdout",
     "output_type": "stream",
     "text": [
      "Output : 29\n"
     ]
    }
   ],
   "source": [
    "\"\"\"\n",
    "\n",
    "Find the right most index of cahracter 'a' in given string using built-in method 'rfind()'.\n",
    "\n",
    "Input:-- \n",
    "    \n",
    "    string = 'python is a programming language'\n",
    "\n",
    "Output:--\n",
    "    \n",
    "    29\n",
    "\n",
    "\"\"\"\n",
    "string = 'python is a programming language'\n",
    "\n",
    "print('Output :', string.rfind('a'))"
   ]
  },
  {
   "cell_type": "code",
   "execution_count": 61,
   "metadata": {
    "colab": {
     "base_uri": "https://localhost:8080/",
     "height": 34
    },
    "colab_type": "code",
    "executionInfo": {
     "elapsed": 5548,
     "status": "ok",
     "timestamp": 1572924932347,
     "user": {
      "displayName": "bheem kumar",
      "photoUrl": "https://lh3.googleusercontent.com/a-/AAuE7mDCx24nBXj8t-exydQqWCz_3_2Fr8UREB6_UTXj=s64",
      "userId": "16514217920437432713"
     },
     "user_tz": -330
    },
    "id": "S_8J-lP1huOG",
    "outputId": "051a25e6-ef5f-481d-d63d-8c674adff4e8"
   },
   "outputs": [
    {
     "name": "stdout",
     "output_type": "stream",
     "text": [
      "Output : 29\n"
     ]
    }
   ],
   "source": [
    "\"\"\"\n",
    "\n",
    "Find the right most index of character 'a' in given string using built-in 'rindex()' method.\n",
    "\n",
    "NOTE : The rindex() method is similar to rfind() method for strings. \n",
    "       The only difference is that rfind() returns -1 if the substring is not found,\n",
    "       whereas rindex() throws an exception.\n",
    "\n",
    "Input:--\n",
    "\n",
    "    string = 'python is a programming language'\n",
    "\n",
    "Output:--\n",
    "    \n",
    "    29\n",
    "\n",
    "\"\"\"\n",
    "\n",
    "string = 'python is a programming language'\n",
    "\n",
    "print('Output :', string.rindex('a'))"
   ]
  },
  {
   "cell_type": "code",
   "execution_count": 62,
   "metadata": {
    "colab": {
     "base_uri": "https://localhost:8080/",
     "height": 34
    },
    "colab_type": "code",
    "executionInfo": {
     "elapsed": 5534,
     "status": "ok",
     "timestamp": 1572924932348,
     "user": {
      "displayName": "bheem kumar",
      "photoUrl": "https://lh3.googleusercontent.com/a-/AAuE7mDCx24nBXj8t-exydQqWCz_3_2Fr8UREB6_UTXj=s64",
      "userId": "16514217920437432713"
     },
     "user_tz": -330
    },
    "id": "PsbbmHtmhuOK",
    "outputId": "8288d55d-2b6c-4ce9-8a28-a8e6b10dcba4"
   },
   "outputs": [
    {
     "name": "stdout",
     "output_type": "stream",
     "text": [
      "Output : ['python', 'is', 'a', 'programming', 'language.']\n"
     ]
    }
   ],
   "source": [
    "\"\"\"\n",
    "Split the given string  as given output using built-in 'splitlines()' method.\n",
    "\n",
    "NOTE:-The splitlines() method returns a list with all the lines in string, if string contain the line breaks.\n",
    "\n",
    "Input:--\n",
    "    \n",
    "    string = 'python\\nis\\na\\nprogramming\\nlanguage.'\n",
    "\n",
    "Output:--\n",
    "    \n",
    "    ['python', 'is', 'a', 'programming', 'language']\n",
    "\n",
    "\"\"\"\n",
    "\n",
    "string = 'python\\nis\\na\\nprogramming\\nlanguage.'\n",
    "\n",
    "print('Output :', string.splitlines())"
   ]
  },
  {
   "cell_type": "code",
   "execution_count": 63,
   "metadata": {
    "colab": {
     "base_uri": "https://localhost:8080/",
     "height": 34
    },
    "colab_type": "code",
    "executionInfo": {
     "elapsed": 5518,
     "status": "ok",
     "timestamp": 1572924932348,
     "user": {
      "displayName": "bheem kumar",
      "photoUrl": "https://lh3.googleusercontent.com/a-/AAuE7mDCx24nBXj8t-exydQqWCz_3_2Fr8UREB6_UTXj=s64",
      "userId": "16514217920437432713"
     },
     "user_tz": -330
    },
    "id": "7wvQkmwUhuOM",
    "outputId": "b32e14df-5232-4b3c-d146-cba1affaa1a9"
   },
   "outputs": [
    {
     "name": "stdout",
     "output_type": "stream",
     "text": [
      "Output : 00000000000python3.0\n"
     ]
    }
   ],
   "source": [
    "\"\"\"\n",
    "\n",
    "Justify the length of given string of size 20 characters by filling zero from left side using built-in method 'zfill'.\n",
    "\n",
    "Input:--\n",
    "    \n",
    "    string =  'Python3.0'\n",
    "\n",
    "Output:--\n",
    "    \n",
    "    00000000000Python3.0\n",
    "\n",
    "\"\"\"\n",
    "\n",
    "string = 'python3.0'\n",
    "\n",
    "print('Output :', string.zfill(20))"
   ]
  },
  {
   "cell_type": "code",
   "execution_count": 64,
   "metadata": {
    "colab": {
     "base_uri": "https://localhost:8080/",
     "height": 34
    },
    "colab_type": "code",
    "executionInfo": {
     "elapsed": 5503,
     "status": "ok",
     "timestamp": 1572924932349,
     "user": {
      "displayName": "bheem kumar",
      "photoUrl": "https://lh3.googleusercontent.com/a-/AAuE7mDCx24nBXj8t-exydQqWCz_3_2Fr8UREB6_UTXj=s64",
      "userId": "16514217920437432713"
     },
     "user_tz": -330
    },
    "id": "azJZHftohuNo",
    "outputId": "77d4e92c-ec30-452f-8cd3-545204cda015"
   },
   "outputs": [
    {
     "name": "stdout",
     "output_type": "stream",
     "text": [
      "Output : th3s 3s str3ng 2x1mpl2....w4w!!!\n"
     ]
    }
   ],
   "source": [
    "\"\"\"\n",
    "\n",
    "Replace different characters with new different characters of given string\n",
    "using built-in method 'maketrans()'.\n",
    "\n",
    "NOTE1 : The maketrans() method returns a translation table that maps each character in\n",
    "        the initial characters into the character at the same position in the new \n",
    "        characters string.Then this table is passed to the translate() function.\n",
    "\n",
    "NOTE2 − Both intab and outtab must have the same length.\n",
    "        The translate() method returns a copy of the string in which all \n",
    "        characters have been translated using table (constructed with the maketrans()\n",
    "        function in the string module), optionally deleting all characters \n",
    "        found in the string deletechars.\n",
    "\n",
    "Inputs:--\n",
    "\n",
    "    string1 = 'Python is a programming language'.\n",
    "    string2 = \"aeiou\"\n",
    "    string3 = \"12345\"\n",
    "\n",
    "Output:--\n",
    "    \n",
    "    th3s 3s str3ng 2x1mpl2....w4w!!!\n",
    "\n",
    "\"\"\"\n",
    "\n",
    "inichars = \"aeiou\"\n",
    "newchars = \"12345\"\n",
    "\n",
    "transchars = str.maketrans(inichars, newchars)\n",
    "\n",
    "string = \"this is string example....wow!!!\"\n",
    "\n",
    "print ('Output :', string.translate(transchars))"
   ]
  },
  {
   "cell_type": "code",
   "execution_count": 65,
   "metadata": {
    "colab": {
     "base_uri": "https://localhost:8080/",
     "height": 34
    },
    "colab_type": "code",
    "executionInfo": {
     "elapsed": 5488,
     "status": "ok",
     "timestamp": 1572924932349,
     "user": {
      "displayName": "bheem kumar",
      "photoUrl": "https://lh3.googleusercontent.com/a-/AAuE7mDCx24nBXj8t-exydQqWCz_3_2Fr8UREB6_UTXj=s64",
      "userId": "16514217920437432713"
     },
     "user_tz": -330
    },
    "id": "gl_Qg-PahIvZ",
    "outputId": "b74eed53-650f-4354-8e44-610e2c6bc5d7"
   },
   "outputs": [
    {
     "name": "stdout",
     "output_type": "stream",
     "text": [
      "Output : Counter({'o': 3, 'g': 2, 'l': 1, 'e': 1, '.': 1, 'c': 1, 'm': 1})\n"
     ]
    }
   ],
   "source": [
    "\"\"\"\n",
    "\n",
    "Write a code to count the number of characters (character frequency) in a string. \n",
    "\n",
    "Input:--\n",
    "\n",
    "    string = 'google.com'\n",
    "\n",
    "Output:--\n",
    "\n",
    "    Counter({'o': 3, 'g': 2, '.': 1, 'e': 1, 'l': 1, 'm': 1, 'c': 1})\n",
    "\n",
    "\"\"\"\n",
    "\n",
    "from collections import Counter\n",
    "\n",
    "string = \"google.com\"\n",
    "\n",
    "frequencies = Counter(string)\n",
    "\n",
    "print('Output :', frequencies)"
   ]
  },
  {
   "cell_type": "code",
   "execution_count": 66,
   "metadata": {
    "colab": {
     "base_uri": "https://localhost:8080/",
     "height": 34
    },
    "colab_type": "code",
    "executionInfo": {
     "elapsed": 5464,
     "status": "ok",
     "timestamp": 1572924932350,
     "user": {
      "displayName": "bheem kumar",
      "photoUrl": "https://lh3.googleusercontent.com/a-/AAuE7mDCx24nBXj8t-exydQqWCz_3_2Fr8UREB6_UTXj=s64",
      "userId": "16514217920437432713"
     },
     "user_tz": -330
    },
    "id": "32S70Fm-hIvk",
    "outputId": "ca738a05-3b4f-4989-dc88-0f15f564934b"
   },
   "outputs": [
    {
     "name": "stdout",
     "output_type": "stream",
     "text": [
      "Counter({'is': 2, 'language': 2, 'This': 1, 'a': 1, 'python': 1, 'programming': 1, 'it': 1, 'also': 1, 'scripting': 1})\n"
     ]
    }
   ],
   "source": [
    "\"\"\"\n",
    "\n",
    "Write a code to count the occurrences of each word in a given sentence.\n",
    "\n",
    "Input:--\n",
    "\n",
    "    string = 'This is a python programming language it is also scripting language'\n",
    "\n",
    "Output:--\n",
    "\n",
    "    Counter({'is': 2, 'language': 2, 'this': 1, 'a': 1, 'python': 1, 'programming': 1, 'it': 1, 'also': 1, 'scripting': 1})\n",
    "\n",
    "\"\"\"\n",
    "\n",
    "\n",
    "from collections import Counter\n",
    "\n",
    "string = 'This is a python programming language it is also scripting language'\n",
    "string = string.split()\n",
    "string = Counter(string)\n",
    "\n",
    "print(string)"
   ]
  },
  {
   "cell_type": "code",
   "execution_count": 110,
   "metadata": {
    "colab": {
     "base_uri": "https://localhost:8080/",
     "height": 34
    },
    "colab_type": "code",
    "executionInfo": {
     "elapsed": 1129,
     "status": "ok",
     "timestamp": 1572927972664,
     "user": {
      "displayName": "bheem kumar",
      "photoUrl": "https://lh3.googleusercontent.com/a-/AAuE7mDCx24nBXj8t-exydQqWCz_3_2Fr8UREB6_UTXj=s64",
      "userId": "16514217920437432713"
     },
     "user_tz": -330
    },
    "id": "KyodMELAz-Kc",
    "outputId": "b3df5dc3-4efd-4636-e6bd-06157fbeb5f3"
   },
   "outputs": [
    {
     "name": "stdout",
     "output_type": "stream",
     "text": [
      "Output : 192.127.0.1\n"
     ]
    }
   ],
   "source": [
    "\"\"\"\n",
    "\n",
    "Write a to remove leading zeros from an IP address.\n",
    "\n",
    "Input:--\n",
    "\n",
    "    IP = '192.127.000.001'\n",
    "\n",
    "Output:--\n",
    "\n",
    "    192.127.0.1\n",
    "\n",
    "\"\"\"\n",
    "\n",
    "IP = '192.127.000.001'\n",
    "\n",
    "x = '.'.join(list(map(str, list(map(int,IP.split('.'))))))\n",
    "print('Output :', x)"
   ]
  },
  {
   "cell_type": "code",
   "execution_count": 68,
   "metadata": {
    "colab": {
     "base_uri": "https://localhost:8080/",
     "height": 85
    },
    "colab_type": "code",
    "executionInfo": {
     "elapsed": 5433,
     "status": "ok",
     "timestamp": 1572924932351,
     "user": {
      "displayName": "bheem kumar",
      "photoUrl": "https://lh3.googleusercontent.com/a-/AAuE7mDCx24nBXj8t-exydQqWCz_3_2Fr8UREB6_UTXj=s64",
      "userId": "16514217920437432713"
     },
     "user_tz": -330
    },
    "id": "2Gah6c5khIvd",
    "outputId": "39f50fc2-da81-4aab-ba38-aa24858d5244"
   },
   "outputs": [
    {
     "name": "stdout",
     "output_type": "stream",
     "text": [
      "Outputs:--\n",
      "\n",
      "Single string separated by space : abc xyz\n",
      "After swaping the first two characters of each string : xyc abz\n"
     ]
    }
   ],
   "source": [
    "\"\"\"\n",
    "\n",
    "Write a Code to get a single string from two given strings, separated by a space and swap \n",
    "the first two characters of each string.\n",
    "\n",
    "Inputs:--\n",
    "\n",
    "    string1 = 'abc'\n",
    "    string2 = 'xyz'\n",
    "\n",
    "Output:--\n",
    "    \n",
    "    Single string separated by space : abc xyz\n",
    "    After swaping the first two characters of each string : xyc abz\n",
    "\n",
    "\"\"\"\n",
    "\n",
    "string1 = 'abc' \n",
    "string2 = 'xyz'\n",
    "\n",
    "print('Outputs:--\\n')\n",
    "print('Single string separated by space :', string1, string2)\n",
    "\n",
    "string3 = string2[0:2] + string1[2:] + ' ' + string1[0:2] + string2[2:]\n",
    "print('After swaping the first two characters of each string :', string3)"
   ]
  },
  {
   "cell_type": "code",
   "execution_count": 69,
   "metadata": {
    "colab": {
     "base_uri": "https://localhost:8080/",
     "height": 34
    },
    "colab_type": "code",
    "executionInfo": {
     "elapsed": 5417,
     "status": "ok",
     "timestamp": 1572924932352,
     "user": {
      "displayName": "bheem kumar",
      "photoUrl": "https://lh3.googleusercontent.com/a-/AAuE7mDCx24nBXj8t-exydQqWCz_3_2Fr8UREB6_UTXj=s64",
      "userId": "16514217920437432713"
     },
     "user_tz": -330
    },
    "id": "4aHIhuu9wjR-",
    "outputId": "3f603423-9e67-4f8d-b160-b6f9742ffd44"
   },
   "outputs": [
    {
     "name": "stdout",
     "output_type": "stream",
     "text": [
      "programming\n"
     ]
    }
   ],
   "source": [
    "\"\"\" \n",
    "\n",
    "How to retrieve a substring from a given string using slicing operator ?\n",
    "Give an example.\n",
    "\n",
    "Input:--\n",
    "\n",
    "    string = 'Pythonisaprogramminglanguage.'\n",
    "\n",
    "Output:--\n",
    "\n",
    "    programming\n",
    "\n",
    "\"\"\"\n",
    "\n",
    "string = 'Pythonisaprogramminglanguage.'\n",
    "\n",
    "substring = string[9:20]\n",
    "\n",
    "print(substring)\n"
   ]
  },
  {
   "cell_type": "code",
   "execution_count": 73,
   "metadata": {
    "colab": {
     "base_uri": "https://localhost:8080/",
     "height": 34
    },
    "colab_type": "code",
    "executionInfo": {
     "elapsed": 5347,
     "status": "ok",
     "timestamp": 1572924932354,
     "user": {
      "displayName": "bheem kumar",
      "photoUrl": "https://lh3.googleusercontent.com/a-/AAuE7mDCx24nBXj8t-exydQqWCz_3_2Fr8UREB6_UTXj=s64",
      "userId": "16514217920437432713"
     },
     "user_tz": -330
    },
    "id": "qeo0o1oRhIvv",
    "outputId": "5bd2e553-7bc3-4506-8d41-32bc6937d3d3"
   },
   "outputs": [
    {
     "name": "stdout",
     "output_type": "stream",
     "text": [
      "Output : nythoP\n"
     ]
    }
   ],
   "source": [
    "\"\"\"\n",
    "\n",
    "Write a code to change a given string to a new string where the first and last chars have been exchanged. \n",
    "\n",
    "Input:--\n",
    "\n",
    "    string = 'Python'\n",
    "\n",
    "Output:--\n",
    "\n",
    "    nythoP\n",
    "\n",
    "\"\"\"\n",
    "\n",
    "string = 'Python'\n",
    "\n",
    "string = string[-1] + string[1:-1] + string[0]\n",
    "\n",
    "print('Output :', string)"
   ]
  },
  {
   "cell_type": "code",
   "execution_count": 76,
   "metadata": {
    "colab": {
     "base_uri": "https://localhost:8080/",
     "height": 34
    },
    "colab_type": "code",
    "executionInfo": {
     "elapsed": 5301,
     "status": "ok",
     "timestamp": 1572924932356,
     "user": {
      "displayName": "bheem kumar",
      "photoUrl": "https://lh3.googleusercontent.com/a-/AAuE7mDCx24nBXj8t-exydQqWCz_3_2Fr8UREB6_UTXj=s64",
      "userId": "16514217920437432713"
     },
     "user_tz": -330
    },
    "id": "R8C5I3jahIwC",
    "outputId": "776b62ba-8a8a-4069-bd05-0c67ac5db020"
   },
   "outputs": [
    {
     "name": "stdout",
     "output_type": "stream",
     "text": [
      "Output : DHaadnostu\n"
     ]
    }
   ],
   "source": [
    "\"\"\"\n",
    "\n",
    "Write a code to sort a string lexicographically.\n",
    "\n",
    "Input:--\n",
    "\n",
    "    string = 'HudsonData'\n",
    "\n",
    "Output:--\n",
    "\n",
    "    DHaadnostu\n",
    "\n",
    "\"\"\"\n",
    "\n",
    "string = 'HudsonData'\n",
    "\n",
    "string = sorted(string)\n",
    "string = \"\".join(string)\n",
    "\n",
    "print('Output :', string)"
   ]
  },
  {
   "cell_type": "code",
   "execution_count": 78,
   "metadata": {
    "colab": {
     "base_uri": "https://localhost:8080/",
     "height": 51
    },
    "colab_type": "code",
    "executionInfo": {
     "elapsed": 5267,
     "status": "ok",
     "timestamp": 1572924932357,
     "user": {
      "displayName": "bheem kumar",
      "photoUrl": "https://lh3.googleusercontent.com/a-/AAuE7mDCx24nBXj8t-exydQqWCz_3_2Fr8UREB6_UTXj=s64",
      "userId": "16514217920437432713"
     },
     "user_tz": -330
    },
    "id": "9zlMvuCshIwU",
    "outputId": "e82539bb-483d-4088-d8dd-a83fb55e388e"
   },
   "outputs": [
    {
     "name": "stdout",
     "output_type": "stream",
     "text": [
      "13.55\n",
      "13.55\n"
     ]
    }
   ],
   "source": [
    "\"\"\"\n",
    "\n",
    "Write a code to print the following floating numbers upto 2 decimal places.\n",
    "\n",
    "Input:--\n",
    "\n",
    "    float_number = 13.5485623\n",
    "    \n",
    "Output:--\n",
    "\n",
    "    13.55\n",
    "\n",
    "\"\"\"\n",
    "\n",
    "float_number = 13.5485623\n",
    "\n",
    "print(\"%.2f\" % float_number)\n",
    "print(\"{:.2F}\".format(float_number))"
   ]
  },
  {
   "cell_type": "code",
   "execution_count": 79,
   "metadata": {
    "colab": {
     "base_uri": "https://localhost:8080/",
     "height": 34
    },
    "colab_type": "code",
    "executionInfo": {
     "elapsed": 5251,
     "status": "ok",
     "timestamp": 1572924932358,
     "user": {
      "displayName": "bheem kumar",
      "photoUrl": "https://lh3.googleusercontent.com/a-/AAuE7mDCx24nBXj8t-exydQqWCz_3_2Fr8UREB6_UTXj=s64",
      "userId": "16514217920437432713"
     },
     "user_tz": -330
    },
    "id": "LATHN5I-hIwW",
    "outputId": "1b4bc985-f38b-4d0a-a571-bdd420c0ad70"
   },
   "outputs": [
    {
     "name": "stdout",
     "output_type": "stream",
     "text": [
      "Output : +13.55\n"
     ]
    }
   ],
   "source": [
    "\"\"\"\n",
    "\n",
    "Write a code to print the following floating numbers upto 2 decimal places with a sign. \n",
    "\n",
    "Input:--\n",
    "\n",
    "    float_number = 13.5485623\n",
    "\n",
    "Output:--\n",
    "\n",
    "    +13.55\n",
    "\n",
    "\"\"\"\n",
    "\n",
    "float_number = 13.5485623\n",
    "\n",
    "print('Output : %+.2f' % float_number)"
   ]
  },
  {
   "cell_type": "code",
   "execution_count": 80,
   "metadata": {
    "colab": {
     "base_uri": "https://localhost:8080/",
     "height": 34
    },
    "colab_type": "code",
    "executionInfo": {
     "elapsed": 5234,
     "status": "ok",
     "timestamp": 1572924932359,
     "user": {
      "displayName": "bheem kumar",
      "photoUrl": "https://lh3.googleusercontent.com/a-/AAuE7mDCx24nBXj8t-exydQqWCz_3_2Fr8UREB6_UTXj=s64",
      "userId": "16514217920437432713"
     },
     "user_tz": -330
    },
    "id": "TeUJ6O4ahIwc",
    "outputId": "5e25dcaa-56d2-47a8-8ce7-afa4e6e20402"
   },
   "outputs": [
    {
     "name": "stdout",
     "output_type": "stream",
     "text": [
      "Output : -15,565\n"
     ]
    }
   ],
   "source": [
    "\"\"\"\n",
    "Write a code to display a number with a comma separator.\n",
    "\n",
    "Input:--\n",
    "\n",
    "    number = -15565\n",
    "\n",
    "Output:--\n",
    "    \n",
    "    -15,565\n",
    "    \n",
    "\"\"\"\n",
    "\n",
    "number = -15565\n",
    "\n",
    "print(\"Output : {:,}\".format(number))"
   ]
  },
  {
   "cell_type": "code",
   "execution_count": 81,
   "metadata": {
    "colab": {
     "base_uri": "https://localhost:8080/",
     "height": 51
    },
    "colab_type": "code",
    "executionInfo": {
     "elapsed": 5219,
     "status": "ok",
     "timestamp": 1572924932359,
     "user": {
      "displayName": "bheem kumar",
      "photoUrl": "https://lh3.googleusercontent.com/a-/AAuE7mDCx24nBXj8t-exydQqWCz_3_2Fr8UREB6_UTXj=s64",
      "userId": "16514217920437432713"
     },
     "user_tz": -330
    },
    "id": "wDM9sJ6hhIwd",
    "outputId": "095e35ae-6b80-41c0-cb85-ade0d76a4346"
   },
   "outputs": [
    {
     "name": "stdout",
     "output_type": "stream",
     "text": [
      "-16\n",
      "-16\n"
     ]
    }
   ],
   "source": [
    "\"\"\"\n",
    "\n",
    "Write a code to print the following floating numbers with no decimal places.\n",
    "\n",
    "Inputs:--\n",
    "\n",
    "number1 = -15.565\n",
    "\n",
    "Output:--\n",
    "\n",
    "    -16\n",
    "\n",
    "\"\"\"\n",
    "\n",
    "number1 = -15.565\n",
    "\n",
    "print(\"%.0f\" % number1)\n",
    "print(\"%.f\" % number1)"
   ]
  },
  {
   "cell_type": "code",
   "execution_count": 82,
   "metadata": {
    "colab": {
     "base_uri": "https://localhost:8080/",
     "height": 153
    },
    "colab_type": "code",
    "executionInfo": {
     "elapsed": 5204,
     "status": "ok",
     "timestamp": 1572924932360,
     "user": {
      "displayName": "bheem kumar",
      "photoUrl": "https://lh3.googleusercontent.com/a-/AAuE7mDCx24nBXj8t-exydQqWCz_3_2Fr8UREB6_UTXj=s64",
      "userId": "16514217920437432713"
     },
     "user_tz": -330
    },
    "id": "A7nK2ne-hIwf",
    "outputId": "a25bac5f-32bf-4785-e6ea-23d1119809f2"
   },
   "outputs": [
    {
     "name": "stdout",
     "output_type": "stream",
     "text": [
      "Outputs:--\n",
      "\n",
      "%:12.30%\n",
      "%:12.30%\n",
      "%:12.300%\n",
      "%:12.3%\n",
      "%:12%\n",
      "%:12.300000%\n"
     ]
    }
   ],
   "source": [
    "\"\"\"\n",
    "\n",
    "Write a code to format a number with a percentage.\n",
    "\n",
    "Input:--\n",
    "\n",
    "    float_number = 0.123\n",
    "\n",
    "Outputs:--\n",
    "\n",
    "    %:12.30%\n",
    "    %12.30%\n",
    "    %:12.300%\n",
    "    %:12.3%\n",
    "    %:12%\n",
    "    %:12.300000%\n",
    "\n",
    "\"\"\"\n",
    "\n",
    "float_number = 0.123\n",
    "\n",
    "print(\"Outputs:--\\n\")\n",
    "print(\"%:\" +\"{:.2%}\".format(float_number))\n",
    "print(\"%:\" +\"{:.2%}\".format(float_number))\n",
    "print(\"%:\"+\"{:.3%}\".format(float_number))\n",
    "print(\"%:\"+\"{:.1%}\".format(float_number))\n",
    "print(\"%:\"+\"{:.0%}\".format(float_number))\n",
    "print(\"%:\"+\"{:0%}\".format(float_number))"
   ]
  },
  {
   "cell_type": "code",
   "execution_count": 83,
   "metadata": {
    "colab": {
     "base_uri": "https://localhost:8080/",
     "height": 34
    },
    "colab_type": "code",
    "executionInfo": {
     "elapsed": 5189,
     "status": "ok",
     "timestamp": 1572924932360,
     "user": {
      "displayName": "bheem kumar",
      "photoUrl": "https://lh3.googleusercontent.com/a-/AAuE7mDCx24nBXj8t-exydQqWCz_3_2Fr8UREB6_UTXj=s64",
      "userId": "16514217920437432713"
     },
     "user_tz": -330
    },
    "id": "hMt6ghbUhIwh",
    "outputId": "4c3ca55a-81dc-45eb-d850-0330cd7ac777"
   },
   "outputs": [
    {
     "name": "stdout",
     "output_type": "stream",
     "text": [
      "Output : 3\n"
     ]
    }
   ],
   "source": [
    "\"\"\"\n",
    "\n",
    "Write a code to count occurrences of a substring in a string.\n",
    "\n",
    "Inputs:--\n",
    "\n",
    "    string = 'python is a programming language and this is easy.'\n",
    "    stubstring = 'is'\n",
    "\n",
    "Ioutput:--\n",
    "\n",
    "    3\n",
    "    \n",
    "\"\"\"\n",
    "\n",
    "string = 'python is a programming language and this is easy.'\n",
    "substring = 'is'\n",
    "\n",
    "count = string.count(substring)\n",
    "\n",
    "print('Output :', count)"
   ]
  },
  {
   "cell_type": "code",
   "execution_count": 84,
   "metadata": {
    "colab": {
     "base_uri": "https://localhost:8080/",
     "height": 34
    },
    "colab_type": "code",
    "executionInfo": {
     "elapsed": 5173,
     "status": "ok",
     "timestamp": 1572924932361,
     "user": {
      "displayName": "bheem kumar",
      "photoUrl": "https://lh3.googleusercontent.com/a-/AAuE7mDCx24nBXj8t-exydQqWCz_3_2Fr8UREB6_UTXj=s64",
      "userId": "16514217920437432713"
     },
     "user_tz": -330
    },
    "id": "fDOyXZTQhIwk",
    "outputId": "810018e7-65d2-4f32-9377-b29592aa3ff9"
   },
   "outputs": [
    {
     "name": "stdout",
     "output_type": "stream",
     "text": [
      "Output: nohtyp\n"
     ]
    }
   ],
   "source": [
    "\"\"\"\n",
    "\n",
    "Write a code to reverse a string.\n",
    "\n",
    "Inputs:--\n",
    "\n",
    "    string = 'python'\n",
    "\n",
    "Outputs:--\n",
    "\n",
    "    nohtyp\n",
    "    \n",
    "\"\"\"\n",
    "\n",
    "string = 'python'\n",
    "print('Output:',string[::-1])"
   ]
  },
  {
   "cell_type": "code",
   "execution_count": 85,
   "metadata": {
    "colab": {
     "base_uri": "https://localhost:8080/",
     "height": 34
    },
    "colab_type": "code",
    "executionInfo": {
     "elapsed": 5159,
     "status": "ok",
     "timestamp": 1572924932362,
     "user": {
      "displayName": "bheem kumar",
      "photoUrl": "https://lh3.googleusercontent.com/a-/AAuE7mDCx24nBXj8t-exydQqWCz_3_2Fr8UREB6_UTXj=s64",
      "userId": "16514217920437432713"
     },
     "user_tz": -330
    },
    "id": "vaNix8SNhIwm",
    "outputId": "23292f59-2f65-4e12-b810-b8fb7f82504b"
   },
   "outputs": [
    {
     "name": "stdout",
     "output_type": "stream",
     "text": [
      "Output: easy. is this and language programming a is python\n"
     ]
    }
   ],
   "source": [
    "\"\"\"\n",
    "\n",
    "Write a code to reverse words in a string.\n",
    "\n",
    "Inputs:--\n",
    "\n",
    "    string = 'python is a programming language and this is easy.'\n",
    "\n",
    "Outputs:--\n",
    "\n",
    "    easy. is this and language programming a is python\n",
    "    \n",
    "\"\"\"\n",
    "\n",
    "string = 'python is a programming language and this is easy.'\n",
    "\n",
    "string = string.split()\n",
    "string.reverse()\n",
    "\n",
    "string = \" \".join(string)\n",
    "print('Output:', string)"
   ]
  },
  {
   "cell_type": "code",
   "execution_count": 86,
   "metadata": {
    "colab": {
     "base_uri": "https://localhost:8080/",
     "height": 187
    },
    "colab_type": "code",
    "executionInfo": {
     "elapsed": 5939,
     "status": "ok",
     "timestamp": 1572924933160,
     "user": {
      "displayName": "bheem kumar",
      "photoUrl": "https://lh3.googleusercontent.com/a-/AAuE7mDCx24nBXj8t-exydQqWCz_3_2Fr8UREB6_UTXj=s64",
      "userId": "16514217920437432713"
     },
     "user_tz": -330
    },
    "id": "XmKqHd9ohIwn",
    "outputId": "92b4e6af-acc3-4602-88f0-477129b19538"
   },
   "outputs": [
    {
     "name": "stdout",
     "output_type": "stream",
     "text": [
      "Output :--\n",
      "\n",
      "1         \n",
      "    1     \n",
      "         1\n",
      "\n",
      "Original Number:  1\n",
      "Left aligned (width 10)   : 1        \n",
      "Center aligned (width 10) :    1     \n",
      "Right aligned (width 10)  :         1\n"
     ]
    }
   ],
   "source": [
    "\"\"\"\n",
    "\n",
    "Write a code to display a number in left, right and center aligned of width 10.\n",
    "\n",
    "Input:--\n",
    "\n",
    "    string = '1'\n",
    "\n",
    "Outputs:--\n",
    "\n",
    "    1         \n",
    "        1     \n",
    "            1\n",
    "\n",
    "    Original Number:  1\n",
    "    Left aligned (width 10)   : 1        \n",
    "    Center aligned (width 10) :    1     \n",
    "    Right aligned (width 10)  :         1\n",
    "\n",
    "\"\"\"\n",
    "\n",
    "string = '1'\n",
    "print('Output :--\\n')\n",
    "print(string.ljust(10,\" \"))\n",
    "print(string.center(10,\" \"))\n",
    "print(string.rjust(10,\" \"))\n",
    "\n",
    "#or\n",
    "\n",
    "number = 1\n",
    "print(\"\\nOriginal Number: \", string)\n",
    "print(\"Left aligned (width 10)   :\"+\"{:< 10d}\".format(number))\n",
    "print(\"Center aligned (width 10) :\"+\"{:^10d}\".format(number))\n",
    "print(\"Right aligned (width 10)  :\"+\"{:10d}\".format(number))"
   ]
  },
  {
   "cell_type": "code",
   "execution_count": 87,
   "metadata": {
    "colab": {
     "base_uri": "https://localhost:8080/",
     "height": 153
    },
    "colab_type": "code",
    "executionInfo": {
     "elapsed": 5924,
     "status": "ok",
     "timestamp": 1572924933161,
     "user": {
      "displayName": "bheem kumar",
      "photoUrl": "https://lh3.googleusercontent.com/a-/AAuE7mDCx24nBXj8t-exydQqWCz_3_2Fr8UREB6_UTXj=s64",
      "userId": "16514217920437432713"
     },
     "user_tz": -330
    },
    "id": "05XT7VFphIwp",
    "outputId": "946c1bad-c404-419b-ed37-ecd20186a824"
   },
   "outputs": [
    {
     "name": "stdout",
     "output_type": "stream",
     "text": [
      "Outputs:--\n",
      "\n",
      "o - 4\n",
      "e - 3\n",
      "u - 2\n",
      "h - 2\n",
      "r - 2\n",
      "t - 2\n"
     ]
    }
   ],
   "source": [
    "\"\"\"\n",
    "\n",
    "Write a Python program to count repeated characters in a string.\n",
    "\n",
    "Inputs:--\n",
    "\n",
    "    string = 'thequickbrownfoxjumpsoverthelazydog'\n",
    "\n",
    "    characters = o, e, u, h, r, t\n",
    "\n",
    "Outputs:--\n",
    "\n",
    "    o - 4\n",
    "    e - 3\n",
    "    u - 2\n",
    "    h - 2\n",
    "    r - 2\n",
    "    t - 2\n",
    "\n",
    "\"\"\"\n",
    "\n",
    "print('Outputs:--\\n')\n",
    "print(\"o -\",\"thequickbrownfoxjumpsoverthelazydog\".count(\"o\"))\n",
    "print(\"e -\",\"thequickbrownfoxjumpsoverthelazydog\".count(\"e\"))\n",
    "print(\"u -\",\"thequickbrownfoxjumpsoverthelazydog\".count(\"u\"))\n",
    "print(\"h -\",\"thequickbrownfoxjumpsoverthelazydog\".count(\"h\"))\n",
    "print(\"r -\",\"thequickbrownfoxjumpsoverthelazydog\".count(\"r\"))\n",
    "print(\"t -\",\"thequickbrownfoxjumpsoverthelazydog\".count(\"t\"))"
   ]
  },
  {
   "cell_type": "code",
   "execution_count": 88,
   "metadata": {
    "colab": {
     "base_uri": "https://localhost:8080/",
     "height": 85
    },
    "colab_type": "code",
    "executionInfo": {
     "elapsed": 5909,
     "status": "ok",
     "timestamp": 1572924933162,
     "user": {
      "displayName": "bheem kumar",
      "photoUrl": "https://lh3.googleusercontent.com/a-/AAuE7mDCx24nBXj8t-exydQqWCz_3_2Fr8UREB6_UTXj=s64",
      "userId": "16514217920437432713"
     },
     "user_tz": -330
    },
    "id": "8ULSH5D5hIwu",
    "outputId": "20d02214-1485-4725-ecf2-a8c36b8b4f69"
   },
   "outputs": [
    {
     "name": "stdout",
     "output_type": "stream",
     "text": [
      "Outputs:--\n",
      "\n",
      "True\n",
      "False\n"
     ]
    }
   ],
   "source": [
    "\"\"\"\n",
    "\n",
    "Write a code to check whether given string contains all letters of the alphabet or not.\n",
    "\n",
    "Inputs:--\n",
    "\n",
    "    string1 = 'abcdefghijklmnopqrstuvwxyz'\n",
    "    string2 = 'abcdefghijklmnoqrstuvwxysz'\n",
    "\n",
    "Inputs:--\n",
    "\n",
    "    True\n",
    "    False\n",
    "    \n",
    "\"\"\"\n",
    "\n",
    "import string\n",
    "\n",
    "string1 = 'abcdefghijklmnopqrstuvwxyz'\n",
    "string2 = 'abcdefghijklmnoqrstuvwxysz'\n",
    "\n",
    "a = set(string.ascii_lowercase)\n",
    "print('Outputs:--\\n')\n",
    "print(set(string1) >= a)\n",
    "print(set(string2) >= a)"
   ]
  },
  {
   "cell_type": "code",
   "execution_count": 89,
   "metadata": {
    "colab": {
     "base_uri": "https://localhost:8080/",
     "height": 34
    },
    "colab_type": "code",
    "executionInfo": {
     "elapsed": 5893,
     "status": "ok",
     "timestamp": 1572924933162,
     "user": {
      "displayName": "bheem kumar",
      "photoUrl": "https://lh3.googleusercontent.com/a-/AAuE7mDCx24nBXj8t-exydQqWCz_3_2Fr8UREB6_UTXj=s64",
      "userId": "16514217920437432713"
     },
     "user_tz": -330
    },
    "id": "87WhhtmBhIwy",
    "outputId": "d20a5fab-467d-496b-b4c2-e4c245ac78a4"
   },
   "outputs": [
    {
     "name": "stdout",
     "output_type": "stream",
     "text": [
      "Output : pycharm IS a Good Editor.\n"
     ]
    }
   ],
   "source": [
    "\"\"\"\n",
    "\n",
    "Write a code to lowercase first n characters in a string.\n",
    "\n",
    "Inputs:--\n",
    "\n",
    "    string = 'PyCharm IS a Good Editor'\n",
    "    n = 5\n",
    "\n",
    "Outputs:--\n",
    "\n",
    "    pycharm IS a Good Editor.\n",
    "\n",
    "\"\"\"\n",
    "\n",
    "string = 'PyCharm IS a Good Editor.'\n",
    "n = 5\n",
    "\n",
    "string = string [0 : n].lower() + string[n : ]\n",
    "\n",
    "print('Output :', string)"
   ]
  },
  {
   "cell_type": "code",
   "execution_count": 90,
   "metadata": {
    "colab": {
     "base_uri": "https://localhost:8080/",
     "height": 85
    },
    "colab_type": "code",
    "executionInfo": {
     "elapsed": 5878,
     "status": "ok",
     "timestamp": 1572924933163,
     "user": {
      "displayName": "bheem kumar",
      "photoUrl": "https://lh3.googleusercontent.com/a-/AAuE7mDCx24nBXj8t-exydQqWCz_3_2Fr8UREB6_UTXj=s64",
      "userId": "16514217920437432713"
     },
     "user_tz": -330
    },
    "id": "he_SJzwEhIwz",
    "outputId": "3089de06-2468-4aa7-9838-b2bfc5da7eed"
   },
   "outputs": [
    {
     "name": "stdout",
     "output_type": "stream",
     "text": [
      "Output :--\n",
      "\n",
      "Before : 32.054,23\n",
      "After  : 32,054.23\n"
     ]
    }
   ],
   "source": [
    "\"\"\"\n",
    "Write a code to swap comma and dot in given string.\n",
    "\n",
    "Input:--\n",
    "    \n",
    "    string = \"32.054,23\"\n",
    "\n",
    "Output:--\n",
    "\n",
    "    32,054.23\n",
    "\n",
    "\"\"\"\n",
    "\n",
    "print('Output :--\\n')\n",
    "\n",
    "\"\"\"\n",
    "print('Before :', string)\n",
    "string = list(\"32.054,23\")\n",
    "for i in range(0, len(string)):\n",
    "\n",
    "    if string[i] == \",\":\n",
    "        string[i] = \".\"\n",
    "\n",
    "    elif string[i] == \".\":\n",
    "        string[i] = \",\"\n",
    "\n",
    "string = \"\".join(string)\n",
    "\n",
    "print('After :', string)\n",
    "\n",
    "\"\"\"\n",
    "\n",
    "# OR\n",
    "\n",
    "string = \"32.054,23\"\n",
    "\n",
    "a = \".,\"\n",
    "b = \",.\"\n",
    "new_string = string.translate(\"32,054.23\".maketrans(a, b))\n",
    "\n",
    "print('Before :', string)\n",
    "print('After  :', new_string)"
   ]
  },
  {
   "cell_type": "code",
   "execution_count": 95,
   "metadata": {
    "colab": {
     "base_uri": "https://localhost:8080/",
     "height": 34
    },
    "colab_type": "code",
    "executionInfo": {
     "elapsed": 5798,
     "status": "ok",
     "timestamp": 1572924933165,
     "user": {
      "displayName": "bheem kumar",
      "photoUrl": "https://lh3.googleusercontent.com/a-/AAuE7mDCx24nBXj8t-exydQqWCz_3_2Fr8UREB6_UTXj=s64",
      "userId": "16514217920437432713"
     },
     "user_tz": -330
    },
    "id": "I60UPO8ehIww",
    "outputId": "a523704f-7c9a-4108-8c3b-522218f3fc5e"
   },
   "outputs": [
    {
     "name": "stdout",
     "output_type": "stream",
     "text": [
      "Output : ['P', 'y', 't', 'h', 'o', 'n']\n"
     ]
    }
   ],
   "source": [
    "\"\"\"\n",
    "\n",
    "Write a code to convert a string into a list.\n",
    "\n",
    "Input:--\n",
    "\n",
    "    string = 'Python'\n",
    "\n",
    "Output:--\n",
    "\n",
    "    ['P', 'y', 't', 'h', 'o', 'n']\n",
    "    \n",
    "\"\"\"\n",
    "\n",
    "string = 'Python'\n",
    "\n",
    "string = list(string)\n",
    "\n",
    "print('Output :',string)"
   ]
  },
  {
   "cell_type": "code",
   "execution_count": 96,
   "metadata": {
    "colab": {
     "base_uri": "https://localhost:8080/",
     "height": 34
    },
    "colab_type": "code",
    "executionInfo": {
     "elapsed": 5776,
     "status": "ok",
     "timestamp": 1572924933166,
     "user": {
      "displayName": "bheem kumar",
      "photoUrl": "https://lh3.googleusercontent.com/a-/AAuE7mDCx24nBXj8t-exydQqWCz_3_2Fr8UREB6_UTXj=s64",
      "userId": "16514217920437432713"
     },
     "user_tz": -330
    },
    "id": "GLyIVRkYhIw_",
    "outputId": "5f358cf4-df32-4337-e189-17c7900df4f9"
   },
   "outputs": [
    {
     "name": "stdout",
     "output_type": "stream",
     "text": [
      "Output : PyCharm\n"
     ]
    }
   ],
   "source": [
    "\"\"\"\n",
    "\n",
    "Write a code to remove spaces from a given string.\n",
    "\n",
    "Input:--\n",
    "\n",
    "    string = '  Py  Charm  '\n",
    "\n",
    "Output:---\n",
    "\n",
    "    PyCharm\n",
    "\n",
    "\"\"\"\n",
    "\n",
    "string = '  Py  Charm  '\n",
    "\n",
    "string = string.replace(\" \",\"\")\n",
    "print('Output :', string)"
   ]
  },
  {
   "cell_type": "code",
   "execution_count": 99,
   "metadata": {
    "colab": {
     "base_uri": "https://localhost:8080/",
     "height": 34
    },
    "colab_type": "code",
    "executionInfo": {
     "elapsed": 5718,
     "status": "ok",
     "timestamp": 1572924933167,
     "user": {
      "displayName": "bheem kumar",
      "photoUrl": "https://lh3.googleusercontent.com/a-/AAuE7mDCx24nBXj8t-exydQqWCz_3_2Fr8UREB6_UTXj=s64",
      "userId": "16514217920437432713"
     },
     "user_tz": -330
    },
    "id": "xkYm-wO4hIxD",
    "outputId": "0202a14d-c983-497d-cb82-38fc45ec66c1"
   },
   "outputs": [
    {
     "name": "stdout",
     "output_type": "stream",
     "text": [
      "Output : PythoN\n"
     ]
    }
   ],
   "source": [
    "\"\"\"\n",
    "\n",
    "Write a code to capitalize first and last letters of given string.\n",
    "\n",
    "Input:--\n",
    "\n",
    "    string = 'python'\n",
    "\n",
    "Output:--\n",
    "\n",
    "    PythoN\n",
    "\n",
    "\"\"\"\n",
    "\n",
    "string = 'python'\n",
    "\n",
    "print('Output :', string[0].upper() + string[1:-1] + string[-1].upper())"
   ]
  },
  {
   "cell_type": "code",
   "execution_count": 100,
   "metadata": {
    "colab": {
     "base_uri": "https://localhost:8080/",
     "height": 34
    },
    "colab_type": "code",
    "executionInfo": {
     "elapsed": 5699,
     "status": "ok",
     "timestamp": 1572924933168,
     "user": {
      "displayName": "bheem kumar",
      "photoUrl": "https://lh3.googleusercontent.com/a-/AAuE7mDCx24nBXj8t-exydQqWCz_3_2Fr8UREB6_UTXj=s64",
      "userId": "16514217920437432713"
     },
     "user_tz": -330
    },
    "id": "VdC0vpxdhIxF",
    "outputId": "e55f2f8e-b185-462f-ded0-b34481065b00"
   },
   "outputs": [
    {
     "name": "stdout",
     "output_type": "stream",
     "text": [
      "Output : 15\n"
     ]
    }
   ],
   "source": [
    "\"\"\"\n",
    "\n",
    "Write a to compute sum of given string.\n",
    "NOTE: The string should be of digits.\n",
    "\n",
    "Input:--\n",
    "    \n",
    "    string = '12345'\n",
    "\n",
    "Output:--\n",
    "\n",
    "    15\n",
    "\n",
    "\"\"\"\n",
    "\n",
    "string = '12345'\n",
    "\n",
    "print('Output :', sum(list(map(int, string))))"
   ]
  },
  {
   "cell_type": "code",
   "execution_count": 104,
   "metadata": {
    "colab": {
     "base_uri": "https://localhost:8080/",
     "height": 51
    },
    "colab_type": "code",
    "executionInfo": {
     "elapsed": 5628,
     "status": "ok",
     "timestamp": 1572924933170,
     "user": {
      "displayName": "bheem kumar",
      "photoUrl": "https://lh3.googleusercontent.com/a-/AAuE7mDCx24nBXj8t-exydQqWCz_3_2Fr8UREB6_UTXj=s64",
      "userId": "16514217920437432713"
     },
     "user_tz": -330
    },
    "id": "zWijdWAGhIxR",
    "outputId": "9c6f7b27-f624-4e54-c1ac-831606ce0706"
   },
   "outputs": [
    {
     "name": "stdout",
     "output_type": "stream",
     "text": [
      "Output : Number of space 20\n"
     ]
    },
    {
     "data": {
      "text/plain": [
       "'             PyCharm'"
      ]
     },
     "execution_count": 104,
     "metadata": {
      "tags": []
     },
     "output_type": "execute_result"
    }
   ],
   "source": [
    "\"\"\"\n",
    "\n",
    "Write a Python program to move all spaces to the front of a given string in single traversal.\n",
    "\n",
    "Input:-- \n",
    "    \n",
    "    string = '  Py  Charm '\n",
    "\n",
    "Outputs:--\n",
    "\n",
    "    Number of space 20\n",
    "    '             PyCharm'\n",
    "\n",
    "\n",
    "\"\"\"\n",
    "\n",
    "string = '     Py         Charm      '\n",
    "\n",
    "number_of_space = string.count(' ')\n",
    "string = string.replace(' ','')\n",
    "string = string.rjust(number_of_space, ' ')\n",
    "\n",
    "print('Output : Number of space', number_of_space)\n",
    "string"
   ]
  }
 ],
 "metadata": {
  "colab": {
   "collapsed_sections": [],
   "name": "Python_string_1.ipynb",
   "provenance": []
  },
  "kernelspec": {
   "display_name": "Python 3",
   "language": "python",
   "name": "python3"
  },
  "language_info": {
   "codemirror_mode": {
    "name": "ipython",
    "version": 3
   },
   "file_extension": ".py",
   "mimetype": "text/x-python",
   "name": "python",
   "nbconvert_exporter": "python",
   "pygments_lexer": "ipython3",
   "version": "3.8.2"
  }
 },
 "nbformat": 4,
 "nbformat_minor": 1
}
