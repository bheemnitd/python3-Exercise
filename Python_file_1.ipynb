{
 "cells": [
  {
   "cell_type": "markdown",
   "metadata": {
    "colab_type": "text",
    "id": "Okt0QtDOEVxz"
   },
   "source": [
    "## Differents mode to open the file and their discription.\n",
    "### 1. r\n",
    "Opens a file for reading only. The file pointer is placed at the beginning of the file. This is the default mode.\n",
    "\n",
    "### 2. rb\n",
    "Opens a file for reading only in binary format. The file pointer is placed at the beginning of the file. This is the default mode.\n",
    "\n",
    "### 3. r+\n",
    "Opens a file for both reading and writing. The file pointer placed at the beginning of the file.\n",
    "\n",
    "### 4. rb+\n",
    "\n",
    "Opens a file for both reading and writing in binary format. The file pointer placed at the beginning of the file.\n",
    "\n",
    "### 5. w\n",
    "\n",
    "Opens a file for writing only. Overwrites the file if the file exists. If the file does not exist, creates a new file for writing.\n",
    "\n",
    "### 6. wb\n",
    "\n",
    "Opens a file for writing only in binary format. Overwrites the file if the file exists. If the file does not exist, creates a new file for writing.\n",
    "\n",
    "### 7. w+\n",
    "\n",
    "Opens a file for both writing and reading. Overwrites the existing file if the file exists. If the file does not exist, creates a new file for reading and writing.\n",
    "\n",
    "### 8. wb+\n",
    "\n",
    "Opens a file for both writing and reading in binary format. Overwrites the existing file if the file exists. If the file does not exist, creates a new file for reading and writing.\n",
    "\n",
    "### 9. \ta\n",
    "\n",
    "Opens a file for appending. The file pointer is at the end of the file if the file exists. That is, the file is in the append mode. If the file does not exist, it creates a new file for writing.\n",
    "\n",
    "### 10.\tab\n",
    "\n",
    "Opens a file for appending in binary format. The file pointer is at the end of the file if the file exists. That is, the file is in the append mode. If the file does not exist, it creates a new file for writing.\n",
    "\n",
    "### 11. a+\n",
    "\n",
    "Opens a file for both appending and reading. The file pointer is at the end of the file if the file exists. The file opens in the append mode. If the file does not exist, it creates a new file for reading and writing.\n",
    "\n",
    "### 12. ab+\n",
    "\n",
    "Opens a file for both appending and reading in binary format. The file pointer is at the end of the file if the file exists. The file opens in the append mode. If the file does not exist, it creates a new file for reading and writing."
   ]
  },
  {
   "cell_type": "markdown",
   "metadata": {
    "colab_type": "text",
    "id": "XXu2q5O-EVx0"
   },
   "source": [
    "### Syntax to open a file\n",
    "file_object = open(file_name [, access_mode][, buffering])\n",
    "\n",
    "#### Here are parameter details −\n",
    "\n",
    "file_name − The file_name argument is a string value that contains the name of the file that you want to access.\n",
    "\n",
    "access_mode − The access_mode determines the mode in which the file has to be opened, i.e., read, write, append, etc. A complete list of possible values is given below in the table. This is an optional parameter and the default file access mode is read (r).\n",
    "\n",
    "buffering − If the buffering value is set to 0, no buffering takes place. If the buffering value is 1, line buffering is performed while accessing a file. If you specify the buffering value as an integer greater than 1, then buffering action is performed with the indicated buffer size. If negative, the buffer size is the system default(default behavior).\n",
    "\n",
    "for more information click on <a href = https://www.tutorialspoint.com/python3/python_files_io.htm>this link.</a>"
   ]
  },
  {
   "cell_type": "markdown",
   "metadata": {
    "colab_type": "text",
    "id": "xwvi2B2lEVx0"
   },
   "source": [
    "### Basic methods of python file system.\n",
    "\n",
    "#### open \n",
    "Syntax : open(file_name,mode_of_open, buffer)\n",
    "#### read\n",
    "Syntax : file_object.read()\n",
    "#### readline\n",
    "Syntax : file_object.readline()\n",
    "#### write\n",
    "syntax : file_object.write('your_string')\n",
    "#### tell\n",
    "syntax : file_object.tell()\n",
    "#### seek\n",
    "syntax : file_object.seek(offset,from)\n",
    "#### close\n",
    "syntax : file_object.close()"
   ]
  },
  {
   "cell_type": "code",
   "execution_count": 1,
   "metadata": {
    "colab": {
     "base_uri": "https://localhost:8080/",
     "height": 215
    },
    "colab_type": "code",
    "executionInfo": {
     "elapsed": 3986,
     "status": "error",
     "timestamp": 1574497138472,
     "user": {
      "displayName": "Neeraj Avutu",
      "photoUrl": "",
      "userId": "16705445206746567151"
     },
     "user_tz": -330
    },
    "id": "UaxF7gyaEVx1",
    "outputId": "4c7af811-3d33-41c8-e6cb-bed5481715ed"
   },
   "outputs": [
    {
     "ename": "FileNotFoundError",
     "evalue": "ignored",
     "output_type": "error",
     "traceback": [
      "\u001b[0;31m---------------------------------------------------------------------------\u001b[0m",
      "\u001b[0;31mFileNotFoundError\u001b[0m                         Traceback (most recent call last)",
      "\u001b[0;32m<ipython-input-1-944137080a21>\u001b[0m in \u001b[0;36m<module>\u001b[0;34m()\u001b[0m\n\u001b[1;32m     14\u001b[0m \u001b[0;31m# print('Output :')\u001b[0m\u001b[0;34m\u001b[0m\u001b[0;34m\u001b[0m\u001b[0;34m\u001b[0m\u001b[0m\n\u001b[1;32m     15\u001b[0m \u001b[0;31m# print(file.read())\u001b[0m\u001b[0;34m\u001b[0m\u001b[0;34m\u001b[0m\u001b[0;34m\u001b[0m\u001b[0m\n\u001b[0;32m---> 16\u001b[0;31m \u001b[0;32mwith\u001b[0m \u001b[0mopen\u001b[0m\u001b[0;34m(\u001b[0m\u001b[0;34m'Downloads/SampleTextFile.txt'\u001b[0m\u001b[0;34m,\u001b[0m\u001b[0;34m'r'\u001b[0m\u001b[0;34m)\u001b[0m \u001b[0;32mas\u001b[0m \u001b[0mfile\u001b[0m\u001b[0;34m:\u001b[0m\u001b[0;34m\u001b[0m\u001b[0;34m\u001b[0m\u001b[0m\n\u001b[0m\u001b[1;32m     17\u001b[0m   \u001b[0mprint\u001b[0m\u001b[0;34m(\u001b[0m\u001b[0mfile\u001b[0m\u001b[0;34m.\u001b[0m\u001b[0mread\u001b[0m\u001b[0;34m(\u001b[0m\u001b[0;34m)\u001b[0m\u001b[0;34m)\u001b[0m\u001b[0;34m\u001b[0m\u001b[0;34m\u001b[0m\u001b[0m\n",
      "\u001b[0;31mFileNotFoundError\u001b[0m: [Errno 2] No such file or directory: 'Downloads/SampleTextFile.txt'"
     ]
    }
   ],
   "source": [
    "\"\"\"\n",
    "Write the code to open the given file in read only mode and print the content of file using built-in method 'read()'.\n",
    "\n",
    "Input : SampleTextFile.txt\n",
    "\n",
    "Output:\n",
    "A paragraph is a series of sentences that are organised and coherent, and are all related to a single topic. \n",
    "Almost every piece of writing you do that is longer than a few sentences should be organised into paragraphs. \n",
    "This is because paragraphs show a reader where the subdivisions of an essay begin and end,\n",
    "and thus help the reader see the organisation of the essay and grasp its main points.\n",
    "\n",
    "\"\"\"\n",
    "# file = open('Downloads/SampleTextFile.txt','r')\n",
    "# print('Output :')\n",
    "# print(file.read())\n",
    "with open('Downloads/SampleTextFile.txt','r') as file:\n",
    "  print(file.read())"
   ]
  },
  {
   "cell_type": "code",
   "execution_count": 0,
   "metadata": {
    "colab": {},
    "colab_type": "code",
    "id": "ZsBAM2qJEVx5",
    "outputId": "fa39cf8c-7d55-4070-ddd2-f2100c0f059e"
   },
   "outputs": [
    {
     "name": "stdout",
     "output_type": "stream",
     "text": [
      "Output :\n",
      "A paragraph is a series of sentences that are organised and coherent, and are all related to a single topic.\n",
      "\n",
      "Almost every piece of writing you do that is longer than a few sentences should be organised into paragraphs.\n",
      "\n",
      "This is because paragraphs show a reader where the subdivisions of an essay begin and end, and thus help the reader see the organisation of the essay and grasp its main points.\n"
     ]
    }
   ],
   "source": [
    "\"\"\"\n",
    "Write the code to open the file and read it line by line.\n",
    "\n",
    "Input : SampleTextFile.txt\n",
    "\n",
    "Output :\n",
    "A paragraph is a series of sentences that are organised and coherent, and are all related to a single topic. \n",
    "\n",
    "Almost every piece of writing you do that is longer than a few sentences should be organised into paragraphs. \n",
    "\n",
    "This is because paragraphs show a reader where the subdivisions of an essay begin and end, \n",
    "and thus help the reader see the organisation of the essay and grasp its main points.\n",
    "\n",
    "\"\"\"\n",
    "file = open('Downloads/SampleTextFile.txt','r')\n",
    "print('Output :')\n",
    "while True:\n",
    "    line = file.readline()\n",
    "    if not line:\n",
    "        break\n",
    "    else:\n",
    "        print(line)"
   ]
  },
  {
   "cell_type": "code",
   "execution_count": 0,
   "metadata": {
    "colab": {},
    "colab_type": "code",
    "id": "F-6tfH2vEVx7",
    "outputId": "029dde8a-5e73-426d-b5cf-f58ccfebfc76"
   },
   "outputs": [
    {
     "name": "stdout",
     "output_type": "stream",
     "text": [
      "Output :\n",
      "b'A paragraph is a series of sentences that are organised and coherent, and are all related to a single topic. \\nAlmost every piece of writing you do that is longer than a few sentences should be organised into paragraphs. \\nThis is because paragraphs show a reader where the subdivisions of an essay begin and end, and thus help the reader see the organisation of the essay and grasp its main points.'\n"
     ]
    }
   ],
   "source": [
    "\"\"\"\n",
    "Write the code to read the file only in binary mode and close it.\n",
    "\n",
    "Input : SampleTextFile.txt\n",
    "\n",
    "Output :\n",
    "b'A paragraph is a series of sentences that are organised and coherent, and are all related to a single topic. \\nA\n",
    "lmost every piece of writing you do that is longer than a few sentences should be organised into paragraphs. \\nThi\n",
    "s is because paragraphs show a reader where the subdivisions of an essay begin and end, and thus help the reader s\n",
    "ee the organisation of the essay and grasp its main points.'\n",
    "\n",
    "\"\"\"\n",
    "file = open('Downloads/SampleTextFile.txt','rb')\n",
    "print('Output :')\n",
    "print(file.read())\n",
    "file.close()"
   ]
  },
  {
   "cell_type": "code",
   "execution_count": 0,
   "metadata": {
    "colab": {},
    "colab_type": "code",
    "id": "i7q_zgZgEVx9",
    "outputId": "25dcc70b-16e9-4f14-87e9-83e0ee1752cc"
   },
   "outputs": [
    {
     "name": "stdout",
     "output_type": "stream",
     "text": [
      "Output : 10\n"
     ]
    }
   ],
   "source": [
    "\"\"\"\n",
    "Print the current position within a file, After 10 bytes(chars) from beginning using built-in method 'tell()'.\n",
    "\n",
    "Input : SampleTextFile.txt\n",
    "Output: 10\n",
    "\n",
    "\"\"\"\n",
    "\n",
    "file = open('Downloads/SampleTextFile.txt','r')\n",
    "file.read(10)\n",
    "print('Output :',file.tell())\n",
    "file.close()"
   ]
  },
  {
   "cell_type": "code",
   "execution_count": 0,
   "metadata": {
    "colab": {},
    "colab_type": "code",
    "id": "RRncAwMMEVx_",
    "outputId": "40888d84-fda5-4694-e1fd-05685df2dcb1"
   },
   "outputs": [
    {
     "name": "stdout",
     "output_type": "stream",
     "text": [
      "Output : 0\n"
     ]
    }
   ],
   "source": [
    "\"\"\"\n",
    "Seek the position to beginning after reading 100 bytes(chars) from beginning using built-in method 'seek()'.\n",
    "Input : SampleTextFile.txt\n",
    "Output: 0\n",
    "\n",
    "\"\"\"\n",
    "file = open('Downloads/SampleTextFile.txt','r')\n",
    "file.read(100)\n",
    "print('Output :',file.seek(0))\n",
    "file.close()"
   ]
  },
  {
   "cell_type": "code",
   "execution_count": 0,
   "metadata": {
    "colab": {},
    "colab_type": "code",
    "id": "i7mXv8zFEVyB",
    "outputId": "a218d55c-8d07-422a-b71a-4d91a03db645"
   },
   "outputs": [
    {
     "name": "stdout",
     "output_type": "stream",
     "text": [
      "Output before writing:\n",
      "A paragraph is a series of sentences that are organised and coherent, and are all related to a single topic. \n",
      "Almost every piece of writing you do that is longer than a few sentences should be organised into paragraphs. \n",
      "This is because paragraphs show a reader where the subdivisions of an essay begin and end, and thus help the reader see the organisation of the essay and grasp its main points.\n",
      "\n",
      "Output after writing:\n",
      "Python is a programming language.ces that are organised and coherent, and are all related to a single topic. \n",
      "Almost every piece of writing you do that is longer than a few sentences should be organised into paragraphs. \n",
      "This is because paragraphs show a reader where the subdivisions of an essay begin and end, and thus help the reader see the organisation of the essay and grasp its main points.\n"
     ]
    }
   ],
   "source": [
    "\"\"\"\n",
    "Write the code to open the given file in read write ('r+') mode. write something in file for example\n",
    "'Python is a Programming language.'.\n",
    "\n",
    "Input : SampleTextFile.txt\n",
    "\n",
    "Output:\n",
    "Python is a programming language.ces that are organised and coherent, and are all related to a single topic. \n",
    "\n",
    "Almost every piece of writing you do that is longer than a few sentences should be organised into paragraphs. \n",
    "\n",
    "This is because paragraphs show a reader where the subdivisions of an essay begin and end, and thus help the reade\n",
    "r see the organisation of the essay and grasp its main points.\n",
    "\n",
    "\"\"\"\n",
    "file = open('Downloads/SampleTextFile.txt','r+')\n",
    "print('Output before writing:')\n",
    "print(file.read())\n",
    "file.seek(0)\n",
    "file.write('Python is a programming language.')\n",
    "print('\\nOutput after writing:')\n",
    "file.seek(0)\n",
    "print(file.read())\n",
    "file.close()"
   ]
  },
  {
   "cell_type": "code",
   "execution_count": 0,
   "metadata": {
    "colab": {},
    "colab_type": "code",
    "id": "sMQtZyrsEVyD",
    "outputId": "f275a9a6-6e27-4c53-de12-da3d59f0dad6"
   },
   "outputs": [
    {
     "name": "stdout",
     "output_type": "stream",
     "text": [
      "Output before writing:\n",
      "b'Python is a programming language.ces that are organised and coherent, and are all related to a single topic. \\nAlmost every piece of writing you do that is longer than a few sentences should be organised into paragraphs. \\nThis is because paragraphs show a reader where the subdivisions of an essay begin and end, and thus help the reader see the organisation of the essay and grasp its main points.'\n",
      "\n",
      "Output after writing:\n",
      "b'Python is a programming language.ces that are organised and coherent, and are all related to a single topic. \\nAlmost every piece of writing you do that is longer than a few sentences should be organised into paragraphs. \\nThis is because paragraphs show a reader where the subdivisions of an essay begin and end, and thus help the reader see the organisation of the essay and grasp its main points.'\n"
     ]
    }
   ],
   "source": [
    "\"\"\"\n",
    "Write the code to open the file in read write in binary('rb+') mode. write something in file for example\n",
    "'Python is a Scripting language.'.\n",
    "\n",
    "Input : SampleTextFile.txt\n",
    "\n",
    "Output:\n",
    "Python is a programming language.ces that are organised and coherent, and are all related to a single topic. \n",
    "\n",
    "Almost every piece of writing you do that is longer than a few sentences should be organised into paragraphs. \n",
    "\n",
    "This is because paragraphs show a reader where the subdivisions of an essay begin and end, and thus help the reade\n",
    "r see the organisation of the essay and grasp its main points.\n",
    "\n",
    "\"\"\"\n",
    "file = open('Downloads/SampleTextFile.txt','rb+')\n",
    "print('Output before writing:')\n",
    "print(file.read())\n",
    "file.seek(0)\n",
    "file.write(b'Python is a programming language.')\n",
    "print('\\nOutput after writing:')\n",
    "file.seek(0)\n",
    "print(file.read())\n",
    "file.close()"
   ]
  },
  {
   "cell_type": "code",
   "execution_count": 0,
   "metadata": {
    "colab": {},
    "colab_type": "code",
    "id": "G08KjDQrEVyF"
   },
   "outputs": [],
   "source": [
    "\"\"\"\n",
    "Write the code to open the given file in write only mode and write 'Python programming language.' in \n",
    "openned file.\n",
    "\n",
    "Input : 'SampleTextFile.txt'\n",
    "\n",
    "\"\"\"\n",
    "file = open('Downloads/SampleTextFile.txt','w')\n",
    "file.write('Python programming Language.')\n",
    "file.close()\n",
    "\n",
    "# Go and check mnnually file has been written."
   ]
  },
  {
   "cell_type": "code",
   "execution_count": 0,
   "metadata": {
    "colab": {},
    "colab_type": "code",
    "id": "Tf8O6uLGEVyH"
   },
   "outputs": [],
   "source": [
    "\"\"\"\n",
    "Write the code to open the given file in write only in binary mode and write 'Python Scripting Language.' in \n",
    "openned file.\n",
    "\n",
    "Input : 'SampleTextFile.txt'\n",
    "\n",
    "\"\"\"\n",
    "file = open('Downloads/SampleTextFile.txt','wb')\n",
    "\n",
    "file.write(b'Python Scripting Language.')\n",
    "file.close()\n",
    "\n",
    "# Go and check mnnually file has been written."
   ]
  },
  {
   "cell_type": "code",
   "execution_count": 0,
   "metadata": {
    "colab": {},
    "colab_type": "code",
    "id": "-mZ71aHkEVyJ",
    "outputId": "20fd48bc-6937-4992-cddc-2889914c8198"
   },
   "outputs": [
    {
     "name": "stdout",
     "output_type": "stream",
     "text": [
      "Jupyter Notebook\n"
     ]
    }
   ],
   "source": [
    "\"\"\"\n",
    "Write the code to open the given file in write and read mode. write 'Jupyter Notebook' in openned file.\n",
    "\n",
    "Input : 'SampleTextFile.txt'\n",
    "\n",
    "\"\"\"\n",
    "file = open('Downloads/SampleTextFile.txt','w+')\n",
    "\n",
    "file.write('Jupyter Notebook')\n",
    "file.seek(0)\n",
    "print(file.read())\n",
    "file.close()"
   ]
  },
  {
   "cell_type": "code",
   "execution_count": 0,
   "metadata": {
    "colab": {},
    "colab_type": "code",
    "id": "p-mVnJ5KEVyL",
    "outputId": "a3219b2b-e62a-41b0-9297-587a32f81638"
   },
   "outputs": [
    {
     "name": "stdout",
     "output_type": "stream",
     "text": [
      "b'JUPYTER NOTEBOOK'\n"
     ]
    }
   ],
   "source": [
    "\"\"\"\n",
    "Write the code to open the file write and read in binary mode. write 'JUPYTER NOTEBOOK' in openned file.\n",
    "\n",
    "Input : 'SampleTextFile.txt'\n",
    "\n",
    "\"\"\"\n",
    "file = open('Downloads/SampleTextFile.txt','wb+')\n",
    "\n",
    "file.write(b'JUPYTER NOTEBOOK')\n",
    "file.seek(0)\n",
    "print(file.read())\n",
    "file.close()"
   ]
  },
  {
   "cell_type": "code",
   "execution_count": 0,
   "metadata": {
    "colab": {},
    "colab_type": "code",
    "id": "wRaaa9iKEVyN"
   },
   "outputs": [],
   "source": [
    "\"\"\"\n",
    "Write the code to open the file in append mode, append somthing in file \n",
    "for example 'HudsonData'\n",
    "\n",
    "Input : 'SampleTextFile.txt'\n",
    "\n",
    "\"\"\"\n",
    "file = open('Downloads/SampleTextFile.txt','a')\n",
    "file.write('HudsonData')\n",
    "file.close()"
   ]
  },
  {
   "cell_type": "code",
   "execution_count": 0,
   "metadata": {
    "colab": {},
    "colab_type": "code",
    "id": "npqqXGnHEVyP"
   },
   "outputs": [],
   "source": [
    "\"\"\"\n",
    "Write the code to append only in binary mode, append somthing in file \n",
    "for example 'HUDSONDATA.'\n",
    "\n",
    "Input : 'SampleTextFile.txt'\n",
    "\n",
    "\"\"\"\n",
    "file = open('Downloads/SampleTextFile.txt','ab')\n",
    "file.write(b'HUDSONDATA.')\n",
    "file.close()"
   ]
  },
  {
   "cell_type": "code",
   "execution_count": 0,
   "metadata": {
    "colab": {},
    "colab_type": "code",
    "id": "ZlVpqmxZEVyR",
    "outputId": "9c8d5694-7894-49de-eefa-428885ab0a68"
   },
   "outputs": [
    {
     "name": "stdout",
     "output_type": "stream",
     "text": [
      "JUPYTER NOTEBOOKHudsonData.HudsonDataHUDSONDATA.HudsonDataHudsonDATA\n"
     ]
    }
   ],
   "source": [
    "\"\"\"\n",
    "Write the code to open the file in append and read mode, append somthing in file \n",
    "for example 'HudsonDATA' and read it.\n",
    "\n",
    "Input : 'SampleTextFile.txt'\n",
    "\n",
    "\"\"\"\n",
    "file = open('Downloads/SampleTextFile.txt','a+')\n",
    "file.write('HudsonDATA')\n",
    "file.seek(0)\n",
    "print(file.read())\n",
    "file.close()"
   ]
  },
  {
   "cell_type": "code",
   "execution_count": 0,
   "metadata": {
    "colab": {},
    "colab_type": "code",
    "id": "Uc_3e--8EVyT",
    "outputId": "f44e05c8-818a-4773-884a-ef645280dac0"
   },
   "outputs": [
    {
     "name": "stdout",
     "output_type": "stream",
     "text": [
      "b'JUPYTER NOTEBOOKHudsonData.HudsonDataHUDSONDATA.HudsonDataHudsonDATAHUDSON_DATA'\n"
     ]
    }
   ],
   "source": [
    "\"\"\"\n",
    "Write the code to append and read only in binary mode, append somthing in file \n",
    "for example 'HUDSON_DATA' and read it.\n",
    "\n",
    "Input : 'SampleTextFile.txt'\n",
    "\n",
    "\"\"\"\n",
    "file = open('Downloads/SampleTextFile.txt','ab+')\n",
    "file.write(b'HUDSON_DATA')\n",
    "file.seek(0)\n",
    "print(file.read())\n",
    "file.close()"
   ]
  },
  {
   "cell_type": "markdown",
   "metadata": {
    "colab_type": "text",
    "id": "w3uURBHAEVyU"
   },
   "source": [
    "### Reading a Specific Line from a File"
   ]
  },
  {
   "cell_type": "code",
   "execution_count": 0,
   "metadata": {
    "colab": {},
    "colab_type": "code",
    "id": "scrh4n40EVyV",
    "outputId": "8e706cff-90e2-49e9-be9c-a974f8088342"
   },
   "outputs": [
    {
     "name": "stdout",
     "output_type": "stream",
     "text": [
      "Output :\n",
      "Almost every piece of writing you do that is longer than a few sentences should be organised into paragraphs.\n",
      "\n"
     ]
    }
   ],
   "source": [
    "\"\"\"\n",
    "Read a specific line of a file and print that line.\n",
    "\n",
    "Input : 'SampleTextFile.txt'\n",
    "\n",
    "Output: \n",
    "Almost every piece of writing you do that is longer than a few sentences should be organised into paragraphs.\n",
    "\n",
    "\"\"\"\n",
    "import linecache\n",
    "\n",
    "file_name = 'Downloads/SampleTextFile.txt'\n",
    "line_number = 2\n",
    "print('Output :')\n",
    "print(linecache.getline(file_name,line_number))"
   ]
  }
 ],
 "metadata": {
  "colab": {
   "name": "Python_file_1.ipynb",
   "provenance": []
  },
  "kernelspec": {
   "display_name": "Python 3",
   "language": "python",
   "name": "python3"
  },
  "language_info": {
   "codemirror_mode": {
    "name": "ipython",
    "version": 3
   },
   "file_extension": ".py",
   "mimetype": "text/x-python",
   "name": "python",
   "nbconvert_exporter": "python",
   "pygments_lexer": "ipython3",
   "version": "3.8.2"
  }
 },
 "nbformat": 4,
 "nbformat_minor": 1
}
