{
 "cells": [
  {
   "cell_type": "markdown",
   "metadata": {
    "colab_type": "text",
    "id": "aWWnSaXmnb0h"
   },
   "source": [
    "# List and List Comprehensions."
   ]
  },
  {
   "cell_type": "markdown",
   "metadata": {
    "colab_type": "text",
    "id": "uWL7ZlY54HGs"
   },
   "source": [
    "**What is list in python?**\n",
    "\n",
    "Answer:-\n",
    "\n",
    "A list is a data structure in Python that is a mutable, or changeable, \n",
    "ordered sequence of elements. Each element or value that is inside of a list is \n",
    "called an item. They enable you to keep data together that belongs together, \n",
    "condense your code, and perform the same methods and operations on multiple \n",
    "values at once.\n",
    "\n",
    "\n",
    "**for example**\n",
    "\n",
    "Example 1 : [1, 3, 4, 5]\n",
    "\n",
    "Example 2 : ['jack', 12, 123.42 ,'@#$%6']\n",
    "\n",
    "here Example 1 and Example 2 are list."
   ]
  },
  {
   "cell_type": "code",
   "execution_count": 1,
   "metadata": {
    "colab": {
     "base_uri": "https://localhost:8080/",
     "height": 34
    },
    "colab_type": "code",
    "executionInfo": {
     "elapsed": 1785,
     "status": "ok",
     "timestamp": 1572933520529,
     "user": {
      "displayName": "bheem kumar",
      "photoUrl": "https://lh3.googleusercontent.com/a-/AAuE7mDCx24nBXj8t-exydQqWCz_3_2Fr8UREB6_UTXj=s64",
      "userId": "16514217920437432713"
     },
     "user_tz": -330
    },
    "id": "xlKna2zJszSP",
    "outputId": "71880acc-c369-4f32-db59-f40aa9896f01"
   },
   "outputs": [
    {
     "name": "stdout",
     "output_type": "stream",
     "text": [
      "Output : []\n"
     ]
    }
   ],
   "source": [
    "\"\"\"\n",
    "\n",
    "Create a blank list and print it.\n",
    "\n",
    "Input:-- \n",
    "    \n",
    "    list1 = list()\n",
    "\n",
    "Output:--\n",
    "    \n",
    "    []\n",
    "\n",
    "\"\"\"\n",
    "\n",
    "list1 = list() # list1 = []\n",
    "print('Output :', list1)"
   ]
  },
  {
   "cell_type": "code",
   "execution_count": 2,
   "metadata": {
    "colab": {
     "base_uri": "https://localhost:8080/",
     "height": 34
    },
    "colab_type": "code",
    "executionInfo": {
     "elapsed": 2631,
     "status": "ok",
     "timestamp": 1572933521394,
     "user": {
      "displayName": "bheem kumar",
      "photoUrl": "https://lh3.googleusercontent.com/a-/AAuE7mDCx24nBXj8t-exydQqWCz_3_2Fr8UREB6_UTXj=s64",
      "userId": "16514217920437432713"
     },
     "user_tz": -330
    },
    "id": "-G9_GjbKE9am",
    "outputId": "42f0f45d-4963-4cac-c14b-9e4189c7ade0"
   },
   "outputs": [
    {
     "name": "stdout",
     "output_type": "stream",
     "text": [
      "Output : [0, 1, 2, 3, 4, 5, 6, 7, 8, 9]\n"
     ]
    }
   ],
   "source": [
    "\"\"\"\n",
    "\n",
    "Create a list with the given numbers and print it.\n",
    "\n",
    "Input:-- \n",
    "    \n",
    "    list1 = [0, 1, 2, 3, 4, 5, 6, 7, 8, 9]\n",
    "\n",
    "Output:-- \n",
    "    \n",
    "    [0, 1, 2, 3, 4, 5, 6, 7, 8, 9]\n",
    "\n",
    "\"\"\"\n",
    "\n",
    "list1 = [0, 1, 2, 3, 4, 5, 6, 7, 8, 9]\n",
    "print('Output :', list1)"
   ]
  },
  {
   "cell_type": "code",
   "execution_count": 3,
   "metadata": {
    "colab": {
     "base_uri": "https://localhost:8080/",
     "height": 34
    },
    "colab_type": "code",
    "executionInfo": {
     "elapsed": 2614,
     "status": "ok",
     "timestamp": 1572933521394,
     "user": {
      "displayName": "bheem kumar",
      "photoUrl": "https://lh3.googleusercontent.com/a-/AAuE7mDCx24nBXj8t-exydQqWCz_3_2Fr8UREB6_UTXj=s64",
      "userId": "16514217920437432713"
     },
     "user_tz": -330
    },
    "id": "eXppzPPxuNzV",
    "outputId": "39ae4d6e-73c3-42bf-82d2-b2d448e55acc"
   },
   "outputs": [
    {
     "name": "stdout",
     "output_type": "stream",
     "text": [
      "Output : ['Esabel', 12, 'jackma', 21.32, '1@#$#']\n"
     ]
    }
   ],
   "source": [
    "\"\"\"\n",
    "\n",
    "Create a list of 5 mixed elements with numbers and strings as given.\n",
    "\n",
    "Input:--\n",
    "    \n",
    "    list1 = ['Esabel', 12, 'jackma' , 21.32, '1@#$#']\n",
    "\n",
    "Output:--\n",
    "    \n",
    "    ['Esabel', 12, 'jackma' , 21.32, '1@#$#']\n",
    "\n",
    "\"\"\"\n",
    "\n",
    "list1 = ['Esabel', 12, 'jackma' , 21.32, '1@#$#']\n",
    "print('Output :', list1)"
   ]
  },
  {
   "cell_type": "code",
   "execution_count": 4,
   "metadata": {
    "colab": {
     "base_uri": "https://localhost:8080/",
     "height": 34
    },
    "colab_type": "code",
    "executionInfo": {
     "elapsed": 2600,
     "status": "ok",
     "timestamp": 1572933521395,
     "user": {
      "displayName": "bheem kumar",
      "photoUrl": "https://lh3.googleusercontent.com/a-/AAuE7mDCx24nBXj8t-exydQqWCz_3_2Fr8UREB6_UTXj=s64",
      "userId": "16514217920437432713"
     },
     "user_tz": -330
    },
    "id": "YaJmV0HtE9at",
    "outputId": "3c3a9852-49c0-4b37-a0c6-8b1395a3bd4f"
   },
   "outputs": [
    {
     "name": "stdout",
     "output_type": "stream",
     "text": [
      "Output : 10\n"
     ]
    }
   ],
   "source": [
    "\"\"\"\n",
    "\n",
    "Print the length of the given list.\n",
    "\n",
    "Input:--\n",
    "    \n",
    "    list1 = [0, 1, 2, 3, 4, 5, 6, 7, 8, 9]\n",
    "\n",
    "Output:--\n",
    "    \n",
    "    10\n",
    "\n",
    "\"\"\"\n",
    "\n",
    "list1 =  [0, 1, 2, 3, 4, 5, 6, 7, 8, 9]\n",
    "print('Output :', len(list1))"
   ]
  },
  {
   "cell_type": "code",
   "execution_count": 5,
   "metadata": {
    "colab": {
     "base_uri": "https://localhost:8080/",
     "height": 34
    },
    "colab_type": "code",
    "executionInfo": {
     "elapsed": 2584,
     "status": "ok",
     "timestamp": 1572933521395,
     "user": {
      "displayName": "bheem kumar",
      "photoUrl": "https://lh3.googleusercontent.com/a-/AAuE7mDCx24nBXj8t-exydQqWCz_3_2Fr8UREB6_UTXj=s64",
      "userId": "16514217920437432713"
     },
     "user_tz": -330
    },
    "id": "Bs8rLqDT0qHZ",
    "outputId": "5e9b182c-b13a-4cca-ac86-e1ad7af04f42"
   },
   "outputs": [
    {
     "name": "stdout",
     "output_type": "stream",
     "text": [
      "Output1 : [1, 2, 3, 4, 5, 'Reyan', 'Steev', 'Ronaldo']\n"
     ]
    }
   ],
   "source": [
    "\"\"\"\n",
    "\n",
    "Concatenate two given list by using built-in method 'extend()'.\n",
    "\n",
    "Inputs:--\n",
    "    \n",
    "    list1 = [1, 2, 3, 4, 5]\n",
    "    list2 = ['Reyan', 'Steev','Ronaldo']\n",
    "\n",
    "Output:--\n",
    "    \n",
    "    [1, 2, 3, 4, 5, 'Reyan', 'Steev', 'Ronaldo']\n",
    "\n",
    "\"\"\"\n",
    "\n",
    "list1 = [1, 2, 3, 4, 5]\n",
    "list2 = ['Reyan', 'Steev','Ronaldo']\n",
    "list1.extend(list2)\n",
    "print('Output1 :', list1)"
   ]
  },
  {
   "cell_type": "code",
   "execution_count": 6,
   "metadata": {
    "colab": {
     "base_uri": "https://localhost:8080/",
     "height": 85
    },
    "colab_type": "code",
    "executionInfo": {
     "elapsed": 2570,
     "status": "ok",
     "timestamp": 1572933521396,
     "user": {
      "displayName": "bheem kumar",
      "photoUrl": "https://lh3.googleusercontent.com/a-/AAuE7mDCx24nBXj8t-exydQqWCz_3_2Fr8UREB6_UTXj=s64",
      "userId": "16514217920437432713"
     },
     "user_tz": -330
    },
    "id": "2oIA4oCeCvKD",
    "outputId": "61b3161e-bbfa-4afc-a13a-2d1c8a0b9bd8"
   },
   "outputs": [
    {
     "name": "stdout",
     "output_type": "stream",
     "text": [
      "Outputs:--\n",
      "\n",
      "[1, 2, 3, 4, 5, 'Reyan', 'Steev', 'Ronaldo']\n",
      "['Reyan', 'Steev', 'Ronaldo', 1, 2, 3, 4, 5]\n"
     ]
    }
   ],
   "source": [
    "\"\"\"\n",
    "\n",
    "Concatenate two given lists without using built-in method 'extend()'.\n",
    "\n",
    "Input:--\n",
    "    \n",
    "    list1 = [1, 2, 3, 4, 5]\n",
    "    list2 = ['Reyan', 'Steev','Ronaldo']\n",
    "\n",
    "Outputs:-- \n",
    "    \n",
    "    [1, 2, 3, 4, 5, 'Reyan', 'Steev', 'Ronaldo']\n",
    "    ['Reyan', 'Steev', 'Ronaldo', 1, 2, 3, 4, 5]\n",
    "\n",
    "\"\"\"\n",
    "\n",
    "list1 = [1, 2, 3, 4, 5]\n",
    "list2 = ['Reyan', 'Steev','Ronaldo']\n",
    "print('Outputs:--\\n')\n",
    "print(list1+list2)\n",
    "\n",
    "#Alternative way.\n",
    "list2[len(list2):] = list1\n",
    "print(list2)"
   ]
  },
  {
   "cell_type": "code",
   "execution_count": 7,
   "metadata": {
    "colab": {
     "base_uri": "https://localhost:8080/",
     "height": 34
    },
    "colab_type": "code",
    "executionInfo": {
     "elapsed": 2555,
     "status": "ok",
     "timestamp": 1572933521396,
     "user": {
      "displayName": "bheem kumar",
      "photoUrl": "https://lh3.googleusercontent.com/a-/AAuE7mDCx24nBXj8t-exydQqWCz_3_2Fr8UREB6_UTXj=s64",
      "userId": "16514217920437432713"
     },
     "user_tz": -330
    },
    "id": "Xvk-4HE-E9ay",
    "outputId": "f3de84ba-6a45-4473-f325-286fee6d441c"
   },
   "outputs": [
    {
     "name": "stdout",
     "output_type": "stream",
     "text": [
      "Output : [0, 1, 2, 3, 4, 5, 6, 7, 8, 9, 12]\n"
     ]
    }
   ],
   "source": [
    "\"\"\"\n",
    "\n",
    "Append a number 12 into the given list using built-in method 'append()'.\n",
    "\n",
    "Inputs:--\n",
    "    \n",
    "    list1 = [0, 1, 2, 3, 4, 5, 6, 7, 8, 9]\n",
    "\n",
    "Output:--\n",
    "\n",
    "    [0, 1, 2, 3, 4, 5, 6, 7, 8, 9, 12]\n",
    "\n",
    "\"\"\"\n",
    "\n",
    "list1 =  [0, 1, 2, 3, 4, 5, 6, 7, 8, 9]\n",
    "list1.append(12)\n",
    "print('Output :', list1)"
   ]
  },
  {
   "cell_type": "code",
   "execution_count": 8,
   "metadata": {
    "colab": {
     "base_uri": "https://localhost:8080/",
     "height": 34
    },
    "colab_type": "code",
    "executionInfo": {
     "elapsed": 2538,
     "status": "ok",
     "timestamp": 1572933521397,
     "user": {
      "displayName": "bheem kumar",
      "photoUrl": "https://lh3.googleusercontent.com/a-/AAuE7mDCx24nBXj8t-exydQqWCz_3_2Fr8UREB6_UTXj=s64",
      "userId": "16514217920437432713"
     },
     "user_tz": -330
    },
    "id": "W2ktAmzHxNJ1",
    "outputId": "2f09c5d3-c463-4747-b279-0b2c55d64ade"
   },
   "outputs": [
    {
     "name": "stdout",
     "output_type": "stream",
     "text": [
      "Output : [0, 1, 2, 3, 4, 5, 6, 7, 8, 9, 13]\n"
     ]
    }
   ],
   "source": [
    "\"\"\"\n",
    "\n",
    "Append a number 13 into the given list without 'append()' method.\n",
    "\n",
    "Input:-- \n",
    "    \n",
    "    list1 = [0, 1, 2, 3, 4, 5, 6, 7, 8, 9]\n",
    "\n",
    "Output:-- \n",
    "    \n",
    "    [0, 1, 2, 3, 4, 5, 6, 7, 8, 9, 13]\n",
    "\n",
    "\"\"\"\n",
    "\n",
    "list1 =  [0, 1, 2, 3, 4, 5, 6, 7, 8, 9]\n",
    "list1 = list1 + [13]\n",
    "print('Output :', list1)"
   ]
  },
  {
   "cell_type": "code",
   "execution_count": 9,
   "metadata": {
    "colab": {
     "base_uri": "https://localhost:8080/",
     "height": 34
    },
    "colab_type": "code",
    "executionInfo": {
     "elapsed": 2525,
     "status": "ok",
     "timestamp": 1572933521397,
     "user": {
      "displayName": "bheem kumar",
      "photoUrl": "https://lh3.googleusercontent.com/a-/AAuE7mDCx24nBXj8t-exydQqWCz_3_2Fr8UREB6_UTXj=s64",
      "userId": "16514217920437432713"
     },
     "user_tz": -330
    },
    "id": "I-ZJf0siFhMQ",
    "outputId": "aa7805d0-6064-4c43-ef20-402431ac35cc"
   },
   "outputs": [
    {
     "name": "stdout",
     "output_type": "stream",
     "text": [
      "Output : [14, 0, 1, 2, 3, 4, 5, 6, 7, 8, 9]\n"
     ]
    }
   ],
   "source": [
    "\"\"\"\n",
    "\n",
    "Insert a number 14 at start of the given list using built-in method 'insert()'.\n",
    "\n",
    "Input:--\n",
    "    \n",
    "    list1 = [0, 1, 2, 3, 4, 5, 6, 7, 8, 9]\n",
    "\n",
    "Output:--\n",
    "    \n",
    "    [14, 0, 1, 2, 3, 4, 5, 6, 7, 8, 9]\n",
    "\n",
    "\"\"\"\n",
    "\n",
    "list1 =  [0, 1, 2, 3, 4, 5, 6, 7, 8, 9]\n",
    "list1.insert(0,14)\n",
    "print('Output :', list1)"
   ]
  },
  {
   "cell_type": "code",
   "execution_count": 10,
   "metadata": {
    "colab": {
     "base_uri": "https://localhost:8080/",
     "height": 34
    },
    "colab_type": "code",
    "executionInfo": {
     "elapsed": 2436,
     "status": "ok",
     "timestamp": 1572933521398,
     "user": {
      "displayName": "bheem kumar",
      "photoUrl": "https://lh3.googleusercontent.com/a-/AAuE7mDCx24nBXj8t-exydQqWCz_3_2Fr8UREB6_UTXj=s64",
      "userId": "16514217920437432713"
     },
     "user_tz": -330
    },
    "id": "XythZwGfGVhN",
    "outputId": "c1d760bc-ad5c-437a-a81b-e8b43951030c"
   },
   "outputs": [
    {
     "name": "stdout",
     "output_type": "stream",
     "text": [
      "Output : [0, 1, 2, 3, 4, 5, 6, 7, 8, 9, 15]\n"
     ]
    }
   ],
   "source": [
    "\"\"\"\n",
    "\n",
    "Insert a number 15 at end of the given list using built-in method 'insert()'.\n",
    "\n",
    "Input:--\n",
    "    \n",
    "    list1 = [0, 1, 2, 3, 4, 5, 6, 7, 8, 9]\n",
    "\n",
    "Output:--\n",
    "    \n",
    "    [0, 1, 2, 3, 4, 5, 6, 7, 8, 9, 15]\n",
    "\n",
    "\"\"\"\n",
    "\n",
    "list1 =  [0, 1, 2, 3, 4, 5, 6, 7, 8, 9]\n",
    "list1.insert(len(list1),15)\n",
    "print('Output :', list1)"
   ]
  },
  {
   "cell_type": "code",
   "execution_count": 11,
   "metadata": {
    "colab": {
     "base_uri": "https://localhost:8080/",
     "height": 34
    },
    "colab_type": "code",
    "executionInfo": {
     "elapsed": 2421,
     "status": "ok",
     "timestamp": 1572933521398,
     "user": {
      "displayName": "bheem kumar",
      "photoUrl": "https://lh3.googleusercontent.com/a-/AAuE7mDCx24nBXj8t-exydQqWCz_3_2Fr8UREB6_UTXj=s64",
      "userId": "16514217920437432713"
     },
     "user_tz": -330
    },
    "id": "i_Lmagk7GteN",
    "outputId": "30047774-0eda-4afb-c77d-c8d19bf31441"
   },
   "outputs": [
    {
     "name": "stdout",
     "output_type": "stream",
     "text": [
      "Output : [0, 1, 2, 3, 16, 4, 5, 6, 7, 8, 9]\n"
     ]
    }
   ],
   "source": [
    "\"\"\"\n",
    "\n",
    "Insert a number 16 at 5th position of the given list using built-in method 'insert()'.\n",
    "\n",
    "Input:--\n",
    "    \n",
    "    list1 = [0, 1, 2, 3, 4, 5, 6, 7, 8, 9]\n",
    "\n",
    "Output:--\n",
    "    \n",
    "    [0, 1, 2, 3, 16, 4, 5, 6, 7, 8, 9]\n",
    "\n",
    "\"\"\"\n",
    "\n",
    "list1 =  [0, 1, 2, 3, 4, 5, 6, 7, 8, 9]\n",
    "list1.insert(4,16)\n",
    "print('Output :', list1)"
   ]
  },
  {
   "cell_type": "code",
   "execution_count": 12,
   "metadata": {
    "colab": {
     "base_uri": "https://localhost:8080/",
     "height": 34
    },
    "colab_type": "code",
    "executionInfo": {
     "elapsed": 2410,
     "status": "ok",
     "timestamp": 1572933521399,
     "user": {
      "displayName": "bheem kumar",
      "photoUrl": "https://lh3.googleusercontent.com/a-/AAuE7mDCx24nBXj8t-exydQqWCz_3_2Fr8UREB6_UTXj=s64",
      "userId": "16514217920437432713"
     },
     "user_tz": -330
    },
    "id": "y1k_tF48E9a2",
    "outputId": "bf6aff2d-806f-4909-b6b9-16f80ba8dd89"
   },
   "outputs": [
    {
     "name": "stdout",
     "output_type": "stream",
     "text": [
      "Output : [17, 0, 1, 2, 3, 4, 5, 6, 7, 8, 9]\n"
     ]
    }
   ],
   "source": [
    "\"\"\"\n",
    "\n",
    "Insert a number 17 at start of the given list without using built-in method 'insert()'.\n",
    "\n",
    "Input:--\n",
    "    \n",
    "    list1 = [0, 1, 2, 3, 4, 5, 6, 7, 8, 9]\n",
    "\n",
    "Output:\n",
    "    \n",
    "    [17, 0, 1, 2, 3, 4, 5, 6, 7, 8, 9]\n",
    "\n",
    "\"\"\"\n",
    "\n",
    "list1 =  [0, 1, 2, 3, 4, 5, 6, 7, 8, 9]\n",
    "list1 = [17] + list1\n",
    "print('Output :', list1)"
   ]
  },
  {
   "cell_type": "code",
   "execution_count": 13,
   "metadata": {
    "colab": {
     "base_uri": "https://localhost:8080/",
     "height": 34
    },
    "colab_type": "code",
    "executionInfo": {
     "elapsed": 2396,
     "status": "ok",
     "timestamp": 1572933521399,
     "user": {
      "displayName": "bheem kumar",
      "photoUrl": "https://lh3.googleusercontent.com/a-/AAuE7mDCx24nBXj8t-exydQqWCz_3_2Fr8UREB6_UTXj=s64",
      "userId": "16514217920437432713"
     },
     "user_tz": -330
    },
    "id": "rQYGKECmE9a6",
    "outputId": "a5e0e01a-2962-4b20-8e97-e9f7515ad9a8"
   },
   "outputs": [
    {
     "name": "stdout",
     "output_type": "stream",
     "text": [
      "Output : [0, 1, 2, 3, 19, 4, 5, 6, 7, 8, 9]\n"
     ]
    }
   ],
   "source": [
    "\"\"\"\n",
    "\n",
    "Insert a number 19 at 5th position of the given list without using built-in method 'insert()'.\n",
    "\n",
    "Input:--\n",
    "\n",
    "    list1 = [0, 1, 2, 3, 4, 5, 6, 7, 8, 9]\n",
    "\n",
    "Output:--\n",
    " \n",
    "    [0, 1, 2, 3, 19, 4, 5, 6, 7, 8, 9]\n",
    "\n",
    "\"\"\"\n",
    "\n",
    "list1 =  [0, 1, 2, 3, 4, 5, 6, 7, 8, 9]\n",
    "list1 = list1[:4] + [19] + list1[4:]\n",
    "print('Output :', list1)"
   ]
  },
  {
   "cell_type": "code",
   "execution_count": 14,
   "metadata": {
    "colab": {
     "base_uri": "https://localhost:8080/",
     "height": 34
    },
    "colab_type": "code",
    "executionInfo": {
     "elapsed": 2385,
     "status": "ok",
     "timestamp": 1572933521400,
     "user": {
      "displayName": "bheem kumar",
      "photoUrl": "https://lh3.googleusercontent.com/a-/AAuE7mDCx24nBXj8t-exydQqWCz_3_2Fr8UREB6_UTXj=s64",
      "userId": "16514217920437432713"
     },
     "user_tz": -330
    },
    "id": "KtUeE5qpE9a-",
    "outputId": "9cde8dff-682e-4b18-8bd9-2f85ecfc7b82"
   },
   "outputs": [
    {
     "name": "stdout",
     "output_type": "stream",
     "text": [
      "Output : [1, 2, 3, 4, 5, 6, 7, 8, 9]\n"
     ]
    }
   ],
   "source": [
    "\"\"\"\n",
    "\n",
    "Remove the fisrt number of given list using built-in method 'pop()'.\n",
    "\n",
    "HINT:-POP() method take index to remove specified element.\n",
    "\n",
    "Input:--\n",
    "    \n",
    "    list1 = [0, 1, 2, 3, 4, 5, 6, 7, 8, 9]\n",
    "\n",
    "Output:--\n",
    "    \n",
    "    [1, 2, 3, 4, 5, 6, 7, 8, 9]\n",
    "\n",
    "\"\"\"\n",
    "\n",
    "list1 =  [0, 1, 2, 3, 4, 5, 6, 7, 8, 9]\n",
    "list1.pop(0)\n",
    "print('Output :', list1)"
   ]
  },
  {
   "cell_type": "code",
   "execution_count": 15,
   "metadata": {
    "colab": {
     "base_uri": "https://localhost:8080/",
     "height": 34
    },
    "colab_type": "code",
    "executionInfo": {
     "elapsed": 2374,
     "status": "ok",
     "timestamp": 1572933521400,
     "user": {
      "displayName": "bheem kumar",
      "photoUrl": "https://lh3.googleusercontent.com/a-/AAuE7mDCx24nBXj8t-exydQqWCz_3_2Fr8UREB6_UTXj=s64",
      "userId": "16514217920437432713"
     },
     "user_tz": -330
    },
    "id": "hr73hRbTE9bC",
    "outputId": "453925df-e99a-46b1-a3af-c64a3d3fe1e9"
   },
   "outputs": [
    {
     "name": "stdout",
     "output_type": "stream",
     "text": [
      "Output : [0, 1, 2, 3, 4, 5, 6, 7, 8]\n"
     ]
    }
   ],
   "source": [
    "\"\"\"\n",
    "\n",
    "Remove the last number of given list using built-in method 'pop()'.\n",
    "\n",
    "HINT:-POP() method take index to remove specified element.\n",
    "\n",
    "Input:--\n",
    "\n",
    "    list1 = [0, 1, 2, 3, 4, 5, 6, 7, 8, 9]\n",
    "\n",
    "Output:--\n",
    "    \n",
    "    [0, 1, 2, 3, 4, 5, 6, 7, 8]\n",
    "\n",
    "\"\"\"\n",
    "\n",
    "list1 =  [0, 1, 2, 3, 4, 5, 6, 7, 8, 9]\n",
    "list1.pop(len(list1)-1)\n",
    "print('Output :', list1)\n"
   ]
  },
  {
   "cell_type": "code",
   "execution_count": 16,
   "metadata": {
    "colab": {
     "base_uri": "https://localhost:8080/",
     "height": 34
    },
    "colab_type": "code",
    "executionInfo": {
     "elapsed": 2364,
     "status": "ok",
     "timestamp": 1572933521401,
     "user": {
      "displayName": "bheem kumar",
      "photoUrl": "https://lh3.googleusercontent.com/a-/AAuE7mDCx24nBXj8t-exydQqWCz_3_2Fr8UREB6_UTXj=s64",
      "userId": "16514217920437432713"
     },
     "user_tz": -330
    },
    "id": "s78AbjAEE9bG",
    "outputId": "74f7a5d8-a04f-44c6-ea5f-c58e7a6de5c7"
   },
   "outputs": [
    {
     "name": "stdout",
     "output_type": "stream",
     "text": [
      "Output : [0, 1, 2, 3, 5, 6, 7, 8, 9]\n"
     ]
    }
   ],
   "source": [
    "\"\"\"\n",
    "\n",
    "Remove the 5th number of given list using built-in method 'pop()'.\n",
    "\n",
    "HINT:-POP() method take index to remove specified element.\n",
    "\n",
    "Input:--\n",
    "    \n",
    "    list1 = [0, 1, 2, 3, 4, 5, 6, 7, 8, 9]\n",
    "\n",
    "Output:--\n",
    "    \n",
    "    [0, 1, 2, 3, 5, 6, 7, 8, 9]\n",
    "\n",
    "\"\"\"\n",
    "\n",
    "list1 =  [0, 1, 2, 3, 4, 5, 6, 7, 8, 9]\n",
    "list1.pop(4)\n",
    "print('Output :', list1)"
   ]
  },
  {
   "cell_type": "code",
   "execution_count": 17,
   "metadata": {
    "colab": {
     "base_uri": "https://localhost:8080/",
     "height": 34
    },
    "colab_type": "code",
    "executionInfo": {
     "elapsed": 2348,
     "status": "ok",
     "timestamp": 1572933521401,
     "user": {
      "displayName": "bheem kumar",
      "photoUrl": "https://lh3.googleusercontent.com/a-/AAuE7mDCx24nBXj8t-exydQqWCz_3_2Fr8UREB6_UTXj=s64",
      "userId": "16514217920437432713"
     },
     "user_tz": -330
    },
    "id": "T13xqpcgOr9j",
    "outputId": "ca7bd396-82a4-4e65-ab1d-5021ff02c889"
   },
   "outputs": [
    {
     "name": "stdout",
     "output_type": "stream",
     "text": [
      "Output : [1, 2, 3, 4, 5, 6, 7, 8, 9]\n"
     ]
    }
   ],
   "source": [
    "\"\"\"\n",
    "\n",
    "Remove the fisrt number of given list without using built-in method 'pop()'.\n",
    "\n",
    "Input:--\n",
    "    \n",
    "    list1 = [0, 1, 2, 3, 4, 5, 6, 7, 8, 9]\n",
    "\n",
    "Output:--\n",
    "    \n",
    "    [1, 2, 3, 4, 5, 6, 7, 8, 9]\n",
    "\n",
    "\"\"\"\n",
    "\n",
    "list1 =  [0, 1, 2, 3, 4, 5, 6, 7, 8, 9]\n",
    "list1 = list1[1:]\n",
    "print('Output :', list1)"
   ]
  },
  {
   "cell_type": "code",
   "execution_count": 18,
   "metadata": {
    "colab": {
     "base_uri": "https://localhost:8080/",
     "height": 34
    },
    "colab_type": "code",
    "executionInfo": {
     "elapsed": 2338,
     "status": "ok",
     "timestamp": 1572933521402,
     "user": {
      "displayName": "bheem kumar",
      "photoUrl": "https://lh3.googleusercontent.com/a-/AAuE7mDCx24nBXj8t-exydQqWCz_3_2Fr8UREB6_UTXj=s64",
      "userId": "16514217920437432713"
     },
     "user_tz": -330
    },
    "id": "eBSW7dQZE9bK",
    "outputId": "afd08c7d-8ceb-4f58-daf2-1b3ffb95e1e8"
   },
   "outputs": [
    {
     "name": "stdout",
     "output_type": "stream",
     "text": [
      "Output : [0, 1, 2, 3, 4, 5, 6, 7, 8]\n"
     ]
    }
   ],
   "source": [
    "\"\"\"\n",
    "\n",
    "Remove the last number of given list without using built-in method 'pop()'.\n",
    "\n",
    "Input:--\n",
    "    \n",
    "    list1 = [0, 1, 2, 3, 4, 5, 6, 7, 8, 9]\n",
    "\n",
    "Output:--\n",
    "    \n",
    "    [0, 1, 2, 3, 4, 5, 6, 7, 8]\n",
    "\n",
    "\"\"\"\n",
    "\n",
    "list1 =  [0, 1, 2, 3, 4, 5, 6, 7, 8, 9]\n",
    "list1 = list1[:len(list1)-1]\n",
    "print('Output :', list1)"
   ]
  },
  {
   "cell_type": "code",
   "execution_count": 19,
   "metadata": {
    "colab": {
     "base_uri": "https://localhost:8080/",
     "height": 34
    },
    "colab_type": "code",
    "executionInfo": {
     "elapsed": 2325,
     "status": "ok",
     "timestamp": 1572933521402,
     "user": {
      "displayName": "bheem kumar",
      "photoUrl": "https://lh3.googleusercontent.com/a-/AAuE7mDCx24nBXj8t-exydQqWCz_3_2Fr8UREB6_UTXj=s64",
      "userId": "16514217920437432713"
     },
     "user_tz": -330
    },
    "id": "qCqIDa-qPiQR",
    "outputId": "35c9d6b0-b3cf-4dbc-a54b-d30a1386a615"
   },
   "outputs": [
    {
     "name": "stdout",
     "output_type": "stream",
     "text": [
      "Output : [0, 1, 2, 3, 5, 6, 7, 8, 9]\n"
     ]
    }
   ],
   "source": [
    "\"\"\"\n",
    "\n",
    "Remove the 5th number of given list without using built-in method 'pop()'.\n",
    "\n",
    "Input:--\n",
    "    \n",
    "    list1 = [0, 1, 2, 3, 4, 5, 6, 7, 8, 9]\n",
    "\n",
    "Output:--\n",
    "    \n",
    "    [0, 1, 2, 3, 5, 6, 7, 8, 9]\n",
    "\n",
    "\"\"\"\n",
    "\n",
    "list1 =  [0, 1, 2, 3, 4, 5, 6, 7, 8, 9]\n",
    "list1 = list1[:4]+list1[5:]\n",
    "print('Output :', list1)"
   ]
  },
  {
   "cell_type": "code",
   "execution_count": 20,
   "metadata": {
    "colab": {
     "base_uri": "https://localhost:8080/",
     "height": 34
    },
    "colab_type": "code",
    "executionInfo": {
     "elapsed": 2315,
     "status": "ok",
     "timestamp": 1572933521403,
     "user": {
      "displayName": "bheem kumar",
      "photoUrl": "https://lh3.googleusercontent.com/a-/AAuE7mDCx24nBXj8t-exydQqWCz_3_2Fr8UREB6_UTXj=s64",
      "userId": "16514217920437432713"
     },
     "user_tz": -330
    },
    "id": "uaZAksHJSFqf",
    "outputId": "b345018a-0c82-4fb4-a954-ca5357f4a30a"
   },
   "outputs": [
    {
     "name": "stdout",
     "output_type": "stream",
     "text": [
      "Output : [0, 1, 2, 3, 4, 5, 6, 7, 9]\n"
     ]
    }
   ],
   "source": [
    "\"\"\"\n",
    "\n",
    "Remove the number 8 from given list using built-in method 'remove()'\n",
    "\n",
    "Input:--\n",
    "    \n",
    "    list1 = [0, 1, 2, 3, 4, 5, 6, 7, 8, 9]\n",
    "\n",
    "Output:--\n",
    "    \n",
    "    [0, 1, 2, 3, 5, 6, 7, 8, 9]\n",
    "\n",
    "\"\"\"\n",
    "\n",
    "list1 =  [0, 1, 2, 3, 4, 5, 6, 7, 8, 9]\n",
    "list1.remove(8)\n",
    "print('Output :', list1)"
   ]
  },
  {
   "cell_type": "code",
   "execution_count": 21,
   "metadata": {
    "colab": {
     "base_uri": "https://localhost:8080/",
     "height": 34
    },
    "colab_type": "code",
    "executionInfo": {
     "elapsed": 2302,
     "status": "ok",
     "timestamp": 1572933521403,
     "user": {
      "displayName": "bheem kumar",
      "photoUrl": "https://lh3.googleusercontent.com/a-/AAuE7mDCx24nBXj8t-exydQqWCz_3_2Fr8UREB6_UTXj=s64",
      "userId": "16514217920437432713"
     },
     "user_tz": -330
    },
    "id": "jSZoT-LjE9bP",
    "outputId": "1e281f0e-918f-4744-9531-6675abc59390"
   },
   "outputs": [
    {
     "name": "stdout",
     "output_type": "stream",
     "text": [
      "Output : ['jack', 25, 90, 2.0, 32]\n"
     ]
    }
   ],
   "source": [
    "\"\"\"\n",
    "\n",
    "Print first five elements of given list.\n",
    "\n",
    "Input:--\n",
    "    \n",
    "    list1 = ['jack', 25, 90, 2.0, 32, '$%^&', '32', 'str' ,int ,'#93slk']\n",
    "\n",
    "Output:--\n",
    "    \n",
    "    ['jack', 25, 90, 2.0, 32]\n",
    "\n",
    "\"\"\"\n",
    "\n",
    "list1 = ['jack', 25, 90, 2.0, 32, '$%^&', '32', 'str' ,'int' ,'#93slk']\n",
    "print('Output :', list1[:5])"
   ]
  },
  {
   "cell_type": "code",
   "execution_count": 22,
   "metadata": {
    "colab": {
     "base_uri": "https://localhost:8080/",
     "height": 34
    },
    "colab_type": "code",
    "executionInfo": {
     "elapsed": 2291,
     "status": "ok",
     "timestamp": 1572933521404,
     "user": {
      "displayName": "bheem kumar",
      "photoUrl": "https://lh3.googleusercontent.com/a-/AAuE7mDCx24nBXj8t-exydQqWCz_3_2Fr8UREB6_UTXj=s64",
      "userId": "16514217920437432713"
     },
     "user_tz": -330
    },
    "id": "Oeq97VsHE9bU",
    "outputId": "e546c95a-72f5-4f2d-a2a2-e63972714106"
   },
   "outputs": [
    {
     "name": "stdout",
     "output_type": "stream",
     "text": [
      "Output : ['$%^&', '32', 'str', 'int', '#93slk']\n"
     ]
    }
   ],
   "source": [
    "\"\"\"\n",
    "\n",
    "Print last five elements of given list.\n",
    "\n",
    "Input:--\n",
    "    \n",
    "    list1 = ['jack', 25, 90, 2.0, 32, '$%^&', '32', 'str' ,int ,'#93slk']\n",
    "\n",
    "Output:--\n",
    "    \n",
    "    ['$%^&', '32', 'str', 'int', '#93slk']\n",
    "\n",
    "\"\"\"\n",
    "\n",
    "list1 = ['jack', 25, 90, 2.0, 32, '$%^&', '32', 'str' ,'int' ,'#93slk']\n",
    "print('Output :', list1[-5:])"
   ]
  },
  {
   "cell_type": "code",
   "execution_count": 23,
   "metadata": {
    "colab": {
     "base_uri": "https://localhost:8080/",
     "height": 34
    },
    "colab_type": "code",
    "executionInfo": {
     "elapsed": 2277,
     "status": "ok",
     "timestamp": 1572933521404,
     "user": {
      "displayName": "bheem kumar",
      "photoUrl": "https://lh3.googleusercontent.com/a-/AAuE7mDCx24nBXj8t-exydQqWCz_3_2Fr8UREB6_UTXj=s64",
      "userId": "16514217920437432713"
     },
     "user_tz": -330
    },
    "id": "VLsvP55wE9bZ",
    "outputId": "e1197b7a-2b73-4c1e-f4f2-528c46a99fdc"
   },
   "outputs": [
    {
     "name": "stdout",
     "output_type": "stream",
     "text": [
      "Output : [90, 2.0, 32, '$%^&', '32']\n"
     ]
    }
   ],
   "source": [
    "\"\"\"\n",
    "\n",
    "Print five elements from 3rd position of given list.\n",
    "\n",
    "Input:--\n",
    "    \n",
    "    list1 = ['jack', 25, 90, 2.0, 32, '$%^&', '32', 'str' ,int ,'#93slk']\n",
    "\n",
    "Output:--\n",
    "    \n",
    "    [90, 2.0, 32, '$%^&', '32']\n",
    "\n",
    "\"\"\"\n",
    "\n",
    "list1 = ['jack', 25, 90, 2.0, 32, '$%^&', '32', 'str' ,'int' ,'#93slk']\n",
    "print('Output :', list1[2:2+5])"
   ]
  },
  {
   "cell_type": "code",
   "execution_count": 24,
   "metadata": {
    "colab": {
     "base_uri": "https://localhost:8080/",
     "height": 34
    },
    "colab_type": "code",
    "executionInfo": {
     "elapsed": 2266,
     "status": "ok",
     "timestamp": 1572933521405,
     "user": {
      "displayName": "bheem kumar",
      "photoUrl": "https://lh3.googleusercontent.com/a-/AAuE7mDCx24nBXj8t-exydQqWCz_3_2Fr8UREB6_UTXj=s64",
      "userId": "16514217920437432713"
     },
     "user_tz": -330
    },
    "id": "PdCZW27xE9be",
    "outputId": "ad2e40fb-17e1-4d8c-e6bd-fbaf28886b12"
   },
   "outputs": [
    {
     "name": "stdout",
     "output_type": "stream",
     "text": [
      "Output : ['Ronaldo', 'Ariyana', 'Rihan', 'Enrique', 'justin']\n"
     ]
    }
   ],
   "source": [
    "\"\"\"\n",
    "\n",
    "Replace first element with 'Ronaldo' of given list.\n",
    "\n",
    "Input:--\n",
    "    \n",
    "    list1 = ['Jack', 'Ariyana', 'Rihan', 'Enrique','justin']\n",
    "\n",
    "Output:--\n",
    "    \n",
    "    ['Ronaldo', 'Ariyana', 'Rihan', 'Enrique', 'justin']\n",
    "\n",
    "\"\"\"\n",
    "\n",
    "list1 = ['Jack', 'Ariyana', 'Rihan', 'Enrique','justin']\n",
    "list1 = ['Ronaldo'] + list1[1:]\n",
    "print('Output :', list1)"
   ]
  },
  {
   "cell_type": "code",
   "execution_count": 25,
   "metadata": {
    "colab": {
     "base_uri": "https://localhost:8080/",
     "height": 34
    },
    "colab_type": "code",
    "executionInfo": {
     "elapsed": 3148,
     "status": "ok",
     "timestamp": 1572933522299,
     "user": {
      "displayName": "bheem kumar",
      "photoUrl": "https://lh3.googleusercontent.com/a-/AAuE7mDCx24nBXj8t-exydQqWCz_3_2Fr8UREB6_UTXj=s64",
      "userId": "16514217920437432713"
     },
     "user_tz": -330
    },
    "id": "LZl5MHUhE9bk",
    "outputId": "5a330f39-7822-4e19-d901-272507c7b057"
   },
   "outputs": [
    {
     "name": "stdout",
     "output_type": "stream",
     "text": [
      "Output : ['Jack', 'Ariyana', 'Rihan', 'Enrique', 'Ronaldo']\n"
     ]
    }
   ],
   "source": [
    "\"\"\"\n",
    "\n",
    "Replace last element with 'Ronaldo' of given list.\n",
    "\n",
    "Input:--\n",
    "\n",
    "    list1 = ['Jack', 'Ariyana', 'Rihan', 'Enrique','justin']\n",
    "\n",
    "Output:--\n",
    "\n",
    "    ['Jack', 'Ariyana', 'Rihan', 'Enrique'd, 'Ronaldo']\n",
    "\n",
    "\"\"\"\n",
    "\n",
    "list1 = ['Jack', 'Ariyana', 'Rihan', 'Enrique','justin']\n",
    "list1 = list1[:4] + ['Ronaldo']\n",
    "print('Output :', list1)"
   ]
  },
  {
   "cell_type": "code",
   "execution_count": 26,
   "metadata": {
    "colab": {
     "base_uri": "https://localhost:8080/",
     "height": 34
    },
    "colab_type": "code",
    "executionInfo": {
     "elapsed": 3136,
     "status": "ok",
     "timestamp": 1572933522300,
     "user": {
      "displayName": "bheem kumar",
      "photoUrl": "https://lh3.googleusercontent.com/a-/AAuE7mDCx24nBXj8t-exydQqWCz_3_2Fr8UREB6_UTXj=s64",
      "userId": "16514217920437432713"
     },
     "user_tz": -330
    },
    "id": "urQtnjwjE9bq",
    "outputId": "6e4841e6-b7bd-474b-c479-35f0c23a4abd"
   },
   "outputs": [
    {
     "name": "stdout",
     "output_type": "stream",
     "text": [
      "Output : ['Jack', 'Ariyana', 'Ronaldo', 'Enrique', 'justin']\n"
     ]
    }
   ],
   "source": [
    "\"\"\"\n",
    "\n",
    "Replace the 3rd element with 'Ronaldo' of given list.\n",
    "\n",
    "Input:--\n",
    "\n",
    "    list1 = ['Jack', 'Ariyana', 'Rihan', 'Enrique','justin']\n",
    "\n",
    "Output:--\n",
    "    \n",
    "    ['Jack', 'Ariyana', 'Ronaldo', 'Enrique', 'justin']\n",
    "\n",
    "\"\"\"\n",
    "\n",
    "list1 = ['Jack', 'Ariyana', 'Rihan', 'Enrique','justin']\n",
    "list1 = list1[:2] + ['Ronaldo'] + list1[3:]\n",
    "print('Output :', list1)"
   ]
  },
  {
   "cell_type": "code",
   "execution_count": 27,
   "metadata": {
    "colab": {
     "base_uri": "https://localhost:8080/",
     "height": 34
    },
    "colab_type": "code",
    "executionInfo": {
     "elapsed": 3125,
     "status": "ok",
     "timestamp": 1572933522301,
     "user": {
      "displayName": "bheem kumar",
      "photoUrl": "https://lh3.googleusercontent.com/a-/AAuE7mDCx24nBXj8t-exydQqWCz_3_2Fr8UREB6_UTXj=s64",
      "userId": "16514217920437432713"
     },
     "user_tz": -330
    },
    "id": "AOHylmXOE9bu",
    "outputId": "6e368737-2281-4f5c-8212-a2a3cb62b434"
   },
   "outputs": [
    {
     "name": "stdout",
     "output_type": "stream",
     "text": [
      "Output : ['ronaldo', 'ronaldo', 'ronaldo', 'ronaldo', 'ronaldo']\n"
     ]
    }
   ],
   "source": [
    "\"\"\"\n",
    "\n",
    "Replace all elements with 'Ronaldo' of given list.\n",
    "\n",
    "Input:--\n",
    "    \n",
    "    list1 = ['Jack', 'Ariyana', 'Rihan', 'Enrique','justin']\n",
    "\n",
    "Output:--\n",
    "\n",
    "    ['ronaldo', 'ronaldo', 'ronaldo', 'ronaldo', 'ronaldo']\n",
    "\n",
    "\"\"\"\n",
    "\n",
    "list1 = ['Jack', 'Ariyana', 'Rihan', 'Enrique','justin']\n",
    "list1= ['ronaldo']*len(list1)\n",
    "print('Output :', list1)"
   ]
  },
  {
   "cell_type": "code",
   "execution_count": 28,
   "metadata": {
    "colab": {
     "base_uri": "https://localhost:8080/",
     "height": 34
    },
    "colab_type": "code",
    "executionInfo": {
     "elapsed": 3113,
     "status": "ok",
     "timestamp": 1572933522301,
     "user": {
      "displayName": "bheem kumar",
      "photoUrl": "https://lh3.googleusercontent.com/a-/AAuE7mDCx24nBXj8t-exydQqWCz_3_2Fr8UREB6_UTXj=s64",
      "userId": "16514217920437432713"
     },
     "user_tz": -330
    },
    "id": "SZ4O17WlE9bz",
    "outputId": "9b1cf723-8c05-4bbc-d2d7-b79ef79d18d6"
   },
   "outputs": [
    {
     "name": "stdout",
     "output_type": "stream",
     "text": [
      "Output : []\n"
     ]
    }
   ],
   "source": [
    "\"\"\"\n",
    "\n",
    "Remove all elements of given list.\n",
    "\n",
    "Input:--\n",
    "\n",
    "    list1 = ['Jack', 'Ariyana', 'Rihan', 'Enrique','justin']\n",
    "\n",
    "Output:--\n",
    "    \n",
    "    []\n",
    "\n",
    "\"\"\"\n",
    "\n",
    "list1 = ['Jack', 'Ariyana', 'Rihan', 'Enrique','justin']\n",
    "list1.clear()\n",
    "print('Output :', list1)"
   ]
  },
  {
   "cell_type": "code",
   "execution_count": 29,
   "metadata": {
    "colab": {
     "base_uri": "https://localhost:8080/",
     "height": 34
    },
    "colab_type": "code",
    "executionInfo": {
     "elapsed": 3103,
     "status": "ok",
     "timestamp": 1572933522302,
     "user": {
      "displayName": "bheem kumar",
      "photoUrl": "https://lh3.googleusercontent.com/a-/AAuE7mDCx24nBXj8t-exydQqWCz_3_2Fr8UREB6_UTXj=s64",
      "userId": "16514217920437432713"
     },
     "user_tz": -330
    },
    "id": "-FIFHXBME9b4",
    "outputId": "c46eaaaa-2a96-492f-f99c-3ad3591589f2"
   },
   "outputs": [
    {
     "name": "stdout",
     "output_type": "stream",
     "text": [
      "Output : 2\n"
     ]
    }
   ],
   "source": [
    "\"\"\"\n",
    "\n",
    "Find frequency of 32 in given list.\n",
    "\n",
    "Input:--\n",
    "    \n",
    "    list1 = [1, 2, 4, 3, 5, 43, 23, 4, 5, 4, 4, 32, 1, 32, 21]\n",
    "\n",
    "Output:--\n",
    "\n",
    "    2\n",
    "\n",
    "\"\"\"\n",
    "\n",
    "list1 = [1, 2, 4, 3, 5, 43, 23, 4, 5, 4, 4, 32, 1, 32, 21]\n",
    "print('Output :', list1.count(32))"
   ]
  },
  {
   "cell_type": "code",
   "execution_count": 30,
   "metadata": {
    "colab": {
     "base_uri": "https://localhost:8080/",
     "height": 34
    },
    "colab_type": "code",
    "executionInfo": {
     "elapsed": 3090,
     "status": "ok",
     "timestamp": 1572933522302,
     "user": {
      "displayName": "bheem kumar",
      "photoUrl": "https://lh3.googleusercontent.com/a-/AAuE7mDCx24nBXj8t-exydQqWCz_3_2Fr8UREB6_UTXj=s64",
      "userId": "16514217920437432713"
     },
     "user_tz": -330
    },
    "id": "IdCmABgiE9cE",
    "outputId": "1ca7597a-deea-4d50-ba2f-13d221ac217c"
   },
   "outputs": [
    {
     "name": "stdout",
     "output_type": "stream",
     "text": [
      "Output : 36\n"
     ]
    }
   ],
   "source": [
    "\"\"\"\n",
    "\n",
    "Print the sum of elements of given list.\n",
    "\n",
    "Input:--\n",
    "    \n",
    "    [1, 2, 3, 4, 5, 6, 7, 8]\n",
    "\n",
    "Output:--\n",
    "    \n",
    "     36\n",
    "\n",
    "\"\"\"\n",
    "\n",
    "list1 = [1, 2, 3, 4, 5, 6, 7, 8]\n",
    "print('Output :',sum(list1))"
   ]
  },
  {
   "cell_type": "code",
   "execution_count": 31,
   "metadata": {
    "colab": {
     "base_uri": "https://localhost:8080/",
     "height": 34
    },
    "colab_type": "code",
    "executionInfo": {
     "elapsed": 3086,
     "status": "ok",
     "timestamp": 1572933522303,
     "user": {
      "displayName": "bheem kumar",
      "photoUrl": "https://lh3.googleusercontent.com/a-/AAuE7mDCx24nBXj8t-exydQqWCz_3_2Fr8UREB6_UTXj=s64",
      "userId": "16514217920437432713"
     },
     "user_tz": -330
    },
    "id": "wQ3aQyFqE9cW",
    "outputId": "3a865145-04f4-4e0c-a367-c69bbacdb459"
   },
   "outputs": [
    {
     "name": "stdout",
     "output_type": "stream",
     "text": [
      "Output : ['Jack', 'Ariyana', 'Rihan', 'Enrique', 'justin', [0, 1, 2, 3, 4]]\n"
     ]
    }
   ],
   "source": [
    "\"\"\"\n",
    "\n",
    "Create a list within a list and print it.\n",
    "\n",
    "Inputs:--\n",
    "    \n",
    "    list1 = [0, 1, 2, 3, 4]\n",
    "    list2 =  ['Jack', 'Ariyana', 'Rihan', 'Enrique','justin']\n",
    "\n",
    "Output:--\n",
    "    \n",
    "    ['Jack', 'Ariyana', 'Rihan', 'Enrique', 'justin', [0, 1, 2, 3, 4]]\n",
    "\n",
    "\"\"\"\n",
    "\n",
    "list1 = [0, 1, 2, 3, 4]\n",
    "list2 = ['Jack', 'Ariyana', 'Rihan', 'Enrique','justin', list1]\n",
    "print('Output :', list2)"
   ]
  },
  {
   "cell_type": "code",
   "execution_count": 32,
   "metadata": {
    "colab": {
     "base_uri": "https://localhost:8080/",
     "height": 34
    },
    "colab_type": "code",
    "executionInfo": {
     "elapsed": 3080,
     "status": "ok",
     "timestamp": 1572933522303,
     "user": {
      "displayName": "bheem kumar",
      "photoUrl": "https://lh3.googleusercontent.com/a-/AAuE7mDCx24nBXj8t-exydQqWCz_3_2Fr8UREB6_UTXj=s64",
      "userId": "16514217920437432713"
     },
     "user_tz": -330
    },
    "id": "XucQPeFXE9ca",
    "outputId": "d1ec0243-24c8-40fe-d976-d7f5d3dcf1ad"
   },
   "outputs": [
    {
     "name": "stdout",
     "output_type": "stream",
     "text": [
      "Output : ['Jack', 'Ariyana', 'Rihan', 'Enrique', 'justin']\n"
     ]
    }
   ],
   "source": [
    "\"\"\"\n",
    "\n",
    "Remove the list1 from list2\n",
    "\n",
    "Inputs:--\n",
    "    \n",
    "    list1 = [0, 1, 2, 3, 4]\n",
    "    list2 = ['Jack', 'Ariyana', 'Rihan', 'Enrique', 'justin', [0, 1, 2, 3, 4]]\n",
    "\n",
    "Output:--\n",
    "    \n",
    "    ['Jack', 'Ariyana', 'Rihan', 'Enrique', 'justin']\n",
    "\n",
    "\"\"\"\n",
    "\n",
    "list1 = [0, 1, 2, 3, 4]\n",
    "list2 = ['Jack', 'Ariyana', 'Rihan', 'Enrique', 'justin', [0, 1, 2, 3, 4]]\n",
    "list2.remove(list1)\n",
    "print('Output :', list2)\n",
    "\n",
    "\n",
    "# Alternate way.\n",
    "\n",
    "# list2.remove([0, 1, 2, 3, 4])\n",
    "# list2.pop()\n",
    "# list2.pop(len(list2)-1)\n",
    "# list2 = list2[:-1]"
   ]
  },
  {
   "cell_type": "code",
   "execution_count": 33,
   "metadata": {
    "colab": {
     "base_uri": "https://localhost:8080/",
     "height": 34
    },
    "colab_type": "code",
    "executionInfo": {
     "elapsed": 3075,
     "status": "ok",
     "timestamp": 1572933522304,
     "user": {
      "displayName": "bheem kumar",
      "photoUrl": "https://lh3.googleusercontent.com/a-/AAuE7mDCx24nBXj8t-exydQqWCz_3_2Fr8UREB6_UTXj=s64",
      "userId": "16514217920437432713"
     },
     "user_tz": -330
    },
    "id": "LAToMA8nE9ce",
    "outputId": "3cf3360a-7d34-4ee6-874a-c44e3ac321c6"
   },
   "outputs": [
    {
     "name": "stdout",
     "output_type": "stream",
     "text": [
      "Output : [1, 1, 2, 3, 4, 4, 4, 4, 5, 5, 21, 23, 32, 32, 43]\n"
     ]
    }
   ],
   "source": [
    "\"\"\"\n",
    "\n",
    "Sort the given list in ascending order.\n",
    "\n",
    "Input:-- \n",
    "    \n",
    "    list1 = [1, 2, 4, 3, 5, 43, 23, 4, 5, 4, 4, 32, 1, 32, 21]\n",
    "\n",
    "Output:--\n",
    "    \n",
    "    [1, 1, 2, 3, 4, 4, 4, 4, 5, 5, 21, 23, 32, 32, 43]\n",
    "\n",
    "\"\"\"\n",
    "\n",
    "list1 = [1, 2, 4, 3, 5, 43, 23, 4, 5, 4, 4, 32, 1, 32, 21]\n",
    "list1.sort()\n",
    "print('Output :',list1)"
   ]
  },
  {
   "cell_type": "code",
   "execution_count": 34,
   "metadata": {
    "colab": {
     "base_uri": "https://localhost:8080/",
     "height": 34
    },
    "colab_type": "code",
    "executionInfo": {
     "elapsed": 3069,
     "status": "ok",
     "timestamp": 1572933522304,
     "user": {
      "displayName": "bheem kumar",
      "photoUrl": "https://lh3.googleusercontent.com/a-/AAuE7mDCx24nBXj8t-exydQqWCz_3_2Fr8UREB6_UTXj=s64",
      "userId": "16514217920437432713"
     },
     "user_tz": -330
    },
    "id": "qZQKl_q1E9ch",
    "outputId": "ee794ab6-b685-4cd5-ab6c-f065d0cec793"
   },
   "outputs": [
    {
     "name": "stdout",
     "output_type": "stream",
     "text": [
      "Output : [43, 32, 32, 23, 21, 5, 5, 4, 4, 4, 4, 3, 2, 1, 1]\n"
     ]
    }
   ],
   "source": [
    "\"\"\"\n",
    "\n",
    "Sort the given list in descending order.\n",
    "\n",
    "Input:--\n",
    "    \n",
    "    list1 = [1, 2, 4, 3, 5, 43, 23, 4, 5, 4, 4, 32, 1, 32, 21]\n",
    "\n",
    "Output:--\n",
    "    \n",
    "    [43, 32, 32, 23, 21, 5, 5, 4, 4, 4, 4, 3, 2, 1, 1]\n",
    "\n",
    "\"\"\"\n",
    "\n",
    "list1 = [1, 2, 4, 3, 5, 43, 23, 4, 5, 4, 4, 32, 1, 32, 21]\n",
    "list1.sort(reverse = True)\n",
    "print('Output :', list1)"
   ]
  },
  {
   "cell_type": "code",
   "execution_count": 35,
   "metadata": {
    "colab": {
     "base_uri": "https://localhost:8080/",
     "height": 34
    },
    "colab_type": "code",
    "executionInfo": {
     "elapsed": 3065,
     "status": "ok",
     "timestamp": 1572933522305,
     "user": {
      "displayName": "bheem kumar",
      "photoUrl": "https://lh3.googleusercontent.com/a-/AAuE7mDCx24nBXj8t-exydQqWCz_3_2Fr8UREB6_UTXj=s64",
      "userId": "16514217920437432713"
     },
     "user_tz": -330
    },
    "id": "SG-FR0W-E9ck",
    "outputId": "826d5fda-5d09-4607-9e53-71ecb47d0e7c"
   },
   "outputs": [
    {
     "name": "stdout",
     "output_type": "stream",
     "text": [
      "Output : ['Jack', 'Ariyana', 'Rihan', 'Enrique', 'justin']\n"
     ]
    }
   ],
   "source": [
    "\"\"\"\n",
    "\n",
    "Copy the given list to other list using built-in method 'copy'.\n",
    "\n",
    "Input:--\n",
    "    \n",
    "    ['Jack', 'Ariyana', 'Rihan', 'Enrique','justin']\n",
    "\n",
    "Output:--\n",
    "    \n",
    "    ['Jack', 'Ariyana', 'Rihan', 'Enrique','justin']\n",
    "\n",
    "\"\"\"\n",
    "\n",
    "list1 = ['Jack', 'Ariyana', 'Rihan', 'Enrique','justin']\n",
    "list2 = list1.copy()\n",
    "print('Output :', list2)"
   ]
  },
  {
   "cell_type": "code",
   "execution_count": 36,
   "metadata": {
    "colab": {
     "base_uri": "https://localhost:8080/",
     "height": 34
    },
    "colab_type": "code",
    "executionInfo": {
     "elapsed": 3059,
     "status": "ok",
     "timestamp": 1572933522307,
     "user": {
      "displayName": "bheem kumar",
      "photoUrl": "https://lh3.googleusercontent.com/a-/AAuE7mDCx24nBXj8t-exydQqWCz_3_2Fr8UREB6_UTXj=s64",
      "userId": "16514217920437432713"
     },
     "user_tz": -330
    },
    "id": "WhAQpU76E9cn",
    "outputId": "6a787545-284f-433d-920b-6bd46d8d0b32"
   },
   "outputs": [
    {
     "name": "stdout",
     "output_type": "stream",
     "text": [
      "Output : True\n"
     ]
    }
   ],
   "source": [
    "\"\"\"\n",
    "\n",
    "Compare the list1 with list2 to check whether both list are same or not.\n",
    "\n",
    "Inputs:--\n",
    "\n",
    "    list1 = ['Jack', 'Ariyana', 'Rihan', 'Enrique','justin']\n",
    "    list2 = ['Jack', 'Ariyana', 'Rihan', 'Enrique','justin']\n",
    "\n",
    "Output:--\n",
    "    \n",
    "    True\n",
    "\n",
    "\"\"\"\n",
    "\n",
    "list1 = ['Jack', 'Ariyana', 'Rihan', 'Enrique','justin']\n",
    "list2 = ['Jack', 'Ariyana', 'Rihan', 'Enrique','justin']\n",
    "print('Output :', list1==list2)"
   ]
  },
  {
   "cell_type": "code",
   "execution_count": 37,
   "metadata": {
    "colab": {
     "base_uri": "https://localhost:8080/",
     "height": 34
    },
    "colab_type": "code",
    "executionInfo": {
     "elapsed": 3054,
     "status": "ok",
     "timestamp": 1572933522308,
     "user": {
      "displayName": "bheem kumar",
      "photoUrl": "https://lh3.googleusercontent.com/a-/AAuE7mDCx24nBXj8t-exydQqWCz_3_2Fr8UREB6_UTXj=s64",
      "userId": "16514217920437432713"
     },
     "user_tz": -330
    },
    "id": "Wf-iL4y7E9cw",
    "outputId": "9d29d0bb-5c21-4b8f-8889-6e0103fff5f0"
   },
   "outputs": [
    {
     "name": "stdout",
     "output_type": "stream",
     "text": [
      "Output : False\n"
     ]
    }
   ],
   "source": [
    "\"\"\"\n",
    "\n",
    "Compare the list1 with list2 to check whether both list are same or not.\n",
    "\n",
    "Inputs:--\n",
    "    \n",
    "    list1 = ['Jack', 'Ariyana', 'Rihan', 'Enrique', 'justin']\n",
    "    list2 = ['Jack', 'Ariyana', 'Rihan', 'justin', 'Enrique']\n",
    "\n",
    "Output: False\n",
    "\n",
    "\"\"\"\n",
    "\n",
    "list1 = ['Jack', 'Ariyana', 'Rihan', 'Enrique', 'justin']\n",
    "list2 = ['Jack', 'Ariyana', 'Rihan', 'justin', 'Enrique']\n",
    "\n",
    "print('Output :', list1==list2)"
   ]
  },
  {
   "cell_type": "code",
   "execution_count": 38,
   "metadata": {
    "colab": {
     "base_uri": "https://localhost:8080/",
     "height": 34
    },
    "colab_type": "code",
    "executionInfo": {
     "elapsed": 3048,
     "status": "ok",
     "timestamp": 1572933522308,
     "user": {
      "displayName": "bheem kumar",
      "photoUrl": "https://lh3.googleusercontent.com/a-/AAuE7mDCx24nBXj8t-exydQqWCz_3_2Fr8UREB6_UTXj=s64",
      "userId": "16514217920437432713"
     },
     "user_tz": -330
    },
    "id": "pTaEtSLTE9c2",
    "outputId": "7c74ad1d-f8ef-4a79-b601-4aaedb4dcce6"
   },
   "outputs": [
    {
     "name": "stdout",
     "output_type": "stream",
     "text": [
      "Output : ['justin', 'Enrique', 'Rihan', 'Ariyana', 'Jack']\n"
     ]
    }
   ],
   "source": [
    "\"\"\"\n",
    "\n",
    "Print the given list in reverse order using built-in method 'reverse()'.\n",
    "\n",
    "Input:--\n",
    "    \n",
    "    list1 = ['Jack', 'Ariyana', 'Rihan', 'Enrique', 'justin']\n",
    "\n",
    "Output:\n",
    "    \n",
    "    ['Justin', 'Enrique', 'Rihan', 'Ariyana', 'Jack']\n",
    "\n",
    "\"\"\"\n",
    "\n",
    "list1 = ['Jack', 'Ariyana', 'Rihan', 'Enrique', 'justin']\n",
    "list1.reverse()\n",
    "print('Output :', list1)"
   ]
  },
  {
   "cell_type": "code",
   "execution_count": 39,
   "metadata": {
    "colab": {
     "base_uri": "https://localhost:8080/",
     "height": 34
    },
    "colab_type": "code",
    "executionInfo": {
     "elapsed": 3043,
     "status": "ok",
     "timestamp": 1572933522309,
     "user": {
      "displayName": "bheem kumar",
      "photoUrl": "https://lh3.googleusercontent.com/a-/AAuE7mDCx24nBXj8t-exydQqWCz_3_2Fr8UREB6_UTXj=s64",
      "userId": "16514217920437432713"
     },
     "user_tz": -330
    },
    "id": "3aquwPKGrmHv",
    "outputId": "d75806fc-ca68-43f7-cb49-c9c480d39e05"
   },
   "outputs": [
    {
     "name": "stdout",
     "output_type": "stream",
     "text": [
      "Output : ['justin', 'Enrique', 'Rihan', 'Ariyana', 'Jack']\n"
     ]
    }
   ],
   "source": [
    "\"\"\"\n",
    "\n",
    "Print the given list in reverse order without using built-in method 'reverse()'.\n",
    "\n",
    "Input:--\n",
    "    \n",
    "    list1 = ['Jack', 'Ariyana', 'Rihan', 'Enrique', 'justin']\n",
    "\n",
    "Output:\n",
    "    \n",
    "    ['justin', 'Enrique', 'Rihan', 'Ariyana', 'Jack']\n",
    "\n",
    "\"\"\"\n",
    "\n",
    "list1 = ['Jack', 'Ariyana', 'Rihan', 'Enrique', 'justin']\n",
    "print('Output :', list1[::-1])"
   ]
  },
  {
   "cell_type": "code",
   "execution_count": 40,
   "metadata": {
    "colab": {
     "base_uri": "https://localhost:8080/",
     "height": 34
    },
    "colab_type": "code",
    "executionInfo": {
     "elapsed": 3037,
     "status": "ok",
     "timestamp": 1572933522309,
     "user": {
      "displayName": "bheem kumar",
      "photoUrl": "https://lh3.googleusercontent.com/a-/AAuE7mDCx24nBXj8t-exydQqWCz_3_2Fr8UREB6_UTXj=s64",
      "userId": "16514217920437432713"
     },
     "user_tz": -330
    },
    "id": "mddN_8XO4RqV",
    "outputId": "7b978924-e04c-4834-c1a9-10c3c87218e7"
   },
   "outputs": [
    {
     "name": "stdout",
     "output_type": "stream",
     "text": [
      "Output : [1, 2, 3, 4, 5, 6, 7, 8, 9, 10]\n"
     ]
    }
   ],
   "source": [
    "\"\"\"\n",
    "\n",
    "Write a program to print 1 to 10 using list comprehensions.\n",
    "\n",
    "Output: \n",
    "\n",
    "    [1, 2, 3, 4, 5, 6, 7, 8, 9, 10]\n",
    "\n",
    "\"\"\"\n",
    "print('Output :', [i for i in range(1,11)])"
   ]
  },
  {
   "cell_type": "code",
   "execution_count": 41,
   "metadata": {
    "colab": {
     "base_uri": "https://localhost:8080/",
     "height": 34
    },
    "colab_type": "code",
    "executionInfo": {
     "elapsed": 3032,
     "status": "ok",
     "timestamp": 1572933522310,
     "user": {
      "displayName": "bheem kumar",
      "photoUrl": "https://lh3.googleusercontent.com/a-/AAuE7mDCx24nBXj8t-exydQqWCz_3_2Fr8UREB6_UTXj=s64",
      "userId": "16514217920437432713"
     },
     "user_tz": -330
    },
    "id": "960aHR1S5e_P",
    "outputId": "942bff81-9b8e-403f-e4be-b82e12989297"
   },
   "outputs": [
    {
     "name": "stdout",
     "output_type": "stream",
     "text": [
      "Output : [2, 4, 4, 6]\n"
     ]
    }
   ],
   "source": [
    "\"\"\"\n",
    "\n",
    "Write a program to print the even number of given list using list comprehensions.\n",
    "\n",
    "Input:--\n",
    "    \n",
    "    list1 = [1, 2, 3, 4, 4, 5, 6, 7, 7] \n",
    "\n",
    "Output:--\n",
    "    \n",
    "    [2, 4, 4, 6]\n",
    "\n",
    "\"\"\"\n",
    "\n",
    "list1 = [1, 2, 3, 4, 4, 5, 6, 7, 7]\n",
    "print('Output :', [var for var in list1 if var % 2 == 0])"
   ]
  },
  {
   "cell_type": "code",
   "execution_count": 42,
   "metadata": {
    "colab": {
     "base_uri": "https://localhost:8080/",
     "height": 34
    },
    "colab_type": "code",
    "executionInfo": {
     "elapsed": 3026,
     "status": "ok",
     "timestamp": 1572933522310,
     "user": {
      "displayName": "bheem kumar",
      "photoUrl": "https://lh3.googleusercontent.com/a-/AAuE7mDCx24nBXj8t-exydQqWCz_3_2Fr8UREB6_UTXj=s64",
      "userId": "16514217920437432713"
     },
     "user_tz": -330
    },
    "id": "AmJZZLKX7NGZ",
    "outputId": "9bb6acaf-df24-4e1c-ce86-0aede74812e0"
   },
   "outputs": [
    {
     "name": "stdout",
     "output_type": "stream",
     "text": [
      "Output : [1, 4, 9, 16, 16, 25, 36, 49, 49]\n"
     ]
    }
   ],
   "source": [
    "\"\"\"\n",
    "\n",
    "Write a program to print the squre of given list using list comprehensions.\n",
    "\n",
    "input:--\n",
    "\n",
    "    list1 = [1, 2, 3, 4, 4, 5, 6, 7, 7] \n",
    "\n",
    "Output:\n",
    "\n",
    "    [1, 4, 9, 16, 16, 25, 36, 49, 49]\n",
    "\n",
    "\"\"\"\n",
    "\n",
    "list1 = [1, 2, 3, 4, 4, 5, 6, 7, 7] \n",
    "\n",
    "print('Output :', [var**2 for var in list1])"
   ]
  },
  {
   "cell_type": "code",
   "execution_count": 43,
   "metadata": {
    "colab": {
     "base_uri": "https://localhost:8080/",
     "height": 34
    },
    "colab_type": "code",
    "executionInfo": {
     "elapsed": 3019,
     "status": "ok",
     "timestamp": 1572933522311,
     "user": {
      "displayName": "bheem kumar",
      "photoUrl": "https://lh3.googleusercontent.com/a-/AAuE7mDCx24nBXj8t-exydQqWCz_3_2Fr8UREB6_UTXj=s64",
      "userId": "16514217920437432713"
     },
     "user_tz": -330
    },
    "id": "w3FhJ_jqPUC9",
    "outputId": "5bb3f0a9-16fb-41cc-e26f-1633c99393cd"
   },
   "outputs": [
    {
     "name": "stdout",
     "output_type": "stream",
     "text": [
      "Output : [[0, 1, 2, 3, 4], [0, 1, 2, 3, 4], [0, 1, 2, 3, 4], [0, 1, 2, 3, 4], [0, 1, 2, 3, 4]]\n"
     ]
    }
   ],
   "source": [
    "\"\"\"\n",
    "Create a list of lists using nested list comprehensions.\n",
    "\n",
    "Output:--\n",
    "    \n",
    "    [[0, 1, 2, 3, 4], [0, 1, 2, 3, 4], [0, 1, 2, 3, 4], [0, 1, 2, 3, 4], [0, 1, 2, 3, 4]]\n",
    "\n",
    "\"\"\"\n",
    "\n",
    "print('Output :', [[i for i in range(5)] for j in range(5)])"
   ]
  },
  {
   "cell_type": "code",
   "execution_count": 44,
   "metadata": {
    "colab": {
     "base_uri": "https://localhost:8080/",
     "height": 34
    },
    "colab_type": "code",
    "executionInfo": {
     "elapsed": 3013,
     "status": "ok",
     "timestamp": 1572933522311,
     "user": {
      "displayName": "bheem kumar",
      "photoUrl": "https://lh3.googleusercontent.com/a-/AAuE7mDCx24nBXj8t-exydQqWCz_3_2Fr8UREB6_UTXj=s64",
      "userId": "16514217920437432713"
     },
     "user_tz": -330
    },
    "id": "8uJNe2xtAZna",
    "outputId": "7fd552a2-1e21-412e-8457-64d20d53e330"
   },
   "outputs": [
    {
     "name": "stdout",
     "output_type": "stream",
     "text": [
      "Output : [2, 3, 5, 7, 11, 13, 17, 19, 23, 29, 31, 37, 41, 43, 47, 53, 59, 61, 67, 71, 73, 79, 83, 89, 97]\n"
     ]
    }
   ],
   "source": [
    "\"\"\"\n",
    "\n",
    "Write a python code which print prime number between 1 to 100 using list comprehensions.\n",
    "\n",
    "Output:--\n",
    "    \n",
    "    [2, 3, 5, 7, 11, 13, 17, 19, 23, 29, 31, 37, 41, 43, 47, 53, 59, 61, 67, 71, 73, 79, 83, 89, 97]\n",
    "\n",
    "\"\"\"\n",
    "\n",
    "print('Output :', [ i for i in range(2,100) if(sum([j for j in range(2,i//2 + 1) if i%j==0]) == 0)])"
   ]
  }
 ],
 "metadata": {
  "colab": {
   "collapsed_sections": [],
   "name": "Python_list_1.ipynb",
   "provenance": []
  },
  "kernelspec": {
   "display_name": "Python 3",
   "language": "python",
   "name": "python3"
  },
  "language_info": {
   "codemirror_mode": {
    "name": "ipython",
    "version": 3
   },
   "file_extension": ".py",
   "mimetype": "text/x-python",
   "name": "python",
   "nbconvert_exporter": "python",
   "pygments_lexer": "ipython3",
   "version": "3.8.2"
  }
 },
 "nbformat": 4,
 "nbformat_minor": 1
}
